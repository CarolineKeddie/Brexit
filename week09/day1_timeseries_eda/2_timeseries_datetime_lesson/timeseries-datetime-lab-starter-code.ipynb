{
 "cells": [
  {
   "cell_type": "markdown",
   "metadata": {},
   "source": [
    "<img src=\"http://imgur.com/1ZcRyrc.png\" style=\"float: left; margin: 20px; height: 55px\">\n",
    "\n",
    "# Practice Using Timeseries Data and Datetime\n",
    "\n",
    "---"
   ]
  },
  {
   "cell_type": "markdown",
   "metadata": {},
   "source": [
    "This lab covers the basics of manipulating datetime objects and using datetimes in pandas."
   ]
  },
  {
   "cell_type": "markdown",
   "metadata": {
    "toc": true
   },
   "source": [
    "<h1>Lab Guide<span class=\"tocSkip\"></span></h1>\n",
    "<div class=\"toc\"><ul class=\"toc-item\"><li><span><a href=\"#Practice-Using-Timeseries-Data-and-Datetime\" data-toc-modified-id=\"Practice-Using-Timeseries-Data-and-Datetime-1\">Practice Using Timeseries Data and Datetime</a></span><ul class=\"toc-item\"><li><ul class=\"toc-item\"><li><span><a href=\"#1.-Create-a-datetime-object-representing-today's-date\" data-toc-modified-id=\"1.-Create-a-datetime-object-representing-today's-date-1.0.1\">1. Create a datetime object representing today's date</a></span></li><li><span><a href=\"#2.-Write-a-function-to-print-the-day-of-the-week-for-a-datetime-object.\" data-toc-modified-id=\"2.-Write-a-function-to-print-the-day-of-the-week-for-a-datetime-object.-1.0.2\">2. Write a function to print the day of the week for a datetime object.</a></span></li><li><span><a href=\"#3.-What-is-the-Gregorian-ordinal-representation-of-today's-date?-What-is-the-difference-in-days-between-the-ordinal-representation-of-today's-date-and-the-ordinal-representation-of-your-birthday?\" data-toc-modified-id=\"3.-What-is-the-Gregorian-ordinal-representation-of-today's-date?-What-is-the-difference-in-days-between-the-ordinal-representation-of-today's-date-and-the-ordinal-representation-of-your-birthday?-1.0.3\">3. What is the Gregorian ordinal representation of today's date? What is the difference in days between the ordinal representation of today's date and the ordinal representation of your birthday?</a></span></li><li><span><a href=\"#4.-Try-using-timedelta-to-shift-our-datetime-object-by-the-following-intervals:\" data-toc-modified-id=\"4.-Try-using-timedelta-to-shift-our-datetime-object-by-the-following-intervals:-1.0.4\">4. Try using <code>timedelta</code> to shift our datetime object by the following intervals:</a></span></li><li><span><a href=\"#5.-Load-the-stock-data-for-AAPL\" data-toc-modified-id=\"5.-Load-the-stock-data-for-AAPL-1.0.5\">5. Load the stock data for AAPL</a></span><ul class=\"toc-item\"><li><span><a href=\"#Load-the-data\" data-toc-modified-id=\"Load-the-data-1.0.5.1\">Load the data</a></span></li><li><span><a href=\"#Inspect-the-columns\" data-toc-modified-id=\"Inspect-the-columns-1.0.5.2\">Inspect the columns</a></span></li><li><span><a href=\"#Sort-the-rows-by-Date-in-ascending-order\" data-toc-modified-id=\"Sort-the-rows-by-Date-in-ascending-order-1.0.5.3\">Sort the rows by <code>Date</code> in ascending order</a></span></li></ul></li><li><span><a href=\"#6.-Take-a-high-level-look-at-the-data.-Describe-it.-What-are-we-looking-at?\" data-toc-modified-id=\"6.-Take-a-high-level-look-at-the-data.-Describe-it.-What-are-we-looking-at?-1.0.6\">6. Take a high-level look at the data. Describe it. What are we looking at?</a></span><ul class=\"toc-item\"><li><span><a href=\"#Plot-the-values-of-the-columns-Open,-Close,-High,-Low\" data-toc-modified-id=\"Plot-the-values-of-the-columns-Open,-Close,-High,-Low-1.0.6.1\">Plot the values of the columns <code>Open</code>, <code>Close</code>, <code>High</code>, <code>Low</code></a></span></li><li><span><a href=\"#Plot-the-values-in-the-column-Volume.\" data-toc-modified-id=\"Plot-the-values-in-the-column-Volume.-1.0.6.2\">Plot the values in the column <code>Volume</code>.</a></span></li><li><span><a href=\"#Check-the-type-of-the-individual-entries-in-the-Date-column.\" data-toc-modified-id=\"Check-the-type-of-the-individual-entries-in-the-Date-column.-1.0.6.3\">Check the type of the individual entries in the <code>Date</code> column.</a></span></li><li><span><a href=\"#Transform-the-Date-column-into-DateTime-format.\" data-toc-modified-id=\"Transform-the-Date-column-into-DateTime-format.-1.0.6.4\">Transform the <code>Date</code> column into DateTime format.</a></span></li></ul></li><li><span><a href=\"#7.-Make-the-Date-column-the-index-of-the-DataFrame.\" data-toc-modified-id=\"7.-Make-the-Date-column-the-index-of-the-DataFrame.-1.0.7\">7. Make the <code>Date</code> column the index of the DataFrame.</a></span></li><li><span><a href=\"#8.-Plot-the-data-again-using-panda's-now-that-you-have-a-datetime-index.\" data-toc-modified-id=\"8.-Plot-the-data-again-using-panda's-now-that-you-have-a-datetime-index.-1.0.8\">8. Plot the data again using panda's now that you have a datetime index.</a></span></li><li><span><a href=\"#9.-Add-columns-with-useful-data-extracted-from-the-DateTime-index\" data-toc-modified-id=\"9.-Add-columns-with-useful-data-extracted-from-the-DateTime-index-1.0.9\">9. Add columns with useful data extracted from the DateTime index</a></span></li><li><span><a href=\"#10.-Create-a-subset-of-the-data-containing-only-2017-dates\" data-toc-modified-id=\"10.-Create-a-subset-of-the-data-containing-only-2017-dates-1.0.10\">10. Create a subset of the data containing only 2017 dates</a></span></li><li><span><a href=\"#11.-Subset-the-data-on-those-dates-which-are-on-a-Tuesday.\" data-toc-modified-id=\"11.-Subset-the-data-on-those-dates-which-are-on-a-Tuesday.-1.0.11\">11. Subset the data on those dates which are on a Tuesday.</a></span></li><li><span><a href=\"#12.-Subset-the-data-on-those-dates-which-are-in-December.\" data-toc-modified-id=\"12.-Subset-the-data-on-those-dates-which-are-in-December.-1.0.12\">12. Subset the data on those dates which are in December.</a></span></li><li><span><a href=\"#13.-Subset-the-data-on-those-dates-which-are-before-12/01/2017.\" data-toc-modified-id=\"13.-Subset-the-data-on-those-dates-which-are-before-12/01/2017.-1.0.13\">13. Subset the data on those dates which are before 12/01/2017.</a></span></li><li><span><a href=\"#14.-Date-ranges\" data-toc-modified-id=\"14.-Date-ranges-1.0.14\">14. Date ranges</a></span></li></ul></li></ul></li></ul></div>"
   ]
  },
  {
   "cell_type": "code",
   "execution_count": 1,
   "metadata": {},
   "outputs": [],
   "source": [
    "import pandas as pd\n",
    "import numpy as np\n",
    "import matplotlib.pyplot as plt\n",
    "import seaborn as sns\n",
    " \n",
    "plt.style.use('fivethirtyeight')\n",
    "\n",
    "%config InlineBackend.figure_format = 'retina'\n",
    "%matplotlib inline"
   ]
  },
  {
   "cell_type": "code",
   "execution_count": 2,
   "metadata": {},
   "outputs": [],
   "source": [
    "from datetime import datetime\n",
    "from datetime import timedelta"
   ]
  },
  {
   "cell_type": "markdown",
   "metadata": {},
   "source": [
    "### 1. Create a datetime object representing today's date"
   ]
  },
  {
   "cell_type": "code",
   "execution_count": null,
   "metadata": {},
   "outputs": [],
   "source": []
  },
  {
   "cell_type": "markdown",
   "metadata": {},
   "source": [
    "### 2. Write a function to print the day of the week for a datetime object."
   ]
  },
  {
   "cell_type": "code",
   "execution_count": null,
   "metadata": {},
   "outputs": [],
   "source": []
  },
  {
   "cell_type": "markdown",
   "metadata": {},
   "source": [
    "### 3. What is the Gregorian ordinal representation of today's date? What is the difference in days between the ordinal representation of today's date and the ordinal representation of your birthday?\n",
    "\n",
    "> **Hint:** `.toordinal()` will get you the ordinal representation. The aim is to calculate the number of days between your birthday and today."
   ]
  },
  {
   "cell_type": "code",
   "execution_count": null,
   "metadata": {},
   "outputs": [],
   "source": []
  },
  {
   "cell_type": "markdown",
   "metadata": {},
   "source": [
    "### 4. Try using `timedelta` to shift our datetime object by the following intervals:\n",
    "- 1 hour ahead\n",
    "- 3 days ago\n",
    "- 1 year, 3 days, 2 seconds ahead"
   ]
  },
  {
   "cell_type": "code",
   "execution_count": null,
   "metadata": {},
   "outputs": [],
   "source": []
  },
  {
   "cell_type": "markdown",
   "metadata": {},
   "source": [
    "### 5. Load the stock data for AAPL\n",
    "\n",
    "\n",
    "- `Close`: The price of AAPL when the stock market closes (at 4:30pm ET)\n",
    "- `High`: The highest price of AAPL during that trading day\n",
    "- `Low`: The lowest price of AAPL during that trading day\n",
    "- `Open`: The price of AAPL when the stock market opens (at 9:30am ET)\n",
    "- `Volume`: How many shares of AAPL were traded that day"
   ]
  },
  {
   "cell_type": "code",
   "execution_count": 3,
   "metadata": {},
   "outputs": [],
   "source": [
    "from datetime import timedelta"
   ]
  },
  {
   "cell_type": "markdown",
   "metadata": {},
   "source": [
    "#### Load the data"
   ]
  },
  {
   "cell_type": "code",
   "execution_count": 4,
   "metadata": {},
   "outputs": [
    {
     "data": {
      "text/html": [
       "<div>\n",
       "<style scoped>\n",
       "    .dataframe tbody tr th:only-of-type {\n",
       "        vertical-align: middle;\n",
       "    }\n",
       "\n",
       "    .dataframe tbody tr th {\n",
       "        vertical-align: top;\n",
       "    }\n",
       "\n",
       "    .dataframe thead th {\n",
       "        text-align: right;\n",
       "    }\n",
       "</style>\n",
       "<table border=\"1\" class=\"dataframe\">\n",
       "  <thead>\n",
       "    <tr style=\"text-align: right;\">\n",
       "      <th></th>\n",
       "      <th>Date</th>\n",
       "      <th>Open</th>\n",
       "      <th>High</th>\n",
       "      <th>Low</th>\n",
       "      <th>Close</th>\n",
       "      <th>Volume</th>\n",
       "    </tr>\n",
       "  </thead>\n",
       "  <tbody>\n",
       "    <tr>\n",
       "      <th>0</th>\n",
       "      <td>2017-01-13</td>\n",
       "      <td>119.11</td>\n",
       "      <td>119.62</td>\n",
       "      <td>118.81</td>\n",
       "      <td>119.04</td>\n",
       "      <td>26111948</td>\n",
       "    </tr>\n",
       "    <tr>\n",
       "      <th>1</th>\n",
       "      <td>2017-01-12</td>\n",
       "      <td>118.90</td>\n",
       "      <td>119.30</td>\n",
       "      <td>118.21</td>\n",
       "      <td>119.25</td>\n",
       "      <td>27086220</td>\n",
       "    </tr>\n",
       "    <tr>\n",
       "      <th>2</th>\n",
       "      <td>2017-01-11</td>\n",
       "      <td>118.74</td>\n",
       "      <td>119.93</td>\n",
       "      <td>118.60</td>\n",
       "      <td>119.75</td>\n",
       "      <td>27588593</td>\n",
       "    </tr>\n",
       "    <tr>\n",
       "      <th>3</th>\n",
       "      <td>2017-01-10</td>\n",
       "      <td>118.77</td>\n",
       "      <td>119.38</td>\n",
       "      <td>118.30</td>\n",
       "      <td>119.11</td>\n",
       "      <td>24462051</td>\n",
       "    </tr>\n",
       "    <tr>\n",
       "      <th>4</th>\n",
       "      <td>2017-01-09</td>\n",
       "      <td>117.95</td>\n",
       "      <td>119.43</td>\n",
       "      <td>117.94</td>\n",
       "      <td>118.99</td>\n",
       "      <td>33561948</td>\n",
       "    </tr>\n",
       "  </tbody>\n",
       "</table>\n",
       "</div>"
      ],
      "text/plain": [
       "        Date    Open    High     Low   Close    Volume\n",
       "0 2017-01-13  119.11  119.62  118.81  119.04  26111948\n",
       "1 2017-01-12  118.90  119.30  118.21  119.25  27086220\n",
       "2 2017-01-11  118.74  119.93  118.60  119.75  27588593\n",
       "3 2017-01-10  118.77  119.38  118.30  119.11  24462051\n",
       "4 2017-01-09  117.95  119.43  117.94  118.99  33561948"
      ]
     },
     "execution_count": 4,
     "metadata": {},
     "output_type": "execute_result"
    }
   ],
   "source": [
    "df = pd.read_csv('./datasets/aapl.csv', parse_dates=['Date'])\n",
    "df.head()"
   ]
  },
  {
   "cell_type": "markdown",
   "metadata": {},
   "source": [
    "#### Inspect the columns"
   ]
  },
  {
   "cell_type": "code",
   "execution_count": null,
   "metadata": {},
   "outputs": [],
   "source": []
  },
  {
   "cell_type": "markdown",
   "metadata": {},
   "source": [
    "#### Sort the rows by `Date` in ascending order"
   ]
  },
  {
   "cell_type": "code",
   "execution_count": null,
   "metadata": {},
   "outputs": [],
   "source": []
  },
  {
   "cell_type": "markdown",
   "metadata": {},
   "source": [
    "### 6. Take a high-level look at the data. Describe it. What are we looking at? "
   ]
  },
  {
   "cell_type": "code",
   "execution_count": null,
   "metadata": {},
   "outputs": [],
   "source": []
  },
  {
   "cell_type": "markdown",
   "metadata": {},
   "source": [
    "#### Plot the values of the columns `Open`, `Close`, `High`, `Low`"
   ]
  },
  {
   "cell_type": "code",
   "execution_count": null,
   "metadata": {},
   "outputs": [],
   "source": []
  },
  {
   "cell_type": "markdown",
   "metadata": {},
   "source": [
    "#### Plot the values in the column `Volume`.\n",
    "\n",
    "Why would you not plot these values together with the ones of the other variables?"
   ]
  },
  {
   "cell_type": "code",
   "execution_count": null,
   "metadata": {},
   "outputs": [],
   "source": []
  },
  {
   "cell_type": "markdown",
   "metadata": {},
   "source": [
    "#### Check the type of the individual entries in the `Date` column."
   ]
  },
  {
   "cell_type": "code",
   "execution_count": null,
   "metadata": {},
   "outputs": [],
   "source": []
  },
  {
   "cell_type": "markdown",
   "metadata": {},
   "source": [
    "#### Transform the `Date` column into DateTime format."
   ]
  },
  {
   "cell_type": "code",
   "execution_count": null,
   "metadata": {},
   "outputs": [],
   "source": []
  },
  {
   "cell_type": "markdown",
   "metadata": {},
   "source": [
    "### 7. Make the `Date` column the index of the DataFrame.\n",
    "\n",
    "Making the index a datetime allows us to easily order the data by time. Doing this will result in dataframe objects indexed by DateTime - literally Time Series!"
   ]
  },
  {
   "cell_type": "code",
   "execution_count": 5,
   "metadata": {},
   "outputs": [],
   "source": [
    "#.set_index()"
   ]
  },
  {
   "cell_type": "code",
   "execution_count": null,
   "metadata": {},
   "outputs": [],
   "source": []
  },
  {
   "cell_type": "markdown",
   "metadata": {},
   "source": [
    "### 8. Plot the data again using panda's now that you have a datetime index.\n",
    "\n",
    "Which difference do you notice?"
   ]
  },
  {
   "cell_type": "code",
   "execution_count": null,
   "metadata": {},
   "outputs": [],
   "source": []
  },
  {
   "cell_type": "markdown",
   "metadata": {},
   "source": [
    "### 9. Add columns with useful data extracted from the DateTime index\n",
    "\n",
    "Make at least three columns, one for day, month, and year.\n"
   ]
  },
  {
   "cell_type": "code",
   "execution_count": null,
   "metadata": {},
   "outputs": [],
   "source": []
  },
  {
   "cell_type": "markdown",
   "metadata": {},
   "source": [
    "### 10. Create a subset of the data containing only 2017 dates"
   ]
  },
  {
   "cell_type": "code",
   "execution_count": null,
   "metadata": {},
   "outputs": [],
   "source": []
  },
  {
   "cell_type": "markdown",
   "metadata": {},
   "source": [
    "### 11. Subset the data on those dates which are on a Tuesday."
   ]
  },
  {
   "cell_type": "code",
   "execution_count": null,
   "metadata": {},
   "outputs": [],
   "source": []
  },
  {
   "cell_type": "markdown",
   "metadata": {},
   "source": [
    "### 12. Subset the data on those dates which are in December."
   ]
  },
  {
   "cell_type": "code",
   "execution_count": null,
   "metadata": {},
   "outputs": [],
   "source": []
  },
  {
   "cell_type": "markdown",
   "metadata": {},
   "source": [
    "### 13. Subset the data on those dates which are before 12/01/2017."
   ]
  },
  {
   "cell_type": "code",
   "execution_count": null,
   "metadata": {},
   "outputs": [],
   "source": []
  },
  {
   "cell_type": "markdown",
   "metadata": {},
   "source": [
    "### 14. Date ranges \n",
    "\n",
    "We can create our own date ranges using a built in function, `date_range`.\n",
    "The `periods` and `freq` keyword arguments grant the user finegrained control over the resulting values. To reset the time data, use the `normalize=True` attribute."
   ]
  },
  {
   "cell_type": "code",
   "execution_count": 6,
   "metadata": {},
   "outputs": [
    {
     "data": {
      "text/plain": [
       "DatetimeIndex(['2018-03-01', '2018-03-02', '2018-03-03', '2018-03-04',\n",
       "               '2018-03-05'],\n",
       "              dtype='datetime64[ns]', freq='D')"
      ]
     },
     "execution_count": 6,
     "metadata": {},
     "output_type": "execute_result"
    }
   ],
   "source": [
    "# specify a start and an end date\n",
    "index = pd.date_range(start='3/1/2018', end='6/1/2018', freq='D')\n",
    "index[:5]"
   ]
  },
  {
   "cell_type": "code",
   "execution_count": 7,
   "metadata": {},
   "outputs": [
    {
     "data": {
      "text/plain": [
       "DatetimeIndex(['2018-03-01', '2018-03-02', '2018-03-03', '2018-03-04',\n",
       "               '2018-03-05', '2018-03-06', '2018-03-07', '2018-03-08',\n",
       "               '2018-03-09', '2018-03-10', '2018-03-11', '2018-03-12',\n",
       "               '2018-03-13', '2018-03-14', '2018-03-15', '2018-03-16',\n",
       "               '2018-03-17', '2018-03-18', '2018-03-19', '2018-03-20'],\n",
       "              dtype='datetime64[ns]', freq='D')"
      ]
     },
     "execution_count": 7,
     "metadata": {},
     "output_type": "execute_result"
    }
   ],
   "source": [
    "# Specify a start point and how many periods after\n",
    "index = pd.date_range(start='3/1/2018', periods=20)\n",
    "index[:]"
   ]
  },
  {
   "cell_type": "code",
   "execution_count": 8,
   "metadata": {},
   "outputs": [
    {
     "data": {
      "text/plain": [
       "DatetimeIndex(['2018-05-13', '2018-05-14', '2018-05-15', '2018-05-16',\n",
       "               '2018-05-17', '2018-05-18', '2018-05-19', '2018-05-20',\n",
       "               '2018-05-21', '2018-05-22', '2018-05-23', '2018-05-24',\n",
       "               '2018-05-25', '2018-05-26', '2018-05-27', '2018-05-28',\n",
       "               '2018-05-29', '2018-05-30', '2018-05-31', '2018-06-01'],\n",
       "              dtype='datetime64[ns]', freq='D')"
      ]
     },
     "execution_count": 8,
     "metadata": {},
     "output_type": "execute_result"
    }
   ],
   "source": [
    "# Specify an end point and how many periods before\n",
    "index = pd.date_range(end='6/1/2018', periods=20)\n",
    "index[:]"
   ]
  },
  {
   "cell_type": "code",
   "execution_count": 9,
   "metadata": {},
   "outputs": [],
   "source": [
    "series = pd.Series(range(0,20), index=index)"
   ]
  },
  {
   "cell_type": "code",
   "execution_count": 10,
   "metadata": {},
   "outputs": [
    {
     "data": {
      "text/plain": [
       "2018-05-13    0\n",
       "2018-05-14    1\n",
       "2018-05-15    2\n",
       "2018-05-16    3\n",
       "2018-05-17    4\n",
       "Freq: D, dtype: int64"
      ]
     },
     "execution_count": 10,
     "metadata": {},
     "output_type": "execute_result"
    }
   ],
   "source": [
    "series.head()"
   ]
  },
  {
   "cell_type": "code",
   "execution_count": 11,
   "metadata": {},
   "outputs": [
    {
     "data": {
      "text/plain": [
       "DatetimeIndex(['2018-01-31', '2018-02-28', '2018-03-30', '2018-04-30',\n",
       "               '2018-05-31', '2018-06-29', '2018-07-31', '2018-08-31',\n",
       "               '2018-09-28', '2018-10-31', '2018-11-30'],\n",
       "              dtype='datetime64[ns]', freq='BM')"
      ]
     },
     "execution_count": 11,
     "metadata": {},
     "output_type": "execute_result"
    }
   ],
   "source": [
    "# Frequency specifying the length of the periods the default 'D' being daily.\n",
    "pd.date_range(start='1/1/2018', end='12/1/2018', freq='BM')"
   ]
  },
  {
   "cell_type": "code",
   "execution_count": 12,
   "metadata": {},
   "outputs": [
    {
     "data": {
      "text/plain": [
       "DatetimeIndex(['2018-03-07 12:56:31', '2018-03-08 12:56:31',\n",
       "               '2018-03-09 12:56:31', '2018-03-10 12:56:31',\n",
       "               '2018-03-11 12:56:31', '2018-03-12 12:56:31'],\n",
       "              dtype='datetime64[ns]', freq='D')"
      ]
     },
     "execution_count": 12,
     "metadata": {},
     "output_type": "execute_result"
    }
   ],
   "source": [
    "# Specify time more exactly\n",
    "pd.date_range(start='3/7/2018 12:56:31', periods=6)"
   ]
  },
  {
   "cell_type": "code",
   "execution_count": 13,
   "metadata": {},
   "outputs": [
    {
     "name": "stdout",
     "output_type": "stream",
     "text": [
      "2012-03-07 00:00:00\n",
      "Int64Index([2, 3, 4, 5, 6, 0], dtype='int64')\n"
     ]
    }
   ],
   "source": [
    "# Normalize creates normal daily times and will make the default time for each day midnight.\n",
    "timerange = pd.date_range(start='3/7/2012 12:56:31', periods=6, normalize=True)\n",
    "print(timerange[0])\n",
    "print(timerange.dayofweek)"
   ]
  },
  {
   "cell_type": "markdown",
   "metadata": {},
   "source": [
    "We are also given a Period object, which can be used to represent a time interval. The Period object consists of a start time and an end time, and can be created by providing a start time and a given frequency."
   ]
  },
  {
   "cell_type": "code",
   "execution_count": 14,
   "metadata": {},
   "outputs": [
    {
     "name": "stdout",
     "output_type": "stream",
     "text": [
      "2018-03-01 00:00:00\n",
      "2018-03-31 23:59:59.999999999\n",
      "5\n"
     ]
    }
   ],
   "source": [
    "# March 2018 was our start period, and the period frequency is months.\n",
    "march_2018 = pd.Period(value='2018-03', freq='M')\n",
    "\n",
    "print(march_2018.start_time)\n",
    "print(march_2018.end_time)\n",
    "print(march_2018.dayofweek)"
   ]
  },
  {
   "cell_type": "code",
   "execution_count": null,
   "metadata": {},
   "outputs": [],
   "source": []
  }
 ],
 "metadata": {
  "kernelspec": {
   "display_name": "Python [default]",
   "language": "python",
   "name": "python3"
  },
  "language_info": {
   "codemirror_mode": {
    "name": "ipython",
    "version": 3
   },
   "file_extension": ".py",
   "mimetype": "text/x-python",
   "name": "python",
   "nbconvert_exporter": "python",
   "pygments_lexer": "ipython3",
   "version": "3.6.4"
  },
  "toc": {
   "nav_menu": {},
   "number_sections": false,
   "sideBar": true,
   "skip_h1_title": false,
   "title_cell": "Lab Guide",
   "title_sidebar": "Contents",
   "toc_cell": true,
   "toc_position": {},
   "toc_section_display": true,
   "toc_window_display": false
  },
  "varInspector": {
   "cols": {
    "lenName": 16,
    "lenType": 16,
    "lenVar": 40
   },
   "kernels_config": {
    "python": {
     "delete_cmd_postfix": "",
     "delete_cmd_prefix": "del ",
     "library": "var_list.py",
     "varRefreshCmd": "print(var_dic_list())"
    },
    "r": {
     "delete_cmd_postfix": ") ",
     "delete_cmd_prefix": "rm(",
     "library": "var_list.r",
     "varRefreshCmd": "cat(var_dic_list()) "
    }
   },
   "types_to_exclude": [
    "module",
    "function",
    "builtin_function_or_method",
    "instance",
    "_Feature"
   ],
   "window_display": false
  }
 },
 "nbformat": 4,
 "nbformat_minor": 2
}
