{
 "cells": [
  {
   "cell_type": "markdown",
   "metadata": {},
   "source": [
    "<img src=\"http://imgur.com/1ZcRyrc.png\" style=\"float: left; margin: 20px; height: 55px\">\n",
    "\n",
    "# Resampling lab\n",
    "\n",
    "---\n"
   ]
  },
  {
   "cell_type": "markdown",
   "metadata": {
    "toc": true
   },
   "source": [
    "<h1>Lab Guide<span class=\"tocSkip\"></span></h1>\n",
    "<div class=\"toc\"><ul class=\"toc-item\"><li><span><a href=\"#Resampling-lab\" data-toc-modified-id=\"Resampling-lab-1\">Resampling lab</a></span><ul class=\"toc-item\"><li><ul class=\"toc-item\"><li><span><a href=\"#Load-the-AAPL-data-from-the-datasets-folder\" data-toc-modified-id=\"Load-the-AAPL-data-from-the-datasets-folder-1.0.1\">Load the AAPL data from the datasets folder</a></span></li><li><span><a href=\"#Sort-the-rows-by-Date-in-ascending-order\" data-toc-modified-id=\"Sort-the-rows-by-Date-in-ascending-order-1.0.2\">Sort the rows by <code>Date</code> in ascending order</a></span></li><li><span><a href=\"#Transform-the-Date-column-into-DateTime-format.\" data-toc-modified-id=\"Transform-the-Date-column-into-DateTime-format.-1.0.3\">Transform the <code>Date</code> column into DateTime format.</a></span></li><li><span><a href=\"#Make-the-Date-column-the-index-of-the-DataFrame.\" data-toc-modified-id=\"Make-the-Date-column-the-index-of-the-DataFrame.-1.0.4\">Make the <code>Date</code> column the index of the DataFrame.</a></span></li><li><span><a href=\"#Resample-the-time-series-to-report-weekly-or-annual-means.\" data-toc-modified-id=\"Resample-the-time-series-to-report-weekly-or-annual-means.-1.0.5\">Resample the time series to report weekly or annual means.</a></span></li><li><span><a href=\"#Plot-the-timeseries-of-weekly-resampled-means-for-'Open','High','Low','Close'-and-compare-to-the-original-timeseries.\" data-toc-modified-id=\"Plot-the-timeseries-of-weekly-resampled-means-for-'Open','High','Low','Close'-and-compare-to-the-original-timeseries.-1.0.6\">Plot the timeseries of weekly resampled means for <code>'Open','High','Low','Close'</code> and compare to the original timeseries.</a></span></li><li><span><a href=\"#Rolling-windows\" data-toc-modified-id=\"Rolling-windows-1.0.7\">Rolling windows</a></span><ul class=\"toc-item\"><li><span><a href=\"#Test-different-window-sizes-and-frequencies.\" data-toc-modified-id=\"Test-different-window-sizes-and-frequencies.-1.0.7.1\">Test different window sizes and frequencies.</a></span></li><li><span><a href=\"#Plot-the-time-series-across-the-moving-window\" data-toc-modified-id=\"Plot-the-time-series-across-the-moving-window-1.0.7.2\">Plot the time series across the moving window</a></span></li></ul></li><li><span><a href=\"#Use-.diff()-to-calculate-changes-in-values-from-day-to-day\" data-toc-modified-id=\"Use-.diff()-to-calculate-changes-in-values-from-day-to-day-1.0.8\">Use <code>.diff()</code> to calculate changes in values from day to day</a></span></li><li><span><a href=\"#What-is-the-difference-between-applying-.diff(2)-and-.diff().diff()?\" data-toc-modified-id=\"What-is-the-difference-between-applying-.diff(2)-and-.diff().diff()?-1.0.9\">What is the difference between applying <code>.diff(2)</code> and <code>.diff().diff()</code>?</a></span></li><li><span><a href=\"#Use-df.pct_change()-to-calculate-percent-changes-from-day-to-day\" data-toc-modified-id=\"Use-df.pct_change()-to-calculate-percent-changes-from-day-to-day-1.0.10\">Use <code>df.pct_change()</code> to calculate percent changes from day to day</a></span></li><li><span><a href=\"#Shifting\" data-toc-modified-id=\"Shifting-1.0.11\">Shifting</a></span></li><li><span><a href=\"#Undoing-differencing\" data-toc-modified-id=\"Undoing-differencing-1.0.12\">Undoing differencing</a></span></li></ul></li></ul></li></ul></div>"
   ]
  },
  {
   "cell_type": "code",
   "execution_count": 1,
   "metadata": {},
   "outputs": [],
   "source": [
    "import pandas as pd\n",
    "import numpy as np\n",
    "import matplotlib.pyplot as plt\n",
    "import seaborn as sns\n",
    " \n",
    "plt.style.use('fivethirtyeight')\n",
    "\n",
    "%config InlineBackend.figure_format = 'retina'\n",
    "%matplotlib inline"
   ]
  },
  {
   "cell_type": "markdown",
   "metadata": {},
   "source": [
    "### Load the AAPL data from the datasets folder\n",
    "\n",
    "\n",
    "- `Close`: The price of AAPL when the stock market closes (at 4:30pm ET)\n",
    "- `High`: The highest price of AAPL during that trading day\n",
    "- `Low`: The lowest price of AAPL during that trading day\n",
    "- `Open`: The price of AAPL when the stock market opens (at 9:30am ET)\n",
    "- `Volume`: How many shares of AAPL were traded that day"
   ]
  },
  {
   "cell_type": "code",
   "execution_count": 2,
   "metadata": {},
   "outputs": [
    {
     "data": {
      "text/html": [
       "<div>\n",
       "<style scoped>\n",
       "    .dataframe tbody tr th:only-of-type {\n",
       "        vertical-align: middle;\n",
       "    }\n",
       "\n",
       "    .dataframe tbody tr th {\n",
       "        vertical-align: top;\n",
       "    }\n",
       "\n",
       "    .dataframe thead th {\n",
       "        text-align: right;\n",
       "    }\n",
       "</style>\n",
       "<table border=\"1\" class=\"dataframe\">\n",
       "  <thead>\n",
       "    <tr style=\"text-align: right;\">\n",
       "      <th></th>\n",
       "      <th>Date</th>\n",
       "      <th>Open</th>\n",
       "      <th>High</th>\n",
       "      <th>Low</th>\n",
       "      <th>Close</th>\n",
       "      <th>Volume</th>\n",
       "    </tr>\n",
       "  </thead>\n",
       "  <tbody>\n",
       "    <tr>\n",
       "      <th>0</th>\n",
       "      <td>2017-01-13</td>\n",
       "      <td>119.11</td>\n",
       "      <td>119.62</td>\n",
       "      <td>118.81</td>\n",
       "      <td>119.04</td>\n",
       "      <td>26111948</td>\n",
       "    </tr>\n",
       "    <tr>\n",
       "      <th>1</th>\n",
       "      <td>2017-01-12</td>\n",
       "      <td>118.90</td>\n",
       "      <td>119.30</td>\n",
       "      <td>118.21</td>\n",
       "      <td>119.25</td>\n",
       "      <td>27086220</td>\n",
       "    </tr>\n",
       "    <tr>\n",
       "      <th>2</th>\n",
       "      <td>2017-01-11</td>\n",
       "      <td>118.74</td>\n",
       "      <td>119.93</td>\n",
       "      <td>118.60</td>\n",
       "      <td>119.75</td>\n",
       "      <td>27588593</td>\n",
       "    </tr>\n",
       "    <tr>\n",
       "      <th>3</th>\n",
       "      <td>2017-01-10</td>\n",
       "      <td>118.77</td>\n",
       "      <td>119.38</td>\n",
       "      <td>118.30</td>\n",
       "      <td>119.11</td>\n",
       "      <td>24462051</td>\n",
       "    </tr>\n",
       "    <tr>\n",
       "      <th>4</th>\n",
       "      <td>2017-01-09</td>\n",
       "      <td>117.95</td>\n",
       "      <td>119.43</td>\n",
       "      <td>117.94</td>\n",
       "      <td>118.99</td>\n",
       "      <td>33561948</td>\n",
       "    </tr>\n",
       "  </tbody>\n",
       "</table>\n",
       "</div>"
      ],
      "text/plain": [
       "        Date    Open    High     Low   Close    Volume\n",
       "0 2017-01-13  119.11  119.62  118.81  119.04  26111948\n",
       "1 2017-01-12  118.90  119.30  118.21  119.25  27086220\n",
       "2 2017-01-11  118.74  119.93  118.60  119.75  27588593\n",
       "3 2017-01-10  118.77  119.38  118.30  119.11  24462051\n",
       "4 2017-01-09  117.95  119.43  117.94  118.99  33561948"
      ]
     },
     "execution_count": 2,
     "metadata": {},
     "output_type": "execute_result"
    }
   ],
   "source": [
    "df = pd.read_csv('./datasets/aapl.csv', parse_dates=['Date'])\n",
    "df.head()"
   ]
  },
  {
   "cell_type": "markdown",
   "metadata": {},
   "source": [
    "### Sort the rows by `Date` in ascending order"
   ]
  },
  {
   "cell_type": "code",
   "execution_count": null,
   "metadata": {},
   "outputs": [],
   "source": []
  },
  {
   "cell_type": "markdown",
   "metadata": {},
   "source": [
    "### Transform the `Date` column into DateTime format."
   ]
  },
  {
   "cell_type": "code",
   "execution_count": null,
   "metadata": {},
   "outputs": [],
   "source": []
  },
  {
   "cell_type": "markdown",
   "metadata": {},
   "source": [
    "### Make the `Date` column the index of the DataFrame.\n",
    "\n",
    "Making the index a datetime allows us to easily order the data by time. Doing this will result in dataframe objects indexed by DateTime - literally Time Series!"
   ]
  },
  {
   "cell_type": "code",
   "execution_count": null,
   "metadata": {},
   "outputs": [],
   "source": []
  },
  {
   "cell_type": "markdown",
   "metadata": {},
   "source": [
    "### Resample the time series to report weekly or annual means.\n",
    "\n",
    "Applying `.resample(freq)` to a pandas timeseries with a specified frequency, e.g. `'W'` or `'A'`, followed by an aggregation function like `.mean()`, creates aggregates across the indicated frequency (similar to `group by`)."
   ]
  },
  {
   "cell_type": "code",
   "execution_count": 3,
   "metadata": {},
   "outputs": [],
   "source": [
    "#df.resample('W').mean()"
   ]
  },
  {
   "cell_type": "code",
   "execution_count": null,
   "metadata": {},
   "outputs": [],
   "source": []
  },
  {
   "cell_type": "markdown",
   "metadata": {},
   "source": [
    "### Plot the timeseries of weekly resampled means for `'Open','High','Low','Close'` and compare to the original timeseries."
   ]
  },
  {
   "cell_type": "code",
   "execution_count": null,
   "metadata": {},
   "outputs": [],
   "source": []
  },
  {
   "cell_type": "markdown",
   "metadata": {},
   "source": [
    "### Rolling windows"
   ]
  },
  {
   "cell_type": "markdown",
   "metadata": {},
   "source": [
    "You can specify window sizes like\n",
    "\n",
    "`df.rolling(window=7).mean()`\n",
    "\n",
    "or \n",
    "\n",
    "`df.rolling(window='5D').mean()`."
   ]
  },
  {
   "cell_type": "markdown",
   "metadata": {},
   "source": [
    "\n",
    "The window function has the following parameters:\n",
    "\n",
    "- **`window`** indicates the number of days to include in the average.\n",
    "- **`center`** indicates whether the window should be centered on the date or use data prior to that date.\n",
    "- **`freq`** indicates which level to roll the averages up to (as used in **`resample`**): **`D`** for day, **`M`** for month, **`A`** for year, etc.\n",
    "\n",
    "> **Note:** For more information, see Pandas' [resample documentation](http://stackoverflow.com/questions/17001389/pandas-resample-documentation)."
   ]
  },
  {
   "cell_type": "markdown",
   "metadata": {},
   "source": [
    "#### Test different window sizes and frequencies. \n",
    "\n",
    "- Why are there missing values?\n",
    "- Test the different options for `center`."
   ]
  },
  {
   "cell_type": "code",
   "execution_count": 4,
   "metadata": {},
   "outputs": [],
   "source": [
    "# df.rolling(window=7).mean()"
   ]
  },
  {
   "cell_type": "code",
   "execution_count": 5,
   "metadata": {},
   "outputs": [],
   "source": [
    "#df.rolling(window='5D').mean()"
   ]
  },
  {
   "cell_type": "markdown",
   "metadata": {},
   "source": [
    "#### Plot the time series across the moving window"
   ]
  },
  {
   "cell_type": "code",
   "execution_count": null,
   "metadata": {},
   "outputs": [],
   "source": []
  },
  {
   "cell_type": "markdown",
   "metadata": {},
   "source": [
    "### Use `.diff()` to calculate changes in values from day to day\n",
    "\n",
    "- Why do you get missing values?\n",
    "- Plot the resulting time series. Compare to the original time series."
   ]
  },
  {
   "cell_type": "code",
   "execution_count": null,
   "metadata": {},
   "outputs": [],
   "source": []
  },
  {
   "cell_type": "markdown",
   "metadata": {},
   "source": [
    "### What is the difference between applying `.diff(2)` and `.diff().diff()`?"
   ]
  },
  {
   "cell_type": "code",
   "execution_count": null,
   "metadata": {},
   "outputs": [],
   "source": []
  },
  {
   "cell_type": "markdown",
   "metadata": {},
   "source": [
    "### Use `df.pct_change()` to calculate percent changes from day to day\n",
    "\n",
    "- Plot the resulting time series. Compare to the original time series."
   ]
  },
  {
   "cell_type": "code",
   "execution_count": null,
   "metadata": {},
   "outputs": [],
   "source": []
  },
  {
   "cell_type": "markdown",
   "metadata": {},
   "source": [
    "### Shifting\n",
    "\n",
    "`df.shift()` is used to bring values from previous dates forward in time.\n",
    "\n",
    "- How is that different from `.diff()`?"
   ]
  },
  {
   "cell_type": "code",
   "execution_count": null,
   "metadata": {},
   "outputs": [],
   "source": []
  },
  {
   "cell_type": "markdown",
   "metadata": {},
   "source": [
    "### Undoing differencing\n",
    "\n",
    "What would you do to reobtain the original time series after having applied `.diff()`?"
   ]
  },
  {
   "cell_type": "code",
   "execution_count": null,
   "metadata": {},
   "outputs": [],
   "source": []
  }
 ],
 "metadata": {
  "kernelspec": {
   "display_name": "Python [default]",
   "language": "python",
   "name": "python3"
  },
  "language_info": {
   "codemirror_mode": {
    "name": "ipython",
    "version": 3
   },
   "file_extension": ".py",
   "mimetype": "text/x-python",
   "name": "python",
   "nbconvert_exporter": "python",
   "pygments_lexer": "ipython3",
   "version": "3.6.4"
  },
  "toc": {
   "nav_menu": {},
   "number_sections": false,
   "sideBar": true,
   "skip_h1_title": false,
   "title_cell": "Lab Guide",
   "title_sidebar": "Contents",
   "toc_cell": true,
   "toc_position": {
    "height": "calc(100% - 180px)",
    "left": "10px",
    "top": "150px",
    "width": "233px"
   },
   "toc_section_display": true,
   "toc_window_display": false
  },
  "varInspector": {
   "cols": {
    "lenName": 16,
    "lenType": 16,
    "lenVar": 40
   },
   "kernels_config": {
    "python": {
     "delete_cmd_postfix": "",
     "delete_cmd_prefix": "del ",
     "library": "var_list.py",
     "varRefreshCmd": "print(var_dic_list())"
    },
    "r": {
     "delete_cmd_postfix": ") ",
     "delete_cmd_prefix": "rm(",
     "library": "var_list.r",
     "varRefreshCmd": "cat(var_dic_list()) "
    }
   },
   "types_to_exclude": [
    "module",
    "function",
    "builtin_function_or_method",
    "instance",
    "_Feature"
   ],
   "window_display": false
  }
 },
 "nbformat": 4,
 "nbformat_minor": 2
}
