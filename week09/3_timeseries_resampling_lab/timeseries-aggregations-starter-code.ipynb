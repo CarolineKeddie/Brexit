{
 "cells": [
  {
   "cell_type": "markdown",
   "metadata": {},
   "source": [
    "<img src=\"http://imgur.com/1ZcRyrc.png\" style=\"float: left; margin: 20px; height: 55px\">\n",
    "\n",
    "# Time series aggregation\n",
    "\n",
    "\n",
    "---"
   ]
  },
  {
   "cell_type": "markdown",
   "metadata": {},
   "source": [
    "### Learning Objectives\n",
    "\n",
    "- \"Rolling\" statistics through time, such as the rolling mean.\n",
    "- Exponentially weighted statistics.\n",
    "- Autocorrelation and partial autocorrelation."
   ]
  },
  {
   "cell_type": "code",
   "execution_count": 1,
   "metadata": {},
   "outputs": [],
   "source": [
    "import pandas as pd\n",
    "import numpy as np\n",
    "import matplotlib.pyplot as plt\n",
    "import seaborn as sns\n",
    "import datetime\n",
    "\n",
    "plt.style.use('fivethirtyeight')\n",
    "\n",
    "%matplotlib inline\n",
    "%config InlineBackend.figure_format = 'retina'"
   ]
  },
  {
   "cell_type": "markdown",
   "metadata": {},
   "source": [
    "<a id=\"load-the-unemployment-data\"></a>\n",
    "<a id=\"load-the-unemployment-data\"></a>\n",
    "## Load the Unemployment Data\n",
    "---\n",
    "\n",
    "This is historical quarterly data regarding unemployment rates in the United States. First, perform any necessary cleaning."
   ]
  },
  {
   "cell_type": "code",
   "execution_count": 2,
   "metadata": {},
   "outputs": [],
   "source": [
    "data = pd.read_csv('../../../../resource-datasets/unemployment_timeseries/seasonally-adjusted-quarterly-us.csv')"
   ]
  },
  {
   "cell_type": "code",
   "execution_count": 3,
   "metadata": {},
   "outputs": [
    {
     "data": {
      "text/html": [
       "<div>\n",
       "<style scoped>\n",
       "    .dataframe tbody tr th:only-of-type {\n",
       "        vertical-align: middle;\n",
       "    }\n",
       "\n",
       "    .dataframe tbody tr th {\n",
       "        vertical-align: top;\n",
       "    }\n",
       "\n",
       "    .dataframe thead th {\n",
       "        text-align: right;\n",
       "    }\n",
       "</style>\n",
       "<table border=\"1\" class=\"dataframe\">\n",
       "  <thead>\n",
       "    <tr style=\"text-align: right;\">\n",
       "      <th></th>\n",
       "      <th>Quarter</th>\n",
       "      <th>Seasonally adjusted quarterly U.S. unemployment rates from 1948 to 1993</th>\n",
       "    </tr>\n",
       "  </thead>\n",
       "  <tbody>\n",
       "    <tr>\n",
       "      <th>0</th>\n",
       "      <td>1948Q1</td>\n",
       "      <td>3.733%</td>\n",
       "    </tr>\n",
       "    <tr>\n",
       "      <th>1</th>\n",
       "      <td>1948Q2</td>\n",
       "      <td>3.667%</td>\n",
       "    </tr>\n",
       "    <tr>\n",
       "      <th>2</th>\n",
       "      <td>1948Q3</td>\n",
       "      <td>3.767%</td>\n",
       "    </tr>\n",
       "    <tr>\n",
       "      <th>3</th>\n",
       "      <td>1948Q4</td>\n",
       "      <td>3.833%</td>\n",
       "    </tr>\n",
       "    <tr>\n",
       "      <th>4</th>\n",
       "      <td>1949Q1</td>\n",
       "      <td>4.667%</td>\n",
       "    </tr>\n",
       "  </tbody>\n",
       "</table>\n",
       "</div>"
      ],
      "text/plain": [
       "  Quarter  \\\n",
       "0  1948Q1   \n",
       "1  1948Q2   \n",
       "2  1948Q3   \n",
       "3  1948Q4   \n",
       "4  1949Q1   \n",
       "\n",
       "  Seasonally adjusted quarterly U.S. unemployment rates from 1948 to 1993  \n",
       "0                                             3.733%                       \n",
       "1                                             3.667%                       \n",
       "2                                             3.767%                       \n",
       "3                                             3.833%                       \n",
       "4                                             4.667%                       "
      ]
     },
     "execution_count": 3,
     "metadata": {},
     "output_type": "execute_result"
    }
   ],
   "source": [
    "data.head()"
   ]
  },
  {
   "cell_type": "markdown",
   "metadata": {},
   "source": [
    "### Rename the columns\n",
    "\n",
    "Shorter names than the original ones could be good."
   ]
  },
  {
   "cell_type": "code",
   "execution_count": null,
   "metadata": {},
   "outputs": [],
   "source": []
  },
  {
   "cell_type": "markdown",
   "metadata": {},
   "source": [
    "### Clean the unemployment rate column\n",
    "\n",
    "Remove the percentage sign and transform to float."
   ]
  },
  {
   "cell_type": "code",
   "execution_count": null,
   "metadata": {},
   "outputs": [],
   "source": []
  },
  {
   "cell_type": "markdown",
   "metadata": {},
   "source": [
    "## Create a Datetime Index\n",
    "---\n",
    "\n",
    "This is quarterly data, so converting to datetime is a bit complicated.\n",
    "\n",
    "- First transform the column with the yearly quarters to datetime.\n",
    "- Then use `.dt.to_period('Q')` to represent the string as a datetime object.\n",
    "- Finally, set this datetime column as the index."
   ]
  },
  {
   "cell_type": "code",
   "execution_count": 4,
   "metadata": {},
   "outputs": [],
   "source": [
    "#pd.to_datetime(data.date).dt.to_period('Q')"
   ]
  },
  {
   "cell_type": "markdown",
   "metadata": {},
   "source": [
    "## Visually Examine the Unemployment Rate\n",
    "---\n",
    "\n",
    "Plot the unemployment rate."
   ]
  },
  {
   "cell_type": "code",
   "execution_count": null,
   "metadata": {},
   "outputs": [],
   "source": []
  },
  {
   "cell_type": "markdown",
   "metadata": {},
   "source": [
    "<a id=\"rolling-functions\"></a>\n",
    "<a id=\"rolling-functions\"></a>\n",
    "## \"Rolling\" Functions\n",
    "---\n",
    "\n",
    "With time series, we can \"roll\" statistics across time. For example, the rolling mean is the mean of a moving window across time periods. Pandas offers a variety of functionalities for creating rolling statistics, which we'll only scratch the surface of here. \n",
    "\n",
    "The syntax for these can be a little tricky at first. We'll be using a `rolling()` function with a statistical function chained to it. Let's dive into more detail.\n",
    "\n",
    "<a id=\"parameters-for-rolling-functions\"></a>\n",
    "<a id=\"parameters-for-rolling-functions\"></a>\n",
    "### Parameters for `rolling()` Functions\n",
    "\n",
    "**`rolling().mean()`** (as well as **`rolling().median()`**) can take the following parameters:\n",
    "\n",
    "- The first indicates the time series to aggregate.\n",
    "- **`window`** indicates the number of days to include in the average.\n",
    "- **`center`** indicates whether the window should be centered on the date or use data prior to that date.\n",
    "- **`freq`** indicates which level to roll the averages up to (as used in **`resample`**): **`D`** for day, **`M`** for month, **`A`** for year, etc.\n",
    "\n",
    "> **Note:** For more information, see Pandas' [resample documentation](http://stackoverflow.com/questions/17001389/pandas-resample-documentation)."
   ]
  },
  {
   "cell_type": "markdown",
   "metadata": {},
   "source": [
    "#### Resample annually using the mean for aggregation. Plot and compare to the original time series."
   ]
  },
  {
   "cell_type": "code",
   "execution_count": null,
   "metadata": {},
   "outputs": [],
   "source": []
  },
  {
   "cell_type": "markdown",
   "metadata": {},
   "source": [
    "**Extract the dates from the index as timestamps.**\n",
    "\n",
    "> *Hint: The `.to_timestamp()` function allows you to extract the timestamps.*"
   ]
  },
  {
   "cell_type": "code",
   "execution_count": 5,
   "metadata": {},
   "outputs": [],
   "source": [
    "#date_ticks_orig = data.index.to_timestamp()\n",
    "#date_ticks_roll = yearly.index.to_timestamp()"
   ]
  },
  {
   "cell_type": "markdown",
   "metadata": {},
   "source": [
    "#### Use matplotlib to plot your time series.\n",
    "\n",
    "- Choose the time series as y-values and the timestamp-indices extracted in the last part as x-values.\n",
    "- Plot both, the original timeseries and the one averaged over the windows."
   ]
  },
  {
   "cell_type": "code",
   "execution_count": null,
   "metadata": {},
   "outputs": [],
   "source": []
  },
  {
   "cell_type": "markdown",
   "metadata": {},
   "source": [
    "#### Resample annually and calculate the rolling mean of years with `window=3`  without centering."
   ]
  },
  {
   "cell_type": "code",
   "execution_count": null,
   "metadata": {},
   "outputs": [],
   "source": []
  },
  {
   "cell_type": "markdown",
   "metadata": {},
   "source": [
    "#### Calculate the rolling median with `window=5` and `window=15`. Plot both together."
   ]
  },
  {
   "cell_type": "code",
   "execution_count": null,
   "metadata": {},
   "outputs": [],
   "source": []
  },
  {
   "cell_type": "markdown",
   "metadata": {},
   "source": [
    "## The Expanding Mean\n",
    "---\n",
    "\n",
    "The \"expanding mean\" uses all data points up to the current time to calculate the mean, as opposed to a moving window.\n",
    "\n",
    "#### Calculate and plot the expanding mean below. Resample by quarter.\n",
    "\n",
    "Use \n",
    "\n",
    "`data.unemployment_rate.resample('Q').sum().expanding().mean()`."
   ]
  },
  {
   "cell_type": "code",
   "execution_count": null,
   "metadata": {},
   "outputs": [],
   "source": []
  },
  {
   "cell_type": "markdown",
   "metadata": {},
   "source": [
    "<a id=\"exponentially-weighted-windows\"></a>\n",
    "<a id=\"exponentially-weighted-windows\"></a>\n",
    "## Exponentially Weighted Windows\n",
    "---\n",
    "\n",
    "Exponentially weighted windows are one of the most common and effective ways of averaging out noise in time series data. The averaging is done with an \"exponential decay\" on the contribution of prior means, decreasing the contribution of time points that are further in the past.\n",
    "\n",
    "The (adjusted) exponentially weighted mean for time $t$, is defined as:\n",
    "\n",
    "$$ x_t = \\frac{x_t + (1 - \\alpha)x_{t-1} + (1 - \\alpha)^2x_{t-2} + ... + (1 - \\alpha)^{t}x_0} {1 + (1 - \\alpha) + (1 - \\alpha)^2 + ... + (1 - \\alpha)^{t}} $$\n",
    "\n",
    "> **Note:** Review Pandas' [documentation](http://pandas.pydata.org/pandas-docs/stable/computation.html#exponentially-weighted-windows) for more information."
   ]
  },
  {
   "cell_type": "markdown",
   "metadata": {},
   "source": [
    "#### Calculate and plot the exponentially weighted sum along with the rolling sum. What is the difference?\n",
    "\n",
    "For example: `.resample('Q').sum().ewm(span=10).mean()`.\n",
    "\n",
    "- Find out what `span` does."
   ]
  },
  {
   "cell_type": "code",
   "execution_count": null,
   "metadata": {},
   "outputs": [],
   "source": []
  }
 ],
 "metadata": {
  "kernelspec": {
   "display_name": "Python [conda env:anaconda3]",
   "language": "python",
   "name": "conda-env-anaconda3-py"
  },
  "language_info": {
   "codemirror_mode": {
    "name": "ipython",
    "version": 3
   },
   "file_extension": ".py",
   "mimetype": "text/x-python",
   "name": "python",
   "nbconvert_exporter": "python",
   "pygments_lexer": "ipython3",
   "version": "3.6.4"
  },
  "toc": {
   "nav_menu": {},
   "number_sections": false,
   "sideBar": true,
   "skip_h1_title": true,
   "title_cell": "Table of Contents",
   "title_sidebar": "Contents",
   "toc_cell": false,
   "toc_position": {},
   "toc_section_display": true,
   "toc_window_display": false
  }
 },
 "nbformat": 4,
 "nbformat_minor": 2
}
