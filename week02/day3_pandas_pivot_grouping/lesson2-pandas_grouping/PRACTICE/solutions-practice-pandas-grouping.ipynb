{
 "cells": [
  {
   "cell_type": "markdown",
   "metadata": {},
   "source": [
    "<img src=\"http://imgur.com/1ZcRyrc.png\" style=\"float: left; margin: 20px; height: 55px\">\n",
    "\n",
    "## Practice Grouping Data with Pandas\n",
    "\n",
    "_Answers by Eleanor Koller_\n",
    "\n",
    "---\n",
    "\n",
    "You are going to investigate UFO sightings around the US.  This lab will give you practice performing `groupby` operations to split data along multiple dimensions and investigate patterns between subsets of the data using basic aggregation.\n"
   ]
  },
  {
   "cell_type": "code",
   "execution_count": 59,
   "metadata": {},
   "outputs": [],
   "source": [
    "import pandas as pd\n",
    "import numpy as np\n",
    "import seaborn as sns\n",
    "import matplotlib.pyplot as plt\n",
    "sns.set_style('whitegrid')\n",
    "\n",
    "%matplotlib inline\n",
    "%config InlineBackend.figure_format ='retina'"
   ]
  },
  {
   "cell_type": "markdown",
   "metadata": {},
   "source": [
    "#### 1. Load and print the header for the UFO data."
   ]
  },
  {
   "cell_type": "code",
   "execution_count": 60,
   "metadata": {},
   "outputs": [],
   "source": [
    "ufo_csv = './datasets/ufo.csv'"
   ]
  },
  {
   "cell_type": "code",
   "execution_count": 61,
   "metadata": {},
   "outputs": [],
   "source": [
    "# A:\n",
    "UFOdf=pd.read_csv(ufo_csv)"
   ]
  },
  {
   "cell_type": "code",
   "execution_count": 62,
   "metadata": {},
   "outputs": [
    {
     "data": {
      "text/html": [
       "<div>\n",
       "<style scoped>\n",
       "    .dataframe tbody tr th:only-of-type {\n",
       "        vertical-align: middle;\n",
       "    }\n",
       "\n",
       "    .dataframe tbody tr th {\n",
       "        vertical-align: top;\n",
       "    }\n",
       "\n",
       "    .dataframe thead th {\n",
       "        text-align: right;\n",
       "    }\n",
       "</style>\n",
       "<table border=\"1\" class=\"dataframe\">\n",
       "  <thead>\n",
       "    <tr style=\"text-align: right;\">\n",
       "      <th></th>\n",
       "      <th>City</th>\n",
       "      <th>Colors Reported</th>\n",
       "      <th>Shape Reported</th>\n",
       "      <th>State</th>\n",
       "      <th>Time</th>\n",
       "    </tr>\n",
       "  </thead>\n",
       "  <tbody>\n",
       "    <tr>\n",
       "      <th>0</th>\n",
       "      <td>Ithaca</td>\n",
       "      <td>NaN</td>\n",
       "      <td>TRIANGLE</td>\n",
       "      <td>NY</td>\n",
       "      <td>6/1/1930 22:00</td>\n",
       "    </tr>\n",
       "    <tr>\n",
       "      <th>1</th>\n",
       "      <td>Willingboro</td>\n",
       "      <td>NaN</td>\n",
       "      <td>OTHER</td>\n",
       "      <td>NJ</td>\n",
       "      <td>6/30/1930 20:00</td>\n",
       "    </tr>\n",
       "    <tr>\n",
       "      <th>2</th>\n",
       "      <td>Holyoke</td>\n",
       "      <td>NaN</td>\n",
       "      <td>OVAL</td>\n",
       "      <td>CO</td>\n",
       "      <td>2/15/1931 14:00</td>\n",
       "    </tr>\n",
       "    <tr>\n",
       "      <th>3</th>\n",
       "      <td>Abilene</td>\n",
       "      <td>NaN</td>\n",
       "      <td>DISK</td>\n",
       "      <td>KS</td>\n",
       "      <td>6/1/1931 13:00</td>\n",
       "    </tr>\n",
       "    <tr>\n",
       "      <th>4</th>\n",
       "      <td>New York Worlds Fair</td>\n",
       "      <td>NaN</td>\n",
       "      <td>LIGHT</td>\n",
       "      <td>NY</td>\n",
       "      <td>4/18/1933 19:00</td>\n",
       "    </tr>\n",
       "  </tbody>\n",
       "</table>\n",
       "</div>"
      ],
      "text/plain": [
       "                   City Colors Reported Shape Reported State             Time\n",
       "0                Ithaca             NaN       TRIANGLE    NY   6/1/1930 22:00\n",
       "1           Willingboro             NaN          OTHER    NJ  6/30/1930 20:00\n",
       "2               Holyoke             NaN           OVAL    CO  2/15/1931 14:00\n",
       "3               Abilene             NaN           DISK    KS   6/1/1931 13:00\n",
       "4  New York Worlds Fair             NaN          LIGHT    NY  4/18/1933 19:00"
      ]
     },
     "execution_count": 62,
     "metadata": {},
     "output_type": "execute_result"
    }
   ],
   "source": [
    "UFOdf.head()"
   ]
  },
  {
   "cell_type": "markdown",
   "metadata": {},
   "source": [
    "#### 2. How many null values exist per column?"
   ]
  },
  {
   "cell_type": "code",
   "execution_count": 63,
   "metadata": {},
   "outputs": [
    {
     "data": {
      "text/plain": [
       "City                  47\n",
       "Colors Reported    63509\n",
       "Shape Reported      8402\n",
       "State                  0\n",
       "Time                   0\n",
       "dtype: int64"
      ]
     },
     "execution_count": 63,
     "metadata": {},
     "output_type": "execute_result"
    }
   ],
   "source": [
    "# A:\n",
    "UFOdf.isnull().sum()"
   ]
  },
  {
   "cell_type": "code",
   "execution_count": 64,
   "metadata": {},
   "outputs": [
    {
     "data": {
      "text/plain": [
       "(80543, 5)"
      ]
     },
     "execution_count": 64,
     "metadata": {},
     "output_type": "execute_result"
    }
   ],
   "source": [
    "UFOdf.shape"
   ]
  },
  {
   "cell_type": "markdown",
   "metadata": {},
   "source": [
    "#### 3. Which city has the most observations?"
   ]
  },
  {
   "cell_type": "code",
   "execution_count": 65,
   "metadata": {},
   "outputs": [
    {
     "data": {
      "text/plain": [
       "Seattle          646\n",
       "New York City    612\n",
       "Phoenix          533\n",
       "Las Vegas        442\n",
       "Portland         438\n",
       "Los Angeles      416\n",
       "San Diego        401\n",
       "Houston          340\n",
       "Name: City, dtype: int64"
      ]
     },
     "execution_count": 65,
     "metadata": {},
     "output_type": "execute_result"
    }
   ],
   "source": [
    "#we can use .value_counts() for this question:\n",
    "UFOdf['City'].value_counts().head(8)"
   ]
  },
  {
   "cell_type": "code",
   "execution_count": 66,
   "metadata": {},
   "outputs": [
    {
     "data": {
      "text/plain": [
       "'Seattle'"
      ]
     },
     "execution_count": 66,
     "metadata": {},
     "output_type": "execute_result"
    }
   ],
   "source": [
    "#we can ask 'what index corresponds to the maximum value?' using .idxmax()\n",
    "UFOdf['City'].value_counts().idxmax()"
   ]
  },
  {
   "cell_type": "code",
   "execution_count": 67,
   "metadata": {},
   "outputs": [
    {
     "data": {
      "text/plain": [
       "'Seattle'"
      ]
     },
     "execution_count": 67,
     "metadata": {},
     "output_type": "execute_result"
    }
   ],
   "source": [
    "#or we know that .value_counts() will always give us the biggest count first, \n",
    "#so we can take the first index\n",
    "UFOdf['City'].value_counts().index[0]"
   ]
  },
  {
   "cell_type": "code",
   "execution_count": 68,
   "metadata": {},
   "outputs": [
    {
     "data": {
      "text/plain": [
       "City\n",
       "((HOAX??))                        1\n",
       "((Unspecified location))          1\n",
       "(City not specified)              1\n",
       "(above mountains in airplane)     1\n",
       "Abbeville                         7\n",
       "Aberdeen                         21\n",
       "Abilene                          34\n",
       "Abingdon                         15\n",
       "dtype: int64"
      ]
     },
     "execution_count": 68,
     "metadata": {},
     "output_type": "execute_result"
    }
   ],
   "source": [
    "#OR, instead of .value_counts(), we can use .groupby().size() \n",
    "#but this doesn't return the counts in order of size\n",
    "UFOdf.groupby('City').size().head(8)"
   ]
  },
  {
   "cell_type": "code",
   "execution_count": 69,
   "metadata": {},
   "outputs": [
    {
     "data": {
      "text/plain": [
       "City\n",
       "Seattle          646\n",
       "New York City    612\n",
       "Phoenix          533\n",
       "Las Vegas        442\n",
       "Portland         438\n",
       "Los Angeles      416\n",
       "San Diego        401\n",
       "Houston          340\n",
       "dtype: int64"
      ]
     },
     "execution_count": 69,
     "metadata": {},
     "output_type": "execute_result"
    }
   ],
   "source": [
    "#you can order the .size() result with .sort_values()\n",
    "UFOdf.groupby('City').size().sort_values(ascending=False).head(8)"
   ]
  },
  {
   "cell_type": "code",
   "execution_count": 70,
   "metadata": {
    "slideshow": {
     "slide_type": "subslide"
    }
   },
   "outputs": [
    {
     "data": {
      "text/plain": [
       "'Seattle'"
      ]
     },
     "execution_count": 70,
     "metadata": {},
     "output_type": "execute_result"
    }
   ],
   "source": [
    "#or, as before, we can use .idxmax()\n",
    "UFOdf.groupby('City').size().idxmax()"
   ]
  },
  {
   "cell_type": "markdown",
   "metadata": {},
   "source": [
    "#### 4. What is the observation count per shape?"
   ]
  },
  {
   "cell_type": "code",
   "execution_count": 71,
   "metadata": {},
   "outputs": [
    {
     "data": {
      "text/plain": [
       "LIGHT        16332\n",
       "TRIANGLE      7816\n",
       "CIRCLE        7725\n",
       "FIREBALL      6249\n",
       "OTHER         5506\n",
       "SPHERE        5231\n",
       "DISK          5226\n",
       "OVAL          3721\n",
       "FORMATION     2405\n",
       "CIGAR         1983\n",
       "VARIOUS       1957\n",
       "FLASH         1329\n",
       "RECTANGLE     1295\n",
       "CYLINDER      1252\n",
       "DIAMOND       1152\n",
       "CHEVRON        940\n",
       "EGG            733\n",
       "TEARDROP       723\n",
       "CONE           310\n",
       "CROSS          241\n",
       "DELTA            7\n",
       "CRESCENT         2\n",
       "ROUND            2\n",
       "HEXAGON          1\n",
       "PYRAMID          1\n",
       "FLARE            1\n",
       "DOME             1\n",
       "Name: Shape Reported, dtype: int64"
      ]
     },
     "execution_count": 71,
     "metadata": {},
     "output_type": "execute_result"
    }
   ],
   "source": [
    "#we can use .value_counts() for this\n",
    "UFOdf['Shape Reported'].value_counts()"
   ]
  },
  {
   "cell_type": "code",
   "execution_count": 72,
   "metadata": {},
   "outputs": [
    {
     "data": {
      "text/plain": [
       "Shape Reported\n",
       "CHEVRON        940\n",
       "CIGAR         1983\n",
       "CIRCLE        7725\n",
       "CONE           310\n",
       "CRESCENT         2\n",
       "CROSS          241\n",
       "CYLINDER      1252\n",
       "DELTA            7\n",
       "DIAMOND       1152\n",
       "DISK          5226\n",
       "DOME             1\n",
       "EGG            733\n",
       "FIREBALL      6249\n",
       "FLARE            1\n",
       "FLASH         1329\n",
       "FORMATION     2405\n",
       "HEXAGON          1\n",
       "LIGHT        16332\n",
       "OTHER         5506\n",
       "OVAL          3721\n",
       "PYRAMID          1\n",
       "RECTANGLE     1295\n",
       "ROUND            2\n",
       "SPHERE        5231\n",
       "TEARDROP       723\n",
       "TRIANGLE      7816\n",
       "VARIOUS       1957\n",
       "dtype: int64"
      ]
     },
     "execution_count": 72,
     "metadata": {},
     "output_type": "execute_result"
    }
   ],
   "source": [
    "#or we can use .size(), but it won't be in order\n",
    "UFOdf.groupby('Shape Reported').size()"
   ]
  },
  {
   "cell_type": "code",
   "execution_count": 73,
   "metadata": {},
   "outputs": [
    {
     "data": {
      "text/plain": [
       "Shape Reported\n",
       "LIGHT        16332\n",
       "TRIANGLE      7816\n",
       "CIRCLE        7725\n",
       "FIREBALL      6249\n",
       "OTHER         5506\n",
       "SPHERE        5231\n",
       "DISK          5226\n",
       "OVAL          3721\n",
       "FORMATION     2405\n",
       "CIGAR         1983\n",
       "VARIOUS       1957\n",
       "FLASH         1329\n",
       "RECTANGLE     1295\n",
       "CYLINDER      1252\n",
       "DIAMOND       1152\n",
       "CHEVRON        940\n",
       "EGG            733\n",
       "TEARDROP       723\n",
       "CONE           310\n",
       "CROSS          241\n",
       "DELTA            7\n",
       "CRESCENT         2\n",
       "ROUND            2\n",
       "DOME             1\n",
       "HEXAGON          1\n",
       "PYRAMID          1\n",
       "FLARE            1\n",
       "dtype: int64"
      ]
     },
     "execution_count": 73,
     "metadata": {},
     "output_type": "execute_result"
    }
   ],
   "source": [
    "#we can order with .sort_values()\n",
    "UFOdf.groupby('Shape Reported').size().sort_values(ascending=False)"
   ]
  },
  {
   "cell_type": "markdown",
   "metadata": {},
   "source": [
    "#### 5. Create a subset of the data that is the top 5 cities and the top 5 shapes."
   ]
  },
  {
   "cell_type": "code",
   "execution_count": 74,
   "metadata": {},
   "outputs": [
    {
     "data": {
      "text/plain": [
       "['Seattle', 'New York City', 'Phoenix', 'Las Vegas', 'Portland']"
      ]
     },
     "execution_count": 74,
     "metadata": {},
     "output_type": "execute_result"
    }
   ],
   "source": [
    "#we can create a list of the top cities using the index of value_counts() \n",
    "topcities = list(UFOdf['City'].value_counts().index[0:5])\n",
    "topcities"
   ]
  },
  {
   "cell_type": "code",
   "execution_count": 75,
   "metadata": {},
   "outputs": [
    {
     "data": {
      "text/plain": [
       "['LIGHT', 'TRIANGLE', 'CIRCLE', 'FIREBALL', 'OTHER']"
      ]
     },
     "execution_count": 75,
     "metadata": {},
     "output_type": "execute_result"
    }
   ],
   "source": [
    "#or we can use the index of .size().sort_values()\n",
    "topshapes=list(UFOdf.groupby('Shape Reported').size().sort_values(ascending=False)[0:5].index)\n",
    "topshapes"
   ]
  },
  {
   "cell_type": "code",
   "execution_count": 76,
   "metadata": {},
   "outputs": [
    {
     "data": {
      "text/plain": [
       "(1322, 5)"
      ]
     },
     "execution_count": 76,
     "metadata": {},
     "output_type": "execute_result"
    }
   ],
   "source": [
    "subset=UFOdf.loc[(UFOdf['City'].isin(topcities))&(UFOdf['Shape Reported'].isin(topshapes))]\n",
    "subset.shape"
   ]
  },
  {
   "cell_type": "code",
   "execution_count": 77,
   "metadata": {},
   "outputs": [
    {
     "data": {
      "text/plain": [
       "(80543, 5)"
      ]
     },
     "execution_count": 77,
     "metadata": {},
     "output_type": "execute_result"
    }
   ],
   "source": [
    "UFOdf.shape"
   ]
  },
  {
   "cell_type": "markdown",
   "metadata": {},
   "source": [
    "#### 6. With the subset, find the percent of each shape seen by city."
   ]
  },
  {
   "cell_type": "code",
   "execution_count": 78,
   "metadata": {},
   "outputs": [
    {
     "data": {
      "text/html": [
       "<div>\n",
       "<style scoped>\n",
       "    .dataframe tbody tr th:only-of-type {\n",
       "        vertical-align: middle;\n",
       "    }\n",
       "\n",
       "    .dataframe tbody tr th {\n",
       "        vertical-align: top;\n",
       "    }\n",
       "\n",
       "    .dataframe thead th {\n",
       "        text-align: right;\n",
       "    }\n",
       "</style>\n",
       "<table border=\"1\" class=\"dataframe\">\n",
       "  <thead>\n",
       "    <tr style=\"text-align: right;\">\n",
       "      <th></th>\n",
       "      <th>City</th>\n",
       "      <th>Colors Reported</th>\n",
       "      <th>Shape Reported</th>\n",
       "      <th>State</th>\n",
       "      <th>Time</th>\n",
       "    </tr>\n",
       "  </thead>\n",
       "  <tbody>\n",
       "    <tr>\n",
       "      <th>96</th>\n",
       "      <td>New York City</td>\n",
       "      <td>NaN</td>\n",
       "      <td>CIRCLE</td>\n",
       "      <td>NY</td>\n",
       "      <td>8/1/1948 2:00</td>\n",
       "    </tr>\n",
       "    <tr>\n",
       "      <th>208</th>\n",
       "      <td>New York City</td>\n",
       "      <td>NaN</td>\n",
       "      <td>OTHER</td>\n",
       "      <td>NY</td>\n",
       "      <td>7/15/1952 19:00</td>\n",
       "    </tr>\n",
       "    <tr>\n",
       "      <th>313</th>\n",
       "      <td>New York City</td>\n",
       "      <td>NaN</td>\n",
       "      <td>LIGHT</td>\n",
       "      <td>NY</td>\n",
       "      <td>2/15/1955 19:00</td>\n",
       "    </tr>\n",
       "    <tr>\n",
       "      <th>367</th>\n",
       "      <td>New York City</td>\n",
       "      <td>NaN</td>\n",
       "      <td>LIGHT</td>\n",
       "      <td>NY</td>\n",
       "      <td>6/15/1956 21:00</td>\n",
       "    </tr>\n",
       "    <tr>\n",
       "      <th>568</th>\n",
       "      <td>New York City</td>\n",
       "      <td>NaN</td>\n",
       "      <td>OTHER</td>\n",
       "      <td>NY</td>\n",
       "      <td>10/1/1959 16:00</td>\n",
       "    </tr>\n",
       "  </tbody>\n",
       "</table>\n",
       "</div>"
      ],
      "text/plain": [
       "              City Colors Reported Shape Reported State             Time\n",
       "96   New York City             NaN         CIRCLE    NY    8/1/1948 2:00\n",
       "208  New York City             NaN          OTHER    NY  7/15/1952 19:00\n",
       "313  New York City             NaN          LIGHT    NY  2/15/1955 19:00\n",
       "367  New York City             NaN          LIGHT    NY  6/15/1956 21:00\n",
       "568  New York City             NaN          OTHER    NY  10/1/1959 16:00"
      ]
     },
     "execution_count": 78,
     "metadata": {},
     "output_type": "execute_result"
    }
   ],
   "source": [
    "subset.head() #just reminding myself what the data looks like"
   ]
  },
  {
   "cell_type": "code",
   "execution_count": 83,
   "metadata": {},
   "outputs": [
    {
     "data": {
      "text/html": [
       "<div>\n",
       "<style scoped>\n",
       "    .dataframe tbody tr th:only-of-type {\n",
       "        vertical-align: middle;\n",
       "    }\n",
       "\n",
       "    .dataframe tbody tr th {\n",
       "        vertical-align: top;\n",
       "    }\n",
       "\n",
       "    .dataframe thead th {\n",
       "        text-align: right;\n",
       "    }\n",
       "</style>\n",
       "<table border=\"1\" class=\"dataframe\">\n",
       "  <thead>\n",
       "    <tr style=\"text-align: right;\">\n",
       "      <th></th>\n",
       "      <th>City</th>\n",
       "      <th>Shape Reported</th>\n",
       "      <th>0</th>\n",
       "    </tr>\n",
       "  </thead>\n",
       "  <tbody>\n",
       "    <tr>\n",
       "      <th>0</th>\n",
       "      <td>Las Vegas</td>\n",
       "      <td>CIRCLE</td>\n",
       "      <td>42</td>\n",
       "    </tr>\n",
       "    <tr>\n",
       "      <th>1</th>\n",
       "      <td>Las Vegas</td>\n",
       "      <td>FIREBALL</td>\n",
       "      <td>22</td>\n",
       "    </tr>\n",
       "    <tr>\n",
       "      <th>2</th>\n",
       "      <td>Las Vegas</td>\n",
       "      <td>LIGHT</td>\n",
       "      <td>85</td>\n",
       "    </tr>\n",
       "    <tr>\n",
       "      <th>3</th>\n",
       "      <td>Las Vegas</td>\n",
       "      <td>OTHER</td>\n",
       "      <td>36</td>\n",
       "    </tr>\n",
       "    <tr>\n",
       "      <th>4</th>\n",
       "      <td>Las Vegas</td>\n",
       "      <td>TRIANGLE</td>\n",
       "      <td>31</td>\n",
       "    </tr>\n",
       "    <tr>\n",
       "      <th>5</th>\n",
       "      <td>New York City</td>\n",
       "      <td>CIRCLE</td>\n",
       "      <td>56</td>\n",
       "    </tr>\n",
       "    <tr>\n",
       "      <th>6</th>\n",
       "      <td>New York City</td>\n",
       "      <td>FIREBALL</td>\n",
       "      <td>35</td>\n",
       "    </tr>\n",
       "    <tr>\n",
       "      <th>7</th>\n",
       "      <td>New York City</td>\n",
       "      <td>LIGHT</td>\n",
       "      <td>105</td>\n",
       "    </tr>\n",
       "    <tr>\n",
       "      <th>8</th>\n",
       "      <td>New York City</td>\n",
       "      <td>OTHER</td>\n",
       "      <td>42</td>\n",
       "    </tr>\n",
       "    <tr>\n",
       "      <th>9</th>\n",
       "      <td>New York City</td>\n",
       "      <td>TRIANGLE</td>\n",
       "      <td>40</td>\n",
       "    </tr>\n",
       "  </tbody>\n",
       "</table>\n",
       "</div>"
      ],
      "text/plain": [
       "            City Shape Reported    0\n",
       "0      Las Vegas         CIRCLE   42\n",
       "1      Las Vegas       FIREBALL   22\n",
       "2      Las Vegas          LIGHT   85\n",
       "3      Las Vegas          OTHER   36\n",
       "4      Las Vegas       TRIANGLE   31\n",
       "5  New York City         CIRCLE   56\n",
       "6  New York City       FIREBALL   35\n",
       "7  New York City          LIGHT  105\n",
       "8  New York City          OTHER   42\n",
       "9  New York City       TRIANGLE   40"
      ]
     },
     "execution_count": 83,
     "metadata": {},
     "output_type": "execute_result"
    }
   ],
   "source": [
    "grouped_by_city_and_shape = subset.groupby(['City','Shape Reported']).size()\n",
    "df = grouped_by_city_and_shape.reset_index() #this will turn it into a dataframe\n",
    "df.head(10)"
   ]
  },
  {
   "cell_type": "code",
   "execution_count": 84,
   "metadata": {},
   "outputs": [],
   "source": [
    "df.columns = ['City','Shape Reported','Counts'] #just renaming the columns"
   ]
  },
  {
   "cell_type": "code",
   "execution_count": 87,
   "metadata": {},
   "outputs": [
    {
     "data": {
      "text/html": [
       "<div>\n",
       "<style scoped>\n",
       "    .dataframe tbody tr th:only-of-type {\n",
       "        vertical-align: middle;\n",
       "    }\n",
       "\n",
       "    .dataframe tbody tr th {\n",
       "        vertical-align: top;\n",
       "    }\n",
       "\n",
       "    .dataframe thead th {\n",
       "        text-align: right;\n",
       "    }\n",
       "</style>\n",
       "<table border=\"1\" class=\"dataframe\">\n",
       "  <thead>\n",
       "    <tr style=\"text-align: right;\">\n",
       "      <th></th>\n",
       "      <th>City</th>\n",
       "      <th>Shape Reported</th>\n",
       "      <th>Counts</th>\n",
       "      <th>Percentage</th>\n",
       "    </tr>\n",
       "  </thead>\n",
       "  <tbody>\n",
       "    <tr>\n",
       "      <th>0</th>\n",
       "      <td>Las Vegas</td>\n",
       "      <td>CIRCLE</td>\n",
       "      <td>42</td>\n",
       "      <td>19.444444</td>\n",
       "    </tr>\n",
       "    <tr>\n",
       "      <th>1</th>\n",
       "      <td>Las Vegas</td>\n",
       "      <td>FIREBALL</td>\n",
       "      <td>22</td>\n",
       "      <td>10.185185</td>\n",
       "    </tr>\n",
       "    <tr>\n",
       "      <th>2</th>\n",
       "      <td>Las Vegas</td>\n",
       "      <td>LIGHT</td>\n",
       "      <td>85</td>\n",
       "      <td>39.351852</td>\n",
       "    </tr>\n",
       "    <tr>\n",
       "      <th>3</th>\n",
       "      <td>Las Vegas</td>\n",
       "      <td>OTHER</td>\n",
       "      <td>36</td>\n",
       "      <td>16.666667</td>\n",
       "    </tr>\n",
       "    <tr>\n",
       "      <th>4</th>\n",
       "      <td>Las Vegas</td>\n",
       "      <td>TRIANGLE</td>\n",
       "      <td>31</td>\n",
       "      <td>14.351852</td>\n",
       "    </tr>\n",
       "    <tr>\n",
       "      <th>5</th>\n",
       "      <td>New York City</td>\n",
       "      <td>CIRCLE</td>\n",
       "      <td>56</td>\n",
       "      <td>20.143885</td>\n",
       "    </tr>\n",
       "    <tr>\n",
       "      <th>6</th>\n",
       "      <td>New York City</td>\n",
       "      <td>FIREBALL</td>\n",
       "      <td>35</td>\n",
       "      <td>12.589928</td>\n",
       "    </tr>\n",
       "    <tr>\n",
       "      <th>7</th>\n",
       "      <td>New York City</td>\n",
       "      <td>LIGHT</td>\n",
       "      <td>105</td>\n",
       "      <td>37.769784</td>\n",
       "    </tr>\n",
       "    <tr>\n",
       "      <th>8</th>\n",
       "      <td>New York City</td>\n",
       "      <td>OTHER</td>\n",
       "      <td>42</td>\n",
       "      <td>15.107914</td>\n",
       "    </tr>\n",
       "    <tr>\n",
       "      <th>9</th>\n",
       "      <td>New York City</td>\n",
       "      <td>TRIANGLE</td>\n",
       "      <td>40</td>\n",
       "      <td>14.388489</td>\n",
       "    </tr>\n",
       "    <tr>\n",
       "      <th>10</th>\n",
       "      <td>Phoenix</td>\n",
       "      <td>CIRCLE</td>\n",
       "      <td>34</td>\n",
       "      <td>12.781955</td>\n",
       "    </tr>\n",
       "    <tr>\n",
       "      <th>11</th>\n",
       "      <td>Phoenix</td>\n",
       "      <td>FIREBALL</td>\n",
       "      <td>35</td>\n",
       "      <td>13.157895</td>\n",
       "    </tr>\n",
       "    <tr>\n",
       "      <th>12</th>\n",
       "      <td>Phoenix</td>\n",
       "      <td>LIGHT</td>\n",
       "      <td>106</td>\n",
       "      <td>39.849624</td>\n",
       "    </tr>\n",
       "    <tr>\n",
       "      <th>13</th>\n",
       "      <td>Phoenix</td>\n",
       "      <td>OTHER</td>\n",
       "      <td>46</td>\n",
       "      <td>17.293233</td>\n",
       "    </tr>\n",
       "    <tr>\n",
       "      <th>14</th>\n",
       "      <td>Phoenix</td>\n",
       "      <td>TRIANGLE</td>\n",
       "      <td>45</td>\n",
       "      <td>16.917293</td>\n",
       "    </tr>\n",
       "    <tr>\n",
       "      <th>15</th>\n",
       "      <td>Portland</td>\n",
       "      <td>CIRCLE</td>\n",
       "      <td>46</td>\n",
       "      <td>19.913420</td>\n",
       "    </tr>\n",
       "    <tr>\n",
       "      <th>16</th>\n",
       "      <td>Portland</td>\n",
       "      <td>FIREBALL</td>\n",
       "      <td>29</td>\n",
       "      <td>12.554113</td>\n",
       "    </tr>\n",
       "    <tr>\n",
       "      <th>17</th>\n",
       "      <td>Portland</td>\n",
       "      <td>LIGHT</td>\n",
       "      <td>100</td>\n",
       "      <td>43.290043</td>\n",
       "    </tr>\n",
       "    <tr>\n",
       "      <th>18</th>\n",
       "      <td>Portland</td>\n",
       "      <td>OTHER</td>\n",
       "      <td>29</td>\n",
       "      <td>12.554113</td>\n",
       "    </tr>\n",
       "    <tr>\n",
       "      <th>19</th>\n",
       "      <td>Portland</td>\n",
       "      <td>TRIANGLE</td>\n",
       "      <td>27</td>\n",
       "      <td>11.688312</td>\n",
       "    </tr>\n",
       "    <tr>\n",
       "      <th>20</th>\n",
       "      <td>Seattle</td>\n",
       "      <td>CIRCLE</td>\n",
       "      <td>50</td>\n",
       "      <td>15.105740</td>\n",
       "    </tr>\n",
       "    <tr>\n",
       "      <th>21</th>\n",
       "      <td>Seattle</td>\n",
       "      <td>FIREBALL</td>\n",
       "      <td>55</td>\n",
       "      <td>16.616314</td>\n",
       "    </tr>\n",
       "    <tr>\n",
       "      <th>22</th>\n",
       "      <td>Seattle</td>\n",
       "      <td>LIGHT</td>\n",
       "      <td>129</td>\n",
       "      <td>38.972810</td>\n",
       "    </tr>\n",
       "    <tr>\n",
       "      <th>23</th>\n",
       "      <td>Seattle</td>\n",
       "      <td>OTHER</td>\n",
       "      <td>51</td>\n",
       "      <td>15.407855</td>\n",
       "    </tr>\n",
       "    <tr>\n",
       "      <th>24</th>\n",
       "      <td>Seattle</td>\n",
       "      <td>TRIANGLE</td>\n",
       "      <td>46</td>\n",
       "      <td>13.897281</td>\n",
       "    </tr>\n",
       "  </tbody>\n",
       "</table>\n",
       "</div>"
      ],
      "text/plain": [
       "             City Shape Reported  Counts  Percentage\n",
       "0       Las Vegas         CIRCLE      42   19.444444\n",
       "1       Las Vegas       FIREBALL      22   10.185185\n",
       "2       Las Vegas          LIGHT      85   39.351852\n",
       "3       Las Vegas          OTHER      36   16.666667\n",
       "4       Las Vegas       TRIANGLE      31   14.351852\n",
       "5   New York City         CIRCLE      56   20.143885\n",
       "6   New York City       FIREBALL      35   12.589928\n",
       "7   New York City          LIGHT     105   37.769784\n",
       "8   New York City          OTHER      42   15.107914\n",
       "9   New York City       TRIANGLE      40   14.388489\n",
       "10        Phoenix         CIRCLE      34   12.781955\n",
       "11        Phoenix       FIREBALL      35   13.157895\n",
       "12        Phoenix          LIGHT     106   39.849624\n",
       "13        Phoenix          OTHER      46   17.293233\n",
       "14        Phoenix       TRIANGLE      45   16.917293\n",
       "15       Portland         CIRCLE      46   19.913420\n",
       "16       Portland       FIREBALL      29   12.554113\n",
       "17       Portland          LIGHT     100   43.290043\n",
       "18       Portland          OTHER      29   12.554113\n",
       "19       Portland       TRIANGLE      27   11.688312\n",
       "20        Seattle         CIRCLE      50   15.105740\n",
       "21        Seattle       FIREBALL      55   16.616314\n",
       "22        Seattle          LIGHT     129   38.972810\n",
       "23        Seattle          OTHER      51   15.407855\n",
       "24        Seattle       TRIANGLE      46   13.897281"
      ]
     },
     "execution_count": 87,
     "metadata": {},
     "output_type": "execute_result"
    }
   ],
   "source": [
    "#create new column using count compared to a groupby city sum\n",
    "#you can round this if you want by putting .round() at the end!\n",
    "df['Percentage'] = df.groupby('City')['Counts'].apply(lambda x: x/np.sum(x)*100)\n",
    "df"
   ]
  },
  {
   "cell_type": "code",
   "execution_count": 29,
   "metadata": {},
   "outputs": [
    {
     "data": {
      "text/plain": [
       "City           Shape Reported\n",
       "Las Vegas      CIRCLE             42\n",
       "               FIREBALL           22\n",
       "               LIGHT              85\n",
       "               OTHER              36\n",
       "               TRIANGLE           31\n",
       "New York City  CIRCLE             56\n",
       "               FIREBALL           35\n",
       "               LIGHT             105\n",
       "               OTHER              42\n",
       "               TRIANGLE           40\n",
       "dtype: int64"
      ]
     },
     "execution_count": 29,
     "metadata": {},
     "output_type": "execute_result"
    }
   ],
   "source": [
    "#OR, for an alternate method,\n",
    "#you could accomplish this using .div()\n",
    "by_city_and_shape=subset.groupby(['City','Shape Reported']).size()\n",
    "by_city_and_shape.head(10)"
   ]
  },
  {
   "cell_type": "code",
   "execution_count": 30,
   "metadata": {},
   "outputs": [
    {
     "data": {
      "text/plain": [
       "City\n",
       "Las Vegas        216\n",
       "New York City    278\n",
       "Phoenix          266\n",
       "Portland         231\n",
       "Seattle          331\n",
       "dtype: int64"
      ]
     },
     "execution_count": 30,
     "metadata": {},
     "output_type": "execute_result"
    }
   ],
   "source": [
    "by_city=subset.groupby('City').size()\n",
    "by_city"
   ]
  },
  {
   "cell_type": "code",
   "execution_count": 31,
   "metadata": {},
   "outputs": [
    {
     "data": {
      "text/plain": [
       "City           Shape Reported\n",
       "Las Vegas      CIRCLE            19.444444\n",
       "               FIREBALL          10.185185\n",
       "               LIGHT             39.351852\n",
       "               OTHER             16.666667\n",
       "               TRIANGLE          14.351852\n",
       "New York City  CIRCLE            20.143885\n",
       "               FIREBALL          12.589928\n",
       "               LIGHT             37.769784\n",
       "               OTHER             15.107914\n",
       "               TRIANGLE          14.388489\n",
       "Phoenix        CIRCLE            12.781955\n",
       "               FIREBALL          13.157895\n",
       "               LIGHT             39.849624\n",
       "               OTHER             17.293233\n",
       "               TRIANGLE          16.917293\n",
       "Portland       CIRCLE            19.913420\n",
       "               FIREBALL          12.554113\n",
       "               LIGHT             43.290043\n",
       "               OTHER             12.554113\n",
       "               TRIANGLE          11.688312\n",
       "Seattle        CIRCLE            15.105740\n",
       "               FIREBALL          16.616314\n",
       "               LIGHT             38.972810\n",
       "               OTHER             15.407855\n",
       "               TRIANGLE          13.897281\n",
       "dtype: float64"
      ]
     },
     "execution_count": 31,
     "metadata": {},
     "output_type": "execute_result"
    }
   ],
   "source": [
    "#.div() allows us to divide one Series by the other, matching on the 'City' index\n",
    "by_city_and_shape.div(by_city,level='City')*100"
   ]
  },
  {
   "cell_type": "code",
   "execution_count": 33,
   "metadata": {},
   "outputs": [
    {
     "data": {
      "text/plain": [
       "City           Shape Reported\n",
       "Las Vegas      CIRCLE            19.4\n",
       "               FIREBALL          10.2\n",
       "               LIGHT             39.4\n",
       "               OTHER             16.7\n",
       "               TRIANGLE          14.4\n",
       "New York City  CIRCLE            20.1\n",
       "               FIREBALL          12.6\n",
       "               LIGHT             37.8\n",
       "               OTHER             15.1\n",
       "               TRIANGLE          14.4\n",
       "Phoenix        CIRCLE            12.8\n",
       "               FIREBALL          13.2\n",
       "               LIGHT             39.8\n",
       "               OTHER             17.3\n",
       "               TRIANGLE          16.9\n",
       "Portland       CIRCLE            19.9\n",
       "               FIREBALL          12.6\n",
       "               LIGHT             43.3\n",
       "               OTHER             12.6\n",
       "               TRIANGLE          11.7\n",
       "Seattle        CIRCLE            15.1\n",
       "               FIREBALL          16.6\n",
       "               LIGHT             39.0\n",
       "               OTHER             15.4\n",
       "               TRIANGLE          13.9\n",
       "dtype: float64"
      ]
     },
     "execution_count": 33,
     "metadata": {},
     "output_type": "execute_result"
    }
   ],
   "source": [
    "#if we wanted to round each of these to one decimal place, we can wrap it in np.round()\n",
    "np.round(by_city_and_shape.div(by_city,level='City')*100,1)"
   ]
  },
  {
   "cell_type": "markdown",
   "metadata": {},
   "source": [
    "**7. Make a grouped bar chart with your subset data showing counts of shapes seen by city.**"
   ]
  },
  {
   "cell_type": "code",
   "execution_count": 72,
   "metadata": {},
   "outputs": [
    {
     "data": {
      "image/png": "[encoded data removed]",
      "text/plain": [
       "<matplotlib.figure.Figure at 0x1a29185588>"
      ]
     },
     "metadata": {
      "image/png": {
       "height": 312,
       "width": 369
      }
     },
     "output_type": "display_data"
    }
   ],
   "source": [
    "#this might be our first attempt to plot the counts of shape seen by city\n",
    "by_city_and_shape.unstack().plot(kind='bar');"
   ]
  },
  {
   "cell_type": "code",
   "execution_count": 69,
   "metadata": {},
   "outputs": [
    {
     "data": {
      "image/png": "[encoded data removed]",
      "text/plain": [
       "<matplotlib.figure.Figure at 0x1a2811e8d0>"
      ]
     },
     "metadata": {
      "image/png": {
       "height": 444,
       "width": 721
      }
     },
     "output_type": "display_data"
    }
   ],
   "source": [
    "#but we could improve it! \n",
    "by_city_and_shape.unstack().plot(kind='bar',width=0.8, figsize=(12,7))\n",
    "plt.ylabel('Count',size=14)\n",
    "plt.xticks(size=12,rotation='horizontal')\n",
    "plt.xlabel('City',size=14)\n",
    "plt.title('Shapes Reported in UFO Sightings by City',size=16)\n",
    "plt.show()"
   ]
  },
  {
   "cell_type": "code",
   "execution_count": null,
   "metadata": {},
   "outputs": [],
   "source": []
  }
 ],
 "metadata": {
  "kernelspec": {
   "display_name": "Python 3",
   "language": "python",
   "name": "python3"
  },
  "language_info": {
   "codemirror_mode": {
    "name": "ipython",
    "version": 3
   },
   "file_extension": ".py",
   "mimetype": "text/x-python",
   "name": "python",
   "nbconvert_exporter": "python",
   "pygments_lexer": "ipython3",
   "version": "3.6.4"
  },
  "toc": {
   "nav_menu": {},
   "number_sections": false,
   "sideBar": true,
   "skip_h1_title": false,
   "toc_cell": false,
   "toc_position": {
    "height": "559px",
    "left": "0px",
    "right": "942px",
    "top": "111px",
    "width": "212px"
   },
   "toc_section_display": "block",
   "toc_window_display": false
  }
 },
 "nbformat": 4,
 "nbformat_minor": 2
}
