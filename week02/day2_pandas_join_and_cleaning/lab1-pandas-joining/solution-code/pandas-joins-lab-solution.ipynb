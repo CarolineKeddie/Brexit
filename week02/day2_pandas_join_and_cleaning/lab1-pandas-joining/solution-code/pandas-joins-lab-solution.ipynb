{
 "cells": [
  {
   "cell_type": "markdown",
   "metadata": {},
   "source": [
    "<img src=\"http://imgur.com/1ZcRyrc.png\" style=\"float: left; margin: 20px; height: 55px\">\n",
    "\n",
    "# Pandas Joins Lab\n",
    "\n",
    "_Instructor: Aymeric Flaisler_\n",
    "___\n"
   ]
  },
  {
   "cell_type": "markdown",
   "metadata": {},
   "source": [
    "Very often we may need to do some data transformations to do some merging. For example, if we want to provide some information on events in a given area, we might have a dataset that looks like the following:\n",
    "\n",
    "| Block | Event   |\n",
    "|------|------|\n",
    "|   1  | Block Party|\n",
    "|   2  | Block Party|\n",
    "|   1  | House Party|\n",
    "|   1  | Open Bar|\n",
    "\n",
    "In this example, we have multiple rows for Block (3 rows for Block 1 and 1 row for Block 2). If we wanted to join these to another table on the block keys, we'd be doing what's known as a 1 to many join. We will be revisiting that topic later.\n",
    "\n",
    "Another option is to create some aggregate function (a count, a mean, a median, etc.) so that our data set has only one row per key. If we counted up the number of events in our toy dataset above, it might look like:\n",
    "\n",
    "| Block | count(Event)   |\n",
    "|------|------|\n",
    "|   1  | 3|\n",
    "|   2  | 1|\n",
    "    \n",
    "This sort of groupby aggregation allows us to join a larger dataset with a smaller, provided that we can summarize them using some sort of aggregate function."
   ]
  },
  {
   "cell_type": "markdown",
   "metadata": {},
   "source": [
    "# Your Mission, Should You Choose to Accept it"
   ]
  },
  {
   "cell_type": "markdown",
   "metadata": {},
   "source": [
    "In this lab, you will take the role of an enterprising researcher, making use of the numerous free datasets available at the [City of Chicago Data Portal](https://data.cityofchicago.org/). You have a hunch that different types of reporting to 311, the City's information line, might be correlated with demographic characteristics of the 77 [community areas of Chicago](https://en.wikipedia.org/wiki/Community_areas_in_Chicago). You have downloaded some of this data in the following forms:\n",
    "\n",
    "- **2008-2012-chi-census.csv** - A few selected Census outcomes from 2008-2012, aggregated by the Community Area\n",
    "- **chicago_311_abandoned_vehicles.csv** - Calls to 311 for abandoned vehicles in 2008-2012\n",
    "- **chicago_311_graffiti.csv** - Calls to 311 for graffiti removal in 2008-2012\n",
    "- **chicago_311_vacant_abandoned_building.csv** - Calls to 311 about vacant or abandoned buildings in 2008-2012"
   ]
  },
  {
   "cell_type": "markdown",
   "metadata": {},
   "source": [
    "Firing up your trusty laptop with Python, Numpy, and Pandas, you get to work. One way to join two of the datasets together, you realize, is with the following code:"
   ]
  },
  {
   "cell_type": "markdown",
   "metadata": {},
   "source": [
    "```Python\n",
    "census_data = pd.read_csv('2008-2012-chi-census.csv')\n",
    "abandoned_vehicles = pd.read_csv('chicago_311_abandoned_vehicles.csv')\n",
    "\n",
    "census_data.merge(abandoned_vehicles.groupby('Community Area').count(), \n",
    "        left_on='Community Area Number', \n",
    "        right_index=True, how='inner')\n",
    "```"
   ]
  },
  {
   "cell_type": "markdown",
   "metadata": {},
   "source": [
    "**Note:** We're doing a couple of things here that we haven't done before!\n",
    "\n",
    "1. If our keys are named differently in each dataset, we can identify them by using **left_on** and **right_on** to point to the keys in the left and right dataset respectively\n",
    "2. We are counting all the rows per **'Community Area'** in **abandoned_vehicles**. For the rest of this exercise, feel free to use that construction but, if you're interested in learning more, [df.groupby](http://pandas.pydata.org/pandas-docs/stable/generated/pandas.DataFrame.groupby.html) contains the documentation for the **groupby** method in Pandas\n",
    "3. We can also merge on the index of a dataframe, using **left_index=True** (if we want to join on the left dataset's index) or **right_index=True** (if we want to join on the right dataset's index)."
   ]
  },
  {
   "cell_type": "code",
   "execution_count": 16,
   "metadata": {},
   "outputs": [],
   "source": [
    "import pandas as pd\n",
    "import matplotlib.pyplot as plt\n",
    "plt.style.use('fivethirtyeight')\n",
    "%matplotlib inline"
   ]
  },
  {
   "cell_type": "markdown",
   "metadata": {},
   "source": [
    "### 1. Load each csv into Python and take a few minutes to explore each. What sort of data does it provide?"
   ]
  },
  {
   "cell_type": "code",
   "execution_count": 33,
   "metadata": {},
   "outputs": [],
   "source": [
    "census = pd.read_csv('../datasets/2008-2012-chi-census.csv')\n",
    "vehicles = pd.read_csv('../datasets/chicago_311_abandoned_vehicles.csv')\n",
    "graffiti = pd.read_csv('../datasets/chicago_311_graffiti.csv')\n",
    "buildings = pd.read_csv('../datasets/chicago_311_vacant_abandoned_building.csv')"
   ]
  },
  {
   "cell_type": "code",
   "execution_count": 34,
   "metadata": {},
   "outputs": [],
   "source": [
    "# census.head()"
   ]
  },
  {
   "cell_type": "code",
   "execution_count": 35,
   "metadata": {},
   "outputs": [],
   "source": [
    "# vehicles.head()"
   ]
  },
  {
   "cell_type": "code",
   "execution_count": 36,
   "metadata": {},
   "outputs": [],
   "source": [
    "# graffiti.head()"
   ]
  },
  {
   "cell_type": "code",
   "execution_count": 37,
   "metadata": {},
   "outputs": [],
   "source": [
    "# buildings.head()"
   ]
  },
  {
   "cell_type": "markdown",
   "metadata": {},
   "source": [
    "### 2. Join each of the 311 calls datasets (modifying the code above) to get a count of each type of call per Community Area"
   ]
  },
  {
   "cell_type": "code",
   "execution_count": 22,
   "metadata": {},
   "outputs": [
    {
     "data": {
      "text/plain": [
       "Index([u'Community Area Number', u'Community Area Name',\n",
       "       u'Percent Housing Crowded', u'Percent Households Below Poverty',\n",
       "       u'Percent Aged 16+ Unemployed', u'Percent Aged 25+ Without HS Diploma',\n",
       "       u'Percent Aged Under 18 or Over 64', u'Per Capita Income',\n",
       "       u'Hardship Index'],\n",
       "      dtype='object')"
      ]
     },
     "execution_count": 22,
     "metadata": {},
     "output_type": "execute_result"
    }
   ],
   "source": [
    "census.columns"
   ]
  },
  {
   "cell_type": "code",
   "execution_count": 23,
   "metadata": {},
   "outputs": [
    {
     "data": {
      "text/plain": [
       "Index([u'Creation Date', u'Status', u'Completion Date',\n",
       "       u'Service Request Number', u'Type of Service Request', u'License Plate',\n",
       "       u'Vehicle Make/Model', u'Vehicle Color', u'Current Activity',\n",
       "       u'Most Recent Action',\n",
       "       u'How Many Days Has the Vehicle Been Reported as Parked?',\n",
       "       u'Street Address', u'ZIP Code', u'X Coordinate', u'Y Coordinate',\n",
       "       u'Ward', u'Police District', u'Community Area', u'SSA', u'Latitude',\n",
       "       u'Longitude', u'Location'],\n",
       "      dtype='object')"
      ]
     },
     "execution_count": 23,
     "metadata": {},
     "output_type": "execute_result"
    }
   ],
   "source": [
    "vehicles.columns"
   ]
  },
  {
   "cell_type": "code",
   "execution_count": 24,
   "metadata": {},
   "outputs": [
    {
     "data": {
      "text/plain": [
       "Index([u'Creation Date', u'Status', u'Completion Date',\n",
       "       u'Service Request Number', u'Type of Service Request',\n",
       "       u'What Type of Surface is the Graffiti on?',\n",
       "       u'Where is the Graffiti located?', u'Street Address', u'ZIP Code',\n",
       "       u'X Coordinate', u'Y Coordinate', u'Ward', u'Police District',\n",
       "       u'Community Area', u'SSA', u'Latitude', u'Longitude', u'Location'],\n",
       "      dtype='object')"
      ]
     },
     "execution_count": 24,
     "metadata": {},
     "output_type": "execute_result"
    }
   ],
   "source": [
    "graffiti.columns"
   ]
  },
  {
   "cell_type": "code",
   "execution_count": 25,
   "metadata": {},
   "outputs": [
    {
     "data": {
      "text/plain": [
       "Index([u'SERVICE REQUEST TYPE', u'SERVICE REQUEST NUMBER',\n",
       "       u'DATE SERVICE REQUEST WAS RECEIVED',\n",
       "       u'LOCATION OF BUILDING ON THE LOT (IF GARAGE, CHANGE TYPE CODE TO BGD).',\n",
       "       u'IS THE BUILDING DANGEROUS OR HAZARDOUS?',\n",
       "       u'IS BUILDING OPEN OR BOARDED?',\n",
       "       u'IF THE BUILDING IS OPEN, WHERE IS THE ENTRY POINT?',\n",
       "       u'IS THE BUILDING CURRENTLY VACANT OR OCCUPIED?',\n",
       "       u'IS THE BUILDING VACANT DUE TO FIRE?',\n",
       "       u'ANY PEOPLE USING PROPERTY? (HOMELESS, CHILDEN, GANGS)',\n",
       "       u'ADDRESS STREET NUMBER', u'ADDRESS STREET DIRECTION',\n",
       "       u'ADDRESS STREET NAME', u'ADDRESS STREET SUFFIX', u'ZIP CODE',\n",
       "       u'X COORDINATE', u'Y COORDINATE', u'Ward', u'Police District',\n",
       "       u'Community Area', u'LATITUDE', u'LONGITUDE', u'Location'],\n",
       "      dtype='object')"
      ]
     },
     "execution_count": 25,
     "metadata": {},
     "output_type": "execute_result"
    }
   ],
   "source": [
    "buildings.columns"
   ]
  },
  {
   "cell_type": "code",
   "execution_count": 46,
   "metadata": {
    "scrolled": true
   },
   "outputs": [],
   "source": [
    "vehicles_call_counts = vehicles.groupby('Community Area', as_index=True)[['Type of Service Request']].count()\n",
    "vehicles_call_counts.rename(columns={'Type of Service Request': 'call_counts_vehicle'}, inplace=True)"
   ]
  },
  {
   "cell_type": "code",
   "execution_count": 49,
   "metadata": {},
   "outputs": [
    {
     "data": {
      "text/html": [
       "<div>\n",
       "<style scoped>\n",
       "    .dataframe tbody tr th:only-of-type {\n",
       "        vertical-align: middle;\n",
       "    }\n",
       "\n",
       "    .dataframe tbody tr th {\n",
       "        vertical-align: top;\n",
       "    }\n",
       "\n",
       "    .dataframe thead th {\n",
       "        text-align: right;\n",
       "    }\n",
       "</style>\n",
       "<table border=\"1\" class=\"dataframe\">\n",
       "  <thead>\n",
       "    <tr style=\"text-align: right;\">\n",
       "      <th></th>\n",
       "      <th>call_counts_vehicle</th>\n",
       "    </tr>\n",
       "    <tr>\n",
       "      <th>Community Area</th>\n",
       "      <th></th>\n",
       "    </tr>\n",
       "  </thead>\n",
       "  <tbody>\n",
       "    <tr>\n",
       "      <th>0.0</th>\n",
       "      <td>63</td>\n",
       "    </tr>\n",
       "    <tr>\n",
       "      <th>1.0</th>\n",
       "      <td>778</td>\n",
       "    </tr>\n",
       "    <tr>\n",
       "      <th>2.0</th>\n",
       "      <td>1217</td>\n",
       "    </tr>\n",
       "    <tr>\n",
       "      <th>3.0</th>\n",
       "      <td>442</td>\n",
       "    </tr>\n",
       "    <tr>\n",
       "      <th>4.0</th>\n",
       "      <td>751</td>\n",
       "    </tr>\n",
       "  </tbody>\n",
       "</table>\n",
       "</div>"
      ],
      "text/plain": [
       "                call_counts_vehicle\n",
       "Community Area                     \n",
       "0.0                              63\n",
       "1.0                             778\n",
       "2.0                            1217\n",
       "3.0                             442\n",
       "4.0                             751"
      ]
     },
     "execution_count": 49,
     "metadata": {},
     "output_type": "execute_result"
    }
   ],
   "source": [
    "vehicles_call_counts.head()"
   ]
  },
  {
   "cell_type": "code",
   "execution_count": 41,
   "metadata": {},
   "outputs": [],
   "source": [
    "graffiti_call_counts = graffiti.groupby('Community Area')[['Type of Service Request']].count()\n",
    "graffiti_call_counts.rename(columns={'Type of Service Request': 'call_counts_graffiti'}, inplace=True)"
   ]
  },
  {
   "cell_type": "code",
   "execution_count": 42,
   "metadata": {},
   "outputs": [],
   "source": [
    "building_call_counts = buildings.groupby('Community Area')[['SERVICE REQUEST TYPE']].count()\n",
    "building_call_counts.rename(columns={'SERVICE REQUEST TYPE': 'call_counts_building'}, inplace=True)"
   ]
  },
  {
   "cell_type": "code",
   "execution_count": 43,
   "metadata": {},
   "outputs": [],
   "source": [
    "# More censes data can be included if we want\n",
    "community_names = census.loc[:,['Community Area Name', 'Community Area Number', 'Hardship Index']]"
   ]
  },
  {
   "cell_type": "code",
   "execution_count": 31,
   "metadata": {},
   "outputs": [],
   "source": [
    "community_names = community_names.merge(vehicles_call_counts, left_on='Community Area Number', right_index=True, how='left')\n",
    "community_names = community_names.merge(graffiti_call_counts, left_on='Community Area Number', right_index=True, how='left')\n",
    "community_names = community_names.merge(building_call_counts, left_on='Community Area Number', right_index=True, how='left')"
   ]
  },
  {
   "cell_type": "code",
   "execution_count": 32,
   "metadata": {},
   "outputs": [
    {
     "data": {
      "text/html": [
       "<div>\n",
       "<style scoped>\n",
       "    .dataframe tbody tr th:only-of-type {\n",
       "        vertical-align: middle;\n",
       "    }\n",
       "\n",
       "    .dataframe tbody tr th {\n",
       "        vertical-align: top;\n",
       "    }\n",
       "\n",
       "    .dataframe thead th {\n",
       "        text-align: right;\n",
       "    }\n",
       "</style>\n",
       "<table border=\"1\" class=\"dataframe\">\n",
       "  <thead>\n",
       "    <tr style=\"text-align: right;\">\n",
       "      <th></th>\n",
       "      <th>Community Area Name</th>\n",
       "      <th>Community Area Number</th>\n",
       "      <th>Hardship Index</th>\n",
       "      <th>call_counts_vehicle</th>\n",
       "      <th>call_counts_graffiti</th>\n",
       "      <th>call_counts_building</th>\n",
       "    </tr>\n",
       "  </thead>\n",
       "  <tbody>\n",
       "    <tr>\n",
       "      <th>0</th>\n",
       "      <td>Rogers Park</td>\n",
       "      <td>1.0</td>\n",
       "      <td>39.0</td>\n",
       "      <td>778.0</td>\n",
       "      <td>5009.0</td>\n",
       "      <td>51.0</td>\n",
       "    </tr>\n",
       "    <tr>\n",
       "      <th>1</th>\n",
       "      <td>West Ridge</td>\n",
       "      <td>2.0</td>\n",
       "      <td>46.0</td>\n",
       "      <td>1217.0</td>\n",
       "      <td>4353.0</td>\n",
       "      <td>139.0</td>\n",
       "    </tr>\n",
       "    <tr>\n",
       "      <th>2</th>\n",
       "      <td>Uptown</td>\n",
       "      <td>3.0</td>\n",
       "      <td>20.0</td>\n",
       "      <td>442.0</td>\n",
       "      <td>4129.0</td>\n",
       "      <td>79.0</td>\n",
       "    </tr>\n",
       "    <tr>\n",
       "      <th>3</th>\n",
       "      <td>Lincoln Square</td>\n",
       "      <td>4.0</td>\n",
       "      <td>17.0</td>\n",
       "      <td>751.0</td>\n",
       "      <td>3969.0</td>\n",
       "      <td>91.0</td>\n",
       "    </tr>\n",
       "    <tr>\n",
       "      <th>4</th>\n",
       "      <td>North Center</td>\n",
       "      <td>5.0</td>\n",
       "      <td>6.0</td>\n",
       "      <td>675.0</td>\n",
       "      <td>4606.0</td>\n",
       "      <td>105.0</td>\n",
       "    </tr>\n",
       "  </tbody>\n",
       "</table>\n",
       "</div>"
      ],
      "text/plain": [
       "  Community Area Name  Community Area Number  Hardship Index  \\\n",
       "0         Rogers Park                    1.0            39.0   \n",
       "1          West Ridge                    2.0            46.0   \n",
       "2              Uptown                    3.0            20.0   \n",
       "3      Lincoln Square                    4.0            17.0   \n",
       "4        North Center                    5.0             6.0   \n",
       "\n",
       "   call_counts_vehicle  call_counts_graffiti  call_counts_building  \n",
       "0                778.0                5009.0                  51.0  \n",
       "1               1217.0                4353.0                 139.0  \n",
       "2                442.0                4129.0                  79.0  \n",
       "3                751.0                3969.0                  91.0  \n",
       "4                675.0                4606.0                 105.0  "
      ]
     },
     "execution_count": 32,
     "metadata": {},
     "output_type": "execute_result"
    }
   ],
   "source": [
    "community_names.head()"
   ]
  },
  {
   "cell_type": "markdown",
   "metadata": {},
   "source": [
    "### 3. What sort of trends can you identify? How would you do so (via plotting, analysis, etc.)?"
   ]
  },
  {
   "cell_type": "code",
   "execution_count": 16,
   "metadata": {},
   "outputs": [
    {
     "data": {
      "text/plain": [
       "<matplotlib.axes._subplots.AxesSubplot at 0x7f0e367a5250>"
      ]
     },
     "execution_count": 16,
     "metadata": {},
     "output_type": "execute_result"
    },
    {
     "data": {
      "image/png": "[encoded data removed]",
      "text/plain": [
       "<matplotlib.figure.Figure at 0x7f0e36774b90>"
      ]
     },
     "metadata": {},
     "output_type": "display_data"
    }
   ],
   "source": [
    "community_names.plot.scatter(x='call_counts_building', y='Hardship Index')"
   ]
  },
  {
   "cell_type": "markdown",
   "metadata": {
    "heading_collapsed": true
   },
   "source": [
    "### 4. What sorts of questions would you want to use this data to answer?"
   ]
  },
  {
   "cell_type": "code",
   "execution_count": 17,
   "metadata": {
    "collapsed": true,
    "hidden": true
   },
   "outputs": [],
   "source": [
    "# You may want to see if any of the census information is associated with 311 calls, perhaps the hardship index and graffiti removal calls.\n",
    "# Explore the locations of abandoned buildings over time and see if there is a pattern\n",
    "# See what kind of vehicles are most likely to be abandoned in Chicago"
   ]
  }
 ],
 "metadata": {
  "kernelspec": {
   "display_name": "Python 2",
   "language": "python",
   "name": "python2"
  },
  "language_info": {
   "codemirror_mode": {
    "name": "ipython",
    "version": 2
   },
   "file_extension": ".py",
   "mimetype": "text/x-python",
   "name": "python",
   "nbconvert_exporter": "python",
   "pygments_lexer": "ipython2",
   "version": "2.7.14"
  },
  "toc": {
   "nav_menu": {},
   "number_sections": false,
   "sideBar": true,
   "skip_h1_title": false,
   "title_cell": "Table of Contents",
   "title_sidebar": "Contents",
   "toc_cell": false,
   "toc_position": {},
   "toc_section_display": true,
   "toc_window_display": false
  },
  "varInspector": {
   "cols": {
    "lenName": 16,
    "lenType": 16,
    "lenVar": 40
   },
   "kernels_config": {
    "python": {
     "delete_cmd_postfix": "",
     "delete_cmd_prefix": "del ",
     "library": "var_list.py",
     "varRefreshCmd": "print(var_dic_list())"
    },
    "r": {
     "delete_cmd_postfix": ") ",
     "delete_cmd_prefix": "rm(",
     "library": "var_list.r",
     "varRefreshCmd": "cat(var_dic_list()) "
    }
   },
   "types_to_exclude": [
    "module",
    "function",
    "builtin_function_or_method",
    "instance",
    "_Feature"
   ],
   "window_display": false
  }
 },
 "nbformat": 4,
 "nbformat_minor": 2
}
