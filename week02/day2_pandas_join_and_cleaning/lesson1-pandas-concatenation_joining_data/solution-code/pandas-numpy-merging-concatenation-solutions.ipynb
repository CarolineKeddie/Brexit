{
 "cells": [
  {
   "cell_type": "markdown",
   "metadata": {},
   "source": [
    "<img src=\"http://imgur.com/1ZcRyrc.png\" style=\"float: left; margin: 20px; height: 55px\">\n",
    "\n",
    "## Merging and Concatenation with numpy and pandas\n",
    "\n",
    "_Instructor: Aymeric Flaisler_\n",
    "___\n",
    "\n"
   ]
  },
  {
   "cell_type": "markdown",
   "metadata": {
    "heading_collapsed": true
   },
   "source": [
    "### Learning Objectives\n",
    "- Understand use-cases of concatenation of vectors, matrices, and dataframes\n",
    "- Practice concatenating vectors and matrices using numpy\n",
    "- Practice concatenating dataframes using pandas\n",
    "- Join pandas dataframes using SQL-style join operations"
   ]
  },
  {
   "cell_type": "markdown",
   "metadata": {},
   "source": [
    "### Lesson Guide\n",
    "- [Overview of concatenation and joining](#introduction)\n",
    "- [Concatenation using numpy](#numpy_concatenation)\n",
    "- [Concatenation using pandas](#pandas_concatenation)\n",
    "- [SQL-style joins using pandas](#pandas_joins)"
   ]
  },
  {
   "cell_type": "markdown",
   "metadata": {},
   "source": [
    "<a id='introduction'></a>\n",
    "\n",
    "### Overview of concatenation and joining\n",
    "\n",
    "---\n",
    "\n",
    "**Concatenation** is the process of joining separate objects along a dimension to create a new single object. In\n",
    "computer programming and data processing, two or more character strings are sometimes concatenated for the purpose of saving space or so that they can be addressed as a single item.\n",
    "\n",
    "In pandas, we will be concatenating dataframes together along rows or columns. Likewise, in numpy you can concatenate vectors and matrices along an axis.\n",
    "\n",
    "**Joins** with pandas happen when columns of two DataFrames are joined together on index or on a key column. The concept is the same as SQL joins. In pandas, joins are done typically with the `.merge()` function. \n",
    "\n",
    "Here is a representation of left, right, inner, and outer joins with Venn diagrams:\n",
    "\n",
    "![](../assets/joins.png)"
   ]
  },
  {
   "cell_type": "markdown",
   "metadata": {},
   "source": [
    "<a id='numpy_concatenation'></a>\n",
    "\n",
    "### Concatenation using numpy\n",
    "\n",
    "---\n",
    "\n",
    "Concatenating vectors and matrices in numpy is a common operation that is wise to practice. Because pandas uses numpy under the hood, concatenation in pandas is essentially equivalent to concatenation in numpy.\n"
   ]
  },
  {
   "cell_type": "code",
   "execution_count": null,
   "metadata": {
    "collapsed": true
   },
   "outputs": [],
   "source": [
    "import numpy as np\n",
    "import pandas as pd"
   ]
  },
  {
   "cell_type": "code",
   "execution_count": null,
   "metadata": {
    "collapsed": true
   },
   "outputs": [],
   "source": [
    "vector1 = np.array([[1,2,3,4]])\n",
    "vector2 = np.array([[5,6,7,8]])"
   ]
  },
  {
   "cell_type": "markdown",
   "metadata": {},
   "source": [
    "#### Concatenate `vector1` and `vector2` together with `np.concatenate()`.\n",
    "\n",
    "Note: unlike python lists, you cannot simply add two numpy vectors together and expect them to concatenate. The addition operator has a different meaning in numpy (element-wise addition)."
   ]
  },
  {
   "cell_type": "code",
   "execution_count": null,
   "metadata": {},
   "outputs": [],
   "source": [
    "vector1+vector2"
   ]
  },
  {
   "cell_type": "code",
   "execution_count": null,
   "metadata": {},
   "outputs": [],
   "source": [
    "np.concatenate([vector1, vector2])"
   ]
  },
  {
   "cell_type": "markdown",
   "metadata": {},
   "source": [
    "Our two arrays are 1-dimensional. We can make them 2-dimensional by adding an axis with `np.newaxis`. (One of the many ways to do this.)\n",
    "\n",
    "#### Add a new axis to `vector1` to make it 2-dimensional. Print out the shape to verify."
   ]
  },
  {
   "cell_type": "code",
   "execution_count": null,
   "metadata": {
    "collapsed": true
   },
   "outputs": [],
   "source": [
    "vec1_2d = vector1[:, np.newaxis]\n",
    "print(vector1, vector1.shape)\n",
    "print(vec1_2d, vec1_2d.shape)"
   ]
  },
  {
   "cell_type": "markdown",
   "metadata": {},
   "source": [
    "There is a big difference between a vector of shape `(4,)` and another vector with shape `(4,1)`. Especially when it comes to matrix multiplications and linear algebra. Numpy prefers to operate with Vectors of shape `(R,1)` where `R` is Rows. \n",
    "\n",
    "[Here is a great answer to a question on StackOverflow explaining more on the topic.](http://stackoverflow.com/questions/22053050/difference-between-numpy-array-shape-r-1-and-r)"
   ]
  },
  {
   "cell_type": "markdown",
   "metadata": {},
   "source": [
    "Alternatively put the new axis in the first position:"
   ]
  },
  {
   "cell_type": "code",
   "execution_count": null,
   "metadata": {
    "collapsed": true
   },
   "outputs": [],
   "source": [
    "vec1_2d = vector1[np.newaxis, :]\n",
    "print(vector1)\n",
    "print(vec1_2d)"
   ]
  },
  {
   "cell_type": "markdown",
   "metadata": {},
   "source": [
    "With 2D (and above) matrices concatenation must be done along an **axis**. With a two dimensional matrix you can think of concatenating along axis 0 as stacking vertically, and concatenation along axis 1 as stacking horizontally.\n",
    "\n",
    "#### Make `vector1` and `vector2` 2D. Concatenate them vertically and horizontally by specifying the axis in the function."
   ]
  },
  {
   "cell_type": "code",
   "execution_count": null,
   "metadata": {
    "collapsed": true
   },
   "outputs": [],
   "source": [
    "vec1_2d = vector1[np.newaxis, :]\n",
    "vec2_2d = vector2[np.newaxis, :]\n",
    "\n",
    "print(\"Vertical Stack\")\n",
    "print(np.concatenate([vec1_2d, vec2_2d], axis=0))\n",
    "print(\"Horizontal Stack\")\n",
    "print(np.concatenate([vec1_2d, vec2_2d], axis=1))"
   ]
  },
  {
   "cell_type": "markdown",
   "metadata": {},
   "source": [
    "<a id='pandas_concatenation'></a>\n",
    "\n",
    "### Concatenation using pandas\n",
    "\n",
    "---\n",
    "\n",
    "It is often the case that you  would like to concatenate two dataframes together. Perhaps your data is split up into two groups of subjects with the same variables/columns and you want to join them together (stacking vertically - adding rows). Or perhaps you have new variables for all of your existing subjects (stacking horizontally - adding columns).\n",
    "\n",
    "Below we have two simple datasets we can use to practice pandas concatenation."
   ]
  },
  {
   "cell_type": "code",
   "execution_count": null,
   "metadata": {
    "collapsed": true
   },
   "outputs": [],
   "source": [
    "df1 = pd.DataFrame({'A': ['A0', 'A1', 'A2', 'A3'],\n",
    "                    'B': ['B0', 'B1', 'B2', 'B3'],\n",
    "                    'C': ['C0', 'C1', 'C2', 'C3'],\n",
    "                    'D': ['D0', 'D1', 'D2', 'D3']},\n",
    "                    index=[0, 1, 2, 3])\n",
    "\n",
    "df2 = pd.DataFrame({'A': ['A4', 'A5', 'A6', 'A7'],\n",
    "                    'B': ['B4', 'B5', 'B6', 'B7'],\n",
    "                    'C': ['C4', 'C5', 'C6', 'C7'],\n",
    "                    'D': ['D4', 'D5', 'D6', 'D7']},\n",
    "                    index=[4, 5, 6, 7])"
   ]
  },
  {
   "cell_type": "markdown",
   "metadata": {},
   "source": [
    "In pandas we can use the `pd.concat` function to stack DataFrames vertically or horizontally. `pd.concat()` takes a list of pandas dataframes as its first argument, and then an axis keyword argument indicating how to concatenate the dataframes. \n",
    "\n",
    "The axis argument works the same as in numpy.\n",
    "\n",
    "**Concatenate `df1` and `df2` by stacking them vertically.**"
   ]
  },
  {
   "cell_type": "code",
   "execution_count": null,
   "metadata": {},
   "outputs": [],
   "source": [
    "pd.concat([df1, df2], axis=0)"
   ]
  },
  {
   "cell_type": "markdown",
   "metadata": {},
   "source": [
    "**Concatenate `df1` and `df2` by stacking them horizontally.**"
   ]
  },
  {
   "cell_type": "code",
   "execution_count": null,
   "metadata": {
    "collapsed": true
   },
   "outputs": [],
   "source": [
    "pd.concat([df1, df2], axis=1)"
   ]
  },
  {
   "cell_type": "markdown",
   "metadata": {},
   "source": [
    "You can see that because the pandas indice are different for the two dataframes, it fills in null values. Perhaps we don't care about the row labels during the horizontal concatenation. If you reset the index for `df2` prior to the concatenation it will not fill in null values:"
   ]
  },
  {
   "cell_type": "code",
   "execution_count": null,
   "metadata": {
    "collapsed": true
   },
   "outputs": [],
   "source": [
    "pd.concat([df1, df2.reset_index(drop=True)], axis=1)"
   ]
  },
  {
   "cell_type": "markdown",
   "metadata": {},
   "source": [
    "<a id='pandas_joins'></a>\n",
    "\n",
    "### Left, right, inner, and outer joins in pandas\n",
    "\n",
    "---\n",
    "\n",
    "The pandas `merge` function allows us to join together DataFrames using columns as keys.\n",
    "\n",
    "[(The same walkthrough can be found here.)](http://chrisalbon.com/python/pandas_join_merge_dataframe.html)\n",
    "\n",
    "Below we have two dataframes with information on `subject_id`, `first_name`, and `last_name`. We also have a third dataframe with information on `subject_id` and `test_id`."
   ]
  },
  {
   "cell_type": "code",
   "execution_count": null,
   "metadata": {
    "collapsed": true
   },
   "outputs": [],
   "source": [
    "raw_data = {\n",
    "        'subject_id': ['1', '2', '3', '4', '5'],\n",
    "        'first_name': ['Alex', 'Amy', 'Allen', 'Alice', 'Ayoung'],\n",
    "        'last_name': ['Anderson', 'Ackerman', 'Ali', 'Aoni', 'Atiches']}\n",
    "df_a = pd.DataFrame(raw_data)\n",
    "df_a"
   ]
  },
  {
   "cell_type": "code",
   "execution_count": null,
   "metadata": {
    "collapsed": true
   },
   "outputs": [],
   "source": [
    "raw_data = {\n",
    "        'subject_id': ['4', '5', '6', '7', '8'],\n",
    "        'first_name': ['Billy', 'Brian', 'Bran', 'Bryce', 'Betty'],\n",
    "        'last_name': ['Bonder', 'Black', 'Balwner', 'Brice', 'Btisan']}\n",
    "df_b = pd.DataFrame(raw_data)\n",
    "df_b"
   ]
  },
  {
   "cell_type": "code",
   "execution_count": null,
   "metadata": {
    "collapsed": true
   },
   "outputs": [],
   "source": [
    "raw_data = {\n",
    "        'subject_id': ['1', '2', '3', '4', '5', '7', '8', '9', '10', '11'],\n",
    "        'test_id': [51, 15, 15, 61, 16, 14, 15, 1, 61, 16]}\n",
    "df_n = pd.DataFrame(raw_data)\n",
    "df_n"
   ]
  },
  {
   "cell_type": "markdown",
   "metadata": {},
   "source": [
    "**Pandas `pd.merge()` for SQL-style joins**\n",
    "\n",
    "A left join produces a complete set of records from `df_a`, with the matching records (where available) in `df_b`. If there is no match, the right side will contain null.\n",
    "\n",
    "The pandas `pd.merge()` command has arguments:\n",
    "- left-hand dataset\n",
    "- right-hand dataset\n",
    "- `on=` : keyword argument specifying the key column to join the dataframes on.\n",
    "- `how=` : keyword argument specifying the type of join (left, right, inner, outer).\n",
    "\n",
    "#### Left join `df_b` onto `df_a` by `subject_id`."
   ]
  },
  {
   "cell_type": "code",
   "execution_count": null,
   "metadata": {
    "collapsed": true
   },
   "outputs": [],
   "source": [
    "pd.merge(df_a, df_b, on='subject_id', how='left')"
   ]
  },
  {
   "cell_type": "markdown",
   "metadata": {},
   "source": [
    "#### Right join `df_b` onto `df_a` by `subject_id`\n",
    "\n",
    "Merge with a right join produces a complete set of records from `df_b`, with the matching records (where available) in `df_a`. If there is no match, the left side will contain null.\n"
   ]
  },
  {
   "cell_type": "code",
   "execution_count": null,
   "metadata": {
    "collapsed": true
   },
   "outputs": [],
   "source": [
    "pd.merge(df_a, df_b, on='subject_id', how='right')"
   ]
  },
  {
   "cell_type": "markdown",
   "metadata": {},
   "source": [
    "#### Outer join `df_b` onto `df_a` by `subject_id`\n",
    "\n",
    "An outer join produces the set of all records in `df_a` and `df_b`, with matching records from both sides where available. If there is no match, the missing side will contain null."
   ]
  },
  {
   "cell_type": "code",
   "execution_count": null,
   "metadata": {
    "collapsed": true
   },
   "outputs": [],
   "source": [
    "pd.merge(df_a, df_b, on='subject_id', how='outer')"
   ]
  },
  {
   "cell_type": "markdown",
   "metadata": {},
   "source": [
    "#### Inner join `df_b` onto `df_a` by `subject_id`\n",
    "\n",
    "An inner join produces only the set of records that match in both df_a and df_b."
   ]
  },
  {
   "cell_type": "code",
   "execution_count": null,
   "metadata": {
    "collapsed": true
   },
   "outputs": [],
   "source": []
  },
  {
   "cell_type": "markdown",
   "metadata": {},
   "source": [
    "#### Combine the information in `df_a`, `df_b` and `df_n` using joins\n",
    "\n",
    "No information should be lost."
   ]
  },
  {
   "cell_type": "code",
   "execution_count": null,
   "metadata": {
    "collapsed": true
   },
   "outputs": [],
   "source": [
    "df_1 = pd.merge(df_a, df_b, on='subject_id', how='outer')\n",
    "\n",
    "df_2 = pd.merge(df_1, df_n, on='subject_id', how='outer')\n",
    "df_2"
   ]
  },
  {
   "cell_type": "markdown",
   "metadata": {},
   "source": [
    "#### Combine the information in the three datasets only where information is contained in all rows of the output."
   ]
  },
  {
   "cell_type": "code",
   "execution_count": null,
   "metadata": {
    "collapsed": true
   },
   "outputs": [],
   "source": [
    "df_1 = pd.merge(df_a, df_b, on='subject_id', how='inner')\n",
    "\n",
    "df_2 = pd.merge(df_1, df_n, on='subject_id', how='inner')\n",
    "df_2"
   ]
  },
  {
   "cell_type": "code",
   "execution_count": null,
   "metadata": {
    "collapsed": true
   },
   "outputs": [],
   "source": []
  }
 ],
 "metadata": {
  "kernelspec": {
   "display_name": "Python 3",
   "language": "python",
   "name": "python3"
  },
  "language_info": {
   "codemirror_mode": {
    "name": "ipython",
    "version": 3
   },
   "file_extension": ".py",
   "mimetype": "text/x-python",
   "name": "python",
   "nbconvert_exporter": "python",
   "pygments_lexer": "ipython3",
   "version": "3.6.4"
  },
  "toc": {
   "nav_menu": {},
   "number_sections": false,
   "sideBar": true,
   "skip_h1_title": false,
   "title_cell": "Table of Contents",
   "title_sidebar": "Contents",
   "toc_cell": false,
   "toc_position": {},
   "toc_section_display": true,
   "toc_window_display": false
  },
  "varInspector": {
   "cols": {
    "lenName": 16,
    "lenType": 16,
    "lenVar": 40
   },
   "kernels_config": {
    "python": {
     "delete_cmd_postfix": "",
     "delete_cmd_prefix": "del ",
     "library": "var_list.py",
     "varRefreshCmd": "print(var_dic_list())"
    },
    "r": {
     "delete_cmd_postfix": ") ",
     "delete_cmd_prefix": "rm(",
     "library": "var_list.r",
     "varRefreshCmd": "cat(var_dic_list()) "
    }
   },
   "types_to_exclude": [
    "module",
    "function",
    "builtin_function_or_method",
    "instance",
    "_Feature"
   ],
   "window_display": false
  }
 },
 "nbformat": 4,
 "nbformat_minor": 1
}
