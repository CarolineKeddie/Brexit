{
 "cells": [
  {
   "cell_type": "markdown",
   "metadata": {},
   "source": [
    "<img src=\"http://imgur.com/1ZcRyrc.png\" style=\"float: left; margin: 20px; height: 55px\">\n",
    "\n",
    "\n",
    "# Hive EMR bikedata\n",
    "\n",
    "---"
   ]
  },
  {
   "cell_type": "markdown",
   "metadata": {},
   "source": [
    "For this lab we will use data from the [Bay Area Bike Share Open Data Website](http://www.bayareabikeshare.com/open-data)\n",
    "\n",
    "We've downloaded a part of it which is made available in an S3 bucket. Each trip is anonymised and includes:\n",
    "\n",
    "- Bike number\n",
    "- Trip start day and time\n",
    "- Trip end day and time\n",
    "- Trip start station\n",
    "- Trip end station\n",
    "- Rider type – Annual or Casual (24-hour or 3-day member)\n",
    "\n",
    "If it is an annual member trip, it will also include the member’s home zip code.\n",
    "\n",
    "The data set also includes:\n",
    "\n",
    "- Weather information per day per service area\n",
    "- Bike and dock availability per minute per station"
   ]
  },
  {
   "cell_type": "markdown",
   "metadata": {},
   "source": [
    "## Exercise 1: Spin up EMR cluster\n",
    "\n",
    "Log into your AWS - EMR account and start a cluster with the following properties:\n",
    "- Amazon EMR 4.7.0 Core Hadoop\n",
    "- 3 instances (you can use m1.medium)\n",
    "\n",
    "Use the cluster from the last lesson or repeat the previous steps."
   ]
  },
  {
   "cell_type": "markdown",
   "metadata": {},
   "source": [
    "## Exercise 2: Log into HUE\n",
    "\n",
    "Connect to HUE on the master node as you have learned to do (using SSH tunnelling and FoxyProxy)."
   ]
  },
  {
   "cell_type": "markdown",
   "metadata": {},
   "source": [
    "## Exercise 3: Import Data and create tables\n",
    "\n",
    "- Download the zip file provided in the S3 bucket galdn-dsi3-babsdata.\n",
    "- Import the file to the hadoop file system, either via the command line or directly using HUE.\n",
    "- Import the files uploaded to the Hadoop file system into the hive database. Check that they are present and that all the content has been uploaded appropriately."
   ]
  },
  {
   "cell_type": "code",
   "execution_count": null,
   "metadata": {},
   "outputs": [],
   "source": []
  },
  {
   "cell_type": "markdown",
   "metadata": {},
   "source": [
    "## Exercise 4: Top start stations\n",
    "\n",
    "Let's start with some exploratory analysis. For example the trips table contains information on the trips. Let's find the top 10 most popular start stations based on the trip data.\n",
    "\n",
    "- Formulate a HIVE query to retrieve the top 10 start stations and sort them by count in descending order. \n",
    "    - Try this in the HUE interface.\n",
    "    - Try this also in the terminal through the ssh to the master ec2."
   ]
  },
  {
   "cell_type": "code",
   "execution_count": null,
   "metadata": {
    "collapsed": true
   },
   "outputs": [],
   "source": []
  },
  {
   "cell_type": "markdown",
   "metadata": {},
   "source": [
    "## Exercise 5: Chart of top start stations\n",
    "\n",
    "Use the Chart tab in Hue to generate a chart of the results, sorting them with the most popular on the left."
   ]
  },
  {
   "cell_type": "markdown",
   "metadata": {},
   "source": [
    "Question:\n",
    "- What was the most popular start station (the station with the highest count)?"
   ]
  },
  {
   "cell_type": "code",
   "execution_count": null,
   "metadata": {
    "collapsed": true
   },
   "outputs": [],
   "source": []
  },
  {
   "cell_type": "markdown",
   "metadata": {},
   "source": [
    "## Exercise 6: Top destinations + Map \n",
    "\n",
    "For trips starting from the most popular station, determine which end stations were the most popular.\n",
    "\n",
    "- Fetch the latitude and longitude coordinates for trips starting from the most common starting point. In order to do this you will need to join data from both the trip and station files.\n",
    "\n",
    "- Return a table that contains the top 10 most common destinations with the following fields:\n",
    "    - station_id\n",
    "    - name\n",
    "    - lat\n",
    "    - long\n",
    "    - count (number of trips between the most popular start and that station)\n",
    "    \n",
    "- Try this in the terminal and in HUE. \n",
    "\n",
    "- Display the results using the map chart. Note that you can decide what label to assign to the points."
   ]
  },
  {
   "cell_type": "code",
   "execution_count": null,
   "metadata": {
    "collapsed": true
   },
   "outputs": [],
   "source": []
  },
  {
   "cell_type": "markdown",
   "metadata": {},
   "source": [
    "### Bonus: Hourly data\n",
    "\n",
    "Dig further into the trip data for the most popular station to find the total number of trips and average duration (in minutes) of those trips, grouped by hour.\n",
    "\n",
    "You will need to do a nested query on the trip table:\n",
    "\n",
    "- The inner query should parse the startdate and return just the hour as int for the trips originating in the most common start station.\n",
    "\n",
    "- The outer query should count such trips and calculate the average duration grouped and sorted by hour. \n",
    "\n",
    "\n",
    "**Hints:**\n",
    "\n",
    "- Be careful with trips that have no duration information.\n",
    "\n",
    "- Return a table with the following fields:\n",
    "    - hour\n",
    "    - number of trips\n",
    "    - average duration\n",
    "    \n",
    "- Display the results with two charts displaying the number of trips and the average duration as a function of the hour."
   ]
  },
  {
   "cell_type": "code",
   "execution_count": null,
   "metadata": {
    "collapsed": true
   },
   "outputs": [],
   "source": []
  }
 ],
 "metadata": {
  "anaconda-cloud": {},
  "kernelspec": {
   "display_name": "Python [conda env:anaconda3]",
   "language": "python",
   "name": "conda-env-anaconda3-py"
  },
  "language_info": {
   "codemirror_mode": {
    "name": "ipython",
    "version": 3
   },
   "file_extension": ".py",
   "mimetype": "text/x-python",
   "name": "python",
   "nbconvert_exporter": "python",
   "pygments_lexer": "ipython3",
   "version": "3.6.4"
  },
  "toc": {
   "nav_menu": {},
   "number_sections": false,
   "sideBar": true,
   "skip_h1_title": true,
   "title_cell": "Table of Contents",
   "title_sidebar": "Contents",
   "toc_cell": false,
   "toc_position": {},
   "toc_section_display": "block",
   "toc_window_display": false
  }
 },
 "nbformat": 4,
 "nbformat_minor": 1
}
