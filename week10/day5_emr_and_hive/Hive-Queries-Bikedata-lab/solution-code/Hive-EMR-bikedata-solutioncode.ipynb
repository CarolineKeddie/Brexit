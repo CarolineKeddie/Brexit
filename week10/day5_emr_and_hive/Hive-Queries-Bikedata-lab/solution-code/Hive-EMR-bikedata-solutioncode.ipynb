{
 "cells": [
  {
   "cell_type": "markdown",
   "metadata": {},
   "source": [
    "<img src=\"http://imgur.com/1ZcRyrc.png\" style=\"float: left; margin: 20px; height: 55px\">\n",
    "\n",
    "\n",
    "# Hive EMR bikedata\n",
    "\n",
    "---"
   ]
  },
  {
   "cell_type": "markdown",
   "metadata": {},
   "source": [
    "For this lab we will use data from the [Bay Area Bike Share Open Data Website](http://www.bayareabikeshare.com/open-data)\n",
    "\n",
    "We've downloaded a part of it which is made available in an S3 bucket. Each trip is anonymised and includes:\n",
    "\n",
    "- Bike number\n",
    "- Trip start day and time\n",
    "- Trip end day and time\n",
    "- Trip start station\n",
    "- Trip end station\n",
    "- Rider type – Annual or Casual (24-hour or 3-day member)\n",
    "\n",
    "If it is an annual member trip, it will also include the member’s home zip code.\n",
    "\n",
    "The data set also includes:\n",
    "\n",
    "- Weather information per day per service area\n",
    "- Bike and dock availability per minute per station"
   ]
  },
  {
   "cell_type": "markdown",
   "metadata": {},
   "source": [
    "## Exercise 1: Spin up EMR cluster\n",
    "\n",
    "Log into your AWS - EMR account and start a cluster with the following properties:\n",
    "- Amazon EMR 4.7.0 Core Hadoop\n",
    "- 3 instances (you can use m1.medium)\n",
    "\n",
    "Use the cluster from the last lesson or repeat the previous steps."
   ]
  },
  {
   "cell_type": "markdown",
   "metadata": {},
   "source": [
    "## Exercise 2: Log into HUE\n",
    "\n",
    "Connect to HUE on the master node as you have learned to do (using SSH tunnelling and FoxyProxy)."
   ]
  },
  {
   "cell_type": "markdown",
   "metadata": {},
   "source": [
    "## Exercise 3: Import Data and create tables\n",
    "\n",
    "- Download the zip file provided in the S3 bucket galdn-dsi3-babsdata.\n",
    "- Import the file to the hadoop file system, either via the command line or directly using HUE.\n",
    "- Import the files uploaded to the Hadoop file system into the hive database. Check that they are present and that all the content has been uploaded appropriately."
   ]
  },
  {
   "cell_type": "markdown",
   "metadata": {},
   "source": [
    "## Exercise 4: Top start stations\n",
    "\n",
    "Let's start with some exploratory analysis. For example the trips table contains information on the trips. Let's find the top 10 most popular start stations based on the trip data.\n",
    "\n",
    "- Formulate a HIVE query to retrieve the top 10 start stations and sort them by count in descending order. \n",
    "    - Try this in the HUE interface.\n",
    "    - Try this also in the terminal through the ssh to the master ec2."
   ]
  },
  {
   "cell_type": "markdown",
   "metadata": {},
   "source": [
    "```SQL\n",
    "SELECT `start terminal`, `start station`, count(*) as count  FROM `201408_trip_data`\n",
    "GROUP BY `start terminal`, `start station`\n",
    "ORDER BY count DESC\n",
    "LIMIT 10;\n",
    "```"
   ]
  },
  {
   "cell_type": "markdown",
   "metadata": {},
   "source": [
    "\n",
    "||startterminal|startstation|count|\n",
    "|---|\n",
    "|0|70|San Francisco Caltrain (Townsend at 4th)|12950|\n",
    "|1|50|Harry Bridges Plaza (Ferry Building)|8336|\n",
    "|2|60|Embarcadero at Sansome|7010|\n",
    "|3|69|San Francisco Caltrain 2 (330 Townsend)|7008|\n",
    "|4|61|2nd at Townsend|6824|\n",
    "|5|77|Market at Sansome|6819|\n",
    "|6|55|Temporary Transbay Terminal (Howard at Beale)|6540|\n",
    "|7|74|Steuart at Market|6238|\n",
    "|8|65|Townsend at 7th|5479|\n",
    "|9|76|Market at 4th|5241|"
   ]
  },
  {
   "cell_type": "markdown",
   "metadata": {},
   "source": [
    "## Exercise 5: Chart of top start stations\n",
    "\n",
    "Use the Chart tab in Hue to generate a chart of the results, sorting them with the most popular on the left.\n",
    "\n",
    "![](../assets/images/popular_stations.png)"
   ]
  },
  {
   "cell_type": "markdown",
   "metadata": {},
   "source": [
    "Question:\n",
    "- What was the most popular start station (the station with the highest count)?\n",
    "> San Francisco Caltrain (Townsend at 4th) was by far the most common start station."
   ]
  },
  {
   "cell_type": "markdown",
   "metadata": {},
   "source": [
    "## Exercise 6: Top destinations + Map \n",
    "\n",
    "For trips starting from the most popular station, determine which end stations were the most popular.\n",
    "\n",
    "- Fetch the latitude and longitude coordinates for trips starting from the most common starting point. In order to do this you will need to join data from both the trip and station files.\n",
    "\n",
    "- Return a table that contains the top 10 most common destinations with the following fields:\n",
    "    - station_id\n",
    "    - name\n",
    "    - lat\n",
    "    - long\n",
    "    - count (number of trips between the most popular start and that station)\n",
    "    \n",
    "- Try this in the terminal and in HUE. \n",
    "\n",
    "- Display the results using the map chart. Note that you can decide what label to assign to the points."
   ]
  },
  {
   "cell_type": "markdown",
   "metadata": {},
   "source": [
    "```SQL\n",
    "SELECT \n",
    "    s.station_id, \n",
    "    s.name, \n",
    "    s.lat, \n",
    "    s.long, \n",
    "    COUNT(*) AS count \n",
    "FROM `201408_trip_data` t \n",
    "JOIN `201408_station_data` s ON s.station_id = t.`end terminal` \n",
    "WHERE t.`start terminal` = 70 \n",
    "GROUP BY s.station_id, s.name, s.lat, s.long \n",
    "ORDER BY count DESC LIMIT 10;\n",
    "```"
   ]
  },
  {
   "cell_type": "markdown",
   "metadata": {},
   "source": [
    "||s.station_id|s.name|s.lat|s.long|count|\n",
    "|---|\n",
    "|0|55|Temporary Transbay Terminal (Howard at Beale)|37.789756774902344|-122.39464569091797|929|\n",
    "|1|77|Market at Sansome|37.789623260498047|-122.40081024169922|915|\n",
    "|2|74|Steuart at Market|37.794139862060547|-122.39443206787109|826|\n",
    "|3|51|Embarcadero at Folsom|37.791465759277344|-122.39103698730469|806|\n",
    "|4|50|Harry Bridges Plaza (Ferry Building)|37.795391082763672|-122.39420318603516|749|\n",
    "|5|68|Yerba Buena Center of the Arts (3rd @ Howard)|37.784877777099609|-122.40101623535156|670|\n",
    "|6|65|Townsend at 7th|37.77105712890625|-122.40271759033203|554|\n",
    "|7|63|Howard at 2nd|37.786979675292969|-122.39810943603516|552|\n",
    "|8|42|Davis at Jackson|37.797279357910156|-122.3984375|468|\n",
    "|9|61|2nd at Townsend|37.780525207519531|-122.39028930664062|461|\n",
    "\n",
    "\n",
    "![](../assets/images/map.png)"
   ]
  },
  {
   "cell_type": "markdown",
   "metadata": {},
   "source": [
    "### Bonus: Hourly data\n",
    "\n",
    "Dig further into the trip data for the most popular station to find the total number of trips and average duration (in minutes) of those trips, grouped by hour.\n",
    "\n",
    "You will need to do a nested query on the trip table:\n",
    "\n",
    "- The inner query should parse the startdate and return just the hour as int for the trips originating in the most common start station.\n",
    "\n",
    "- The outer query should count such trips and calculate the average duration grouped and sorted by hour. \n",
    "\n",
    "\n",
    "**Hints:**\n",
    "\n",
    "- Be careful with trips that have no duration information.\n",
    "\n",
    "- Return a table with the following fields:\n",
    "    - hour\n",
    "    - number of trips\n",
    "    - average duration\n",
    "    \n",
    "- Display the results with two charts displaying the number of trips and the average duration as a function of the hour."
   ]
  },
  {
   "cell_type": "markdown",
   "metadata": {},
   "source": [
    "```SQL\n",
    "SELECT\n",
    "    hour,\n",
    "    COUNT(1) AS trip,\n",
    "    ROUND(AVG(duration) / 60) AS avg_duration\n",
    "FROM (\n",
    "SELECT hour(t.`start date`) AS hour,\n",
    "        t.duration AS duration\n",
    "    FROM `201408_trip_data` t \n",
    "    WHERE\n",
    "        t.`start terminal` = 70\n",
    "        AND\n",
    "        t.duration IS NOT NULL\n",
    "    ) r\n",
    "GROUP BY hour\n",
    "ORDER BY hour ASC;\n",
    "```"
   ]
  },
  {
   "cell_type": "markdown",
   "metadata": {},
   "source": [
    "||hour|trip|avg_duration|\n",
    "|---|\n",
    "|0|0|26|8|\n",
    "|1|1|14|49|\n",
    "|2|2|7|93|\n",
    "|3|3|1|21|\n",
    "|4|4|1|4|\n",
    "|5|5|41|52|\n",
    "|6|6|545|11|\n",
    "|7|7|2126|12|\n",
    "|8|8|3273|12|\n",
    "|9|9|1702|14|\n",
    "|10|10|481|12|\n",
    "|11|11|306|22|\n",
    "|12|12|235|20|\n",
    "|13|13|205|30|\n",
    "|14|14|181|19|\n",
    "|15|15|211|21|\n",
    "|16|16|347|18|\n",
    "|17|17|1008|12|\n",
    "|18|18|1029|11|\n",
    "|19|19|684|10|\n",
    "|20|20|229|9|\n",
    "|21|21|130|28|\n",
    "|22|22|113|9|\n",
    "|23|23|55|10|\n",
    "\n",
    "![](../assets/images/trips_by_hour.png)\n",
    "![](../assets/images/average_duration.png)"
   ]
  },
  {
   "cell_type": "code",
   "execution_count": null,
   "metadata": {
    "collapsed": true
   },
   "outputs": [],
   "source": []
  }
 ],
 "metadata": {
  "anaconda-cloud": {},
  "kernelspec": {
   "display_name": "Python [conda env:anaconda3]",
   "language": "python",
   "name": "conda-env-anaconda3-py"
  },
  "language_info": {
   "codemirror_mode": {
    "name": "ipython",
    "version": 3
   },
   "file_extension": ".py",
   "mimetype": "text/x-python",
   "name": "python",
   "nbconvert_exporter": "python",
   "pygments_lexer": "ipython3",
   "version": "3.6.4"
  },
  "toc": {
   "nav_menu": {},
   "number_sections": false,
   "sideBar": true,
   "skip_h1_title": true,
   "title_cell": "Table of Contents",
   "title_sidebar": "Contents",
   "toc_cell": false,
   "toc_position": {},
   "toc_section_display": "block",
   "toc_window_display": false
  }
 },
 "nbformat": 4,
 "nbformat_minor": 1
}
