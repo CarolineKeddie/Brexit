{
 "cells": [
  {
   "cell_type": "markdown",
   "metadata": {},
   "source": [
    "<img src=\"http://imgur.com/1ZcRyrc.png\" style=\"float: left; margin: 20px; height: 55px\">\n",
    "\n",
    "# Setting up AWS console and s3\n",
    "\n",
    "---"
   ]
  },
  {
   "cell_type": "markdown",
   "metadata": {},
   "source": [
    "The AWS console allows you to run AWS specific commands in the terminal and makes things easier particularly for dealing with S3.\n",
    "\n",
    "Setting up the AWS command line interface (AWSCLI):\n",
    "- Go to the interface https://console.aws.amazon.com/iam\n",
    "- On the left sidebar, click **Users**, then **Add User**\n",
    "- Enter a user name and give it both programmatic access and AWS management access\n",
    "- On the next page click **Attach existing policies directly**\n",
    "- Search for **AdministratorAccess**\n",
    "- Don't click on it but rather click the tick box next to it (clicking on the text actually opens up documentation which you don't want). Click Next.\n",
    "- Click **Create User**. On this page there is a link to download a csv-file with the credentials.\n",
    "- Make sure you download this file and put it somewhere sensible where you can find it (I recommend putting all these files into one directory). You should rename it also to something like `AWSCLI_credentials.csv` so that later on you know what it is.\n",
    "- Go to your terminal and type\n",
    "\n",
    "```bash\n",
    "sudo pip install awscli\n",
    "aws configure\n",
    "```\n",
    "\n",
    "You will also have to add the following path to the file .bash_profile:"
   ]
  },
  {
   "cell_type": "markdown",
   "metadata": {},
   "source": [
    "`\n",
    "export PATH=~/.local/bin:$PATH\n",
    "`"
   ]
  },
  {
   "cell_type": "markdown",
   "metadata": {},
   "source": [
    "and source it:\n",
    "\n",
    "```bash\n",
    "source ~/.bash_profile\n",
    "```"
   ]
  },
  {
   "cell_type": "markdown",
   "metadata": {},
   "source": [
    "- You will now be asked for credentials from the csv file you stored earlier. When asked for the region, you can put us-east-1 as the default region, but you could also leave this blank as it just sets a default.\n",
    "- Now you will have AWS commands in your terminal. Let's set up S3 so we can see how the AWSCLI can be useful."
   ]
  },
  {
   "cell_type": "markdown",
   "metadata": {},
   "source": [
    "## Set up an S3 bucket\n",
    "\n",
    "- Go to the interface https://console.aws.amazon.com/s3\n",
    "- Click **Create bucket**\n",
    "- Give it a name not including underscores, so something like firstname-lastname-1. Note that the name actually has to be unique, so you might be rejected if it is the same as a pre-existing one.\n",
    "- Check the region as that will be important now, e.g. US standard. This relates to the physical location of the data storage centre so has implications for data storage laws if you are running a website for example.\n",
    "- Click on the bucket and click **Upload**\n",
    "- Create some text file on your local computer and upload it so you have some contents to your bucket.\n",
    "- Go to your terminal and type:\n",
    "    \n",
    "```bash \n",
    "aws s3 ls s3://my-bucket-name\n",
    "```\n",
    "    \n",
    "- It should list the file you just added to the bucket. Note you can run the same commands from an ec2 instance. The awscli is already installed so you can just run\n",
    "\n",
    "```bash\n",
    "aws configure\n",
    "```\n",
    "\n",
    "in that case to set it up.\n",
    "\n"
   ]
  },
  {
   "cell_type": "markdown",
   "metadata": {},
   "source": [
    "## Further aws commands:\n",
    "\n",
    "Note that you can run all aws with the awscli, so for example you can use the command\n",
    "\n",
    "```bash \n",
    "aws ec2 describe-instances\n",
    "```\n",
    "\n",
    "To return information about your ec2 instances such as their public DNS, but generally it tends to be simpler to do this in the browser interface as we have been doing. S3 is the most useful case for us right now. For example the command\n",
    "\n",
    "```bash \n",
    "aws s3 cp file_to_copy s3://my-bucket-name\n",
    "```\n",
    "\n",
    "will copy a file to your bucket. \n",
    "\n",
    "You can also copy a whole folder with\n",
    "\n",
    "```bash \n",
    "aws s3 cp folder_to_copy s3://my-bucket-name\n",
    "```\n",
    "\n",
    "Note also that you can use the sync command on a folder with\n",
    "\n",
    "```bash \n",
    "aws s3 sync folder_to_copy s3://my-bucket-name --exclude *.tmp\n",
    "```\n",
    "\n",
    "which means that you can then change files in that folder, and then re-run the sync command, without having to separately remove or add individual files (note the sync is not done automatically, you have to manually run the sync each time you want to update the contents)\n",
    "\n",
    "You can also remove files from your s3 bucket with:\n",
    "\n",
    "```bash \n",
    "aws s3 rm s3://my-bucket-name/file_to_remove\n",
    "```\n",
    "\n",
    "You can delete a folder using the recursive keyword:\n",
    "\n",
    "```bash \n",
    "aws s3 rm s3://my-bucket-name/folder_to_remove --recursive\n",
    "```\n",
    "    \n",
    "You can also rename files with the mv keyword:\n",
    "\n",
    "```bash \n",
    "aws s3 mv s3://my-bucket-name/old_file_name s3://my-bucket-name/new_file_name\n",
    "\n",
    "```\n",
    "\n",
    "You can copy files the other way round by:\n",
    "\n",
    "```bash \n",
    "aws s3 cp s3://my-bucket-name/file_to_copy file_to_copy\n",
    "```\n",
    "\n",
    "If you wanted instead to give a full pathname that would look like:\n",
    "\n",
    "```bash \n",
    "\n",
    "aws s3 cp s3://my-bucket-name/file_to_copy ~/folder/subfolder/.\n",
    "\n",
    "```\n",
    "\n",
    "where the `~/` is the home directory, so this will copy to the user's `home/folder/subfolder` directory.\n",
    "\n",
    "\n",
    "You can also delete all contents in a bucket with:\n",
    "\n",
    "```bash\n",
    "aws s3 rm s3://my-bucket-name --recursive\n",
    "```\n",
    "\n",
    "You can create a bucket with:\n",
    "\n",
    "```bash \n",
    "aws s3 mb s3://my-bucket-name\n",
    "```\n",
    "\n",
    "You can delete an empty bucket with:\n",
    "\n",
    "```bash \n",
    "aws s3 rb s3://my-bucket-name\n",
    "```\n"
   ]
  }
 ],
 "metadata": {
  "kernelspec": {
   "display_name": "Python [conda env:anaconda3]",
   "language": "python",
   "name": "conda-env-anaconda3-py"
  },
  "language_info": {
   "codemirror_mode": {
    "name": "ipython",
    "version": 3
   },
   "file_extension": ".py",
   "mimetype": "text/x-python",
   "name": "python",
   "nbconvert_exporter": "python",
   "pygments_lexer": "ipython3",
   "version": "3.6.4"
  },
  "toc": {
   "nav_menu": {},
   "number_sections": false,
   "sideBar": true,
   "skip_h1_title": true,
   "title_cell": "Table of Contents",
   "title_sidebar": "Contents",
   "toc_cell": false,
   "toc_position": {},
   "toc_section_display": "block",
   "toc_window_display": false
  }
 },
 "nbformat": 4,
 "nbformat_minor": 2
}
