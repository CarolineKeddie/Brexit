{
 "cells": [
  {
   "cell_type": "markdown",
   "metadata": {},
   "source": [
    "<img src=\"http://imgur.com/1ZcRyrc.png\" style=\"float: left; margin: 20px; height: 55px\">\n",
    "\n",
    "# AWS: Setting up an ec2 instance\n",
    "\n",
    "\n",
    "---"
   ]
  },
  {
   "cell_type": "markdown",
   "metadata": {},
   "source": [
    "This tutorial will tell you how to launch an instance of ec2 and connect to it\n",
    "using bash. You can also refer to the documentation:\n",
    "[AWS EC2 User Guide](http://docs.aws.amazon.com/AWSEC2/latest/UserGuide/EC2_GetStarted.html).\n",
    "\n",
    "- Go to the ec2 console at https://console.aws.amazon.com/ec2/\n",
    "and choose **Launch Instance**. \n",
    "\n",
    "- Select all the defaults (such as that it is an Amazon Machine Image). \n",
    "\n",
    "- When prompted select a new key pair. You will then be prompted to download this key file. \n",
    "\n",
    "- Put this in a clearly marked folder so you can refer back to it later. It will have a `.pem` extension. \n",
    "\n",
    "- Go to the instances page. You can see the new instance there. With its Public DNS you can refer to it.\n",
    "\n",
    "- To connect to your instance, open up a terminal window and navigate to the folder containing the `.pem` key file. \n",
    "\n",
    "- Change the permission for the key file typing on the shell:\n",
    "\n",
    "```bash\n",
    "$ chmod 400 my_key_file_here.pem\n",
    "```\n",
    "\n",
    "- Login to your instance with \n",
    "\n",
    "```bash\n",
    "$ ssh -i my_key_file_here.pem ec2-user@instance_public_DNS_here\n",
    "```\n",
    "\n",
    "You will get a prompt about security - say yes to go ahead.\n",
    "You are now in the terminal of the remote instance.\n",
    "\n",
    "- You only need to issue the `chmod` command once. To reconnect to your instance later, you just need to be in the folder containing your `.pem` file (or indicate the path to it) and type:\n",
    "\n",
    "```bash \n",
    "$ ssh -i my_key_file_here.pem ec2-user@instance_public_DNS_here\n",
    "```\n",
    "\n",
    "i.e. this is what you do every time you want to connect.\n",
    "\n",
    "- To move files from your local computer to an ec2 instance, or the other way around:\n",
    "\n",
    "- First set up your ec2 instance and ssh in. In another terminal window go to the directory containing the `.pem` key file you use to ssh into your ec2. For ease of use if you wish to transfer a file to ec2 you can place it in this directory, too.\n",
    "\n",
    "- From local to ec2 home directory, write this in your local shell (note the :~ after the public DNS):\n",
    "\n",
    "```bash\n",
    "$ scp -i your_key_file_here.pem (optional full path/)file_you_want_to_move ec2-user@public_DNS_here:.\n",
    "```\n",
    "\n",
    "Note: paths in Linux are written with ~ for the home directory of the user eg.\n",
    "`~/Downloads`\n",
    "would be your downloads folder.\n",
    "\n",
    "- From ec2 to local, write this in your local shell:\n",
    "\n",
    "```bash\n",
    "$ scp -i your_key_file_here.pem ec2-user@public_DNS_here:~/path_to_file_on_ec2 ~/path_to_store_file_locally_including_filename_and_extension\n",
    "```"
   ]
  }
 ],
 "metadata": {
  "kernelspec": {
   "display_name": "Python [conda env:anaconda3]",
   "language": "python",
   "name": "conda-env-anaconda3-py"
  },
  "language_info": {
   "codemirror_mode": {
    "name": "ipython",
    "version": 3
   },
   "file_extension": ".py",
   "mimetype": "text/x-python",
   "name": "python",
   "nbconvert_exporter": "python",
   "pygments_lexer": "ipython3",
   "version": "3.6.4"
  },
  "toc": {
   "nav_menu": {},
   "number_sections": false,
   "sideBar": true,
   "skip_h1_title": true,
   "title_cell": "Table of Contents",
   "title_sidebar": "Contents",
   "toc_cell": false,
   "toc_position": {},
   "toc_section_display": "block",
   "toc_window_display": false
  }
 },
 "nbformat": 4,
 "nbformat_minor": 2
}
