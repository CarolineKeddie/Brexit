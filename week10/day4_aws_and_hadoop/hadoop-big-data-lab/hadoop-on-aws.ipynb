{
 "cells": [
  {
   "cell_type": "markdown",
   "metadata": {},
   "source": [
    "<img src=\"http://imgur.com/1ZcRyrc.png\" style=\"float: left; margin: 20px; height: 55px\">\n",
    "\n",
    "# Hadoop Lab\n",
    "\n",
    "\n",
    "---"
   ]
  },
  {
   "cell_type": "markdown",
   "metadata": {},
   "source": [
    "### Learning Objectives\n",
    "\n",
    "- Running apache Hadoop on an AWS cluster\n",
    "- Navigate the Hadoop file system (HDFS)"
   ]
  },
  {
   "cell_type": "markdown",
   "metadata": {},
   "source": [
    "### Lesson Guide\n",
    "- [Introduction to Elastic Map Reduce (EMR)](#EMR)\n",
    "- [EMR pricing](#pricing)\n",
    "- [EMR cluster](#spin-up)\n",
    "- [Launch cluster](#launch)\n",
    "- [Configure web connection](#configure)\n",
    "    - [Enable ssh access](#access)\n",
    "    - [Install and configure foxy-proxy](#foxy-proxy)\n",
    "- [Hadoop](#hadoop)\n",
    "- [YARN](#yarn)\n",
    "- [Exploring HDFS from the command line](#guided-practice)\n",
    "    - [Exercise 1](#ex1)\n",
    "- [Exploring HDFS from the web interface](#guided-practice2)\n",
    "    - [Exercise 2](#ex2)\n",
    "- [Hadoop word count](#guided-practice3)\n",
    "    - [Exercise 3](#ex3)\n",
    "- [Hadoop streaming word count](#guided-practice4)\n",
    "    - [Exercise 4](#ex4)\n",
    "- [Additional resources](#resources)"
   ]
  },
  {
   "cell_type": "markdown",
   "metadata": {},
   "source": [
    "<a id='EMR'></a>\n",
    "## Intro to Elastic Map Reduce (EMR) \n",
    "\n",
    "In a previous lesson we have discovered two very important AWS services: EC2 and S3. Now we want to spin up a computer cluster on Amazon. \n",
    "\n",
    "**What is a cluster?**\n",
    "\n",
    "**What is a typical topology for a Big Data computing cluster?**\n",
    "\n",
    "Amazon Elastic MapReduce was introduced in April 2009 to automate _provisioning_ of the Hadoop cluster, running and terminating jobs, and handling data transfer between EC2 (VM) and S3 (Object Storage). It simplifies the management of a Hadoop cluster, making it available to anyone at the click of a button.\n",
    "\n",
    "EMR offers several pre-installed software packages including:\n",
    "\n",
    "- Hadoop\n",
    "- Hive\n",
    "- Hue\n",
    "- Spark\n",
    "and many others."
   ]
  },
  {
   "cell_type": "markdown",
   "metadata": {},
   "source": [
    "<a name=\"pricing\"></a>\n",
    "## EMR Pricing\n",
    "\n",
    "EMR Pricing is based on the type of instances forming the cluster and it's divided in tiers. The pricing adds to the cost of spinning up the instances in EC2.\n",
    "\n",
    "Also, very importantly, costs are calculated in hourly increments, so if we plan to use the cluster for two sessions of half an hour, we should have it up for one hour consecutively instead of spinning it up and down twice.\n",
    "\n",
    "EMR is not included in the AWS free tier that you've used in the previous class, so it's always a good practice to do some price checking before you spin up a cluster.\n",
    "\n",
    "We can use the [AWS cost calculator](https://calculator.s3.amazonaws.com/index.html) to estimate the cost of a  three-node cluster with medium size instances `(m3.xlarge)`. The image below shows the cost for one hour: it's slightly more than one dollar.\n",
    "\n",
    "![](./assets/images/emrcost.png)\n",
    "\n",
    "If we were to keep the cluster alive for a month, that would result in a pretty high price, that's why it's so convenient to spin up and down clusters as they are needed.\n",
    "\n",
    "EMR also supports spot Instances. It is recommended to only run the Task Instance Group on spot instances to take advantage of the lower cost while maintaining availability."
   ]
  },
  {
   "cell_type": "markdown",
   "metadata": {},
   "source": [
    "<a name=\"spin-up\"></a>\n",
    "## EMR cluster \n",
    "\n",
    "To spin up the cluster, let's first log-in to AWS and go to the EMR service page:\n",
    "\n",
    "![](./assets/images/emr.png)"
   ]
  },
  {
   "cell_type": "markdown",
   "metadata": {},
   "source": [
    "<a name=\"launch\"></a>\n",
    "### Launch Cluster\n",
    "\n",
    "![](./assets/images/clusterstart.png)\n",
    "\n",
    "**Remember to choose the key pair you have already stored on your computer.**\n",
    "\n",
    "\n",
    "![](./assets/images/clusterstarting.png)\n",
    "\n",
    "**Notice also that like for EC2 we can list the clusters using the Cluster List pane:**\n",
    "\n",
    "![](./assets/images/clusterlist.png)\n",
    "\n",
    "**The cluster will take several minutes to boot completely. Press the circular refresh button in the top right of the console summary (\"Cluster list\") to refresh your view and see if the cluster is ready.**\n",
    "\n",
    "**In the meantime, let's do a couple of review checks:**\n",
    "\n",
    "---\n",
    "\n",
    "**Do you remember how to connect to an instance on EC2?**\n",
    "\n",
    "**Do you remember which commands we used in AWSCLI?**\n",
    "\n",
    "---\n",
    "**Once the cluster is ready we will see it in green:**\n",
    "\n",
    "![](./assets/images/clusterready.png)"
   ]
  },
  {
   "cell_type": "markdown",
   "metadata": {},
   "source": [
    "<a name=\"configure\"></a>\n",
    "## Configure Web Connection \n",
    "\n",
    "To monitor how the cluster works, we will use some browser interfaces. Before we can do that, we will have to go trough one more step. In fact, the default security settings for EMR are pretty tight and do not allow for external web connections to our cluster. In order to connect with a browser we will have to set up an _ssh tunnel_, i.e. have our browser communicate with the cluster via an encrypted channel. \n",
    "\n",
    "Luckily, Amazon provides us with simple instructions:\n",
    "\n",
    "![](./assets/images/webconnection.png)\n",
    "\n",
    "![](./assets/images/sshtunnel.png)"
   ]
  },
  {
   "cell_type": "markdown",
   "metadata": {},
   "source": [
    "<a name=\"access\"></a>\n",
    "### In order to follow them we first need to complete two steps:\n",
    "\n",
    "#### 1. Enable SSH access to our master node. This is done in the Security Groups pane of the EC2 services page.\n",
    "\n",
    "![](./assets/images/securitygroups.png)"
   ]
  },
  {
   "cell_type": "markdown",
   "metadata": {},
   "source": [
    "<a id='foxy-proxy'></a>\n",
    "#### 2. Install and configure Foxy-Proxy as explained [here](https://docs.aws.amazon.com/ElasticMapReduce/latest/ManagementGuide/emr-connect-master-node-proxy.html).\n",
    "\n",
    "Once we have enabled SSH access, we can go ahead and connect:\n",
    "\n",
    "```bash\n",
    "ssh -i ~/.ssh/MyFirstKey.pem -ND 8157 hadoop@<YOUR_MASTER_DNS>\n",
    "```\n",
    "\n",
    "Note that this command will not end because it's keeping the tunnel alive.\n",
    "\n",
    "If the tunnel and Foxy-proxy are well configured, we should be able to connect to several web services. "
   ]
  },
  {
   "cell_type": "markdown",
   "metadata": {},
   "source": [
    "<a id='hadoop'></a>\n",
    "## Hadoop\n",
    "\n",
    "---\n",
    "\n",
    "Apache Hadoop is an open-source software framework for distributed storage and distributed processing of very large data sets on computer clusters built from commodity hardware. All the modules in Hadoop are designed with the fundamental assumption that hardware failures are common and should be automatically handled by the framework.\n",
    "\n",
    "The core of Apache Hadoop consists of a storage part, known as **Hadoop Distributed File System (HDFS)**, and a processing part called MapReduce. Hadoop splits files into large blocks and distributes them across nodes in a cluster.\n",
    "\n",
    "### HDFS\n",
    "\n",
    "The Hadoop distributed file system (HDFS) is a distributed, scalable, and portable file-system written in Java for the Hadoop framework. It's the file system supporting Hadoop.\n"
   ]
  },
  {
   "cell_type": "markdown",
   "metadata": {},
   "source": [
    "<a id='yarn'></a>\n",
    "## YARN\n",
    "---\n",
    "\n",
    "Yarn is a resource-management platform responsible for managing computing resources in clusters and using them for scheduling of users' applications. The fundamental idea of YARN is to split up the functionalities of resource management and job scheduling/monitoring into separate daemons. The idea is to have a global ResourceManager (RM) and per-application ApplicationMaster (AM).\n",
    "\n",
    "The ResourceManager and the NodeManager form the data-computation framework. The ResourceManager is the ultimate authority that arbitrates resources among all the applications in the system. The NodeManager is the per-machine framework agent who is responsible for containers, monitoring their resource usage (cpu, memory, disk, network) and reporting the same to the ResourceManager/Scheduler.\n",
    "\n",
    "The Yarn resource manager offers a web interface that is accessible in our browser at this address:\n",
    "\n",
    "    http://<YOUR_MASTER_DNS>:8088/\n",
    "\n",
    "Go ahead and type that in your browser and you should see a screen like this:\n",
    "\n",
    "![](./assets/images/yarn.png)\n",
    "\n",
    "This will be useful when we run a hadoop job in order to check the status of advancement."
   ]
  },
  {
   "cell_type": "markdown",
   "metadata": {},
   "source": [
    "<a name=\"guided-practice\"></a>\n",
    "\n",
    "## Exploring HDFS from the command line\n",
    "---\n",
    "\n",
    "Hadoop offers a command line interface to navigate the HDFS. The full documentation can be found here:\n",
    "\n",
    "http://hadoop.apache.org/docs/current/hadoop-project-dist/hadoop-common/FileSystemShell.html\n",
    "\n",
    "You can explore the content of the HDFS with commands similar to those  used in the shell, for example\n",
    "\n",
    "```bash\n",
    "hadoop fs -ls\n",
    "```"
   ]
  },
  {
   "cell_type": "markdown",
   "metadata": {},
   "source": [
    "<a id='ex1'></a>\n",
    "### Exercise 1\n",
    "Explore HDFS and describe the content of each folder it contains. "
   ]
  },
  {
   "cell_type": "markdown",
   "metadata": {},
   "source": [
    "<a name=\"guided-practice2\"></a>\n",
    "## Exploring HDFS from the web interface\n",
    "---\n",
    "\n",
    "Hadoop also offers a web interface to navigate and manage HDFS. It can be found at this address:\n",
    "\n",
    "    http://<YOUR_MASTER_DNS>:50070\n",
    "    \n",
    "\n",
    "and it looks like this:\n",
    "\n",
    "![](./assets/images/hdfsweb.png)\n",
    "\n",
    "\n",
    "Click [here](http://docs.aws.amazon.com/emr/latest/ManagementGuide/emr-web-interfaces.html) for further browser interfaces like yarn.\n",
    "\n",
    "<a id='ex2'></a>\n",
    "### Exercise 2\n",
    "Find how you can navigate the HDFS from the web interface. Is the content listed similar to what you were finding with the command line?\n"
   ]
  },
  {
   "cell_type": "markdown",
   "metadata": {},
   "source": [
    "<a name=\"guided-practice3\"></a>\n",
    "## Hadoop word count\n",
    "Let's create a very short file and count the number of words using Hadoop:\n",
    "\n",
    "```bash\n",
    "hadoop fs -mkdir wordcount-input\n",
    "echo \"hello dear world hello\" | hadoop fs -put - wordcount-input/hello.txt\n",
    "```\n",
    "<a name=\"ex3\"></a>\n",
    "### Exercise 3:\n",
    "Run the word count with the following command:\n",
    "\n",
    "```bash\n",
    "hadoop jar hadoop-mapreduce.jar \\\n",
    "                  wordcount wordcount-input wordcount-output\n",
    "```                  \n",
    "   \n",
    "![](assets/images/hdwcshell.png)   \n",
    "![](assets/images/hdwcyarn.png)   \n",
    "   \n",
    "   \n",
    "Check the results by typing:\n",
    "\n",
    "```bash\n",
    "hadoop fs -cat wordcount-output/part*\n",
    "```\n",
    "\n",
    "You should see:\n",
    "\n",
    "    dear   1\n",
    "    hello  2\n",
    "    world  1"
   ]
  },
  {
   "cell_type": "markdown",
   "metadata": {},
   "source": [
    "## Hadoop streaming word count\n",
    "---\n",
    "\n",
    "Hadoop also offers a streaming interface. The streaming interface will process the data as a stream, one piece at a time, and it requires to be told what to do with each piece of data. This is somewhat similar to what we did with the map-reduce from the shell that we used in the previous class.\n",
    "\n",
    "Let's use the same python scripts to run a hadoop streaming map-reduce. We have pre-copied those scripts to the folder scripts. You have to copy them to the hadoop file system.\n",
    "\n",
    "First of all let's copy some data to hdfs. The data folder contains a folder called project_gutenberg. First we have to copy this folder to AWS. Then we have to copy it to hadoop:\n",
    "\n",
    "```hadoop\n",
    "hadoop fs -copyFromLocal project_gutenberg project_gutenberg\n",
    "hadoop fs -copyFromLocal scripts scripts\n",
    "```\n",
    "\n",
    "Go ahead and check that it's there:\n",
    "\n",
    "`http://<YOUR_MASTER_DNS>:50070`\n",
    "        \n",
    "Great! Now we should pipe all the data contained in that folder through our scripts with hadoop streaming. First let's make sure that the scripts work by using the shell pipes we learned in the last lesson.\n",
    "\n",
    "```bash\n",
    "cat project_gutenberg/pg84.txt | python scripts/mapper.py | sort -k 1 | python scripts/reducer.py | sort -rnk 2 > result.txt\n",
    "```\n",
    "\n",
    "Great! They still work. Ok, now let's do hadoop streaming MR:\n",
    "\n",
    "```hadoop\n",
    "hadoop jar scripts/hadoop-streaming.jar  \\\n",
    "      -file scripts/mapper.py   \\\n",
    "      -mapper scripts/mapper.py \\\n",
    "      -file scripts/reducer.py  \\\n",
    "      -reducer scripts/reducer.py \\\n",
    "      -input project_gutenberg/* \\\n",
    "      -output output_gutenberg\n",
    "```\n",
    "\n",
    "Check the status of your MR job here in the yarn interface and the output in the hdfs file browser.\n",
    "\n",
    "You can copy the files with the results to your local folder:\n",
    "\n",
    "```hadoop\n",
    "hadoop fs -copyToLocal output_gutenberg/part* .\n",
    "```"
   ]
  },
  {
   "cell_type": "markdown",
   "metadata": {},
   "source": [
    "<a id='ex4'></a>\n",
    "### Exercise 4\n",
    "\n",
    "You have learned how to spin up a cluster running Hadoop and how to submit map reduce job flows to it! Congratulations.\n",
    "\n",
    "Go ahead and perform the map-reduce word count on the project Gutenberg data using the Hadoop Jar used in exercise 3. You should get the list of words with the counts as output. You can also save that list to a file and open it in Pandas to sort the words by the most frequent."
   ]
  },
  {
   "cell_type": "markdown",
   "metadata": {},
   "source": [
    "<a id='terminate'></a>\n",
    "## Terminate the cluster\n",
    "\n",
    "**Make sure you terminate your cluster now:**\n",
    "\n",
    "![](./assets/images/terminate.png)"
   ]
  },
  {
   "cell_type": "markdown",
   "metadata": {},
   "source": [
    "<a id='resources'></a>\n",
    "## Additional resources\n",
    "---\n",
    "\n",
    "- [Hadoop](http://hadoop.apache.org/)\n",
    "- [Hadoop command line](http://hadoop.apache.org/docs/current/hadoop-project-dist/hadoop-common/FileSystemShell.html)\n",
    "- [YARN](http://hadoop.apache.org/docs/current/hadoop-yarn/hadoop-yarn-site/YARN.html)\n",
    "- [Hadoop Streaming tutorial](http://www.michael-noll.com/tutorials/writing-an-hadoop-mapreduce-program-in-python/)\n",
    "- [Hadoop Streaming doc](https://hadoop.apache.org/docs/r1.2.1/streaming.html)"
   ]
  }
 ],
 "metadata": {
  "kernelspec": {
   "display_name": "Python 3",
   "language": "python",
   "name": "python3"
  },
  "language_info": {
   "codemirror_mode": {
    "name": "ipython",
    "version": 3
   },
   "file_extension": ".py",
   "mimetype": "text/x-python",
   "name": "python",
   "nbconvert_exporter": "python",
   "pygments_lexer": "ipython3",
   "version": "3.6.4"
  },
  "toc": {
   "nav_menu": {},
   "number_sections": false,
   "sideBar": true,
   "skip_h1_title": true,
   "title_cell": "Table of Contents",
   "title_sidebar": "Contents",
   "toc_cell": false,
   "toc_position": {
    "height": "254px",
    "left": "0px",
    "right": "598.723px",
    "top": "145px",
    "width": "123px"
   },
   "toc_section_display": "block",
   "toc_window_display": false
  },
  "varInspector": {
   "cols": {
    "lenName": 16,
    "lenType": 16,
    "lenVar": 40
   },
   "kernels_config": {
    "python": {
     "delete_cmd_postfix": "",
     "delete_cmd_prefix": "del ",
     "library": "var_list.py",
     "varRefreshCmd": "print(var_dic_list())"
    },
    "r": {
     "delete_cmd_postfix": ") ",
     "delete_cmd_prefix": "rm(",
     "library": "var_list.r",
     "varRefreshCmd": "cat(var_dic_list()) "
    }
   },
   "types_to_exclude": [
    "module",
    "function",
    "builtin_function_or_method",
    "instance",
    "_Feature"
   ],
   "window_display": false
  }
 },
 "nbformat": 4,
 "nbformat_minor": 2
}
