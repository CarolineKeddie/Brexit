{
 "cells": [
  {
   "cell_type": "markdown",
   "metadata": {},
   "source": [
    "# Selenium with Chrome\n",
    "\n",
    "First up you'll need to download and install the chrome webdriver from here: http://chromedriver.chromium.org/downloads this will allow you to interact with chrome via python code."
   ]
  },
  {
   "cell_type": "code",
   "execution_count": 1,
   "metadata": {},
   "outputs": [],
   "source": [
    "import time\n",
    "from selenium import webdriver\n",
    "from selenium.webdriver.chrome.options import Options"
   ]
  },
  {
   "cell_type": "markdown",
   "metadata": {},
   "source": [
    "You can set some options to make the 'browser' behave in a way you specify. You can find a comprehensive list of available options here: https://peter.sh/experiments/chromium-command-line-switches/\n"
   ]
  },
  {
   "cell_type": "code",
   "execution_count": 2,
   "metadata": {},
   "outputs": [],
   "source": [
    "# Establish the options for Chrome\n",
    "chrome_options = Options()                               # instantiate chrome options\n",
    "chrome_options.add_argument(\"--headless\")                # set chrome to be headless (won't show you the process)\n",
    "chrome_options.add_argument(\"--window-size=1660x1080\")   # set the size of your browser window\n",
    "chrome_driver = '/Users/Tim/Documents/chromedriver'"
   ]
  },
  {
   "cell_type": "markdown",
   "metadata": {},
   "source": [
    "Once you have set your options, you'll then create a browser instance to get a page, and then you can interact with the page. You'll find a good list of what you can do here: https://www.seleniumhq.org/docs/02_selenium_ide.jsp#commonly-used-selenium-commands. Basically if you can perform an action in person, you can perform the action in selenium - think form filling, button pressing, searching..."
   ]
  },
  {
   "cell_type": "code",
   "execution_count": 3,
   "metadata": {},
   "outputs": [],
   "source": [
    "# instantiate the web driver\n",
    "driver = webdriver.Chrome(chrome_options=chrome_options, executable_path=chrome_driver) \n",
    "\n",
    "# get a page\n",
    "driver.get('https://adioso.com/uk/london-uk-to-barcelona-es-return-october-2');\n",
    "\n",
    "# take a screenshot of page as it has loaded\n",
    "driver.get_screenshot_as_file(\"adioso_start.png\",)\n",
    "\n",
    "# find an element whose class is \"close_button\"\n",
    "dismiss = driver.find_element_by_class_name('close_button')                             \n",
    "\n",
    "# simulate a click interaction with the \"close_button\"\n",
    "dismiss.click()\n",
    "\n",
    "# wait 0.5 seconds as the close button starts an animation - we don't want to capture the animation\n",
    "time.sleep(0.5)\n",
    "\n",
    "# save a screenshot of the page in its state now\n",
    "driver.get_screenshot_as_file(\"adioso_closed.png\",)\n",
    "\n",
    "# save the current html of the page\n",
    "text = driver.page_source\n",
    "\n",
    "# quit the driver\n",
    "driver.quit()"
   ]
  },
  {
   "attachments": {},
   "cell_type": "markdown",
   "metadata": {},
   "source": [
    "We can look at the images we saved both before and after the 'click' to see what action we performed (closing the top banner)\n",
    "\n",
    "![adioso_start.png](adioso_start.png)\n",
    "\n",
    "![adioso_closed.png](adioso_closed.png)\n",
    "\n",
    "you have the source html saved in the `text` variable now - so you can then perform the same parsibng with Beautiful Soup as you have used before:\n"
   ]
  },
  {
   "cell_type": "code",
   "execution_count": 3,
   "metadata": {},
   "outputs": [],
   "source": [
    "from bs4 import BeautifulSoup\n",
    "\n",
    "soup = BeautifulSoup(text,'html.parser')"
   ]
  },
  {
   "cell_type": "code",
   "execution_count": null,
   "metadata": {
    "scrolled": true
   },
   "outputs": [],
   "source": [
    "print(soup.prettify())"
   ]
  },
  {
   "cell_type": "code",
   "execution_count": null,
   "metadata": {},
   "outputs": [],
   "source": []
  }
 ],
 "metadata": {
  "kernelspec": {
   "display_name": "Python 3",
   "language": "python",
   "name": "python3"
  },
  "language_info": {
   "codemirror_mode": {
    "name": "ipython",
    "version": 3
   },
   "file_extension": ".py",
   "mimetype": "text/x-python",
   "name": "python",
   "nbconvert_exporter": "python",
   "pygments_lexer": "ipython3",
   "version": "3.6.4"
  },
  "toc": {
   "nav_menu": {},
   "number_sections": false,
   "sideBar": true,
   "skip_h1_title": false,
   "title_cell": "Table of Contents",
   "title_sidebar": "Contents",
   "toc_cell": false,
   "toc_position": {},
   "toc_section_display": true,
   "toc_window_display": false
  }
 },
 "nbformat": 4,
 "nbformat_minor": 2
}
