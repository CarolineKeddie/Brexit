{
 "cells": [
  {
   "cell_type": "markdown",
   "metadata": {
    "slideshow": {
     "slide_type": "slide"
    }
   },
   "source": [
    "<img src=\"http://imgur.com/1ZcRyrc.png\" style=\"float: left; margin: 20px; height: 55px\">\n",
    "\n",
    "# Flask on AWS\n",
    "\n",
    "---\n",
    "\n",
    "<a id=\"learning-objectives\"></a>\n",
    "### Learning Objectives\n",
    "*After this lesson, you will be able to:*\n",
    "- Launch an EC2 box with an Apache webserver and Flask app\n",
    "- Create a front-end page with a form that accepts user input\n",
    "- Send POST requests from the front-end to the back-end flask app\n",
    "- Return processed data to a front-end"
   ]
  },
  {
   "cell_type": "markdown",
   "metadata": {
    "slideshow": {
     "slide_type": "slide"
    }
   },
   "source": [
    "### Lesson Guide\n",
    "\n",
    "- [Introduction](#introduction)\n",
    "\n",
    "\n",
    "- Demo/Guided Practice: Launching an EC2 Box\n",
    " - [Step 1 - Log in to EC2](#step--log-in-to-ec)\n",
    " - [Step 2 - Launch EC2 Instance](#step----launch-ec-instance)\n",
    " - [Step 3 - Select an AMI](#step----select-an-ami)\n",
    " - [Step 4 - Select EC2 Instance Type](#step----select-ec-instance-type)\n",
    " - [Step 5 - Configure Security Group](#step----configure-security-group)\n",
    " - [Step 6 - Connect to your EC2 Instance](#step----connect-to-your-ec-instance)\n",
    " - [Step 7 - Install Apache](#step----install-apache)\n",
    " - [Step 8 - Set up 'Hello World!' page](#step----set-up-hello-world-page)\n",
    " - [Step 9 - Run a Flask App](#step----run-a-flask-app)\n",
    " - [Step 10 - Set up a webform](#step----set-up-a-webform)\n",
    " - [Step 11 - Return Values to the Flask Backend](#step----return-values-to-the-flask-backend)\n",
    " - [Step 12 - Test it!](#step----test-it)\n",
    "\n",
    "\n",
    "- [Independent Practice](#independent-practice)\n",
    "- [Conclusion](#conclusion)\n",
    "- [Additional Resources](#additional-resources)\n"
   ]
  },
  {
   "cell_type": "markdown",
   "metadata": {
    "slideshow": {
     "slide_type": "slide"
    }
   },
   "source": [
    "<a id=\"introduction\"></a>\n",
    "## Introduction\n",
    "---\n",
    "\n",
    "In this lesson, we'll build an end-to-end solution to take data input via a web page, process it, and return the output via a webpage. We'll do all of this on a public-facing EC2 instance.\n",
    "\n",
    "By making a website, you can retrieve the latest data from your database and create interactive visuals on-the-fly. Websites are typically much easier for clients and employers to use than Jupyter Notebooks.\n",
    "\n",
    "Hopefully, you'll use this as inspiration for showcasing your projects!"
   ]
  },
  {
   "cell_type": "markdown",
   "metadata": {
    "slideshow": {
     "slide_type": "fragment"
    }
   },
   "source": [
    "Here, we'll set up a new EC2 instance that will host our website. We will initialize it using an existing AMI (Amazon Machine Image) that contains Anaconda and a number of other tools. Otherwise, we would start with just an operating system and would have to install tools manually."
   ]
  },
  {
   "cell_type": "markdown",
   "metadata": {
    "slideshow": {
     "slide_type": "slide"
    }
   },
   "source": [
    "<a id=\"step--log-in-to-ec\"></a>\n",
    "### Step 1 - Log in to EC2\n",
    "\n",
    "Log into AWS and select EC2.\n",
    "\n",
    "<img src=\"images/ec2-1.png\">"
   ]
  },
  {
   "cell_type": "markdown",
   "metadata": {
    "slideshow": {
     "slide_type": "slide"
    }
   },
   "source": [
    "<a id=\"step----launch-ec-instance\"></a>\n",
    "### Step 2 - Launch EC2 Instance\n",
    "\n",
    "In the EC2 dashboard, click `Launch Instance`.\n",
    "\n",
    "<img src=\"images/ec2-2.png\">"
   ]
  },
  {
   "cell_type": "markdown",
   "metadata": {
    "slideshow": {
     "slide_type": "slide"
    }
   },
   "source": [
    "<a id=\"step----select-an-ami\"></a>\n",
    "### Step 3 - Select an AMI\n",
    "\n",
    "- In the pane `Community AMIs` search for anaconda2\n",
    "\n",
    "- Select **anaconda3-5.1.0-on-ubuntu-16.04-lts (ami-a27c98c5)** and continue on with the defaults.\n",
    "\n",
    "![Screen%20Shot%202018-09-04%20at%2021.07.31.png](images/Screen_Shot_2018-09-04_at_21_07_31.png)"
   ]
  },
  {
   "cell_type": "markdown",
   "metadata": {
    "slideshow": {
     "slide_type": "slide"
    }
   },
   "source": [
    "<a id=\"step----select-ec-instance-type\"></a>\n",
    "### Step 4 - Select EC2 Instance Type\n",
    "\n",
    "Choose the pre-selected t2-micro box. Then click - at the top `Step 6: Configure Security Group`\n",
    "    \n",
    "<img src=\"images/ec2-4.png\">"
   ]
  },
  {
   "cell_type": "markdown",
   "metadata": {
    "slideshow": {
     "slide_type": "slide"
    }
   },
   "source": [
    "<a id=\"step----configure-security-group\"></a>\n",
    "### Step 5 - Configure Security Group\n",
    "\n",
    "Make sure that in security groups for the box that port 80 (HTTP) and 22 (SSH) are open and reachable from anywhere. Then at the bottom, click `Review and Launch`.\n",
    "\n",
    "<img src=\"images/ec2-5.png\">"
   ]
  },
  {
   "cell_type": "markdown",
   "metadata": {
    "slideshow": {
     "slide_type": "slide"
    }
   },
   "source": [
    "<a id=\"step----connect-to-your-ec-instance\"></a>\n",
    "### Step 6 - Connect to your EC2 Instance\n",
    "\n",
    "Return to the EC2 instances screen. You will see the box `pending` as it starts up. Once that is complete, tick the box next to the instance and click `Connect`.\n",
    "\n",
    "<img src=\"images/ec2-6.png\">"
   ]
  },
  {
   "cell_type": "markdown",
   "metadata": {
    "slideshow": {
     "slide_type": "slide"
    }
   },
   "source": [
    "You should see something similar to the following. It will contain your IP address (it refers to a particular computer on the Internet) and the SSH (Secure SHell) string need to connect with your PEM file. Make sure you have the full path to the file or are in the directory where that PEM file is when connecting (usually ~/Downloads/<myfile.pem>). You will also need to change the login from \"root@\" to \"ubuntu@\".\n",
    "\n",
    "<img src=\"images/ec2-6b.png\">"
   ]
  },
  {
   "cell_type": "markdown",
   "metadata": {
    "slideshow": {
     "slide_type": "slide"
    }
   },
   "source": [
    "Once you're on the box, you can run `ls` and see the following:\n",
    "\n",
    "<img src=\"images/ec2-6c.png\">"
   ]
  },
  {
   "cell_type": "markdown",
   "metadata": {},
   "source": [
    "Now we need to install a couple of python libraries and dependencies:\n",
    "\n",
    "```\n",
    "sudo apt-get update \n",
    "sudo apt-get install alien\n",
    "sudo apt install python-pip\n",
    "sudo pip install -U pip numpy flask sklearn\n",
    "```\n",
    "Note: if you get a lock on the `dpkp` folder do:\n",
    "```\n",
    "ps -A | grep apt\n",
    "```\n",
    "and kill the processes."
   ]
  },
  {
   "cell_type": "markdown",
   "metadata": {
    "slideshow": {
     "slide_type": "slide"
    }
   },
   "source": [
    "<a id=\"step----install-apache\"></a>\n",
    "### Step 7 - Install Apache\n",
    "\n",
    "Install Apache webserver. Back at the terminal, run the following commnads:\n",
    "\n",
    "```\n",
    "sudo apt-get update\n",
    "sudo apt-get install apache2\n",
    "sudo apt-get install libapache2-mod-wsgi-py3\n",
    "```\n",
    "\n",
    "That will install a number of updates and libraries. Once that is complete, we're ready to test our first web page.\n",
    "\n",
    "Go to the EC2's public web address and put that in your browser. The address is on the page where you go to find the ssh info ('Connect').\n",
    "\n",
    "You should see the following: "
   ]
  },
  {
   "cell_type": "markdown",
   "metadata": {
    "slideshow": {
     "slide_type": "fragment"
    }
   },
   "source": [
    "<img src=\"images/ec2-7.png\">"
   ]
  },
  {
   "cell_type": "markdown",
   "metadata": {
    "slideshow": {
     "slide_type": "slide"
    }
   },
   "source": [
    "<a id=\"step----set-up-hello-world-page\"></a>\n",
    "### Step 8 - Set up 'Hello World!' page\n",
    "\n",
    "At the command line, type in the following to create a webpage:\n",
    "\n",
    "```\n",
    "cd /var/www/html\n",
    "sudo mkdir myapp\n",
    "cd myapp\n",
    "sudo touch index.html\n",
    "sudo chmod 755 index.html\n",
    "sudo vim index.html\n",
    "```"
   ]
  },
  {
   "attachments": {
    "image.png": {
     "image/png": "[encoded data removed]"
    }
   },
   "cell_type": "markdown",
   "metadata": {
    "slideshow": {
     "slide_type": "fragment"
    }
   },
   "source": [
    "What did we do there? We moved into the Apache directory that holds the files that are served as webpages. We then made a new directory there called `myapp`. We then changed into that directory and created a page called `index.html`. Finally, we set the permissions on the file and opened it in our text editor.\n",
    "\n",
    "Now that you are in vim, you should hit `'i'` for insert, and then type in something like the following: `\"Hello from DSI!\"`. Once you have that done, hit `'ESC'` and then `':wq'`. This means write the file and then quit vim.\n",
    "\n",
    "Once that is done, we can view our webpage. Go the the address you did earlier for the box in your browser, but this time add `'/myapp'` or `'/myapp/index.html'` to the end.\n",
    "\n",
    "If everything went according to plan, you will see the following:\n",
    "\n",
    "![image.png](attachment:image.png)"
   ]
  },
  {
   "cell_type": "markdown",
   "metadata": {
    "slideshow": {
     "slide_type": "fragment"
    }
   },
   "source": [
    "Congrats! You have the most boring page on the web! Let's now make it better by adding a flask app back-end."
   ]
  },
  {
   "cell_type": "markdown",
   "metadata": {
    "slideshow": {
     "slide_type": "slide"
    }
   },
   "source": [
    "<a id=\"step----run-a-flask-app\"></a>\n",
    "### Step 9 - Run a Flask App\n",
    "\n",
    "Now let's do the following to get Flask running:\n",
    "\n",
    "```\n",
    "cd /var/www/html/myapp\n",
    "sudo touch myapp.py\n",
    "sudo chmod 755 myapp.py\n",
    "sudo vim myapp.py\n",
    "```"
   ]
  },
  {
   "cell_type": "markdown",
   "metadata": {
    "slideshow": {
     "slide_type": "slide"
    }
   },
   "source": [
    "Once you are in vim, paste the following code in myapp.py\n",
    "\n",
    "```python\n",
    "from flask import Flask\n",
    "app = Flask(__name__)\n",
    "\n",
    "@app.route('/')\n",
    "def hello_world():\n",
    "  return 'Hello from Flask!'\n",
    "\n",
    "if __name__ == '__main__':\n",
    "  app.run()\n",
    "```\n",
    "\n",
    "Use the usual routine in vim to save and exit (ESC then ':wq')"
   ]
  },
  {
   "cell_type": "markdown",
   "metadata": {
    "slideshow": {
     "slide_type": "slide"
    }
   },
   "source": [
    "Next, we need to create a wsgi file which will tell Apache to serve from our Flask app.\n",
    "\n",
    "```\n",
    "sudo touch myapp.wsgi\n",
    "sudo chmod 755 myapp.wsgi\n",
    "sudo vim myapp.wsgi\n",
    "```\n"
   ]
  },
  {
   "cell_type": "markdown",
   "metadata": {
    "slideshow": {
     "slide_type": "-"
    }
   },
   "source": [
    "Paste the following into the file:\n",
    "    \n",
    "```python\n",
    "import sys\n",
    "sys.path.insert(0, '/var/www/html/myapp')\n",
    "sys.path.insert(0, '/home/ubuntu/anaconda3/bin/python3.6')\n",
    "sys.path.insert(0, '/home/ubuntu/anaconda3/lib/python3.6/site-packages')\n",
    "\n",
    "from myapp import app as application\n",
    "```\n",
    "\n",
    "Once that is done, save and exit.\n",
    "\n",
    "This code makes sure that the version of python our code is using is the Anaconda one."
   ]
  },
  {
   "cell_type": "markdown",
   "metadata": {
    "slideshow": {
     "slide_type": "slide"
    }
   },
   "source": [
    "We have to enable mod_wsgi now to complete the connection between Flask and Apache. This ensures that pages are from Flask and not the default static web pages (like the one you created earlier). We can do this as follows:\n",
    "\n",
    "```bash\n",
    "sudo vim /etc/apache2/sites-enabled/000-default.conf\n",
    "```\n",
    "\n",
    "Once that is open, insert the following code. It should go after the 'DocumentRoot /var/www/html' line.\n",
    "\n",
    "```bash\n",
    "    WSGIDaemonProcess myapp threads=5\n",
    "    WSGIScriptAlias /myapp /var/www/html/myapp/myapp.wsgi\n",
    "\n",
    "    <Directory myapp>\n",
    "        WSGIProcessGroup myapp\n",
    "        WSGIApplicationGroup %{GLOBAL}\n",
    "        Order deny,allow\n",
    "        Allow from all\n",
    "    </Directory>\n",
    "```\n",
    "\n",
    "Save and exit. Then type the following to restart apache:\n",
    "\n",
    "```bash\n",
    "sudo service apache2 restart\n",
    "```"
   ]
  },
  {
   "cell_type": "markdown",
   "metadata": {
    "slideshow": {
     "slide_type": "slide"
    }
   },
   "source": [
    "Now when you go to your webpage '/myapp' in your browser you should see:\n",
    "<img src=\"images/browser-2.png\">"
   ]
  },
  {
   "cell_type": "markdown",
   "metadata": {
    "slideshow": {
     "slide_type": "slide"
    }
   },
   "source": [
    "<a id=\"step----set-up-a-webform\"></a>\n",
    "### Step 10 - Set up a webform\n",
    "\n",
    "Now that we have the basic Flask app deployed, let's now set up a page with a form that can accept user input.\n",
    "\n",
    "We'll first create the page. This should be in your /myapp directory.\n",
    "\n",
    "```bash\n",
    "sudo touch input_page.html\n",
    "sudo chmod 755 input_page.html\n",
    "sudo vim input_page.html\n",
    "```\n",
    "\n",
    "Now, let's add a form\n",
    "```HTML\n",
    "<html>\n",
    "<form action=\"make_it_happen\" method=\"post\">\n",
    "  First name: <input type=\"text\" name=\"myname\"><br><br>\n",
    "  Excitement Level (1: low, 10: high): <input type=\"text\" name=\"mylevel\"><br>\n",
    "  <input type=\"submit\" value=\"Submit\">\n",
    "</form>\n",
    "\n",
    "</html>\n",
    "```\n",
    "Now save that and exit vim (:wq)."
   ]
  },
  {
   "cell_type": "markdown",
   "metadata": {
    "slideshow": {
     "slide_type": "slide"
    }
   },
   "source": [
    "That created our input page. We now need to modify Flask to accept the input from this page. We'll open the myapp.py file using:\n",
    "\n",
    "```python\n",
    "import jinja2\n",
    "from flask import Flask, render_template, request\n",
    "app = Flask(__name__)\n",
    "app._static_folder = '/var/www/html/myapp/'\n",
    "\n",
    "\n",
    "@app.route('/')\n",
    "def send_form():\n",
    "    return app.send_static_file('input_page.html')\n",
    "\n",
    "\n",
    "@app.route('/make_it_happen', methods=['POST','GET'])\n",
    "def say_hi():\n",
    "    name = request.form['myname']\n",
    "    excitement_level = request.form['mylevel']\n",
    "    return render_template('stuff_you_know.html', name=name, lvl=excitement_level)\n",
    "\n",
    "\n",
    "if __name__ == '__main__':\n",
    "    app.run(debug=True)\n",
    "\n",
    "```\n",
    "\n",
    "Again, save and exit (':wq'). Once that is done, you'll need to restart apache again:\n",
    "```bash\n",
    "sudo service apache2 restart\n",
    "```"
   ]
  },
  {
   "cell_type": "markdown",
   "metadata": {
    "slideshow": {
     "slide_type": "slide"
    }
   },
   "source": [
    "If everything went well, you should see this in your browser:\n",
    "\n",
    "<img src=\"images/browser-3.png\"> \n",
    "\n",
    "If you got an error, most likely it is because you pasted it in before pressing `i` to insert and your `import` is `mport`"
   ]
  },
  {
   "cell_type": "markdown",
   "metadata": {
    "slideshow": {
     "slide_type": "slide"
    }
   },
   "source": [
    "We'll walk through what each piece of this does. The first piece of code under the imports sets our app as Flask and points it to where we will be serving our static HTML pages. This is the directory of our '/myapp'.\n",
    "\n",
    "Next we have a function that runs when the default route for our app is called ('/'). We are returning the page we just created.\n",
    "\n",
    "The next function is called when the form is submitted and takes the payload of that form: the entered name and the level of excitement level. It then sends it to what is called a string template. A string template allows us to pass in values from our code that can then be manipulated outside of our code in the HTML. This allows for a separation of concerns. The view can be dynamically generated based on the values passed to it, rather than having to code all the conditionals in Python on the Flask backend.\n",
    "\n",
    "We capture the values passed to us in the form. Notice that the names in the HTML are captured and stored into Python variables.\n",
    "\n",
    "Next, we discuss how to return an output with those values."
   ]
  },
  {
   "cell_type": "markdown",
   "metadata": {
    "slideshow": {
     "slide_type": "slide"
    }
   },
   "source": [
    "<a id=\"step----return-values-to-the-flask-backend\"></a>\n",
    "### Step 11 - Return Values to the Flask Backend\n",
    "\n",
    "The return of that last function is returning a page that utilizes a Jinja2 string template. We are passing our Python variables, 'name' and 'excitement_level' to our string template under the Jinga2 variable names 'name' and 'lvl'. We could have used any variable names for these. We can also use as many as we want. Note, that they don't have to just be an integer. The can be a string or a list of values or basically any other type.\n",
    "\n",
    "The next step is to create the folder that will hold our output pages.\n",
    "\n",
    "In the /myapp directory:\n",
    "\n",
    "```python\n",
    "sudo mkdir templates\n",
    "sudo chmod 755 templates\n",
    "cd templates\n",
    "sudo touch stuff_you_know.html\n",
    "sudo chmod 755 stuff_you_know.html\n",
    "sudo vim stuff_you_know.html\n",
    "```\n",
    "\n",
    "That will create the directory `/templates` and some files. "
   ]
  },
  {
   "cell_type": "markdown",
   "metadata": {
    "slideshow": {
     "slide_type": "slide"
    }
   },
   "source": [
    "You should now be int the stuff_you_know.html file. Paste in the following:\n",
    "```HTML\n",
    "<!DOCTYPE html>\n",
    "<html>\n",
    "\n",
    "<head>\n",
    "</head>\n",
    "\n",
    "<body>\n",
    "  <center>\n",
    "    {{ name }} your excitement level is {{ lvl }} {% if lvl|int\n",
    "    <=5 %} is a failure. Shame.<br><br>\n",
    "      <img src=\"https://blackxknite.files.wordpress.com/2017/03/lameasaurus.jpg\"> {% elif lvl|int > 5 and lvl|int\n",
    "      < 10 %} is meh. Try harder.<br><br>\n",
    "        <img src=\"https://www.yourtango.com/sites/default/files/styles/body_image_default/public/image_list/motivational17.jpg?itok=RXI57Muf\"> {% else %} is fantastic. You are a star.<br><br>\n",
    "        <img src=\"https://media.makeameme.org/created/fully-motivated-ny0ix4.jpg\"> {% endif %}\n",
    "  </center>\n",
    "</body>\n",
    "\n",
    "</html>\n",
    "```"
   ]
  },
  {
   "cell_type": "markdown",
   "metadata": {
    "slideshow": {
     "slide_type": "slide"
    }
   },
   "source": [
    "Lots of code there. What's going on?\n",
    "\n",
    "Our variables that we passed in using Flask were 'name' and 'lvl' if you remember. Notice that we are using those here. They are in the curly braces: `{{ name }}` and `{{ lvl }}`. These are called templates, since Jinja2 will replace these placeholders with the variable values upon rendering. Just putting the curly braced values prints out to our page the values we passed in.\n",
    "\n",
    "Here we also employed some conditional logic. This is how string templating works. We can do a number of operations using Jinja2; we can do everything from formatting values to showing or hiding data based on its values. It is very flexible and prevents us from having to change our backend code for every scenario."
   ]
  },
  {
   "cell_type": "markdown",
   "metadata": {
    "slideshow": {
     "slide_type": "slide"
    }
   },
   "source": [
    "<a id=\"step----test-it\"></a>\n",
    "### Step 12 - Test it!\n",
    "\n",
    "Now that we have all the pieces, go ahead and go to the page for our app in your browser.\n",
    "\n",
    "`/myapp`\n",
    "\n",
    "Fill in the form. Try different values like 2, 7, 10.\n",
    "\n",
    "Notice how the output changes with those values.\n",
    "\n",
    "What are some ways you could use this in your work?"
   ]
  },
  {
   "cell_type": "markdown",
   "metadata": {
    "slideshow": {
     "slide_type": "fragment"
    }
   },
   "source": [
    "**Important Note:** So far, we have been modifying files directly on the EC2 instance. This is _not_ how web development is typically done. That said, going through this process is useful for understanding, debugging, ... and perhaps for making quick \"hotfixes\". Keep in mind that directly editing files on production systems is highly prone to human error, so it should be avoided.\n",
    "\n",
    "Typically, you should develop your Flask app locally. Test it using the local server. Then, once it works locally you can copy the files directly to EC2. \n",
    "\n",
    "To make this process easier, many companies automatically deploy code to EC2 each time it is committed to Github by mirroring the repo there. Alternatively, you could write a bash script that automatically copies your files to an EC2 instance. For example, Heroku offers a script to do this automatically. "
   ]
  },
  {
   "cell_type": "markdown",
   "metadata": {
    "slideshow": {
     "slide_type": "slide"
    }
   },
   "source": [
    "<a id=\"independent-practice\"></a>\n",
    "## Independent Practice\n",
    "---\n",
    "\n",
    "Modify the code so that it accepts another input.\n",
    "You'll need to do all of the following to make it work:\n",
    "- Change the input form page to add another field\n",
    "- Change the myapp.py Flask code to accept the new field\n",
    "- Change the Jinja template file to react to this new variable\n",
    "<br><br>\n",
    "**Bonus**\n",
    "- Try setting it up so that your webpage uses ajax (asynchronous Javascript). Ajax is a method that makes HTTP calls to your Flask app in the background, so that loading a new page isn't necessary. You'll need to learn about jQuery to use this. See the [Additional Resources](#additional-resources) below."
   ]
  },
  {
   "cell_type": "markdown",
   "metadata": {
    "slideshow": {
     "slide_type": "slide"
    }
   },
   "source": [
    "<a id=\"conclusion\"></a>\n",
    "## Conclusion\n",
    "---\n",
    "\n",
    "In this lesson we have learned how to launch an AWS EC2 box from an existing AMI. We learned how to install an Apache webserver and to use mod_wsgi to run our flask application as a daemon. We also learned how to build a frontend that can take in values that are POST'd to the backend Flask application. We saw how those values can be processed (or not) then passed into a string template engine.\n",
    "\n",
    "Some additional things we could have done:\n",
    "\n",
    "- Change the mimetype on our form to pass in a csv\n",
    "- Manipulate the variables in Python/Flask before returning them\n",
    "- Use a charting library to visualize what we pass to the templates\n",
    "- Store and retrieve the values in a database"
   ]
  },
  {
   "cell_type": "markdown",
   "metadata": {
    "slideshow": {
     "slide_type": "slide"
    }
   },
   "source": [
    "<a id=\"additional-resources\"></a>\n",
    "## Additional Resources\n",
    "---\n",
    "\n",
    "- [Apache Web Server Tutorial](https://www.digitalocean.com/community/tutorials/how-to-configure-the-apache-web-server-on-an-ubuntu-or-debian-vps)\n",
    "- [Flask Docs](http://flask.pocoo.org/docs/0.11/)\n",
    "- [Jinja2 Docs](http://jinja.pocoo.org/docs/dev/)\n",
    "- [AJAX/jQuery](http://flask.pocoo.org/docs/0.11/patterns/jquery/)"
   ]
  }
 ],
 "metadata": {
  "anaconda-cloud": {},
  "celltoolbar": "Slideshow",
  "kernelspec": {
   "display_name": "Python 3",
   "language": "python",
   "name": "python3"
  },
  "language_info": {
   "codemirror_mode": {
    "name": "ipython",
    "version": 3
   },
   "file_extension": ".py",
   "mimetype": "text/x-python",
   "name": "python",
   "nbconvert_exporter": "python",
   "pygments_lexer": "ipython3",
   "version": "3.6.4"
  },
  "toc": {
   "nav_menu": {},
   "number_sections": false,
   "sideBar": true,
   "skip_h1_title": false,
   "title_cell": "Table of Contents",
   "title_sidebar": "Contents",
   "toc_cell": false,
   "toc_position": {},
   "toc_section_display": true,
   "toc_window_display": false
  },
  "varInspector": {
   "cols": {
    "lenName": 16,
    "lenType": 16,
    "lenVar": 40
   },
   "kernels_config": {
    "python": {
     "delete_cmd_postfix": "",
     "delete_cmd_prefix": "del ",
     "library": "var_list.py",
     "varRefreshCmd": "print(var_dic_list())"
    },
    "r": {
     "delete_cmd_postfix": ") ",
     "delete_cmd_prefix": "rm(",
     "library": "var_list.r",
     "varRefreshCmd": "cat(var_dic_list()) "
    }
   },
   "types_to_exclude": [
    "module",
    "function",
    "builtin_function_or_method",
    "instance",
    "_Feature"
   ],
   "window_display": false
  }
 },
 "nbformat": 4,
 "nbformat_minor": 1
}
