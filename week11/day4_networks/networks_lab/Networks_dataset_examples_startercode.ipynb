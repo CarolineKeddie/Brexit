{
 "cells": [
  {
   "cell_type": "markdown",
   "metadata": {},
   "source": [
    "<img src=\"http://imgur.com/1ZcRyrc.png\" style=\"float: left; margin: 20px; height: 55px\">\n",
    "\n",
    "# Networkx dataset examples\n",
    "\n",
    "---"
   ]
  },
  {
   "cell_type": "markdown",
   "metadata": {},
   "source": [
    "Appart from functions for generating particular types of graphs, Networkx contains several benchmark social network datasets. As they contain a fairly low number of nodes and links they are ideal for practising the concepts learned in the lesson.\n",
    "\n",
    "### 1. Zachary's Karate Club graph: \n",
    "\n",
    "[Zachary's Karate Club](https://www.jstor.org/stable/3629752?seq=1#page_scan_tab_contents) graph is a result of a social science field study recording if 34 members of a Californian Karate Club were interacting outside the club. It is a benchmark for detecting communities in graphs as during the study a conflict between the administrator and the instructor of the club lead to a split with some members forming a new club.\n",
    "\n",
    "If you are the first to mention this dataset on a network conference, you can win a trophy and become a member of the *Zachary Karate Club Club*:\n",
    "\n",
    "<img src=\"./assets/images/Karate_Club_Trophy.jpg\" style=\"width:500px;height:400px;\">\n",
    "\n",
    "\n",
    "### 2. The Florentine family graph: \n",
    "\n",
    "This is data about how the most important Florentine families in the early 15th century were connected by marriages among the families (Ronald L. Breiger and Philippa E. Pattison Cumulated social roles: The duality of persons and their algebras,1 Social Networks, Volume 8, Issue 3, September 1986, Pages 215-256). In fact, the time covered is just around the time that the Medici family had been expelled from Florence before returning to power, and the families represented here are known to have shown opposition to the Medici family.\n",
    "\n",
    "### 3. The Davis Southern Women Graph\n",
    "\n",
    "This dataset was collected by Davis and Gardner in the 1930s. It contains the observed attendance by 18 Southern women at 14 social events, presumably comparable to modern meet ups (A. Davis, Gardner, B. B., Gardner, M. R., 1941. Deep South. University of Chicago Press, Chicago, IL.).\n",
    "\n",
    "## For each of the graphs, find \n",
    "\n",
    "* the graph info\n",
    "* the list of nodes\n",
    "* the list of edges\n",
    "* the degree distribution (plot a histogram)\n",
    "* the clustering coefficients (for each node and the average, plot a histogram)\n",
    "* the shortest paths for the nodes and their average length\n",
    "* obtain the vertex and edge betweenness ranking for each graph\n",
    "* plot the graph\n",
    "* use the Girvan-Newman algorithm for community detection\n",
    "* use hierarchical clustering for community detection\n",
    "    - do you see any differences in the community structure resulting from the two algorithms?\n",
    "\n",
    "**Hints:** \n",
    "- load the datasets with the commands below\n",
    "- the last graph is bipartite - obtain the clustering coefficients and shortest paths for the projections on top and bottom nodes\n",
    "- for the Karate club graph, hierarchical clustering with two clusters should give you communities representing the actual split that occured in the group\n",
    "- for the bipartite graph, consider communities of the whole graph and the graphs obtained by projecting on the two groups"
   ]
  },
  {
   "cell_type": "code",
   "execution_count": 1,
   "metadata": {},
   "outputs": [],
   "source": [
    "import numpy as np\n",
    "import pandas as pd\n",
    "import matplotlib.pyplot as plt\n",
    "from matplotlib import cm\n",
    "import seaborn as sns\n",
    "import networkx as nx\n",
    "from networkx.algorithms import bipartite\n",
    "from scipy.cluster import hierarchy\n",
    "from sklearn.metrics import pairwise_distances\n",
    "from scipy.spatial.distance import cosine, jaccard\n",
    "plt.style.use('ggplot') \n",
    "%matplotlib inline\n",
    "%config InlineBackend.figure_format = 'retina'"
   ]
  },
  {
   "cell_type": "code",
   "execution_count": 2,
   "metadata": {},
   "outputs": [],
   "source": [
    "G_karate = nx.karate_club_graph()\n",
    "G_florentine = nx.florentine_families_graph()\n",
    "G_davis = nx.davis_southern_women_graph()"
   ]
  },
  {
   "cell_type": "code",
   "execution_count": null,
   "metadata": {},
   "outputs": [],
   "source": []
  }
 ],
 "metadata": {
  "kernelspec": {
   "display_name": "Python [conda env:anaconda3]",
   "language": "python",
   "name": "conda-env-anaconda3-py"
  },
  "language_info": {
   "codemirror_mode": {
    "name": "ipython",
    "version": 3
   },
   "file_extension": ".py",
   "mimetype": "text/x-python",
   "name": "python",
   "nbconvert_exporter": "python",
   "pygments_lexer": "ipython3",
   "version": "3.6.4"
  },
  "toc": {
   "nav_menu": {},
   "number_sections": false,
   "sideBar": true,
   "skip_h1_title": true,
   "title_cell": "Table of Contents",
   "title_sidebar": "Contents",
   "toc_cell": false,
   "toc_position": {},
   "toc_section_display": "block",
   "toc_window_display": false
  }
 },
 "nbformat": 4,
 "nbformat_minor": 2
}
