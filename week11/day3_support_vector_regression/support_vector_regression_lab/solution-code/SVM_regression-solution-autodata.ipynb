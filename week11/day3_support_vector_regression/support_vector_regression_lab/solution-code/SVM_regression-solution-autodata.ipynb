{
 "cells": [
  {
   "cell_type": "markdown",
   "metadata": {},
   "source": [
    "<img src=\"http://imgur.com/1ZcRyrc.png\" style=\"float: left; margin: 20px; height: 55px\">\n",
    "\n",
    "# Evaluating SVR on Multiple Datasets\n",
    "\n",
    "\n",
    "---\n",
    "\n",
    "In this lab you can explore several datasets with SVM regressors compared to linear regression with and without regularisation. \n",
    "\n",
    "First, use the \n",
    "\n",
    "**Bike share data**\n",
    "\n",
    "    resource-datasets/bikeshare\n",
    "    \n",
    "    regression to predict casual\n",
    "\n",
    "\n",
    "Then, use any of the following datasets:\n",
    "\n",
    "**Auto**\n",
    "\n",
    "    resource-datasets/auto_stats\n",
    "\n",
    "    regression to predict mpg\n",
    "\n",
    "**Boston housing data**\n",
    "\n",
    "    from sklearn.datasets import load_boston\n",
    "\n",
    "    regression to predict MEDV\n",
    "\n",
    "**Wine data**\n",
    "\n",
    "    resource-datasets/wine_data\n",
    "    \n",
    "    regression to predict the quality"
   ]
  },
  {
   "cell_type": "code",
   "execution_count": 1,
   "metadata": {},
   "outputs": [],
   "source": [
    "import pandas as pd\n",
    "import numpy as np\n",
    "import matplotlib\n",
    "import matplotlib.pyplot as plt\n",
    "import seaborn as sns\n",
    " \n",
    "plt.style.use('fivethirtyeight')\n",
    "%config InlineBackend.figure_format = 'retina'\n",
    "%matplotlib inline"
   ]
  },
  {
   "cell_type": "code",
   "execution_count": 2,
   "metadata": {},
   "outputs": [],
   "source": [
    "from sklearn.datasets import load_boston\n",
    "from sklearn.svm import SVR, LinearSVR\n",
    "from sklearn.linear_model import LinearRegression, Ridge, Lasso\n",
    "from sklearn.model_selection import cross_val_score, cross_val_predict\n",
    "from sklearn import metrics\n",
    "from sklearn.model_selection import train_test_split, GridSearchCV\n",
    "from sklearn.preprocessing import StandardScaler"
   ]
  },
  {
   "cell_type": "markdown",
   "metadata": {},
   "source": [
    "## A: Auto data set"
   ]
  },
  {
   "cell_type": "markdown",
   "metadata": {},
   "source": [
    "### 1. Load the dataset\n",
    "\n",
    "- Are there any missing values? Impute or clean if so.\n",
    "- Select a regression target and predictors.\n",
    "- Rescale the data."
   ]
  },
  {
   "cell_type": "code",
   "execution_count": 3,
   "metadata": {},
   "outputs": [
    {
     "data": {
      "text/html": [
       "<div>\n",
       "<style scoped>\n",
       "    .dataframe tbody tr th:only-of-type {\n",
       "        vertical-align: middle;\n",
       "    }\n",
       "\n",
       "    .dataframe tbody tr th {\n",
       "        vertical-align: top;\n",
       "    }\n",
       "\n",
       "    .dataframe thead th {\n",
       "        text-align: right;\n",
       "    }\n",
       "</style>\n",
       "<table border=\"1\" class=\"dataframe\">\n",
       "  <thead>\n",
       "    <tr style=\"text-align: right;\">\n",
       "      <th></th>\n",
       "      <th>mpg</th>\n",
       "      <th>cylinders</th>\n",
       "      <th>displacement</th>\n",
       "      <th>horsepower</th>\n",
       "      <th>weight</th>\n",
       "      <th>acceleration</th>\n",
       "      <th>year</th>\n",
       "      <th>origin</th>\n",
       "      <th>name</th>\n",
       "    </tr>\n",
       "  </thead>\n",
       "  <tbody>\n",
       "    <tr>\n",
       "      <th>0</th>\n",
       "      <td>18.0</td>\n",
       "      <td>8</td>\n",
       "      <td>307.0</td>\n",
       "      <td>130.0</td>\n",
       "      <td>3504</td>\n",
       "      <td>12.0</td>\n",
       "      <td>70</td>\n",
       "      <td>1</td>\n",
       "      <td>chevrolet chevelle malibu</td>\n",
       "    </tr>\n",
       "    <tr>\n",
       "      <th>1</th>\n",
       "      <td>15.0</td>\n",
       "      <td>8</td>\n",
       "      <td>350.0</td>\n",
       "      <td>165.0</td>\n",
       "      <td>3693</td>\n",
       "      <td>11.5</td>\n",
       "      <td>70</td>\n",
       "      <td>1</td>\n",
       "      <td>buick skylark 320</td>\n",
       "    </tr>\n",
       "    <tr>\n",
       "      <th>2</th>\n",
       "      <td>18.0</td>\n",
       "      <td>8</td>\n",
       "      <td>318.0</td>\n",
       "      <td>150.0</td>\n",
       "      <td>3436</td>\n",
       "      <td>11.0</td>\n",
       "      <td>70</td>\n",
       "      <td>1</td>\n",
       "      <td>plymouth satellite</td>\n",
       "    </tr>\n",
       "    <tr>\n",
       "      <th>3</th>\n",
       "      <td>16.0</td>\n",
       "      <td>8</td>\n",
       "      <td>304.0</td>\n",
       "      <td>150.0</td>\n",
       "      <td>3433</td>\n",
       "      <td>12.0</td>\n",
       "      <td>70</td>\n",
       "      <td>1</td>\n",
       "      <td>amc rebel sst</td>\n",
       "    </tr>\n",
       "    <tr>\n",
       "      <th>4</th>\n",
       "      <td>17.0</td>\n",
       "      <td>8</td>\n",
       "      <td>302.0</td>\n",
       "      <td>140.0</td>\n",
       "      <td>3449</td>\n",
       "      <td>10.5</td>\n",
       "      <td>70</td>\n",
       "      <td>1</td>\n",
       "      <td>ford torino</td>\n",
       "    </tr>\n",
       "  </tbody>\n",
       "</table>\n",
       "</div>"
      ],
      "text/plain": [
       "    mpg  cylinders  displacement  horsepower  weight  acceleration  year  \\\n",
       "0  18.0          8         307.0       130.0    3504          12.0    70   \n",
       "1  15.0          8         350.0       165.0    3693          11.5    70   \n",
       "2  18.0          8         318.0       150.0    3436          11.0    70   \n",
       "3  16.0          8         304.0       150.0    3433          12.0    70   \n",
       "4  17.0          8         302.0       140.0    3449          10.5    70   \n",
       "\n",
       "   origin                       name  \n",
       "0       1  chevrolet chevelle malibu  \n",
       "1       1          buick skylark 320  \n",
       "2       1         plymouth satellite  \n",
       "3       1              amc rebel sst  \n",
       "4       1                ford torino  "
      ]
     },
     "execution_count": 3,
     "metadata": {},
     "output_type": "execute_result"
    }
   ],
   "source": [
    "# Read in bikeshare data\n",
    "X = pd.read_csv('../../../../../resource-datasets/auto_stats/Auto.csv',na_values='?')\n",
    "X.head()"
   ]
  },
  {
   "cell_type": "code",
   "execution_count": 4,
   "metadata": {},
   "outputs": [],
   "source": [
    "X.dropna(inplace=True)\n",
    "X.drop('name',axis=1,inplace=True)\n",
    "y = X.pop('mpg')"
   ]
  },
  {
   "cell_type": "code",
   "execution_count": 5,
   "metadata": {},
   "outputs": [
    {
     "data": {
      "text/plain": [
       "((392, 7), (392,))"
      ]
     },
     "execution_count": 5,
     "metadata": {},
     "output_type": "execute_result"
    }
   ],
   "source": [
    "X.shape, y.shape"
   ]
  },
  {
   "cell_type": "code",
   "execution_count": 6,
   "metadata": {},
   "outputs": [],
   "source": [
    "# create train/test split\n",
    "X_train, X_test, y_train, y_test = train_test_split(\n",
    "    X, y, test_size=0.2, random_state=10)"
   ]
  },
  {
   "cell_type": "code",
   "execution_count": 7,
   "metadata": {},
   "outputs": [],
   "source": [
    "from sklearn.preprocessing import StandardScaler\n",
    "\n",
    "scaler = StandardScaler()\n",
    "X_train = pd.DataFrame(scaler.fit_transform(X_train),columns=X.columns)\n",
    "X_test = pd.DataFrame(scaler.transform(X_test),columns=X.columns)"
   ]
  },
  {
   "cell_type": "markdown",
   "metadata": {},
   "source": [
    "### 2. Build an SVM regressor on the data\n",
    "\n",
    "See the documentation for details about the [SVM-regressor](http://scikit-learn.org/stable/modules/generated/sklearn.svm.SVR.html#sklearn.svm.SVR).\n",
    "\n",
    "- Initialize and train a linear SVM with the default settings. What is the average R2-score with 5-fold cross validation?\n",
    "- Repeat using a radial basis function (rbf) regressor. Compare the scores. Which one is better?"
   ]
  },
  {
   "cell_type": "code",
   "execution_count": 8,
   "metadata": {},
   "outputs": [],
   "source": [
    "def get_score(model, X_train, y_train, X_test, y_test, cv=10):\n",
    "    model.fit(X_train,y_train)\n",
    "    scores_train = cross_val_score(model, X_train, y_train, cv=cv)\n",
    "    predictions_test = model.predict(X_test) \n",
    "    sm = scores_train.mean()\n",
    "    print(\"Average traininig score: {:0.3}\".format(sm))\n",
    "    print(\"Test score: {:0.3}\".format(model.score(X_test, y_test)))\n",
    "    return predictions_test"
   ]
  },
  {
   "cell_type": "code",
   "execution_count": 9,
   "metadata": {},
   "outputs": [],
   "source": [
    "#Keep in mind LinearSVR is faster than the general SVM with linear kernel\n",
    "model_lin = LinearSVR() \n",
    "model_rbf = SVR(kernel='rbf')\n",
    "model_poly = SVR(kernel='poly', degree=2)"
   ]
  },
  {
   "cell_type": "code",
   "execution_count": 10,
   "metadata": {},
   "outputs": [
    {
     "name": "stdout",
     "output_type": "stream",
     "text": [
      "Average traininig score: 0.802\n",
      "Test score: 0.773\n",
      "Average traininig score: 0.837\n",
      "Test score: 0.829\n"
     ]
    }
   ],
   "source": [
    "predictions = get_score(model_lin, X_train, y_train, X_test, y_test)\n",
    "predictions = get_score(model_rbf, X_train, y_train, X_test, y_test)\n",
    "#predictions = get_score(model_poly, X_train, y_train, X_test, y_test, cv=kf)"
   ]
  },
  {
   "cell_type": "markdown",
   "metadata": {},
   "source": [
    "### 3. Tune the SVM regressors with gridsearch\n",
    "\n",
    "- Check in the documentation which parameters can be tuned in combination with different kernels.\n",
    "- Create a further train-test split to obtain a hold-out validation set.\n",
    "- Cross-validate scores."
   ]
  },
  {
   "cell_type": "code",
   "execution_count": 11,
   "metadata": {},
   "outputs": [],
   "source": [
    "def grid_search_func(estimator, params, X_train, y_train, X_test, y_test, scoring_function=metrics.r2_score, scoring='r2',cv=5):\n",
    "    gs = GridSearchCV(\n",
    "        estimator=estimator,\n",
    "        param_grid=params,\n",
    "        return_train_score=True,\n",
    "        scoring=scoring,\n",
    "        cv=cv)\n",
    "\n",
    "    gs.fit(X_train, y_train)\n",
    "\n",
    "    print(\"Best score\")\n",
    "    print(gs.best_score_)\n",
    "    print()\n",
    "    print(\"Best estimator\")\n",
    "    print(gs.best_estimator_.get_params())\n",
    "    print()\n",
    "\n",
    "    predictions = gs.best_estimator_.predict(X_test)\n",
    "    print('Test score: ', scoring_function(y_test, predictions))\n",
    "\n",
    "\n",
    "    return gs"
   ]
  },
  {
   "cell_type": "code",
   "execution_count": 12,
   "metadata": {},
   "outputs": [
    {
     "name": "stdout",
     "output_type": "stream",
     "text": [
      "Best score\n",
      "0.8184612938586787\n",
      "\n",
      "Best estimator\n",
      "{'C': 0.31622776601683794, 'dual': True, 'epsilon': 0.0, 'fit_intercept': True, 'intercept_scaling': 1.0, 'loss': 'squared_epsilon_insensitive', 'max_iter': 1000, 'random_state': None, 'tol': 0.0001, 'verbose': 0}\n",
      "\n",
      "Test score:  0.7874870317489765\n"
     ]
    }
   ],
   "source": [
    "params_lin = {\n",
    "    'C': np.logspace(-3, 2, 3),\n",
    "    'loss': ['epsilon_insensitive','squared_epsilon_insensitive'],\n",
    "    'fit_intercept': [True,False]\n",
    "}\n",
    "\n",
    "gs_lin = grid_search_func(model_lin, params_lin,\n",
    "                          X_train, y_train, X_test, y_test)"
   ]
  },
  {
   "cell_type": "code",
   "execution_count": 13,
   "metadata": {},
   "outputs": [
    {
     "name": "stdout",
     "output_type": "stream",
     "text": [
      "Best score\n",
      "0.8714278208739539\n",
      "\n",
      "Best estimator\n",
      "{'C': 100.0, 'cache_size': 200, 'coef0': 0.0, 'degree': 3, 'epsilon': 0.1, 'gamma': 0.03162277660168379, 'kernel': 'rbf', 'max_iter': -1, 'shrinking': True, 'tol': 0.001, 'verbose': False}\n",
      "\n",
      "Test score:  0.8946299602615437\n"
     ]
    }
   ],
   "source": [
    "params_rbf = {\n",
    "    'C': np.logspace(-3, 2, 3),\n",
    "    'gamma': np.logspace(-5, 2, 3),\n",
    "    'kernel': ['rbf']\n",
    "}\n",
    "\n",
    "gs_rbf = grid_search_func(model_rbf,params_rbf,X_train,y_train,X_test,y_test)"
   ]
  },
  {
   "cell_type": "code",
   "execution_count": 14,
   "metadata": {},
   "outputs": [],
   "source": [
    "params_poly = {\n",
    "    'C': np.logspace(-3, 2, 3),\n",
    "    'gamma': np.logspace(-5, 2, 3),\n",
    "    'degree': [2,3]\n",
    "}\n",
    "# that would take a long time\n",
    "#gs_poly = grid_search_func(model_poly,params_poly,X_train,y_train,X_test,y_test)"
   ]
  },
  {
   "cell_type": "markdown",
   "metadata": {},
   "source": [
    "### 4. Compare to linear regression with and without regularisation.\n",
    "\n",
    "- Gridsearch optimal parameters \n",
    "- Cross-validate scores.\n",
    "- Examine the R2."
   ]
  },
  {
   "cell_type": "code",
   "execution_count": 15,
   "metadata": {},
   "outputs": [],
   "source": [
    "# Evaluate MSE for whole model using LinearRegression (no regularisation), then regularised regression\n",
    "lm = LinearRegression()\n",
    "lasso = Lasso()\n",
    "ridge = Ridge()"
   ]
  },
  {
   "cell_type": "code",
   "execution_count": 16,
   "metadata": {},
   "outputs": [
    {
     "name": "stdout",
     "output_type": "stream",
     "text": [
      "Average traininig score: 0.817\n",
      "Test score: 0.785\n",
      "Average traininig score: 0.786\n",
      "Test score: 0.77\n",
      "Average traininig score: 0.818\n",
      "Test score: 0.786\n"
     ]
    }
   ],
   "source": [
    "predictions = get_score(lm, X_train, y_train, X_test, y_test)\n",
    "predictions = get_score(lasso, X_train, y_train, X_test, y_test)\n",
    "predictions = get_score(ridge, X_train, y_train, X_test, y_test)"
   ]
  },
  {
   "cell_type": "code",
   "execution_count": 17,
   "metadata": {},
   "outputs": [
    {
     "name": "stdout",
     "output_type": "stream",
     "text": [
      "Best score\n",
      "0.8186561325844701\n",
      "\n",
      "Best estimator\n",
      "{'alpha': 1.0, 'copy_X': True, 'fit_intercept': True, 'max_iter': None, 'normalize': False, 'random_state': None, 'solver': 'auto', 'tol': 0.001}\n",
      "\n",
      "Test score:  0.7859764133063797\n"
     ]
    }
   ],
   "source": [
    "params_ridge = {'alpha': np.logspace(-10, 10, 21),\n",
    "          'fit_intercept': [True, False]}\n",
    "\n",
    "gs_ridge = grid_search_func(ridge, params_ridge,\n",
    "                          X_train, y_train, X_test, y_test)"
   ]
  },
  {
   "cell_type": "code",
   "execution_count": 18,
   "metadata": {},
   "outputs": [
    {
     "name": "stdout",
     "output_type": "stream",
     "text": [
      "Best score\n",
      "0.8187576247624553\n",
      "\n",
      "Best estimator\n",
      "{'alpha': 0.01, 'copy_X': True, 'fit_intercept': True, 'max_iter': 1000, 'normalize': False, 'positive': False, 'precompute': False, 'random_state': None, 'selection': 'cyclic', 'tol': 0.0001, 'warm_start': False}\n",
      "\n",
      "Test score:  0.7874736705707319\n"
     ]
    }
   ],
   "source": [
    "params_lasso = {'alpha': np.logspace(-5, 10, 21),\n",
    "          'fit_intercept': [True, False]}\n",
    "\n",
    "gs_lasso = grid_search_func(lasso, params_lasso,\n",
    "                          X_train, y_train, X_test, y_test)"
   ]
  },
  {
   "cell_type": "code",
   "execution_count": 19,
   "metadata": {},
   "outputs": [],
   "source": [
    "gs_results = pd.DataFrame(gs_ridge.cv_results_)\n",
    "gs_lasso_results = pd.DataFrame(gs_lasso.cv_results_)"
   ]
  },
  {
   "cell_type": "code",
   "execution_count": 20,
   "metadata": {},
   "outputs": [
    {
     "data": {
      "image/png": "[encoded data removed]",
      "text/plain": [
       "<matplotlib.figure.Figure at 0x1a1139b198>"
      ]
     },
     "metadata": {
      "image/png": {
       "height": 262,
       "width": 414
      }
     },
     "output_type": "display_data"
    }
   ],
   "source": [
    "fig, ax = plt.subplots()\n",
    "gs_results.groupby('param_fit_intercept').plot(\n",
    "    x='param_alpha',\n",
    "    y='mean_test_score',\n",
    "    logx=True,\n",
    "    ax=ax)\n",
    "gs_lasso_results.groupby('param_fit_intercept').plot(\n",
    "    x='param_alpha',\n",
    "    y='mean_test_score',\n",
    "    logx=True,\n",
    "    ax=ax)\n",
    "ax.legend(['Ridge with intercept','Ridge without intercept',\n",
    "           'Lasso with intercept','Lasso without intercept'])\n",
    "plt.show()"
   ]
  },
  {
   "cell_type": "code",
   "execution_count": null,
   "metadata": {},
   "outputs": [],
   "source": []
  }
 ],
 "metadata": {
  "anaconda-cloud": {},
  "kernelspec": {
   "display_name": "Python [conda env:anaconda3]",
   "language": "python",
   "name": "conda-env-anaconda3-py"
  },
  "language_info": {
   "codemirror_mode": {
    "name": "ipython",
    "version": 3
   },
   "file_extension": ".py",
   "mimetype": "text/x-python",
   "name": "python",
   "nbconvert_exporter": "python",
   "pygments_lexer": "ipython3",
   "version": "3.6.4"
  },
  "toc": {
   "nav_menu": {},
   "number_sections": false,
   "sideBar": true,
   "skip_h1_title": true,
   "title_cell": "Table of Contents",
   "title_sidebar": "Contents",
   "toc_cell": false,
   "toc_position": {
    "height": "calc(100% - 180px)",
    "left": "10px",
    "top": "150px",
    "width": "165px"
   },
   "toc_section_display": "block",
   "toc_window_display": false
  }
 },
 "nbformat": 4,
 "nbformat_minor": 1
}
