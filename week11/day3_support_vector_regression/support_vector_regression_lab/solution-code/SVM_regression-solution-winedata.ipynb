{
 "cells": [
  {
   "cell_type": "markdown",
   "metadata": {},
   "source": [
    "<img src=\"http://imgur.com/1ZcRyrc.png\" style=\"float: left; margin: 20px; height: 55px\">\n",
    "\n",
    "# Evaluating SVR on Multiple Datasets\n",
    "\n",
    "\n",
    "---\n",
    "\n",
    "In this lab you can explore several datasets with SVM regressors compared to linear regression with and without regularisation. \n",
    "\n",
    "First, use the \n",
    "\n",
    "**Bike share data**\n",
    "\n",
    "    resource-datasets/bikeshare\n",
    "    \n",
    "    regression to predict casual\n",
    "\n",
    "\n",
    "Then, use any of the following datasets:\n",
    "\n",
    "**Auto**\n",
    "\n",
    "    resource-datasets/auto_stats\n",
    "\n",
    "    regression to predict mpg\n",
    "\n",
    "**Boston housing data**\n",
    "\n",
    "    resource-datasets/boston_housing_data\n",
    "\n",
    "    regression to predict MEDV\n",
    "\n",
    "**Wine data**\n",
    "\n",
    "    resource-datasets/wine_data\n",
    "    \n",
    "    regression to predict the quality"
   ]
  },
  {
   "cell_type": "code",
   "execution_count": 1,
   "metadata": {},
   "outputs": [],
   "source": [
    "import pandas as pd\n",
    "import numpy as np\n",
    "import matplotlib\n",
    "import matplotlib.pyplot as plt\n",
    "import seaborn as sns\n",
    " \n",
    "plt.style.use('fivethirtyeight')\n",
    "%config InlineBackend.figure_format = 'retina'\n",
    "%matplotlib inline"
   ]
  },
  {
   "cell_type": "code",
   "execution_count": 2,
   "metadata": {},
   "outputs": [],
   "source": [
    "from sklearn import datasets\n",
    "from sklearn.svm import SVR, LinearSVR\n",
    "from sklearn.linear_model import LinearRegression, Ridge, Lasso\n",
    "from sklearn.model_selection import cross_val_score, cross_val_predict\n",
    "from sklearn import metrics\n",
    "from sklearn.model_selection import train_test_split, GridSearchCV\n",
    "from sklearn.preprocessing import StandardScaler"
   ]
  },
  {
   "cell_type": "markdown",
   "metadata": {},
   "source": [
    "## A: Wine data set"
   ]
  },
  {
   "cell_type": "markdown",
   "metadata": {},
   "source": [
    "### 1. Load the dataset\n",
    "\n",
    "- Are there any missing values? Impute or clean if so.\n",
    "- Select a regression target and predictors.\n",
    "- Rescale the data."
   ]
  },
  {
   "cell_type": "code",
   "execution_count": 3,
   "metadata": {},
   "outputs": [
    {
     "data": {
      "text/html": [
       "<div>\n",
       "<style scoped>\n",
       "    .dataframe tbody tr th:only-of-type {\n",
       "        vertical-align: middle;\n",
       "    }\n",
       "\n",
       "    .dataframe tbody tr th {\n",
       "        vertical-align: top;\n",
       "    }\n",
       "\n",
       "    .dataframe thead th {\n",
       "        text-align: right;\n",
       "    }\n",
       "</style>\n",
       "<table border=\"1\" class=\"dataframe\">\n",
       "  <thead>\n",
       "    <tr style=\"text-align: right;\">\n",
       "      <th></th>\n",
       "      <th>fixed acidity</th>\n",
       "      <th>volatile acidity</th>\n",
       "      <th>citric acid</th>\n",
       "      <th>residual sugar</th>\n",
       "      <th>chlorides</th>\n",
       "      <th>free sulfur dioxide</th>\n",
       "      <th>total sulfur dioxide</th>\n",
       "      <th>density</th>\n",
       "      <th>pH</th>\n",
       "      <th>sulphates</th>\n",
       "      <th>alcohol</th>\n",
       "      <th>quality</th>\n",
       "      <th>red_wine</th>\n",
       "    </tr>\n",
       "  </thead>\n",
       "  <tbody>\n",
       "    <tr>\n",
       "      <th>0</th>\n",
       "      <td>7.4</td>\n",
       "      <td>0.70</td>\n",
       "      <td>0.00</td>\n",
       "      <td>1.9</td>\n",
       "      <td>0.076</td>\n",
       "      <td>11.0</td>\n",
       "      <td>34.0</td>\n",
       "      <td>0.9978</td>\n",
       "      <td>3.51</td>\n",
       "      <td>0.56</td>\n",
       "      <td>9.4</td>\n",
       "      <td>5</td>\n",
       "      <td>1</td>\n",
       "    </tr>\n",
       "    <tr>\n",
       "      <th>1</th>\n",
       "      <td>7.8</td>\n",
       "      <td>0.88</td>\n",
       "      <td>0.00</td>\n",
       "      <td>2.6</td>\n",
       "      <td>0.098</td>\n",
       "      <td>25.0</td>\n",
       "      <td>67.0</td>\n",
       "      <td>0.9968</td>\n",
       "      <td>3.20</td>\n",
       "      <td>0.68</td>\n",
       "      <td>9.8</td>\n",
       "      <td>5</td>\n",
       "      <td>1</td>\n",
       "    </tr>\n",
       "    <tr>\n",
       "      <th>2</th>\n",
       "      <td>7.8</td>\n",
       "      <td>0.76</td>\n",
       "      <td>0.04</td>\n",
       "      <td>2.3</td>\n",
       "      <td>0.092</td>\n",
       "      <td>15.0</td>\n",
       "      <td>54.0</td>\n",
       "      <td>0.9970</td>\n",
       "      <td>3.26</td>\n",
       "      <td>0.65</td>\n",
       "      <td>9.8</td>\n",
       "      <td>5</td>\n",
       "      <td>1</td>\n",
       "    </tr>\n",
       "    <tr>\n",
       "      <th>3</th>\n",
       "      <td>11.2</td>\n",
       "      <td>0.28</td>\n",
       "      <td>0.56</td>\n",
       "      <td>1.9</td>\n",
       "      <td>0.075</td>\n",
       "      <td>17.0</td>\n",
       "      <td>60.0</td>\n",
       "      <td>0.9980</td>\n",
       "      <td>3.16</td>\n",
       "      <td>0.58</td>\n",
       "      <td>9.8</td>\n",
       "      <td>6</td>\n",
       "      <td>1</td>\n",
       "    </tr>\n",
       "    <tr>\n",
       "      <th>4</th>\n",
       "      <td>7.4</td>\n",
       "      <td>0.70</td>\n",
       "      <td>0.00</td>\n",
       "      <td>1.9</td>\n",
       "      <td>0.076</td>\n",
       "      <td>11.0</td>\n",
       "      <td>34.0</td>\n",
       "      <td>0.9978</td>\n",
       "      <td>3.51</td>\n",
       "      <td>0.56</td>\n",
       "      <td>9.4</td>\n",
       "      <td>5</td>\n",
       "      <td>1</td>\n",
       "    </tr>\n",
       "  </tbody>\n",
       "</table>\n",
       "</div>"
      ],
      "text/plain": [
       "   fixed acidity  volatile acidity  citric acid  residual sugar  chlorides  \\\n",
       "0            7.4              0.70         0.00             1.9      0.076   \n",
       "1            7.8              0.88         0.00             2.6      0.098   \n",
       "2            7.8              0.76         0.04             2.3      0.092   \n",
       "3           11.2              0.28         0.56             1.9      0.075   \n",
       "4            7.4              0.70         0.00             1.9      0.076   \n",
       "\n",
       "   free sulfur dioxide  total sulfur dioxide  density    pH  sulphates  \\\n",
       "0                 11.0                  34.0   0.9978  3.51       0.56   \n",
       "1                 25.0                  67.0   0.9968  3.20       0.68   \n",
       "2                 15.0                  54.0   0.9970  3.26       0.65   \n",
       "3                 17.0                  60.0   0.9980  3.16       0.58   \n",
       "4                 11.0                  34.0   0.9978  3.51       0.56   \n",
       "\n",
       "   alcohol  quality  red_wine  \n",
       "0      9.4        5         1  \n",
       "1      9.8        5         1  \n",
       "2      9.8        5         1  \n",
       "3      9.8        6         1  \n",
       "4      9.4        5         1  "
      ]
     },
     "execution_count": 3,
     "metadata": {},
     "output_type": "execute_result"
    }
   ],
   "source": [
    "# Read in bikeshare data\n",
    "X = pd.read_csv('../../../../../resource-datasets/wine_data/winequality_merged.csv')\n",
    "X.head()"
   ]
  },
  {
   "cell_type": "code",
   "execution_count": 4,
   "metadata": {},
   "outputs": [],
   "source": [
    "X.dropna(inplace=True)\n",
    "X.drop(X.columns[0],axis=1,inplace=True)\n",
    "X = pd.get_dummies(X,columns=['red_wine'],drop_first=True)"
   ]
  },
  {
   "cell_type": "code",
   "execution_count": 5,
   "metadata": {},
   "outputs": [],
   "source": [
    "y = X.pop('quality')"
   ]
  },
  {
   "cell_type": "code",
   "execution_count": 6,
   "metadata": {},
   "outputs": [
    {
     "data": {
      "text/plain": [
       "((6497, 11), (6497,))"
      ]
     },
     "execution_count": 6,
     "metadata": {},
     "output_type": "execute_result"
    }
   ],
   "source": [
    "X.shape, y.shape"
   ]
  },
  {
   "cell_type": "code",
   "execution_count": 7,
   "metadata": {},
   "outputs": [],
   "source": [
    "# create train/test split\n",
    "X_train, X_test, y_train, y_test = train_test_split(\n",
    "    X, y, test_size=0.2, random_state=1)"
   ]
  },
  {
   "cell_type": "code",
   "execution_count": 8,
   "metadata": {},
   "outputs": [],
   "source": [
    "from sklearn.preprocessing import StandardScaler\n",
    "\n",
    "scaler = StandardScaler()\n",
    "X_train = pd.DataFrame(scaler.fit_transform(X_train),columns=X.columns)\n",
    "X_test = pd.DataFrame(scaler.transform(X_test),columns=X.columns)"
   ]
  },
  {
   "cell_type": "markdown",
   "metadata": {},
   "source": [
    "### 2. Build an SVM regressor on the data\n",
    "\n",
    "See the documentation for details about the [SVM-regressor](http://scikit-learn.org/stable/modules/generated/sklearn.svm.SVR.html#sklearn.svm.SVR).\n",
    "\n",
    "- Initialize and train a linear SVM with the default settings. What is the average R2-score with 5-fold cross validation?\n",
    "- Repeat using a radial basis function (rbf) regressor. Compare the scores. Which one is better?"
   ]
  },
  {
   "cell_type": "code",
   "execution_count": 9,
   "metadata": {},
   "outputs": [],
   "source": [
    "def get_score(model, X_train, y_train, X_test, y_test, cv=5):\n",
    "    model.fit(X_train,y_train)\n",
    "    scores_train = cross_val_score(model, X_train, y_train, cv=cv)\n",
    "    predictions_test = model.predict(X_test) \n",
    "    sm = scores_train.mean()\n",
    "    print((\"Average traininig score: {:0.3}\".format(sm)))\n",
    "    print((\"Test score: {:0.3}\".format(model.score(X_test, y_test))))\n",
    "    return predictions_test"
   ]
  },
  {
   "cell_type": "code",
   "execution_count": 10,
   "metadata": {},
   "outputs": [],
   "source": [
    "#Keep in mind LinearSVR is faster than the general SVM with linear kernel\n",
    "model_lin = LinearSVR() \n",
    "model_rbf = SVR(kernel='rbf')\n",
    "model_poly = SVR(kernel='poly', degree=2)"
   ]
  },
  {
   "cell_type": "code",
   "execution_count": 11,
   "metadata": {},
   "outputs": [
    {
     "name": "stdout",
     "output_type": "stream",
     "text": [
      "Average traininig score: 0.29\n",
      "Test score: 0.272\n",
      "Average traininig score: 0.385\n",
      "Test score: 0.386\n"
     ]
    }
   ],
   "source": [
    "predictions = get_score(model_lin, X_train, y_train, X_test, y_test, cv=5)\n",
    "predictions = get_score(model_rbf, X_train, y_train, X_test, y_test, cv=5)\n",
    "#predictions = get_score(model_poly, X_train, y_train, X_test, y_test, cv=5)"
   ]
  },
  {
   "cell_type": "markdown",
   "metadata": {},
   "source": [
    "### 3. Tune the SVM regressors with gridsearch\n",
    "\n",
    "- Check in the documentation which parameters can be tuned in combination with different kernels.\n",
    "- Create a further train-test split to obtain a hold-out validation set.\n",
    "- Cross-validate scores."
   ]
  },
  {
   "cell_type": "code",
   "execution_count": 12,
   "metadata": {},
   "outputs": [],
   "source": [
    "def grid_search_func(estimator, params, X_train, y_train, X_test, y_test, scoring_function=metrics.r2_score, scoring='r2', cv=5):\n",
    "    gs = GridSearchCV(\n",
    "        estimator=estimator,\n",
    "        param_grid=params,\n",
    "        return_train_score=True,\n",
    "        scoring=scoring,\n",
    "        cv=cv)\n",
    "\n",
    "    gs.fit(X_train, y_train)\n",
    "\n",
    "    print(\"Best score\")\n",
    "    print(gs.best_score_)\n",
    "    print()\n",
    "    print(\"Best estimator\")\n",
    "    print(gs.best_estimator_.get_params())\n",
    "    print()\n",
    "\n",
    "    predictions = gs.best_estimator_.predict(X_test)\n",
    "    print('Test score: ', scoring_function(y_test, predictions))\n",
    "\n",
    "\n",
    "    return gs"
   ]
  },
  {
   "cell_type": "code",
   "execution_count": 13,
   "metadata": {},
   "outputs": [
    {
     "name": "stdout",
     "output_type": "stream",
     "text": [
      "Best score\n",
      "0.2926354353126955\n",
      "\n",
      "Best estimator\n",
      "{'C': 0.31622776601683794, 'dual': True, 'epsilon': 0.0, 'fit_intercept': True, 'intercept_scaling': 1.0, 'loss': 'squared_epsilon_insensitive', 'max_iter': 1000, 'random_state': None, 'tol': 0.0001, 'verbose': 0}\n",
      "\n",
      "Test score:  0.27078081699433143\n"
     ]
    }
   ],
   "source": [
    "params_lin = {\n",
    "    'C': np.logspace(-3, 2, 3),\n",
    "    'loss': ['epsilon_insensitive','squared_epsilon_insensitive'],\n",
    "    'fit_intercept': [True,False]\n",
    "}\n",
    "\n",
    "gs_lin = grid_search_func(model_lin, params_lin,\n",
    "                          X_train, y_train, X_test, y_test)"
   ]
  },
  {
   "cell_type": "code",
   "execution_count": 14,
   "metadata": {},
   "outputs": [
    {
     "name": "stdout",
     "output_type": "stream",
     "text": [
      "Best score\n",
      "0.3514063865115488\n",
      "\n",
      "Best estimator\n",
      "{'C': 0.31622776601683794, 'cache_size': 200, 'coef0': 0.0, 'degree': 3, 'epsilon': 0.1, 'gamma': 0.03162277660168379, 'kernel': 'rbf', 'max_iter': -1, 'shrinking': True, 'tol': 0.001, 'verbose': False}\n",
      "\n",
      "Test score:  0.34025315154301994\n"
     ]
    }
   ],
   "source": [
    "params_rbf = {\n",
    "    'C': np.logspace(-3, 2, 3),\n",
    "    'gamma': np.logspace(-5, 2, 3),\n",
    "    'kernel': ['rbf']\n",
    "}\n",
    "\n",
    "gs_rbf = grid_search_func(model_rbf,params_rbf,X_train,y_train,X_test,y_test)"
   ]
  },
  {
   "cell_type": "code",
   "execution_count": 15,
   "metadata": {},
   "outputs": [],
   "source": [
    "params_poly = {\n",
    "    'C': np.logspace(-3, 2, 3),\n",
    "    'gamma': np.logspace(-5, 2, 3),\n",
    "    'degree': [2,3]\n",
    "}\n",
    "# that would take a long time\n",
    "#gs_poly = grid_search_func(model_poly,params_poly,X_train,y_train,X_test,y_test)"
   ]
  },
  {
   "cell_type": "markdown",
   "metadata": {},
   "source": [
    "### 4. Compare to linear regression with and without regularisation.\n",
    "\n",
    "- Gridsearch optimal parameters \n",
    "- Cross-validate scores.\n",
    "- Examine the R2."
   ]
  },
  {
   "cell_type": "code",
   "execution_count": 16,
   "metadata": {},
   "outputs": [],
   "source": [
    "# Evaluate MSE for whole model using LinearRegression (no regularisation), then regularised regression\n",
    "lm = LinearRegression()\n",
    "lasso = Lasso()\n",
    "ridge = Ridge()"
   ]
  },
  {
   "cell_type": "code",
   "execution_count": 17,
   "metadata": {},
   "outputs": [
    {
     "name": "stdout",
     "output_type": "stream",
     "text": [
      "Average traininig score: 0.293\n",
      "Test score: 0.271\n",
      "Average traininig score: -0.00136\n",
      "Test score: -0.00173\n",
      "Average traininig score: 0.293\n",
      "Test score: 0.271\n"
     ]
    }
   ],
   "source": [
    "predictions = get_score(lm, X_train, y_train, X_test, y_test, cv=5)\n",
    "predictions = get_score(lasso, X_train, y_train, X_test, y_test, cv=5)\n",
    "predictions = get_score(ridge, X_train, y_train, X_test, y_test, cv=5)"
   ]
  },
  {
   "cell_type": "code",
   "execution_count": 18,
   "metadata": {},
   "outputs": [
    {
     "name": "stdout",
     "output_type": "stream",
     "text": [
      "Best score\n",
      "0.2927173363286706\n",
      "\n",
      "Best estimator\n",
      "{'alpha': 10.0, 'copy_X': True, 'fit_intercept': True, 'max_iter': None, 'normalize': False, 'random_state': None, 'solver': 'auto', 'tol': 0.001}\n",
      "\n",
      "Test score:  0.2708159451110769\n"
     ]
    }
   ],
   "source": [
    "params_ridge = {'alpha': np.logspace(-10, 10, 21),\n",
    "          'fit_intercept': [True, False]}\n",
    "\n",
    "gs_ridge = grid_search_func(ridge, params_ridge,\n",
    "                          X_train, y_train, X_test, y_test)"
   ]
  },
  {
   "cell_type": "code",
   "execution_count": 19,
   "metadata": {},
   "outputs": [
    {
     "name": "stdout",
     "output_type": "stream",
     "text": [
      "Best score\n",
      "0.2927006134235785\n",
      "\n",
      "Best estimator\n",
      "{'alpha': 0.00031622776601683794, 'copy_X': True, 'fit_intercept': True, 'max_iter': 1000, 'normalize': False, 'positive': False, 'precompute': False, 'random_state': None, 'selection': 'cyclic', 'tol': 0.0001, 'warm_start': False}\n",
      "\n",
      "Test score:  0.2707111546380859\n"
     ]
    }
   ],
   "source": [
    "params_lasso = {'alpha': np.logspace(-5, 10, 21),\n",
    "          'fit_intercept': [True, False]}\n",
    "\n",
    "gs_lasso = grid_search_func(lasso, params_lasso,\n",
    "                          X_train, y_train, X_test, y_test)"
   ]
  },
  {
   "cell_type": "code",
   "execution_count": 20,
   "metadata": {},
   "outputs": [],
   "source": [
    "gs_results = pd.DataFrame(gs_ridge.cv_results_)\n",
    "gs_lasso_results = pd.DataFrame(gs_lasso.cv_results_)"
   ]
  },
  {
   "cell_type": "code",
   "execution_count": 21,
   "metadata": {},
   "outputs": [
    {
     "data": {
      "image/png": "[encoded data removed]",
      "text/plain": [
       "<matplotlib.figure.Figure at 0x1a17a5c400>"
      ]
     },
     "metadata": {
      "image/png": {
       "height": 262,
       "width": 414
      }
     },
     "output_type": "display_data"
    }
   ],
   "source": [
    "fig, ax = plt.subplots()\n",
    "gs_results.groupby('param_fit_intercept').plot(\n",
    "    x='param_alpha',\n",
    "    y='mean_test_score',\n",
    "    logx=True,\n",
    "    ax=ax)\n",
    "\n",
    "gs_lasso_results.groupby('param_fit_intercept').plot(\n",
    "    x='param_alpha',\n",
    "    y='mean_test_score',\n",
    "    logx=True,\n",
    "    ax=ax)\n",
    "ax.legend(['Ridge with intercept','Ridge without intercept',\n",
    "           'Lasso with intercept','Lasso without intercept'])\n",
    "plt.show()"
   ]
  },
  {
   "cell_type": "code",
   "execution_count": null,
   "metadata": {},
   "outputs": [],
   "source": []
  }
 ],
 "metadata": {
  "anaconda-cloud": {},
  "kernelspec": {
   "display_name": "Python [conda env:anaconda3]",
   "language": "python",
   "name": "conda-env-anaconda3-py"
  },
  "language_info": {
   "codemirror_mode": {
    "name": "ipython",
    "version": 3
   },
   "file_extension": ".py",
   "mimetype": "text/x-python",
   "name": "python",
   "nbconvert_exporter": "python",
   "pygments_lexer": "ipython3",
   "version": "3.6.4"
  },
  "toc": {
   "nav_menu": {},
   "number_sections": false,
   "sideBar": true,
   "skip_h1_title": true,
   "title_cell": "Table of Contents",
   "title_sidebar": "Contents",
   "toc_cell": false,
   "toc_position": {},
   "toc_section_display": "block",
   "toc_window_display": false
  }
 },
 "nbformat": 4,
 "nbformat_minor": 1
}
