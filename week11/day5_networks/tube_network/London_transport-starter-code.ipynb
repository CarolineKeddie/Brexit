{
 "cells": [
  {
   "cell_type": "markdown",
   "metadata": {},
   "source": [
    "<img src=\"http://imgur.com/1ZcRyrc.png\" style=\"float: left; margin: 20px; height: 55px\">\n",
    "\n",
    "# London Transport Network\n",
    "\n",
    "---"
   ]
  },
  {
   "cell_type": "markdown",
   "metadata": {},
   "source": [
    "This dataset obtained from [Manlio De Domenico's webpage](https://comunelab.fbk.eu/data.php) (direct file link: [London Multiplex Transport](https://comunelab.fbk.eu/data/London_Multiplex_Transport.zip), put the unzipped folder into the same folder as this notebook) contains data about the London Transport Network of tube, overground and DLR connecting 369 stations.  Additionally, it contains data about disruptions in the network collected from Twitter. A detailed description of the dataset by the authors is included. \n",
    "\n",
    "The files contain the following information:\n",
    "1. *london_transport_raw.edges*: the individual lines and the stations they connect\n",
    "2. *london_transport_nodes.txt*: the stations, their ID, and their coordinates\n",
    "3. *london_transport_multiplex.edges*: the first column indicates if the connection is through tube (1), overground (2) or DLR (3). The second and third column indicate the corresponding link through the station IDs. The fourth column indicates how many different lines run between these two nodes (that is only relevant for the tube).\n",
    "4. *london_transport_disruptions_summary.txt*: summary statistics about the recorded disruptions for the individual lines and links.\n",
    "5. A folder with the disruptions that occured giving each time the network with the links existing during the disruption.\n",
    "\n",
    "The dataset actually consists of three networks, one for the tube, one for the overground and one for the DLR, all connecting the same nodes. One can consider these networks separately or, as passengers can use all three of them, the combined network. In that case one speaks of a multiplex network."
   ]
  },
  {
   "cell_type": "code",
   "execution_count": 1,
   "metadata": {},
   "outputs": [],
   "source": [
    "import numpy as np\n",
    "import pandas as pd\n",
    "import matplotlib.pyplot as plt\n",
    "from matplotlib import cm\n",
    "import seaborn as sns\n",
    "import networkx as nx\n",
    "plt.style.use('ggplot') \n",
    "%matplotlib inline\n",
    "%config InlineBackend.figure_format = 'retina'"
   ]
  },
  {
   "cell_type": "code",
   "execution_count": 2,
   "metadata": {},
   "outputs": [
    {
     "name": "stdout",
     "output_type": "stream",
     "text": [
      "(503, 3)\n"
     ]
    },
    {
     "data": {
      "text/html": [
       "<div>\n",
       "<style scoped>\n",
       "    .dataframe tbody tr th:only-of-type {\n",
       "        vertical-align: middle;\n",
       "    }\n",
       "\n",
       "    .dataframe tbody tr th {\n",
       "        vertical-align: top;\n",
       "    }\n",
       "\n",
       "    .dataframe thead th {\n",
       "        text-align: right;\n",
       "    }\n",
       "</style>\n",
       "<table border=\"1\" class=\"dataframe\">\n",
       "  <thead>\n",
       "    <tr style=\"text-align: right;\">\n",
       "      <th></th>\n",
       "      <th>line</th>\n",
       "      <th>station_1</th>\n",
       "      <th>station_2</th>\n",
       "    </tr>\n",
       "  </thead>\n",
       "  <tbody>\n",
       "    <tr>\n",
       "      <th>0</th>\n",
       "      <td>bakerloo</td>\n",
       "      <td>harrow&amp;wealdstone</td>\n",
       "      <td>kenton</td>\n",
       "    </tr>\n",
       "    <tr>\n",
       "      <th>1</th>\n",
       "      <td>bakerloo</td>\n",
       "      <td>kenton</td>\n",
       "      <td>southkenton</td>\n",
       "    </tr>\n",
       "    <tr>\n",
       "      <th>2</th>\n",
       "      <td>bakerloo</td>\n",
       "      <td>southkenton</td>\n",
       "      <td>northwembley</td>\n",
       "    </tr>\n",
       "    <tr>\n",
       "      <th>3</th>\n",
       "      <td>bakerloo</td>\n",
       "      <td>northwembley</td>\n",
       "      <td>wembleycentral</td>\n",
       "    </tr>\n",
       "    <tr>\n",
       "      <th>4</th>\n",
       "      <td>bakerloo</td>\n",
       "      <td>wembleycentral</td>\n",
       "      <td>stonebridgepark</td>\n",
       "    </tr>\n",
       "  </tbody>\n",
       "</table>\n",
       "</div>"
      ],
      "text/plain": [
       "       line          station_1        station_2\n",
       "0  bakerloo  harrow&wealdstone           kenton\n",
       "1  bakerloo             kenton      southkenton\n",
       "2  bakerloo        southkenton     northwembley\n",
       "3  bakerloo       northwembley   wembleycentral\n",
       "4  bakerloo     wembleycentral  stonebridgepark"
      ]
     },
     "execution_count": 2,
     "metadata": {},
     "output_type": "execute_result"
    }
   ],
   "source": [
    "df_raw = pd.read_csv('./London_Multiplex_Transport/Dataset/london_transport_raw.edges',sep=' ',header=None)\n",
    "df_raw.columns = ['line','station_1','station_2']\n",
    "print(df_raw.shape)\n",
    "df_raw.head()"
   ]
  },
  {
   "cell_type": "code",
   "execution_count": 3,
   "metadata": {},
   "outputs": [
    {
     "data": {
      "text/plain": [
       "array(['bakerloo', 'central', 'circle', 'district', 'hammersmith&city',\n",
       "       'jubilee', 'metropolitan', 'northern', 'piccadilly', 'victoria',\n",
       "       'waterloo&city', 'overground', 'dlr'], dtype=object)"
      ]
     },
     "execution_count": 3,
     "metadata": {},
     "output_type": "execute_result"
    }
   ],
   "source": [
    "df_raw.line.unique()"
   ]
  },
  {
   "cell_type": "code",
   "execution_count": 4,
   "metadata": {},
   "outputs": [
    {
     "name": "stdout",
     "output_type": "stream",
     "text": [
      "(369, 4)\n"
     ]
    },
    {
     "data": {
      "text/html": [
       "<div>\n",
       "<style scoped>\n",
       "    .dataframe tbody tr th:only-of-type {\n",
       "        vertical-align: middle;\n",
       "    }\n",
       "\n",
       "    .dataframe tbody tr th {\n",
       "        vertical-align: top;\n",
       "    }\n",
       "\n",
       "    .dataframe thead th {\n",
       "        text-align: right;\n",
       "    }\n",
       "</style>\n",
       "<table border=\"1\" class=\"dataframe\">\n",
       "  <thead>\n",
       "    <tr style=\"text-align: right;\">\n",
       "      <th></th>\n",
       "      <th>nodeID</th>\n",
       "      <th>nodeLabel</th>\n",
       "      <th>nodeLat</th>\n",
       "      <th>nodeLong</th>\n",
       "    </tr>\n",
       "  </thead>\n",
       "  <tbody>\n",
       "    <tr>\n",
       "      <th>0</th>\n",
       "      <td>0</td>\n",
       "      <td>abbeyroad</td>\n",
       "      <td>51.531952</td>\n",
       "      <td>0.003738</td>\n",
       "    </tr>\n",
       "    <tr>\n",
       "      <th>1</th>\n",
       "      <td>1</td>\n",
       "      <td>westham</td>\n",
       "      <td>51.528526</td>\n",
       "      <td>0.005332</td>\n",
       "    </tr>\n",
       "    <tr>\n",
       "      <th>2</th>\n",
       "      <td>2</td>\n",
       "      <td>actoncentral</td>\n",
       "      <td>51.508758</td>\n",
       "      <td>-0.263416</td>\n",
       "    </tr>\n",
       "    <tr>\n",
       "      <th>3</th>\n",
       "      <td>3</td>\n",
       "      <td>willesdenjunction</td>\n",
       "      <td>51.532234</td>\n",
       "      <td>-0.243895</td>\n",
       "    </tr>\n",
       "    <tr>\n",
       "      <th>4</th>\n",
       "      <td>4</td>\n",
       "      <td>actontown</td>\n",
       "      <td>51.503071</td>\n",
       "      <td>-0.280288</td>\n",
       "    </tr>\n",
       "  </tbody>\n",
       "</table>\n",
       "</div>"
      ],
      "text/plain": [
       "   nodeID          nodeLabel    nodeLat  nodeLong\n",
       "0       0          abbeyroad  51.531952  0.003738\n",
       "1       1            westham  51.528526  0.005332\n",
       "2       2       actoncentral  51.508758 -0.263416\n",
       "3       3  willesdenjunction  51.532234 -0.243895\n",
       "4       4          actontown  51.503071 -0.280288"
      ]
     },
     "execution_count": 4,
     "metadata": {},
     "output_type": "execute_result"
    }
   ],
   "source": [
    "df_nodes = pd.read_csv('./London_Multiplex_Transport/Dataset/london_transport_nodes.txt',sep=' ')\n",
    "print(df_nodes.shape)\n",
    "df_nodes.head()"
   ]
  },
  {
   "cell_type": "code",
   "execution_count": 5,
   "metadata": {},
   "outputs": [
    {
     "name": "stdout",
     "output_type": "stream",
     "text": [
      "(441, 4)\n"
     ]
    },
    {
     "data": {
      "text/html": [
       "<div>\n",
       "<style scoped>\n",
       "    .dataframe tbody tr th:only-of-type {\n",
       "        vertical-align: middle;\n",
       "    }\n",
       "\n",
       "    .dataframe tbody tr th {\n",
       "        vertical-align: top;\n",
       "    }\n",
       "\n",
       "    .dataframe thead th {\n",
       "        text-align: right;\n",
       "    }\n",
       "</style>\n",
       "<table border=\"1\" class=\"dataframe\">\n",
       "  <thead>\n",
       "    <tr style=\"text-align: right;\">\n",
       "      <th></th>\n",
       "      <th>layer</th>\n",
       "      <th>node_1</th>\n",
       "      <th>node_2</th>\n",
       "      <th>weight</th>\n",
       "    </tr>\n",
       "  </thead>\n",
       "  <tbody>\n",
       "    <tr>\n",
       "      <th>0</th>\n",
       "      <td>1</td>\n",
       "      <td>1</td>\n",
       "      <td>77</td>\n",
       "      <td>2</td>\n",
       "    </tr>\n",
       "    <tr>\n",
       "      <th>1</th>\n",
       "      <td>1</td>\n",
       "      <td>1</td>\n",
       "      <td>106</td>\n",
       "      <td>1</td>\n",
       "    </tr>\n",
       "    <tr>\n",
       "      <th>2</th>\n",
       "      <td>1</td>\n",
       "      <td>1</td>\n",
       "      <td>219</td>\n",
       "      <td>1</td>\n",
       "    </tr>\n",
       "    <tr>\n",
       "      <th>3</th>\n",
       "      <td>1</td>\n",
       "      <td>1</td>\n",
       "      <td>321</td>\n",
       "      <td>2</td>\n",
       "    </tr>\n",
       "    <tr>\n",
       "      <th>4</th>\n",
       "      <td>1</td>\n",
       "      <td>3</td>\n",
       "      <td>224</td>\n",
       "      <td>1</td>\n",
       "    </tr>\n",
       "  </tbody>\n",
       "</table>\n",
       "</div>"
      ],
      "text/plain": [
       "   layer  node_1  node_2  weight\n",
       "0      1       1      77       2\n",
       "1      1       1     106       1\n",
       "2      1       1     219       1\n",
       "3      1       1     321       2\n",
       "4      1       3     224       1"
      ]
     },
     "execution_count": 5,
     "metadata": {},
     "output_type": "execute_result"
    }
   ],
   "source": [
    "df_multiplex = pd.read_csv('./London_Multiplex_Transport/Dataset/london_transport_multiplex.edges',sep=' ',header=None)\n",
    "df_multiplex.columns = ['layer','node_1','node_2','weight']\n",
    "print(df_multiplex.shape)\n",
    "df_multiplex.head()"
   ]
  },
  {
   "cell_type": "code",
   "execution_count": 6,
   "metadata": {},
   "outputs": [
    {
     "name": "stdout",
     "output_type": "stream",
     "text": [
      "(325, 6)\n"
     ]
    },
    {
     "data": {
      "text/html": [
       "<div>\n",
       "<style scoped>\n",
       "    .dataframe tbody tr th:only-of-type {\n",
       "        vertical-align: middle;\n",
       "    }\n",
       "\n",
       "    .dataframe tbody tr th {\n",
       "        vertical-align: top;\n",
       "    }\n",
       "\n",
       "    .dataframe thead th {\n",
       "        text-align: right;\n",
       "    }\n",
       "</style>\n",
       "<table border=\"1\" class=\"dataframe\">\n",
       "  <thead>\n",
       "    <tr style=\"text-align: right;\">\n",
       "      <th></th>\n",
       "      <th>#DISRUP_ID</th>\n",
       "      <th>LAYER</th>\n",
       "      <th>STATION_A</th>\n",
       "      <th>STATION_B</th>\n",
       "      <th>FREQUENCY%</th>\n",
       "      <th>DAMAGED_NODES%</th>\n",
       "    </tr>\n",
       "  </thead>\n",
       "  <tbody>\n",
       "    <tr>\n",
       "      <th>0</th>\n",
       "      <td>DISR1</td>\n",
       "      <td>metropolitan</td>\n",
       "      <td>aldgate</td>\n",
       "      <td>bakerstreet</td>\n",
       "      <td>3.3457</td>\n",
       "      <td>2.439</td>\n",
       "    </tr>\n",
       "    <tr>\n",
       "      <th>1</th>\n",
       "      <td>DISR2</td>\n",
       "      <td>hammersmith&amp;city</td>\n",
       "      <td>barking</td>\n",
       "      <td>moorgate</td>\n",
       "      <td>2.8914</td>\n",
       "      <td>3.523</td>\n",
       "    </tr>\n",
       "    <tr>\n",
       "      <th>2</th>\n",
       "      <td>DISR3</td>\n",
       "      <td>dlr</td>\n",
       "      <td>beckton</td>\n",
       "      <td>canningtown</td>\n",
       "      <td>2.5609</td>\n",
       "      <td>2.439</td>\n",
       "    </tr>\n",
       "    <tr>\n",
       "      <th>3</th>\n",
       "      <td>DISR4</td>\n",
       "      <td>overground</td>\n",
       "      <td>claphamjunction</td>\n",
       "      <td>surreyquays</td>\n",
       "      <td>2.0240</td>\n",
       "      <td>1.897</td>\n",
       "    </tr>\n",
       "    <tr>\n",
       "      <th>4</th>\n",
       "      <td>DISR5</td>\n",
       "      <td>overground</td>\n",
       "      <td>richmond</td>\n",
       "      <td>willesdenjunction</td>\n",
       "      <td>1.9413</td>\n",
       "      <td>1.626</td>\n",
       "    </tr>\n",
       "  </tbody>\n",
       "</table>\n",
       "</div>"
      ],
      "text/plain": [
       "  #DISRUP_ID             LAYER        STATION_A          STATION_B  \\\n",
       "0      DISR1      metropolitan          aldgate        bakerstreet   \n",
       "1      DISR2  hammersmith&city          barking           moorgate   \n",
       "2      DISR3               dlr          beckton        canningtown   \n",
       "3      DISR4        overground  claphamjunction        surreyquays   \n",
       "4      DISR5        overground         richmond  willesdenjunction   \n",
       "\n",
       "   FREQUENCY%  DAMAGED_NODES%  \n",
       "0      3.3457           2.439  \n",
       "1      2.8914           3.523  \n",
       "2      2.5609           2.439  \n",
       "3      2.0240           1.897  \n",
       "4      1.9413           1.626  "
      ]
     },
     "execution_count": 6,
     "metadata": {},
     "output_type": "execute_result"
    }
   ],
   "source": [
    "df_disruption_sum = pd.read_csv('./London_Multiplex_Transport/Dataset/london_transport_disruptions_summary.txt',sep=' ')\n",
    "print(df_disruption_sum.shape)\n",
    "df_disruption_sum.head()"
   ]
  },
  {
   "cell_type": "code",
   "execution_count": 7,
   "metadata": {},
   "outputs": [
    {
     "data": {
      "text/html": [
       "<div>\n",
       "<style scoped>\n",
       "    .dataframe tbody tr th:only-of-type {\n",
       "        vertical-align: middle;\n",
       "    }\n",
       "\n",
       "    .dataframe tbody tr th {\n",
       "        vertical-align: top;\n",
       "    }\n",
       "\n",
       "    .dataframe thead th {\n",
       "        text-align: right;\n",
       "    }\n",
       "</style>\n",
       "<table border=\"1\" class=\"dataframe\">\n",
       "  <thead>\n",
       "    <tr style=\"text-align: right;\">\n",
       "      <th></th>\n",
       "      <th>layerID</th>\n",
       "      <th>layerLabel</th>\n",
       "    </tr>\n",
       "  </thead>\n",
       "  <tbody>\n",
       "    <tr>\n",
       "      <th>0</th>\n",
       "      <td>1</td>\n",
       "      <td>Tube (All underground lines aggregated)</td>\n",
       "    </tr>\n",
       "    <tr>\n",
       "      <th>1</th>\n",
       "      <td>2</td>\n",
       "      <td>Overground</td>\n",
       "    </tr>\n",
       "    <tr>\n",
       "      <th>2</th>\n",
       "      <td>3</td>\n",
       "      <td>DLR</td>\n",
       "    </tr>\n",
       "  </tbody>\n",
       "</table>\n",
       "</div>"
      ],
      "text/plain": [
       "   layerID                               layerLabel\n",
       "0        1  Tube (All underground lines aggregated)\n",
       "1        2                               Overground\n",
       "2        3                                      DLR"
      ]
     },
     "execution_count": 7,
     "metadata": {},
     "output_type": "execute_result"
    }
   ],
   "source": [
    "df_layers = pd.read_csv('./London_Multiplex_Transport/Dataset/london_transport_layers.txt',sep='\\t')\n",
    "df_layers['layerID'] = [int(x[0]) for x in list(df_layers.iloc[:,0])]\n",
    "df_layers['layerLabel'] = [x[2:] for x in list(df_layers.iloc[:,0])]\n",
    "df_layers.drop(df_layers.columns[0],axis=1,inplace=True)\n",
    "df_layers.head()"
   ]
  },
  {
   "cell_type": "code",
   "execution_count": 8,
   "metadata": {},
   "outputs": [
    {
     "data": {
      "text/html": [
       "<div>\n",
       "<style scoped>\n",
       "    .dataframe tbody tr th:only-of-type {\n",
       "        vertical-align: middle;\n",
       "    }\n",
       "\n",
       "    .dataframe tbody tr th {\n",
       "        vertical-align: top;\n",
       "    }\n",
       "\n",
       "    .dataframe thead th {\n",
       "        text-align: right;\n",
       "    }\n",
       "</style>\n",
       "<table border=\"1\" class=\"dataframe\">\n",
       "  <thead>\n",
       "    <tr style=\"text-align: right;\">\n",
       "      <th></th>\n",
       "      <th>node_1</th>\n",
       "      <th>node_2</th>\n",
       "      <th>weight</th>\n",
       "    </tr>\n",
       "  </thead>\n",
       "  <tbody>\n",
       "    <tr>\n",
       "      <th>0</th>\n",
       "      <td>1</td>\n",
       "      <td>77</td>\n",
       "      <td>2</td>\n",
       "    </tr>\n",
       "    <tr>\n",
       "      <th>1</th>\n",
       "      <td>1</td>\n",
       "      <td>106</td>\n",
       "      <td>1</td>\n",
       "    </tr>\n",
       "    <tr>\n",
       "      <th>2</th>\n",
       "      <td>1</td>\n",
       "      <td>219</td>\n",
       "      <td>1</td>\n",
       "    </tr>\n",
       "    <tr>\n",
       "      <th>3</th>\n",
       "      <td>1</td>\n",
       "      <td>321</td>\n",
       "      <td>2</td>\n",
       "    </tr>\n",
       "    <tr>\n",
       "      <th>4</th>\n",
       "      <td>3</td>\n",
       "      <td>224</td>\n",
       "      <td>1</td>\n",
       "    </tr>\n",
       "  </tbody>\n",
       "</table>\n",
       "</div>"
      ],
      "text/plain": [
       "   node_1  node_2  weight\n",
       "0       1      77       2\n",
       "1       1     106       1\n",
       "2       1     219       1\n",
       "3       1     321       2\n",
       "4       3     224       1"
      ]
     },
     "execution_count": 8,
     "metadata": {},
     "output_type": "execute_result"
    }
   ],
   "source": [
    "df_multiplex[df_multiplex.layer==1].loc[:,'node_1':].head()"
   ]
  },
  {
   "cell_type": "code",
   "execution_count": 9,
   "metadata": {},
   "outputs": [
    {
     "data": {
      "text/html": [
       "<div>\n",
       "<style scoped>\n",
       "    .dataframe tbody tr th:only-of-type {\n",
       "        vertical-align: middle;\n",
       "    }\n",
       "\n",
       "    .dataframe tbody tr th {\n",
       "        vertical-align: top;\n",
       "    }\n",
       "\n",
       "    .dataframe thead th {\n",
       "        text-align: right;\n",
       "    }\n",
       "</style>\n",
       "<table border=\"1\" class=\"dataframe\">\n",
       "  <thead>\n",
       "    <tr style=\"text-align: right;\">\n",
       "      <th></th>\n",
       "      <th>layer</th>\n",
       "      <th>node_1</th>\n",
       "      <th>node_2</th>\n",
       "      <th>weight</th>\n",
       "    </tr>\n",
       "  </thead>\n",
       "  <tbody>\n",
       "    <tr>\n",
       "      <th>count</th>\n",
       "      <td>312.0</td>\n",
       "      <td>312.000000</td>\n",
       "      <td>312.000000</td>\n",
       "      <td>312.000000</td>\n",
       "    </tr>\n",
       "    <tr>\n",
       "      <th>mean</th>\n",
       "      <td>1.0</td>\n",
       "      <td>130.804487</td>\n",
       "      <td>209.314103</td>\n",
       "      <td>1.198718</td>\n",
       "    </tr>\n",
       "    <tr>\n",
       "      <th>std</th>\n",
       "      <td>0.0</td>\n",
       "      <td>97.611328</td>\n",
       "      <td>103.419652</td>\n",
       "      <td>0.459552</td>\n",
       "    </tr>\n",
       "    <tr>\n",
       "      <th>min</th>\n",
       "      <td>1.0</td>\n",
       "      <td>1.000000</td>\n",
       "      <td>5.000000</td>\n",
       "      <td>1.000000</td>\n",
       "    </tr>\n",
       "    <tr>\n",
       "      <th>25%</th>\n",
       "      <td>1.0</td>\n",
       "      <td>44.000000</td>\n",
       "      <td>127.000000</td>\n",
       "      <td>1.000000</td>\n",
       "    </tr>\n",
       "    <tr>\n",
       "      <th>50%</th>\n",
       "      <td>1.0</td>\n",
       "      <td>116.000000</td>\n",
       "      <td>219.000000</td>\n",
       "      <td>1.000000</td>\n",
       "    </tr>\n",
       "    <tr>\n",
       "      <th>75%</th>\n",
       "      <td>1.0</td>\n",
       "      <td>205.250000</td>\n",
       "      <td>299.000000</td>\n",
       "      <td>1.000000</td>\n",
       "    </tr>\n",
       "    <tr>\n",
       "      <th>max</th>\n",
       "      <td>1.0</td>\n",
       "      <td>367.000000</td>\n",
       "      <td>368.000000</td>\n",
       "      <td>3.000000</td>\n",
       "    </tr>\n",
       "  </tbody>\n",
       "</table>\n",
       "</div>"
      ],
      "text/plain": [
       "       layer      node_1      node_2      weight\n",
       "count  312.0  312.000000  312.000000  312.000000\n",
       "mean     1.0  130.804487  209.314103    1.198718\n",
       "std      0.0   97.611328  103.419652    0.459552\n",
       "min      1.0    1.000000    5.000000    1.000000\n",
       "25%      1.0   44.000000  127.000000    1.000000\n",
       "50%      1.0  116.000000  219.000000    1.000000\n",
       "75%      1.0  205.250000  299.000000    1.000000\n",
       "max      1.0  367.000000  368.000000    3.000000"
      ]
     },
     "execution_count": 9,
     "metadata": {},
     "output_type": "execute_result"
    }
   ],
   "source": [
    "df_multiplex[df_multiplex.layer==1].describe()"
   ]
  },
  {
   "cell_type": "markdown",
   "metadata": {},
   "source": [
    "## Construct the graphs:\n",
    "\n",
    "* Which graphs would you like to construct?\n",
    "* Which variables would you take as nodes and edges?\n",
    "* Select the corresponding data from the above dataframes and transform to matrix format using `as_matrix()`.\n",
    "* Construct empty graphs, then add the nodes and the edges. You can insert lists of nodes and edges using the networkx functions `add_nodes_from` and `add_edges_from`.\n",
    "* For each graph that you construct, indicate the number of nodes and edges."
   ]
  },
  {
   "cell_type": "code",
   "execution_count": null,
   "metadata": {},
   "outputs": [],
   "source": []
  },
  {
   "cell_type": "markdown",
   "metadata": {},
   "source": [
    "## Plot the networks that you constructed\n",
    "\n",
    "* Add the edges from all graphs to your plot.\n",
    "* Color the edges according to if they belong to the tube, the overground or the DLR.\n",
    "* Use the option `pos` in the drawing function to position the nodes according to their longitudinal and latitudinal coordinates. You have to provide a dictionary with node IDs as keys and coordinates as values."
   ]
  },
  {
   "cell_type": "code",
   "execution_count": null,
   "metadata": {},
   "outputs": [],
   "source": []
  },
  {
   "cell_type": "markdown",
   "metadata": {},
   "source": [
    "## What is the diameter of your networks? \n",
    "\n",
    "* The diameter is the longest of all shortest paths between any two points.\n",
    "* Take the largest connected component for that. You can obtain the connected subgraphs with the networkx command `connected_component_subgraphs`.\n",
    "* You can obtain the diameter of a connected component with the networkx command `diameter`."
   ]
  },
  {
   "cell_type": "code",
   "execution_count": null,
   "metadata": {},
   "outputs": [],
   "source": []
  },
  {
   "cell_type": "markdown",
   "metadata": {},
   "source": [
    "## Get the shortest path between any two stations\n",
    "\n",
    "* Write a function which takes your network graph, the starting and the end station as arguments. It should return the length of the shortest path between them, the intermediate stations and which lines you have to take.\n",
    "* Which is the shortest path for getting from Aldgate East to South Kensington? \n",
    "* Is that the connection you would choose? \n",
    "* What information would you like to add to your network to obtain a better recommendation? How would you add it? (Not required to do that explicitly now.)\n",
    "\n",
    "Hint: Use the networkx commands `shortest_path` and `shortest_path_length`."
   ]
  },
  {
   "cell_type": "code",
   "execution_count": 10,
   "metadata": {},
   "outputs": [],
   "source": [
    "def your_shortest_path(G,start_station,end_station):\n",
    "    pass"
   ]
  },
  {
   "cell_type": "markdown",
   "metadata": {},
   "source": [
    "## Plot the degree distributions of your graphs"
   ]
  },
  {
   "cell_type": "code",
   "execution_count": null,
   "metadata": {},
   "outputs": [],
   "source": []
  },
  {
   "cell_type": "markdown",
   "metadata": {},
   "source": [
    "## Obtain the betweenness for the nodes in the tube, overground and DLR networks\n",
    "\n",
    "* Which are the 10 most important nodes for the score in each network?\n",
    "* Are there correlations among these node rankings?\n",
    "\n",
    "Hint: Use the networkx command `betweenness_centrality`."
   ]
  },
  {
   "cell_type": "code",
   "execution_count": null,
   "metadata": {},
   "outputs": [],
   "source": []
  },
  {
   "cell_type": "markdown",
   "metadata": {},
   "source": [
    "## Optional (open ended):\n",
    "\n",
    "Look at the disruption data. \n",
    "* How do the individual disruptions affect the connectivity, path length and betweenness of the network? Look first at just one of the disruptions."
   ]
  },
  {
   "cell_type": "code",
   "execution_count": 11,
   "metadata": {},
   "outputs": [
    {
     "data": {
      "text/plain": [
       "325"
      ]
     },
     "execution_count": 11,
     "metadata": {},
     "output_type": "execute_result"
    }
   ],
   "source": [
    "list_disruptions = !ls London_Multiplex_Transport/Dataset/Disruptions/\n",
    "len(list_disruptions)"
   ]
  },
  {
   "cell_type": "code",
   "execution_count": 12,
   "metadata": {},
   "outputs": [
    {
     "data": {
      "text/html": [
       "<div>\n",
       "<style scoped>\n",
       "    .dataframe tbody tr th:only-of-type {\n",
       "        vertical-align: middle;\n",
       "    }\n",
       "\n",
       "    .dataframe tbody tr th {\n",
       "        vertical-align: top;\n",
       "    }\n",
       "\n",
       "    .dataframe thead th {\n",
       "        text-align: right;\n",
       "    }\n",
       "</style>\n",
       "<table border=\"1\" class=\"dataframe\">\n",
       "  <thead>\n",
       "    <tr style=\"text-align: right;\">\n",
       "      <th></th>\n",
       "      <th>layer</th>\n",
       "      <th>node_1</th>\n",
       "      <th>node_2</th>\n",
       "      <th>weight</th>\n",
       "    </tr>\n",
       "  </thead>\n",
       "  <tbody>\n",
       "    <tr>\n",
       "      <th>0</th>\n",
       "      <td>1</td>\n",
       "      <td>1</td>\n",
       "      <td>106</td>\n",
       "      <td>1</td>\n",
       "    </tr>\n",
       "    <tr>\n",
       "      <th>1</th>\n",
       "      <td>1</td>\n",
       "      <td>1</td>\n",
       "      <td>219</td>\n",
       "      <td>1</td>\n",
       "    </tr>\n",
       "    <tr>\n",
       "      <th>2</th>\n",
       "      <td>1</td>\n",
       "      <td>1</td>\n",
       "      <td>321</td>\n",
       "      <td>2</td>\n",
       "    </tr>\n",
       "    <tr>\n",
       "      <th>3</th>\n",
       "      <td>1</td>\n",
       "      <td>1</td>\n",
       "      <td>77</td>\n",
       "      <td>2</td>\n",
       "    </tr>\n",
       "    <tr>\n",
       "      <th>4</th>\n",
       "      <td>1</td>\n",
       "      <td>3</td>\n",
       "      <td>224</td>\n",
       "      <td>1</td>\n",
       "    </tr>\n",
       "  </tbody>\n",
       "</table>\n",
       "</div>"
      ],
      "text/plain": [
       "   layer  node_1  node_2  weight\n",
       "0      1       1     106       1\n",
       "1      1       1     219       1\n",
       "2      1       1     321       2\n",
       "3      1       1      77       2\n",
       "4      1       3     224       1"
      ]
     },
     "execution_count": 12,
     "metadata": {},
     "output_type": "execute_result"
    }
   ],
   "source": [
    "df_disruptions_1 = pd.read_table('London_Multiplex_Transport/Dataset/Disruptions/'+list_disruptions[1],sep=' ',header=None)\n",
    "df_disruptions_1.columns = ['layer','node_1','node_2','weight']\n",
    "df_disruptions_1.head()"
   ]
  },
  {
   "cell_type": "code",
   "execution_count": null,
   "metadata": {},
   "outputs": [],
   "source": []
  }
 ],
 "metadata": {
  "anaconda-cloud": {},
  "kernelspec": {
   "display_name": "Python [conda env:anaconda3]",
   "language": "python",
   "name": "conda-env-anaconda3-py"
  },
  "language_info": {
   "codemirror_mode": {
    "name": "ipython",
    "version": 3
   },
   "file_extension": ".py",
   "mimetype": "text/x-python",
   "name": "python",
   "nbconvert_exporter": "python",
   "pygments_lexer": "ipython3",
   "version": "3.6.4"
  },
  "toc": {
   "nav_menu": {},
   "number_sections": false,
   "sideBar": true,
   "skip_h1_title": true,
   "title_cell": "Table of Contents",
   "title_sidebar": "Contents",
   "toc_cell": false,
   "toc_position": {},
   "toc_section_display": "block",
   "toc_window_display": false
  }
 },
 "nbformat": 4,
 "nbformat_minor": 1
}
