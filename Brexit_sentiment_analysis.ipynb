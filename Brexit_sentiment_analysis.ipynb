{
 "cells": [
  {
   "cell_type": "markdown",
   "metadata": {},
   "source": [
    "## Sentiment analysis using tweepy and textblob\n",
    "\n",
    "In very little code search, create, delete tweets using tweepy and textblob.\n",
    "In your terminal: \n",
    "pip install tweepy\n",
    "pip install textblob\n",
    "\n",
    "This is textblobs sentiment, bag of words, analysis. I use it to check sentiment when I am bored on various topics. E.g. Brexit\n",
    "\n",
    "You will have to have a twitter developer account first to get the consumer and access keys.\n",
    "This can be a lengthy process but stick at it.\n",
    "Once you have the developer account you will need to set up an app from your dashboard to get the keys. Just filling in anything in the boxes seems to work."
   ]
  },
  {
   "cell_type": "code",
   "execution_count": 5,
   "metadata": {},
   "outputs": [
    {
     "name": "stdout",
     "output_type": "stream",
     "text": [
      "RT @JamesMelville: Theresa May has clearly been getting lessons from Stephen Fry.\n",
      "#Brexit #BrexitDeal\n",
      "https://t.co/PEa62kCQxH\n",
      "Sentiment(polarity=0.10000000000000002, subjectivity=0.3833333333333333)\n",
      "RT @Andrew_Adonis: It is a great thing for democracy for Theresa May to debate Brexit with Jeremy Corbyn. For fairness, there must also be…\n",
      "Sentiment(polarity=0.8, subjectivity=0.75)\n",
      "Theresa May confirma insólita movida con el Brexit https://t.co/MtIrEOi8Th https://t.co/vOjjY4oOzw\n",
      "Sentiment(polarity=0.0, subjectivity=0.0)\n",
      "Tory housing minister who wrote book on how to win marginal seat loses marginal seat https://t.co/gWXSFv7mJm… https://t.co/q2YYx4h0oL\n",
      "Sentiment(polarity=0.25, subjectivity=0.25)\n",
      "RT @WestmonsterUK: POLL: 63% of public want 'pro-No Deal' panellist included in Brexit debate. \n",
      "\n",
      "No Deal is better than May’s terrible deal…\n",
      "Sentiment(polarity=-0.16666666666666666, subjectivity=0.5222222222222223)\n",
      "RT @richardjgodwin: I now can't shake the disturbing possibility that Brexit was... satire? https://t.co/HXRLcg5JP7\n",
      "Sentiment(polarity=-0.5, subjectivity=0.8)\n",
      "RT @AndrewTait67: @BMEuropean @nickreeves9876 @BarackObama 1.Written before Referendum: China had already done a huge trade deal with us as…\n",
      "Sentiment(polarity=0.4000000000000001, subjectivity=0.9)\n",
      "RT @UKIP: It is essential that UKIP is a part of this. UKIP is the Party of Brexit and the only one which supports a total unencumbered ‘no…\n",
      "Sentiment(polarity=0.0, subjectivity=0.6833333333333332)\n",
      "RT @TheNewEuropean: UK can unilaterally reverse Brexit, EU’s top court told https://t.co/TaNBT9DSZf\n",
      "Sentiment(polarity=0.0, subjectivity=0.6)\n",
      "RT @matthaig1: There's an argument it is politically pointless supporting the Green Party because of the electoral system. Nonsense. Look h…\n",
      "Sentiment(polarity=-0.06666666666666667, subjectivity=0.35000000000000003)\n",
      "RT @carolecadwalla: NEW: Why Britain Needs A Mueller. \n",
      "Thank you NY Review of Books for giving space to a story the British government is d…\n",
      "Sentiment(polarity=0.06818181818181818, subjectivity=0.22727272727272727)\n",
      "RT @aljwhite: I can definitely see this guy sorting out Brexit https://t.co/auDTATRz3h\n",
      "Sentiment(polarity=0.0, subjectivity=0.5)\n",
      "RT @JamesMelville: Theresa May has clearly been getting lessons from Stephen Fry.\n",
      "#Brexit #BrexitDeal\n",
      "https://t.co/PEa62kCQxH\n",
      "Sentiment(polarity=0.10000000000000002, subjectivity=0.3833333333333333)\n",
      "RT @Haggis_UK: Nick Fahy(Senior Researcher, University of Oxford Medical Sciences Division) - Any form of #Brexit has negative consequences…\n",
      "Sentiment(polarity=-0.15, subjectivity=0.2)\n",
      "RT @scotgov: The draft #Brexit deal will make Scotland poorer, according to @scotgov analysis.\n",
      "\n",
      "Scotland's interests are best protected by…\n",
      "Sentiment(polarity=1.0, subjectivity=0.3)\n"
     ]
    }
   ],
   "source": [
    "import tweepy\n",
    "from textblob import TextBlob\n",
    "\n",
    "consumer_key = '9uhYA4FLMtKCuvK3yFXxNXNH9'\n",
    "consumer_secret = 'T6wdhzt7VlR0FhS5bKGq7RRiHsmlxNLkxriZZU9M1ekALcKt6O'\n",
    "\n",
    "access_token = '2596259384-1hPfjAK44AYoGF1rV7p4PExb9zZvBCSyYVOdKZM'\n",
    "acess_token_secret = '8M4aLGT8P8CPstVzW4L2UOpHIYmbSXbdd2vmVBdBNLoO5'\n",
    "\n",
    "\n",
    "auth = tweepy.OAuthHandler(consumer_key,consumer_secret)\n",
    "auth.set_access_token(access_token,acess_token_secret)\n",
    "\n",
    "# with api variable method can now create, search, delete, find twitter users\n",
    "api = tweepy.API(auth)\n",
    "\n",
    "#for collecting tweets with a certain keyword\n",
    "\n",
    "public_tweets = api.search('Brexit')\n",
    "\n",
    "#print out tweets with Brexit mentioned\n",
    "\n",
    "for tweet in public_tweets:\n",
    "    print(tweet.text)\n",
    "    analysis = TextBlob(tweet.text)\n",
    "    print(analysis.sentiment)\n",
    "\n",
    "\n",
    "\n",
    "\n",
    "\n"
   ]
  },
  {
   "cell_type": "code",
   "execution_count": null,
   "metadata": {},
   "outputs": [],
   "source": []
  }
 ],
 "metadata": {
  "kernelspec": {
   "display_name": "Python 3",
   "language": "python",
   "name": "python3"
  },
  "language_info": {
   "codemirror_mode": {
    "name": "ipython",
    "version": 3
   },
   "file_extension": ".py",
   "mimetype": "text/x-python",
   "name": "python",
   "nbconvert_exporter": "python",
   "pygments_lexer": "ipython3",
   "version": "3.6.6"
  }
 },
 "nbformat": 4,
 "nbformat_minor": 2
}
