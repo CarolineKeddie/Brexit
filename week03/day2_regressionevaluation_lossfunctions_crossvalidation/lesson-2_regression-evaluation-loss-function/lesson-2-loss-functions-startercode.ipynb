{
 "cells": [
  {
   "cell_type": "markdown",
   "metadata": {},
   "source": [
    "<img src=\"http://imgur.com/1ZcRyrc.png\" style=\"float: left; margin: 20px; height: 55px\">\n",
    "\n",
    "# Regression evaluation and loss functions\n",
    "\n",
    "_Instructor: Aymeric Flaisler_\n",
    "\n",
    "---\n",
    "\n",
    "### LEARNING OBJECTIVES\n",
    "\n",
    "* After this lesson, you will be able to:\n",
    "    - distinguish different types of loss functions\n",
    "    \n",
    "---\n",
    "\n",
    "### STUDENT PRE-WORK\n",
    "* Before this lesson, you should already be able to\n",
    "    - implement ordinary least squares regression\n",
    "    - evaluate model performance with mean squared error and R squared\n",
    "    - determine the residuals"
   ]
  },
  {
   "cell_type": "markdown",
   "metadata": {},
   "source": [
    "## Loss functions\n",
    "\n",
    "Regressions model the relationship **between predictors and dependent variables**. But the relationship they are measuring and the process of \"fitting\" models is centred around the idea of **loss functions**.\n",
    "\n",
    "The loss function is **what is optimised** by the process of regression. Think of the term \"loss function\" sort of like the **greater the value, the more information about your target variable is \"lost\"** by your model.\n",
    "\n",
    "---\n",
    "\n",
    "## Least squares loss\n",
    "\n",
    "As you may recall from yesterday, the most common loss function in linear regression is the **least squares loss**. It is called least squares loss because it minimizes the sum of the squared errors/residuals.\n",
    "\n",
    "$$\\sum_{i}{\\left(\\hat{y}_i - y_i \\right)^2}$$\n",
    "\n",
    "This is called a **loss function**. The \"loss\" considered is the increasing sum of squared errors, which indicate a **bad fit between predictors and outcome**. We minimize the loss by finding the smallest sum.\n",
    "\n",
    "## Least Absolute Deviations (LDA)\n",
    "\n",
    "An alternative loss function minimizes the **Least Absolute Deviations (LDA)**:\n",
    "\n",
    "$$\\sum_{i}{|\\hat{y}_i - y_i |}$$"
   ]
  },
  {
   "cell_type": "markdown",
   "metadata": {},
   "source": [
    "---\n",
    "\n",
    "## Packages and data\n",
    "\n",
    "Load, for now, the following data and packages.\n",
    "\n",
    "The data is a subset of the football combine dataset. The concept of \"train\" and \"test\" datasets is going to repeatedly come up throughout the course. Imagine training data as the data you have now, and the test data as unobserved data on which you validate the performance of your model."
   ]
  },
  {
   "cell_type": "code",
   "execution_count": 1,
   "metadata": {},
   "outputs": [],
   "source": [
    "import numpy as np\n",
    "import pandas as pd\n",
    "\n",
    "import matplotlib\n",
    "import matplotlib.pyplot as plt\n",
    "import seaborn as sns\n",
    "plt.style.use('fivethirtyeight')\n",
    "\n",
    "%config InlineBackend.figure_format = 'retina'\n",
    "%matplotlib inline"
   ]
  },
  {
   "cell_type": "code",
   "execution_count": 2,
   "metadata": {},
   "outputs": [],
   "source": [
    "combine = pd.read_csv('./datasets/combine_train.csv')"
   ]
  },
  {
   "cell_type": "markdown",
   "metadata": {},
   "source": [
    "---\n",
    "\n",
    "### 1. Set up variables and build a regression predicting target from predictor (for example, let's predict the height with the weight)\n",
    "\n",
    "Again, your regression should just be a single target and single predictor for now.\n",
    "\n",
    "You can choose any target and predictor that interests you, and you can subset the data if you like as well (subsetting on position, for example, is likely to improve a regression.)\n",
    "\n",
    "You may use statsmodels or scikit-learn to build the regression:\n",
    "\n",
    "```python\n",
    "    import statsmodels.api as sm\n",
    "    from sklearn.linear_model import LinearRegression\n",
    "```\n",
    "\n",
    "Note that sklearn's regression expects your x variable to be a 2D matrix with rows, columns. See here:\n",
    "\n",
    "http://stackoverflow.com/questions/30813044/sklearn-found-arrays-with-inconsistent-numbers-of-samples-when-calling-linearre"
   ]
  },
  {
   "cell_type": "code",
   "execution_count": 4,
   "metadata": {},
   "outputs": [
    {
     "data": {
      "text/html": [
       "<div>\n",
       "<style scoped>\n",
       "    .dataframe tbody tr th:only-of-type {\n",
       "        vertical-align: middle;\n",
       "    }\n",
       "\n",
       "    .dataframe tbody tr th {\n",
       "        vertical-align: top;\n",
       "    }\n",
       "\n",
       "    .dataframe thead th {\n",
       "        text-align: right;\n",
       "    }\n",
       "</style>\n",
       "<table border=\"1\" class=\"dataframe\">\n",
       "  <thead>\n",
       "    <tr style=\"text-align: right;\">\n",
       "      <th></th>\n",
       "      <th>id</th>\n",
       "      <th>Year</th>\n",
       "      <th>Name</th>\n",
       "      <th>Position</th>\n",
       "      <th>HeightFeet</th>\n",
       "      <th>HeightInches</th>\n",
       "      <th>Weight</th>\n",
       "      <th>Arms</th>\n",
       "      <th>Hands</th>\n",
       "      <th>FortyYD</th>\n",
       "      <th>TwentyYD</th>\n",
       "      <th>TenYD</th>\n",
       "      <th>TwentySS</th>\n",
       "      <th>ThreeCone</th>\n",
       "      <th>Vertical</th>\n",
       "      <th>Broad</th>\n",
       "      <th>Bench</th>\n",
       "      <th>Round</th>\n",
       "      <th>College</th>\n",
       "      <th>Pick</th>\n",
       "      <th>PickRound</th>\n",
       "      <th>PickTotal</th>\n",
       "      <th>FirstName</th>\n",
       "      <th>LastName</th>\n",
       "      <th>HeightInchesTotal</th>\n",
       "      <th>Wonderlic</th>\n",
       "    </tr>\n",
       "  </thead>\n",
       "  <tbody>\n",
       "    <tr>\n",
       "      <th>0</th>\n",
       "      <td>8984</td>\n",
       "      <td>2013</td>\n",
       "      <td>Quanterus Smith</td>\n",
       "      <td>DE</td>\n",
       "      <td>6</td>\n",
       "      <td>5.0</td>\n",
       "      <td>250</td>\n",
       "      <td>33.25</td>\n",
       "      <td>10.375</td>\n",
       "      <td>0.0</td>\n",
       "      <td>0.0</td>\n",
       "      <td>0.0</td>\n",
       "      <td>0.00</td>\n",
       "      <td>0.00</td>\n",
       "      <td>0.0</td>\n",
       "      <td>0</td>\n",
       "      <td>0</td>\n",
       "      <td>5</td>\n",
       "      <td>Western Kentucky</td>\n",
       "      <td>13(146)</td>\n",
       "      <td>13</td>\n",
       "      <td>146</td>\n",
       "      <td>Quanterus</td>\n",
       "      <td>Smith</td>\n",
       "      <td>77.0</td>\n",
       "      <td>0</td>\n",
       "    </tr>\n",
       "    <tr>\n",
       "      <th>1</th>\n",
       "      <td>9002</td>\n",
       "      <td>2013</td>\n",
       "      <td>Abry Jones</td>\n",
       "      <td>DT</td>\n",
       "      <td>6</td>\n",
       "      <td>3.0</td>\n",
       "      <td>313</td>\n",
       "      <td>35.00</td>\n",
       "      <td>9.750</td>\n",
       "      <td>0.0</td>\n",
       "      <td>0.0</td>\n",
       "      <td>0.0</td>\n",
       "      <td>0.00</td>\n",
       "      <td>0.00</td>\n",
       "      <td>26.5</td>\n",
       "      <td>101</td>\n",
       "      <td>30</td>\n",
       "      <td>0</td>\n",
       "      <td>NaN</td>\n",
       "      <td>NaN</td>\n",
       "      <td>0</td>\n",
       "      <td>0</td>\n",
       "      <td>Abry</td>\n",
       "      <td>Jones</td>\n",
       "      <td>75.0</td>\n",
       "      <td>0</td>\n",
       "    </tr>\n",
       "    <tr>\n",
       "      <th>2</th>\n",
       "      <td>9004</td>\n",
       "      <td>2013</td>\n",
       "      <td>Bennie Logan</td>\n",
       "      <td>DT</td>\n",
       "      <td>6</td>\n",
       "      <td>2.0</td>\n",
       "      <td>309</td>\n",
       "      <td>34.00</td>\n",
       "      <td>10.250</td>\n",
       "      <td>0.0</td>\n",
       "      <td>0.0</td>\n",
       "      <td>0.0</td>\n",
       "      <td>4.67</td>\n",
       "      <td>7.53</td>\n",
       "      <td>25.0</td>\n",
       "      <td>104</td>\n",
       "      <td>30</td>\n",
       "      <td>3</td>\n",
       "      <td>LSU</td>\n",
       "      <td>5(67)</td>\n",
       "      <td>5</td>\n",
       "      <td>67</td>\n",
       "      <td>Bennie</td>\n",
       "      <td>Logan</td>\n",
       "      <td>74.0</td>\n",
       "      <td>0</td>\n",
       "    </tr>\n",
       "    <tr>\n",
       "      <th>3</th>\n",
       "      <td>9012</td>\n",
       "      <td>2013</td>\n",
       "      <td>John Boyett</td>\n",
       "      <td>FS</td>\n",
       "      <td>5</td>\n",
       "      <td>10.0</td>\n",
       "      <td>204</td>\n",
       "      <td>30.50</td>\n",
       "      <td>8.500</td>\n",
       "      <td>0.0</td>\n",
       "      <td>0.0</td>\n",
       "      <td>0.0</td>\n",
       "      <td>0.00</td>\n",
       "      <td>0.00</td>\n",
       "      <td>0.0</td>\n",
       "      <td>0</td>\n",
       "      <td>27</td>\n",
       "      <td>6</td>\n",
       "      <td>Oregon</td>\n",
       "      <td>24(192)</td>\n",
       "      <td>24</td>\n",
       "      <td>192</td>\n",
       "      <td>John</td>\n",
       "      <td>Boyett</td>\n",
       "      <td>70.0</td>\n",
       "      <td>0</td>\n",
       "    </tr>\n",
       "    <tr>\n",
       "      <th>4</th>\n",
       "      <td>9018</td>\n",
       "      <td>2013</td>\n",
       "      <td>Bacarri Rambo</td>\n",
       "      <td>FS</td>\n",
       "      <td>6</td>\n",
       "      <td>0.0</td>\n",
       "      <td>211</td>\n",
       "      <td>31.00</td>\n",
       "      <td>9.250</td>\n",
       "      <td>0.0</td>\n",
       "      <td>0.0</td>\n",
       "      <td>0.0</td>\n",
       "      <td>0.00</td>\n",
       "      <td>0.00</td>\n",
       "      <td>0.0</td>\n",
       "      <td>0</td>\n",
       "      <td>17</td>\n",
       "      <td>6</td>\n",
       "      <td>Georgia</td>\n",
       "      <td>23(191)</td>\n",
       "      <td>23</td>\n",
       "      <td>191</td>\n",
       "      <td>Bacarri</td>\n",
       "      <td>Rambo</td>\n",
       "      <td>72.0</td>\n",
       "      <td>0</td>\n",
       "    </tr>\n",
       "  </tbody>\n",
       "</table>\n",
       "</div>"
      ],
      "text/plain": [
       "     id  Year             Name Position  HeightFeet  HeightInches  Weight  \\\n",
       "0  8984  2013  Quanterus Smith       DE           6           5.0     250   \n",
       "1  9002  2013       Abry Jones       DT           6           3.0     313   \n",
       "2  9004  2013     Bennie Logan       DT           6           2.0     309   \n",
       "3  9012  2013      John Boyett       FS           5          10.0     204   \n",
       "4  9018  2013    Bacarri Rambo       FS           6           0.0     211   \n",
       "\n",
       "    Arms   Hands  FortyYD  TwentyYD  TenYD  TwentySS  ThreeCone  Vertical  \\\n",
       "0  33.25  10.375      0.0       0.0    0.0      0.00       0.00       0.0   \n",
       "1  35.00   9.750      0.0       0.0    0.0      0.00       0.00      26.5   \n",
       "2  34.00  10.250      0.0       0.0    0.0      4.67       7.53      25.0   \n",
       "3  30.50   8.500      0.0       0.0    0.0      0.00       0.00       0.0   \n",
       "4  31.00   9.250      0.0       0.0    0.0      0.00       0.00       0.0   \n",
       "\n",
       "   Broad  Bench  Round           College     Pick  PickRound  PickTotal  \\\n",
       "0      0      0      5  Western Kentucky  13(146)         13        146   \n",
       "1    101     30      0               NaN      NaN          0          0   \n",
       "2    104     30      3               LSU    5(67)          5         67   \n",
       "3      0     27      6            Oregon  24(192)         24        192   \n",
       "4      0     17      6           Georgia  23(191)         23        191   \n",
       "\n",
       "   FirstName LastName  HeightInchesTotal  Wonderlic  \n",
       "0  Quanterus    Smith               77.0          0  \n",
       "1       Abry    Jones               75.0          0  \n",
       "2     Bennie    Logan               74.0          0  \n",
       "3       John   Boyett               70.0          0  \n",
       "4    Bacarri    Rambo               72.0          0  "
      ]
     },
     "execution_count": 4,
     "metadata": {},
     "output_type": "execute_result"
    }
   ],
   "source": [
    "combine.head()"
   ]
  },
  {
   "cell_type": "code",
   "execution_count": 5,
   "metadata": {},
   "outputs": [],
   "source": [
    "# we subset the data for easier analysis\n",
    "wrs = combine[combine.Position == 'WR']\n",
    "weight = wrs[['Weight']].values\n",
    "height = wrs.HeightInchesTotal.values"
   ]
  },
  {
   "cell_type": "markdown",
   "metadata": {},
   "source": [
    "### Fit your model with your variable like (weight, height):\n",
    "\n",
    "#### With Sklearn:"
   ]
  },
  {
   "cell_type": "code",
   "execution_count": null,
   "metadata": {},
   "outputs": [],
   "source": [
    "from sklearn.linear_model import LinearRegression"
   ]
  },
  {
   "cell_type": "code",
   "execution_count": null,
   "metadata": {},
   "outputs": [],
   "source": [
    "# A:\n",
    "\n",
    "# mod =\n",
    "\n",
    "# Print coefficients"
   ]
  },
  {
   "cell_type": "markdown",
   "metadata": {},
   "source": [
    "#### With StatsModels: "
   ]
  },
  {
   "cell_type": "code",
   "execution_count": null,
   "metadata": {},
   "outputs": [],
   "source": [
    "import statsmodels.api as sm"
   ]
  },
  {
   "cell_type": "code",
   "execution_count": null,
   "metadata": {},
   "outputs": [],
   "source": [
    "# A:\n",
    "\n",
    "# mod2 =\n",
    "\n",
    "# Print Summary"
   ]
  },
  {
   "cell_type": "markdown",
   "metadata": {},
   "source": [
    "---\n",
    "\n",
    "### 2. Calculate the mean squared error for your regression and the baseline model\n",
    "\n",
    "**Mean squared error** is just the mean of your squared errors. It is typically used as a metric in place of the sum of errors.\n",
    "\n",
    "Either calculate the mean squared error for your regression and baseline model by hand, or use statsmodels/sklearn."
   ]
  },
  {
   "cell_type": "code",
   "execution_count": null,
   "metadata": {},
   "outputs": [],
   "source": [
    "from sklearn.metrics import mean_squared_error"
   ]
  },
  {
   "cell_type": "code",
   "execution_count": null,
   "metadata": {},
   "outputs": [],
   "source": [
    "# this might help you defining the baseline model:\n",
    "# np.tile(np.mean(height), len(height))"
   ]
  },
  {
   "cell_type": "code",
   "execution_count": null,
   "metadata": {},
   "outputs": [],
   "source": [
    "wr_height_hat = mod.predict(weight)\n",
    "\n",
    "mod_mse = mean_squared_error(height, wr_height_hat)\n",
    "base_mse = mean_squared_error(height, np.tile(np.mean(height), len(height)))\n",
    "\n",
    "print ('Model mse:', mod_mse)\n",
    "print ('Baseline mse:', base_mse)"
   ]
  },
  {
   "cell_type": "code",
   "execution_count": null,
   "metadata": {},
   "outputs": [],
   "source": [
    "print (mod_mse, base_mse)"
   ]
  },
  {
   "cell_type": "markdown",
   "metadata": {},
   "source": [
    "---\n",
    "\n",
    "### 3. Plot \n",
    "### a) the target versus the predictor \n",
    "\n",
    "Add the regression line and the baseline model line for the target versus predictor chart.\n",
    "\n"
   ]
  },
  {
   "cell_type": "code",
   "execution_count": 9,
   "metadata": {},
   "outputs": [],
   "source": [
    "def plot_regression_wbaseline(x, y, yhat):\n",
    "    \n",
    "    fig = plt.figure(figsize=(7,7))\n",
    "    ax = fig.gca()\n",
    "    \n",
    "    ymean = np.mean(y)\n",
    "    \n",
    "    ax.scatter(x, y, color='steelblue', s=70, label='true y')\n",
    "    \n",
    "    min_x, max_x = np.min(x), np.max(x)\n",
    "    min_yhat = np.min(yhat)\n",
    "    max_yhat = np.max(yhat)\n",
    "    \n",
    "    ax.plot([min_x, max_x], [min_yhat, max_yhat], color='darkred',\n",
    "            linewidth=4, alpha=0.7, label='regression model')\n",
    "    ax.plot([min_x, max_x], [ymean, ymean], color='darkgoldenrod',\n",
    "            linewidth=4, alpha=0.7, label='baseline model')\n",
    "    \n",
    "    ax.set_xlabel('weight', fontsize=16)\n",
    "    ax.set_ylabel('height', fontsize=16)\n",
    "    \n",
    "    plt.title('Regression With Baseline')\n",
    "    plt.legend(loc='upper left')\n",
    "    \n",
    "    plt.show()"
   ]
  },
  {
   "cell_type": "code",
   "execution_count": null,
   "metadata": {},
   "outputs": [],
   "source": [
    "beta0 = mod.intercept_\n",
    "beta1 = mod.coef_[0]\n",
    "plot_regression_wbaseline(weight, height, wr_height_hat)"
   ]
  },
  {
   "cell_type": "markdown",
   "metadata": {},
   "source": [
    "### b) the true values versus the predicted values\n",
    "\n",
    "Add a line that would pass through the origin with slope one on the  true values versus the predicted values chart.\n",
    "\n",
    "What do the lines represent in each chart?"
   ]
  },
  {
   "cell_type": "code",
   "execution_count": null,
   "metadata": {},
   "outputs": [],
   "source": [
    "def plot_y_yhat(y, yhat):\n",
    "\n",
    "    fig = plt.figure(figsize=(7,7))\n",
    "    ax = fig.gca()\n",
    "\n",
    "    ax.scatter(y, yhat, color='darkgoldenrod', s=70, label='yhat - true y')\n",
    "\n",
    "    max_val = np.max(y)\n",
    "    min_val = np.min(y)\n",
    "\n",
    "    ax.plot([min_val, max_val], [min_val, max_val], color='darkgreen',\n",
    "            linewidth=4.0, alpha=0.7, label='perfect model')\n",
    "\n",
    "    ax.set_xlabel('true y', fontsize=16)\n",
    "    ax.set_ylabel('yhat', fontsize=16)\n",
    "\n",
    "    plt.legend(loc='upper left')\n",
    "\n",
    "    plt.show()"
   ]
  },
  {
   "cell_type": "code",
   "execution_count": null,
   "metadata": {
    "scrolled": false
   },
   "outputs": [],
   "source": [
    "plot_y_yhat(height, wr_height_hat)"
   ]
  },
  {
   "cell_type": "markdown",
   "metadata": {},
   "source": [
    "---\n",
    "\n",
    "## $R^2$ of the regression\n",
    "\n",
    "Recall that the $R^2$ metric calculates the variance explained by your model over the baseline model.\n",
    "\n",
    "The formula, to refresh your memory, is:\n",
    "\n",
    "### $$ R^2 = 1 - \\frac{var(residuals)}{var(y)} $$\n",
    "\n",
    "### 4. Calculate the $R^2$ either by hand or using sklearn or statsmodels"
   ]
  },
  {
   "cell_type": "code",
   "execution_count": null,
   "metadata": {},
   "outputs": [],
   "source": [
    "from sklearn.metrics import r2_score"
   ]
  },
  {
   "cell_type": "code",
   "execution_count": null,
   "metadata": {},
   "outputs": [],
   "source": [
    "# wr_height_r2 = r2_score(...?)\n",
    "\n",
    "print ('regression R^2:', wr_height_r2)"
   ]
  },
  {
   "cell_type": "markdown",
   "metadata": {},
   "source": [
    "---\n",
    "\n",
    "### 5. Remove outliers and build a non-outlier regression (15min)\n",
    "\n",
    "Set a criteria for outliers that removes any value deviating more than 1.5 standard deviations from the mean. (Extremely strict).\n",
    "\n",
    "Build a new regression with the non-outlier values."
   ]
  },
  {
   "cell_type": "code",
   "execution_count": null,
   "metadata": {},
   "outputs": [],
   "source": [
    "# df = pd.DataFrame({...\n",
    "# mask = ..."
   ]
  },
  {
   "cell_type": "code",
   "execution_count": null,
   "metadata": {},
   "outputs": [],
   "source": [
    "# New regression\n",
    "# mod_no = ..."
   ]
  },
  {
   "cell_type": "markdown",
   "metadata": {},
   "source": [
    "---\n",
    "\n",
    "### 6. Plot the regression with the outliers and without the outliers\n",
    "\n",
    "Use the full data for both (not the data with outliers removed).\n",
    "\n",
    "How do the regression lines change (if at all). Why?"
   ]
  },
  {
   "cell_type": "code",
   "execution_count": null,
   "metadata": {},
   "outputs": [],
   "source": [
    "wr_height_hat_no = mod_no.predict(weight)"
   ]
  },
  {
   "cell_type": "code",
   "execution_count": null,
   "metadata": {},
   "outputs": [],
   "source": [
    "def plot_regressions(x, y, yhat1, yhat2):\n",
    "    \n",
    "    fig = plt.figure(figsize=(5,5))\n",
    "    ax = fig.gca()\n",
    "        \n",
    "    ax.scatter(x, y, color='steelblue', s=70, label='true y', alpha=0.5)\n",
    "    \n",
    "    min_x, max_x = np.min(x), np.max(x)\n",
    "    \n",
    "    min_yhat1 = np.min(yhat1)\n",
    "    max_yhat1 = np.max(yhat1)\n",
    "    \n",
    "    min_yhat2 = np.min(yhat2)\n",
    "    max_yhat2 = np.max(yhat2)\n",
    "    \n",
    "    ax.plot([min_x, max_x], [min_yhat1, max_yhat1], color='darkred',\n",
    "            linewidth=4, alpha=0.7, label='first regression model')\n",
    "    ax.plot([min_x, max_x], [min_yhat2, max_yhat2], color='darkgoldenrod',\n",
    "            linewidth=4, alpha=0.7, label='no outlier regression model')\n",
    "    \n",
    "    ax.set_xlabel('weight', fontsize=16)\n",
    "    ax.set_ylabel('height', fontsize=16)\n",
    "    \n",
    "    plt.legend(loc='upper left')\n",
    "    \n",
    "    plt.show()"
   ]
  },
  {
   "cell_type": "code",
   "execution_count": null,
   "metadata": {},
   "outputs": [],
   "source": [
    "plot_regressions(weight, height, wr_height_hat, wr_height_hat_no)"
   ]
  },
  {
   "cell_type": "markdown",
   "metadata": {},
   "source": [
    "---\n",
    "\n",
    "### 7. Calculate the $R^2$ of your outlier-removed model and compare it to the original model\n",
    "\n",
    "Which performs better? Why do you think that is?\n"
   ]
  },
  {
   "cell_type": "code",
   "execution_count": null,
   "metadata": {},
   "outputs": [],
   "source": [
    "wr_height_no_r2 = r2_score(height_no, height_no_hat)\n",
    "\n",
    "print ('regression R^2:', wr_height_r2)\n",
    "print ('regression outliers removed R^2:', wr_height_no_r2)"
   ]
  },
  {
   "cell_type": "markdown",
   "metadata": {},
   "source": [
    "---\n",
    "\n",
    "## Examining residuals\n",
    "\n",
    "Looking at the residuals (errors) of your model is a good practice. Normally distributed residuals indicate that the assumptions of linear regression are probably being met, which in turn means that your regression is modeling the linear relationship appropriately.\n",
    "\n",
    "### 8. Plot a histogram of the residuals from the original and no-outlier model"
   ]
  },
  {
   "cell_type": "code",
   "execution_count": null,
   "metadata": {},
   "outputs": [],
   "source": [
    "height_resid = height - wr_height_hat\n",
    "height_no_resid = height - wr_height_hat_no"
   ]
  },
  {
   "cell_type": "code",
   "execution_count": null,
   "metadata": {},
   "outputs": [],
   "source": [
    "sns.distplot(height_resid, bins=40, hist=True, kde=False)\n",
    "plt.show()"
   ]
  },
  {
   "cell_type": "code",
   "execution_count": null,
   "metadata": {},
   "outputs": [],
   "source": [
    "sns.distplot(height_no_resid, bins=40, hist=True, kde=False)\n",
    "plt.show()"
   ]
  },
  {
   "cell_type": "markdown",
   "metadata": {},
   "source": [
    "---\n",
    "\n",
    "## Validating the model against a test set\n",
    "\n",
    "Load in the test set file for the combine data. Pull out the corresponding target and predictor variables for the test set.\n",
    "\n",
    "It is best practice after you build a model to, if possible, validate it against held out data. If it performs as well or nearly as well, you can be more sure that the model you've created is in fact making a correct inference about the linear relationship between variables for the overall population.\n",
    "\n",
    "### 9. Get the $R^2$ value for your original model predicting values from the test data\n",
    "\n",
    "Compare this to the $R^2$ on your training data."
   ]
  },
  {
   "cell_type": "code",
   "execution_count": null,
   "metadata": {},
   "outputs": [],
   "source": [
    "combine_test = pd.read_csv('./datasets/combine_test.csv')"
   ]
  },
  {
   "cell_type": "code",
   "execution_count": null,
   "metadata": {},
   "outputs": [],
   "source": [
    "wrs_test = combine_test[combine_test.Position == 'WR']\n",
    "weight_test = wrs_test[['Weight']].values\n",
    "height_test = wrs_test.HeightInchesTotal.values"
   ]
  },
  {
   "cell_type": "code",
   "execution_count": null,
   "metadata": {},
   "outputs": [],
   "source": [
    "height_test_yhat = \n",
    "height_test_r2 = \n",
    "\n",
    "print ('R^2 on train set:', wr_height_r2)\n",
    "print ('R^2 on test set:', height_test_r2)"
   ]
  },
  {
   "cell_type": "markdown",
   "metadata": {},
   "source": [
    "### 10. Calculate the mse for the test data and baseline model on test data"
   ]
  },
  {
   "cell_type": "code",
   "execution_count": null,
   "metadata": {},
   "outputs": [],
   "source": [
    "mod_test_mse = mean_squared_error(height_test, height_test_yhat)\n",
    "base_test_mse = mean_squared_error(height_test, np.tile(np.mean(height_test), len(height_test)))\n",
    "\n",
    "print ('Model on test mse:', mod_test_mse)\n",
    "print ('Baseline test mse:', base_test_mse)"
   ]
  },
  {
   "cell_type": "markdown",
   "metadata": {},
   "source": [
    "### 11. Plot the regression applied to test data against the test data baseline model\n",
    "\n",
    "Look visually how it performs versus just guessing the mean of the target in the test data.\n"
   ]
  },
  {
   "cell_type": "code",
   "execution_count": null,
   "metadata": {},
   "outputs": [],
   "source": [
    "# Tips: use the function plot_regression_wbaseline we defined above"
   ]
  },
  {
   "cell_type": "markdown",
   "metadata": {
    "collapsed": true
   },
   "source": [
    "## Conclusions\n",
    "\n",
    "* Main types of loss functions\n",
    "* Ordinary least squares regression with statsmodels and sklearn\n",
    "* model evaluation with mean squared error and R2\n",
    "* examination of residuals\n",
    "* tested the model"
   ]
  },
  {
   "cell_type": "code",
   "execution_count": null,
   "metadata": {},
   "outputs": [],
   "source": []
  }
 ],
 "metadata": {
  "anaconda-cloud": {},
  "kernelspec": {
   "display_name": "Python 3",
   "language": "python",
   "name": "python3"
  },
  "language_info": {
   "codemirror_mode": {
    "name": "ipython",
    "version": 3
   },
   "file_extension": ".py",
   "mimetype": "text/x-python",
   "name": "python",
   "nbconvert_exporter": "python",
   "pygments_lexer": "ipython3",
   "version": "3.6.4"
  },
  "toc": {
   "nav_menu": {},
   "number_sections": false,
   "sideBar": true,
   "skip_h1_title": false,
   "title_cell": "Table of Contents",
   "title_sidebar": "Contents",
   "toc_cell": false,
   "toc_position": {},
   "toc_section_display": true,
   "toc_window_display": false
  },
  "varInspector": {
   "cols": {
    "lenName": 16,
    "lenType": 16,
    "lenVar": 40
   },
   "kernels_config": {
    "python": {
     "delete_cmd_postfix": "",
     "delete_cmd_prefix": "del ",
     "library": "var_list.py",
     "varRefreshCmd": "print(var_dic_list())"
    },
    "r": {
     "delete_cmd_postfix": ") ",
     "delete_cmd_prefix": "rm(",
     "library": "var_list.r",
     "varRefreshCmd": "cat(var_dic_list()) "
    }
   },
   "types_to_exclude": [
    "module",
    "function",
    "builtin_function_or_method",
    "instance",
    "_Feature"
   ],
   "window_display": false
  }
 },
 "nbformat": 4,
 "nbformat_minor": 1
}
