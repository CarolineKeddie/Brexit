{
 "cells": [
  {
   "cell_type": "markdown",
   "metadata": {},
   "source": [
    "<img src=\"http://imgur.com/1ZcRyrc.png\" style=\"float: left; margin: 20px; height: 55px\">\n",
    "\n",
    "# Train-test Split and Cross-Validation Lab\n",
    "\n",
    "---"
   ]
  },
  {
   "cell_type": "markdown",
   "metadata": {},
   "source": [
    "## Review of train/test validation methods\n",
    "\n",
    "We've discussed overfitting, underfitting, and how to validate the \"generalizability\" of your models by testing them on unseen data. \n",
    "\n",
    "In this lab you'll practice two related validation methods: \n",
    "1. **train/test split**\n",
    "2. **k-fold cross-validation**\n",
    "\n",
    "Train/test split and k-fold cross-validation both serve two useful purposes:\n",
    "- We prevent overfitting by not using all the data, and\n",
    "- We retain some remaining data to evaluate our model.\n",
    "\n",
    "In the case of cross-validation, the model fitting and evaluation is performed multiple times on different train/test splits of the data.\n",
    "\n",
    "Ultimately we can use the training and testing validation framework to compare multiple models on the same dataset. This could be comparisons of two linear models, or of completely different models on the same data."
   ]
  },
  {
   "cell_type": "markdown",
   "metadata": {},
   "source": [
    "## Instructions\n",
    "\n",
    "For your independent practice, fit **three different models** on the Boston housing data. For example, you could pick three different subsets of variables, one or more polynomial models, or any other model that you like. \n",
    "\n",
    "**Start with train/test split validation:**\n",
    "* Fix a testing/training split of the data\n",
    "* Train each of your models on the training data\n",
    "* Evaluate each of the models on the test data\n",
    "* Rank the models by how well they score on the testing data set.\n",
    "\n",
    "**Then try K-Fold cross-validation:**\n",
    "* Perform a k-fold cross validation and use the cross-validation scores to compare your models. Did this change your rankings?\n",
    "* Try a few different K-splits of the data for the same models.\n",
    "\n",
    "Try a variety of response variables. Start with **MEDV** (the `.target` attribute from the dataset load method)."
   ]
  },
  {
   "cell_type": "code",
   "execution_count": 1,
   "metadata": {},
   "outputs": [],
   "source": [
    "from matplotlib import pyplot as plt\n",
    "\n",
    "import numpy as np\n",
    "import pandas as pd\n",
    "from scipy import stats\n",
    "import seaborn as sns\n",
    "\n",
    "from sklearn.linear_model import LinearRegression\n",
    "from sklearn.model_selection import train_test_split\n",
    "\n",
    "%config InlineBackend.figure_format = 'retina'\n",
    "%matplotlib inline\n",
    "\n",
    "plt.style.use('fivethirtyeight')"
   ]
  },
  {
   "cell_type": "code",
   "execution_count": 2,
   "metadata": {},
   "outputs": [],
   "source": [
    "import pandas as pd\n",
    "import numpy as np\n",
    "from sklearn.datasets import load_boston\n",
    "boston = load_boston()\n",
    "\n",
    "X = pd.DataFrame(boston.data, columns=boston.feature_names)\n",
    "y = boston.target"
   ]
  },
  {
   "cell_type": "code",
   "execution_count": 3,
   "metadata": {},
   "outputs": [
    {
     "name": "stdout",
     "output_type": "stream",
     "text": [
      "Boston House Prices dataset\n",
      "===========================\n",
      "\n",
      "Notes\n",
      "------\n",
      "Data Set Characteristics:  \n",
      "\n",
      "    :Number of Instances: 506 \n",
      "\n",
      "    :Number of Attributes: 13 numeric/categorical predictive\n",
      "    \n",
      "    :Median Value (attribute 14) is usually the target\n",
      "\n",
      "    :Attribute Information (in order):\n",
      "        - CRIM     per capita crime rate by town\n",
      "        - ZN       proportion of residential land zoned for lots over 25,000 sq.ft.\n",
      "        - INDUS    proportion of non-retail business acres per town\n",
      "        - CHAS     Charles River dummy variable (= 1 if tract bounds river; 0 otherwise)\n",
      "        - NOX      nitric oxides concentration (parts per 10 million)\n",
      "        - RM       average number of rooms per dwelling\n",
      "        - AGE      proportion of owner-occupied units built prior to 1940\n",
      "        - DIS      weighted distances to five Boston employment centres\n",
      "        - RAD      index of accessibility to radial highways\n",
      "        - TAX      full-value property-tax rate per $10,000\n",
      "        - PTRATIO  pupil-teacher ratio by town\n",
      "        - B        1000(Bk - 0.63)^2 where Bk is the proportion of blacks by town\n",
      "        - LSTAT    % lower status of the population\n",
      "        - MEDV     Median value of owner-occupied homes in $1000's\n",
      "\n",
      "    :Missing Attribute Values: None\n",
      "\n",
      "    :Creator: Harrison, D. and Rubinfeld, D.L.\n",
      "\n",
      "This is a copy of UCI ML housing dataset.\n",
      "http://archive.ics.uci.edu/ml/datasets/Housing\n",
      "\n",
      "\n",
      "This dataset was taken from the StatLib library which is maintained at Carnegie Mellon University.\n",
      "\n",
      "The Boston house-price data of Harrison, D. and Rubinfeld, D.L. 'Hedonic\n",
      "prices and the demand for clean air', J. Environ. Economics & Management,\n",
      "vol.5, 81-102, 1978.   Used in Belsley, Kuh & Welsch, 'Regression diagnostics\n",
      "...', Wiley, 1980.   N.B. Various transformations are used in the table on\n",
      "pages 244-261 of the latter.\n",
      "\n",
      "The Boston house-price data has been used in many machine learning papers that address regression\n",
      "problems.   \n",
      "     \n",
      "**References**\n",
      "\n",
      "   - Belsley, Kuh & Welsch, 'Regression diagnostics: Identifying Influential Data and Sources of Collinearity', Wiley, 1980. 244-261.\n",
      "   - Quinlan,R. (1993). Combining Instance-Based and Model-Based Learning. In Proceedings on the Tenth International Conference of Machine Learning, 236-243, University of Massachusetts, Amherst. Morgan Kaufmann.\n",
      "   - many more! (see http://archive.ics.uci.edu/ml/datasets/Housing)\n",
      "\n"
     ]
    }
   ],
   "source": [
    "print(boston.DESCR)"
   ]
  },
  {
   "cell_type": "markdown",
   "metadata": {},
   "source": [
    "### 1. Clean up any data problems\n",
    "\n",
    "Load the Boston housing data.  Fix any problems, if applicable."
   ]
  },
  {
   "cell_type": "code",
   "execution_count": 4,
   "metadata": {},
   "outputs": [],
   "source": [
    "# Boston data is from SKlearn so it is clean"
   ]
  },
  {
   "cell_type": "markdown",
   "metadata": {},
   "source": [
    "### 2. Select 3-4 variables with your dataset to perform a 50/50 test train split on\n",
    "\n",
    "- Use sklearn.\n",
    "- Score and plot your predictions."
   ]
  },
  {
   "cell_type": "code",
   "execution_count": 5,
   "metadata": {},
   "outputs": [
    {
     "data": {
      "text/plain": [
       "Index(['CRIM', 'ZN', 'INDUS', 'CHAS', 'NOX', 'RM', 'AGE', 'DIS', 'RAD', 'TAX',\n",
       "       'PTRATIO', 'B', 'LSTAT'],\n",
       "      dtype='object')"
      ]
     },
     "execution_count": 5,
     "metadata": {},
     "output_type": "execute_result"
    }
   ],
   "source": [
    "X.columns"
   ]
  },
  {
   "cell_type": "code",
   "execution_count": 6,
   "metadata": {},
   "outputs": [
    {
     "data": {
      "text/plain": [
       "0.663557572218876"
      ]
     },
     "execution_count": 6,
     "metadata": {},
     "output_type": "execute_result"
    }
   ],
   "source": [
    "predictors = ['CRIM', 'RM', 'B', 'LSTAT']\n",
    "\n",
    "X_train, X_test, y_train, y_test = train_test_split(X[predictors], y, \n",
    "                                            test_size=0.5, random_state=8)\n",
    "\n",
    "lr = LinearRegression()\n",
    "\n",
    "lr.fit(X_train, y_train)\n",
    "\n",
    "lr.score(X_test, y_test)"
   ]
  },
  {
   "cell_type": "code",
   "execution_count": 7,
   "metadata": {},
   "outputs": [
    {
     "data": {
      "image/png": "[encoded data removed]",
      "text/plain": [
       "<matplotlib.figure.Figure at 0x11862d2e8>"
      ]
     },
     "metadata": {
      "image/png": {
       "height": 353,
       "width": 414
      }
     },
     "output_type": "display_data"
    }
   ],
   "source": [
    "yhat = lr.predict(X_test)\n",
    "plt.figure(figsize=(6,6))\n",
    "plt.scatter(y_test, yhat)\n",
    "plt.plot([0,40],[0,40])\n",
    "plt.show()"
   ]
  },
  {
   "cell_type": "markdown",
   "metadata": {},
   "source": [
    "### 3. Try 70/30 and 90/10\n",
    "- Score and plot.  \n",
    "- How do your metrics change?"
   ]
  },
  {
   "cell_type": "code",
   "execution_count": 8,
   "metadata": {},
   "outputs": [
    {
     "data": {
      "text/plain": [
       "0.6161800060984299"
      ]
     },
     "execution_count": 8,
     "metadata": {},
     "output_type": "execute_result"
    }
   ],
   "source": [
    "X_train, X_test, y_train, y_test = train_test_split(X[predictors],\n",
    "                                    y, test_size=0.3, random_state=8)\n",
    "\n",
    "lr1 = LinearRegression()\n",
    "\n",
    "lr1.fit(X_train,y_train)\n",
    "\n",
    "lr1.score(X_test, y_test)"
   ]
  },
  {
   "cell_type": "code",
   "execution_count": 9,
   "metadata": {},
   "outputs": [
    {
     "data": {
      "image/png": "[encoded data removed]",
      "text/plain": [
       "<matplotlib.figure.Figure at 0x11862d128>"
      ]
     },
     "metadata": {
      "image/png": {
       "height": 353,
       "width": 406
      }
     },
     "output_type": "display_data"
    }
   ],
   "source": [
    "yhat = lr1.predict(X_test)\n",
    "plt.figure(figsize=(6,6))\n",
    "plt.scatter(y_test, yhat)\n",
    "plt.plot([0,40],[0,40])\n",
    "plt.show()"
   ]
  },
  {
   "cell_type": "code",
   "execution_count": 10,
   "metadata": {},
   "outputs": [
    {
     "data": {
      "text/plain": [
       "0.5839244756380986"
      ]
     },
     "execution_count": 10,
     "metadata": {},
     "output_type": "execute_result"
    }
   ],
   "source": [
    "X_train, X_test, y_train, y_test = train_test_split(X[predictors], \n",
    "                                    y, test_size=0.1, random_state=8)\n",
    "\n",
    "lr2 = LinearRegression()\n",
    "\n",
    "lr2.fit(X_train,y_train)\n",
    "\n",
    "lr2.score(X_test, y_test)"
   ]
  },
  {
   "cell_type": "code",
   "execution_count": 11,
   "metadata": {},
   "outputs": [
    {
     "data": {
      "image/png": "[encoded data removed]",
      "text/plain": [
       "<matplotlib.figure.Figure at 0x1a22650f98>"
      ]
     },
     "metadata": {
      "image/png": {
       "height": 353,
       "width": 406
      }
     },
     "output_type": "display_data"
    }
   ],
   "source": [
    "yhat = lr2.predict(X_test)\n",
    "plt.figure(figsize=(6,6))\n",
    "plt.scatter(y_test, yhat)\n",
    "plt.plot([0,40],[0,40])\n",
    "plt.show()"
   ]
  },
  {
   "cell_type": "markdown",
   "metadata": {},
   "source": [
    "### 4. Try K-Fold cross-validation with K between 5-10 for your regression. \n",
    "\n",
    "- What seems optimal? \n",
    "- How do your scores change?  \n",
    "- What is the variance of scores like?\n",
    "- Try different folds to get a sense of how this impacts your score."
   ]
  },
  {
   "cell_type": "code",
   "execution_count": 12,
   "metadata": {},
   "outputs": [],
   "source": [
    "from sklearn.model_selection import cross_val_score, cross_val_predict, KFold\n",
    "from sklearn import metrics"
   ]
  },
  {
   "cell_type": "code",
   "execution_count": 13,
   "metadata": {},
   "outputs": [
    {
     "name": "stdout",
     "output_type": "stream",
     "text": [
      "------------------------------------\n",
      "\n",
      "K: 5\n",
      "Cross-validated scores: [ 0.64631693  0.70482771  0.44121527  0.08620083 -0.50525881]\n",
      "Mean CV R2: 0.2746603856925534\n",
      "Std CV R2: 0.446027804377481\n",
      "------------------------------------\n",
      "\n",
      "K: 6\n",
      "Cross-validated scores: [ 0.60617609  0.70748062  0.52005295  0.6187581  -0.31575052 -0.22205816]\n",
      "Mean CV R2: 0.3191098469909175\n",
      "Std CV R2: 0.420181823715554\n",
      "------------------------------------\n",
      "\n",
      "K: 7\n",
      "Cross-validated scores: [ 0.6551403   0.59539945  0.53563504  0.49472098  0.24503727 -0.64989835\n",
      "  0.11581191]\n",
      "Mean CV R2: 0.2845495139064042\n",
      "Std CV R2: 0.4216307788617244\n",
      "------------------------------------\n",
      "\n",
      "K: 8\n",
      "Cross-validated scores: [ 0.67247147  0.61771501  0.68493632  0.61008211  0.58758257 -0.28401756\n",
      " -1.07692607  0.03328161]\n",
      "Mean CV R2: 0.23064068275695926\n",
      "Std CV R2: 0.5954371664928758\n",
      "------------------------------------\n",
      "\n",
      "K: 9\n",
      "Cross-validated scores: [ 0.69100518  0.6025288   0.68881703  0.45761742  0.56596941  0.60141937\n",
      " -0.05866307 -0.84532542  0.08215394]\n",
      "Mean CV R2: 0.30950251744446156\n",
      "Std CV R2: 0.479476307932448\n",
      "------------------------------------\n",
      "\n",
      "K: 10\n",
      "Cross-validated scores: [ 0.67432584  0.61859779 -0.92538157  0.49747799  0.64115103  0.50127088\n",
      " -0.22118889 -0.1021357  -1.53463597  0.2315533 ]\n",
      "Mean CV R2: 0.03810346963482457\n",
      "Std CV R2: 0.7111331144205559\n"
     ]
    }
   ],
   "source": [
    "# iterate through folds 5-10\n",
    "for folds in range(5,11):\n",
    "    print('------------------------------------\\n')\n",
    "    print('K:', folds)\n",
    "    model = LinearRegression()\n",
    "    \n",
    "    # Perform cross-validation\n",
    "    scores = cross_val_score(model, X[predictors], y, cv=folds)\n",
    "    print(\"Cross-validated scores:\", scores)\n",
    "    print(\"Mean CV R2:\", np.mean(scores))\n",
    "    print('Std CV R2:', np.std(scores))"
   ]
  },
  {
   "cell_type": "code",
   "execution_count": 14,
   "metadata": {},
   "outputs": [
    {
     "name": "stdout",
     "output_type": "stream",
     "text": [
      "------------------------------------\n",
      "\n",
      "K: 5\n",
      "Cross-validated scores: [0.69583315 0.51687986 0.72035829 0.61094772 0.64917038]\n",
      "Mean CV R2: 0.638637879129143\n",
      "Std CV R2: 0.07162711630850173\n",
      "------------------------------------\n",
      "\n",
      "K: 6\n",
      "Cross-validated scores: [0.68691441 0.68883182 0.57136251 0.64558639 0.62491772 0.63213973]\n",
      "Mean CV R2: 0.641625428996279\n",
      "Std CV R2: 0.040002556736977286\n",
      "------------------------------------\n",
      "\n",
      "K: 7\n",
      "Cross-validated scores: [0.70125055 0.74820853 0.30101939 0.77095464 0.50792554 0.68350345\n",
      " 0.63376456]\n",
      "Mean CV R2: 0.6209466653225251\n",
      "Std CV R2: 0.15322792300708535\n",
      "------------------------------------\n",
      "\n",
      "K: 8\n",
      "Cross-validated scores: [0.73692746 0.69920629 0.54202269 0.5434831  0.68046019 0.51624659\n",
      " 0.60443149 0.71252139]\n",
      "Mean CV R2: 0.6294124007319352\n",
      "Std CV R2: 0.08245832803165072\n",
      "------------------------------------\n",
      "\n",
      "K: 9\n",
      "Cross-validated scores: [0.7319461  0.7025521  0.58326528 0.37358709 0.77361872 0.57606861\n",
      " 0.55417747 0.57939896 0.66935495]\n",
      "Mean CV R2: 0.6159965856832276\n",
      "Std CV R2: 0.1131453996012245\n",
      "------------------------------------\n",
      "\n",
      "K: 10\n",
      "Cross-validated scores: [0.71418494 0.69491503 0.79102051 0.25383222 0.76892586 0.65190571\n",
      " 0.68490226 0.56177293 0.63354601 0.63398765]\n",
      "Mean CV R2: 0.6388993130034852\n",
      "Std CV R2: 0.14332369554603627\n"
     ]
    }
   ],
   "source": [
    "# iterate through folds 5-10\n",
    "for folds in range(5,11):\n",
    "    \n",
    "    kf = KFold(n_splits=folds,shuffle=True,random_state=1)\n",
    "    \n",
    "    print('------------------------------------\\n')\n",
    "    print('K:', folds)\n",
    "    model = LinearRegression()\n",
    "    \n",
    "    # Perform cross-validation\n",
    "    scores = cross_val_score(model, X[predictors], y, cv=kf)\n",
    "    print(\"Cross-validated scores:\", scores)\n",
    "    print(\"Mean CV R2:\", np.mean(scores))\n",
    "    print('Std CV R2:', np.std(scores))"
   ]
  },
  {
   "cell_type": "markdown",
   "metadata": {},
   "source": [
    "### 5. [Bonus] Optimize the $R^2$ score\n",
    "\n",
    "Can you optimize your $R^2$ by selecting the best features and validating the model using either train/test split or K-Folds?\n",
    "\n",
    "Your code will need to iterate through the different combinations of predictors, cross-validate the current model parameterization, and determine which set of features performed best.\n",
    "\n",
    "The number of K-folds is up to you.\n",
    "\n",
    "> *Hint:* the `itertools` package is useful for combinations and permutations.\n"
   ]
  },
  {
   "cell_type": "code",
   "execution_count": 15,
   "metadata": {},
   "outputs": [],
   "source": [
    "from itertools import combinations"
   ]
  },
  {
   "cell_type": "code",
   "execution_count": 16,
   "metadata": {},
   "outputs": [],
   "source": [
    "combs = []\n",
    "for i in range(1, len(X.columns)+1):\n",
    "    for c in combinations(X.columns.tolist(), i):\n",
    "        combs.append(c)"
   ]
  },
  {
   "cell_type": "code",
   "execution_count": 17,
   "metadata": {},
   "outputs": [
    {
     "data": {
      "text/plain": [
       "[('CRIM', 'INDUS', 'B'),\n",
       " ('CRIM', 'INDUS', 'LSTAT'),\n",
       " ('CRIM', 'CHAS', 'NOX'),\n",
       " ('CRIM', 'CHAS', 'RM'),\n",
       " ('CRIM', 'CHAS', 'AGE'),\n",
       " ('CRIM', 'CHAS', 'DIS'),\n",
       " ('CRIM', 'CHAS', 'RAD'),\n",
       " ('CRIM', 'CHAS', 'TAX'),\n",
       " ('CRIM', 'CHAS', 'PTRATIO'),\n",
       " ('CRIM', 'CHAS', 'B')]"
      ]
     },
     "execution_count": 17,
     "metadata": {},
     "output_type": "execute_result"
    }
   ],
   "source": [
    "combs[110:120]"
   ]
  },
  {
   "cell_type": "code",
   "execution_count": 18,
   "metadata": {},
   "outputs": [
    {
     "data": {
      "text/plain": [
       "8191"
      ]
     },
     "execution_count": 18,
     "metadata": {},
     "output_type": "execute_result"
    }
   ],
   "source": [
    "len(combs)"
   ]
  },
  {
   "cell_type": "code",
   "execution_count": 19,
   "metadata": {},
   "outputs": [
    {
     "data": {
      "text/plain": [
       "('CRIM', 'ZN', 'B')"
      ]
     },
     "execution_count": 19,
     "metadata": {},
     "output_type": "execute_result"
    }
   ],
   "source": [
    "combs[100]"
   ]
  },
  {
   "cell_type": "code",
   "execution_count": 20,
   "metadata": {},
   "outputs": [
    {
     "data": {
      "text/plain": [
       "8191.0"
      ]
     },
     "execution_count": 20,
     "metadata": {},
     "output_type": "execute_result"
    }
   ],
   "source": [
    "# how to calculate the amount of possible combinations\n",
    "from scipy.special import comb\n",
    "sum([comb(13,i) for i in range(1,14)])"
   ]
  },
  {
   "cell_type": "code",
   "execution_count": 21,
   "metadata": {},
   "outputs": [],
   "source": [
    "from sklearn.metrics import r2_score"
   ]
  },
  {
   "cell_type": "code",
   "execution_count": 22,
   "metadata": {},
   "outputs": [],
   "source": [
    "kf = KFold(n_splits=3,shuffle=True,random_state=1)"
   ]
  },
  {
   "cell_type": "code",
   "execution_count": 23,
   "metadata": {},
   "outputs": [
    {
     "name": "stdout",
     "output_type": "stream",
     "text": [
      "0\n",
      "250\n",
      "500\n",
      "750\n",
      "1000\n",
      "1250\n",
      "1500\n",
      "1750\n",
      "2000\n",
      "2250\n",
      "2500\n",
      "2750\n",
      "3000\n",
      "3250\n",
      "3500\n",
      "3750\n",
      "4000\n",
      "4250\n",
      "4500\n",
      "4750\n",
      "5000\n",
      "5250\n",
      "5500\n",
      "5750\n",
      "6000\n",
      "6250\n",
      "6500\n",
      "6750\n",
      "7000\n",
      "7250\n",
      "7500\n",
      "7750\n",
      "8000\n"
     ]
    }
   ],
   "source": [
    "R2_results = {}\n",
    "linreg = LinearRegression()\n",
    "for i,c in enumerate(combs):\n",
    "    if (i % 250) == 0:\n",
    "        print(i)\n",
    "    subX = X[list(c)]\n",
    "    scores = cross_val_score(linreg,subX,y,cv=kf)\n",
    "    R2_results[c] = scores.mean()"
   ]
  },
  {
   "cell_type": "code",
   "execution_count": 24,
   "metadata": {},
   "outputs": [],
   "source": [
    "results = list(R2_results.items())\n",
    "results = sorted(results, key=lambda x: x[1], reverse=True)"
   ]
  },
  {
   "cell_type": "code",
   "execution_count": 25,
   "metadata": {},
   "outputs": [
    {
     "name": "stdout",
     "output_type": "stream",
     "text": [
      "(('CRIM', 'ZN', 'CHAS', 'NOX', 'RM', 'DIS', 'RAD', 'TAX', 'PTRATIO', 'B', 'LSTAT'), 0.7221175416582746)\n",
      "(('CRIM', 'ZN', 'INDUS', 'CHAS', 'NOX', 'RM', 'DIS', 'RAD', 'TAX', 'PTRATIO', 'B', 'LSTAT'), 0.7212237899521489)\n",
      "(('CRIM', 'ZN', 'CHAS', 'NOX', 'RM', 'AGE', 'DIS', 'RAD', 'TAX', 'PTRATIO', 'B', 'LSTAT'), 0.7198916467684789)\n",
      "(('CRIM', 'ZN', 'INDUS', 'CHAS', 'NOX', 'RM', 'AGE', 'DIS', 'RAD', 'TAX', 'PTRATIO', 'B', 'LSTAT'), 0.7189981009801247)\n",
      "(('CRIM', 'ZN', 'NOX', 'RM', 'DIS', 'RAD', 'TAX', 'PTRATIO', 'B', 'LSTAT'), 0.717103260337129)\n"
     ]
    }
   ],
   "source": [
    "for i in range(5):\n",
    "    print(results[i])"
   ]
  },
  {
   "cell_type": "code",
   "execution_count": 26,
   "metadata": {},
   "outputs": [
    {
     "data": {
      "image/png": "[encoded data removed]",
      "text/plain": [
       "<matplotlib.figure.Figure at 0x1a22c50ef0>"
      ]
     },
     "metadata": {
      "image/png": {
       "height": 244,
       "width": 412
      }
     },
     "output_type": "display_data"
    }
   ],
   "source": [
    "plt.hist([r[1] for r in results],bins=np.linspace(0,1,100))\n",
    "plt.show()"
   ]
  },
  {
   "cell_type": "markdown",
   "metadata": {},
   "source": [
    "### 5.1 Can you explain what could be wrong with this approach?"
   ]
  },
  {
   "cell_type": "markdown",
   "metadata": {
    "collapsed": true
   },
   "source": [
    "Even though we are cross-validating to get our R2 score for each model we're testing, \n",
    "we're trying thousands of different models and then choosing the one that has the\n",
    "absolute highest R2.\n",
    "Cross-validation does not eliminate the fact that this is a random sample from an\n",
    "overall population, and the highest R2 out of these models is likely going to be \n",
    "higher than the ones near it by chance. Is the model with the best R2 *REALLY* \n",
    "better than the 2nd highest? 3rd highest?\n",
    "\n",
    "This is an important point: you are the researcher and you should, whenever possible,\n",
    "NOT rely on the computer's \"brute force\". This is why EDA is so important as well\n",
    "as domain knowledge. As a human being can we eliminate variables that we know \n",
    "should not be used to build the model?"
   ]
  },
  {
   "cell_type": "markdown",
   "metadata": {},
   "source": [
    "### 6. [Bonus] Explore another target variable and practice `patsy` formulas\n",
    "\n",
    "Can you find another response variable, given a combination of predictors, that can be predicted accurately through the exploration of different predictors in this dataset?\n",
    "\n",
    "**Try out using patsy to construct your target and predictor matrices from formula strings.**\n",
    "\n",
    "> *Tip: Check out pairplots, coefficients, and pearson scores.*"
   ]
  },
  {
   "cell_type": "code",
   "execution_count": 27,
   "metadata": {},
   "outputs": [],
   "source": [
    "# That might take a long time to run\n",
    "# Check out variable relations\n",
    "#import seaborn as sns\n",
    "#sns.pairplot(X)\n",
    "#plt.show()"
   ]
  },
  {
   "cell_type": "code",
   "execution_count": 28,
   "metadata": {},
   "outputs": [],
   "source": [
    "import patsy\n",
    "\n",
    "df = X.copy()\n",
    "\n",
    "# Add response to core DataFrame\n",
    "df['MEDV'] = y"
   ]
  },
  {
   "cell_type": "code",
   "execution_count": 29,
   "metadata": {},
   "outputs": [],
   "source": [
    "# Easily change your variable predictors without reslicing your DataFrame\n",
    "y, X = patsy.dmatrices(\"LSTAT ~ (AGE + RM + MEDV)**2\", data=df, return_type=\"dataframe\")\n",
    "\n",
    "# \"unravel\" y\n",
    "y = y.values.ravel()\n",
    "\n",
    "X_train, X_test, y_train, y_test = train_test_split(X, y, test_size=.3)"
   ]
  },
  {
   "cell_type": "code",
   "execution_count": 30,
   "metadata": {},
   "outputs": [
    {
     "name": "stdout",
     "output_type": "stream",
     "text": [
      "R^2 Score:  0.7296913735554804\n"
     ]
    }
   ],
   "source": [
    "# Build a new model and calculate the score:\n",
    "lm = LinearRegression()\n",
    "model = lm.fit(X_train, y_train)\n",
    "\n",
    "predictions = model.predict(X_test)\n",
    "print(\"R^2 Score: \", metrics.r2_score(y_test, predictions))"
   ]
  },
  {
   "cell_type": "code",
   "execution_count": null,
   "metadata": {},
   "outputs": [],
   "source": []
  }
 ],
 "metadata": {
  "anaconda-cloud": {},
  "kernelspec": {
   "display_name": "Python [conda env:anaconda3]",
   "language": "python",
   "name": "conda-env-anaconda3-py"
  },
  "language_info": {
   "codemirror_mode": {
    "name": "ipython",
    "version": 3
   },
   "file_extension": ".py",
   "mimetype": "text/x-python",
   "name": "python",
   "nbconvert_exporter": "python",
   "pygments_lexer": "ipython3",
   "version": "3.6.4"
  },
  "toc": {
   "nav_menu": {},
   "number_sections": false,
   "sideBar": true,
   "skip_h1_title": true,
   "title_cell": "Table of Contents",
   "title_sidebar": "Contents",
   "toc_cell": false,
   "toc_position": {},
   "toc_section_display": "block",
   "toc_window_display": false
  }
 },
 "nbformat": 4,
 "nbformat_minor": 1
}
