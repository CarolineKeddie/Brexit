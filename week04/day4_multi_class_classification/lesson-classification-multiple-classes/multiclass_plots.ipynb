{
 "cells": [
  {
   "cell_type": "markdown",
   "metadata": {},
   "source": [
    "<img src=\"http://imgur.com/1ZcRyrc.png\" style=\"float: left; margin: 20px; height: 55px\">\n",
    "\n",
    "# ROC and precision recall demo\n",
    "\n",
    "---"
   ]
  },
  {
   "cell_type": "markdown",
   "metadata": {},
   "source": [
    "## Learning Objectives\n",
    "\n",
    "### Core\n",
    "- Understand how binary logistic regression can be used for multiple class classification through the one-versus-rest approach\n",
    "- Interpret the sets of coefficients related to each one-versus-rest fit\n",
    "\n",
    "\n",
    "### Target\n",
    "- Use the `LabelBinarizer` to create labels for the one-versus-rest binary classification problems\n",
    "- Calculate precision and recall scores with different averages\n",
    "\n",
    "### Stretch\n",
    "- Create ROC and precision-recall curves for all one-versus rest problems"
   ]
  },
  {
   "cell_type": "markdown",
   "metadata": {
    "toc": true
   },
   "source": [
    "<h1>Lesson Guide<span class=\"tocSkip\"></span></h1>\n",
    "<div class=\"toc\"><ul class=\"toc-item\"><li><span><a href=\"#Learning-Objectives\" data-toc-modified-id=\"Learning-Objectives-1\">Learning Objectives</a></span><ul class=\"toc-item\"><li><span><a href=\"#Core\" data-toc-modified-id=\"Core-1.1\">Core</a></span></li><li><span><a href=\"#Target\" data-toc-modified-id=\"Target-1.2\">Target</a></span></li><li><span><a href=\"#Stretch\" data-toc-modified-id=\"Stretch-1.3\">Stretch</a></span></li></ul></li><li><span><a href=\"#Load-the-iris-dataset\" data-toc-modified-id=\"Load-the-iris-dataset-2\">Load the iris dataset</a></span></li><li><span><a href=\"#Fit-a-logistic-regression-model\" data-toc-modified-id=\"Fit-a-logistic-regression-model-3\">Fit a logistic regression model</a></span><ul class=\"toc-item\"><li><span><a href=\"#Define-target-and-predictors\" data-toc-modified-id=\"Define-target-and-predictors-3.1\">Define target and predictors</a></span></li><li><span><a href=\"#Rescale-the-data\" data-toc-modified-id=\"Rescale-the-data-3.2\">Rescale the data</a></span></li><li><span><a href=\"#Fit-the-model,-obtain-the-score-and-predictions\" data-toc-modified-id=\"Fit-the-model,-obtain-the-score-and-predictions-3.3\">Fit the model, obtain the score and predictions</a></span></li></ul></li><li><span><a href=\"#Model-coefficients-and-predicted-probabilities\" data-toc-modified-id=\"Model-coefficients-and-predicted-probabilities-4\">Model coefficients and predicted probabilities</a></span><ul class=\"toc-item\"><li><span><a href=\"#We-have-three-different-intercepts\" data-toc-modified-id=\"We-have-three-different-intercepts-4.1\">We have three different intercepts</a></span></li><li><span><a href=\"#We-have-three-sets-of-four-model-coefficients\" data-toc-modified-id=\"We-have-three-sets-of-four-model-coefficients-4.2\">We have three sets of four model coefficients</a></span></li><li><span><a href=\"#We-have-a-probability-for-being-in-any-of-the-three-classes\" data-toc-modified-id=\"We-have-a-probability-for-being-in-any-of-the-three-classes-4.3\">We have a probability for being in any of the three classes</a></span></li><li><span><a href=\"#Along-each-row,-the-predictions-sum-up-to-one\" data-toc-modified-id=\"Along-each-row,-the-predictions-sum-up-to-one-4.4\">Along each row, the predictions sum up to one</a></span></li></ul></li><li><span><a href=\"#Check-results-by-fitting-one-versus-rest-explicitly\" data-toc-modified-id=\"Check-results-by-fitting-one-versus-rest-explicitly-5\">Check results by fitting one-versus-rest explicitly</a></span><ul class=\"toc-item\"><li><span><a href=\"#Label-binarize-the-target\" data-toc-modified-id=\"Label-binarize-the-target-5.1\">Label binarize the target</a></span></li><li><span><a href=\"#Fit-each-of-the-classes-one-versus-rest\" data-toc-modified-id=\"Fit-each-of-the-classes-one-versus-rest-5.2\">Fit each of the classes one-versus-rest</a></span></li></ul></li><li><span><a href=\"#Accuracy-score,-confusion-matrix-and-classification-report\" data-toc-modified-id=\"Accuracy-score,-confusion-matrix-and-classification-report-6\">Accuracy score, confusion matrix and classification report</a></span><ul class=\"toc-item\"><li><span><a href=\"#Default-model-score-(accuracy)\" data-toc-modified-id=\"Default-model-score-(accuracy)-6.1\">Default model score (accuracy)</a></span></li><li><span><a href=\"#Confusion-matrix\" data-toc-modified-id=\"Confusion-matrix-6.2\">Confusion matrix</a></span></li><li><span><a href=\"#Classification-report\" data-toc-modified-id=\"Classification-report-6.3\">Classification report</a></span></li></ul></li><li><span><a href=\"#Precision-scores\" data-toc-modified-id=\"Precision-scores-7\">Precision scores</a></span><ul class=\"toc-item\"><li><span><a href=\"#Scores-without-averaging\" data-toc-modified-id=\"Scores-without-averaging-7.1\">Scores without averaging</a></span></li><li><span><a href=\"#The-macro-average\" data-toc-modified-id=\"The-macro-average-7.2\">The macro average</a></span></li><li><span><a href=\"#The-micro-average\" data-toc-modified-id=\"The-micro-average-7.3\">The micro average</a></span></li><li><span><a href=\"#The-weighted-average\" data-toc-modified-id=\"The-weighted-average-7.4\">The weighted average</a></span></li><li><span><a href=\"#Summary\" data-toc-modified-id=\"Summary-7.5\">Summary</a></span></li></ul></li><li><span><a href=\"#Recall-scores\" data-toc-modified-id=\"Recall-scores-8\">Recall scores</a></span></li><li><span><a href=\"#F1-scores\" data-toc-modified-id=\"F1-scores-9\">F1 scores</a></span></li><li><span><a href=\"#Precision-Recall-Plot\" data-toc-modified-id=\"Precision-Recall-Plot-10\">Precision-Recall Plot</a></span></li><li><span><a href=\"#ROC-plot\" data-toc-modified-id=\"ROC-plot-11\">ROC plot</a></span></li><li><span><a href=\"#Conclusion\" data-toc-modified-id=\"Conclusion-12\">Conclusion</a></span></li><li><span><a href=\"#Additional-Resources\" data-toc-modified-id=\"Additional-Resources-13\">Additional Resources</a></span></li></ul></div>"
   ]
  },
  {
   "cell_type": "code",
   "execution_count": 1,
   "metadata": {},
   "outputs": [],
   "source": [
    "import pandas as pd\n",
    "import numpy as np\n",
    "import matplotlib.pyplot as plt\n",
    "import seaborn as sns\n",
    "\n",
    "np.set_printoptions(precision=4)\n",
    "plt.style.use('ggplot')\n",
    "sns.set(font_scale=1.5)\n",
    "%config InlineBackend.figure_format = 'retina'\n",
    "%matplotlib inline"
   ]
  },
  {
   "cell_type": "markdown",
   "metadata": {},
   "source": [
    "## Load the iris dataset"
   ]
  },
  {
   "cell_type": "code",
   "execution_count": 2,
   "metadata": {},
   "outputs": [],
   "source": [
    "from sklearn.datasets import load_iris"
   ]
  },
  {
   "cell_type": "code",
   "execution_count": 3,
   "metadata": {},
   "outputs": [],
   "source": [
    "data = load_iris()"
   ]
  },
  {
   "cell_type": "code",
   "execution_count": 4,
   "metadata": {},
   "outputs": [
    {
     "name": "stdout",
     "output_type": "stream",
     "text": [
      "Iris Plants Database\n",
      "====================\n",
      "\n",
      "Notes\n",
      "-----\n",
      "Data Set Characteristics:\n",
      "    :Number of Instances: 150 (50 in each of three classes)\n",
      "    :Number of Attributes: 4 numeric, predictive attributes and the class\n",
      "    :Attribute Information:\n",
      "        - sepal length in cm\n",
      "        - sepal width in cm\n",
      "        - petal length in cm\n",
      "        - petal width in cm\n",
      "        - class:\n",
      "                - Iris-Setosa\n",
      "                - Iris-Versicolour\n",
      "                - Iris-Virginica\n",
      "    :Summary Statistics:\n",
      "\n",
      "    ============== ==== ==== ======= ===== ====================\n",
      "                    Min  Max   Mean    SD   Class Correlation\n",
      "    ============== ==== ==== ======= ===== ====================\n",
      "    sepal length:   4.3  7.9   5.84   0.83    0.7826\n",
      "    sepal width:    2.0  4.4   3.05   0.43   -0.4194\n",
      "    petal length:   1.0  6.9   3.76   1.76    0.9490  (high!)\n",
      "    petal width:    0.1  2.5   1.20  0.76     0.9565  (high!)\n",
      "    ============== ==== ==== ======= ===== ====================\n",
      "\n",
      "    :Missing Attribute Values: None\n",
      "    :Class Distribution: 33.3% for each of 3 classes.\n",
      "    :Creator: R.A. Fisher\n",
      "    :Donor: Michael Marshall (MARSHALL%PLU@io.arc.nasa.gov)\n",
      "    :Date: July, 1988\n",
      "\n",
      "This is a copy of UCI ML iris datasets.\n",
      "http://archive.ics.uci.edu/ml/datasets/Iris\n",
      "\n",
      "The famous Iris database, first used by Sir R.A Fisher\n",
      "\n",
      "This is perhaps the best known database to be found in the\n",
      "pattern recognition literature.  Fisher's paper is a classic in the field and\n",
      "is referenced frequently to this day.  (See Duda & Hart, for example.)  The\n",
      "data set contains 3 classes of 50 instances each, where each class refers to a\n",
      "type of iris plant.  One class is linearly separable from the other 2; the\n",
      "latter are NOT linearly separable from each other.\n",
      "\n",
      "References\n",
      "----------\n",
      "   - Fisher,R.A. \"The use of multiple measurements in taxonomic problems\"\n",
      "     Annual Eugenics, 7, Part II, 179-188 (1936); also in \"Contributions to\n",
      "     Mathematical Statistics\" (John Wiley, NY, 1950).\n",
      "   - Duda,R.O., & Hart,P.E. (1973) Pattern Classification and Scene Analysis.\n",
      "     (Q327.D83) John Wiley & Sons.  ISBN 0-471-22361-1.  See page 218.\n",
      "   - Dasarathy, B.V. (1980) \"Nosing Around the Neighborhood: A New System\n",
      "     Structure and Classification Rule for Recognition in Partially Exposed\n",
      "     Environments\".  IEEE Transactions on Pattern Analysis and Machine\n",
      "     Intelligence, Vol. PAMI-2, No. 1, 67-71.\n",
      "   - Gates, G.W. (1972) \"The Reduced Nearest Neighbor Rule\".  IEEE Transactions\n",
      "     on Information Theory, May 1972, 431-433.\n",
      "   - See also: 1988 MLC Proceedings, 54-64.  Cheeseman et al\"s AUTOCLASS II\n",
      "     conceptual clustering system finds 3 classes in the data.\n",
      "   - Many, many more ...\n",
      "\n"
     ]
    }
   ],
   "source": [
    "print(data.DESCR)"
   ]
  },
  {
   "cell_type": "markdown",
   "metadata": {},
   "source": [
    "## Fit a logistic regression model"
   ]
  },
  {
   "cell_type": "code",
   "execution_count": 5,
   "metadata": {},
   "outputs": [],
   "source": [
    "from sklearn.linear_model import LogisticRegression\n",
    "from sklearn.preprocessing import StandardScaler\n",
    "from sklearn import metrics"
   ]
  },
  {
   "cell_type": "markdown",
   "metadata": {},
   "source": [
    "### Define target and predictors"
   ]
  },
  {
   "cell_type": "markdown",
   "metadata": {},
   "source": [
    "The classes are completely balanced. For illustration purposes, we\n",
    "create a subset with class imbalance."
   ]
  },
  {
   "cell_type": "code",
   "execution_count": 6,
   "metadata": {},
   "outputs": [],
   "source": [
    "# the classes are completely balanced\n",
    "# create a subset with class imbalance\n",
    "y = data.target[:-20]\n",
    "X = data.data[:-20]"
   ]
  },
  {
   "cell_type": "code",
   "execution_count": 7,
   "metadata": {},
   "outputs": [
    {
     "data": {
      "text/plain": [
       "array([0, 1, 2])"
      ]
     },
     "execution_count": 7,
     "metadata": {},
     "output_type": "execute_result"
    }
   ],
   "source": [
    "np.unique(y)"
   ]
  },
  {
   "cell_type": "code",
   "execution_count": 8,
   "metadata": {},
   "outputs": [
    {
     "data": {
      "text/plain": [
       "1    50\n",
       "0    50\n",
       "2    30\n",
       "dtype: int64"
      ]
     },
     "execution_count": 8,
     "metadata": {},
     "output_type": "execute_result"
    }
   ],
   "source": [
    "# check how many items we have per class\n",
    "pd.Series(y).value_counts()"
   ]
  },
  {
   "cell_type": "code",
   "execution_count": 9,
   "metadata": {},
   "outputs": [
    {
     "data": {
      "text/plain": [
       "(130, 4)"
      ]
     },
     "execution_count": 9,
     "metadata": {},
     "output_type": "execute_result"
    }
   ],
   "source": [
    "# we have four predictors\n",
    "X.shape"
   ]
  },
  {
   "cell_type": "markdown",
   "metadata": {},
   "source": [
    "### Rescale the data"
   ]
  },
  {
   "cell_type": "code",
   "execution_count": 10,
   "metadata": {},
   "outputs": [],
   "source": [
    "scaler = StandardScaler()\n",
    "X = scaler.fit_transform(X)"
   ]
  },
  {
   "cell_type": "markdown",
   "metadata": {},
   "source": [
    "### Fit the model, obtain the score and predictions"
   ]
  },
  {
   "cell_type": "code",
   "execution_count": 11,
   "metadata": {},
   "outputs": [
    {
     "name": "stdout",
     "output_type": "stream",
     "text": [
      "0.9384615384615385\n"
     ]
    }
   ],
   "source": [
    "model = LogisticRegression()\n",
    "model.fit(X, y)\n",
    "print(model.score(X, y))\n",
    "predictions = model.predict(X)"
   ]
  },
  {
   "cell_type": "markdown",
   "metadata": {},
   "source": [
    "## Model coefficients and predicted probabilities\n",
    "\n",
    "Logistic regression uses one-versus-rest for making predictions."
   ]
  },
  {
   "cell_type": "markdown",
   "metadata": {},
   "source": [
    "### We have three different intercepts"
   ]
  },
  {
   "cell_type": "code",
   "execution_count": 12,
   "metadata": {},
   "outputs": [
    {
     "name": "stdout",
     "output_type": "stream",
     "text": [
      "[-1.1665 -0.6781 -3.0792]\n"
     ]
    }
   ],
   "source": [
    "print(model.intercept_)"
   ]
  },
  {
   "cell_type": "markdown",
   "metadata": {},
   "source": [
    "### We have three sets of four model coefficients"
   ]
  },
  {
   "cell_type": "code",
   "execution_count": 13,
   "metadata": {},
   "outputs": [
    {
     "name": "stdout",
     "output_type": "stream",
     "text": [
      "[[-0.8433  1.3671 -1.6575 -1.5793]\n",
      " [ 0.1348 -1.2544  0.8307 -0.6098]\n",
      " [ 0.0219 -0.0628  1.3202  2.2715]]\n"
     ]
    }
   ],
   "source": [
    "print(model.coef_)"
   ]
  },
  {
   "cell_type": "markdown",
   "metadata": {},
   "source": [
    "### We have a probability for being in any of the three classes"
   ]
  },
  {
   "cell_type": "code",
   "execution_count": 14,
   "metadata": {},
   "outputs": [
    {
     "name": "stdout",
     "output_type": "stream",
     "text": [
      "[[9.1470e-01 8.4771e-02 5.2527e-04]\n",
      " [7.7350e-01 2.2602e-01 4.8487e-04]\n",
      " [8.5098e-01 1.4855e-01 4.6915e-04]\n",
      " [8.1004e-01 1.8943e-01 5.2892e-04]\n",
      " [9.3374e-01 6.5730e-02 5.2578e-04]\n",
      " [9.6674e-01 3.2017e-02 1.2428e-03]\n",
      " [9.0647e-01 9.2816e-02 7.1250e-04]\n",
      " [8.9026e-01 1.0918e-01 5.5945e-04]\n",
      " [7.5010e-01 2.4943e-01 4.6737e-04]\n",
      " [7.9364e-01 2.0598e-01 3.8254e-04]]\n"
     ]
    }
   ],
   "source": [
    "print(model.predict_proba(X)[:10])"
   ]
  },
  {
   "cell_type": "markdown",
   "metadata": {},
   "source": [
    "### Along each row, the predictions sum up to one"
   ]
  },
  {
   "cell_type": "code",
   "execution_count": 15,
   "metadata": {},
   "outputs": [
    {
     "name": "stdout",
     "output_type": "stream",
     "text": [
      "[1. 1. 1. 1. 1. 1. 1. 1. 1. 1.]\n"
     ]
    }
   ],
   "source": [
    "print(model.predict_proba(X)[:10].sum(axis=1))"
   ]
  },
  {
   "cell_type": "markdown",
   "metadata": {},
   "source": [
    "## Check results by fitting one-versus-rest explicitly"
   ]
  },
  {
   "cell_type": "markdown",
   "metadata": {},
   "source": [
    "The three sets of coefficients arise by considering the binary classification problem of being or not being in one of the three classes. This approach is **called one-versus-rest**.\n",
    "\n",
    "Let's check that it leads to the same results.\n",
    "\n",
    "To be able to treat the multi-class problem, we use [`label_binarize`](http://scikit-learn.org/stable/modules/generated/sklearn.preprocessing.label_binarize.html#sklearn.preprocessing.label_binarize) to transform the outcome variable.\n",
    "\n",
    "[Sklearn Precision-recall for multiple classes](http://scikit-learn.org/stable/auto_examples/model_selection/plot_precision_recall.html)"
   ]
  },
  {
   "cell_type": "code",
   "execution_count": 16,
   "metadata": {},
   "outputs": [],
   "source": [
    "from sklearn.preprocessing import label_binarize"
   ]
  },
  {
   "cell_type": "markdown",
   "metadata": {},
   "source": [
    "### Label binarize the target"
   ]
  },
  {
   "cell_type": "code",
   "execution_count": 17,
   "metadata": {},
   "outputs": [
    {
     "data": {
      "text/plain": [
       "array([[1, 0, 0],\n",
       "       [1, 0, 0],\n",
       "       [1, 0, 0],\n",
       "       [1, 0, 0],\n",
       "       [1, 0, 0],\n",
       "       [1, 0, 0],\n",
       "       [1, 0, 0],\n",
       "       [1, 0, 0],\n",
       "       [1, 0, 0],\n",
       "       [1, 0, 0]])"
      ]
     },
     "execution_count": 17,
     "metadata": {},
     "output_type": "execute_result"
    }
   ],
   "source": [
    "# returns an array with three columns indicating being or not being in class 1, 2 or 3\n",
    "y_bin = label_binarize(y, model.classes_)\n",
    "y_bin[:10]"
   ]
  },
  {
   "cell_type": "markdown",
   "metadata": {},
   "source": [
    "### Fit each of the classes one-versus-rest"
   ]
  },
  {
   "cell_type": "code",
   "execution_count": 18,
   "metadata": {},
   "outputs": [
    {
     "name": "stdout",
     "output_type": "stream",
     "text": [
      "[[-0.8433  1.3671 -1.6575 -1.5793]]\n",
      "The coefficients agree with the multiclass prediction:\n",
      "True\n",
      "\n",
      "[[ 0.1348 -1.2544  0.8307 -0.6098]]\n",
      "The coefficients agree with the multiclass prediction:\n",
      "True\n",
      "\n",
      "[[ 0.0219 -0.0628  1.3202  2.2715]]\n",
      "The coefficients agree with the multiclass prediction:\n",
      "True\n",
      "\n"
     ]
    }
   ],
   "source": [
    "model_class = {}\n",
    "for i in model.classes_:\n",
    "    model_class[i] = LogisticRegression()\n",
    "    model_class[i].fit(X, y_bin[:, i])\n",
    "    print(model_class[i].coef_)\n",
    "    print('The coefficients agree with the multiclass prediction:')\n",
    "    print(np.allclose(model_class[i].coef_, model.coef_[i, :]))\n",
    "    print()"
   ]
  },
  {
   "cell_type": "markdown",
   "metadata": {},
   "source": [
    "## Accuracy score, confusion matrix and classification report"
   ]
  },
  {
   "cell_type": "markdown",
   "metadata": {},
   "source": [
    "### Default model score (accuracy)"
   ]
  },
  {
   "cell_type": "code",
   "execution_count": 19,
   "metadata": {},
   "outputs": [
    {
     "name": "stdout",
     "output_type": "stream",
     "text": [
      "0.9384615384615385\n"
     ]
    }
   ],
   "source": [
    "# sklearn model\n",
    "print(model.score(X, y))"
   ]
  },
  {
   "cell_type": "code",
   "execution_count": 20,
   "metadata": {},
   "outputs": [
    {
     "name": "stdout",
     "output_type": "stream",
     "text": [
      "0.9384615384615385\n"
     ]
    }
   ],
   "source": [
    "# accuracy from comparison of true and predicted values\n",
    "print(metrics.accuracy_score(y, predictions))"
   ]
  },
  {
   "cell_type": "markdown",
   "metadata": {},
   "source": [
    "### Confusion matrix\n",
    "\n",
    "The argument `labels` fixes the order of the labels."
   ]
  },
  {
   "cell_type": "code",
   "execution_count": 21,
   "metadata": {},
   "outputs": [
    {
     "name": "stdout",
     "output_type": "stream",
     "text": [
      "[[50  0  0]\n",
      " [ 0 46  4]\n",
      " [ 0  4 26]]\n"
     ]
    }
   ],
   "source": [
    "confusion_matrix = metrics.confusion_matrix(y, predictions, labels=[0, 1, 2])\n",
    "print(confusion_matrix)"
   ]
  },
  {
   "cell_type": "markdown",
   "metadata": {},
   "source": [
    "### Classification report"
   ]
  },
  {
   "cell_type": "code",
   "execution_count": 22,
   "metadata": {},
   "outputs": [
    {
     "name": "stdout",
     "output_type": "stream",
     "text": [
      "             precision    recall  f1-score   support\n",
      "\n",
      "          0       1.00      1.00      1.00        50\n",
      "          1       0.92      0.92      0.92        50\n",
      "          2       0.87      0.87      0.87        30\n",
      "\n",
      "avg / total       0.94      0.94      0.94       130\n",
      "\n"
     ]
    }
   ],
   "source": [
    "print(metrics.classification_report(y, predictions))"
   ]
  },
  {
   "cell_type": "markdown",
   "metadata": {},
   "source": [
    "## Precision scores"
   ]
  },
  {
   "cell_type": "markdown",
   "metadata": {},
   "source": [
    "The precision can be calculated using the function `precision_score` from sklearn's metrics-module. With the `average`-argument, we can specify what kind of precision value we want to calculate. The default `binary` works only for two-class problems. In our case with three classes, we have to adjust this argument."
   ]
  },
  {
   "cell_type": "code",
   "execution_count": 23,
   "metadata": {},
   "outputs": [],
   "source": [
    "# Running this command would complain with \n",
    "# \"Target is multiclass but average='binary'.\"\n",
    "\n",
    "#metrics.precision_score(y, predictions)"
   ]
  },
  {
   "cell_type": "markdown",
   "metadata": {},
   "source": [
    "The three precision scores in the classification report are obtained if one considers one of the three classes and considers the number of true and false predictions for that class. "
   ]
  },
  {
   "cell_type": "markdown",
   "metadata": {},
   "source": [
    "### Scores without averaging\n",
    "\n",
    "Here we set `average=None`."
   ]
  },
  {
   "cell_type": "code",
   "execution_count": 24,
   "metadata": {},
   "outputs": [
    {
     "data": {
      "text/plain": [
       "[1.0, 0.92, 0.8666666666666667]"
      ]
     },
     "execution_count": 24,
     "metadata": {},
     "output_type": "execute_result"
    }
   ],
   "source": [
    "# by hand\n",
    "[confusion_matrix[i, i]/confusion_matrix[:, i].sum()\n",
    " for i in range(len(confusion_matrix))]"
   ]
  },
  {
   "cell_type": "code",
   "execution_count": 25,
   "metadata": {},
   "outputs": [
    {
     "name": "stdout",
     "output_type": "stream",
     "text": [
      "[1.     0.92   0.8667]\n"
     ]
    }
   ],
   "source": [
    "# with sklearn\n",
    "precision_scores = metrics.precision_score(y, predictions, average=None)\n",
    "print(precision_scores)"
   ]
  },
  {
   "cell_type": "markdown",
   "metadata": {},
   "source": [
    "### The macro average"
   ]
  },
  {
   "cell_type": "markdown",
   "metadata": {},
   "source": [
    "The **macro average** takes the mean of these three precision scores"
   ]
  },
  {
   "cell_type": "code",
   "execution_count": 26,
   "metadata": {},
   "outputs": [
    {
     "name": "stdout",
     "output_type": "stream",
     "text": [
      "0.9288888888888889\n"
     ]
    }
   ],
   "source": [
    "# by hand\n",
    "print(precision_scores.mean())"
   ]
  },
  {
   "cell_type": "code",
   "execution_count": 27,
   "metadata": {},
   "outputs": [
    {
     "name": "stdout",
     "output_type": "stream",
     "text": [
      "0.9288888888888889\n"
     ]
    }
   ],
   "source": [
    "# with sklearn\n",
    "print(metrics.precision_score(y, predictions, average='macro'))"
   ]
  },
  {
   "cell_type": "markdown",
   "metadata": {},
   "source": [
    "### The micro average"
   ]
  },
  {
   "cell_type": "markdown",
   "metadata": {},
   "source": [
    "The **micro average** sums all true positives and divides \n",
    "by the sum of all true positive and false positives"
   ]
  },
  {
   "cell_type": "code",
   "execution_count": 28,
   "metadata": {},
   "outputs": [
    {
     "data": {
      "text/plain": [
       "0.9384615384615385"
      ]
     },
     "execution_count": 28,
     "metadata": {},
     "output_type": "execute_result"
    }
   ],
   "source": [
    "# by hand\n",
    "np.diag(confusion_matrix).sum()/confusion_matrix.sum()"
   ]
  },
  {
   "cell_type": "code",
   "execution_count": 29,
   "metadata": {},
   "outputs": [
    {
     "name": "stdout",
     "output_type": "stream",
     "text": [
      "0.9384615384615385\n"
     ]
    }
   ],
   "source": [
    "# with sklearn\n",
    "print(metrics.precision_score(y, predictions, average='micro'))"
   ]
  },
  {
   "cell_type": "markdown",
   "metadata": {},
   "source": [
    "### The weighted average"
   ]
  },
  {
   "cell_type": "markdown",
   "metadata": {},
   "source": [
    "The **weighted average** takes the mean of the three precision scores \n",
    "weighted by their frequency. This is the number displayed in the classification report as the average precision score."
   ]
  },
  {
   "cell_type": "code",
   "execution_count": 30,
   "metadata": {},
   "outputs": [
    {
     "name": "stdout",
     "output_type": "stream",
     "text": [
      "0.9384615384615385\n"
     ]
    }
   ],
   "source": [
    "# by hand\n",
    "weights = np.array([50, 50, 30])\n",
    "print(1./len(y)*np.dot(weights, precision_scores))"
   ]
  },
  {
   "cell_type": "code",
   "execution_count": 31,
   "metadata": {},
   "outputs": [
    {
     "name": "stdout",
     "output_type": "stream",
     "text": [
      "0.9384615384615385\n"
     ]
    }
   ],
   "source": [
    "# with sklearn\n",
    "print(metrics.precision_score(y, predictions, average='weighted'))"
   ]
  },
  {
   "cell_type": "markdown",
   "metadata": {},
   "source": [
    "### Summary"
   ]
  },
  {
   "cell_type": "code",
   "execution_count": 32,
   "metadata": {},
   "outputs": [
    {
     "name": "stdout",
     "output_type": "stream",
     "text": [
      "[1.     0.92   0.8667]\n",
      "0.9288888888888889\n",
      "0.9384615384615385\n",
      "0.9384615384615385\n"
     ]
    }
   ],
   "source": [
    "print(metrics.precision_score(y, predictions, average=None))\n",
    "print(metrics.precision_score(y, predictions, average='macro'))\n",
    "print(metrics.precision_score(y, predictions, average='micro'))\n",
    "print(metrics.precision_score(y, predictions, average='weighted'))"
   ]
  },
  {
   "cell_type": "markdown",
   "metadata": {},
   "source": [
    "## Recall scores\n",
    "\n",
    "The calculations are completely analogous based on recall scores for the individual classes."
   ]
  },
  {
   "cell_type": "code",
   "execution_count": 33,
   "metadata": {},
   "outputs": [
    {
     "name": "stdout",
     "output_type": "stream",
     "text": [
      "[1.     0.92   0.8667]\n",
      "0.9288888888888889\n",
      "0.9384615384615385\n",
      "0.9384615384615385\n"
     ]
    }
   ],
   "source": [
    "print(metrics.recall_score(y, predictions, average=None))\n",
    "print(metrics.recall_score(y, predictions, average='macro'))\n",
    "print(metrics.recall_score(y, predictions, average='micro'))\n",
    "print(metrics.recall_score(y, predictions, average='weighted'))"
   ]
  },
  {
   "cell_type": "markdown",
   "metadata": {},
   "source": [
    "## F1 scores\n",
    "\n",
    "The calculations are completely analogous based on F1 scores for the individual classes."
   ]
  },
  {
   "cell_type": "code",
   "execution_count": 34,
   "metadata": {},
   "outputs": [
    {
     "name": "stdout",
     "output_type": "stream",
     "text": [
      "[1.     0.92   0.8667]\n",
      "0.9288888888888889\n",
      "0.9384615384615385\n",
      "0.9384615384615385\n"
     ]
    }
   ],
   "source": [
    "print(metrics.f1_score(y, predictions, average=None))\n",
    "print(metrics.f1_score(y, predictions, average='macro'))\n",
    "print(metrics.f1_score(y, predictions, average='micro'))\n",
    "print(metrics.f1_score(y, predictions, average='weighted'))"
   ]
  },
  {
   "cell_type": "markdown",
   "metadata": {},
   "source": [
    "## Precision-Recall Plot"
   ]
  },
  {
   "cell_type": "markdown",
   "metadata": {},
   "source": [
    "To be able to treat the multi-class problem, we use the binarized variable.\n",
    "\n",
    "[Sklearn precision-recall plot for multiple classes](http://scikit-learn.org/stable/auto_examples/model_selection/plot_precision_recall.html)"
   ]
  },
  {
   "cell_type": "code",
   "execution_count": 35,
   "metadata": {},
   "outputs": [],
   "source": [
    "def plot_precision_recall(model, y_bin, X, f1_lines=True):\n",
    "    '''\n",
    "    Takes a fitted model, \n",
    "    an array of binarised true y-values, \n",
    "    a predictor matrix and\n",
    "    and additional argument if lines of constant f1-score levels should be plotted.\n",
    "    Returns a precision-recall plot for each of the classes.\n",
    "    '''\n",
    "\n",
    "    # create dictionaries for storing precision/recall values\n",
    "    precision = {}\n",
    "    recall = {}\n",
    "\n",
    "    # loop over all the classes\n",
    "    # calculate precision-recall values for the current class versus the rest\n",
    "    for i, cl in enumerate(model.classes_):\n",
    "        precision[cl], recall[cl], threshold = metrics.precision_recall_curve(\n",
    "            y_bin[:, i], model.predict_proba(X)[:, i])\n",
    "\n",
    "    # average_precision_score calculates the area under the curve for each class\n",
    "    average_precision_scores = [round(metrics.average_precision_score(\n",
    "        y_bin[:, i], model.predict_proba(X)[:, i]), 2) for i in range(len(model.classes_))]\n",
    "\n",
    "    # plot the precision-recall curves for each class versus the rest\n",
    "    fig, ax = plt.subplots(figsize=(6,4))\n",
    "    for i, key in enumerate(precision.keys()):\n",
    "        ax.plot(precision[key], recall[key], lw=2,\n",
    "                 label='class {}, average precision score {}'.format(key, average_precision_scores[i]))\n",
    "\n",
    "    ax.set_ylim([0, 1.05])\n",
    "    ax.legend(loc=[1,0])\n",
    "    ax.set_title('Precision-Recall Curve', fontsize=20)\n",
    "    ax.set_xlabel('Recall', fontsize=18)\n",
    "    ax.set_ylabel('Precision', fontsize=18)\n",
    "\n",
    "    # add lines of constant F1 scores\n",
    "    if f1_lines == True:\n",
    "        for const in np.linspace(0.2,0.9,8):\n",
    "            x_vals = np.linspace(0.001, 0.999, 100)\n",
    "            y_vals = 1./(2./const-1./x_vals)\n",
    "            ax.plot(x_vals[y_vals > 0], y_vals[y_vals > 0],\n",
    "                     color='lightblue', ls='--', alpha=0.9)\n",
    "            ax.set_ylim([0, 1])\n",
    "            ax.annotate('f1={0:0.1f}'.format(const),\n",
    "                         xy=(x_vals[-10], y_vals[-2]+0.0))\n",
    "\n",
    "    return fig, ax"
   ]
  },
  {
   "cell_type": "code",
   "execution_count": 36,
   "metadata": {},
   "outputs": [
    {
     "data": {
      "image/png": "[encoded data removed]",
      "text/plain": [
       "<matplotlib.figure.Figure at 0x1a09b51080>"
      ]
     },
     "metadata": {
      "image/png": {
       "height": 293,
       "width": 700
      }
     },
     "output_type": "display_data"
    }
   ],
   "source": [
    "fig, ax = plot_precision_recall(model, y_bin, X)"
   ]
  },
  {
   "cell_type": "code",
   "execution_count": 37,
   "metadata": {},
   "outputs": [
    {
     "name": "stdout",
     "output_type": "stream",
     "text": [
      "Area under precision-recall curve:\n",
      "Class 0: 1.0\n",
      "Class 1: 0.96\n",
      "Class 2: 0.91\n"
     ]
    }
   ],
   "source": [
    "print('Area under precision-recall curve:')\n",
    "for i, class_ in enumerate(model.classes_):\n",
    "    print('Class {}:'.format(class_), round(metrics.average_precision_score(y_bin[:,i],model.predict_proba(X)[:,i]),2))"
   ]
  },
  {
   "cell_type": "markdown",
   "metadata": {},
   "source": [
    "## ROC plot\n",
    "\n",
    "[Sklearn ROC plot for multiple classes](http://scikit-learn.org/stable/auto_examples/model_selection/plot_roc.html)"
   ]
  },
  {
   "cell_type": "code",
   "execution_count": 38,
   "metadata": {},
   "outputs": [],
   "source": [
    "def plot_roc(model, y_bin, X):\n",
    "    '''\n",
    "    Takes a fitted model,\n",
    "    binarised true y-values and\n",
    "    a predictor matrix.\n",
    "    Returns a ROC curve for each of the classes.\n",
    "    '''\n",
    "\n",
    "    # create dictionaries for storing FPR/TPR values\n",
    "    fpr = {}\n",
    "    tpr = {}\n",
    "    \n",
    "    # loop over all the classes\n",
    "    # calculate TPR-FPR values for the current class versus the rest\n",
    "    for i, cl in enumerate(model.classes_):\n",
    "        fpr[cl], tpr[cl], threshold = metrics.roc_curve(\n",
    "            y_bin[:, i], model.predict_proba(X)[:, i])\n",
    "        \n",
    "    # roc_auc_score calculates the area under the curve for each class\n",
    "    auc_scores = [round(metrics.roc_auc_score(y_bin[:, i], model.predict_proba(X)[\n",
    "                        :, i]), 2) for i in range(len(model.classes_))]\n",
    "    \n",
    "    # plot the ROC curve\n",
    "    fig, ax = plt.subplots()\n",
    "    for i, key in enumerate(fpr.keys()):\n",
    "        ax.plot(fpr[key], tpr[key], lw=2,\n",
    "                 label='class {}, ROC_AUC {}'.format(key, auc_scores[i]))\n",
    "    ax.plot([0, 1], [0, 1], ls='--', lw=2)\n",
    "    ax.set_ylim([0, 1.05])\n",
    "    ax.legend(loc=[1,0])\n",
    "    ax.set_title('ROC Curve', fontsize=20)\n",
    "    ax.set_xlabel('FPR', fontsize=18)\n",
    "    ax.set_ylabel('TPR', fontsize=18)\n",
    "    \n",
    "    return fig, ax"
   ]
  },
  {
   "cell_type": "code",
   "execution_count": 39,
   "metadata": {},
   "outputs": [
    {
     "data": {
      "image/png": "[encoded data removed]",
      "text/plain": [
       "<matplotlib.figure.Figure at 0x1a09b51470>"
      ]
     },
     "metadata": {
      "image/png": {
       "height": 293,
       "width": 613
      }
     },
     "output_type": "display_data"
    }
   ],
   "source": [
    "fig, ax = plot_roc(model, y_bin, X);"
   ]
  },
  {
   "cell_type": "code",
   "execution_count": 40,
   "metadata": {},
   "outputs": [
    {
     "name": "stdout",
     "output_type": "stream",
     "text": [
      "Area under ROC curve (ROC-AUC):\n",
      "Class 0: 1.0\n",
      "Class 1: 0.97\n",
      "Class 2: 0.98\n"
     ]
    }
   ],
   "source": [
    "print('Area under ROC curve (ROC-AUC):')\n",
    "for i, class_ in enumerate(model.classes_):\n",
    "    print('Class {}:'.format(class_), round(metrics.roc_auc_score(y_bin[:,i],model.predict_proba(X)[:,i]),2))"
   ]
  },
  {
   "cell_type": "markdown",
   "metadata": {},
   "source": [
    "## Conclusion"
   ]
  },
  {
   "cell_type": "markdown",
   "metadata": {},
   "source": [
    "- Classifiers can be fitted on multiple class labels with the one-versus-rest scheme\n",
    "- Many scores (e.g. precision) require specifying the averaging procedure over classes, distinguish\n",
    "    - None\n",
    "    - Macro\n",
    "    - Micro\n",
    "    - Weighted\n",
    "- We can binarize the data to get target variables to set up the one-versus-rest scheme explicitly\n",
    "- We can obtain precision-recall curves and ROC-curves for each class versus the others"
   ]
  },
  {
   "cell_type": "markdown",
   "metadata": {},
   "source": [
    "## Additional Resources\n",
    "\n",
    "- [Label Binarizer](http://scikit-learn.org/stable/modules/generated/sklearn.preprocessing.label_binarize.html#sklearn.preprocessing.label_binarize)\n",
    "- [Sklearn precision-recall plot for multiple classes](http://scikit-learn.org/stable/auto_examples/model_selection/plot_precision_recall.html)\n",
    "- [Sklearn ROC plot for multiple classes](http://scikit-learn.org/stable/auto_examples/model_selection/plot_roc.html)\n",
    "- [ROC-curves on \"Towards Data Science\"](https://towardsdatascience.com/understanding-auc-roc-curve-68b2303cc9c5)"
   ]
  }
 ],
 "metadata": {
  "kernelspec": {
   "display_name": "Python [conda root]",
   "language": "python",
   "name": "conda-root-py"
  },
  "language_info": {
   "codemirror_mode": {
    "name": "ipython",
    "version": 3
   },
   "file_extension": ".py",
   "mimetype": "text/x-python",
   "name": "python",
   "nbconvert_exporter": "python",
   "pygments_lexer": "ipython3",
   "version": "3.6.4"
  },
  "toc": {
   "nav_menu": {},
   "number_sections": false,
   "sideBar": true,
   "skip_h1_title": true,
   "title_cell": "Lesson Guide",
   "title_sidebar": "Contents",
   "toc_cell": true,
   "toc_position": {},
   "toc_section_display": "block",
   "toc_window_display": false
  }
 },
 "nbformat": 4,
 "nbformat_minor": 2
}
