{
 "cells": [
  {
   "cell_type": "markdown",
   "metadata": {},
   "source": [
    "<img src=\"http://imgur.com/1ZcRyrc.png\" style=\"float: left; margin: 20px; height: 55px\">\n",
    "\n",
    "\n",
    "# Recommendations with surprise"
   ]
  },
  {
   "cell_type": "markdown",
   "metadata": {
    "toc": true
   },
   "source": [
    "<h1>Table of Contents<span class=\"tocSkip\"></span></h1>\n",
    "<div class=\"toc\"><ul class=\"toc-item\"><li><span><a href=\"#Use-the-built-in-movielens-100k-dataset\" data-toc-modified-id=\"Use-the-built-in-movielens-100k-dataset-1\">Use the built-in movielens-100k dataset</a></span></li><li><span><a href=\"#Load-the-movielens-100k-dataset-from-disk\" data-toc-modified-id=\"Load-the-movielens-100k-dataset-from-disk-2\">Load the movielens-100k dataset from disk</a></span><ul class=\"toc-item\"><li><span><a href=\"#Instantiate-the-algorithm\" data-toc-modified-id=\"Instantiate-the-algorithm-2.1\">Instantiate the algorithm</a></span></li><li><span><a href=\"#Extract-the-model-parameters\" data-toc-modified-id=\"Extract-the-model-parameters-2.2\">Extract the model parameters</a></span></li><li><span><a href=\"#Evaluate-the-model:\" data-toc-modified-id=\"Evaluate-the-model:-2.3\">Evaluate the model:</a></span></li><li><span><a href=\"#Put-the-predictions-in-a-dataframe\" data-toc-modified-id=\"Put-the-predictions-in-a-dataframe-2.4\">Put the predictions in a dataframe</a></span></li><li><span><a href=\"#Correlations-between-predicted-and-true-ratings\" data-toc-modified-id=\"Correlations-between-predicted-and-true-ratings-2.5\">Correlations between predicted and true ratings</a></span></li></ul></li><li><span><a href=\"#Cross-validation,-train-test-split-and-grid-search\" data-toc-modified-id=\"Cross-validation,-train-test-split-and-grid-search-3\">Cross validation, train-test split and grid search</a></span></li><li><span><a href=\"#Slope-One\" data-toc-modified-id=\"Slope-One-4\">Slope One</a></span></li><li><span><a href=\"#KNN-with-Means\" data-toc-modified-id=\"KNN-with-Means-5\">KNN with Means</a></span></li><li><span><a href=\"#Precision@k-and-Recall@k\" data-toc-modified-id=\"Precision@k-and-Recall@k-6\">Precision@k and Recall@k</a></span></li><li><span><a href=\"#Top-n-predictions\" data-toc-modified-id=\"Top-n-predictions-7\">Top-n predictions</a></span><ul class=\"toc-item\"><li><span><a href=\"#Coverage\" data-toc-modified-id=\"Coverage-7.1\">Coverage</a></span></li><li><span><a href=\"#Novelty\" data-toc-modified-id=\"Novelty-7.2\">Novelty</a></span></li><li><span><a href=\"#Evaluate-the-similarity-of-the-top-k-predictions-between-all-pairs-of-users\" data-toc-modified-id=\"Evaluate-the-similarity-of-the-top-k-predictions-between-all-pairs-of-users-7.3\">Evaluate the similarity of the top-k predictions between all pairs of users</a></span></li><li><span><a href=\"#Content-data\" data-toc-modified-id=\"Content-data-7.4\">Content data</a></span><ul class=\"toc-item\"><li><span><a href=\"#How-many-films-are-attributed-to-a-given-number-of-genres\" data-toc-modified-id=\"How-many-films-are-attributed-to-a-given-number-of-genres-7.4.1\">How many films are attributed to a given number of genres</a></span></li><li><span><a href=\"#Number-of-films-per-genre\" data-toc-modified-id=\"Number-of-films-per-genre-7.4.2\">Number of films per genre</a></span></li><li><span><a href=\"#Get-the-movie-titles\" data-toc-modified-id=\"Get-the-movie-titles-7.4.3\">Get the movie titles</a></span></li><li><span><a href=\"#Get-the-movie-genres-and-calculate-the-intra-user-diversity-based-on-movie-genre-similarity\" data-toc-modified-id=\"Get-the-movie-genres-and-calculate-the-intra-user-diversity-based-on-movie-genre-similarity-7.4.4\">Get the movie genres and calculate the intra-user diversity based on movie genre similarity</a></span></li></ul></li></ul></li></ul></div>"
   ]
  },
  {
   "cell_type": "markdown",
   "metadata": {},
   "source": [
    "In this lab we will make use of the [surprise package](https://surprise.readthedocs.io/en/stable/index.html), a package dedicated to recommendation systems.\n",
    "\n",
    "`conda install -c conda-forge scikit-surprise`\n",
    "\n",
    "First we will need some data. Load the built-in dataset. It will have to be downloaded first.\n",
    "It is a very famous dataset about movie ratings."
   ]
  },
  {
   "cell_type": "code",
   "execution_count": 1,
   "metadata": {},
   "outputs": [],
   "source": [
    "#from surprise import Dataset\n",
    "## Load the movielens-100k dataset (download it if needed),\n",
    "#data = Dataset.load_builtin('ml-100k')"
   ]
  },
  {
   "cell_type": "code",
   "execution_count": 2,
   "metadata": {},
   "outputs": [],
   "source": [
    "import pandas as pd\n",
    "import numpy as np\n",
    "import matplotlib.pyplot as plt\n",
    "import seaborn as sns\n",
    " \n",
    "plt.style.use('ggplot')\n",
    "sns.set(font_scale=1.5)\n",
    "%config InlineBackend.figure_format = 'retina'\n",
    "%matplotlib inline"
   ]
  },
  {
   "cell_type": "code",
   "execution_count": 3,
   "metadata": {},
   "outputs": [],
   "source": [
    "# load surprise\n",
    "import surprise as sur"
   ]
  },
  {
   "cell_type": "markdown",
   "metadata": {},
   "source": [
    "## Use the built-in movielens-100k dataset"
   ]
  },
  {
   "cell_type": "code",
   "execution_count": 4,
   "metadata": {},
   "outputs": [],
   "source": [
    "# Load the movielens-100k dataset (download it if needed),\n",
    "data = sur.Dataset.load_builtin('ml-100k')"
   ]
  },
  {
   "cell_type": "code",
   "execution_count": 5,
   "metadata": {},
   "outputs": [],
   "source": [
    "# We'll use the famous SVD algorithm.\n",
    "algo = sur.SVD()"
   ]
  },
  {
   "cell_type": "code",
   "execution_count": 6,
   "metadata": {},
   "outputs": [
    {
     "data": {
      "text/plain": [
       "{'fit_time': (6.454952001571655,\n",
       "  6.7136759757995605,\n",
       "  5.879863977432251,\n",
       "  6.54817008972168,\n",
       "  6.230724811553955),\n",
       " 'test_mae': array([0.73457195, 0.73486875, 0.7411488 , 0.74029967, 0.73710311]),\n",
       " 'test_rmse': array([0.93065531, 0.93261731, 0.93953465, 0.94113557, 0.93380115]),\n",
       " 'test_time': (0.24473190307617188,\n",
       "  0.24956583976745605,\n",
       "  0.19699573516845703,\n",
       "  0.35797691345214844,\n",
       "  0.19765520095825195)}"
      ]
     },
     "execution_count": 6,
     "metadata": {},
     "output_type": "execute_result"
    }
   ],
   "source": [
    "# Run 5-fold cross-validation and print results\n",
    "sur.model_selection.cross_validate(algo, data, measures=['RMSE', 'MAE'], cv=5)"
   ]
  },
  {
   "cell_type": "markdown",
   "metadata": {},
   "source": [
    "## Load the movielens-100k dataset from disk\n",
    "\n",
    "With the above command we could load the data in a simplified and already prepared way. As reading and preparing other files is not that straight-forward, we will rather load the file from disk."
   ]
  },
  {
   "cell_type": "code",
   "execution_count": 7,
   "metadata": {},
   "outputs": [
    {
     "data": {
      "text/html": [
       "<div>\n",
       "<style scoped>\n",
       "    .dataframe tbody tr th:only-of-type {\n",
       "        vertical-align: middle;\n",
       "    }\n",
       "\n",
       "    .dataframe tbody tr th {\n",
       "        vertical-align: top;\n",
       "    }\n",
       "\n",
       "    .dataframe thead th {\n",
       "        text-align: right;\n",
       "    }\n",
       "</style>\n",
       "<table border=\"1\" class=\"dataframe\">\n",
       "  <thead>\n",
       "    <tr style=\"text-align: right;\">\n",
       "      <th></th>\n",
       "      <th>user_id</th>\n",
       "      <th>item_id</th>\n",
       "      <th>rating</th>\n",
       "      <th>timestamp</th>\n",
       "    </tr>\n",
       "  </thead>\n",
       "  <tbody>\n",
       "    <tr>\n",
       "      <th>0</th>\n",
       "      <td>196</td>\n",
       "      <td>242</td>\n",
       "      <td>3</td>\n",
       "      <td>881250949</td>\n",
       "    </tr>\n",
       "    <tr>\n",
       "      <th>1</th>\n",
       "      <td>186</td>\n",
       "      <td>302</td>\n",
       "      <td>3</td>\n",
       "      <td>891717742</td>\n",
       "    </tr>\n",
       "    <tr>\n",
       "      <th>2</th>\n",
       "      <td>22</td>\n",
       "      <td>377</td>\n",
       "      <td>1</td>\n",
       "      <td>878887116</td>\n",
       "    </tr>\n",
       "    <tr>\n",
       "      <th>3</th>\n",
       "      <td>244</td>\n",
       "      <td>51</td>\n",
       "      <td>2</td>\n",
       "      <td>880606923</td>\n",
       "    </tr>\n",
       "    <tr>\n",
       "      <th>4</th>\n",
       "      <td>166</td>\n",
       "      <td>346</td>\n",
       "      <td>1</td>\n",
       "      <td>886397596</td>\n",
       "    </tr>\n",
       "  </tbody>\n",
       "</table>\n",
       "</div>"
      ],
      "text/plain": [
       "   user_id  item_id  rating  timestamp\n",
       "0      196      242       3  881250949\n",
       "1      186      302       3  891717742\n",
       "2       22      377       1  878887116\n",
       "3      244       51       2  880606923\n",
       "4      166      346       1  886397596"
      ]
     },
     "execution_count": 7,
     "metadata": {},
     "output_type": "execute_result"
    }
   ],
   "source": [
    "df_data = pd.read_csv('/Users/crahmede/.surprise_data/ml-100k/ml-100k/u.data',sep='\\t',header=None)\n",
    "df_data.columns = ['user_id','item_id','rating','timestamp']\n",
    "df_data.head()"
   ]
  },
  {
   "cell_type": "markdown",
   "metadata": {},
   "source": [
    "The reader function serves to specify which columns are referring to user, items and ratings as well as the rating scale."
   ]
  },
  {
   "cell_type": "code",
   "execution_count": 8,
   "metadata": {},
   "outputs": [],
   "source": [
    "reader = sur.Reader(rating_scale=(1, 5))"
   ]
  },
  {
   "cell_type": "code",
   "execution_count": 9,
   "metadata": {},
   "outputs": [],
   "source": [
    "# The columns must correspond to user id, item id and ratings (in that order).\n",
    "data_1 = sur.Dataset.load_from_df(df_data[['user_id', 'item_id', 'rating']], reader)"
   ]
  },
  {
   "cell_type": "markdown",
   "metadata": {},
   "source": [
    "### Instantiate the algorithm"
   ]
  },
  {
   "cell_type": "code",
   "execution_count": 10,
   "metadata": {},
   "outputs": [
    {
     "name": "stdout",
     "output_type": "stream",
     "text": [
      "0.9167802882204997\n"
     ]
    }
   ],
   "source": [
    "algo = sur.SVD(random_state=1, \n",
    "               biased=True, # isolate biases\n",
    "               reg_all=0.2, # use regularisation (the same for all)\n",
    "               n_epochs=20, # number of epochs for stochastic gradient descent search\n",
    "               n_factors=100 # number of factors to retain in SVD\n",
    "              )\n",
    "\n",
    "# we have to build a training set from the data\n",
    "trainset_full = data_1.build_full_trainset()\n",
    "# fit the model\n",
    "algo.fit(trainset_full);\n",
    "\n",
    "# we prepare a test set from the training set \n",
    "trainsetfull_build = trainset_full.build_testset()\n",
    "# obtain the predictions\n",
    "predictions_full = algo.test(trainsetfull_build)\n",
    "# evaluate the predictions\n",
    "print(sur.accuracy.rmse(predictions_full,verbose=False))"
   ]
  },
  {
   "cell_type": "markdown",
   "metadata": {},
   "source": [
    "### Extract the model parameters"
   ]
  },
  {
   "cell_type": "code",
   "execution_count": 11,
   "metadata": {},
   "outputs": [],
   "source": [
    "mu = algo.default_prediction()\n",
    "bu = algo.bu\n",
    "bi = algo.bi\n",
    "pu = algo.pu\n",
    "qi = algo.qi\n",
    "puqi = pu.dot(qi.T)"
   ]
  },
  {
   "cell_type": "markdown",
   "metadata": {},
   "source": [
    "> Note that internally surprise uses other (inner) indices for users and items than in the original data.\n",
    "> The original ones are the raw indices. There are functions to translate between the two."
   ]
  },
  {
   "cell_type": "code",
   "execution_count": 12,
   "metadata": {},
   "outputs": [
    {
     "name": "stdout",
     "output_type": "stream",
     "text": [
      "user: 196        item: 580        r_ui = 2.00   est = 3.34   {'was_impossible': False}\n",
      "\n",
      "Results agree: 0.0\n"
     ]
    }
   ],
   "source": [
    "# check that we can reconstruct the predictions using the parameters\n",
    "i = 10\n",
    "print(predictions_full[i])\n",
    "print()\n",
    "uid = predictions_full[i].uid\n",
    "iid = predictions_full[i].iid\n",
    "u_inner = trainset_full.to_inner_uid(uid)\n",
    "i_inner = trainset_full.to_inner_iid(iid)\n",
    "\n",
    "pred_calc = mu + bu[u_inner] + bi[i_inner] + puqi[u_inner,i_inner]\n",
    "print('Results agree:', predictions_full[i].est - pred_calc)"
   ]
  },
  {
   "cell_type": "markdown",
   "metadata": {},
   "source": [
    "### Evaluate the model:"
   ]
  },
  {
   "cell_type": "code",
   "execution_count": 13,
   "metadata": {},
   "outputs": [
    {
     "name": "stdout",
     "output_type": "stream",
     "text": [
      "RMSE: 0.9168\n",
      "MAE:  0.7305\n",
      "FCP:  0.7250\n"
     ]
    }
   ],
   "source": [
    "sur.accuracy.rmse(predictions_full);\n",
    "sur.accuracy.mae(predictions_full);\n",
    "sur.accuracy.fcp(predictions_full);"
   ]
  },
  {
   "cell_type": "markdown",
   "metadata": {},
   "source": [
    "### Put the predictions in a dataframe"
   ]
  },
  {
   "cell_type": "code",
   "execution_count": 14,
   "metadata": {},
   "outputs": [],
   "source": [
    "df_pred = pd.DataFrame([(x.r_ui, x.est) for x in predictions_full],\n",
    "             columns=['Rating','Predicted'])"
   ]
  },
  {
   "cell_type": "code",
   "execution_count": 15,
   "metadata": {},
   "outputs": [
    {
     "data": {
      "text/plain": [
       "0.9167802882205027"
      ]
     },
     "execution_count": 15,
     "metadata": {},
     "output_type": "execute_result"
    }
   ],
   "source": [
    "# reconstruct RMSE\n",
    "np.sqrt(df_pred.apply(lambda x: (x[0]-x[1])**2,axis=1).mean())"
   ]
  },
  {
   "cell_type": "code",
   "execution_count": 16,
   "metadata": {},
   "outputs": [
    {
     "data": {
      "text/plain": [
       "0.7305196298517427"
      ]
     },
     "execution_count": 16,
     "metadata": {},
     "output_type": "execute_result"
    }
   ],
   "source": [
    "# reconstruct MAE\n",
    "df_pred.apply(lambda x: abs(x[0]-x[1]),axis=1).mean()"
   ]
  },
  {
   "cell_type": "markdown",
   "metadata": {},
   "source": [
    "### Correlations between predicted and true ratings"
   ]
  },
  {
   "cell_type": "code",
   "execution_count": 17,
   "metadata": {},
   "outputs": [
    {
     "data": {
      "text/html": [
       "<div>\n",
       "<style scoped>\n",
       "    .dataframe tbody tr th:only-of-type {\n",
       "        vertical-align: middle;\n",
       "    }\n",
       "\n",
       "    .dataframe tbody tr th {\n",
       "        vertical-align: top;\n",
       "    }\n",
       "\n",
       "    .dataframe thead th {\n",
       "        text-align: right;\n",
       "    }\n",
       "</style>\n",
       "<table border=\"1\" class=\"dataframe\">\n",
       "  <thead>\n",
       "    <tr style=\"text-align: right;\">\n",
       "      <th></th>\n",
       "      <th>Rating</th>\n",
       "      <th>Predicted</th>\n",
       "    </tr>\n",
       "  </thead>\n",
       "  <tbody>\n",
       "    <tr>\n",
       "      <th>Rating</th>\n",
       "      <td>1.000000</td>\n",
       "      <td>0.591973</td>\n",
       "    </tr>\n",
       "    <tr>\n",
       "      <th>Predicted</th>\n",
       "      <td>0.591973</td>\n",
       "      <td>1.000000</td>\n",
       "    </tr>\n",
       "  </tbody>\n",
       "</table>\n",
       "</div>"
      ],
      "text/plain": [
       "             Rating  Predicted\n",
       "Rating     1.000000   0.591973\n",
       "Predicted  0.591973   1.000000"
      ]
     },
     "execution_count": 17,
     "metadata": {},
     "output_type": "execute_result"
    }
   ],
   "source": [
    "df_pred.corr(method='pearson')"
   ]
  },
  {
   "cell_type": "code",
   "execution_count": 18,
   "metadata": {},
   "outputs": [
    {
     "data": {
      "text/html": [
       "<div>\n",
       "<style scoped>\n",
       "    .dataframe tbody tr th:only-of-type {\n",
       "        vertical-align: middle;\n",
       "    }\n",
       "\n",
       "    .dataframe tbody tr th {\n",
       "        vertical-align: top;\n",
       "    }\n",
       "\n",
       "    .dataframe thead th {\n",
       "        text-align: right;\n",
       "    }\n",
       "</style>\n",
       "<table border=\"1\" class=\"dataframe\">\n",
       "  <thead>\n",
       "    <tr style=\"text-align: right;\">\n",
       "      <th></th>\n",
       "      <th>Rating</th>\n",
       "      <th>Predicted</th>\n",
       "    </tr>\n",
       "  </thead>\n",
       "  <tbody>\n",
       "    <tr>\n",
       "      <th>Rating</th>\n",
       "      <td>1.000000</td>\n",
       "      <td>0.576486</td>\n",
       "    </tr>\n",
       "    <tr>\n",
       "      <th>Predicted</th>\n",
       "      <td>0.576486</td>\n",
       "      <td>1.000000</td>\n",
       "    </tr>\n",
       "  </tbody>\n",
       "</table>\n",
       "</div>"
      ],
      "text/plain": [
       "             Rating  Predicted\n",
       "Rating     1.000000   0.576486\n",
       "Predicted  0.576486   1.000000"
      ]
     },
     "execution_count": 18,
     "metadata": {},
     "output_type": "execute_result"
    }
   ],
   "source": [
    "df_pred.corr(method='spearman')"
   ]
  },
  {
   "cell_type": "code",
   "execution_count": 19,
   "metadata": {},
   "outputs": [
    {
     "data": {
      "text/html": [
       "<div>\n",
       "<style scoped>\n",
       "    .dataframe tbody tr th:only-of-type {\n",
       "        vertical-align: middle;\n",
       "    }\n",
       "\n",
       "    .dataframe tbody tr th {\n",
       "        vertical-align: top;\n",
       "    }\n",
       "\n",
       "    .dataframe thead th {\n",
       "        text-align: right;\n",
       "    }\n",
       "</style>\n",
       "<table border=\"1\" class=\"dataframe\">\n",
       "  <thead>\n",
       "    <tr style=\"text-align: right;\">\n",
       "      <th></th>\n",
       "      <th>Rating</th>\n",
       "      <th>Predicted</th>\n",
       "    </tr>\n",
       "  </thead>\n",
       "  <tbody>\n",
       "    <tr>\n",
       "      <th>Rating</th>\n",
       "      <td>1.000000</td>\n",
       "      <td>0.451749</td>\n",
       "    </tr>\n",
       "    <tr>\n",
       "      <th>Predicted</th>\n",
       "      <td>0.451749</td>\n",
       "      <td>1.000000</td>\n",
       "    </tr>\n",
       "  </tbody>\n",
       "</table>\n",
       "</div>"
      ],
      "text/plain": [
       "             Rating  Predicted\n",
       "Rating     1.000000   0.451749\n",
       "Predicted  0.451749   1.000000"
      ]
     },
     "execution_count": 19,
     "metadata": {},
     "output_type": "execute_result"
    }
   ],
   "source": [
    "df_pred.corr(method='kendall')"
   ]
  },
  {
   "cell_type": "markdown",
   "metadata": {},
   "source": [
    "## Cross validation, train-test split and grid search"
   ]
  },
  {
   "cell_type": "markdown",
   "metadata": {},
   "source": [
    "Example from https://surprise.readthedocs.io/en/stable/FAQ.html?highlight=raw_ratings"
   ]
  },
  {
   "cell_type": "code",
   "execution_count": 20,
   "metadata": {},
   "outputs": [
    {
     "name": "stdout",
     "output_type": "stream",
     "text": [
      "90000\n",
      "10000\n"
     ]
    }
   ],
   "source": [
    "import random\n",
    "\n",
    "raw_ratings = data_1.raw_ratings\n",
    "np.random.seed(1)\n",
    "# shuffle ratings if you want\n",
    "random.shuffle(raw_ratings)\n",
    "\n",
    "# A = 90% of the data, B = 10% of the data\n",
    "threshold = int(.9 * len(raw_ratings))\n",
    "A_raw_ratings = raw_ratings[:threshold]\n",
    "B_raw_ratings = raw_ratings[threshold:]\n",
    "\n",
    "print(len(A_raw_ratings))\n",
    "print(len(B_raw_ratings))\n",
    "\n",
    "data_1.raw_ratings = A_raw_ratings  # data is now the set A"
   ]
  },
  {
   "cell_type": "code",
   "execution_count": 21,
   "metadata": {},
   "outputs": [
    {
     "data": {
      "text/plain": [
       "90000"
      ]
     },
     "execution_count": 21,
     "metadata": {},
     "output_type": "execute_result"
    }
   ],
   "source": [
    "len(data_1.raw_ratings)"
   ]
  },
  {
   "cell_type": "code",
   "execution_count": 22,
   "metadata": {},
   "outputs": [],
   "source": [
    "algo = sur.SVD(random_state=1)"
   ]
  },
  {
   "cell_type": "code",
   "execution_count": 23,
   "metadata": {},
   "outputs": [
    {
     "data": {
      "text/html": [
       "<div>\n",
       "<style scoped>\n",
       "    .dataframe tbody tr th:only-of-type {\n",
       "        vertical-align: middle;\n",
       "    }\n",
       "\n",
       "    .dataframe tbody tr th {\n",
       "        vertical-align: top;\n",
       "    }\n",
       "\n",
       "    .dataframe thead th {\n",
       "        text-align: right;\n",
       "    }\n",
       "</style>\n",
       "<table border=\"1\" class=\"dataframe\">\n",
       "  <thead>\n",
       "    <tr style=\"text-align: right;\">\n",
       "      <th></th>\n",
       "      <th>fit_time</th>\n",
       "      <th>test_mae</th>\n",
       "      <th>test_rmse</th>\n",
       "      <th>test_time</th>\n",
       "    </tr>\n",
       "  </thead>\n",
       "  <tbody>\n",
       "    <tr>\n",
       "      <th>0</th>\n",
       "      <td>5.989281</td>\n",
       "      <td>0.743278</td>\n",
       "      <td>0.940799</td>\n",
       "      <td>0.192138</td>\n",
       "    </tr>\n",
       "    <tr>\n",
       "      <th>1</th>\n",
       "      <td>5.255978</td>\n",
       "      <td>0.743624</td>\n",
       "      <td>0.942257</td>\n",
       "      <td>0.263304</td>\n",
       "    </tr>\n",
       "    <tr>\n",
       "      <th>2</th>\n",
       "      <td>5.244913</td>\n",
       "      <td>0.743590</td>\n",
       "      <td>0.942998</td>\n",
       "      <td>0.177231</td>\n",
       "    </tr>\n",
       "    <tr>\n",
       "      <th>3</th>\n",
       "      <td>5.252482</td>\n",
       "      <td>0.741212</td>\n",
       "      <td>0.940618</td>\n",
       "      <td>0.178907</td>\n",
       "    </tr>\n",
       "    <tr>\n",
       "      <th>4</th>\n",
       "      <td>5.266331</td>\n",
       "      <td>0.741280</td>\n",
       "      <td>0.942785</td>\n",
       "      <td>0.174539</td>\n",
       "    </tr>\n",
       "  </tbody>\n",
       "</table>\n",
       "</div>"
      ],
      "text/plain": [
       "   fit_time  test_mae  test_rmse  test_time\n",
       "0  5.989281  0.743278   0.940799   0.192138\n",
       "1  5.255978  0.743624   0.942257   0.263304\n",
       "2  5.244913  0.743590   0.942998   0.177231\n",
       "3  5.252482  0.741212   0.940618   0.178907\n",
       "4  5.266331  0.741280   0.942785   0.174539"
      ]
     },
     "execution_count": 23,
     "metadata": {},
     "output_type": "execute_result"
    }
   ],
   "source": [
    "cv_results = sur.model_selection.cross_validate(algo, data_1, measures=['RMSE', 'MAE'], cv=5)\n",
    "pd.DataFrame(cv_results)"
   ]
  },
  {
   "cell_type": "code",
   "execution_count": 24,
   "metadata": {},
   "outputs": [
    {
     "name": "stdout",
     "output_type": "stream",
     "text": [
      "Grid Search...\n",
      "Biased accuracy on A,   RMSE: 0.8372\n",
      "Unbiased accuracy on B, RMSE: 0.9359\n",
      "Biased accuracy on C,   "
     ]
    },
    {
     "data": {
      "text/plain": [
       "0.5167336554323267"
      ]
     },
     "execution_count": 24,
     "metadata": {},
     "output_type": "execute_result"
    }
   ],
   "source": [
    "# Select your best algo with grid search.\n",
    "print('Grid Search...')\n",
    "param_grid = {'n_epochs': [5, 10], 'lr_all': [0.002, 0.005]}\n",
    "grid_search = sur.model_selection.GridSearchCV(sur.SVD, \n",
    "                                               param_grid, \n",
    "                                               measures=['rmse'], \n",
    "                                               cv=3,\n",
    "                                               refit=True)\n",
    "grid_search.fit(data_1)\n",
    "\n",
    "algo = grid_search.best_estimator['rmse']\n",
    "\n",
    "# retrain on the whole set A\n",
    "trainset = data_1.build_full_trainset()\n",
    "algo.fit(trainset);\n",
    "\n",
    "# Compute biased accuracy on A\n",
    "trainset_build = trainset.build_testset()\n",
    "predictions_train = algo.test(trainset_build)\n",
    "print('Biased accuracy on A,', end='   ')\n",
    "sur.accuracy.rmse(predictions_train)\n",
    "\n",
    "# Compute unbiased accuracy on B\n",
    "testset = data_1.construct_testset(B_raw_ratings)  # testset is now the set B\n",
    "predictions_test = algo.test(testset)\n",
    "print('Unbiased accuracy on B,', end=' ')\n",
    "sur.accuracy.rmse(predictions_test)\n",
    "\n",
    "# Compute biased accuracy on C\n",
    "# The anti-test set is the part where we did not have any ratings\n",
    "no_ratings = trainset.build_anti_testset()\n",
    "predictions_no_ratings = algo.test(no_ratings)\n",
    "print('Biased accuracy on C,', end='   ')\n",
    "sur.accuracy.rmse(predictions_no_ratings,verbose=False)"
   ]
  },
  {
   "cell_type": "code",
   "execution_count": 25,
   "metadata": {},
   "outputs": [
    {
     "name": "stdout",
     "output_type": "stream",
     "text": [
      "90000 10000 1482924\n"
     ]
    }
   ],
   "source": [
    "print(len(trainset_build), len(testset), len(no_ratings))"
   ]
  },
  {
   "cell_type": "code",
   "execution_count": 26,
   "metadata": {},
   "outputs": [
    {
     "name": "stdout",
     "output_type": "stream",
     "text": [
      "user: 776        item: 28         r_ui = 5.00   est = 3.62   {'was_impossible': False}\n",
      "user: 567        item: 429        r_ui = 4.00   est = 3.97   {'was_impossible': False}\n",
      "user: 776        item: 275        r_ui = 3.53   est = 3.91   {'was_impossible': False}\n"
     ]
    }
   ],
   "source": [
    "print(predictions_train[0])\n",
    "print(predictions_test[0])\n",
    "print(predictions_no_ratings[0])"
   ]
  },
  {
   "cell_type": "code",
   "execution_count": 27,
   "metadata": {},
   "outputs": [
    {
     "name": "stdout",
     "output_type": "stream",
     "text": [
      "Training set mean: 3.52997\n"
     ]
    }
   ],
   "source": [
    "# extract model parameters\n",
    "mu = algo.default_prediction()\n",
    "print(f'Training set mean: {mu:.6}')\n",
    "bu = algo.bu\n",
    "bi = algo.bi\n",
    "pu = algo.pu\n",
    "qi = algo.qi\n",
    "puqi = pu.dot(qi.T)"
   ]
  },
  {
   "cell_type": "code",
   "execution_count": 28,
   "metadata": {},
   "outputs": [
    {
     "name": "stdout",
     "output_type": "stream",
     "text": [
      "user: 776        item: 607        r_ui = 4.00   est = 3.85   {'was_impossible': False}\n",
      "\n",
      "Results agree: -4.440892098500626e-16\n"
     ]
    }
   ],
   "source": [
    "# reconstruct predictions\n",
    "i = 10\n",
    "print(predictions_train[i])\n",
    "print()\n",
    "uid = predictions_train[i].uid\n",
    "iid = predictions_train[i].iid\n",
    "u_inner = trainset.to_inner_uid(uid)\n",
    "i_inner = trainset.to_inner_iid(iid)\n",
    "\n",
    "pred_calc = mu + bu[u_inner] + bi[i_inner] + puqi[u_inner,i_inner]\n",
    "print('Results agree:', predictions_train[i].est - pred_calc)"
   ]
  },
  {
   "cell_type": "markdown",
   "metadata": {},
   "source": [
    "## Slope One\n",
    "\n",
    "Repeat the same steps with the slope one model."
   ]
  },
  {
   "cell_type": "code",
   "execution_count": 29,
   "metadata": {},
   "outputs": [],
   "source": [
    "algo = sur.SlopeOne()"
   ]
  },
  {
   "cell_type": "code",
   "execution_count": 30,
   "metadata": {},
   "outputs": [
    {
     "name": "stdout",
     "output_type": "stream",
     "text": [
      "Biased accuracy on A,   RMSE: 0.8479\n",
      "Unbiased accuracy on B, RMSE: 0.9328\n",
      "Biased accuracy on C,   "
     ]
    },
    {
     "data": {
      "text/plain": [
       "0.9469852686539765"
      ]
     },
     "execution_count": 30,
     "metadata": {},
     "output_type": "execute_result"
    }
   ],
   "source": [
    "algo.fit(trainset)\n",
    "# Compute biased accuracy on A\n",
    "predictions_train = algo.test(trainset_build)\n",
    "print('Biased accuracy on A,', end='   ')\n",
    "sur.accuracy.rmse(predictions_train)\n",
    "\n",
    "# Compute unbiased accuracy on B\n",
    "predictions_test = algo.test(testset)\n",
    "print('Unbiased accuracy on B,', end=' ')\n",
    "sur.accuracy.rmse(predictions_test)\n",
    "\n",
    "# Compute biased accuracy on A\n",
    "predictions_no_ratings = algo.test(no_ratings)\n",
    "print('Biased accuracy on C,', end='   ')\n",
    "sur.accuracy.rmse(predictions_no_ratings,verbose=False)"
   ]
  },
  {
   "cell_type": "markdown",
   "metadata": {},
   "source": [
    "## KNN with Means\n",
    "\n",
    "Repeat the same steps with the kNN with means model."
   ]
  },
  {
   "cell_type": "code",
   "execution_count": 31,
   "metadata": {},
   "outputs": [],
   "source": [
    "algo = sur.KNNWithMeans()"
   ]
  },
  {
   "cell_type": "code",
   "execution_count": 32,
   "metadata": {},
   "outputs": [
    {
     "name": "stdout",
     "output_type": "stream",
     "text": [
      "Computing the msd similarity matrix...\n",
      "Done computing similarity matrix.\n",
      "Biased accuracy on A,   RMSE: 0.7659\n",
      "Unbiased accuracy on B, RMSE: 0.9393\n",
      "Biased accuracy on C,   "
     ]
    },
    {
     "data": {
      "text/plain": [
       "0.7836980465373157"
      ]
     },
     "execution_count": 32,
     "metadata": {},
     "output_type": "execute_result"
    }
   ],
   "source": [
    "algo.fit(trainset)\n",
    "# Compute biased accuracy on A\n",
    "predictions_train = algo.test(trainset_build)\n",
    "print('Biased accuracy on A,', end='   ')\n",
    "sur.accuracy.rmse(predictions_train)\n",
    "\n",
    "# Compute unbiased accuracy on B\n",
    "predictions_test = algo.test(testset)\n",
    "print('Unbiased accuracy on B,', end=' ')\n",
    "sur.accuracy.rmse(predictions_test)\n",
    "\n",
    "# Compute biased accuracy on A\n",
    "predictions_no_ratings = algo.test(no_ratings)\n",
    "print('Biased accuracy on C,', end='   ')\n",
    "sur.accuracy.rmse(predictions_no_ratings,verbose=False)"
   ]
  },
  {
   "cell_type": "code",
   "execution_count": 33,
   "metadata": {},
   "outputs": [
    {
     "name": "stdout",
     "output_type": "stream",
     "text": [
      "Grid Search...\n",
      "Computing the msd similarity matrix...\n",
      "Done computing similarity matrix.\n",
      "Computing the msd similarity matrix...\n",
      "Done computing similarity matrix.\n",
      "Computing the msd similarity matrix...\n",
      "Done computing similarity matrix.\n",
      "Computing the msd similarity matrix...\n",
      "Done computing similarity matrix.\n",
      "Computing the msd similarity matrix...\n",
      "Done computing similarity matrix.\n",
      "Computing the msd similarity matrix...\n",
      "Done computing similarity matrix.\n",
      "Computing the msd similarity matrix...\n",
      "Done computing similarity matrix.\n",
      "Computing the msd similarity matrix...\n",
      "Done computing similarity matrix.\n",
      "Computing the msd similarity matrix...\n",
      "Done computing similarity matrix.\n",
      "Computing the msd similarity matrix...\n",
      "Done computing similarity matrix.\n",
      "Computing the msd similarity matrix...\n",
      "Done computing similarity matrix.\n",
      "Computing the msd similarity matrix...\n",
      "Done computing similarity matrix.\n",
      "Computing the msd similarity matrix...\n",
      "Done computing similarity matrix.\n",
      "Computing the msd similarity matrix...\n",
      "Done computing similarity matrix.\n",
      "Biased accuracy on A,   RMSE: 0.7659\n",
      "Unbiased accuracy on B, RMSE: 0.9393\n",
      "Biased accuracy on C,   "
     ]
    },
    {
     "data": {
      "text/plain": [
       "0.7836980465373157"
      ]
     },
     "execution_count": 33,
     "metadata": {},
     "output_type": "execute_result"
    }
   ],
   "source": [
    "# Select your best algo with grid search.\n",
    "print('Grid Search...')\n",
    "param_grid = {'n_epochs': [5, 10], 'lr_all': [0.002, 0.005]}\n",
    "grid_search = sur.model_selection.GridSearchCV(sur.KNNWithMeans, \n",
    "                                               param_grid, \n",
    "                                               measures=['rmse'], \n",
    "                                               cv=3,\n",
    "                                               refit=True)\n",
    "grid_search.fit(data_1)\n",
    "\n",
    "algo = grid_search.best_estimator['rmse']\n",
    "\n",
    "# retrain on the whole set A\n",
    "trainset = data_1.build_full_trainset()\n",
    "algo.fit(trainset);\n",
    "\n",
    "# Compute biased accuracy on A\n",
    "trainset_build = trainset.build_testset()\n",
    "predictions_train = algo.test(trainset_build)\n",
    "print('Biased accuracy on A,', end='   ')\n",
    "sur.accuracy.rmse(predictions_train)\n",
    "\n",
    "# Compute unbiased accuracy on B\n",
    "testset = data_1.construct_testset(B_raw_ratings)  # testset is now the set B\n",
    "predictions_test = algo.test(testset)\n",
    "print('Unbiased accuracy on B,', end=' ')\n",
    "sur.accuracy.rmse(predictions_test)\n",
    "\n",
    "# Compute biased accuracy on A\n",
    "no_ratings = trainset.build_anti_testset()\n",
    "predictions_no_ratings = algo.test(no_ratings)\n",
    "print('Biased accuracy on C,', end='   ')\n",
    "sur.accuracy.rmse(predictions_no_ratings,verbose=False)"
   ]
  },
  {
   "cell_type": "markdown",
   "metadata": {},
   "source": [
    "## Precision@k and Recall@k\n",
    "\n",
    "Obtain  precision@k and recall@k following the [example](https://surprise.readthedocs.io/en/stable/FAQ.html#how-to-compute-precision-k-and-recall-k)."
   ]
  },
  {
   "cell_type": "code",
   "execution_count": 34,
   "metadata": {},
   "outputs": [],
   "source": [
    "from collections import defaultdict\n",
    "\n",
    "\n",
    "def precision_recall_at_k(predictions, k=10, threshold=3.5):\n",
    "    '''Return precision and recall at k metrics for each user.'''\n",
    "\n",
    "    # First map the predictions to each user.\n",
    "    user_est_true = defaultdict(list)\n",
    "    for uid, _, true_r, est, _ in predictions:\n",
    "        user_est_true[uid].append((est, true_r))\n",
    "\n",
    "    precisions = dict()\n",
    "    recalls = dict()\n",
    "    f1s = dict()\n",
    "    for uid, user_ratings in user_est_true.items():\n",
    "\n",
    "        # Sort user ratings by estimated value\n",
    "        user_ratings.sort(key=lambda x: x[0], reverse=True)\n",
    "\n",
    "        # Number of relevant items\n",
    "        n_rel = sum((true_r >= threshold) for (_, true_r) in user_ratings)\n",
    "\n",
    "        # Number of recommended items in top k\n",
    "        n_rec_k = sum((est >= threshold) for (est, _) in user_ratings[:k])\n",
    "\n",
    "        # Number of relevant and recommended items in top k\n",
    "        n_rel_and_rec_k = sum(((true_r >= threshold) and (est >= threshold))\n",
    "                              for (est, true_r) in user_ratings[:k])\n",
    "\n",
    "        # Precision@K: Proportion of recommended items that are relevant\n",
    "        precisions[uid] = n_rel_and_rec_k / n_rec_k if n_rec_k != 0 else 1\n",
    "\n",
    "        # Recall@K: Proportion of relevant items that are recommended\n",
    "        recalls[uid] = n_rel_and_rec_k / n_rel if n_rel != 0 else 1\n",
    "\n",
    "        # F1@K:\n",
    "        f1s[uid] = 2*precisions[uid]*recalls[uid]/(precisions[uid]+recalls[uid]) if (precisions[uid]+recalls[uid]) != 0 else 1\n",
    "    \n",
    "    return precisions, recalls, f1s"
   ]
  },
  {
   "cell_type": "code",
   "execution_count": 35,
   "metadata": {},
   "outputs": [
    {
     "name": "stdout",
     "output_type": "stream",
     "text": [
      "0.9988865323435844\n",
      "0.12815144354275632\n",
      "0.2105663517054559\n"
     ]
    }
   ],
   "source": [
    "precisions, recalls, f1s = precision_recall_at_k(predictions_train, k=5, threshold=4)\n",
    "\n",
    "    # Precision and recall can then be averaged over all users\n",
    "print(np.mean(list(precisions.values())))\n",
    "print(np.mean(list(recalls.values())))\n",
    "print(np.mean(list(f1s.values())))"
   ]
  },
  {
   "cell_type": "code",
   "execution_count": 36,
   "metadata": {},
   "outputs": [
    {
     "name": "stdout",
     "output_type": "stream",
     "text": [
      "0.9163047412233081\n",
      "0.3498691151869795\n",
      "0.40068550218176785\n"
     ]
    }
   ],
   "source": [
    "precisions, recalls, f1s = precision_recall_at_k(predictions_test, k=5, threshold=4)\n",
    "\n",
    "    # Precision and recall can then be averaged over all users\n",
    "print(np.mean(list(precisions.values())))\n",
    "print(np.mean(list(recalls.values())))\n",
    "print(np.mean(list(f1s.values())))"
   ]
  },
  {
   "cell_type": "markdown",
   "metadata": {},
   "source": [
    "## Top-n predictions\n",
    "\n",
    "Obtain the n top-ranked predictions for each user following the [example](https://surprise.readthedocs.io/en/stable/FAQ.html#how-to-get-the-top-n-recommendations-for-each-user)."
   ]
  },
  {
   "cell_type": "code",
   "execution_count": 37,
   "metadata": {},
   "outputs": [],
   "source": [
    "from collections import defaultdict\n",
    "\n",
    "\n",
    "def get_top_n(predictions, n=10):\n",
    "    '''Return the top-N recommendation for each user from a set of predictions.\n",
    "\n",
    "    Args:\n",
    "        predictions(list of Prediction objects): The list of predictions, as\n",
    "            returned by the test method of an algorithm.\n",
    "        n(int): The number of recommendation to output for each user. Default\n",
    "            is 10.\n",
    "\n",
    "    Returns:\n",
    "    A dict where keys are user (raw) ids and values are lists of tuples:\n",
    "        [(raw item id, rating estimation), ...] of size n.\n",
    "    '''\n",
    "\n",
    "    # First map the predictions to each user.\n",
    "    top_n = defaultdict(list)\n",
    "    for uid, iid, true_r, est, _ in predictions:\n",
    "        top_n[uid].append((iid, est))\n",
    "\n",
    "    # Then sort the predictions for each user and retrieve the k highest ones.\n",
    "    for uid, user_ratings in top_n.items():\n",
    "        user_ratings.sort(key=lambda x: x[1], reverse=True)\n",
    "        top_n[uid] = user_ratings[:n]\n",
    "\n",
    "    return top_n\n"
   ]
  },
  {
   "cell_type": "code",
   "execution_count": 38,
   "metadata": {},
   "outputs": [],
   "source": [
    "top_n = {}"
   ]
  },
  {
   "cell_type": "code",
   "execution_count": 39,
   "metadata": {},
   "outputs": [],
   "source": [
    "top_n = get_top_n(predictions_train, n=10)"
   ]
  },
  {
   "cell_type": "code",
   "execution_count": 40,
   "metadata": {},
   "outputs": [
    {
     "data": {
      "text/plain": [
       "943"
      ]
     },
     "execution_count": 40,
     "metadata": {},
     "output_type": "execute_result"
    }
   ],
   "source": [
    "len(top_n.keys())"
   ]
  },
  {
   "cell_type": "code",
   "execution_count": 41,
   "metadata": {},
   "outputs": [],
   "source": [
    "top_n_list = []\n",
    "for key in top_n.keys():\n",
    "    for val in top_n[key]:\n",
    "        top_n_list.append([key,val[0],val[1]])"
   ]
  },
  {
   "cell_type": "code",
   "execution_count": 42,
   "metadata": {},
   "outputs": [
    {
     "data": {
      "text/plain": [
       "9430"
      ]
     },
     "execution_count": 42,
     "metadata": {},
     "output_type": "execute_result"
    }
   ],
   "source": [
    "len(top_n_list)"
   ]
  },
  {
   "cell_type": "code",
   "execution_count": 43,
   "metadata": {},
   "outputs": [
    {
     "data": {
      "text/html": [
       "<div>\n",
       "<style scoped>\n",
       "    .dataframe tbody tr th:only-of-type {\n",
       "        vertical-align: middle;\n",
       "    }\n",
       "\n",
       "    .dataframe tbody tr th {\n",
       "        vertical-align: top;\n",
       "    }\n",
       "\n",
       "    .dataframe thead th {\n",
       "        text-align: right;\n",
       "    }\n",
       "</style>\n",
       "<table border=\"1\" class=\"dataframe\">\n",
       "  <thead>\n",
       "    <tr style=\"text-align: right;\">\n",
       "      <th></th>\n",
       "      <th>uid</th>\n",
       "      <th>iid</th>\n",
       "      <th>est</th>\n",
       "    </tr>\n",
       "  </thead>\n",
       "  <tbody>\n",
       "    <tr>\n",
       "      <th>0</th>\n",
       "      <td>776</td>\n",
       "      <td>50</td>\n",
       "      <td>4.677278</td>\n",
       "    </tr>\n",
       "    <tr>\n",
       "      <th>1</th>\n",
       "      <td>776</td>\n",
       "      <td>127</td>\n",
       "      <td>4.583176</td>\n",
       "    </tr>\n",
       "    <tr>\n",
       "      <th>2</th>\n",
       "      <td>776</td>\n",
       "      <td>483</td>\n",
       "      <td>4.310872</td>\n",
       "    </tr>\n",
       "    <tr>\n",
       "      <th>3</th>\n",
       "      <td>776</td>\n",
       "      <td>22</td>\n",
       "      <td>4.298621</td>\n",
       "    </tr>\n",
       "    <tr>\n",
       "      <th>4</th>\n",
       "      <td>776</td>\n",
       "      <td>89</td>\n",
       "      <td>4.225043</td>\n",
       "    </tr>\n",
       "  </tbody>\n",
       "</table>\n",
       "</div>"
      ],
      "text/plain": [
       "   uid  iid       est\n",
       "0  776   50  4.677278\n",
       "1  776  127  4.583176\n",
       "2  776  483  4.310872\n",
       "3  776   22  4.298621\n",
       "4  776   89  4.225043"
      ]
     },
     "execution_count": 43,
     "metadata": {},
     "output_type": "execute_result"
    }
   ],
   "source": [
    "df_top = pd.DataFrame(top_n_list,columns=['uid','iid','est'])\n",
    "df_top.head()"
   ]
  },
  {
   "cell_type": "code",
   "execution_count": 44,
   "metadata": {},
   "outputs": [
    {
     "data": {
      "text/plain": [
       "(9430, 3)"
      ]
     },
     "execution_count": 44,
     "metadata": {},
     "output_type": "execute_result"
    }
   ],
   "source": [
    "df_top.shape"
   ]
  },
  {
   "cell_type": "markdown",
   "metadata": {},
   "source": [
    "### Coverage\n",
    "\n",
    "Calculate the coverage of the top-ranked recommendations"
   ]
  },
  {
   "cell_type": "code",
   "execution_count": 45,
   "metadata": {},
   "outputs": [
    {
     "data": {
      "text/plain": [
       "0.32461355529131986"
      ]
     },
     "execution_count": 45,
     "metadata": {},
     "output_type": "execute_result"
    }
   ],
   "source": [
    "len(df_top.iid.unique())/1682"
   ]
  },
  {
   "cell_type": "markdown",
   "metadata": {},
   "source": [
    "### Novelty\n",
    "\n",
    "Calculate the novelty of the top-ranked recommendations."
   ]
  },
  {
   "cell_type": "code",
   "execution_count": 46,
   "metadata": {},
   "outputs": [],
   "source": [
    "df_top['iid_offset'] = df_top.iid+1000"
   ]
  },
  {
   "cell_type": "code",
   "execution_count": 47,
   "metadata": {},
   "outputs": [
    {
     "name": "stdout",
     "output_type": "stream",
     "text": [
      "Name: \n",
      "Type: Graph\n",
      "Number of nodes: 1489\n",
      "Number of edges: 9430\n",
      "Average degree:  12.6662\n",
      "Novelty: 101.86977730646879\n"
     ]
    },
    {
     "data": {
      "image/png": "[encoded data removed]",
      "text/plain": [
       "<matplotlib.figure.Figure at 0x1a350ec5f8>"
      ]
     },
     "metadata": {
      "image/png": {
       "height": 252,
       "width": 379
      }
     },
     "output_type": "display_data"
    }
   ],
   "source": [
    "import networkx as nx\n",
    "from networkx.algorithms import bipartite\n",
    "\n",
    "G = nx.Graph()\n",
    "\n",
    "G.add_nodes_from(df_top['uid'], bipartite=0)\n",
    "G.add_nodes_from(df_top['iid_offset'], bipartite=1)\n",
    "G.add_edges_from(df_top[['uid','iid_offset']].values)\n",
    "\n",
    "print(nx.info(G))\n",
    "\n",
    "grouped = df_top.groupby('uid')['iid_offset']\n",
    "print('Novelty:', grouped.apply(lambda x: G.degree(x)).apply(lambda x: np.mean([xx[1] for xx in x])).mean())\n",
    "\n",
    "plt.hist([x[1] for x in list(dict(G.degree()).items()) if x[0]>1000])\n",
    "plt.yscale('log');"
   ]
  },
  {
   "cell_type": "markdown",
   "metadata": {},
   "source": [
    "### Evaluate the similarity of the top-k predictions between all pairs of users\n",
    "\n",
    "Form a user-item matrix with ones indicating the top movies recommended to each user.\n",
    "Use scipy's `pdist` function to calculate the similarities of all pairs of rows.\n",
    "\n"
   ]
  },
  {
   "cell_type": "code",
   "execution_count": 48,
   "metadata": {},
   "outputs": [],
   "source": [
    "from scipy import sparse\n",
    "from scipy.spatial.distance import pdist"
   ]
  },
  {
   "cell_type": "code",
   "execution_count": 49,
   "metadata": {},
   "outputs": [],
   "source": [
    "A = sparse.csc_matrix((np.ones(len(df_top)),(df_top.uid.values-1,df_top.iid.values-1)))"
   ]
  },
  {
   "cell_type": "code",
   "execution_count": 50,
   "metadata": {},
   "outputs": [
    {
     "data": {
      "text/plain": [
       "(444153,)"
      ]
     },
     "execution_count": 50,
     "metadata": {},
     "output_type": "execute_result"
    }
   ],
   "source": [
    "distances = pdist(A.toarray(),metric='cosine')\n",
    "distances.shape"
   ]
  },
  {
   "cell_type": "code",
   "execution_count": 51,
   "metadata": {},
   "outputs": [
    {
     "data": {
      "text/plain": [
       "0.8929195569995027"
      ]
     },
     "execution_count": 51,
     "metadata": {},
     "output_type": "execute_result"
    }
   ],
   "source": [
    "distances.mean()"
   ]
  },
  {
   "cell_type": "code",
   "execution_count": 52,
   "metadata": {},
   "outputs": [
    {
     "data": {
      "image/png": "[encoded data removed]",
      "text/plain": [
       "<matplotlib.figure.Figure at 0x1a3758f5c0>"
      ]
     },
     "metadata": {
      "image/png": {
       "height": 252,
       "width": 379
      }
     },
     "output_type": "display_data"
    }
   ],
   "source": [
    "plt.hist(distances,bins=np.arange(0.05,1.05,0.1))\n",
    "plt.yscale('log');"
   ]
  },
  {
   "cell_type": "code",
   "execution_count": 53,
   "metadata": {},
   "outputs": [
    {
     "data": {
      "text/plain": [
       "(1380291,)"
      ]
     },
     "execution_count": 53,
     "metadata": {},
     "output_type": "execute_result"
    }
   ],
   "source": [
    "distances = pdist(A.T.toarray()+10**(-16),metric='cosine')\n",
    "distances.shape"
   ]
  },
  {
   "cell_type": "code",
   "execution_count": 54,
   "metadata": {},
   "outputs": [
    {
     "data": {
      "text/plain": [
       "0.5050592219682843"
      ]
     },
     "execution_count": 54,
     "metadata": {},
     "output_type": "execute_result"
    }
   ],
   "source": [
    "distances.mean()"
   ]
  },
  {
   "cell_type": "code",
   "execution_count": 55,
   "metadata": {},
   "outputs": [
    {
     "data": {
      "image/png": "[encoded data removed]",
      "text/plain": [
       "<matplotlib.figure.Figure at 0x1a414c47b8>"
      ]
     },
     "metadata": {
      "image/png": {
       "height": 252,
       "width": 379
      }
     },
     "output_type": "display_data"
    }
   ],
   "source": [
    "plt.hist(distances,bins=np.arange(0.05,1.05,0.1))\n",
    "plt.yscale('log');"
   ]
  },
  {
   "cell_type": "code",
   "execution_count": 56,
   "metadata": {},
   "outputs": [
    {
     "data": {
      "image/png": "[encoded data removed]",
      "text/plain": [
       "<matplotlib.figure.Figure at 0x1a4191d208>"
      ]
     },
     "metadata": {
      "image/png": {
       "height": 252,
       "width": 379
      }
     },
     "output_type": "display_data"
    }
   ],
   "source": [
    "plt.hist(A.sum(axis=0).A1,bins=np.linspace(0,350,20))\n",
    "plt.yscale('log');"
   ]
  },
  {
   "cell_type": "markdown",
   "metadata": {},
   "source": [
    "### Content data\n",
    "\n",
    "Now work with the further data files containing content information. They can be found in \n",
    "\n",
    "`.surprise_data/ml-100k/ml-100k/u.item`\n",
    "\n",
    "`.surprise_data/ml-100k/ml-100k/u.user`\n",
    "\n",
    "Take the movie data into account to evaluate the similarity of the recommended films regarding genre. \n",
    "\n",
    "\n",
    "Translate the recommended movie ids into movie titles."
   ]
  },
  {
   "cell_type": "code",
   "execution_count": 57,
   "metadata": {},
   "outputs": [
    {
     "data": {
      "text/html": [
       "<div>\n",
       "<style scoped>\n",
       "    .dataframe tbody tr th:only-of-type {\n",
       "        vertical-align: middle;\n",
       "    }\n",
       "\n",
       "    .dataframe tbody tr th {\n",
       "        vertical-align: top;\n",
       "    }\n",
       "\n",
       "    .dataframe thead th {\n",
       "        text-align: right;\n",
       "    }\n",
       "</style>\n",
       "<table border=\"1\" class=\"dataframe\">\n",
       "  <thead>\n",
       "    <tr style=\"text-align: right;\">\n",
       "      <th></th>\n",
       "      <th>user_id</th>\n",
       "      <th>age</th>\n",
       "      <th>gender</th>\n",
       "      <th>occupation</th>\n",
       "      <th>zip_code</th>\n",
       "    </tr>\n",
       "  </thead>\n",
       "  <tbody>\n",
       "    <tr>\n",
       "      <th>0</th>\n",
       "      <td>1</td>\n",
       "      <td>24</td>\n",
       "      <td>M</td>\n",
       "      <td>technician</td>\n",
       "      <td>85711</td>\n",
       "    </tr>\n",
       "    <tr>\n",
       "      <th>1</th>\n",
       "      <td>2</td>\n",
       "      <td>53</td>\n",
       "      <td>F</td>\n",
       "      <td>other</td>\n",
       "      <td>94043</td>\n",
       "    </tr>\n",
       "    <tr>\n",
       "      <th>2</th>\n",
       "      <td>3</td>\n",
       "      <td>23</td>\n",
       "      <td>M</td>\n",
       "      <td>writer</td>\n",
       "      <td>32067</td>\n",
       "    </tr>\n",
       "    <tr>\n",
       "      <th>3</th>\n",
       "      <td>4</td>\n",
       "      <td>24</td>\n",
       "      <td>M</td>\n",
       "      <td>technician</td>\n",
       "      <td>43537</td>\n",
       "    </tr>\n",
       "    <tr>\n",
       "      <th>4</th>\n",
       "      <td>5</td>\n",
       "      <td>33</td>\n",
       "      <td>F</td>\n",
       "      <td>other</td>\n",
       "      <td>15213</td>\n",
       "    </tr>\n",
       "  </tbody>\n",
       "</table>\n",
       "</div>"
      ],
      "text/plain": [
       "   user_id  age gender  occupation zip_code\n",
       "0        1   24      M  technician    85711\n",
       "1        2   53      F       other    94043\n",
       "2        3   23      M      writer    32067\n",
       "3        4   24      M  technician    43537\n",
       "4        5   33      F       other    15213"
      ]
     },
     "execution_count": 57,
     "metadata": {},
     "output_type": "execute_result"
    }
   ],
   "source": [
    "df_users = pd.read_csv('/Users/crahmede/.surprise_data/ml-100k/ml-100k/u.user',sep='|',header=None)\n",
    "df_users.columns = ['user_id','age','gender','occupation','zip_code']\n",
    "df_users.head()"
   ]
  },
  {
   "cell_type": "code",
   "execution_count": 58,
   "metadata": {},
   "outputs": [
    {
     "data": {
      "text/html": [
       "<div>\n",
       "<style scoped>\n",
       "    .dataframe tbody tr th:only-of-type {\n",
       "        vertical-align: middle;\n",
       "    }\n",
       "\n",
       "    .dataframe tbody tr th {\n",
       "        vertical-align: top;\n",
       "    }\n",
       "\n",
       "    .dataframe thead th {\n",
       "        text-align: right;\n",
       "    }\n",
       "</style>\n",
       "<table border=\"1\" class=\"dataframe\">\n",
       "  <thead>\n",
       "    <tr style=\"text-align: right;\">\n",
       "      <th></th>\n",
       "      <th>movie_id</th>\n",
       "      <th>movie_title</th>\n",
       "      <th>release_date</th>\n",
       "      <th>video_release_date</th>\n",
       "      <th>IMDb_URL</th>\n",
       "      <th>unknown</th>\n",
       "      <th>Action</th>\n",
       "      <th>Adventure</th>\n",
       "      <th>Animation</th>\n",
       "      <th>Children</th>\n",
       "      <th>...</th>\n",
       "      <th>Fantasy</th>\n",
       "      <th>FilmNoir</th>\n",
       "      <th>Horror</th>\n",
       "      <th>Musical</th>\n",
       "      <th>Mystery</th>\n",
       "      <th>Romance</th>\n",
       "      <th>SciFi</th>\n",
       "      <th>Thriller</th>\n",
       "      <th>War</th>\n",
       "      <th>Western</th>\n",
       "    </tr>\n",
       "  </thead>\n",
       "  <tbody>\n",
       "    <tr>\n",
       "      <th>0</th>\n",
       "      <td>1</td>\n",
       "      <td>Toy Story (1995)</td>\n",
       "      <td>01-Jan-1995</td>\n",
       "      <td>NaN</td>\n",
       "      <td>http://us.imdb.com/M/title-exact?Toy%20Story%2...</td>\n",
       "      <td>0</td>\n",
       "      <td>0</td>\n",
       "      <td>0</td>\n",
       "      <td>1</td>\n",
       "      <td>1</td>\n",
       "      <td>...</td>\n",
       "      <td>0</td>\n",
       "      <td>0</td>\n",
       "      <td>0</td>\n",
       "      <td>0</td>\n",
       "      <td>0</td>\n",
       "      <td>0</td>\n",
       "      <td>0</td>\n",
       "      <td>0</td>\n",
       "      <td>0</td>\n",
       "      <td>0</td>\n",
       "    </tr>\n",
       "    <tr>\n",
       "      <th>1</th>\n",
       "      <td>2</td>\n",
       "      <td>GoldenEye (1995)</td>\n",
       "      <td>01-Jan-1995</td>\n",
       "      <td>NaN</td>\n",
       "      <td>http://us.imdb.com/M/title-exact?GoldenEye%20(...</td>\n",
       "      <td>0</td>\n",
       "      <td>1</td>\n",
       "      <td>1</td>\n",
       "      <td>0</td>\n",
       "      <td>0</td>\n",
       "      <td>...</td>\n",
       "      <td>0</td>\n",
       "      <td>0</td>\n",
       "      <td>0</td>\n",
       "      <td>0</td>\n",
       "      <td>0</td>\n",
       "      <td>0</td>\n",
       "      <td>0</td>\n",
       "      <td>1</td>\n",
       "      <td>0</td>\n",
       "      <td>0</td>\n",
       "    </tr>\n",
       "    <tr>\n",
       "      <th>2</th>\n",
       "      <td>3</td>\n",
       "      <td>Four Rooms (1995)</td>\n",
       "      <td>01-Jan-1995</td>\n",
       "      <td>NaN</td>\n",
       "      <td>http://us.imdb.com/M/title-exact?Four%20Rooms%...</td>\n",
       "      <td>0</td>\n",
       "      <td>0</td>\n",
       "      <td>0</td>\n",
       "      <td>0</td>\n",
       "      <td>0</td>\n",
       "      <td>...</td>\n",
       "      <td>0</td>\n",
       "      <td>0</td>\n",
       "      <td>0</td>\n",
       "      <td>0</td>\n",
       "      <td>0</td>\n",
       "      <td>0</td>\n",
       "      <td>0</td>\n",
       "      <td>1</td>\n",
       "      <td>0</td>\n",
       "      <td>0</td>\n",
       "    </tr>\n",
       "    <tr>\n",
       "      <th>3</th>\n",
       "      <td>4</td>\n",
       "      <td>Get Shorty (1995)</td>\n",
       "      <td>01-Jan-1995</td>\n",
       "      <td>NaN</td>\n",
       "      <td>http://us.imdb.com/M/title-exact?Get%20Shorty%...</td>\n",
       "      <td>0</td>\n",
       "      <td>1</td>\n",
       "      <td>0</td>\n",
       "      <td>0</td>\n",
       "      <td>0</td>\n",
       "      <td>...</td>\n",
       "      <td>0</td>\n",
       "      <td>0</td>\n",
       "      <td>0</td>\n",
       "      <td>0</td>\n",
       "      <td>0</td>\n",
       "      <td>0</td>\n",
       "      <td>0</td>\n",
       "      <td>0</td>\n",
       "      <td>0</td>\n",
       "      <td>0</td>\n",
       "    </tr>\n",
       "    <tr>\n",
       "      <th>4</th>\n",
       "      <td>5</td>\n",
       "      <td>Copycat (1995)</td>\n",
       "      <td>01-Jan-1995</td>\n",
       "      <td>NaN</td>\n",
       "      <td>http://us.imdb.com/M/title-exact?Copycat%20(1995)</td>\n",
       "      <td>0</td>\n",
       "      <td>0</td>\n",
       "      <td>0</td>\n",
       "      <td>0</td>\n",
       "      <td>0</td>\n",
       "      <td>...</td>\n",
       "      <td>0</td>\n",
       "      <td>0</td>\n",
       "      <td>0</td>\n",
       "      <td>0</td>\n",
       "      <td>0</td>\n",
       "      <td>0</td>\n",
       "      <td>0</td>\n",
       "      <td>1</td>\n",
       "      <td>0</td>\n",
       "      <td>0</td>\n",
       "    </tr>\n",
       "  </tbody>\n",
       "</table>\n",
       "<p>5 rows × 24 columns</p>\n",
       "</div>"
      ],
      "text/plain": [
       "   movie_id        movie_title release_date  video_release_date  \\\n",
       "0         1   Toy Story (1995)  01-Jan-1995                 NaN   \n",
       "1         2   GoldenEye (1995)  01-Jan-1995                 NaN   \n",
       "2         3  Four Rooms (1995)  01-Jan-1995                 NaN   \n",
       "3         4  Get Shorty (1995)  01-Jan-1995                 NaN   \n",
       "4         5     Copycat (1995)  01-Jan-1995                 NaN   \n",
       "\n",
       "                                            IMDb_URL  unknown  Action  \\\n",
       "0  http://us.imdb.com/M/title-exact?Toy%20Story%2...        0       0   \n",
       "1  http://us.imdb.com/M/title-exact?GoldenEye%20(...        0       1   \n",
       "2  http://us.imdb.com/M/title-exact?Four%20Rooms%...        0       0   \n",
       "3  http://us.imdb.com/M/title-exact?Get%20Shorty%...        0       1   \n",
       "4  http://us.imdb.com/M/title-exact?Copycat%20(1995)        0       0   \n",
       "\n",
       "   Adventure  Animation  Children   ...     Fantasy  FilmNoir  Horror  \\\n",
       "0          0          1         1   ...           0         0       0   \n",
       "1          1          0         0   ...           0         0       0   \n",
       "2          0          0         0   ...           0         0       0   \n",
       "3          0          0         0   ...           0         0       0   \n",
       "4          0          0         0   ...           0         0       0   \n",
       "\n",
       "   Musical  Mystery  Romance  SciFi  Thriller  War  Western  \n",
       "0        0        0        0      0         0    0        0  \n",
       "1        0        0        0      0         1    0        0  \n",
       "2        0        0        0      0         1    0        0  \n",
       "3        0        0        0      0         0    0        0  \n",
       "4        0        0        0      0         1    0        0  \n",
       "\n",
       "[5 rows x 24 columns]"
      ]
     },
     "execution_count": 58,
     "metadata": {},
     "output_type": "execute_result"
    }
   ],
   "source": [
    "df_items = pd.read_csv('/Users/crahmede/.surprise_data/ml-100k/ml-100k/u.item',sep='|',header=None,encoding='latin')\n",
    "df_items.columns = ['movie_id','movie_title','release_date','video_release_date',\n",
    "              'IMDb_URL','unknown','Action','Adventure','Animation',\n",
    "              'Children','Comedy','Crime','Documentary','Drama','Fantasy',\n",
    "              'FilmNoir','Horror','Musical','Mystery','Romance','SciFi',\n",
    "              'Thriller','War','Western']\n",
    "df_items.head()"
   ]
  },
  {
   "cell_type": "markdown",
   "metadata": {},
   "source": [
    "#### How many films are attributed to a given number of genres"
   ]
  },
  {
   "cell_type": "code",
   "execution_count": 59,
   "metadata": {},
   "outputs": [
    {
     "data": {
      "text/plain": [
       "1    831\n",
       "2    569\n",
       "3    215\n",
       "4     51\n",
       "5     11\n",
       "6      3\n",
       "0      2\n",
       "dtype: int64"
      ]
     },
     "execution_count": 59,
     "metadata": {},
     "output_type": "execute_result"
    }
   ],
   "source": [
    "df_items.loc[:,'Action':].sum(axis=1).value_counts()"
   ]
  },
  {
   "cell_type": "markdown",
   "metadata": {},
   "source": [
    "#### Number of films per genre"
   ]
  },
  {
   "cell_type": "code",
   "execution_count": 60,
   "metadata": {},
   "outputs": [
    {
     "data": {
      "text/plain": [
       "unknown          2\n",
       "Action         251\n",
       "Adventure      135\n",
       "Animation       42\n",
       "Children       122\n",
       "Comedy         505\n",
       "Crime          109\n",
       "Documentary     50\n",
       "Drama          725\n",
       "Fantasy         22\n",
       "FilmNoir        24\n",
       "Horror          92\n",
       "Musical         56\n",
       "Mystery         61\n",
       "Romance        247\n",
       "SciFi          101\n",
       "Thriller       251\n",
       "War             71\n",
       "Western         27\n",
       "dtype: int64"
      ]
     },
     "execution_count": 60,
     "metadata": {},
     "output_type": "execute_result"
    }
   ],
   "source": [
    "df_items.loc[:,'unknown':].sum(axis=0)"
   ]
  },
  {
   "cell_type": "code",
   "execution_count": 61,
   "metadata": {},
   "outputs": [
    {
     "data": {
      "text/plain": [
       "array([nan])"
      ]
     },
     "execution_count": 61,
     "metadata": {},
     "output_type": "execute_result"
    }
   ],
   "source": [
    "df_items.video_release_date.unique()"
   ]
  },
  {
   "cell_type": "markdown",
   "metadata": {},
   "source": [
    "#### Get the movie titles"
   ]
  },
  {
   "cell_type": "code",
   "execution_count": 62,
   "metadata": {},
   "outputs": [],
   "source": [
    "df_items['movie_id_offset'] = (df_items.movie_id+1000)"
   ]
  },
  {
   "cell_type": "code",
   "execution_count": 63,
   "metadata": {},
   "outputs": [],
   "source": [
    "df_top['titles'] = df_top.iid_offset.map(lambda x: df_items.movie_title[df_items.movie_id_offset==x].values[0])"
   ]
  },
  {
   "cell_type": "code",
   "execution_count": 64,
   "metadata": {},
   "outputs": [
    {
     "data": {
      "text/html": [
       "<div>\n",
       "<style scoped>\n",
       "    .dataframe tbody tr th:only-of-type {\n",
       "        vertical-align: middle;\n",
       "    }\n",
       "\n",
       "    .dataframe tbody tr th {\n",
       "        vertical-align: top;\n",
       "    }\n",
       "\n",
       "    .dataframe thead th {\n",
       "        text-align: right;\n",
       "    }\n",
       "</style>\n",
       "<table border=\"1\" class=\"dataframe\">\n",
       "  <thead>\n",
       "    <tr style=\"text-align: right;\">\n",
       "      <th></th>\n",
       "      <th>uid</th>\n",
       "      <th>iid</th>\n",
       "      <th>est</th>\n",
       "      <th>iid_offset</th>\n",
       "      <th>titles</th>\n",
       "    </tr>\n",
       "  </thead>\n",
       "  <tbody>\n",
       "    <tr>\n",
       "      <th>0</th>\n",
       "      <td>776</td>\n",
       "      <td>50</td>\n",
       "      <td>4.677278</td>\n",
       "      <td>1050</td>\n",
       "      <td>Star Wars (1977)</td>\n",
       "    </tr>\n",
       "    <tr>\n",
       "      <th>1</th>\n",
       "      <td>776</td>\n",
       "      <td>127</td>\n",
       "      <td>4.583176</td>\n",
       "      <td>1127</td>\n",
       "      <td>Godfather, The (1972)</td>\n",
       "    </tr>\n",
       "    <tr>\n",
       "      <th>2</th>\n",
       "      <td>776</td>\n",
       "      <td>483</td>\n",
       "      <td>4.310872</td>\n",
       "      <td>1483</td>\n",
       "      <td>Casablanca (1942)</td>\n",
       "    </tr>\n",
       "    <tr>\n",
       "      <th>3</th>\n",
       "      <td>776</td>\n",
       "      <td>22</td>\n",
       "      <td>4.298621</td>\n",
       "      <td>1022</td>\n",
       "      <td>Braveheart (1995)</td>\n",
       "    </tr>\n",
       "    <tr>\n",
       "      <th>4</th>\n",
       "      <td>776</td>\n",
       "      <td>89</td>\n",
       "      <td>4.225043</td>\n",
       "      <td>1089</td>\n",
       "      <td>Blade Runner (1982)</td>\n",
       "    </tr>\n",
       "  </tbody>\n",
       "</table>\n",
       "</div>"
      ],
      "text/plain": [
       "   uid  iid       est  iid_offset                 titles\n",
       "0  776   50  4.677278        1050       Star Wars (1977)\n",
       "1  776  127  4.583176        1127  Godfather, The (1972)\n",
       "2  776  483  4.310872        1483      Casablanca (1942)\n",
       "3  776   22  4.298621        1022      Braveheart (1995)\n",
       "4  776   89  4.225043        1089    Blade Runner (1982)"
      ]
     },
     "execution_count": 64,
     "metadata": {},
     "output_type": "execute_result"
    }
   ],
   "source": [
    "df_top.head()"
   ]
  },
  {
   "cell_type": "code",
   "execution_count": 66,
   "metadata": {},
   "outputs": [
    {
     "data": {
      "text/plain": [
       "1480               Titanic (1997)\n",
       "1481        Godfather, The (1972)\n",
       "1482                 Fargo (1996)\n",
       "1483             Star Wars (1977)\n",
       "1484     Good Will Hunting (1997)\n",
       "1485     L.A. Confidential (1997)\n",
       "1486       Shall We Dance? (1996)\n",
       "1487    As Good As It Gets (1997)\n",
       "1488        Secrets & Lies (1996)\n",
       "1489                 Kolya (1996)\n",
       "Name: titles, dtype: object"
      ]
     },
     "execution_count": 66,
     "metadata": {},
     "output_type": "execute_result"
    }
   ],
   "source": [
    "df_top.groupby('uid')['titles'].get_group(2)"
   ]
  },
  {
   "cell_type": "markdown",
   "metadata": {},
   "source": [
    "#### Get the movie genres and calculate the intra-user diversity based on movie genre similarity"
   ]
  },
  {
   "cell_type": "code",
   "execution_count": 74,
   "metadata": {},
   "outputs": [
    {
     "data": {
      "text/html": [
       "<div>\n",
       "<style scoped>\n",
       "    .dataframe tbody tr th:only-of-type {\n",
       "        vertical-align: middle;\n",
       "    }\n",
       "\n",
       "    .dataframe tbody tr th {\n",
       "        vertical-align: top;\n",
       "    }\n",
       "\n",
       "    .dataframe thead th {\n",
       "        text-align: right;\n",
       "    }\n",
       "</style>\n",
       "<table border=\"1\" class=\"dataframe\">\n",
       "  <thead>\n",
       "    <tr style=\"text-align: right;\">\n",
       "      <th></th>\n",
       "      <th>Action</th>\n",
       "      <th>Adventure</th>\n",
       "      <th>Animation</th>\n",
       "      <th>Children</th>\n",
       "      <th>Comedy</th>\n",
       "      <th>Crime</th>\n",
       "      <th>Documentary</th>\n",
       "      <th>Drama</th>\n",
       "      <th>Fantasy</th>\n",
       "      <th>FilmNoir</th>\n",
       "      <th>Horror</th>\n",
       "      <th>Musical</th>\n",
       "      <th>Mystery</th>\n",
       "      <th>Romance</th>\n",
       "      <th>SciFi</th>\n",
       "      <th>Thriller</th>\n",
       "      <th>War</th>\n",
       "      <th>Western</th>\n",
       "    </tr>\n",
       "    <tr>\n",
       "      <th>movie_id_offset</th>\n",
       "      <th></th>\n",
       "      <th></th>\n",
       "      <th></th>\n",
       "      <th></th>\n",
       "      <th></th>\n",
       "      <th></th>\n",
       "      <th></th>\n",
       "      <th></th>\n",
       "      <th></th>\n",
       "      <th></th>\n",
       "      <th></th>\n",
       "      <th></th>\n",
       "      <th></th>\n",
       "      <th></th>\n",
       "      <th></th>\n",
       "      <th></th>\n",
       "      <th></th>\n",
       "      <th></th>\n",
       "    </tr>\n",
       "  </thead>\n",
       "  <tbody>\n",
       "    <tr>\n",
       "      <th>1001</th>\n",
       "      <td>0</td>\n",
       "      <td>0</td>\n",
       "      <td>1</td>\n",
       "      <td>1</td>\n",
       "      <td>1</td>\n",
       "      <td>0</td>\n",
       "      <td>0</td>\n",
       "      <td>0</td>\n",
       "      <td>0</td>\n",
       "      <td>0</td>\n",
       "      <td>0</td>\n",
       "      <td>0</td>\n",
       "      <td>0</td>\n",
       "      <td>0</td>\n",
       "      <td>0</td>\n",
       "      <td>0</td>\n",
       "      <td>0</td>\n",
       "      <td>0</td>\n",
       "    </tr>\n",
       "    <tr>\n",
       "      <th>1002</th>\n",
       "      <td>1</td>\n",
       "      <td>1</td>\n",
       "      <td>0</td>\n",
       "      <td>0</td>\n",
       "      <td>0</td>\n",
       "      <td>0</td>\n",
       "      <td>0</td>\n",
       "      <td>0</td>\n",
       "      <td>0</td>\n",
       "      <td>0</td>\n",
       "      <td>0</td>\n",
       "      <td>0</td>\n",
       "      <td>0</td>\n",
       "      <td>0</td>\n",
       "      <td>0</td>\n",
       "      <td>1</td>\n",
       "      <td>0</td>\n",
       "      <td>0</td>\n",
       "    </tr>\n",
       "    <tr>\n",
       "      <th>1003</th>\n",
       "      <td>0</td>\n",
       "      <td>0</td>\n",
       "      <td>0</td>\n",
       "      <td>0</td>\n",
       "      <td>0</td>\n",
       "      <td>0</td>\n",
       "      <td>0</td>\n",
       "      <td>0</td>\n",
       "      <td>0</td>\n",
       "      <td>0</td>\n",
       "      <td>0</td>\n",
       "      <td>0</td>\n",
       "      <td>0</td>\n",
       "      <td>0</td>\n",
       "      <td>0</td>\n",
       "      <td>1</td>\n",
       "      <td>0</td>\n",
       "      <td>0</td>\n",
       "    </tr>\n",
       "    <tr>\n",
       "      <th>1004</th>\n",
       "      <td>1</td>\n",
       "      <td>0</td>\n",
       "      <td>0</td>\n",
       "      <td>0</td>\n",
       "      <td>1</td>\n",
       "      <td>0</td>\n",
       "      <td>0</td>\n",
       "      <td>1</td>\n",
       "      <td>0</td>\n",
       "      <td>0</td>\n",
       "      <td>0</td>\n",
       "      <td>0</td>\n",
       "      <td>0</td>\n",
       "      <td>0</td>\n",
       "      <td>0</td>\n",
       "      <td>0</td>\n",
       "      <td>0</td>\n",
       "      <td>0</td>\n",
       "    </tr>\n",
       "    <tr>\n",
       "      <th>1005</th>\n",
       "      <td>0</td>\n",
       "      <td>0</td>\n",
       "      <td>0</td>\n",
       "      <td>0</td>\n",
       "      <td>0</td>\n",
       "      <td>1</td>\n",
       "      <td>0</td>\n",
       "      <td>1</td>\n",
       "      <td>0</td>\n",
       "      <td>0</td>\n",
       "      <td>0</td>\n",
       "      <td>0</td>\n",
       "      <td>0</td>\n",
       "      <td>0</td>\n",
       "      <td>0</td>\n",
       "      <td>1</td>\n",
       "      <td>0</td>\n",
       "      <td>0</td>\n",
       "    </tr>\n",
       "  </tbody>\n",
       "</table>\n",
       "</div>"
      ],
      "text/plain": [
       "                 Action  Adventure  Animation  Children  Comedy  Crime  \\\n",
       "movie_id_offset                                                          \n",
       "1001                  0          0          1         1       1      0   \n",
       "1002                  1          1          0         0       0      0   \n",
       "1003                  0          0          0         0       0      0   \n",
       "1004                  1          0          0         0       1      0   \n",
       "1005                  0          0          0         0       0      1   \n",
       "\n",
       "                 Documentary  Drama  Fantasy  FilmNoir  Horror  Musical  \\\n",
       "movie_id_offset                                                           \n",
       "1001                       0      0        0         0       0        0   \n",
       "1002                       0      0        0         0       0        0   \n",
       "1003                       0      0        0         0       0        0   \n",
       "1004                       0      1        0         0       0        0   \n",
       "1005                       0      1        0         0       0        0   \n",
       "\n",
       "                 Mystery  Romance  SciFi  Thriller  War  Western  \n",
       "movie_id_offset                                                   \n",
       "1001                   0        0      0         0    0        0  \n",
       "1002                   0        0      0         1    0        0  \n",
       "1003                   0        0      0         1    0        0  \n",
       "1004                   0        0      0         0    0        0  \n",
       "1005                   0        0      0         1    0        0  "
      ]
     },
     "execution_count": 74,
     "metadata": {},
     "output_type": "execute_result"
    }
   ],
   "source": [
    "df_genres = df_items.set_index('movie_id_offset').loc[:,'Action':].copy()\n",
    "df_genres.head()"
   ]
  },
  {
   "cell_type": "code",
   "execution_count": 82,
   "metadata": {},
   "outputs": [],
   "source": [
    "from itertools import combinations"
   ]
  },
  {
   "cell_type": "code",
   "execution_count": 99,
   "metadata": {},
   "outputs": [],
   "source": [
    "count =0\n",
    "for i in range(1001,2000):\n",
    "    if pdist(df_genres.loc[[1001,i]],metric='cosine')<0.8:\n",
    "        count += 1"
   ]
  },
  {
   "cell_type": "code",
   "execution_count": 100,
   "metadata": {},
   "outputs": [
    {
     "data": {
      "text/plain": [
       "358"
      ]
     },
     "execution_count": 100,
     "metadata": {},
     "output_type": "execute_result"
    }
   ],
   "source": [
    "count"
   ]
  },
  {
   "cell_type": "code",
   "execution_count": 106,
   "metadata": {},
   "outputs": [
    {
     "data": {
      "text/plain": [
       "0.42264973081037416"
      ]
     },
     "execution_count": 106,
     "metadata": {},
     "output_type": "execute_result"
    }
   ],
   "source": [
    "pdist(df_genres.loc[[1001,i]],metric='cosine')[0]"
   ]
  },
  {
   "cell_type": "code",
   "execution_count": 117,
   "metadata": {},
   "outputs": [],
   "source": [
    "user_ids = df_top.uid.unique()"
   ]
  },
  {
   "cell_type": "code",
   "execution_count": 122,
   "metadata": {},
   "outputs": [],
   "source": [
    "intra_user_sim = []\n",
    "for user in user_ids:\n",
    "    intra_user_sim.append(np.mean([pdist(df_genres.loc[[comb[0],comb[1]]],metric='cosine')[0] for comb in combinations(df_top.iid_offset[df_top.uid==user].tolist(),2)]))"
   ]
  },
  {
   "cell_type": "code",
   "execution_count": 123,
   "metadata": {},
   "outputs": [
    {
     "data": {
      "text/plain": [
       "943"
      ]
     },
     "execution_count": 123,
     "metadata": {},
     "output_type": "execute_result"
    }
   ],
   "source": [
    "len(intra_user_sim)"
   ]
  },
  {
   "cell_type": "code",
   "execution_count": 126,
   "metadata": {},
   "outputs": [
    {
     "data": {
      "text/plain": [
       "0.6772395020910791"
      ]
     },
     "execution_count": 126,
     "metadata": {},
     "output_type": "execute_result"
    }
   ],
   "source": [
    "pd.Series(intra_user_sim).mean()"
   ]
  },
  {
   "cell_type": "code",
   "execution_count": null,
   "metadata": {},
   "outputs": [],
   "source": []
  }
 ],
 "metadata": {
  "kernelspec": {
   "display_name": "Python [conda env:anaconda3]",
   "language": "python",
   "name": "conda-env-anaconda3-py"
  },
  "language_info": {
   "codemirror_mode": {
    "name": "ipython",
    "version": 3
   },
   "file_extension": ".py",
   "mimetype": "text/x-python",
   "name": "python",
   "nbconvert_exporter": "python",
   "pygments_lexer": "ipython3",
   "version": "3.6.4"
  },
  "toc": {
   "nav_menu": {},
   "number_sections": false,
   "sideBar": true,
   "skip_h1_title": true,
   "title_cell": "Table of Contents",
   "title_sidebar": "Contents",
   "toc_cell": true,
   "toc_position": {},
   "toc_section_display": true,
   "toc_window_display": false
  }
 },
 "nbformat": 4,
 "nbformat_minor": 2
}
