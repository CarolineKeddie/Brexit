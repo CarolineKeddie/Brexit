{
 "cells": [
  {
   "cell_type": "markdown",
   "metadata": {},
   "source": [
    "<img src=\"http://imgur.com/1ZcRyrc.png\" style=\"float: left; margin: 20px; height: 55px\">\n",
    "\n",
    "# Regression with Neural Networks and TensorFlow Lab\n",
    "\n",
    "\n",
    "---"
   ]
  },
  {
   "cell_type": "markdown",
   "metadata": {},
   "source": [
    "In the lesson you have seen how to solve a classification problem with a neural network, and you have seen how to do linear regression with TensorFlow in the least squares way.\n",
    "\n",
    "Combine what you have learned to construct a neural network for regression problems. \n",
    "\n",
    "- To do so, you will have to modify the cost function and the output layer. \n",
    "\n",
    "- Split your data in a train and a test set and report the final MSE on the test set.\n",
    "\n",
    "- Test different network structures with varying numbers of neurons and layers.\n",
    "\n",
    "- Adjust your code so that you will only have to specify the number of neurons and layers. You will have to adjust weight and bias dictionaries and the multilayer perceptron function for that."
   ]
  },
  {
   "cell_type": "code",
   "execution_count": 1,
   "metadata": {},
   "outputs": [],
   "source": [
    "import pandas as pd\n",
    "import numpy as np\n",
    "import matplotlib.pyplot as plt\n",
    "import seaborn as sns\n",
    "\n",
    "np.set_printoptions(precision=4)\n",
    "plt.style.use('ggplot')\n",
    "%config InlineBackend.figure_format = 'retina'\n",
    "%matplotlib inline"
   ]
  },
  {
   "cell_type": "code",
   "execution_count": 2,
   "metadata": {},
   "outputs": [
    {
     "name": "stderr",
     "output_type": "stream",
     "text": [
      "/anaconda3/lib/python3.6/site-packages/h5py/__init__.py:36: FutureWarning: Conversion of the second argument of issubdtype from `float` to `np.floating` is deprecated. In future, it will be treated as `np.float64 == np.dtype(float).type`.\n",
      "  from ._conv import register_converters as _register_converters\n"
     ]
    }
   ],
   "source": [
    "import tensorflow as tf\n",
    "from sklearn.preprocessing import StandardScaler, OneHotEncoder\n",
    "from sklearn.model_selection import train_test_split"
   ]
  },
  {
   "cell_type": "code",
   "execution_count": 3,
   "metadata": {},
   "outputs": [],
   "source": [
    "from sklearn.datasets import load_boston\n",
    "\n",
    "boston = load_boston()\n",
    "df = pd.DataFrame(boston.data, columns=boston.feature_names)\n",
    "\n",
    "data = StandardScaler().fit_transform(df.values)\n",
    "target = boston.target.reshape(-1,1)\n",
    "\n",
    "np.random.seed(1)\n",
    "X_train, X_test, Y_train, Y_test = train_test_split(data,target,test_size=0.2,random_state=1)"
   ]
  },
  {
   "cell_type": "code",
   "execution_count": 4,
   "metadata": {},
   "outputs": [],
   "source": [
    "# Set up the parameters\n",
    "\n",
    "n_train, n_input = X_train.shape\n",
    "\n",
    "learning_rate = 0.001 # Size of Gradient Descent step\n",
    "training_epochs = 1000 # How many times we'll iterate through the full set\n",
    "display_step = 100 # We want to see something every few steps\n",
    "batch_size = 50\n",
    "\n",
    "X = tf.placeholder(tf.float32, shape=[None, n_input], name='X')\n",
    "Y = tf.placeholder(tf.float32, shape=[None, 1], name='Y')\n",
    "\n",
    "# Define the number of neurons in each hidden layer\n",
    "\n",
    "n_hidden_1 = 8\n",
    "n_hidden_2 = 8\n",
    "n_hidden_3 = 8\n",
    "n_layers = 3\n",
    "n_out = 1\n",
    "\n",
    "\n",
    "layer_sizes = [n_input,n_hidden_1,n_hidden_2,n_hidden_3,n_out]\n",
    "\n",
    "\n",
    "stddev = 0.5"
   ]
  },
  {
   "cell_type": "code",
   "execution_count": 5,
   "metadata": {},
   "outputs": [],
   "source": [
    "weights = {}\n",
    "\n",
    "for i in range(n_layers):\n",
    "    weights['h'+str(i+1)] = tf.Variable(tf.random_normal([layer_sizes[i],layer_sizes[i+1]], stddev=stddev))\n",
    "    \n",
    "weights['out'] = tf.Variable(tf.random_normal([layer_sizes[-2], layer_sizes[-1]], stddev=stddev))\n",
    "\n",
    "biases = {}\n",
    "\n",
    "for i in range(n_layers):\n",
    "    biases['b'+str(i+1)] = tf.Variable(tf.random_normal([layer_sizes[i+1]]))\n",
    "    \n",
    "biases['out'] = tf.Variable(tf.random_normal([layer_sizes[-1]]))"
   ]
  },
  {
   "cell_type": "code",
   "execution_count": 6,
   "metadata": {},
   "outputs": [],
   "source": [
    "def multilayer_perceptron(x, weights, biases):\n",
    "    \n",
    "    # Layer 1, ReLU activation\n",
    "    layer = {}\n",
    "    \n",
    "    layer[1] = tf.nn.relu(tf.add(tf.matmul(x, weights['h1']), biases['b1']))\n",
    "    \n",
    "    # The further layers, ReLU activation\n",
    "    for i in range(2,n_layers+1):\n",
    "        layer[i] = tf.nn.relu(tf.add(tf.matmul(layer[i-1], weights['h'+str(i)]), biases['b'+str(i)]))\n",
    "    \n",
    "    # Return the output\n",
    "    return tf.matmul(layer[i], weights['out']) + biases['out']"
   ]
  },
  {
   "cell_type": "code",
   "execution_count": 7,
   "metadata": {},
   "outputs": [],
   "source": [
    "pred = multilayer_perceptron(X, weights, biases)\n",
    "error = pred - Y\n",
    "cost = tf.reduce_mean(tf.square(error),name='cost')\n",
    "\n",
    "optimizer = tf.train.GradientDescentOptimizer(learning_rate=learning_rate)\n",
    "training_op = optimizer.minimize(cost)"
   ]
  },
  {
   "cell_type": "code",
   "execution_count": 8,
   "metadata": {},
   "outputs": [
    {
     "name": "stdout",
     "output_type": "stream",
     "text": [
      "Epoch: 000/1000 cost: 248.361355782\n",
      " Training MSE: 89.338\n",
      "Epoch: 100/1000 cost: 12.337991595\n",
      " Training MSE: 11.112\n",
      "Epoch: 200/1000 cost: 10.533351362\n",
      " Training MSE: 8.717\n",
      "Epoch: 300/1000 cost: 5.044924408\n",
      " Training MSE: 3.576\n",
      "Epoch: 400/1000 cost: 5.061641961\n",
      " Training MSE: 4.741\n",
      "Epoch: 500/1000 cost: 4.757183343\n",
      " Training MSE: 6.276\n",
      "Epoch: 600/1000 cost: 4.698676467\n",
      " Training MSE: 7.253\n",
      "Epoch: 700/1000 cost: 4.780798137\n",
      " Training MSE: 4.559\n",
      "Epoch: 800/1000 cost: 3.927915961\n",
      " Training MSE: 3.610\n",
      "Epoch: 900/1000 cost: 4.097732425\n",
      " Training MSE: 2.558\n",
      "MSE: 8.3016\n"
     ]
    }
   ],
   "source": [
    "np.random.seed(1)\n",
    "\n",
    "cost_history = []\n",
    "init = tf.global_variables_initializer()\n",
    "\n",
    "with tf.Session() as sess:\n",
    "    \n",
    "    sess.run(init)\n",
    "    \n",
    "    for epoch in range(training_epochs):\n",
    "        avg_cost = 0.0\n",
    "        total_batch = int(n_train/batch_size)\n",
    "        cost_history.append(sess.run(cost, feed_dict={X: X_train, Y: Y_train}))\n",
    "\n",
    "        for i in range(total_batch):\n",
    "            random_index = np.random.randint(n_train, size=batch_size)\n",
    "            batch_xs = X_train[random_index, :]\n",
    "            batch_ys = Y_train[random_index, :]\n",
    "            sess.run(training_op, feed_dict={X: batch_xs, Y: batch_ys})\n",
    "            avg_cost += sess.run(cost,\n",
    "                feed_dict={X: batch_xs, Y: batch_ys})/total_batch\n",
    "\n",
    "        if epoch % display_step == 0:\n",
    "            print (\"Epoch: %03d/%03d cost: %.9f\" % \n",
    "                   (epoch, training_epochs, avg_cost))\n",
    "            train_mse = sess.run(cost, feed_dict={X: batch_xs, Y: batch_ys})\n",
    "            print (\" Training MSE: %.3f\" % (train_mse))\n",
    "\n",
    "        pred_y = sess.run(pred, feed_dict={X: X_test})\n",
    "        mse = sess.run(cost, feed_dict={X:X_test, Y:Y_test})\n",
    "        weights_final = sess.run(weights)\n",
    "        biases_final = sess.run(biases)\n",
    "    print(\"MSE: %.4f\" % mse) "
   ]
  },
  {
   "cell_type": "code",
   "execution_count": 9,
   "metadata": {},
   "outputs": [
    {
     "data": {
      "text/plain": [
       "{'h1': array([[ 1.5621e-01, -1.7085e-01,  4.3759e-01, -1.3644e-01, -5.5342e-01,\n",
       "          1.9936e-01, -1.7641e-01,  3.7289e-01],\n",
       "        [ 8.3066e-01,  4.4948e-01, -3.7008e-01, -5.0296e-01,  2.6638e-01,\n",
       "          9.8998e-02,  6.9760e-01,  2.8804e-01],\n",
       "        [-8.4141e-01,  1.3456e-01,  1.2895e-01,  2.8211e-01,  7.8070e-01,\n",
       "          4.2918e-01,  7.0765e-01,  4.3012e-01],\n",
       "        [ 2.7120e-02, -5.7362e-01, -7.6406e-01,  3.6298e-01, -4.0314e-01,\n",
       "         -1.0790e-01,  7.0807e-01, -1.8620e-01],\n",
       "        [-3.8313e-01,  1.7857e-01,  4.7650e-01, -8.9295e-01, -6.2690e-01,\n",
       "         -3.0301e-01, -2.4011e-01,  6.1921e-01],\n",
       "        [-4.7341e-01,  2.4379e-01, -8.5891e-01,  4.3458e-01, -1.0695e+00,\n",
       "          9.0209e-01,  1.2829e+00,  1.2420e+00],\n",
       "        [ 8.1520e-01, -2.7964e-01,  4.5480e-03, -2.5273e-01, -8.4187e-02,\n",
       "          5.1495e-01,  1.4385e-01, -6.8200e-02],\n",
       "        [-9.8309e-01, -2.7924e-01,  2.2314e-01, -4.0818e-01,  5.6224e-01,\n",
       "          4.9080e-01,  1.0931e+00,  3.9631e-01],\n",
       "        [ 3.9281e-02,  5.7285e-01, -4.4329e-01,  7.9329e-01,  2.0013e-01,\n",
       "          7.1452e-01,  8.1936e-01, -8.4351e-01],\n",
       "        [ 9.2419e-01, -1.1162e+00, -2.4134e-02, -1.1939e-01,  3.4483e-01,\n",
       "         -2.9723e-01,  1.9159e-02, -4.0962e-01],\n",
       "        [ 1.5770e-01, -3.4598e-01, -1.3272e-01,  9.9190e-02,  3.1055e-01,\n",
       "          4.5012e-01,  1.8115e+00, -3.9665e-01],\n",
       "        [ 1.6693e-02, -1.4019e+00, -1.2185e+00, -2.4780e-01,  3.7338e-01,\n",
       "         -8.1785e-01, -2.9607e-01,  2.9632e-02],\n",
       "        [-1.3530e+00, -1.3826e-03, -6.4957e-02, -4.3960e-01, -8.0759e-01,\n",
       "          4.8851e-01,  3.1490e-01, -3.6876e-01]], dtype=float32),\n",
       " 'h2': array([[ 0.0072,  0.8458, -0.7859,  0.6023,  1.651 ,  0.5024, -0.0947,\n",
       "          0.1324],\n",
       "        [-0.2272,  0.8213, -0.2819,  0.061 ,  0.214 ,  0.4771, -0.7088,\n",
       "         -0.4439],\n",
       "        [ 0.008 , -0.4069,  0.4803, -0.1236, -1.01  , -0.0666,  0.5741,\n",
       "         -0.125 ],\n",
       "        [ 0.0109, -0.5035, -0.1742,  0.138 ,  0.3176,  0.2836, -0.493 ,\n",
       "         -1.0608],\n",
       "        [-1.1401, -0.1532, -0.011 ,  0.6658, -0.5103, -0.2539, -1.1044,\n",
       "         -0.3158],\n",
       "        [ 1.1522, -0.0028,  0.8017,  0.1462,  0.0381, -0.1075,  0.0553,\n",
       "          0.0293],\n",
       "        [-0.0462,  0.2444, -0.3282, -0.8145,  0.4364,  0.1871,  1.077 ,\n",
       "         -0.0037],\n",
       "        [-0.1305,  0.5659,  0.2614,  0.4773,  1.0114,  0.9904,  0.5683,\n",
       "         -0.2045]], dtype=float32),\n",
       " 'h3': array([[-0.173 , -0.3586,  0.3087,  0.2938, -0.6985, -1.4547,  0.6244,\n",
       "          0.313 ],\n",
       "        [ 0.356 , -0.3448,  0.5576, -0.3758,  0.7256, -1.8035,  0.0336,\n",
       "         -0.455 ],\n",
       "        [ 0.1453,  0.2811, -1.0913, -0.237 , -0.475 , -1.2693, -0.16  ,\n",
       "         -0.3284],\n",
       "        [ 0.0263,  0.8268, -0.6799, -0.0214,  0.6027, -0.1003,  0.3542,\n",
       "          0.0803],\n",
       "        [-0.6768,  1.511 ,  0.056 , -1.0352, -0.2599,  0.7533,  0.6295,\n",
       "          0.1112],\n",
       "        [-0.0708,  0.807 , -0.3797, -0.4489, -0.4879,  0.6356, -1.4311,\n",
       "          0.2249],\n",
       "        [-0.1543, -0.7727, -0.151 ,  0.4205, -0.1014, -0.5022, -0.0996,\n",
       "         -0.8439],\n",
       "        [ 0.0715, -0.4161, -0.3838,  0.8192,  0.2518,  0.7757, -1.3416,\n",
       "          0.0907]], dtype=float32),\n",
       " 'out': array([[-0.9246],\n",
       "        [ 2.1209],\n",
       "        [-0.5026],\n",
       "        [-0.1743],\n",
       "        [ 0.2105],\n",
       "        [ 2.2939],\n",
       "        [-0.685 ],\n",
       "        [ 0.8191]], dtype=float32)}"
      ]
     },
     "execution_count": 9,
     "metadata": {},
     "output_type": "execute_result"
    }
   ],
   "source": [
    "weights_final"
   ]
  },
  {
   "cell_type": "code",
   "execution_count": 10,
   "metadata": {},
   "outputs": [
    {
     "data": {
      "text/plain": [
       "{'b1': array([-1.4509,  1.9521, -0.5625,  1.0975,  0.9341,  0.3332, -0.4434,\n",
       "        -1.6779], dtype=float32),\n",
       " 'b2': array([ 0.5442, -2.0151,  1.1166,  0.4343,  0.3832,  1.7442,  0.1979,\n",
       "        -0.165 ], dtype=float32),\n",
       " 'b3': array([ 0.0789,  1.7792,  0.5783,  1.2002,  0.2867,  2.0883, -0.2018,\n",
       "         0.2995], dtype=float32),\n",
       " 'out': array([1.9889], dtype=float32)}"
      ]
     },
     "execution_count": 10,
     "metadata": {},
     "output_type": "execute_result"
    }
   ],
   "source": [
    "biases_final"
   ]
  },
  {
   "cell_type": "code",
   "execution_count": 11,
   "metadata": {},
   "outputs": [
    {
     "data": {
      "text/plain": [
       "array([[35.8878],\n",
       "       [26.6641],\n",
       "       [19.4123],\n",
       "       [20.4506],\n",
       "       [20.9654]], dtype=float32)"
      ]
     },
     "execution_count": 11,
     "metadata": {},
     "output_type": "execute_result"
    }
   ],
   "source": [
    "pred_y[:5]"
   ]
  },
  {
   "cell_type": "code",
   "execution_count": 12,
   "metadata": {},
   "outputs": [
    {
     "data": {
      "image/png": "[encoded data removed]",
      "text/plain": [
       "<matplotlib.figure.Figure at 0x1a2358df60>"
      ]
     },
     "metadata": {
      "image/png": {
       "height": 266,
       "width": 386
      }
     },
     "output_type": "display_data"
    }
   ],
   "source": [
    "fig, ax = plt.subplots()\n",
    "ax.scatter(Y_test, pred_y)\n",
    "ax.plot([Y_test.min(), Y_test.max()], [Y_test.min(), Y_test.max()], 'k--', lw=3)\n",
    "ax.set_xlabel('Measured')\n",
    "ax.set_ylabel('Predicted')\n",
    "plt.show()"
   ]
  },
  {
   "cell_type": "code",
   "execution_count": 13,
   "metadata": {},
   "outputs": [
    {
     "data": {
      "image/png": "[encoded data removed]",
      "text/plain": [
       "<matplotlib.figure.Figure at 0x1a2352d630>"
      ]
     },
     "metadata": {
      "image/png": {
       "height": 266,
       "width": 393
      }
     },
     "output_type": "display_data"
    }
   ],
   "source": [
    "plt.plot(range(training_epochs)[:1000] , cost_history[:1000])\n",
    "plt.xlabel('Epochs')\n",
    "plt.ylabel('MSE')\n",
    "plt.show()"
   ]
  },
  {
   "cell_type": "code",
   "execution_count": 14,
   "metadata": {},
   "outputs": [
    {
     "data": {
      "text/plain": [
       "4.4437613"
      ]
     },
     "execution_count": 14,
     "metadata": {},
     "output_type": "execute_result"
    }
   ],
   "source": [
    "cost_history[-1]"
   ]
  },
  {
   "cell_type": "code",
   "execution_count": null,
   "metadata": {},
   "outputs": [],
   "source": []
  }
 ],
 "metadata": {
  "kernelspec": {
   "display_name": "Python [conda root]",
   "language": "python",
   "name": "conda-root-py"
  },
  "language_info": {
   "codemirror_mode": {
    "name": "ipython",
    "version": 3
   },
   "file_extension": ".py",
   "mimetype": "text/x-python",
   "name": "python",
   "nbconvert_exporter": "python",
   "pygments_lexer": "ipython3",
   "version": "3.6.4"
  },
  "toc": {
   "nav_menu": {},
   "number_sections": false,
   "sideBar": true,
   "skip_h1_title": true,
   "title_cell": "Table of Contents",
   "title_sidebar": "Contents",
   "toc_cell": false,
   "toc_position": {},
   "toc_section_display": "block",
   "toc_window_display": false
  }
 },
 "nbformat": 4,
 "nbformat_minor": 2
}
