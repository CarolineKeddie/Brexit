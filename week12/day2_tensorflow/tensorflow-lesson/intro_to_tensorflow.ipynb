{
 "cells": [
  {
   "cell_type": "markdown",
   "metadata": {},
   "source": [
    "<img src=\"http://imgur.com/1ZcRyrc.png\" style=\"float: left; margin: 20px; height: 55px\">\n",
    "\n",
    "# Neural Networks with TensorFlow\n",
    "\n",
    "\n",
    "---"
   ]
  },
  {
   "cell_type": "markdown",
   "metadata": {},
   "source": [
    "<a id=\"learning-objectives\"></a>\n",
    "### Learning Objectives\n",
    "- Get a quick overview of TensorFlow\n",
    "- Build a linear regression in TensorFlow\n",
    "- Tune our approach to linear regression to make it more efficient\n",
    "- Build a Multilayer Perceptron feed-forward network"
   ]
  },
  {
   "cell_type": "markdown",
   "metadata": {},
   "source": [
    "### Lesson Guide\n",
    "\n",
    "- [Common Neural Net libraries in Python](#common-neural-net-libraries-in-python)\n",
    "- [Codealong: Linear Models in TensorFlow](#codealong-linear-models-in-tensorflow)\n",
    "\t- [Setup parameters and data that we will use later](#setup-parameters-and-data-that-we-will-use-later)\n",
    "\t- [Create tensors that correspond to our data](#create-tensors-that-correspond-to-our-data)\n",
    "\t- [Create weights to use in our model](#create-weights-to-use-in-our-model)\n",
    "\t- [Define a linear equation](#define-a-linear-equation)\n",
    "\t- [Define a loss function](#define-a-loss-function)\n",
    "\t- [Instantiate an optimizer](#instantiate-an-optimizer)\n",
    "\t- [Time to train our linear regression/neural network](#time-to-train-our-linear-regressionneural-network)\n",
    "\t- [Great, we've got a linear model, but there are still a few things we can improve](#great-weve-got-a-linear-model-but-there-are-still-a-few-things-we-can-improve)\n",
    "\t- [An example with real data](#an-example-with-real-data)\n",
    "\t- [Create tensors that correspond to our data](#create-tensors-that-correspond-to-our-data)\n",
    "\t- [Create weights to use in our model](#create-weights-to-use-in-our-model)\n",
    "\t- [Create model, loss function, and optimizer](#create-model-loss-function-and-optimizaer)\n",
    "\t- [Scale our data](#scale-our-data)\n",
    "\t- [Train our network on the Boston data](#train-our-network-on-the-boston-data)\n",
    "\t- [Plot MSE over Epochs](#plot-mse-over-epochs)\n",
    "- [Train a Multilayer Perceptron on the Titanic data](#train-a-multilayer-perceptron-on-the-titanic-data)\n",
    "\t- [Load in the titanic data](#load-in-the-titanic-data)\n",
    "\t- [Do a bit of data cleaning](#do-a-bit-of-data-cleaning)\n",
    "\t- [Create tensors](#create-tensors)\n",
    "\t- [Create weights](#create-weights)\n",
    "\t- [Create the structure of the Multilayer Perceptron network](#create-the-structure-of-the-multilayer-perceptron-network)\n",
    "\t- [Define loss function](#define-loss-function)\n",
    "\t- [Define optimizer](#define-optimizer)\n",
    "\t- [Train the network](#train-the-network)\n",
    "\t- [A final example with more hidden layers](#a-final-example-with-more-hidden-layers)\n",
    "- [Additional Resources](#additionl-resources)\n"
   ]
  },
  {
   "cell_type": "code",
   "execution_count": 1,
   "metadata": {},
   "outputs": [],
   "source": [
    "import pandas as pd\n",
    "import numpy as np\n",
    "import matplotlib.pyplot as plt\n",
    "import seaborn as sns\n",
    "\n",
    "np.set_printoptions(precision=4)\n",
    "plt.style.use('ggplot')\n",
    "%config InlineBackend.figure_format = 'retina'\n",
    "%matplotlib inline"
   ]
  },
  {
   "cell_type": "code",
   "execution_count": 2,
   "metadata": {},
   "outputs": [
    {
     "name": "stderr",
     "output_type": "stream",
     "text": [
      "/anaconda3/lib/python3.6/site-packages/h5py/__init__.py:36: FutureWarning: Conversion of the second argument of issubdtype from `float` to `np.floating` is deprecated. In future, it will be treated as `np.float64 == np.dtype(float).type`.\n",
      "  from ._conv import register_converters as _register_converters\n"
     ]
    }
   ],
   "source": [
    "import tensorflow as tf\n",
    "from sklearn.base import TransformerMixin\n",
    "from sklearn.preprocessing import Imputer, LabelBinarizer, StandardScaler, OneHotEncoder\n",
    "from sklearn.pipeline import make_pipeline, make_union\n",
    "from sklearn.model_selection import train_test_split"
   ]
  },
  {
   "cell_type": "markdown",
   "metadata": {},
   "source": [
    "<a id=\"common-neural-net-libraries-in-python\"></a>\n",
    "## Common Neural Network libraries in Python\n",
    "---\n",
    "\n",
    "There are a number of libraries available for neural networks in Python, including:\n",
    "\n",
    "- [Tensorflow](https://www.tensorflow.org/)\n",
    "- [Caffe](http://caffe.berkeleyvision.org/)\n",
    "- [Lasagne](https://lasagne.readthedocs.io/en/latest/)\n",
    "- [Theano](http://deeplearning.net/software/theano/)\n",
    "- [Keras](https://keras.io/)\n",
    "\n",
    "We'll be using the Tensorflow library (by Google) in these examples, but the development environment is very open right now.\n",
    "\n",
    "Tensorflow is a library which can do many things beyond neural networks. Its main purpose is to facilitate using more powerful tools like GPUs or distributing calculations across clusters. A particular ingredient is the organization of calculations into computational graphs. These graphs are set up in python and then passed over to C++ to do the calculations."
   ]
  },
  {
   "cell_type": "markdown",
   "metadata": {},
   "source": [
    "<a id=\"codealong-linear-models-in-tensorflow\"></a>\n",
    "## Codealong: Linear Models in TensorFlow\n",
    "---"
   ]
  },
  {
   "cell_type": "markdown",
   "metadata": {},
   "source": [
    "Haven't you ever wanted to get rid of those pesky linear models in sklearn? Let's replicate that effort using Tensorflow.\n",
    "\n",
    "Tensorflow works by setting up `tensors`, which essentially hold numeric data of various shapes, and passes them through user-defined operations. The user-defined operations will be our Neural Network layers. When we initialize a session within Tensorflow, that starts the process of filling (or refilling) those tensors. You can imagine this system as actually setting up a set of calculations first and then filling them in with real data later.\n",
    "\n",
    "**Tensors are a lot like vectors and matrices:**\n",
    "- 0D Tensor = Scalar\n",
    "- 1D Tensor = Vector\n",
    "- 2D Tensor = Matrix\n",
    "- 4D Tensor = ??\n",
    "\n",
    "\n",
    "Starting with tensorflow involves a lot of different ingredients. Before setting up a neural network with tensorflow, we will see how tensorflow can be used to carry out a task like linear regression.\n",
    "\n",
    "We will start with some generated data to show off the basic process and then use some real data to reinforce those lessons.\n",
    "\n",
    "This section is adapted from [this example](https://github.com/ageron/handson-ml/blob/master/09_up_and_running_with_tensorflow.ipynb)."
   ]
  },
  {
   "cell_type": "markdown",
   "metadata": {},
   "source": [
    "First we specify a few variables for tensorflow. We can give values to them and a name, and do mathematical operations with them. At this stage however no actual calculation is carried out."
   ]
  },
  {
   "cell_type": "code",
   "execution_count": 3,
   "metadata": {},
   "outputs": [],
   "source": [
    "x = tf.Variable(3,name='x')\n",
    "y = tf.Variable(4,name='y')\n",
    "f = x*x*y+y+2"
   ]
  },
  {
   "cell_type": "code",
   "execution_count": 4,
   "metadata": {},
   "outputs": [
    {
     "data": {
      "text/plain": [
       "<tf.Tensor 'x/read:0' shape=() dtype=int32>"
      ]
     },
     "execution_count": 4,
     "metadata": {},
     "output_type": "execute_result"
    }
   ],
   "source": [
    "x.value()"
   ]
  },
  {
   "cell_type": "markdown",
   "metadata": {},
   "source": [
    "To calculate the last expression, we start a tensorflow session. Within this session, we initialize the variables, do the computations, evaluate the result and save it to a variable which we can still access once the tensorflow session is finished."
   ]
  },
  {
   "cell_type": "code",
   "execution_count": 5,
   "metadata": {},
   "outputs": [],
   "source": [
    "with tf.Session() as sess:\n",
    "    \n",
    "    x.initializer.run()\n",
    "    y.initializer.run()\n",
    "    result = f.eval()"
   ]
  },
  {
   "cell_type": "code",
   "execution_count": 6,
   "metadata": {},
   "outputs": [
    {
     "name": "stdout",
     "output_type": "stream",
     "text": [
      "42\n"
     ]
    }
   ],
   "source": [
    "print(result)"
   ]
  },
  {
   "cell_type": "markdown",
   "metadata": {},
   "source": [
    "We don't have to initialize all the variables separately,\n",
    "but can do that for all of them at once."
   ]
  },
  {
   "cell_type": "code",
   "execution_count": 7,
   "metadata": {},
   "outputs": [
    {
     "name": "stdout",
     "output_type": "stream",
     "text": [
      "42\n"
     ]
    }
   ],
   "source": [
    "init = tf.global_variables_initializer()\n",
    "\n",
    "with tf.Session() as sess:\n",
    "    init.run()\n",
    "    result = f.eval()\n",
    "\n",
    "print(result)"
   ]
  },
  {
   "cell_type": "markdown",
   "metadata": {},
   "source": [
    "Another example:"
   ]
  },
  {
   "cell_type": "code",
   "execution_count": 8,
   "metadata": {},
   "outputs": [
    {
     "name": "stdout",
     "output_type": "stream",
     "text": [
      "10\n",
      "15\n"
     ]
    }
   ],
   "source": [
    "w = tf.constant(3)\n",
    "x = w+2\n",
    "y = x+5\n",
    "z = x*3\n",
    "\n",
    "with tf.Session() as sess:\n",
    "    init.run()\n",
    "    print(y.eval())\n",
    "    print(z.eval())"
   ]
  },
  {
   "cell_type": "markdown",
   "metadata": {},
   "source": [
    "Before constructing neural networks, we are going to use tensorflow for doing standard linear regression.\n",
    "Let's just get the sklearn result for reference first."
   ]
  },
  {
   "cell_type": "code",
   "execution_count": 9,
   "metadata": {},
   "outputs": [],
   "source": [
    "from sklearn.datasets import load_boston\n",
    "\n",
    "boston = load_boston()\n",
    "\n",
    "df = pd.DataFrame(boston.data, columns=boston.feature_names)\n",
    "df['intercept'] = 1\n",
    "target = boston.target"
   ]
  },
  {
   "cell_type": "code",
   "execution_count": 10,
   "metadata": {},
   "outputs": [
    {
     "name": "stdout",
     "output_type": "stream",
     "text": [
      "[-1.0717e-01  4.6395e-02  2.0860e-02  2.6886e+00 -1.7796e+01  3.8048e+00\n",
      "  7.5106e-04 -1.4758e+00  3.0566e-01 -1.2329e-02 -9.5346e-01  9.3925e-03\n",
      " -5.2547e-01  3.6491e+01]\n",
      "21.8977792176875\n"
     ]
    }
   ],
   "source": [
    "from sklearn.linear_model import LinearRegression\n",
    "from sklearn.metrics import mean_squared_error\n",
    "\n",
    "model = LinearRegression(fit_intercept=False)\n",
    "model.fit(df,target)\n",
    "print(model.coef_)\n",
    "boston_mse = mean_squared_error(target,model.predict(df))\n",
    "print(boston_mse)"
   ]
  },
  {
   "cell_type": "markdown",
   "metadata": {},
   "source": [
    "Do the calculation with numpy using the formula\n",
    "\n",
    "$$\n",
    "\\beta = \\left(X^T X\\right)^{-1}X^T y\n",
    "$$"
   ]
  },
  {
   "cell_type": "code",
   "execution_count": 11,
   "metadata": {},
   "outputs": [
    {
     "name": "stdout",
     "output_type": "stream",
     "text": [
      "[-1.0717e-01  4.6395e-02  2.0860e-02  2.6886e+00 -1.7796e+01  3.8048e+00\n",
      "  7.5106e-04 -1.4758e+00  3.0566e-01 -1.2329e-02 -9.5346e-01  9.3925e-03\n",
      " -5.2547e-01  3.6491e+01]\n"
     ]
    }
   ],
   "source": [
    "print(np.dot(np.dot(np.linalg.inv(np.dot(df.T,df)),df.T),target))"
   ]
  },
  {
   "cell_type": "markdown",
   "metadata": {},
   "source": [
    "This will do the same using tensorflow:"
   ]
  },
  {
   "cell_type": "code",
   "execution_count": 12,
   "metadata": {},
   "outputs": [],
   "source": [
    "X = tf.constant(df.values,dtype=tf.float64,name='X')\n",
    "y = tf.constant(target.reshape(-1,1),dtype=tf.float64,name='y')\n",
    "X_T = tf.transpose(X)\n",
    "beta = tf.matmul(tf.matmul(\n",
    "    tf.matrix_inverse(tf.matmul(X_T,X)),X_T),y)\n",
    "\n",
    "with tf.Session() as sess:\n",
    "    \n",
    "    beta_value = beta.eval()"
   ]
  },
  {
   "cell_type": "code",
   "execution_count": 13,
   "metadata": {},
   "outputs": [
    {
     "name": "stdout",
     "output_type": "stream",
     "text": [
      "[[-1.0717e-01]\n",
      " [ 4.6395e-02]\n",
      " [ 2.0860e-02]\n",
      " [ 2.6886e+00]\n",
      " [-1.7796e+01]\n",
      " [ 3.8048e+00]\n",
      " [ 7.5106e-04]\n",
      " [-1.4758e+00]\n",
      " [ 3.0566e-01]\n",
      " [-1.2329e-02]\n",
      " [-9.5346e-01]\n",
      " [ 9.3925e-03]\n",
      " [-5.2547e-01]\n",
      " [ 3.6491e+01]]\n"
     ]
    }
   ],
   "source": [
    "print(beta_value)"
   ]
  },
  {
   "cell_type": "markdown",
   "metadata": {},
   "source": [
    "### Another example\n",
    "\n",
    "<a id=\"setup-parameters-and-data-that-we-will-use-later\"></a>\n",
    "### Setup parameters and data that we will use later\n",
    "\n",
    "This section is taken from [this example](https://github.com/aymericdamien/TensorFlow-Examples/blob/master/notebooks/2_BasicModels/linear_regression.ipynb)."
   ]
  },
  {
   "cell_type": "code",
   "execution_count": 14,
   "metadata": {},
   "outputs": [],
   "source": [
    "# Set up some parameters that we will use later\n",
    "\n",
    "learning_rate = 0.01 # Size of Gradient Descent step\n",
    "training_epochs = 20000 # How many times we'll iterate through the full set\n",
    "display_step = 1000 # We want to see something every few steps"
   ]
  },
  {
   "cell_type": "code",
   "execution_count": 15,
   "metadata": {},
   "outputs": [],
   "source": [
    "train_X = np.asarray([3.3,4.4,5.5,6.71,6.93,4.168,9.779,6.182,7.59,2.167,\n",
    "                         7.042,10.791,5.313,7.997,5.654,9.27,3.1])\n",
    "train_Y = np.asarray([1.7,2.76,2.09,3.19,1.694,1.573,3.366,2.596,2.53,1.221,\n",
    "                         2.827,3.465,1.65,2.904,2.42,2.94,1.3])\n",
    "n_samples = train_X.shape[0]"
   ]
  },
  {
   "cell_type": "code",
   "execution_count": 16,
   "metadata": {},
   "outputs": [
    {
     "name": "stdout",
     "output_type": "stream",
     "text": [
      "[0.2516] 0.798801226175389\n",
      "0.153857674041911\n"
     ]
    }
   ],
   "source": [
    "model = LinearRegression()\n",
    "model.fit(train_X.reshape(-1,1),train_Y)\n",
    "print(model.coef_, model.intercept_)\n",
    "model_mse = mean_squared_error(train_Y,model.predict(train_X.reshape(-1,1)))\n",
    "print(model_mse)"
   ]
  },
  {
   "cell_type": "markdown",
   "metadata": {},
   "source": [
    "<a id=\"create-tensors-that-correspond-to-our-data\"></a>\n",
    "### Create tensors that correspond to our data"
   ]
  },
  {
   "cell_type": "code",
   "execution_count": 17,
   "metadata": {},
   "outputs": [],
   "source": [
    "X = tf.placeholder(\"float\")\n",
    "y = tf.placeholder(\"float\")"
   ]
  },
  {
   "cell_type": "markdown",
   "metadata": {},
   "source": [
    "<a id=\"create-weights-to-use-in-our-model\"></a>\n",
    "### Create weights to use in our model\n",
    "- W will be the weight term, like the beta coefficient in a linear regression\n",
    "- b will be the bias term like the constant in a linear regression"
   ]
  },
  {
   "cell_type": "code",
   "execution_count": 18,
   "metadata": {},
   "outputs": [],
   "source": [
    "w = tf.Variable(np.random.randn(), name=\"weight\")\n",
    "b = tf.Variable(np.random.randn(), name=\"bias\")"
   ]
  },
  {
   "cell_type": "markdown",
   "metadata": {},
   "source": [
    "<a id=\"define-a-linear-equation\"></a>\n",
    "### Define a linear equation\n",
    "\n",
    "We combine the weights, the inputs and the bias just as in linear regression.\n",
    "\n",
    "$y = b + X w$"
   ]
  },
  {
   "cell_type": "code",
   "execution_count": 19,
   "metadata": {},
   "outputs": [],
   "source": [
    "pred = tf.add(tf.multiply(X, w), b)"
   ]
  },
  {
   "cell_type": "markdown",
   "metadata": {},
   "source": [
    "<a id=\"define-a-loss-function\"></a>\n",
    "### Define a loss function\n",
    "- As in most machine learning models, we need some way to measure how close our predictions are to our actual values.\n",
    "- In this case we use mean squared error, although the syntax may look a little foreign\n",
    "- `reduce_mean` is the same as a `mean` in Python"
   ]
  },
  {
   "cell_type": "code",
   "execution_count": 20,
   "metadata": {},
   "outputs": [],
   "source": [
    "error = pred - y\n",
    "cost = tf.reduce_mean(tf.square(error),name='cost')\n",
    "cost_history = []"
   ]
  },
  {
   "cell_type": "markdown",
   "metadata": {},
   "source": [
    "So far we've written down the cost (loss) function that we want to minimize in our optimization problem:\n",
    "\n",
    "$$\\min_{w, b} {\\|y - (Xw + b) \\|}$$\n",
    "\n",
    "This says that we want to find a set of $b$ and $w$ that makes the mean squared error on our training data as small as possible."
   ]
  },
  {
   "cell_type": "markdown",
   "metadata": {},
   "source": [
    "<a id=\"instantiate-an-optimizer\"></a>\n",
    "### Instantiate an optimizer\n",
    "- We still need a way to solve for our weights $w$\n",
    "- Tensorflow comes with several solvers to do the work for us"
   ]
  },
  {
   "cell_type": "code",
   "execution_count": 21,
   "metadata": {},
   "outputs": [],
   "source": [
    "optimizer = tf.train.GradientDescentOptimizer(learning_rate=learning_rate)\n",
    "training_op = optimizer.minimize(cost)"
   ]
  },
  {
   "cell_type": "markdown",
   "metadata": {},
   "source": [
    "<a id=\"time-to-train-our-linear-regressionneural-network\"></a>\n",
    "### Time to train our linear regression\n",
    "\n",
    "- We instantiate a tensorflow session using `tf.Session()`\n",
    "- Every few epochs we print out $b$, $w$ and the MSE to check how the computation proceeds."
   ]
  },
  {
   "cell_type": "code",
   "execution_count": 22,
   "metadata": {},
   "outputs": [
    {
     "name": "stdout",
     "output_type": "stream",
     "text": [
      "Epoch: 1000 cost=  0.155951 w= 0.2699773 b= 0.668762\n",
      "Epoch: 2000 cost=  0.153874 w= 0.25324878 b= 0.7873598\n",
      "Epoch: 3000 cost=  0.153858 w= 0.25177693 b= 0.7977945\n",
      "Epoch: 4000 cost=  0.153858 w= 0.2516474 b= 0.79871273\n",
      "Epoch: 5000 cost=  0.153858 w= 0.25163665 b= 0.7987891\n",
      "Epoch: 6000 cost=  0.153858 w= 0.25163665 b= 0.7987891\n",
      "Epoch: 7000 cost=  0.153858 w= 0.25163665 b= 0.7987891\n",
      "Epoch: 8000 cost=  0.153858 w= 0.25163665 b= 0.7987891\n",
      "Epoch: 9000 cost=  0.153858 w= 0.25163665 b= 0.7987891\n",
      "Epoch: 10000 cost=  0.153858 w= 0.25163665 b= 0.7987891\n",
      "Epoch: 11000 cost=  0.153858 w= 0.25163665 b= 0.7987891\n",
      "Epoch: 12000 cost=  0.153858 w= 0.25163665 b= 0.7987891\n",
      "Epoch: 13000 cost=  0.153858 w= 0.25163665 b= 0.7987891\n",
      "Epoch: 14000 cost=  0.153858 w= 0.25163665 b= 0.7987891\n",
      "Epoch: 15000 cost=  0.153858 w= 0.25163665 b= 0.7987891\n",
      "Epoch: 16000 cost=  0.153858 w= 0.25163665 b= 0.7987891\n",
      "Epoch: 17000 cost=  0.153858 w= 0.25163665 b= 0.7987891\n",
      "Epoch: 18000 cost=  0.153858 w= 0.25163665 b= 0.7987891\n",
      "Epoch: 19000 cost=  0.153858 w= 0.25163665 b= 0.7987891\n",
      "Epoch: 20000 cost=  0.153858 w= 0.25163665 b= 0.7987891\n",
      "Optimization finished\n",
      "Training cost= 0.15385771 w= 0.25163665 b= 0.7987891 \n",
      "\n"
     ]
    }
   ],
   "source": [
    "# This initializes all the tensor flow variables \n",
    "# we have set up so far, i.e. b and w\n",
    "init = tf.global_variables_initializer()\n",
    "\n",
    "# This starts our tensor flow session\n",
    "with tf.Session() as sess:\n",
    "    sess.run(init)\n",
    "    \n",
    "    # Print results from every few epochs\n",
    "    for epoch in range(training_epochs): \n",
    "        sess.run(training_op, feed_dict={X: train_X, y:train_Y})\n",
    "        cost_history.append(sess.run(cost, feed_dict={X: train_X, y:train_Y}))\n",
    "        \n",
    "        if (epoch+1) % display_step == 0: \n",
    "            c = sess.run(cost, feed_dict={X: train_X, y:train_Y})\n",
    "            print('Epoch:', '%04d' % (epoch+1), 'cost=', '{:9f}'.format(c), \\\n",
    "            \"w=\", sess.run(w), \"b=\", sess.run(b))\n",
    "    \n",
    "    print('Optimization finished')\n",
    "    training_cost = sess.run(cost, feed_dict={X: train_X, y: train_Y})\n",
    "    print(\"Training cost=\", training_cost, \"w=\", sess.run(w), \"b=\", sess.run(b), '\\n')\n",
    "    \n",
    "    pred_Y = sess.run(w) * train_X + sess.run(b)"
   ]
  },
  {
   "cell_type": "markdown",
   "metadata": {},
   "source": [
    "Let's check our predictions:"
   ]
  },
  {
   "cell_type": "code",
   "execution_count": 23,
   "metadata": {},
   "outputs": [
    {
     "data": {
      "image/png": "[encoded data removed]",
      "text/plain": [
       "<matplotlib.figure.Figure at 0x1a311c7e10>"
      ]
     },
     "metadata": {
      "image/png": {
       "height": 265,
       "width": 373
      }
     },
     "output_type": "display_data"
    }
   ],
   "source": [
    "plt.plot(train_X, train_Y, 'ro', label='Original Data')\n",
    "plt.plot(train_X, pred_Y, label='Fitted Data')\n",
    "plt.title('Tensorflow-fit Linear Model')\n",
    "plt.legend()\n",
    "plt.show()"
   ]
  },
  {
   "cell_type": "code",
   "execution_count": 24,
   "metadata": {},
   "outputs": [
    {
     "data": {
      "image/png": "[encoded data removed]",
      "text/plain": [
       "<matplotlib.figure.Figure at 0x1a314f6048>"
      ]
     },
     "metadata": {
      "image/png": {
       "height": 267,
       "width": 396
      }
     },
     "output_type": "display_data"
    }
   ],
   "source": [
    "plt.plot(list(range(training_epochs))[:9000] , cost_history[:9000],label='tensorflow')\n",
    "plt.hlines(model_mse,0,20000,label='sklearn')\n",
    "plt.xscale('log')\n",
    "plt.xlabel('Epochs')\n",
    "plt.ylabel('MSE')\n",
    "plt.legend()\n",
    "plt.show()"
   ]
  },
  {
   "cell_type": "markdown",
   "metadata": {},
   "source": [
    "<a id=\"great-weve-got-a-linear-model-but-there-are-still-a-few-things-we-can-improve\"></a>\n",
    "### Great, we've got a linear model, but there are still a few things we can improve\n",
    "- We need to extend this concept to multiple regression with several ws\n",
    "- We can standardize the inputs to make it easier for the solver to find a solution"
   ]
  },
  {
   "cell_type": "markdown",
   "metadata": {},
   "source": [
    "<a id=\"an-example-with-real-data\"></a>\n",
    "### An example with real data\n",
    "- We'll use again the boston housing data set to implement multiple regression in TensorFlow"
   ]
  },
  {
   "cell_type": "code",
   "execution_count": 25,
   "metadata": {},
   "outputs": [],
   "source": [
    "from sklearn.datasets import load_boston\n",
    "\n",
    "boston = load_boston()\n",
    "df = pd.DataFrame(boston.data, columns=boston.feature_names)"
   ]
  },
  {
   "cell_type": "code",
   "execution_count": 26,
   "metadata": {},
   "outputs": [
    {
     "data": {
      "text/html": [
       "<div>\n",
       "<style scoped>\n",
       "    .dataframe tbody tr th:only-of-type {\n",
       "        vertical-align: middle;\n",
       "    }\n",
       "\n",
       "    .dataframe tbody tr th {\n",
       "        vertical-align: top;\n",
       "    }\n",
       "\n",
       "    .dataframe thead th {\n",
       "        text-align: right;\n",
       "    }\n",
       "</style>\n",
       "<table border=\"1\" class=\"dataframe\">\n",
       "  <thead>\n",
       "    <tr style=\"text-align: right;\">\n",
       "      <th></th>\n",
       "      <th>CRIM</th>\n",
       "      <th>ZN</th>\n",
       "      <th>INDUS</th>\n",
       "      <th>CHAS</th>\n",
       "      <th>NOX</th>\n",
       "      <th>RM</th>\n",
       "      <th>AGE</th>\n",
       "      <th>DIS</th>\n",
       "      <th>RAD</th>\n",
       "      <th>TAX</th>\n",
       "      <th>PTRATIO</th>\n",
       "      <th>B</th>\n",
       "      <th>LSTAT</th>\n",
       "    </tr>\n",
       "  </thead>\n",
       "  <tbody>\n",
       "    <tr>\n",
       "      <th>0</th>\n",
       "      <td>0.00632</td>\n",
       "      <td>18.0</td>\n",
       "      <td>2.31</td>\n",
       "      <td>0.0</td>\n",
       "      <td>0.538</td>\n",
       "      <td>6.575</td>\n",
       "      <td>65.2</td>\n",
       "      <td>4.0900</td>\n",
       "      <td>1.0</td>\n",
       "      <td>296.0</td>\n",
       "      <td>15.3</td>\n",
       "      <td>396.90</td>\n",
       "      <td>4.98</td>\n",
       "    </tr>\n",
       "    <tr>\n",
       "      <th>1</th>\n",
       "      <td>0.02731</td>\n",
       "      <td>0.0</td>\n",
       "      <td>7.07</td>\n",
       "      <td>0.0</td>\n",
       "      <td>0.469</td>\n",
       "      <td>6.421</td>\n",
       "      <td>78.9</td>\n",
       "      <td>4.9671</td>\n",
       "      <td>2.0</td>\n",
       "      <td>242.0</td>\n",
       "      <td>17.8</td>\n",
       "      <td>396.90</td>\n",
       "      <td>9.14</td>\n",
       "    </tr>\n",
       "    <tr>\n",
       "      <th>2</th>\n",
       "      <td>0.02729</td>\n",
       "      <td>0.0</td>\n",
       "      <td>7.07</td>\n",
       "      <td>0.0</td>\n",
       "      <td>0.469</td>\n",
       "      <td>7.185</td>\n",
       "      <td>61.1</td>\n",
       "      <td>4.9671</td>\n",
       "      <td>2.0</td>\n",
       "      <td>242.0</td>\n",
       "      <td>17.8</td>\n",
       "      <td>392.83</td>\n",
       "      <td>4.03</td>\n",
       "    </tr>\n",
       "    <tr>\n",
       "      <th>3</th>\n",
       "      <td>0.03237</td>\n",
       "      <td>0.0</td>\n",
       "      <td>2.18</td>\n",
       "      <td>0.0</td>\n",
       "      <td>0.458</td>\n",
       "      <td>6.998</td>\n",
       "      <td>45.8</td>\n",
       "      <td>6.0622</td>\n",
       "      <td>3.0</td>\n",
       "      <td>222.0</td>\n",
       "      <td>18.7</td>\n",
       "      <td>394.63</td>\n",
       "      <td>2.94</td>\n",
       "    </tr>\n",
       "    <tr>\n",
       "      <th>4</th>\n",
       "      <td>0.06905</td>\n",
       "      <td>0.0</td>\n",
       "      <td>2.18</td>\n",
       "      <td>0.0</td>\n",
       "      <td>0.458</td>\n",
       "      <td>7.147</td>\n",
       "      <td>54.2</td>\n",
       "      <td>6.0622</td>\n",
       "      <td>3.0</td>\n",
       "      <td>222.0</td>\n",
       "      <td>18.7</td>\n",
       "      <td>396.90</td>\n",
       "      <td>5.33</td>\n",
       "    </tr>\n",
       "  </tbody>\n",
       "</table>\n",
       "</div>"
      ],
      "text/plain": [
       "      CRIM    ZN  INDUS  CHAS    NOX     RM   AGE     DIS  RAD    TAX  \\\n",
       "0  0.00632  18.0   2.31   0.0  0.538  6.575  65.2  4.0900  1.0  296.0   \n",
       "1  0.02731   0.0   7.07   0.0  0.469  6.421  78.9  4.9671  2.0  242.0   \n",
       "2  0.02729   0.0   7.07   0.0  0.469  7.185  61.1  4.9671  2.0  242.0   \n",
       "3  0.03237   0.0   2.18   0.0  0.458  6.998  45.8  6.0622  3.0  222.0   \n",
       "4  0.06905   0.0   2.18   0.0  0.458  7.147  54.2  6.0622  3.0  222.0   \n",
       "\n",
       "   PTRATIO       B  LSTAT  \n",
       "0     15.3  396.90   4.98  \n",
       "1     17.8  396.90   9.14  \n",
       "2     17.8  392.83   4.03  \n",
       "3     18.7  394.63   2.94  \n",
       "4     18.7  396.90   5.33  "
      ]
     },
     "execution_count": 26,
     "metadata": {},
     "output_type": "execute_result"
    }
   ],
   "source": [
    "df.head()"
   ]
  },
  {
   "cell_type": "code",
   "execution_count": 27,
   "metadata": {},
   "outputs": [
    {
     "data": {
      "text/plain": [
       "array([24. , 21.6, 34.7, 33.4, 36.2])"
      ]
     },
     "execution_count": 27,
     "metadata": {},
     "output_type": "execute_result"
    }
   ],
   "source": [
    "boston.target[0:5]"
   ]
  },
  {
   "cell_type": "markdown",
   "metadata": {},
   "source": [
    "<a id=\"create-tensors-that-correspond-to-our-data\"></a>\n",
    "### Create tensors that correspond to our data\n",
    "- We tell Tensorflow that our feature matrix has 13 features and our outcome has one vector\n",
    "- We leave the number of observations open, it will be inferred from the data"
   ]
  },
  {
   "cell_type": "code",
   "execution_count": 28,
   "metadata": {},
   "outputs": [],
   "source": [
    "X = tf.placeholder(tf.float32, shape=[None, df.shape[1]], name='X')\n",
    "Y = tf.placeholder(tf.float32, shape=[None, 1], name='Y')\n",
    "n_samples = df.shape[0]"
   ]
  },
  {
   "cell_type": "markdown",
   "metadata": {
    "collapsed": true
   },
   "source": [
    "<a id=\"create-weights-to-use-in-our-model\"></a>\n",
    "### Create weights to use in our model\n"
   ]
  },
  {
   "cell_type": "code",
   "execution_count": 29,
   "metadata": {},
   "outputs": [],
   "source": [
    "w = tf.Variable(tf.zeros([df.shape[1], 1]))\n",
    "b = tf.Variable(tf.zeros([1]))"
   ]
  },
  {
   "cell_type": "markdown",
   "metadata": {},
   "source": [
    "<a id=\"create-model-loss-function-and-optimizaer\"></a>\n",
    "### Create model, loss function and optimizer\n",
    "- We will modify the model a little with matrix multiplication so we can use multiple ws"
   ]
  },
  {
   "cell_type": "code",
   "execution_count": 30,
   "metadata": {},
   "outputs": [],
   "source": [
    "pred = tf.add(tf.matmul(X, w), b)"
   ]
  },
  {
   "cell_type": "code",
   "execution_count": 31,
   "metadata": {},
   "outputs": [],
   "source": [
    "error = pred - Y\n",
    "cost = tf.reduce_mean(tf.square(error))"
   ]
  },
  {
   "cell_type": "code",
   "execution_count": 32,
   "metadata": {},
   "outputs": [],
   "source": [
    "optimizer = tf.train.GradientDescentOptimizer(learning_rate=learning_rate)\n",
    "training_op = optimizer.minimize(cost)"
   ]
  },
  {
   "cell_type": "markdown",
   "metadata": {},
   "source": [
    "<a id=\"scale-our-data\"></a>\n",
    "### Scale our data\n",
    "- Optimization problems tend to work best when all the numbers and derivatives are around the same magnitude\n",
    "    - Neural Nets are especially sensitive to this\n",
    "- We will use sklearn to standardize our data"
   ]
  },
  {
   "cell_type": "code",
   "execution_count": 33,
   "metadata": {},
   "outputs": [],
   "source": [
    "from sklearn.preprocessing import StandardScaler\n",
    "\n",
    "scaler = StandardScaler()\n",
    "train_X = scaler.fit_transform(df.values)\n",
    "train_Y = boston.target.reshape(-1,1)\n",
    "\n",
    "cost_history = []"
   ]
  },
  {
   "cell_type": "markdown",
   "metadata": {},
   "source": [
    "<a id=\"train-our-network-on-the-boston-data\"></a>\n",
    "### Train our network on the Boston data"
   ]
  },
  {
   "cell_type": "code",
   "execution_count": 34,
   "metadata": {},
   "outputs": [],
   "source": [
    "# Set up some parameters that we will use later\n",
    "\n",
    "learning_rate = 0.01 # Size of Gradient Descent step\n",
    "training_epochs = 20000 # How many times we'll iterate through the full set\n",
    "display_step = 1000 # We want to see something every 50 steps"
   ]
  },
  {
   "cell_type": "code",
   "execution_count": 35,
   "metadata": {
    "scrolled": false
   },
   "outputs": [
    {
     "name": "stdout",
     "output_type": "stream",
     "text": [
      "Epoch: 1000 cost= 21.956873 w= [-0.865   0.9846 -0.0924  0.7154 -1.9416  2.7341 -0.0271 -3.0557  2.0463\n",
      " -1.4119 -2.0259  0.857  -3.72  ] b= [22.5328] \n",
      "\n",
      "Epoch: 2000 cost= 21.902271 w= [-0.9079  1.059   0.0761  0.6917 -2.0457  2.6834  0.0104 -3.1074  2.49\n",
      " -1.8851 -2.0553  0.8555 -3.742 ] b= [22.5328] \n",
      "\n",
      "Epoch: 3000 cost= 21.898132 w= [-0.917   1.0749  0.1242  0.6849 -2.0567  2.6741  0.0182 -3.1058  2.6115\n",
      " -2.0222 -2.0604  0.8563 -3.7468] b= [22.5328] \n",
      "\n",
      "Epoch: 4000 cost= 21.897808 w= [-0.9195  1.0793  0.1377  0.683  -2.0592  2.6716  0.0203 -3.1048  2.6455\n",
      " -2.0608 -2.0617  0.8565 -3.7482] b= [22.5328] \n",
      "\n",
      "Epoch: 5000 cost= 21.897781 w= [-0.9201  1.0805  0.1415  0.6824 -2.0598  2.6709  0.0209 -3.1046  2.6551\n",
      " -2.0717 -2.062   0.8566 -3.7485] b= [22.5328] \n",
      "\n",
      "Epoch: 6000 cost= 21.897781 w= [-0.9203  1.0809  0.1425  0.6823 -2.06    2.6707  0.021  -3.1045  2.6577\n",
      " -2.0747 -2.0621  0.8566 -3.7486] b= [22.5328] \n",
      "\n",
      "Epoch: 7000 cost= 21.897781 w= [-0.9204  1.0809  0.1428  0.6822 -2.0601  2.6707  0.0211 -3.1045  2.6585\n",
      " -2.0755 -2.0621  0.8566 -3.7486] b= [22.5328] \n",
      "\n",
      "Epoch: 8000 cost= 21.897778 w= [-0.9204  1.081   0.1429  0.6822 -2.0601  2.6707  0.0211 -3.1045  2.6587\n",
      " -2.0758 -2.0621  0.8566 -3.7487] b= [22.5328] \n",
      "\n",
      "Epoch: 9000 cost= 21.897779 w= [-0.9204  1.081   0.1429  0.6822 -2.0601  2.6707  0.0211 -3.1045  2.6587\n",
      " -2.0758 -2.0621  0.8566 -3.7487] b= [22.5328] \n",
      "\n",
      "Epoch: 10000 cost= 21.897779 w= [-0.9204  1.081   0.1429  0.6822 -2.0601  2.6707  0.0211 -3.1045  2.6587\n",
      " -2.0758 -2.0621  0.8566 -3.7487] b= [22.5328] \n",
      "\n",
      "Epoch: 11000 cost= 21.897779 w= [-0.9204  1.081   0.1429  0.6822 -2.0601  2.6707  0.0211 -3.1045  2.6587\n",
      " -2.0758 -2.0621  0.8566 -3.7487] b= [22.5328] \n",
      "\n",
      "Epoch: 12000 cost= 21.897779 w= [-0.9204  1.081   0.1429  0.6822 -2.0601  2.6707  0.0211 -3.1045  2.6587\n",
      " -2.0758 -2.0621  0.8566 -3.7487] b= [22.5328] \n",
      "\n",
      "Epoch: 13000 cost= 21.897779 w= [-0.9204  1.081   0.1429  0.6822 -2.0601  2.6707  0.0211 -3.1045  2.6587\n",
      " -2.0758 -2.0621  0.8566 -3.7487] b= [22.5328] \n",
      "\n",
      "Epoch: 14000 cost= 21.897779 w= [-0.9204  1.081   0.1429  0.6822 -2.0601  2.6707  0.0211 -3.1045  2.6587\n",
      " -2.0758 -2.0621  0.8566 -3.7487] b= [22.5328] \n",
      "\n",
      "Epoch: 15000 cost= 21.897779 w= [-0.9204  1.081   0.1429  0.6822 -2.0601  2.6707  0.0211 -3.1045  2.6587\n",
      " -2.0758 -2.0621  0.8566 -3.7487] b= [22.5328] \n",
      "\n",
      "Epoch: 16000 cost= 21.897779 w= [-0.9204  1.081   0.1429  0.6822 -2.0601  2.6707  0.0211 -3.1045  2.6587\n",
      " -2.0758 -2.0621  0.8566 -3.7487] b= [22.5328] \n",
      "\n",
      "Epoch: 17000 cost= 21.897779 w= [-0.9204  1.081   0.1429  0.6822 -2.0601  2.6707  0.0211 -3.1045  2.6587\n",
      " -2.0758 -2.0621  0.8566 -3.7487] b= [22.5328] \n",
      "\n",
      "Epoch: 18000 cost= 21.897779 w= [-0.9204  1.081   0.1429  0.6822 -2.0601  2.6707  0.0211 -3.1045  2.6587\n",
      " -2.0758 -2.0621  0.8566 -3.7487] b= [22.5328] \n",
      "\n",
      "Epoch: 19000 cost= 21.897779 w= [-0.9204  1.081   0.1429  0.6822 -2.0601  2.6707  0.0211 -3.1045  2.6587\n",
      " -2.0758 -2.0621  0.8566 -3.7487] b= [22.5328] \n",
      "\n",
      "Epoch: 20000 cost= 21.897779 w= [-0.9204  1.081   0.1429  0.6822 -2.0601  2.6707  0.0211 -3.1045  2.6587\n",
      " -2.0758 -2.0621  0.8566 -3.7487] b= [22.5328] \n",
      "\n",
      "Optimization finished\n",
      "Training cost= 21.89778 \n",
      " intercept:  22.53276 \n",
      "\n",
      "CRIM : -0.92040503\n",
      "ZN : 1.0809735\n",
      "INDUS : 0.14292677\n",
      "CHAS : 0.6822095\n",
      "NOX : -2.060067\n",
      "RM : 2.6706662\n",
      "AGE : 0.021095397\n",
      "DIS : -3.104462\n",
      "RAD : 2.6586885\n",
      "TAX : -2.0758047\n",
      "PTRATIO : -2.062138\n",
      "B : 0.85664177\n",
      "LSTAT : -3.7486556\n",
      "MSE: 21.8978\n"
     ]
    }
   ],
   "source": [
    "init = tf.global_variables_initializer()\n",
    "\n",
    "with tf.Session() as sess:\n",
    "    sess.run(init)\n",
    "    \n",
    "    for epoch in range(training_epochs): \n",
    "        sess.run(training_op, feed_dict={X: train_X, Y:train_Y})\n",
    "        cost_history.append(sess.run(cost, feed_dict={X: train_X, Y:train_Y}))\n",
    "        \n",
    "        if (epoch+1) % display_step == 0: \n",
    "            c = sess.run(cost, feed_dict={X: train_X, Y: train_Y})\n",
    "            print('Epoch:', '%04d' % (epoch+1), 'cost=', '{:9f}'.format(c), \\\n",
    "            \"w=\", sess.run(w).reshape(train_X.shape[1],), \"b=\", sess.run(b), '\\n')\n",
    "            \n",
    "    \n",
    "    print('Optimization finished')\n",
    "    training_cost = sess.run(cost, feed_dict={X: train_X, Y: train_Y})\n",
    "    print(\"Training cost=\", training_cost, '\\n', \"intercept: \", sess.run(b)[0],'\\n')\n",
    "    weights = sess.run(w).reshape(train_X.shape[1],)\n",
    "    \n",
    "    for x in zip(df.columns, weights):\n",
    "        print(x[0], ':', x[1])\n",
    "        \n",
    "    pred_y = sess.run(pred, feed_dict={X: train_X})\n",
    "    mse = sess.run(cost, feed_dict={X:train_X, Y:train_Y})\n",
    "    print((\"MSE: %.4f\" % mse))"
   ]
  },
  {
   "cell_type": "code",
   "execution_count": 36,
   "metadata": {},
   "outputs": [
    {
     "data": {
      "image/png": "[encoded data removed]",
      "text/plain": [
       "<matplotlib.figure.Figure at 0x1a311ea0f0>"
      ]
     },
     "metadata": {
      "image/png": {
       "height": 266,
       "width": 386
      }
     },
     "output_type": "display_data"
    }
   ],
   "source": [
    "fig, ax = plt.subplots()\n",
    "ax.scatter(train_Y, pred_y)\n",
    "ax.plot([train_Y.min(), train_Y.max()], [train_Y.min(), train_Y.max()], 'k--', lw=3)\n",
    "ax.set_xlabel('Measured')\n",
    "ax.set_ylabel('Predicted')\n",
    "plt.show()"
   ]
  },
  {
   "cell_type": "markdown",
   "metadata": {},
   "source": [
    "This is hard to read because there is more going on, but it's just like Multiple Linear Regression. As we train our network further and further we get better estimates for our parameters and our MSE decreases."
   ]
  },
  {
   "cell_type": "markdown",
   "metadata": {},
   "source": [
    "<a id=\"plot-mse-over-epochs\"></a>\n",
    "### Plot MSE over Epochs"
   ]
  },
  {
   "cell_type": "code",
   "execution_count": 37,
   "metadata": {},
   "outputs": [
    {
     "data": {
      "image/png": "[encoded data removed]",
      "text/plain": [
       "<matplotlib.figure.Figure at 0x1a316f22e8>"
      ]
     },
     "metadata": {
      "image/png": {
       "height": 267,
       "width": 393
      }
     },
     "output_type": "display_data"
    }
   ],
   "source": [
    "plt.plot(list(range(training_epochs)) , cost_history, label='tensorflow')\n",
    "plt.hlines(boston_mse, 0, training_epochs, label='sklearn')\n",
    "plt.xscale('log')\n",
    "plt.xlabel('Epochs')\n",
    "plt.ylabel('MSE')\n",
    "plt.legend()\n",
    "plt.show()"
   ]
  },
  {
   "cell_type": "markdown",
   "metadata": {},
   "source": [
    "<a id=\"train-a-multilayer-perceptron-on-the-titanic-data\"></a>\n",
    "## Train a Multilayer Perceptron on the Titanic data\n",
    "---\n",
    "\n",
    "- A feedforward multilayer perceptron is one of the most well known neural network architectures\n",
    "- They are structured just like the picture in the intro\n",
    "    - We have an input layer of features\n",
    "    - These input features are passed into neurons in the hidden layers\n",
    "    - Each neuron is a perceptron, kind of like a bunch of small linear regressions\n",
    "    - We pass information from one layer of neurons to the next layer of neurons until we hit the output layer\n",
    "    - The output layer does one calculation to output a prediction of our outome"
   ]
  },
  {
   "cell_type": "markdown",
   "metadata": {},
   "source": [
    "![](./assets/images/neuralnet.png)"
   ]
  },
  {
   "cell_type": "markdown",
   "metadata": {},
   "source": [
    "<a id=\"load-in-the-titanic-data\"></a>\n",
    "### Load in the titanic data"
   ]
  },
  {
   "cell_type": "code",
   "execution_count": 38,
   "metadata": {},
   "outputs": [],
   "source": [
    "data = pd.read_csv('assets/datasets/titanic_train.csv')\n",
    "X = data.drop('Survived', axis=1)\n",
    "y = data[['Survived']]\n",
    "\n",
    "X_train, X_test, y_train, y_test = train_test_split(X, y, test_size=0.33, random_state=42)"
   ]
  },
  {
   "cell_type": "markdown",
   "metadata": {},
   "source": [
    "<a id=\"do-a-bit-of-data-cleaning\"></a>\n",
    "### Do a bit of data cleaning"
   ]
  },
  {
   "cell_type": "code",
   "execution_count": 39,
   "metadata": {},
   "outputs": [
    {
     "data": {
      "text/plain": [
       "array([[51.8625],\n",
       "       [15.5   ],\n",
       "       [41.5792],\n",
       "       [14.4542],\n",
       "       [10.5167]])"
      ]
     },
     "execution_count": 39,
     "metadata": {},
     "output_type": "execute_result"
    }
   ],
   "source": [
    "# Create a helper class to extract features one by one in a pipeline\n",
    "\n",
    "class FeatureExtractor(TransformerMixin):\n",
    "\n",
    "    def __init__(self, column):\n",
    "        self.column = column\n",
    "    \n",
    "    def fit(self, x, y=None):\n",
    "        return self\n",
    "    \n",
    "    def transform(self, x, y=None):\n",
    "        return x[self.column].values.reshape(-1, 1)\n",
    "    \n",
    "    \n",
    "FeatureExtractor('Fare').fit_transform(X_train)[0:5]"
   ]
  },
  {
   "cell_type": "markdown",
   "metadata": {},
   "source": [
    "The sklearn `LabelBinarizer` does not fit in a pipeline, let's use [this](https://github.com/scikit-learn/scikit-learn/issues/3112) customized version instead:"
   ]
  },
  {
   "cell_type": "code",
   "execution_count": 40,
   "metadata": {},
   "outputs": [],
   "source": [
    "from sklearn.base import BaseEstimator\n",
    "\n",
    "class CustomBinarizer(BaseEstimator, TransformerMixin):\n",
    "\n",
    "    def fit(self, X, y=None,**fit_params):\n",
    "        return self\n",
    "    \n",
    "    def transform(self, X):\n",
    "        return LabelBinarizer().fit(X).transform(X)"
   ]
  },
  {
   "cell_type": "code",
   "execution_count": 41,
   "metadata": {},
   "outputs": [],
   "source": [
    "# Create a pipeline to binarize labels and impute missing values with an appropriate method\n",
    "pclass_pipe = make_pipeline(\n",
    "    FeatureExtractor('Pclass'),\n",
    "    CustomBinarizer(),\n",
    "    Imputer(strategy='most_frequent'),\n",
    "    StandardScaler()\n",
    ")\n",
    "sex_pipe = make_pipeline(\n",
    "    FeatureExtractor('Sex'),\n",
    "    CustomBinarizer(),\n",
    "    Imputer(strategy='most_frequent'),\n",
    "    StandardScaler()\n",
    ")\n",
    "age_pipe = make_pipeline(\n",
    "    FeatureExtractor('Age'),\n",
    "    Imputer(strategy='mean'),\n",
    "    StandardScaler()\n",
    ")\n",
    "sibsp_pipe = make_pipeline(\n",
    "    FeatureExtractor('SibSp'),\n",
    "    Imputer(strategy='most_frequent'),\n",
    "    StandardScaler()\n",
    ")\n",
    "parch_pipe = make_pipeline(\n",
    "    FeatureExtractor('Parch'),\n",
    "    Imputer(strategy='most_frequent'),\n",
    "    StandardScaler()\n",
    ")\n",
    "\n",
    "fu = make_union(pclass_pipe, sex_pipe, \n",
    "                age_pipe, sibsp_pipe, parch_pipe)"
   ]
  },
  {
   "cell_type": "code",
   "execution_count": 42,
   "metadata": {},
   "outputs": [
    {
     "name": "stdout",
     "output_type": "stream",
     "text": [
      "[[ 1.8479e+00 -5.1516e-01 -1.1368e+00  7.2678e-01  1.8922e+00 -4.6984e-01\n",
      "  -4.6399e-01]\n",
      " [-5.4115e-01 -5.1516e-01  8.7966e-01  7.2678e-01 -2.7468e-16 -4.6984e-01\n",
      "  -4.6399e-01]\n",
      " [-5.4115e-01  1.9411e+00 -1.1368e+00  7.2678e-01 -3.4993e-01  3.4418e-01\n",
      "   2.0162e+00]\n",
      " [-5.4115e-01 -5.1516e-01  8.7966e-01  7.2678e-01 -2.7262e-01  3.4418e-01\n",
      "  -4.6399e-01]\n",
      " [-5.4115e-01 -5.1516e-01  8.7966e-01 -1.3759e+00 -5.8188e-01 -4.6984e-01\n",
      "  -4.6399e-01]]\n"
     ]
    }
   ],
   "source": [
    "print(fu.fit_transform(X_train)[0:5])"
   ]
  },
  {
   "cell_type": "code",
   "execution_count": 43,
   "metadata": {},
   "outputs": [],
   "source": [
    "# Create X, y, train, and test\n",
    "\n",
    "def multi_binarizer(data):\n",
    "    \n",
    "    data = data.copy()\n",
    "    data['Survived Class 0'] = data['Survived'].apply(lambda x: 1 if x == 0 else 0)\n",
    "\n",
    "    return data[['Survived Class 0', 'Survived']].values\n",
    "\n",
    "train_X = fu.transform(X_train)\n",
    "train_Y = multi_binarizer(y_train)\n",
    "test_X = fu.transform(X_test)\n",
    "ttest_Y = multi_binarizer(y_test)"
   ]
  },
  {
   "cell_type": "markdown",
   "metadata": {},
   "source": [
    "<a id=\"create-tensors\"></a>\n",
    "### Create tensors"
   ]
  },
  {
   "cell_type": "code",
   "execution_count": 44,
   "metadata": {},
   "outputs": [],
   "source": [
    "n_input = train_X.shape[1]\n",
    "n_train = train_X.shape[0]\n",
    "n_classes = 2\n",
    "\n",
    "x = tf.placeholder('float', [None, n_input])\n",
    "y = tf.placeholder('float', [None, n_classes])"
   ]
  },
  {
   "cell_type": "markdown",
   "metadata": {},
   "source": [
    "<a id=\"create-weights\"></a>\n",
    "### Create weights"
   ]
  },
  {
   "cell_type": "code",
   "execution_count": 45,
   "metadata": {},
   "outputs": [],
   "source": [
    "# Define the number of neurons in each hidden layer\n",
    "n_hidden_1 = 4\n",
    "n_hidden_2 = 4"
   ]
  },
  {
   "cell_type": "code",
   "execution_count": 46,
   "metadata": {},
   "outputs": [],
   "source": [
    "stddev = 0.1\n",
    "\n",
    "weights = {\n",
    "    'h1': tf.Variable(tf.random_normal([n_input, n_hidden_1], stddev=stddev)),\n",
    "    'h2': tf.Variable(tf.random_normal([n_hidden_1, n_hidden_2], stddev=stddev)),\n",
    "    'out': tf.Variable(tf.random_normal([n_hidden_2, n_classes], stddev=stddev))\n",
    "}\n",
    "biases = {\n",
    "    'b1': tf.Variable(tf.random_normal([n_hidden_1])),\n",
    "    'b2': tf.Variable(tf.random_normal([n_hidden_2])),\n",
    "    'out': tf.Variable(tf.random_normal([n_classes]))\n",
    "}"
   ]
  },
  {
   "cell_type": "markdown",
   "metadata": {},
   "source": [
    "<a id=\"create-the-structure-of-the-multilayer-perceptron-network\"></a>\n",
    "### Create the structure of the Multilayer Perceptron network\n",
    "- This is very similar to what we did in linear regression\n",
    "    - `tf.add(tf.matmul(x, weights['h1']), biases['b1'])` is nearly identical\n",
    "- There are two major changes\n",
    "    - We now use a dictionary to make it easier to access our weight\n",
    "    - We wrap the output from each layer in a ReLu function, `tf.nn.relu()`\n",
    "- Each layer is fed directly into the next layer, which is why we call it a feed-forward network\n",
    "    \n",
    "    \n",
    "Note: ReLu functions have come into popularity lately because  the linear part of the function helps us avoid the [vanishing gradient](https://en.wikipedia.org/wiki/Vanishing_gradient_problem) problem."
   ]
  },
  {
   "cell_type": "code",
   "execution_count": 47,
   "metadata": {},
   "outputs": [],
   "source": [
    "def multilayer_perceptron(x, weights, biases):\n",
    "    \n",
    "    # Layer 1, ReLU activation\n",
    "    layer_1 = tf.nn.relu(tf.add(tf.matmul(x, weights['h1']), biases['b1']))\n",
    "    \n",
    "    # Layer 2, ReLU activation\n",
    "    layer_2 = tf.nn.relu(tf.add(tf.matmul(layer_1, weights['h2']), biases['b2']))\n",
    "    \n",
    "    return tf.matmul(layer_2, weights['out']) + biases['out']"
   ]
  },
  {
   "cell_type": "code",
   "execution_count": 48,
   "metadata": {},
   "outputs": [],
   "source": [
    "pred = multilayer_perceptron(x, weights, biases)"
   ]
  },
  {
   "cell_type": "markdown",
   "metadata": {},
   "source": [
    "The setup of the layer structure could be even further simplified using the command `tf.layers.dense` which carries out the matrix multiplication given the input data, the current layer and the activation function."
   ]
  },
  {
   "cell_type": "markdown",
   "metadata": {},
   "source": [
    "<a id=\"define-loss-function\"></a>\n",
    "### Define loss function\n",
    "- Now we have a classification problem\n",
    "- Cross-entropy is the same loss function as the one used in logistic regression"
   ]
  },
  {
   "cell_type": "code",
   "execution_count": 49,
   "metadata": {},
   "outputs": [],
   "source": [
    "cost = tf.reduce_mean(tf.nn.softmax_cross_entropy_with_logits_v2(logits=pred, labels=y))"
   ]
  },
  {
   "cell_type": "markdown",
   "metadata": {},
   "source": [
    "<a id=\"define-optimizer\"></a>\n",
    "### Define optimizer"
   ]
  },
  {
   "cell_type": "code",
   "execution_count": 50,
   "metadata": {},
   "outputs": [],
   "source": [
    "optm = tf.train.GradientDescentOptimizer(learning_rate).minimize(cost)"
   ]
  },
  {
   "cell_type": "markdown",
   "metadata": {},
   "source": [
    "<a id=\"train-the-network\"></a>\n",
    "### Train the network\n",
    "- We've changed the training procedure a little\n",
    "- We've added a batch_size.\n",
    "    - This is a trick to make optimization faster\n",
    "    - Rather than using all of our samples on every epoch to train the network, we sample observations\n",
    "    - This reduces the computation time, without a heavy impact on the optimization procedure"
   ]
  },
  {
   "cell_type": "code",
   "execution_count": 51,
   "metadata": {},
   "outputs": [],
   "source": [
    "learning_rate = 0.001 # A weight to determine how fast the network is trained\n",
    "training_epochs = 2500 # How many times we update the weights by the learning_rate\n",
    "batch_size = 50 # How many samples of data we use at a time to compute the update\n",
    "display_step = 100 # How often\n",
    "\n",
    "correct = tf.equal(tf.argmax(pred, 1), tf.argmax(y, 1))\n",
    "accuracy = tf.reduce_mean(tf.cast(correct, 'float'))\n",
    "init = tf.global_variables_initializer()"
   ]
  },
  {
   "cell_type": "code",
   "execution_count": 52,
   "metadata": {},
   "outputs": [
    {
     "name": "stdout",
     "output_type": "stream",
     "text": [
      "Epoch: 000/2500 cost: 0.827605014\n",
      " Training accuracy: 0.440\n",
      "Epoch: 100/2500 cost: 0.653071268\n",
      " Training accuracy: 0.660\n",
      "Epoch: 200/2500 cost: 0.561977682\n",
      " Training accuracy: 0.780\n",
      "Epoch: 300/2500 cost: 0.476022038\n",
      " Training accuracy: 0.800\n",
      "Epoch: 400/2500 cost: 0.431074825\n",
      " Training accuracy: 0.800\n",
      "Epoch: 500/2500 cost: 0.462989246\n",
      " Training accuracy: 0.720\n",
      "Epoch: 600/2500 cost: 0.485482728\n",
      " Training accuracy: 0.680\n",
      "Epoch: 700/2500 cost: 0.507726504\n",
      " Training accuracy: 0.860\n",
      "Epoch: 800/2500 cost: 0.464836917\n",
      " Training accuracy: 0.760\n",
      "Epoch: 900/2500 cost: 0.462425592\n",
      " Training accuracy: 0.880\n",
      "Epoch: 1000/2500 cost: 0.443990025\n",
      " Training accuracy: 0.860\n",
      "Epoch: 1100/2500 cost: 0.464785161\n",
      " Training accuracy: 0.820\n",
      "Epoch: 1200/2500 cost: 0.435925847\n",
      " Training accuracy: 0.800\n",
      "Epoch: 1300/2500 cost: 0.450564658\n",
      " Training accuracy: 0.800\n",
      "Epoch: 1400/2500 cost: 0.451553889\n",
      " Training accuracy: 0.840\n",
      "Epoch: 1500/2500 cost: 0.444503408\n",
      " Training accuracy: 0.880\n",
      "Epoch: 1600/2500 cost: 0.459707593\n",
      " Training accuracy: 0.740\n",
      "Epoch: 1700/2500 cost: 0.459510272\n",
      " Training accuracy: 0.780\n",
      "Epoch: 1800/2500 cost: 0.486829162\n",
      " Training accuracy: 0.820\n",
      "Epoch: 1900/2500 cost: 0.490308986\n",
      " Training accuracy: 0.880\n",
      "Epoch: 2000/2500 cost: 0.426638945\n",
      " Training accuracy: 0.840\n",
      "Epoch: 2100/2500 cost: 0.444157273\n",
      " Training accuracy: 0.800\n",
      "Epoch: 2200/2500 cost: 0.496624191\n",
      " Training accuracy: 0.880\n",
      "Epoch: 2300/2500 cost: 0.455898363\n",
      " Training accuracy: 0.760\n",
      "Epoch: 2400/2500 cost: 0.421884943\n",
      " Training accuracy: 0.780\n"
     ]
    }
   ],
   "source": [
    "init = tf.global_variables_initializer()\n",
    "\n",
    "with tf.Session() as sess:\n",
    "    sess.run(init)\n",
    "\n",
    "    for epoch in range(training_epochs):\n",
    "        avg_cost = 0.0\n",
    "        total_batch = int(n_train/batch_size)\n",
    "        \n",
    "        for i in range(total_batch):\n",
    "            random_index = np.random.randint(n_train, size=batch_size)\n",
    "            batch_xs = train_X[random_index, :]\n",
    "            batch_ys = train_Y[random_index, :]\n",
    "            sess.run(optm, feed_dict={x: batch_xs, y: batch_ys})\n",
    "            avg_cost += sess.run(cost,\n",
    "                feed_dict={x: batch_xs, y: batch_ys})/total_batch\n",
    "\n",
    "        if epoch % display_step == 0:\n",
    "            print((\"Epoch: %03d/%03d cost: %.9f\" % \n",
    "                   (epoch, training_epochs, avg_cost)))\n",
    "            train_accuracy = sess.run(accuracy, feed_dict={x: batch_xs, y: batch_ys})\n",
    "            print((\" Training accuracy: %.3f\" % (train_accuracy)))\n",
    "        \n",
    "    predictions = sess.run(tf.argmax(pred, 1), feed_dict={x:test_X})"
   ]
  },
  {
   "cell_type": "code",
   "execution_count": 53,
   "metadata": {},
   "outputs": [
    {
     "data": {
      "text/plain": [
       "0.8305084745762712"
      ]
     },
     "execution_count": 53,
     "metadata": {},
     "output_type": "execute_result"
    }
   ],
   "source": [
    "from sklearn.metrics import accuracy_score\n",
    "accuracy_score(y_test['Survived'], predictions)"
   ]
  },
  {
   "cell_type": "markdown",
   "metadata": {},
   "source": [
    "<a id=\"a-final-example-with-more-hidden-layers\"></a>\n",
    "### A final example with more hidden layers"
   ]
  },
  {
   "cell_type": "markdown",
   "metadata": {},
   "source": [
    "With more complex neural networks, appropriate training also becomes more difficult. In particular, one has to initialize suitable values for the model coefficients before starting the optimization procedure. Usually one takes some random values, e.g. from a normal distribution, but success depends on the choice of the shape parameters for that normal distribution. \n",
    "Empirical recommendations how to set the shape parameters for parameters in each layer are related to the number of input and output parameters in each layer and the type of activation function.\n",
    "\n",
    "A famous scheme according to [Glorot and Bengio](http://proceedings.mlr.press/v9/glorot10a/glorot10a.pdf?hc_location=ufi) known as Xavier initialization recommends the following in the case of a RELU activation function."
   ]
  },
  {
   "cell_type": "code",
   "execution_count": 54,
   "metadata": {},
   "outputs": [],
   "source": [
    "def std_init(n_inputs,n_outputs):\n",
    "    std = 2/(n_inputs+n_outputs)**0.5\n",
    "    return std"
   ]
  },
  {
   "cell_type": "code",
   "execution_count": 55,
   "metadata": {},
   "outputs": [],
   "source": [
    "learning_rate = 0.0005\n",
    "training_epochs = 7500\n",
    "batch_size = 50\n",
    "display_step = 500\n",
    "\n",
    "n_hidden_1 = 8\n",
    "n_hidden_2 = 8\n",
    "n_hidden_3 = 8\n",
    "n_input = train_X.shape[1]\n",
    "n_train = train_X.shape[0]\n",
    "n_classes = 2\n",
    "\n",
    "x = tf.placeholder('float', [None, n_input])\n",
    "y = tf.placeholder('float', [None, n_classes])\n",
    "\n",
    "def multilayer_perceptron(x, weights, biases):\n",
    "    \n",
    "    # Layer 1, ReLU activation, 4 neurons\n",
    "    layer_1 = tf.nn.relu(tf.add(tf.matmul(x, weights['h1']), biases['b1']))\n",
    "    \n",
    "    # Layer 2, ReLU activation, 4 Neurons\n",
    "    layer_2 = tf.nn.relu(tf.add(tf.matmul(layer_1, weights['h2']), biases['b2']))\n",
    "    \n",
    "    # Layer 3, ReLu activation, 4 Neurons\n",
    "    layer_3 = tf.nn.relu(tf.add(tf.matmul(layer_2, weights['h3']), biases['b3']))\n",
    "    \n",
    "    return tf.matmul(layer_3, weights['out']) + biases['out']\n",
    "\n",
    "np.random.seed(1)\n",
    "stddev = 0.01\n",
    "\n",
    "weights = {\n",
    "    'h1': tf.Variable(tf.random_normal([n_input, n_hidden_1], stddev=std_init(n_input,n_hidden_1))),\n",
    "    'h2': tf.Variable(tf.random_normal([n_hidden_1, n_hidden_2], stddev=std_init(n_hidden_1,n_hidden_2))),\n",
    "    'h3': tf.Variable(tf.random_normal([n_hidden_2, n_hidden_3], stddev=std_init(n_hidden_2,n_hidden_3))),\n",
    "    'out': tf.Variable(tf.random_normal([n_hidden_3, n_classes], stddev=std_init(n_hidden_3,n_classes)))\n",
    "}\n",
    "\n",
    "biases = {\n",
    "    'b1': tf.Variable(tf.random_normal([n_hidden_1],stddev=stddev)),\n",
    "    'b2': tf.Variable(tf.random_normal([n_hidden_2],stddev=stddev)),\n",
    "    'b3': tf.Variable(tf.random_normal([n_hidden_3],stddev=stddev)),\n",
    "    'out': tf.Variable(tf.random_normal([n_classes],stddev=stddev))\n",
    "}\n",
    "\n",
    "pred = multilayer_perceptron(x, weights, biases)\n",
    "\n",
    "cost = tf.reduce_mean(tf.nn.softmax_cross_entropy_with_logits_v2(logits=pred, labels=y))\n",
    "optm = tf.train.GradientDescentOptimizer(learning_rate).minimize(cost)\n",
    "\n",
    "\n",
    "# We also set up some helper functions\n",
    "\n",
    "correct = tf.equal(tf.argmax(pred, 1), tf.argmax(y, 1))\n",
    "accuracy = tf.reduce_mean(tf.cast(correct, 'float'))"
   ]
  },
  {
   "cell_type": "code",
   "execution_count": 56,
   "metadata": {
    "scrolled": false
   },
   "outputs": [
    {
     "name": "stdout",
     "output_type": "stream",
     "text": [
      "Epoch: 000/7500 cost: 1.880004417\n",
      " Training accuracy: 0.420\n",
      "Epoch: 500/7500 cost: 0.505275599\n",
      " Training accuracy: 0.820\n",
      "Epoch: 1000/7500 cost: 0.474435478\n",
      " Training accuracy: 0.760\n",
      "Epoch: 1500/7500 cost: 0.450365844\n",
      " Training accuracy: 0.760\n",
      "Epoch: 2000/7500 cost: 0.460177958\n",
      " Training accuracy: 0.780\n",
      "Epoch: 2500/7500 cost: 0.423508725\n",
      " Training accuracy: 0.840\n",
      "Epoch: 3000/7500 cost: 0.409562619\n",
      " Training accuracy: 0.840\n",
      "Epoch: 3500/7500 cost: 0.416742997\n",
      " Training accuracy: 0.860\n",
      "Epoch: 4000/7500 cost: 0.404711271\n",
      " Training accuracy: 0.840\n",
      "Epoch: 4500/7500 cost: 0.389991086\n",
      " Training accuracy: 0.900\n",
      "Epoch: 5000/7500 cost: 0.388869310\n",
      " Training accuracy: 0.800\n",
      "Epoch: 5500/7500 cost: 0.369624978\n",
      " Training accuracy: 0.900\n",
      "Epoch: 6000/7500 cost: 0.370073982\n",
      " Training accuracy: 0.800\n",
      "Epoch: 6500/7500 cost: 0.376839765\n",
      " Training accuracy: 0.820\n",
      "Epoch: 7000/7500 cost: 0.373657056\n",
      " Training accuracy: 0.820\n"
     ]
    }
   ],
   "source": [
    "init = tf.global_variables_initializer()\n",
    "\n",
    "with tf.Session() as sess:\n",
    "    sess.run(init)\n",
    "\n",
    "    cost_counter = []\n",
    "\n",
    "    for epoch in range(training_epochs):\n",
    "        avg_cost = 0.0\n",
    "        total_batch = int(n_train/batch_size)\n",
    "        \n",
    "        for i in range(total_batch):\n",
    "            random_index = np.random.randint(n_train, size=batch_size)\n",
    "            batch_xs = train_X[random_index, :]\n",
    "            batch_ys = train_Y[random_index, :]\n",
    "            sess.run(optm, feed_dict={x: batch_xs, y: batch_ys})\n",
    "            avg_cost += sess.run(cost,\n",
    "                feed_dict={x: batch_xs, y: batch_ys})/total_batch\n",
    "\n",
    "        cost_counter.append(avg_cost)\n",
    "\n",
    "        if epoch % display_step == 0:\n",
    "            print((\"Epoch: %03d/%03d cost: %.9f\" % \n",
    "                   (epoch, training_epochs, avg_cost)))\n",
    "            train_accuracy = sess.run(accuracy, feed_dict={x: batch_xs, y: batch_ys})\n",
    "            print((\" Training accuracy: %.3f\" % (train_accuracy)))\n",
    "\n",
    "    predictions = sess.run(tf.argmax(pred, 1), feed_dict={x:test_X})"
   ]
  },
  {
   "cell_type": "code",
   "execution_count": 57,
   "metadata": {},
   "outputs": [
    {
     "data": {
      "image/png": "[encoded data removed]",
      "text/plain": [
       "<matplotlib.figure.Figure at 0x1a312dbeb8>"
      ]
     },
     "metadata": {
      "image/png": {
       "height": 250,
       "width": 373
      }
     },
     "output_type": "display_data"
    }
   ],
   "source": [
    "plt.plot(list(range(training_epochs)), cost_counter)\n",
    "plt.show()"
   ]
  },
  {
   "cell_type": "code",
   "execution_count": 58,
   "metadata": {},
   "outputs": [
    {
     "data": {
      "text/plain": [
       "0.8169491525423729"
      ]
     },
     "execution_count": 58,
     "metadata": {},
     "output_type": "execute_result"
    }
   ],
   "source": [
    "from sklearn.metrics import accuracy_score\n",
    "accuracy_score(y_test['Survived'], predictions)"
   ]
  },
  {
   "cell_type": "markdown",
   "metadata": {},
   "source": [
    "<a id=\"additionl-resources\"></a>\n",
    "## Additional Resources\n",
    "---\n",
    "\n",
    "- [Neural Networks and Deep Learning](http://neuralnetworksanddeeplearning.com/chap1.html)\n",
    "- [Deep Learning](http://www.deeplearningbook.org/)\n",
    "- [Tensorflow Tutorials](https://github.com/pkmital/tensorflow_tutorials)\n",
    "- [Awesome Tensorflow](https://github.com/jtoy/awesome-tensorflow)\n",
    "- [Tensorflow Examples](https://github.com/aymericdamien/TensorFlow-Examples)\n",
    "- [Hands-on Machine Learning with ScikitLearn and TensorFlow](https://github.com/ageron/handson-ml)\n",
    "- [Mind: How to Build a Neural Network](https://stevenmiller888.github.io/mind-how-to-build-a-neural-network/)"
   ]
  }
 ],
 "metadata": {
  "kernelspec": {
   "display_name": "Python [conda env:anaconda3]",
   "language": "python",
   "name": "conda-env-anaconda3-py"
  },
  "language_info": {
   "codemirror_mode": {
    "name": "ipython",
    "version": 3
   },
   "file_extension": ".py",
   "mimetype": "text/x-python",
   "name": "python",
   "nbconvert_exporter": "python",
   "pygments_lexer": "ipython3",
   "version": "3.6.4"
  },
  "toc": {
   "nav_menu": {},
   "number_sections": false,
   "sideBar": true,
   "skip_h1_title": true,
   "title_cell": "Table of Contents",
   "title_sidebar": "Contents",
   "toc_cell": false,
   "toc_position": {
    "height": "337px",
    "left": "0px",
    "right": "604.295px",
    "top": "62px",
    "width": "126px"
   },
   "toc_section_display": "block",
   "toc_window_display": false
  }
 },
 "nbformat": 4,
 "nbformat_minor": 2
}
