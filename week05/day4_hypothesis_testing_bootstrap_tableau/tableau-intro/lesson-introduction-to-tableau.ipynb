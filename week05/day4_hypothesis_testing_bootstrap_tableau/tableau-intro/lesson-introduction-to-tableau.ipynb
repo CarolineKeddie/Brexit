{
 "cells": [
  {
   "cell_type": "markdown",
   "metadata": {},
   "source": [
    "<img src=\"http://imgur.com/1ZcRyrc.png\" style=\"float: left; margin: 20px; height: 55px\">\n",
    "\n",
    "# Introduction to Tableau\n",
    "\n",
    "---"
   ]
  },
  {
   "cell_type": "markdown",
   "metadata": {},
   "source": [
    "## LEARNING OBJECTIVES\n",
    "\n",
    "### Core\n",
    "\n",
    "- Read csv files into tableau\n",
    "- Select variables for plotting and choose from the provided plotting options to produce    \n",
    "    - map plots\n",
    "    - scatter plots\n",
    "    - histograms\n",
    "\n",
    "### Target\n",
    "\n",
    "- Modify the default plotting options\n",
    "- Sort and filter data values\n",
    "\n",
    "### Stretch\n",
    "\n",
    "- Create calculated fields\n",
    "- Create parameters\n",
    "\n",
    "\n",
    "---\n",
    "\n",
    "### STUDENT PRE-WORK\n",
    "* Before this lesson, you should already have\n",
    "    - downloaded and installed Tableau and activated your license"
   ]
  },
  {
   "cell_type": "markdown",
   "metadata": {},
   "source": [
    "    \n",
    "---\n",
    "\n",
    "### LESSON GUIDE\n",
    "\n",
    "---\n",
    "\n",
    "\n",
    "- [Open Tableau and connect to the data source](#open)\n",
    "- [A first look at the worksheet](#first)\n",
    "- [Creating the first plot](#creating)\n",
    "- [Creating plots with maps](#maps)\n",
    "- [Calculated fields](#calculated)\n",
    "- [Scatter plot](#scatter)\n",
    "- [More plots](#more)\n",
    "- [Histogram](#histogram)\n",
    "- [Grouping](#grouping)\n",
    "- [Conclusions](#conclusions)\n",
    "- [Additional Resources](#resources)"
   ]
  },
  {
   "cell_type": "markdown",
   "metadata": {},
   "source": [
    "## Open Tableau and connect to the data source\n",
    "<a name=\"open\"></a>\n",
    "\n",
    "* Open Tableau\n",
    "* Go to the sheet “Data Source” at the left bottom\n",
    "* Connect to a data source, in this case to a csv file, you can choose “more”.\n",
    "* Navigate to resource-datasets/alcohol_by_country/drinks.csv\n",
    "* The file should be uploaded and you will see the corresponding table.\n",
    "\n",
    "![](assets/Images/ScreenShot_datasource.png)\n",
    "\n",
    "To create visualisations, you can work on the sheets.\n",
    "* Now go to sheet 1."
   ]
  },
  {
   "cell_type": "markdown",
   "metadata": {},
   "source": [
    "## A first look at the worksheet\n",
    "<a name=\"first\"></a>\n",
    "\n",
    "On the upper left, you see the data source.\n",
    "On the left hand side, you see the variables contained in the data columns.\n",
    "\n",
    "Some variables are classified as **measures** and some as **dimensions**.\n",
    "There are different symbols and different colours appearing together with the variable names.\n",
    "\n",
    "* The **show me** card on the right shows us the options we have to depict the chosen data columns.\n",
    "* In the **columns and rows shelves** we will drag the selected data.\n",
    "* The **pages, filters and marks cards** will allow further filtering and highlighting options.\n",
    "* The large white field is the **canvas**.\n",
    "* Further options can be chosen from the top. Note the **undo** and **redo** arrows on the upper left.\n",
    "\n",
    "As you notice, not all indicated variables were contained in the original data frame, such as measure names, measure values, longitude, latitude, and number of records. Latitude and longitude values have been generated from the country names, the number of records is a **calculated field**."
   ]
  },
  {
   "cell_type": "markdown",
   "metadata": {},
   "source": [
    "![](assets/Images/ScreenShot_worksheet.png)"
   ]
  },
  {
   "cell_type": "markdown",
   "metadata": {},
   "source": [
    "## Creating the first plot\n",
    "<a name=\"creating\"></a>\n",
    "\n",
    "* Hover over the different variable names. Click on the arrow on the right hand side and explore what you see.\n",
    "\n",
    "* Now double click on the measure values. What do you see? What is the aggregation method?\n",
    "\n",
    "* Now click on the **show me** button to obtain visualisation options. Which ones can be chosen? \n",
    "\n",
    "* Take a look on the choices for orientation and sorting in the middle of the tool bar. What do you see if you sort the data?\n",
    "\n",
    "* Hover over the plot. What do you see?\n",
    "\n",
    "* Now drag continent to the column shelve. How does your plot change? Do you get offered new visualisation types?\n",
    "\n",
    "* Remove the continent from the columns shelve. Instead, drag country on it. What do you observe now? Is the sorting the one we want? "
   ]
  },
  {
   "cell_type": "markdown",
   "metadata": {},
   "source": [
    "We can modify the sorting. \n",
    "* Click on the sort indicator. Clear sort. \n",
    "* Hover over country, click on the arrow and click on sort. \n",
    "    * In the sort by section, click on field. \n",
    "    * Click on the bar below and choose total litres of alcohol for sorting. \n",
    "    * You can also specify the aggregation method.  \n",
    "    * Choose descending or ascending ordering. \n",
    "    * Confirm by clicking ok.\n",
    "* What are the different plotting options now?"
   ]
  },
  {
   "cell_type": "markdown",
   "metadata": {},
   "source": [
    "![](assets/Images/ScreenShot_alcoholbycountry_barplot.png)"
   ]
  },
  {
   "cell_type": "markdown",
   "metadata": {},
   "source": [
    "## Creating plots with maps\n",
    "<a name=\"maps\"></a>\n",
    "\n",
    "* Go to a new sheet by clicking on the bottom on the + for worksheet.\n",
    "* Now double click on country. \n",
    "* Click undo and try the same for continent. What is the difference?\n",
    "\n",
    "Apparently, we have to teach Tableau a bit more. \n",
    "\n",
    "* First, let’s **convert** continent to a geographical variable. Click on the arrow in the continent field, choose geographic role and specify its role as country/region.\n",
    "* Now double click on continent.\n",
    "* Then at the top click on **Map** and then **edit locations**. Obviously, that is not what we wanted. \n",
    "\n",
    "![](assets/Images/ScreenShot_editlocations.png)"
   ]
  },
  {
   "cell_type": "markdown",
   "metadata": {},
   "source": [
    "* Click on continent again, choose **geographic role** and choose **create from** and then choose **country**. \n",
    "\n",
    "![](assets/Images/ScreenShot_continentfromcountry.png)"
   ]
  },
  {
   "cell_type": "markdown",
   "metadata": {},
   "source": [
    "The origin of the problem was that the continent names where not recognised. Let’s create more descriptive names. \n",
    "\n",
    "* Click on the arrow next to continent and choose “aliases”. A table pops up in which you can specify alias names which will be used in all visualisations.\n",
    "\n",
    "![](assets/Images/ScreenShot_continentaliases.png)"
   ]
  },
  {
   "cell_type": "markdown",
   "metadata": {},
   "source": [
    "Now drag total alcohol amount on “size” in the **marks card**. \n",
    "\n",
    "* Click on **size** to make a slide bar pop up which allows you to regulate the size of the circles. \n",
    "\n",
    "![](assets/Images/ScreenShot_resizecircles.png)\n",
    "\n",
    "\n",
    "* Drag any of the variables on **label**, also several are allowed. \n",
    "* Clicking on label, you can also modify and format the way it is depicted. \n",
    "* You can colour the circles by dragging any of the variables to **colour**. \n",
    "\n",
    "![](assets/Images/ScreenShot_adjustlabels.png)"
   ]
  },
  {
   "cell_type": "markdown",
   "metadata": {},
   "source": [
    "## Adding filters\n",
    "<a name=\"filters\"></a>\n",
    "\n",
    "Let’s add a new sheet. \n",
    "\n",
    "* Double click on countries. \n",
    "* Add total alcohol amount to size and adjust the size. \n",
    "* Add continent to colour.  \n",
    "\n",
    "Now add total alcohol to the **filter card**. A table pops up. Look at the options. \n",
    "\n",
    "* For now, choose **all values** and **at least**. \n",
    "\n",
    "![](assets/Images/ScreenShot_filtervalues.png)\n",
    "![](assets/Images/ScreenShot_filterrange.png)"
   ]
  },
  {
   "cell_type": "markdown",
   "metadata": {},
   "source": [
    "* Click on the field which now appears in the filter card and choose **show filter**. \n",
    "* A filter panel appears which might be hidden under the show me card. \n",
    "* Play around with the filter. \n",
    "\n",
    "![](assets/Images/ScreenShot_withfilter.png)\n",
    "\n",
    "\n",
    "\n",
    "To depict the same for wine or beer we could replace total alcohol by either of those, but that is a bit cumbersome. We can facilitate this by creating calculated fields and parameters."
   ]
  },
  {
   "cell_type": "markdown",
   "metadata": {},
   "source": [
    "## Calculated fields and parameters\n",
    "<a name=\"calculated\"></a>\n",
    "\n",
    "Let’s create a simple example of a calculated field.\n",
    "* Go to a new sheet.\n",
    "* Click on the arrow next to dimensions. \n",
    "* Choose **Create Calculated Field**. \n",
    "\n",
    "![](assets/Images/ScreenShot_calculatedfield_1.png)"
   ]
  },
  {
   "cell_type": "markdown",
   "metadata": {},
   "source": [
    "A table pops up. \n",
    "\n",
    "* You can choose a name for the calculated field, for example “Beer and Wine”. \n",
    "* In the field below, we can calculate a variable from the existing ones. \n",
    "* Just start typing “Beer Servings” and the variable will be offered for selection. \n",
    "* Then type “+” and start typing “Wine Servings”. Choose it from the options. \n",
    "* If Tableau is content with your calculation it will show “The calculation is valid”. \n",
    "* Click ok. \n",
    "\n",
    "![](assets/Images/ScreenShot_calculatedfield_2.png)"
   ]
  },
  {
   "cell_type": "markdown",
   "metadata": {},
   "source": [
    "The calculated field has been created and is marked by an **equal sign** in front of the variable name.\n",
    "Drag the calculated Beer-and-Wine variable to the row-shelf and the total alcohol variable to the column shelf to obtain a scatter plot. \n",
    "\n",
    "![](assets/Images/ScreenShot_scatterplot_1.png)"
   ]
  },
  {
   "cell_type": "markdown",
   "metadata": {},
   "source": [
    "Now back to our problem. \n",
    "* **Duplicate** the sheet with total alcohol consumption per country depicted on a map.\n",
    "\n",
    "Let us create a new parameter which allows us to choose which drink category we want to look at by choosing from a drop down menu.\n",
    "\n",
    "* Click on the arrow next to dimensions and choose **Create a Parameter**\n",
    "* A table will pop up\n",
    "* Specify a name for the parameter\n",
    "* As data type choose string\n",
    "* For “allowable values” tick “list”\n",
    "* In the list enter\n",
    "    * beer\n",
    "    * wine\n",
    "    * spirit\n",
    "    * total\n",
    "    \n",
    "The first value in the list will be selected as the default value, but you can choose any of the given ones.\n",
    "\n",
    "* Click ok. \n",
    "\n",
    "The parameter should appear at the bottom of your variables.\n",
    "\n",
    "![](assets/Images/ScreenShot_createparameter.png)"
   ]
  },
  {
   "cell_type": "markdown",
   "metadata": {},
   "source": [
    "To make use of the **parameter**,\n",
    "we have to calculate a new field.\n",
    "\n",
    "* Click on the arrow next to dimensions and choose **Create Calculated Field**.\n",
    "* Name it “drink choice” and insert in the field below the following:"
   ]
  },
  {
   "cell_type": "markdown",
   "metadata": {},
   "source": [
    "```SQL\n",
    "    CASE [drink]\n",
    "    WHEN \"beer\" THEN [Beer Servings]\n",
    "    WHEN \"wine\" THEN [Wine Servings]\n",
    "    WHEN \"spirit\" THEN [Spirit Servings]\n",
    "    WHEN \"total\" THEN [Total Litres Of Pure Alcohol]\n",
    "    END\n",
    "```"
   ]
  },
  {
   "cell_type": "markdown",
   "metadata": {},
   "source": [
    "At the bottom should appear **The calculation is valid**. Click ok and “drink choice” should appear among your measures.\n",
    "\n",
    "![](assets/Images/ScreenShot_calcforparameter.png)"
   ]
  },
  {
   "cell_type": "markdown",
   "metadata": {},
   "source": [
    "Now we want to use the variable “drink choice” instead of total alcohol. \n",
    "\n",
    "* To do so, drag “drink choice” on size in the marks card. It will replace “total alcohol”.\n",
    "\n",
    "We still have to replace the filter. \n",
    "\n",
    "* Drag drink choice on the filter card\n",
    "* Remove total alcohol \n",
    "* Repeat the same steps as above to configure the filter \n",
    "\n",
    "Now the values for the default parameter “beer” are displayed.\n",
    "\n",
    "* Click on the arrow next to the parameter “drink”\n",
    "* Choose “Show Parameter Control”. \n",
    "\n",
    "![](assets/Images/ScreenShot_showparametercontrol.png)\n",
    "\n",
    "* A menu will appear on the right. \n",
    "* Check if all choices work. \n",
    "* Clicking on the right arrow in the menu will allow you to modify the appearance of the menu.\n",
    "\n",
    "To get a quick impression about the ranking of countries according to type of alcohol consumption, drag drink choice to the **pages card**. This will allow you to produce a little film where countries appear in the order of their consumption.\n",
    "\n",
    "![](assets/Images/ScreenShot_drinkingpager.png)\n",
    "\n",
    "Maps are one of the most attractive features of Tableau, but let’s have a look at a few other types of plots."
   ]
  },
  {
   "cell_type": "markdown",
   "metadata": {},
   "source": [
    "## Scatter plot\n",
    "<a name=\"scatter\"></a>\n",
    "\n",
    "Let us return to the scatter plot of total alcohol versus beer and wine. Not surprisingly there seems to be a linear relation. \n",
    "\n",
    "* Right click inside the plot. \n",
    "* A menu will pop up. \n",
    "* Choose “Trend Lines” and then “Show Trend Lines”. \n",
    "* Hover over the plot and the trend line. What information does it give you?\n",
    "* Right click on the trend line and choose “edit trend lines”. \n",
    "\n",
    "![](assets/Images/ScreenShot_showtrendlines.png)\n",
    "\n",
    "* A menu will pop up which allows you to choose different options for the fit.\n",
    "* Add the continent to the colour in the marks card. What happens?\n",
    "* To cure that, in the “edit trend lines” \n",
    "    * untick “Allow a trend line per colour”\n",
    "    * also untick “Show Confidence Bands”\n",
    "    * tick “Force y-intercept to zero”\n",
    "\n",
    "![](assets/Images/ScreenShot_edittrendline.png)\n",
    "\n",
    "* Now add “Spirit Servings” to the column bar. What happens?\n",
    "\n",
    "Notice that in the marks card, you can access the properties regarding all or one of the two plots. \n",
    "\n",
    "* Choose the spirits plot\n",
    "* Click on the arrow under the marks title and choose shape. You can choose a particular shape from the shape menu below.\n",
    "* Right click in the axis of the second plot and choose “dual axis”.\n",
    "\n",
    "![](assets/Images/ScreenShot_dualaxis.png)\n",
    "\n",
    "That contains now a lot of information so let’s add a filter on the continents. \n",
    "\n",
    "* Do you remember how that was done?"
   ]
  },
  {
   "cell_type": "markdown",
   "metadata": {},
   "source": [
    "## More plots\n",
    "<a name=\"more\"></a>\n",
    "\n",
    "Let’s still go through some more types of plots.\n",
    "\n",
    "* Create a new sheet. \n",
    "* Drag Country to rows and drink choice to columns. That gives a bar plot. \n",
    "* Sort the data. \n",
    "* Explore all the different plot options.\n",
    "\n",
    "![](assets/Images/ScreenShot_barplot.png)\n",
    "\n",
    "There are many options now. Let us look a bit more on box plots and histograms. "
   ]
  },
  {
   "cell_type": "markdown",
   "metadata": {},
   "source": [
    "* Create a new sheet. \n",
    "* Drag Continent to the row shelf\n",
    "* Drag drink choice to columns\n",
    "* Drag countries to detail \n",
    "* Choose box plot. \n",
    "\n",
    "We observe a number of outliers. We could annotate them for highlighting.\n",
    "\n",
    "![](assets/Images/ScreenShot_boxplot.png)"
   ]
  },
  {
   "cell_type": "markdown",
   "metadata": {},
   "source": [
    "### A histogram\n",
    "<a name=\"histogram\"></a>\n",
    "\n",
    "* Create a new sheet.\n",
    "* Drag drink choice to the row shelf \n",
    "* Drag drink choice also to the column shelf\n",
    "* From the show me options, choose the histogram\n",
    "* Now drag continent to the column shelf\n",
    "* Drag continent to colour\n",
    "* Add drink choice another time to the row shelf and change the aggregation method to count. \n",
    "\n",
    "A new plot should appear below the previous one.\n",
    "\n",
    "* Choose this plot in the marks card and change “Automatic” to “Line”\n",
    "\n",
    "![](assets/Images/ScreenShot_histogramline.png)\n",
    "\n",
    "* Now right click in the axis of the lower plot and choose dual axis\n",
    "* Notice that among the dimensions there appears a variable drink choice (bin)\n",
    "    * Click in its right hand arrow and choose edit\n",
    "    * A table pops up where you can edit the bin size \n",
    "    \n",
    "![](assets/Images/ScreenShot_histogrambins.png)"
   ]
  },
  {
   "cell_type": "markdown",
   "metadata": {},
   "source": [
    "## Grouping\n",
    "<a name=\"grouping\"></a>\n",
    "\n",
    "We can form groups from the values given in a single data column. To do so, hover over the variable name and click `Create` and then from the menu which pops up, select `Group`.\n",
    "\n",
    "![](assets/Images/create_group.png)\n",
    "\n",
    "For example, choose Continent, select some of the items and click `Group`.\n",
    "\n",
    "![](assets/Images/groups_first.png)\n",
    "\n",
    "After confirming with OK, you will see a new group variable on the left which you can select for plotting.\n",
    "\n",
    "![](assets/Images/groups_finished.png)"
   ]
  },
  {
   "cell_type": "markdown",
   "metadata": {},
   "source": [
    "## Conclusions\n",
    "<a name=\"conclusions\"></a>\n",
    "\n",
    "In this lesson you learned how to open data files and to create simple visualisation with Tableau. You should have become convinced that it is a very powerful tool for getting quick insight into data and to obtain professional plots. Now practice with further data files."
   ]
  },
  {
   "cell_type": "markdown",
   "metadata": {},
   "source": [
    "## Additional resources\n",
    "<a name=\"resources\"></a>\n",
    "\n",
    "- [Tableau gallery](https://public.tableau.com/en-us/s/gallery)\n",
    "- [Tableau help](https://www.tableau.com/support/help)"
   ]
  }
 ],
 "metadata": {
  "anaconda-cloud": {},
  "kernelspec": {
   "display_name": "Python [default]",
   "language": "python",
   "name": "python3"
  },
  "language_info": {
   "codemirror_mode": {
    "name": "ipython",
    "version": 3
   },
   "file_extension": ".py",
   "mimetype": "text/x-python",
   "name": "python",
   "nbconvert_exporter": "python",
   "pygments_lexer": "ipython3",
   "version": "3.6.4"
  },
  "toc": {
   "nav_menu": {},
   "number_sections": false,
   "sideBar": true,
   "skip_h1_title": true,
   "title_cell": "Table of Contents",
   "title_sidebar": "Contents",
   "toc_cell": false,
   "toc_position": {},
   "toc_section_display": true,
   "toc_window_display": false
  }
 },
 "nbformat": 4,
 "nbformat_minor": 1
}
