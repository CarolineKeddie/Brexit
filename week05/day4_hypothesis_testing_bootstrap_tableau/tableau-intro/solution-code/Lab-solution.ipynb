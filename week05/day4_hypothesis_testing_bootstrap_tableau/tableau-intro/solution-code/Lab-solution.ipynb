{
 "cells": [
  {
   "cell_type": "markdown",
   "metadata": {},
   "source": [
    "<img src=\"http://imgur.com/1ZcRyrc.png\" style=\"float: left; margin: 20px; height: 55px\">\n",
    "\n",
    "# Tableau Lab\n",
    "\n",
    "---"
   ]
  },
  {
   "cell_type": "markdown",
   "metadata": {},
   "source": [
    "Load the San Francisco crime dataset in Tableau.\n",
    "\n",
    "- Make the geographical data usable.\n",
    "\n",
    "Choose for `X` to have `Geographical Role` longitude and for `Y` to have `Geographical Role` latitude. \n",
    "\n",
    "- Filter datapoints which do not belong to the San Francisco area.\n",
    "\n",
    "Create a filter on the latitude values.\n",
    "\n",
    "- Use the pager to produce a 'film' showing on a map sequentially when and where a crime happened.\n",
    "\n",
    "![](images/SF_crimetype_map.png)\n",
    "\n",
    "- Create a parameter which allows you to choose between Category, Pd District and Resolution.\n",
    "Create a calculated field from that parameter which you can use to change the colouring of the points on the map according to your parameter choice.\n",
    "\n",
    "![](images/SF_parameter.png)\n",
    "![](images/SF_calculated_field.png)\n",
    "![](images/SF_choose_map.png)\n",
    "\n",
    "- Create groups of crime categories of similar type.\n",
    "\n",
    "![](images/SF_groups.png)\n",
    "\n",
    "- Produce plots of crime category versus time. \n",
    "   * Find out how to depict the time series with different time scale resolutions. \n",
    "   * Find out how to get the aggregate for quartals/months irrespective of the year.\n",
    "   \n",
    "![](images/SF_timeseries.png)"
   ]
  }
 ],
 "metadata": {
  "kernelspec": {
   "display_name": "Python [conda env:anaconda3]",
   "language": "python",
   "name": "conda-env-anaconda3-py"
  },
  "language_info": {
   "codemirror_mode": {
    "name": "ipython",
    "version": 3
   },
   "file_extension": ".py",
   "mimetype": "text/x-python",
   "name": "python",
   "nbconvert_exporter": "python",
   "pygments_lexer": "ipython3",
   "version": "3.6.4"
  },
  "toc": {
   "nav_menu": {},
   "number_sections": false,
   "sideBar": true,
   "skip_h1_title": true,
   "title_cell": "Table of Contents",
   "title_sidebar": "Contents",
   "toc_cell": false,
   "toc_position": {},
   "toc_section_display": true,
   "toc_window_display": false
  }
 },
 "nbformat": 4,
 "nbformat_minor": 2
}
