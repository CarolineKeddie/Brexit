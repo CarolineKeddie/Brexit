{
 "cells": [
  {
   "cell_type": "markdown",
   "metadata": {},
   "source": [
    "<img src=\"http://imgur.com/1ZcRyrc.png\" style=\"float: left; margin: 20px; height: 55px\">\n",
    "\n",
    "# Review CLT, Confidence Intervals, and Hypothesis Testing\n",
    "\n",
    "---"
   ]
  },
  {
   "cell_type": "markdown",
   "metadata": {
    "heading_collapsed": true
   },
   "source": [
    "### Read in the housing data (code provided).\n",
    "\n",
    "You can find the original data [here](https://archive.ics.uci.edu/ml/machine-learning-databases/housing/housing.data)."
   ]
  },
  {
   "cell_type": "code",
   "execution_count": 1,
   "metadata": {
    "hidden": true
   },
   "outputs": [],
   "source": [
    "import numpy as np\n",
    "import pandas as pd\n",
    "import matplotlib.pyplot as plt\n",
    "plt.style.use('fivethirtyeight')\n",
    "%matplotlib inline\n",
    "%config InlineBackend.figure_format = 'retina'"
   ]
  },
  {
   "cell_type": "code",
   "execution_count": 2,
   "metadata": {
    "hidden": true
   },
   "outputs": [],
   "source": [
    "from sklearn.datasets import load_boston\n",
    "\n",
    "data_boston = load_boston()\n",
    "data = pd.DataFrame(data_boston.data,columns=data_boston.feature_names)\n",
    "NOX = data['NOX']\n",
    "AGE = data['AGE']"
   ]
  },
  {
   "cell_type": "markdown",
   "metadata": {},
   "source": [
    "### 1. Find the mean, standard deviation, and the standard error of the mean for variable `AGE`"
   ]
  },
  {
   "cell_type": "code",
   "execution_count": 3,
   "metadata": {},
   "outputs": [
    {
     "name": "stdout",
     "output_type": "stream",
     "text": [
      "Mean:\t\t\t 68.5749.\n",
      "Standard deviation:\t 28.1489.\n",
      "Standard error:\t\t 1.2514.\n"
     ]
    }
   ],
   "source": [
    "print(\"Mean:\\t\\t\\t {:.4f}.\".format(data['AGE'].mean()))\n",
    "print(\"Standard deviation:\\t {:.4f}.\".format(data['AGE'].std()))\n",
    "print(\"Standard error:\\t\\t {:.4f}.\".format(data['AGE'].std()/(len(data['AGE']))**0.5))"
   ]
  },
  {
   "cell_type": "code",
   "execution_count": 4,
   "metadata": {},
   "outputs": [
    {
     "data": {
      "text/plain": [
       "1.2513695252583041"
      ]
     },
     "execution_count": 4,
     "metadata": {},
     "output_type": "execute_result"
    }
   ],
   "source": [
    "# scipy standard error function\n",
    "from scipy.stats import sem\n",
    "sem(data['AGE'])"
   ]
  },
  {
   "cell_type": "markdown",
   "metadata": {},
   "source": [
    "### 2. Generate a 90%, 95%, and 99% confidence interval for `AGE`\n",
    "\n",
    "You can use the `scipy.stats.t.interval` function to calculate the confidence interval range.\n",
    "\n",
    "```python\n",
    "# Endpoints of the range that contains alpha percent of the distribution\n",
    "stats.t.interval(alpha, df, loc=0, scale=1)\t\n",
    "```\n",
    "\n",
    "Arguments:\n",
    "- `df` = the degrees of freedom, will be the length of the vector minus 1.\n",
    "- `loc` = the mean of the t-distribution (your point estimate - mean of the variable)\n",
    "- `scale` = the standard deviation of the t-distribution (the standard error of your sample mean)\n",
    "\n",
    "**Interpret the results from all three confidence intervals.**"
   ]
  },
  {
   "cell_type": "code",
   "execution_count": 5,
   "metadata": {},
   "outputs": [],
   "source": [
    "from scipy.stats import t"
   ]
  },
  {
   "cell_type": "code",
   "execution_count": 6,
   "metadata": {},
   "outputs": [],
   "source": [
    "def calculate_tinterval(confidence_level,vector):\n",
    "    n = len(vector)\n",
    "    t_interval = t.interval(confidence_level,\n",
    "                           n-1,\n",
    "                           loc=vector.mean(),\n",
    "                           scale=vector.std()/n**0.5)\n",
    "    return t_interval"
   ]
  },
  {
   "cell_type": "code",
   "execution_count": 7,
   "metadata": {},
   "outputs": [
    {
     "name": "stdout",
     "output_type": "stream",
     "text": [
      "We are 0.9% confident that the true mean value for 'AGE' is between 66.51 and 70.64 years of age.\n",
      "We are 0.95% confident that the true mean value for 'AGE' is between 66.12 and 71.03 years of age.\n",
      "We are 0.99% confident that the true mean value for 'AGE' is between 65.34 and 71.81 years of age.\n"
     ]
    }
   ],
   "source": [
    "for confidence_level in [0.9,0.95,0.99]:\n",
    "    \n",
    "    t_interval = calculate_tinterval(confidence_level,AGE)\n",
    "\n",
    "    print(\"We are {}% confident that the true mean value for 'AGE' is between {:.2f} and {:.2f} years of age.\".format(confidence_level,t_interval[0],t_interval[1]))"
   ]
  },
  {
   "cell_type": "markdown",
   "metadata": {},
   "source": [
    "Recall that a 99% t confidence interval will be of the form\n",
    "\n",
    "$$\\bar{x}-t \\frac{s}{\\sqrt{n}} \\ , \\ \\bar{x}+t \\frac{s}{\\sqrt{n}}$$\n",
    "\n",
    "where `t` is the critical t-value with 506 observations, i.e. 505 degrees of freedom, and for 99% confidence."
   ]
  },
  {
   "cell_type": "code",
   "execution_count": 8,
   "metadata": {},
   "outputs": [
    {
     "name": "stdout",
     "output_type": "stream",
     "text": [
      "2.5855804006393113\n"
     ]
    }
   ],
   "source": [
    "critical_t = t.ppf(0.995,len(data)) # This pulls the critical value for 99.5%, which is appropriate.\n",
    "print(critical_t)"
   ]
  },
  {
   "cell_type": "markdown",
   "metadata": {},
   "source": [
    "### 3. Did you rely on the Central Limit Theorem in question 2? Why or why not? Explain."
   ]
  },
  {
   "cell_type": "markdown",
   "metadata": {},
   "source": [
    "**A.** _Yes. We don't know whether or not 'AGE' is normally distributed (and by the plot below, it clearly is not), but since the size of our sample n is larger than 30, we can assume that the behavior of X-bar will be normal enough for us to use our t-distribution to generate our confidence intervals._"
   ]
  },
  {
   "cell_type": "code",
   "execution_count": 9,
   "metadata": {},
   "outputs": [
    {
     "data": {
      "image/png": "[encoded data removed]",
      "text/plain": [
       "<matplotlib.figure.Figure at 0x1a0b730a58>"
      ]
     },
     "metadata": {
      "image/png": {
       "height": 244,
       "width": 412
      }
     },
     "output_type": "display_data"
    }
   ],
   "source": [
    "plt.hist(AGE)\n",
    "plt.show()"
   ]
  },
  {
   "cell_type": "markdown",
   "metadata": {},
   "source": [
    "### 4. For the variable `NOX`, generate a 95% confidence interval and interpret it."
   ]
  },
  {
   "cell_type": "code",
   "execution_count": 10,
   "metadata": {},
   "outputs": [],
   "source": [
    "t_interval = calculate_tinterval(0.95,NOX)"
   ]
  },
  {
   "cell_type": "code",
   "execution_count": 11,
   "metadata": {},
   "outputs": [
    {
     "name": "stdout",
     "output_type": "stream",
     "text": [
      "We are 95% confident that the true mean value for 'NOX' is between 0.5446 and 0.5648.\n"
     ]
    }
   ],
   "source": [
    "print(\"We are 95% confident that the true mean value for 'NOX' is between {:.4f} and {:.4f}.\".format(t_interval[0],t_interval[1]))"
   ]
  },
  {
   "cell_type": "markdown",
   "metadata": {},
   "source": [
    "### 5. For the variable `NOX`, test the hypothesis that the mean is equal to the median. \n",
    "\n",
    "You may use scipy functions to complete this, but complete all steps listed below.\n",
    "\n",
    "1. Define hypothesis\n",
    "2. Set alpha (let alpha = 0.05)\n",
    "3. Calculate point estimate\n",
    "4. Calculate test statistic\n",
    "5. Find the p-value\n",
    "6. Interpret results"
   ]
  },
  {
   "cell_type": "code",
   "execution_count": 12,
   "metadata": {},
   "outputs": [
    {
     "name": "stdout",
     "output_type": "stream",
     "text": [
      "Our sample median is 0.5380.\n",
      "Our sample mean is 0.5547.\n",
      "Our t-statistic is 3.240884.\n",
      "Our p-value is 0.001270.\n",
      "We reject our null hypothesis and conclude that the true mean NOX value is different from the median NOX value.\n"
     ]
    }
   ],
   "source": [
    "## Step 1: Define hypotheses.\n",
    "### H_0: mu_NOX = M_NOX\n",
    "### H_A: mu_NOX != M_NOX\n",
    "\n",
    "## Step 2: alpha = 0.05.\n",
    "alpha = 0.05\n",
    "\n",
    "## Step 3: Calculate point estimate.\n",
    "sample_mean = NOX.mean()\n",
    "sample_median = NOX.median()\n",
    "sample_std = NOX.std()\n",
    "sample_size = len(NOX)\n",
    "\n",
    "## Step 4: Calculate test statistic.\n",
    "t_statistic = (sample_mean - sample_median)/(sample_std/sample_size**0.5)\n",
    "\n",
    "## Step 5: Find p-value.\n",
    "## t.sf is survival function, which is 1-cdf at a given value \n",
    "## (proportion of values at least as extreme as...)\n",
    "p_value = t.sf(np.abs(t_statistic), len(NOX)-1) * 2 \n",
    "\n",
    "\n",
    "## Because our alternative hypothesis is != (rather than greater than or less than),\n",
    "## we multiply our p-value by 2. (This is called a two-sided test.)\n",
    "print(\"Our sample median is {:.4f}.\".format(NOX.median()))\n",
    "print(\"Our sample mean is {:.4f}.\".format(sample_mean))\n",
    "print(\"Our t-statistic is {:.6f}.\".format(t_statistic))\n",
    "print(\"Our p-value is {:.6f}.\".format(p_value))\n",
    "\n",
    "if p_value < alpha:\n",
    "    print(\"We reject our null hypothesis and conclude that the true mean NOX value is different from the median NOX value.\")\n",
    "elif p_value > alpha:\n",
    "    print(\"We fail to reject our null hypothesis and cannot conclude that the true mean NOX value is different from the median .\")\n",
    "else:\n",
    "    print(\"Our test is inconclusive.\")"
   ]
  },
  {
   "cell_type": "code",
   "execution_count": 13,
   "metadata": {},
   "outputs": [
    {
     "data": {
      "text/plain": [
       "Ttest_1sampResult(statistic=3.2408837167794102, pvalue=0.001270210999819144)"
      ]
     },
     "execution_count": 13,
     "metadata": {},
     "output_type": "execute_result"
    }
   ],
   "source": [
    "from scipy import stats\n",
    "stats.ttest_1samp(NOX,np.median(NOX))"
   ]
  },
  {
   "cell_type": "markdown",
   "metadata": {},
   "source": [
    "### 6. What do you notice about the results from Exercise 4 and Exercise 5? \n",
    "\n",
    "**If you were going to generalize this to the relationship between hypothesis tests and confidence intervals, what might you say? Be specific.**"
   ]
  },
  {
   "cell_type": "markdown",
   "metadata": {},
   "source": [
    "**A.** _When we calculated the median, it was 0.538. The 95% confidence interval for our mean contained 0.545 through 0.565. Since the median was outside our 95% confidence interval, this suggests that the true mean would not be equal to our median._\n",
    "\n",
    "_We then conducted the hypothesis test and found that, at the alpha = 0.05 significance level, we rejected the hypothesis that the mean and median were equal._\n",
    "\n",
    "_The results of our hypothesis test and confidence interval are in agreement here. Because our significance level (for HT) is alpha, as long as our confidence level (for CI) is 1 - alpha, the results should be in agreement.  \n",
    "That is, if the value of interest does not lie in our 1 - alpha CI, then testing the hypothesis that the parameter equals the value of interest should be rejected at the alpha significance level. Similarly, if the value of interest *does* lie in our 1 - alpha CI, then testing the hypothesis that the parameter equals the value of interest should *not* be rejected at the alpha significance level._"
   ]
  },
  {
   "cell_type": "markdown",
   "metadata": {},
   "source": [
    "### 7. For the variable `NOX`, test the hypothesis that the mean is greater than or equal to the median. \n",
    "\n",
    "You may use scipy functions to complete this, but complete all steps listed below.\n",
    "\n",
    "1. Define hypothesis\n",
    "2. Set alpha (Let alpha = 0.05)\n",
    "3. Calculate point estimate\n",
    "4. Calculate test statistic\n",
    "5. Find the p-value\n",
    "6. Interpret results"
   ]
  },
  {
   "cell_type": "code",
   "execution_count": 14,
   "metadata": {},
   "outputs": [
    {
     "name": "stdout",
     "output_type": "stream",
     "text": [
      "Our sample mean is 0.5547.\n",
      "Our sample median is 0.5380.\n",
      "Our t-statistic is 3.240884.\n",
      "Our p-value is 0.000635.\n",
      "We reject our null hypothesis and conclude that the true mean NOX value is greater than the median NOX value.\n"
     ]
    }
   ],
   "source": [
    "## Step 1: Define hypotheses.\n",
    "### H_0: mu_NOX >= M_NOX\n",
    "### H_A: mu_NOX < M_NOX\n",
    "\n",
    "## Step 2: alpha = 0.05.\n",
    "alpha = 0.05\n",
    "\n",
    "## Step 3: Calculate point estimate.\n",
    "sample_mean = NOX.mean()\n",
    "sample_median = NOX.median()\n",
    "sample_std = NOX.std()\n",
    "sample_size = len(NOX)\n",
    "\n",
    "## Step 4: Calculate test statistic.\n",
    "t_statistic = (sample_mean - sample_median)/(sample_std/sample_size**0.5)\n",
    "\n",
    "## Step 5: Find p-value.\n",
    "p_value = t.sf((t_statistic), len(NOX)-1)\n",
    "## Because our alternative hypothesis is < (rather than equal to),\n",
    "## we DO NOT multiply our p-value by 2. (This is called a one-sided test.)\n",
    "\n",
    "print(\"Our sample mean is {:.4f}.\".format(sample_mean))\n",
    "print(\"Our sample median is {:.4f}.\".format(sample_median))\n",
    "print(\"Our t-statistic is {:.6f}.\".format(t_statistic))\n",
    "print(\"Our p-value is {:.6f}.\".format(p_value))\n",
    "\n",
    "if p_value < alpha:\n",
    "    print(\"We reject our null hypothesis and conclude that the true mean NOX value is greater than the median NOX value.\")\n",
    "elif p_value > alpha:\n",
    "    print(\"We fail to reject our null hypothesis and cannot conclude that the true mean NOX value is greater than the median .\")\n",
    "else:\n",
    "    print(\"Our test is inconclusive.\")"
   ]
  },
  {
   "cell_type": "markdown",
   "metadata": {},
   "source": [
    "### 8. Compare the p-values from Exercise 5 and Exercise 7. What do you notice?"
   ]
  },
  {
   "cell_type": "markdown",
   "metadata": {
    "collapsed": true
   },
   "source": [
    "**A.** _The p-value in Exercise 6 is exactly twice the p-value in Exercise 8, by construction. This is because of the fact that our alternative hypotheses are different. In Exercise 6, we can reject the null hypothesis for very large values of mu or very small values of mu. Because this is a two-sided test, we double our p-value. In Exercise 8, we can reject the null hypothesis for very small values of mu *but* cannot reject the null hypothesis for very large values of mu. Because we can only reject on one side, we call this a one-sided test. Due to the fact that this is a one-sided test, we do not need to double our p-value._"
   ]
  },
  {
   "cell_type": "markdown",
   "metadata": {},
   "source": [
    "### 9. Test if the data is ordered or not.\n",
    "\n",
    "Split the dataset into the first and second half according to the index order. Perform a statistical test if the means of the two groups are the same. Assume equal variances."
   ]
  },
  {
   "cell_type": "code",
   "execution_count": 15,
   "metadata": {},
   "outputs": [
    {
     "name": "stdout",
     "output_type": "stream",
     "text": [
      "CRIM\t 8.75 \t 0.0\n",
      "ZN\t 0.01 \t 0.99\n",
      "INDUS\t 5.51 \t 0.0\n",
      "CHAS\t -0.87 \t 0.38\n",
      "NOX\t 6.9 \t 0.0\n",
      "RM\t -1.51 \t 0.13\n",
      "AGE\t 2.3 \t 0.02\n",
      "DIS\t -3.85 \t 0.0\n",
      "RAD\t 15.7 \t 0.0\n",
      "TAX\t 13.62 \t 0.0\n",
      "PTRATIO\t 5.79 \t 0.0\n",
      "B\t -5.03 \t 0.0\n",
      "LSTAT\t 4.1 \t 0.0\n"
     ]
    }
   ],
   "source": [
    "t_stat = stats.ttest_ind(data.iloc[int(len(data)/2):,:],data.iloc[:int(len(data)/2),:])\n",
    "\n",
    "for i, col in enumerate(data.columns):\n",
    "    print(col+'\\t', round(t_stat.statistic[i],2), '\\t', round(t_stat.pvalue[i],2))"
   ]
  },
  {
   "cell_type": "code",
   "execution_count": null,
   "metadata": {},
   "outputs": [],
   "source": []
  }
 ],
 "metadata": {
  "anaconda-cloud": {},
  "kernelspec": {
   "display_name": "Python [conda root]",
   "language": "python",
   "name": "conda-root-py"
  },
  "language_info": {
   "codemirror_mode": {
    "name": "ipython",
    "version": 3
   },
   "file_extension": ".py",
   "mimetype": "text/x-python",
   "name": "python",
   "nbconvert_exporter": "python",
   "pygments_lexer": "ipython3",
   "version": "3.6.4"
  },
  "toc": {
   "nav_menu": {},
   "number_sections": false,
   "sideBar": true,
   "skip_h1_title": true,
   "title_cell": "Table of Contents",
   "title_sidebar": "Contents",
   "toc_cell": false,
   "toc_position": {},
   "toc_section_display": "block",
   "toc_window_display": false
  }
 },
 "nbformat": 4,
 "nbformat_minor": 1
}
