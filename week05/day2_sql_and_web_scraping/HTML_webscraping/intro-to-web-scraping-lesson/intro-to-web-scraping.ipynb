{
 "cells": [
  {
   "cell_type": "markdown",
   "metadata": {
    "collapsed": true
   },
   "source": [
    "# Web Scraping\n",
    "\n",
    "\n",
    "## Objectives\n",
    "\n",
    "1. Understand motivation for web scraping:\n",
    "    * What does a web data pipeline look like?\n",
    "    * How should we store data from the web?\n",
    "2. Know high level differences between NoSQL and SQL.\n",
    "\n",
    "\n",
    "<div style=\"text-align: center\"><h3>The Reality of Scraping</h3><img src=\"images/scraping_meme.png\" style=\"width: 600px\"></div>"
   ]
  },
  {
   "cell_type": "markdown",
   "metadata": {},
   "source": [
    "## Why do we scrape the web?\n",
    "\n",
    "* Realistically, data that you want to study won't always be available to you in the form of a curated data set.\n",
    "* Need to go to the internets to find interesting data:\n",
    "    * From an existing company\n",
    "    * Text for NLP\n",
    "    * Images\n",
    "    <div style=\"text-align: center\"><h3>Web Data Pipeline</h3><img src=\"images/web_data_pipeline.png\" style=\"width: 600px\"></div>"
   ]
  },
  {
   "cell_type": "markdown",
   "metadata": {},
   "source": [
    "## Storing data from the web\n",
    "\n",
    "* We have seen how to store data -> SQL (RBDMS).\n",
    "    * Why wouldn't SQL necessarily be the best tool for storing data that we retrieve from the web?\n",
    "        * Data are messy!\n",
    "* Enter No SQL. Stands for **N**ot **o**nly **SQL**. MongoDB is a flavor of NoSQL, like PosgreSQL is a flavor of SQL.\n",
    "    * A NoSQL paradigm may be preferable to SQL because it is **schemaless**.\n",
    "    * Great for **storing unstructured data**, as we may find on the web!\n",
    "    * MongoDB is a document-oriented DBMS:\n",
    "      <div style=\"text-align: center\"><h3>Centered around \"Documents\"</h3><img src=\"images/document_based_storage.png\" style=\"width: 600px\"></div>"
   ]
  },
  {
   "cell_type": "markdown",
   "metadata": {},
   "source": [
    "## SQL vs. Mongo\n",
    "\n",
    "* SQL - want to prevent redundancy in data by having **tables with unique information and relations** between them (normalized data).\n",
    "    * Creates a **framework for querying** with joins.\n",
    "    * Makes it easier to update database. Only ever have to **change information in a single place**.\n",
    "    * This can result in **\"simple\" queries being slower, but more complex queries are often faster**.\n",
    "* Mongo - **document based storage system**. Does not enforce normalized data. Can have data **redundancies in documents** (denormalized data).\n",
    "    * **No joins**.\n",
    "    * A change to database generally results in needing to **change many documents**.\n",
    "    * Since there is redundancy in the documents, **simple queries are generally faster. But complex queries are often slower**.\n",
    "    \n",
    "\n",
    "|         | SQL          | Mongo          |\n",
    "|---------|--------------|----------------|\n",
    "| Schema  | Yes => Joins | No => No Joins |\n",
    "| Storage | Table        | Collection     |\n",
    "|         | Row          | Document       |\n",
    "|         | Column       | Field          |"
   ]
  },
  {
   "cell_type": "markdown",
   "metadata": {},
   "source": [
    "# Scraping from a Web Page with Python\n",
    "\n",
    "Scraping a web site basically comes down to making a **request from Python and parsing through the HTML** that is returned from each page. For each of these tasks we have a Python library, **`requests` and `bs4`**, respectively."
   ]
  },
  {
   "cell_type": "markdown",
   "metadata": {},
   "source": [
    "### Getting Info from a Web Page\n",
    "\n",
    "Now that we can gain easy access to the HMTL for a web page, we need **some way to pull the desired content from it**. Luckily there is already a system in place to do this. With a **combination of HMTL and CSS selectors** we can identify the information on a HMTL page that we wish to retrieve and grab it with [BeautifulSoup](https://www.crummy.com/software/BeautifulSoup/bs4/doc/#searching-the-tree)."
   ]
  },
  {
   "cell_type": "code",
   "execution_count": null,
   "metadata": {},
   "outputs": [],
   "source": [
    "html = '''<!DOCTYPE html>\n",
    "<html>\n",
    "<head>\n",
    "<title>The title of this web page</title>\n",
    "</head>\n",
    "<body>\n",
    "<h1>My Photos</h1>\n",
    "<div class='intro'>\n",
    "<p>These are some photos of my trips.</p>\n",
    "<img src=\"me.png\">\n",
    "</div>\n",
    "\n",
    "<h3>Italy</h3>\n",
    "<div class='country'>\n",
    "<img src=\"venice1.png\" alt=\"Venice\"> <br />\n",
    "<img src=\"venice2.png\" alt=\"Venice\"> <br />\n",
    "<img src=\"rome.png\" alt=\"Roma\">\n",
    "</div>\n",
    "\n",
    "<h3>Germany</h3>\n",
    "<div class='country'>\n",
    "<img src=\"berlin.png\" alt=\"Berlin\">\n",
    "</div>\n",
    "</body>\n",
    "</html>\n",
    "'''"
   ]
  },
  {
   "cell_type": "code",
   "execution_count": 7,
   "metadata": {},
   "outputs": [],
   "source": [
    "from bs4 import BeautifulSoup\n",
    "\n",
    "# we create a soup object with the html:\n",
    "soup = BeautifulSoup(html, 'html.parser')"
   ]
  },
  {
   "cell_type": "code",
   "execution_count": 10,
   "metadata": {},
   "outputs": [
    {
     "data": {
      "text/plain": [
       "<title>The title of this web page</title>"
      ]
     },
     "execution_count": 10,
     "metadata": {},
     "output_type": "execute_result"
    }
   ],
   "source": [
    "# now we can query it\n",
    "soup.title"
   ]
  },
  {
   "cell_type": "code",
   "execution_count": 11,
   "metadata": {},
   "outputs": [
    {
     "data": {
      "text/plain": [
       "'The title of this web page'"
      ]
     },
     "execution_count": 11,
     "metadata": {},
     "output_type": "execute_result"
    }
   ],
   "source": [
    "soup.title.string"
   ]
  },
  {
   "cell_type": "code",
   "execution_count": 12,
   "metadata": {},
   "outputs": [
    {
     "data": {
      "text/plain": [
       "<h1>My Photos</h1>"
      ]
     },
     "execution_count": 12,
     "metadata": {},
     "output_type": "execute_result"
    }
   ],
   "source": [
    "soup.h1"
   ]
  },
  {
   "cell_type": "code",
   "execution_count": 13,
   "metadata": {},
   "outputs": [
    {
     "data": {
      "text/plain": [
       "<h3>Italy</h3>"
      ]
     },
     "execution_count": 13,
     "metadata": {},
     "output_type": "execute_result"
    }
   ],
   "source": [
    "soup.h3"
   ]
  },
  {
   "cell_type": "code",
   "execution_count": 14,
   "metadata": {},
   "outputs": [
    {
     "data": {
      "text/plain": [
       "<h3>Italy</h3>"
      ]
     },
     "execution_count": 14,
     "metadata": {},
     "output_type": "execute_result"
    }
   ],
   "source": [
    "soup.find('h3')"
   ]
  },
  {
   "cell_type": "code",
   "execution_count": 15,
   "metadata": {},
   "outputs": [
    {
     "data": {
      "text/plain": [
       "[<h3>Italy</h3>, <h3>Germany</h3>]"
      ]
     },
     "execution_count": 15,
     "metadata": {},
     "output_type": "execute_result"
    }
   ],
   "source": [
    "soup.find_all('h3')"
   ]
  },
  {
   "cell_type": "code",
   "execution_count": 16,
   "metadata": {},
   "outputs": [
    {
     "data": {
      "text/plain": [
       "'Germany'"
      ]
     },
     "execution_count": 16,
     "metadata": {},
     "output_type": "execute_result"
    }
   ],
   "source": [
    "soup.find_all('h3')[1].string"
   ]
  },
  {
   "cell_type": "code",
   "execution_count": 17,
   "metadata": {},
   "outputs": [
    {
     "data": {
      "text/plain": [
       "[<div class=\"country\">\n",
       " <img alt=\"Venice\" src=\"venice1.png\"/> <br/>\n",
       " <img alt=\"Venice\" src=\"venice2.png\"/> <br/>\n",
       " <img alt=\"Roma\" src=\"rome.png\"/>\n",
       " </div>, <div class=\"country\">\n",
       " <img alt=\"Berlin\" src=\"berlin.png\"/>\n",
       " </div>]"
      ]
     },
     "execution_count": 17,
     "metadata": {},
     "output_type": "execute_result"
    }
   ],
   "source": [
    "soup.find_all('div', class_='country')"
   ]
  },
  {
   "cell_type": "code",
   "execution_count": 18,
   "metadata": {},
   "outputs": [
    {
     "data": {
      "text/plain": [
       "[<img alt=\"Venice\" src=\"venice1.png\"/>, <img alt=\"Venice\" src=\"venice2.png\"/>]"
      ]
     },
     "execution_count": 18,
     "metadata": {},
     "output_type": "execute_result"
    }
   ],
   "source": [
    "soup.find_all('img', alt='Venice')"
   ]
  },
  {
   "cell_type": "code",
   "execution_count": 19,
   "metadata": {},
   "outputs": [
    {
     "data": {
      "text/plain": [
       "[<h3>Italy</h3>]"
      ]
     },
     "execution_count": 19,
     "metadata": {},
     "output_type": "execute_result"
    }
   ],
   "source": [
    "soup.find('div', class_='country').find_previous_siblings('h3')"
   ]
  },
  {
   "cell_type": "markdown",
   "metadata": {},
   "source": [
    "### If I wanted to get a list of all of the countries visited, how would I do it?"
   ]
  },
  {
   "cell_type": "code",
   "execution_count": null,
   "metadata": {},
   "outputs": [],
   "source": [
    "# A:"
   ]
  },
  {
   "cell_type": "markdown",
   "metadata": {},
   "source": [
    "<div style=\"color:white\">\n",
    "for div in soup.find_all('div', class_='country'):\n",
    "    h3 = div.find_previous_siblings('h3')[0]\n",
    "    country = h3.string\n",
    "    print(country)\n",
    "\n",
    "for div in soup.find_all('div', class_='country'):\n",
    "    h3 = div.find_previous_siblings('h3')[0]\n",
    "    country = h3.string\n",
    "    for img in div.find_all('img'):\n",
    "        image = img.get('src')\n",
    "        print('Country: {}: image: {}'.format(country, image))\n",
    "</div>"
   ]
  },
  {
   "cell_type": "markdown",
   "metadata": {},
   "source": [
    "## Getting Info from a Web Page"
   ]
  },
  {
   "cell_type": "markdown",
   "metadata": {},
   "source": [
    "### Requests Library\n",
    "\n",
    "The [requests](http://docs.python-requests.org/en/latest/index.html) library is designed to simplify the process of making **http requests within Python**. The interface is mind-bogglingly simple. Instantiate a requests object to the request, this will mostly be a `get`, with the URL and optional parameters you'd like passed through the request. That instance make the results of the request available via attributes/methods."
   ]
  },
  {
   "cell_type": "code",
   "execution_count": 21,
   "metadata": {},
   "outputs": [],
   "source": [
    "import requests\n",
    "fun_cheap = 'http://sf.funcheap.com'\n",
    "r = requests.get('http://sf.funcheap.com/2018/06/25/')"
   ]
  },
  {
   "cell_type": "code",
   "execution_count": 22,
   "metadata": {
    "scrolled": true
   },
   "outputs": [
    {
     "data": {
      "text/plain": [
       "'<!DOCTYPE html PUBLIC \"-//W3C//DTD XHTML 1.0 Transitional//EN\" \"https://www.w3.org/TR/xhtml1/DTD/xhtml1-transitional.dtd\">\\n<html xmlns=\"https://www.w3.org/1999/xhtml\" lang=\"en-US\" xmlns:fb=\"http://www.facebook.com/2008/fbml\" xmlns:og=\"http://opengraphprotocol.org/schema/\">\\n\\n<head profile=\"https://gmpg.org/xfn/11\">\\n<script src=\"//cdn.optimizely.com/js/195632799.js\"></script>\\n\\n<meta http-equiv=\"Content-Type\" content=\"text/html; charset=UTF-8\" />\\n\\n\\n<title>Events for June 25, 2018 Archives - FunCheapSF.com</title>\\n\\n<meta name=\"generator\" content=\"WordPress\" /> <!-- leave this for stats -->\\n\\n<link rel=\"stylesheet\" href=\"https://cdn.funcheap.com/wp-content/themes/arthemia-premium/style.css?v=1.8.9\" type=\"text/css\" media=\"screen\" />\\n<link rel=\"stylesheet\" href=\"https://cdn.funcheap.com/wp-content/themes/arthemia-premium/madmenu.css?v=1.1\" type=\"text/css\" media=\"screen\" />\\n<!--[if IE 6]>\\n    <style type=\"text/css\">\\n    body {\\n        behavior:url(\"https://cdn.funcheap.com/wp-content/themes/art'"
      ]
     },
     "execution_count": 22,
     "metadata": {},
     "output_type": "execute_result"
    }
   ],
   "source": [
    "r.text[:1000] # First 1000 characters of the HTML"
   ]
  },
  {
   "cell_type": "markdown",
   "metadata": {},
   "source": [
    "### Now that we have the web page, we can parse it with beautifulsoup:"
   ]
  },
  {
   "cell_type": "code",
   "execution_count": 23,
   "metadata": {},
   "outputs": [],
   "source": [
    "soup = BeautifulSoup(r.text, 'html.parser')"
   ]
  },
  {
   "cell_type": "markdown",
   "metadata": {},
   "source": [
    "#### Get the title of the page using the tag 'title':"
   ]
  },
  {
   "cell_type": "code",
   "execution_count": 24,
   "metadata": {},
   "outputs": [
    {
     "data": {
      "text/plain": [
       "'Events for  June 25, 2018'"
      ]
     },
     "execution_count": 24,
     "metadata": {},
     "output_type": "execute_result"
    }
   ],
   "source": [
    "soup.select('h2.title')[0].string"
   ]
  },
  {
   "cell_type": "code",
   "execution_count": 25,
   "metadata": {},
   "outputs": [
    {
     "data": {
      "text/plain": [
       "<h2 class=\"title\">Events for  June 25, 2018</h2>"
      ]
     },
     "execution_count": 25,
     "metadata": {},
     "output_type": "execute_result"
    }
   ],
   "source": [
    "title = soup.find_all('h2', class_='title')[0]\n",
    "\n",
    "title"
   ]
  },
  {
   "cell_type": "code",
   "execution_count": 27,
   "metadata": {},
   "outputs": [],
   "source": [
    "good_clear_float = title.next_sibling.next_sibling\n",
    "\n",
    "# good_clear_float"
   ]
  },
  {
   "cell_type": "markdown",
   "metadata": {},
   "source": [
    "#### Same all the urls under the 'a' tag:"
   ]
  },
  {
   "cell_type": "code",
   "execution_count": 28,
   "metadata": {},
   "outputs": [],
   "source": [
    "urls = []\n",
    "for tag in good_clear_float.find_all('a', rel=True):\n",
    "    href = tag.attrs['href']\n",
    "    urls.append(href)"
   ]
  },
  {
   "cell_type": "code",
   "execution_count": 29,
   "metadata": {
    "scrolled": true
   },
   "outputs": [
    {
     "data": {
      "text/plain": [
       "['https://sf.funcheap.com/67th-beginning-korean-war-commemoration-presidio/',\n",
       " 'https://sf.funcheap.com/67th-beginning-korean-war-commemoration-presidio/',\n",
       " 'https://sf.funcheap.com/live-lagunitas-white-buffalo-petaluma/',\n",
       " 'https://sf.funcheap.com/live-lagunitas-white-buffalo-petaluma/',\n",
       " 'https://sf.funcheap.com/popping-the-%e2%80%8bscience-%e2%80%8bbubble-conversation-w-cal-scientists-berkeley-3/',\n",
       " 'https://sf.funcheap.com/popping-the-%e2%80%8bscience-%e2%80%8bbubble-conversation-w-cal-scientists-berkeley-3/',\n",
       " 'https://sf.funcheap.com/nerd-nite-east-bay-geeky-lectures-in-a-bar-oakland-54/',\n",
       " 'https://sf.funcheap.com/case-of-the-mondays-game-night-free-comedy-milk-bar-3/',\n",
       " 'https://sf.funcheap.com/premier-scottish-indiepop-band-belle-sebastian-fox-theater/',\n",
       " 'https://sf.funcheap.com/free-standup-comedy-night-pop-food-oakland-19/',\n",
       " 'https://sf.funcheap.com/monday-night-comedy-free-cake-blondies-3/',\n",
       " 'https://sf.funcheap.com/laughgasm-monday-comedy-at-the-rite-spot-sf-23/']"
      ]
     },
     "execution_count": 29,
     "metadata": {},
     "output_type": "execute_result"
    }
   ],
   "source": [
    "urls"
   ]
  },
  {
   "cell_type": "markdown",
   "metadata": {},
   "source": [
    "### Checkout (in pair): Explain the fundamental difference between mongodb and sqlite. Why would you use one over the other? What is the trade off?"
   ]
  },
  {
   "cell_type": "markdown",
   "metadata": {},
   "source": [
    "## Mongo and API Scraping\n",
    "\n",
    "Many APIs will give you a choice of how it will return data to you, **choosing json will make life easier since we will frequently be using Mongo for our storage unit** during our scraping endeavors, and it plays very well with json. \n",
    "\n",
    "Interacting with Mongo from Python is done with the other **Mongo client** that we talked about earlier **PyMongo**. It is designed to have a similar interface as the Mongo shell does, this ends up being fairly intuitive since both **Python and JavaScript are object oriented languages**, and therefore store and refer to things in a similar manner.\n",
    "\n",
    "Remember, in mongoDB the vocabulary is slightly different than with the regular RDBMS:\n",
    "- collection <=> table\n",
    "- doc <=> row\n",
    "- field <=> column\n",
    "\n"
   ]
  },
  {
   "cell_type": "markdown",
   "metadata": {},
   "source": [
    "### Install and Run MongoDB with Homebrew\n",
    "- Open the Terminal app and type brew update.\n",
    "- After updating Homebrew brew install mongodb\n",
    "- After downloading Mongo, create the “db” directory. This is where the Mongo data files will live. You can create the directory in the default location by running mkdir -p /data/db\n",
    "- Make sure that the /data/db directory has the right permissions by running in the terminal:\n",
    "\n",
    "```\n",
    "sudo chmod 0755 /data/db\n",
    "# Enter your password when prompted\n",
    "```\n",
    "If you get an error because the folder does not exist, enter :\n",
    "\n",
    "```\n",
    "sudo mkdir -p /data/db\n",
    "```\n",
    "- Run the Mongo daemon (ie: in one of your terminal windows run `sudo mongod`). This should start the Mongo server (In multitasking computer operating systems, a daemon is a computer program that runs as a background process (also called service), rather than being under the direct control of an interactive user.)\n",
    "- Run the Mongo shell, with the Mongo daemon running in one terminal, type mongo in another terminal window. This will run the Mongo shell which is an application to access data in MongoDB.\n",
    "- You can now check the databases by typing: `show dbs` in mongo shell\n",
    "- To exit the Mongo shell run quit() or ctrl-c\n",
    "- To stop the Mongo daemon hit ctrl-c"
   ]
  },
  {
   "cell_type": "markdown",
   "metadata": {},
   "source": [
    "# Mongo Shell Demo Code\n",
    "\n",
    "## Using Mongo - General Commands for Inspecting Mongo\n",
    "\n",
    "```javascript\n",
    "help                        // List top level mongo commands\n",
    "\n",
    "db.help()                   // List database level mongo commands\n",
    "\n",
    "db.<collection name>.help() // List collection level mongo commands.\n",
    "\n",
    "show dbs                    // Get list of databases on your system\n",
    "\n",
    "use <database name>         // Change the database that you're current using if the db does not exist, create one.\n",
    "\n",
    "show collections            // Get list of collections within the database that you're currently using\n",
    "```"
   ]
  },
  {
   "cell_type": "markdown",
   "metadata": {},
   "source": [
    "## Inserting\n",
    "\n",
    "Once you're using a database you refer to it with the name **db**. Collections within databases are accessible through dot notation.\n",
    "\n",
    "```javascript\n",
    "db.users.insert({ name: 'Jon', age: '45', friends: [ 'Henry', 'Ashley']})\n",
    "\n",
    "db.getCollectionNames()  // Another way to get the names of collections in current database\n",
    "\n",
    "db.users.insert({ name: 'Ashley', age: '37', friends: [ 'Jon', 'Henry']})\n",
    "db.users.insert({ name: 'Frank', age: '17', friends: [ 'Billy'], car : 'Civic'})\n",
    "\n",
    "db.users.find()\n",
    "\n",
    "    { \"_id\" : ObjectId(\"573a39\"), \"name\" : \"Jon\", \"age\" : \"45\", \"friends\" : [ \"Henry\", \"Ashley\" ] }\n",
    "    { \"_id\" : ObjectId(\"573a3a\"), \"name\" : \"Ashley\", \"age\" : \"37\", \"friends\" : [ \"Jon\", \"Henry\" ] }\n",
    "    { \"_id\" : ObjectId(\"573a3b\"), \"name\" : \"Frank\", \"age\" : \"17\", \"friends\" : [ \"Billy\" ], \"car\" : \"Civic\" }\n",
    "```\n",
    "\n",
    "Things to note:\n",
    "* The three documents that we inserted into the above database didn't all have the same fields.\n",
    "* Mongo creates an ` _id` field for each document if one isn't provided."
   ]
  },
  {
   "cell_type": "markdown",
   "metadata": {},
   "source": [
    "## Querying\n",
    "\n",
    "```javascript\n",
    "db.users.find({ name: 'Jon'})                       // find by single field\n",
    "\n",
    "db.users.find({ car: { $exists : true } })          // find by presence of field\n",
    "\n",
    "db.users.find({ friends: 'Henry' })                 // find by value in array\n",
    "\n",
    "db.users.find({}, { name: true })                   // field selection (only return name)\n",
    "```\n",
    "\n",
    "A quick way to figure out how to write a Mongo query is to think about how you would do it in SQL and check out a resource like this Mongo endorsed [conversion guide](https://docs.mongodb.com/manual/reference/sql-comparison/#create-and-alter), or use something like a [query translator](http://www.querymongo.com/)."
   ]
  },
  {
   "cell_type": "markdown",
   "metadata": {},
   "source": [
    "## Updating\n",
    "\n",
    "```javascript\n",
    "db.users.update({name: \"Jon\"}, { $set: {friends: [\"Phil\"]}})            // replaces friends array\n",
    "\n",
    "db.users.update({name: \"Jon\"}, { $push: {friends: \"Susie\"}})            // adds to friends array\n",
    "\n",
    "db.users.update({name: \"Stevie\"}, { $push: {friends: \"Nicks\"}}, true)   // upsert\n",
    "\n",
    "db.users.update({}, { $set: { activated : false } }, false, true)       // multiple updates\n",
    "```"
   ]
  },
  {
   "cell_type": "markdown",
   "metadata": {},
   "source": [
    "### Let's use mongo with python:\n",
    "\n",
    "Install the modules pymongo and tqdm, by running the following commands in the terminal:\n",
    "```\n",
    "pip install pymongo\n",
    "pip install tqdm\n",
    "```"
   ]
  },
  {
   "cell_type": "code",
   "execution_count": 30,
   "metadata": {},
   "outputs": [],
   "source": [
    "from pymongo import MongoClient\n",
    "from tqdm import tqdm\n",
    "\n",
    "client = MongoClient()\n",
    "db = client.uk_police2\n",
    "collection = db.all_crime"
   ]
  },
  {
   "cell_type": "markdown",
   "metadata": {},
   "source": [
    "### We are going to use some of the UK police data through their public API:\n",
    "\n",
    "https://data.police.uk/docs/method/crimes-no-location/"
   ]
  },
  {
   "cell_type": "code",
   "execution_count": 31,
   "metadata": {},
   "outputs": [],
   "source": [
    "other_request = requests.get('https://data.police.uk/api/crimes-no-location?category=all-crime&force=leicestershire&date=2018-02')"
   ]
  },
  {
   "cell_type": "code",
   "execution_count": 32,
   "metadata": {},
   "outputs": [
    {
     "data": {
      "text/plain": [
       "[{'category': 'bicycle-theft',\n",
       "  'location_type': None,\n",
       "  'location': None,\n",
       "  'context': '',\n",
       "  'outcome_status': {'category': 'Investigation complete; no suspect identified',\n",
       "   'date': '2018-03'},\n",
       "  'persistent_id': 'db31a3c713ed240ed0ec9229abdd122fe5ef795ad7d2e36e9a456f739ef4715d',\n",
       "  'id': 62982250,\n",
       "  'location_subtype': '',\n",
       "  'month': '2018-02'},\n",
       " {'category': 'burglary',\n",
       "  'location_type': None,\n",
       "  'location': None,\n",
       "  'context': '',\n",
       "  'outcome_status': {'category': 'Investigation complete; no suspect identified',\n",
       "   'date': '2018-02'},\n",
       "  'persistent_id': 'd8d71e117157ec7df5977ec0b1df808c673c0b58cecef3e6c62c5ce9cc1bb8ff',\n",
       "  'id': 62978776,\n",
       "  'location_subtype': '',\n",
       "  'month': '2018-02'},\n",
       " {'category': 'burglary',\n",
       "  'location_type': None,\n",
       "  'location': None,\n",
       "  'context': '',\n",
       "  'outcome_status': {'category': 'Unable to prosecute suspect',\n",
       "   'date': '2018-03'},\n",
       "  'persistent_id': '9a6b6df740fbacce82a40aee5de726119dd408cad36e7de712fe301b6d58efbd',\n",
       "  'id': 62982759,\n",
       "  'location_subtype': '',\n",
       "  'month': '2018-02'},\n",
       " {'category': 'burglary',\n",
       "  'location_type': None,\n",
       "  'location': None,\n",
       "  'context': '',\n",
       "  'outcome_status': {'category': 'Investigation complete; no suspect identified',\n",
       "   'date': '2018-02'},\n",
       "  'persistent_id': '503644f64b86ce31e6eaa3775aa160fd530193ad257938f2a1f17bdcbb6123d5',\n",
       "  'id': 62983285,\n",
       "  'location_subtype': '',\n",
       "  'month': '2018-02'},\n",
       " {'category': 'burglary',\n",
       "  'location_type': None,\n",
       "  'location': None,\n",
       "  'context': '',\n",
       "  'outcome_status': {'category': 'Investigation complete; no suspect identified',\n",
       "   'date': '2018-02'},\n",
       "  'persistent_id': '4f4c1d79da94f9c79a5baf5b577f3a110873cdb23ec5d983a392290b47b399b4',\n",
       "  'id': 62980748,\n",
       "  'location_subtype': '',\n",
       "  'month': '2018-02'},\n",
       " {'category': 'burglary',\n",
       "  'location_type': None,\n",
       "  'location': None,\n",
       "  'context': '',\n",
       "  'outcome_status': {'category': 'Offender given suspended prison sentence',\n",
       "   'date': '2018-02'},\n",
       "  'persistent_id': '9cefeaaa2b108d330c79387d11740feaa19393f8977e6a2d247848b99d46fa32',\n",
       "  'id': 62978396,\n",
       "  'location_subtype': '',\n",
       "  'month': '2018-02'},\n",
       " {'category': 'burglary',\n",
       "  'location_type': None,\n",
       "  'location': None,\n",
       "  'context': '',\n",
       "  'outcome_status': {'category': 'Investigation complete; no suspect identified',\n",
       "   'date': '2018-04'},\n",
       "  'persistent_id': 'c3a2946630be99b7e94fcd097527e61f143c4af0b72dd006d3035790cc46f778',\n",
       "  'id': 62979301,\n",
       "  'location_subtype': '',\n",
       "  'month': '2018-02'},\n",
       " {'category': 'criminal-damage-arson',\n",
       "  'location_type': None,\n",
       "  'location': None,\n",
       "  'context': '',\n",
       "  'outcome_status': {'category': 'Formal action is not in the public interest',\n",
       "   'date': '2018-03'},\n",
       "  'persistent_id': '1685af91386fd8f3326443d492fd1e5313a2a0840d26becd6e2eb9e5973b76b4',\n",
       "  'id': 62980161,\n",
       "  'location_subtype': '',\n",
       "  'month': '2018-02'},\n",
       " {'category': 'criminal-damage-arson',\n",
       "  'location_type': None,\n",
       "  'location': None,\n",
       "  'context': '',\n",
       "  'outcome_status': {'category': 'Investigation complete; no suspect identified',\n",
       "   'date': '2018-02'},\n",
       "  'persistent_id': '3adab8191cfb861409287a8201c530c208063843b3ba781c4955a2d48c982109',\n",
       "  'id': 62979866,\n",
       "  'location_subtype': '',\n",
       "  'month': '2018-02'},\n",
       " {'category': 'other-theft',\n",
       "  'location_type': None,\n",
       "  'location': None,\n",
       "  'context': '',\n",
       "  'outcome_status': {'category': 'Investigation complete; no suspect identified',\n",
       "   'date': '2018-02'},\n",
       "  'persistent_id': 'ef87bf4b4427053fefed54fce55b295fdff3bdab562e5c6709211bcb3ba8edce',\n",
       "  'id': 62985317,\n",
       "  'location_subtype': '',\n",
       "  'month': '2018-02'},\n",
       " {'category': 'other-theft',\n",
       "  'location_type': None,\n",
       "  'location': None,\n",
       "  'context': '',\n",
       "  'outcome_status': {'category': 'Awaiting court outcome', 'date': '2018-02'},\n",
       "  'persistent_id': '952c7deb2acce255f05222736d45112c850fbbf065bd12ed2e6aa32be53f069a',\n",
       "  'id': 62981133,\n",
       "  'location_subtype': '',\n",
       "  'month': '2018-02'},\n",
       " {'category': 'other-theft',\n",
       "  'location_type': None,\n",
       "  'location': None,\n",
       "  'context': '',\n",
       "  'outcome_status': {'category': 'Investigation complete; no suspect identified',\n",
       "   'date': '2018-02'},\n",
       "  'persistent_id': 'eedff90b4246134efd33c6db2f90407359ebff308ad2d2aea408e970eb5a16fc',\n",
       "  'id': 62979598,\n",
       "  'location_subtype': '',\n",
       "  'month': '2018-02'},\n",
       " {'category': 'other-theft',\n",
       "  'location_type': None,\n",
       "  'location': None,\n",
       "  'context': '',\n",
       "  'outcome_status': {'category': 'Under investigation', 'date': '2018-02'},\n",
       "  'persistent_id': 'b544ee1e54e7aef648de2f9fd576d15c06267186ed4675f3f8ac248d2e5a44ab',\n",
       "  'id': 62982402,\n",
       "  'location_subtype': '',\n",
       "  'month': '2018-02'},\n",
       " {'category': 'public-order',\n",
       "  'location_type': None,\n",
       "  'location': None,\n",
       "  'context': '',\n",
       "  'outcome_status': {'category': 'Unable to prosecute suspect',\n",
       "   'date': '2018-03'},\n",
       "  'persistent_id': '88fdfb9cca69b2c0ce049d3372d0f448a7a3739157cc9e1b81c95ec52215daf8',\n",
       "  'id': 62981145,\n",
       "  'location_subtype': '',\n",
       "  'month': '2018-02'},\n",
       " {'category': 'shoplifting',\n",
       "  'location_type': None,\n",
       "  'location': None,\n",
       "  'context': '',\n",
       "  'outcome_status': {'category': 'Investigation complete; no suspect identified',\n",
       "   'date': '2018-04'},\n",
       "  'persistent_id': '9f6d673c79d45f8109c0f0ef71b6b4e0b41911fd94f5da198c2e84624ddfb855',\n",
       "  'id': 62982919,\n",
       "  'location_subtype': '',\n",
       "  'month': '2018-02'},\n",
       " {'category': 'shoplifting',\n",
       "  'location_type': None,\n",
       "  'location': None,\n",
       "  'context': '',\n",
       "  'outcome_status': {'category': 'Investigation complete; no suspect identified',\n",
       "   'date': '2018-02'},\n",
       "  'persistent_id': 'ef58ba6aa21db27522d54d7dc778ac6a60f73abb2c04a9b002a53f19e4555fac',\n",
       "  'id': 62980784,\n",
       "  'location_subtype': '',\n",
       "  'month': '2018-02'},\n",
       " {'category': 'shoplifting',\n",
       "  'location_type': None,\n",
       "  'location': None,\n",
       "  'context': '',\n",
       "  'outcome_status': {'category': 'Investigation complete; no suspect identified',\n",
       "   'date': '2018-02'},\n",
       "  'persistent_id': '7bb2a5e5673d731dec544520cb8f9660dde179f2ce5a92743b7c0b66ffb6d634',\n",
       "  'id': 62982119,\n",
       "  'location_subtype': '',\n",
       "  'month': '2018-02'},\n",
       " {'category': 'shoplifting',\n",
       "  'location_type': None,\n",
       "  'location': None,\n",
       "  'context': '',\n",
       "  'outcome_status': {'category': 'Investigation complete; no suspect identified',\n",
       "   'date': '2018-02'},\n",
       "  'persistent_id': '4945862dda2f443e40656e33504335262431dd7822eabea4f79b3568b54bc27d',\n",
       "  'id': 62982523,\n",
       "  'location_subtype': '',\n",
       "  'month': '2018-02'},\n",
       " {'category': 'vehicle-crime',\n",
       "  'location_type': None,\n",
       "  'location': None,\n",
       "  'context': '',\n",
       "  'outcome_status': {'category': 'Investigation complete; no suspect identified',\n",
       "   'date': '2018-02'},\n",
       "  'persistent_id': 'aef7a8d8e4b0472b67ac1edd6305d643a0ab8e7d6d813dc8ed99ac7f98a45a3e',\n",
       "  'id': 62982333,\n",
       "  'location_subtype': '',\n",
       "  'month': '2018-02'},\n",
       " {'category': 'violent-crime',\n",
       "  'location_type': None,\n",
       "  'location': None,\n",
       "  'context': '',\n",
       "  'outcome_status': {'category': 'Unable to prosecute suspect',\n",
       "   'date': '2018-03'},\n",
       "  'persistent_id': '33b0e786970ff3b9e9fef1cca0a5a8edf741433b5d19fd3f967d48b1b31449fd',\n",
       "  'id': 62981989,\n",
       "  'location_subtype': '',\n",
       "  'month': '2018-02'},\n",
       " {'category': 'violent-crime',\n",
       "  'location_type': None,\n",
       "  'location': None,\n",
       "  'context': '',\n",
       "  'outcome_status': {'category': 'Unable to prosecute suspect',\n",
       "   'date': '2018-03'},\n",
       "  'persistent_id': '88d222cae05b5d72d03a8bdd0c4cf055a861aea10c6c26d3281e8a36c76bad7a',\n",
       "  'id': 62983605,\n",
       "  'location_subtype': '',\n",
       "  'month': '2018-02'},\n",
       " {'category': 'violent-crime',\n",
       "  'location_type': None,\n",
       "  'location': None,\n",
       "  'context': '',\n",
       "  'outcome_status': {'category': 'Investigation complete; no suspect identified',\n",
       "   'date': '2018-03'},\n",
       "  'persistent_id': '62fcfafed69f317921eaa1f7c83deeb2afaac62da1d1d7dac6a155f28985ae3d',\n",
       "  'id': 62981869,\n",
       "  'location_subtype': '',\n",
       "  'month': '2018-02'},\n",
       " {'category': 'violent-crime',\n",
       "  'location_type': None,\n",
       "  'location': None,\n",
       "  'context': '',\n",
       "  'outcome_status': {'category': 'Unable to prosecute suspect',\n",
       "   'date': '2018-02'},\n",
       "  'persistent_id': '7848c7b77e063f7315dd01fffd5cf38c1110b4f0111b7b6536495be3c443658d',\n",
       "  'id': 62981977,\n",
       "  'location_subtype': '',\n",
       "  'month': '2018-02'},\n",
       " {'category': 'violent-crime',\n",
       "  'location_type': None,\n",
       "  'location': None,\n",
       "  'context': '',\n",
       "  'outcome_status': {'category': 'Unable to prosecute suspect',\n",
       "   'date': '2018-03'},\n",
       "  'persistent_id': '169deb91dd77da18f3bc40ba82e02313254c2caef91f6480ca40562ba002cf0e',\n",
       "  'id': 62983582,\n",
       "  'location_subtype': '',\n",
       "  'month': '2018-02'},\n",
       " {'category': 'violent-crime',\n",
       "  'location_type': None,\n",
       "  'location': None,\n",
       "  'context': '',\n",
       "  'outcome_status': {'category': 'Investigation complete; no suspect identified',\n",
       "   'date': '2018-02'},\n",
       "  'persistent_id': '51177789109cbde4b7b9e9a1518494b0fcb66863f403b98f9414df64d2753b62',\n",
       "  'id': 62979584,\n",
       "  'location_subtype': '',\n",
       "  'month': '2018-02'}]"
      ]
     },
     "execution_count": 32,
     "metadata": {},
     "output_type": "execute_result"
    }
   ],
   "source": [
    "other_request.json()"
   ]
  },
  {
   "cell_type": "markdown",
   "metadata": {},
   "source": [
    "### Let's grab the data and insert it in our mongoDB"
   ]
  },
  {
   "cell_type": "code",
   "execution_count": 34,
   "metadata": {
    "scrolled": false
   },
   "outputs": [
    {
     "name": "stderr",
     "output_type": "stream",
     "text": [
      "100%|██████████| 11/11 [00:17<00:00,  1.57s/it]\n"
     ]
    }
   ],
   "source": [
    "# Possible way to grab data for range of months and years\n",
    "for year in range(2017,2018):\n",
    "    for month in tqdm(range(1, 12)):\n",
    "#         print('Scraping year/month: {}/{}'.format(year, month))\n",
    "        r = requests.get('https://data.police.uk/api/crimes-no-location?category=all-crime&force=leicestershire&date={}-{}'.format(year, month))\n",
    "        collection.insert_many(r.json())"
   ]
  },
  {
   "cell_type": "code",
   "execution_count": 35,
   "metadata": {},
   "outputs": [
    {
     "data": {
      "text/plain": [
       "<pymongo.results.InsertManyResult at 0x10ddc5e08>"
      ]
     },
     "execution_count": 35,
     "metadata": {},
     "output_type": "execute_result"
    }
   ],
   "source": [
    "collection.insert_many(other_request.json())"
   ]
  },
  {
   "cell_type": "code",
   "execution_count": 36,
   "metadata": {},
   "outputs": [
    {
     "name": "stdout",
     "output_type": "stream",
     "text": [
      "{'_id': ObjectId('5b562e7e2a5c647591332bc3'),\n",
      " 'category': 'burglary',\n",
      " 'context': '',\n",
      " 'id': 54725401,\n",
      " 'location': None,\n",
      " 'location_subtype': '',\n",
      " 'location_type': None,\n",
      " 'month': '2017-02',\n",
      " 'outcome_status': {'category': 'Investigation complete; no suspect identified',\n",
      "                    'date': '2017-02'},\n",
      " 'persistent_id': '2f54b149a18892c1d19b2cb971e60af2daee051c563b57e7b0d4e3163e476180'}\n",
      "{'_id': ObjectId('5b562e7e2a5c647591332bc4'),\n",
      " 'category': 'burglary',\n",
      " 'context': '',\n",
      " 'id': 54732498,\n",
      " 'location': None,\n",
      " 'location_subtype': '',\n",
      " 'location_type': None,\n",
      " 'month': '2017-02',\n",
      " 'outcome_status': {'category': 'Investigation complete; no suspect identified',\n",
      "                    'date': '2017-02'},\n",
      " 'persistent_id': 'b9c512d3c6408aa45276a50fcd66c119117ca23c5e07e700886eebc988a4e42a'}\n",
      "{'_id': ObjectId('5b562e7f2a5c647591332bc6'),\n",
      " 'category': 'burglary',\n",
      " 'context': '',\n",
      " 'id': 56862854,\n",
      " 'location': None,\n",
      " 'location_subtype': '',\n",
      " 'location_type': None,\n",
      " 'month': '2017-03',\n",
      " 'outcome_status': {'category': 'Investigation complete; no suspect identified',\n",
      "                    'date': '2017-03'},\n",
      " 'persistent_id': '4ea1d4da29bd8b9e362af35cbabb6157149f62b65d37486dffd185a18e1aaadd'}\n",
      "{'_id': ObjectId('5b562e812a5c647591332c06'),\n",
      " 'category': 'burglary',\n",
      " 'context': '',\n",
      " 'id': 56880661,\n",
      " 'location': None,\n",
      " 'location_subtype': '',\n",
      " 'location_type': None,\n",
      " 'month': '2017-05',\n",
      " 'outcome_status': {'category': 'Investigation complete; no suspect identified',\n",
      "                    'date': '2017-05'},\n",
      " 'persistent_id': '3fb124f190c6c0d0cd7a92ec0726cb88c82ba6e2dc9ecef62a2d087009892aff'}\n",
      "{'_id': ObjectId('5b562e812a5c647591332c07'),\n",
      " 'category': 'burglary',\n",
      " 'context': '',\n",
      " 'id': 56881952,\n",
      " 'location': None,\n",
      " 'location_subtype': '',\n",
      " 'location_type': None,\n",
      " 'month': '2017-05',\n",
      " 'outcome_status': {'category': 'Investigation complete; no suspect identified',\n",
      "                    'date': '2018-04'},\n",
      " 'persistent_id': '933778c669ea0085bb044d626ac60b33d77c62cc8d30366b1be3df8207be1441'}\n",
      "{'_id': ObjectId('5b562e832a5c647591332c0d'),\n",
      " 'category': 'burglary',\n",
      " 'context': '',\n",
      " 'id': 57725780,\n",
      " 'location': None,\n",
      " 'location_subtype': '',\n",
      " 'location_type': None,\n",
      " 'month': '2017-06',\n",
      " 'outcome_status': {'category': 'Investigation complete; no suspect identified',\n",
      "                    'date': '2017-09'},\n",
      " 'persistent_id': '6bbfe1842c771c4661b1c4a1ea3b25d88bc67ac8b3e93d79b7622831eeea005e'}\n",
      "{'_id': ObjectId('5b562e872a5c647591332c2c'),\n",
      " 'category': 'burglary',\n",
      " 'context': '',\n",
      " 'id': 58384322,\n",
      " 'location': None,\n",
      " 'location_subtype': '',\n",
      " 'location_type': None,\n",
      " 'month': '2017-07',\n",
      " 'outcome_status': {'category': 'Investigation complete; no suspect identified',\n",
      "                    'date': '2017-07'},\n",
      " 'persistent_id': '47e1ae352c7581a2ae2024076c945b6aa0230f47a33b4a496eb9046644219cea'}\n",
      "{'_id': ObjectId('5b562e892a5c647591332c7c'),\n",
      " 'category': 'burglary',\n",
      " 'context': '',\n",
      " 'id': 59171151,\n",
      " 'location': None,\n",
      " 'location_subtype': '',\n",
      " 'location_type': None,\n",
      " 'month': '2017-08',\n",
      " 'outcome_status': {'category': 'Investigation complete; no suspect identified',\n",
      "                    'date': '2017-09'},\n",
      " 'persistent_id': '257298d065654223527f22d2c98a97c597f5cfbaf9ed825b0eb68b5344707807'}\n",
      "{'_id': ObjectId('5b562e892a5c647591332c7d'),\n",
      " 'category': 'burglary',\n",
      " 'context': '',\n",
      " 'id': 59172646,\n",
      " 'location': None,\n",
      " 'location_subtype': '',\n",
      " 'location_type': None,\n",
      " 'month': '2017-08',\n",
      " 'outcome_status': {'category': 'Investigation complete; no suspect identified',\n",
      "                    'date': '2017-10'},\n",
      " 'persistent_id': '4c7a958e0b3420b9c80ff6e59f4e0ff8f23a7a3d6e7b5f6afbd765880df6d615'}\n",
      "{'_id': ObjectId('5b562e8b2a5c647591332c8b'),\n",
      " 'category': 'burglary',\n",
      " 'context': '',\n",
      " 'id': 59778398,\n",
      " 'location': None,\n",
      " 'location_subtype': '',\n",
      " 'location_type': None,\n",
      " 'month': '2017-09',\n",
      " 'outcome_status': {'category': 'Court result unavailable', 'date': '2018-05'},\n",
      " 'persistent_id': '40f4fd961bda83b3fddc266ffa40b7ebb8ff866cea16af6860f2990ee2af23d6'}\n",
      "{'_id': ObjectId('5b562e8b2a5c647591332c8c'),\n",
      " 'category': 'burglary',\n",
      " 'context': '',\n",
      " 'id': 59775098,\n",
      " 'location': None,\n",
      " 'location_subtype': '',\n",
      " 'location_type': None,\n",
      " 'month': '2017-09',\n",
      " 'outcome_status': {'category': 'Action to be taken by another organisation',\n",
      "                    'date': '2017-12'},\n",
      " 'persistent_id': 'e2a90fca8d3c5df3c8b1eda098b704c92f0e210b4569a2ed7eaaf552af9a8cad'}\n",
      "{'_id': ObjectId('5b562e8b2a5c647591332c8d'),\n",
      " 'category': 'burglary',\n",
      " 'context': '',\n",
      " 'id': 59779901,\n",
      " 'location': None,\n",
      " 'location_subtype': '',\n",
      " 'location_type': None,\n",
      " 'month': '2017-09',\n",
      " 'outcome_status': {'category': 'Investigation complete; no suspect identified',\n",
      "                    'date': '2017-10'},\n",
      " 'persistent_id': '7f83b65c6a33122d1c85e6158269ef0958b118984b7c1ee1828047c43ffcf75f'}\n",
      "{'_id': ObjectId('5b562e8b2a5c647591332c8f'),\n",
      " 'category': 'burglary',\n",
      " 'context': '',\n",
      " 'id': 60453031,\n",
      " 'location': None,\n",
      " 'location_subtype': '',\n",
      " 'location_type': None,\n",
      " 'month': '2017-10',\n",
      " 'outcome_status': {'category': 'Investigation complete; no suspect identified',\n",
      "                    'date': '2017-10'},\n",
      " 'persistent_id': 'f2fa06e40b635c1081ab76211e3575c2cfebf81ad1d0276ced2c6deb8ea38930'}\n",
      "{'_id': ObjectId('5b562e8c2a5c647591332c97'),\n",
      " 'category': 'burglary',\n",
      " 'context': '',\n",
      " 'id': 61223685,\n",
      " 'location': None,\n",
      " 'location_subtype': '',\n",
      " 'location_type': None,\n",
      " 'month': '2017-11',\n",
      " 'outcome_status': {'category': 'Investigation complete; no suspect identified',\n",
      "                    'date': '2017-11'},\n",
      " 'persistent_id': '99988a15a36233b9af99f458c7e060eba294aafd1e9582910156ba7421191532'}\n",
      "{'_id': ObjectId('5b562e8c2a5c647591332c9d'),\n",
      " 'category': 'burglary',\n",
      " 'context': '',\n",
      " 'id': 62978776,\n",
      " 'location': None,\n",
      " 'location_subtype': '',\n",
      " 'location_type': None,\n",
      " 'month': '2018-02',\n",
      " 'outcome_status': {'category': 'Investigation complete; no suspect identified',\n",
      "                    'date': '2018-02'},\n",
      " 'persistent_id': 'd8d71e117157ec7df5977ec0b1df808c673c0b58cecef3e6c62c5ce9cc1bb8ff'}\n",
      "{'_id': ObjectId('5b562e8c2a5c647591332c9e'),\n",
      " 'category': 'burglary',\n",
      " 'context': '',\n",
      " 'id': 62982759,\n",
      " 'location': None,\n",
      " 'location_subtype': '',\n",
      " 'location_type': None,\n",
      " 'month': '2018-02',\n",
      " 'outcome_status': {'category': 'Unable to prosecute suspect',\n",
      "                    'date': '2018-03'},\n",
      " 'persistent_id': '9a6b6df740fbacce82a40aee5de726119dd408cad36e7de712fe301b6d58efbd'}\n",
      "{'_id': ObjectId('5b562e8c2a5c647591332c9f'),\n",
      " 'category': 'burglary',\n",
      " 'context': '',\n",
      " 'id': 62983285,\n",
      " 'location': None,\n",
      " 'location_subtype': '',\n",
      " 'location_type': None,\n",
      " 'month': '2018-02',\n",
      " 'outcome_status': {'category': 'Investigation complete; no suspect identified',\n",
      "                    'date': '2018-02'},\n",
      " 'persistent_id': '503644f64b86ce31e6eaa3775aa160fd530193ad257938f2a1f17bdcbb6123d5'}\n",
      "{'_id': ObjectId('5b562e8c2a5c647591332ca0'),\n",
      " 'category': 'burglary',\n",
      " 'context': '',\n",
      " 'id': 62980748,\n",
      " 'location': None,\n",
      " 'location_subtype': '',\n",
      " 'location_type': None,\n",
      " 'month': '2018-02',\n",
      " 'outcome_status': {'category': 'Investigation complete; no suspect identified',\n",
      "                    'date': '2018-02'},\n",
      " 'persistent_id': '4f4c1d79da94f9c79a5baf5b577f3a110873cdb23ec5d983a392290b47b399b4'}\n",
      "{'_id': ObjectId('5b562e8c2a5c647591332ca1'),\n",
      " 'category': 'burglary',\n",
      " 'context': '',\n",
      " 'id': 62978396,\n",
      " 'location': None,\n",
      " 'location_subtype': '',\n",
      " 'location_type': None,\n",
      " 'month': '2018-02',\n",
      " 'outcome_status': {'category': 'Offender given suspended prison sentence',\n",
      "                    'date': '2018-02'},\n",
      " 'persistent_id': '9cefeaaa2b108d330c79387d11740feaa19393f8977e6a2d247848b99d46fa32'}\n",
      "{'_id': ObjectId('5b562e8c2a5c647591332ca2'),\n",
      " 'category': 'burglary',\n",
      " 'context': '',\n",
      " 'id': 62979301,\n",
      " 'location': None,\n",
      " 'location_subtype': '',\n",
      " 'location_type': None,\n",
      " 'month': '2018-02',\n",
      " 'outcome_status': {'category': 'Investigation complete; no suspect identified',\n",
      "                    'date': '2018-04'},\n",
      " 'persistent_id': 'c3a2946630be99b7e94fcd097527e61f143c4af0b72dd006d3035790cc46f778'}\n"
     ]
    }
   ],
   "source": [
    "from pprint import pprint\n",
    "\n",
    "for item in collection.find({ 'category' : 'burglary' }):\n",
    "    pprint(item)"
   ]
  },
  {
   "cell_type": "code",
   "execution_count": 37,
   "metadata": {},
   "outputs": [],
   "source": [
    "# Remember to close the connection\n",
    "client.close()"
   ]
  },
  {
   "cell_type": "code",
   "execution_count": null,
   "metadata": {},
   "outputs": [],
   "source": []
  }
 ],
 "metadata": {
  "anaconda-cloud": {},
  "kernelspec": {
   "display_name": "Python 3",
   "language": "python",
   "name": "python3"
  },
  "language_info": {
   "codemirror_mode": {
    "name": "ipython",
    "version": 3
   },
   "file_extension": ".py",
   "mimetype": "text/x-python",
   "name": "python",
   "nbconvert_exporter": "python",
   "pygments_lexer": "ipython3",
   "version": "3.6.4"
  },
  "toc": {
   "nav_menu": {},
   "number_sections": false,
   "sideBar": true,
   "skip_h1_title": false,
   "title_cell": "Table of Contents",
   "title_sidebar": "Contents",
   "toc_cell": false,
   "toc_position": {},
   "toc_section_display": true,
   "toc_window_display": false
  },
  "varInspector": {
   "cols": {
    "lenName": 16,
    "lenType": 16,
    "lenVar": 40
   },
   "kernels_config": {
    "python": {
     "delete_cmd_postfix": "",
     "delete_cmd_prefix": "del ",
     "library": "var_list.py",
     "varRefreshCmd": "print(var_dic_list())"
    },
    "r": {
     "delete_cmd_postfix": ") ",
     "delete_cmd_prefix": "rm(",
     "library": "var_list.r",
     "varRefreshCmd": "cat(var_dic_list()) "
    }
   },
   "types_to_exclude": [
    "module",
    "function",
    "builtin_function_or_method",
    "instance",
    "_Feature"
   ],
   "window_display": false
  }
 },
 "nbformat": 4,
 "nbformat_minor": 1
}
