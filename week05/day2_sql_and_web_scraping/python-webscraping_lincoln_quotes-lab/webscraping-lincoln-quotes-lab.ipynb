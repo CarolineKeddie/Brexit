{
 "cells": [
  {
   "cell_type": "markdown",
   "metadata": {},
   "source": [
    "<img src=\"http://imgur.com/1ZcRyrc.png\" style=\"float: left; margin: 20px; height: 55px\">\n",
    "\n",
    "# Automated Data Collection: Lincoln Quotes\n",
    "\n",
    "_Instructor: Aymeric Flaisler_\n",
    "\n",
    "---\n",
    "\n",
    "For this lab, you are asked to produce a list of all of Lincoln's quotes available on this page: https://www.successories.com/iquote/author/291/abraham-lincoln-quotes/1 \n",
    "\n",
    "Use the `requests` and `BeautifulSoup` libraries in Python.\n",
    "\n",
    "For a bonus, collect all the quotes from each page available on Successories."
   ]
  },
  {
   "cell_type": "code",
   "execution_count": 1,
   "metadata": {
    "collapsed": true
   },
   "outputs": [],
   "source": [
    "import requests, tqdm\n",
    "from bs4 import BeautifulSoup"
   ]
  },
  {
   "cell_type": "code",
   "execution_count": null,
   "metadata": {
    "collapsed": true
   },
   "outputs": [],
   "source": [
    "# declare a list\n",
    "lincoln_quotes = []\n",
    "\n",
    "# iteraterate through the 13 pages of lincoln quotes\n",
    "for page in tqdm(range(1,13)):\n",
    "    \n",
    "    # make request for that page\n",
    "    r = requests.get(\"https://www.successories.com/iquote/author/291/abraham-lincoln-quotes/{0}\".format(page))\n",
    "    \n",
    "    # turn into a BeautifulSoup object\n",
    "    soup = \n",
    "    \n",
    "    # find quotes on page\n",
    "    quotes = \n",
    "    \n",
    "    # add to our quotes list\n",
    "\n",
    "    \n",
    "print(\"Total number of quotes scraped: \" + str(len(lincoln_quotes)) +\"\\n\")"
   ]
  }
 ],
 "metadata": {
  "kernelspec": {
   "display_name": "Python 3",
   "language": "python",
   "name": "python3"
  },
  "language_info": {
   "codemirror_mode": {
    "name": "ipython",
    "version": 3
   },
   "file_extension": ".py",
   "mimetype": "text/x-python",
   "name": "python",
   "nbconvert_exporter": "python",
   "pygments_lexer": "ipython3",
   "version": "3.6.4"
  },
  "varInspector": {
   "cols": {
    "lenName": 16,
    "lenType": 16,
    "lenVar": 40
   },
   "kernels_config": {
    "python": {
     "delete_cmd_postfix": "",
     "delete_cmd_prefix": "del ",
     "library": "var_list.py",
     "varRefreshCmd": "print(var_dic_list())"
    },
    "r": {
     "delete_cmd_postfix": ") ",
     "delete_cmd_prefix": "rm(",
     "library": "var_list.r",
     "varRefreshCmd": "cat(var_dic_list()) "
    }
   },
   "types_to_exclude": [
    "module",
    "function",
    "builtin_function_or_method",
    "instance",
    "_Feature"
   ],
   "window_display": false
  }
 },
 "nbformat": 4,
 "nbformat_minor": 2
}
