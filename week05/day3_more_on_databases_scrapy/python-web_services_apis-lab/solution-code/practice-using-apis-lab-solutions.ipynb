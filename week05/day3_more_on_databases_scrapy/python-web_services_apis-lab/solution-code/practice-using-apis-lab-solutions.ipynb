{
 "cells": [
  {
   "cell_type": "markdown",
   "metadata": {},
   "source": [
    "<img src=\"http://imgur.com/1ZcRyrc.png\" style=\"float: left; margin: 20px; height: 55px\">\n",
    "\n",
    "# Practice Using APIs\n",
    "\n",
    "_Instructor: Aymeric Flaisler_\n",
    "\n",
    "---\n",
    "\n",
    "In this lab we will practice using some popular APIs to retrieve and store data."
   ]
  },
  {
   "cell_type": "code",
   "execution_count": 11,
   "metadata": {},
   "outputs": [],
   "source": [
    "# Imports at the top\n",
    "import json\n",
    "import urllib\n",
    "import pandas as pd\n",
    "import numpy as np\n",
    "import requests\n",
    "import json\n",
    "import re\n",
    "import matplotlib.pyplot as plt\n",
    "%matplotlib inline"
   ]
  },
  {
   "cell_type": "markdown",
   "metadata": {},
   "source": [
    "## Exercise 1: get data from Sheetsu\n",
    "\n",
    "---\n",
    "\n",
    "[Sheetsu](https://sheetsu.com/) is an online service that allows you to access any Google spreadsheet from an API. This can be a very powerful way to share a dataset with colleagues as well as to create a mini centralized data storage that is simpler to edit than a database.\n",
    "\n",
    "A Google Spreadsheet with Wine data can be found [here](https://docs.google.com/spreadsheets/d/17CnKCqQTnyHgEljbQE5yK5DNuuqnssZ90qAi8XhM1e8/edit?usp=sharing).\n",
    "\n",
    "It can be accessed through sheetsu API at this endpoint: https://sheetsu.com/apis/v1.0su/4ce9c3459aad\n",
    "\n",
    "**Questions:**\n",
    "\n",
    "1. Use the requests library to access the document. Inspect the response text. What kind of data is it?\n",
    "- Check the status code of the response object. What code is it?\n",
    "- Use the appropriate libraries and read functions to read the response into a Pandas Dataframe.\n",
    "- Once you've imported the data into a dataframe, check the value of the 5th line: what's the price?"
   ]
  },
  {
   "cell_type": "code",
   "execution_count": 12,
   "metadata": {},
   "outputs": [],
   "source": [
    "# You can either post or get info from this API\n",
    "api_base_url = 'https://sheetsu.com/apis/v1.0su/4ce9c3459aad'"
   ]
  },
  {
   "cell_type": "code",
   "execution_count": 13,
   "metadata": {},
   "outputs": [],
   "source": [
    "# What kind of data is this returning?\n",
    "api_response = requests.get(api_base_url)"
   ]
  },
  {
   "cell_type": "code",
   "execution_count": 4,
   "metadata": {},
   "outputs": [
    {
     "data": {
      "text/plain": [
       "<Response [200]>"
      ]
     },
     "execution_count": 4,
     "metadata": {},
     "output_type": "execute_result"
    }
   ],
   "source": [
    "api_response"
   ]
  },
  {
   "cell_type": "code",
   "execution_count": 5,
   "metadata": {
    "scrolled": true
   },
   "outputs": [
    {
     "data": {
      "text/plain": [
       "'[{\"Color\":\"W\",\"Region\":\"Portugal\",\"Country\":\"Portugal\",\"Vintage\":\"2013\",\"Vinyard\":\"Vinho Verde\",\"Nam'"
      ]
     },
     "execution_count": 5,
     "metadata": {},
     "output_type": "execute_result"
    }
   ],
   "source": [
    "api_response.text[:100]"
   ]
  },
  {
   "cell_type": "code",
   "execution_count": 38,
   "metadata": {},
   "outputs": [],
   "source": [
    "# 1. It is a json string"
   ]
  },
  {
   "cell_type": "code",
   "execution_count": 39,
   "metadata": {},
   "outputs": [
    {
     "data": {
      "text/plain": [
       "'[{\"Color\":\"W\",\"Region\":\"Portugal\",\"Country\":\"Portugal\",\"Vintage\":\"2013\",\"Vinyard\":\"Vinho Verde\",\"Name\":\"\",\"Grape\":\"\",\"Consumed In\":\"2015\",\"Score\":\"4\",\"Price\":\"\"},{\"Color\":\"W\",\"Region\":\"France\",\"Country\":\"France\",\"Vintage\":\"2013\",\"Vinyard\":\"Peyruchet\",\"Name\":\"\",\"Grape\":\"\",\"Consumed In\":\"2015\",\"Score\":\"3\",\"Price\":\"17.8\"},{\"Color\":\"W\",\"Region\":\"Oregon\",\"Country\":\"Oregon\",\"Vintage\":\"2013\",\"Vinyard\":\"Abacela\",\"Name\":\"\",\"Grape\":\"\",\"Consumed In\":\"2015\",\"Score\":\"3\",\"Price\":\"20\"},{\"Color\":\"W\",\"Region\":\"Spain\",\"Country\":\"Spain\",\"Vintage\":\"2012\",\"Vinyard\":\"Ochoa\",\"Name\":\"\",\"Grape\":\"chardonay\",\"Consumed In\":\"2015\",\"Score\":\"2.5\",\"Price\":\"7\"},{\"Color\":\"R\",\"Region\":\"\",\"Country\":\"US\",\"Vintage\":\"2012\",\"Vinyard\":\"Heartland\",\"Name\":\"Spice Trader\",\"Grape\":\"chiraz, cab\",\"Consumed In\":\"2015\",\"Score\":\"3\",\"Price\":\"6\"},{\"Color\":\"R\",\"Region\":\"California\",\"Country\":\"US\",\"Vintage\":\"2012\",\"Vinyard\":\"Crow Canyon\",\"Name\":\"\",\"Grape\":\"cab\",\"Consumed In\":\"2015\",\"Score\":\"3.5\",\"Price\":\"13\"},{\"Color\":\"R\",\"Region\":\"Oregon\",\"Country\":\"US\",\"Vintage\":\"2013\",\"Vinyard\":\"Abacela\",\"Name\":\"#14\",\"Grape\":\"\",\"Consumed In\":\"2015\",\"Score\":\"2.5\",\"Price\":\"21\"},{\"Color\":\"R\",\"Region\":\"Bordeaux\",\"Country\":\"France\",\"Vintage\":\"2012\",\"Vinyard\":\"David Beaulieu\",\"Name\":\"\",\"Grape\":\"merlot, cab\",\"Consumed In\":\"2015\",\"Score\":\"3.5\",\"Price\":\"12\"},{\"Color\":\"R\",\"Region\":\"Medoc\",\"Country\":\"France\",\"Vintage\":\"2011\",\"Vinyard\":\"Chantemerle\",\"Name\":\"\",\"Grape\":\"merlot, cab\",\"Consumed In\":\"2015\",\"Score\":\"3.5\",\"Price\":\"11.99\"},{\"Color\":\"R\",\"Region\":\"Washington\",\"Country\":\"US\",\"Vintage\":\"2011\",\"Vinyard\":\"Hyatt\",\"Name\":\"\",\"Grape\":\"merlot\",\"Consumed In\":\"2015\",\"Score\":\"4\",\"Price\":\"13\"},{\"Color\":\"R\",\"Region\":\"Tuscany\",\"Country\":\"Italy\",\"Vintage\":\"2012\",\"Vinyard\":\"Rosso Dei Poggi\",\"Name\":\"Rosso Dei Poggi\",\"Grape\":\"sangiovese\",\"Consumed In\":\"2015\",\"Score\":\"3\",\"Price\":\"12\"},{\"Color\":\"R\",\"Region\":\"Tuscany\",\"Country\":\"\",\"Vintage\":\"2013\",\"Vinyard\":\"Orizzonti\",\"Name\":\"Montepulciano D\\'Abruzzo\",\"Grape\":\"\",\"Consumed In\":\"2015\",\"Score\":\"4.5\",\"Price\":\"22\"},{\"Color\":\"R\",\"Region\":\"Oregon\",\"Country\":\"US\",\"Vintage\":\"2010\",\"Vinyard\":\"Abacelo\",\"Name\":\"\",\"Grape\":\"chiraz\",\"Consumed In\":\"2015\",\"Score\":\"3.5\",\"Price\":\"7\"},{\"Color\":\"R\",\"Region\":\"Tuscany\",\"Country\":\"Italy\",\"Vintage\":\"2012\",\"Vinyard\":\"Ridolfi\",\"Name\":\"Rosso Di Montalcino\",\"Grape\":\"sangiovese\",\"Consumed In\":\"2015\",\"Score\":\"3.5\",\"Price\":\"15\"},{\"Color\":\"W\",\"Region\":\"Loire\",\"Country\":\"France\",\"Vintage\":\"2012\",\"Vinyard\":\"Celestin Blobdeau\",\"Name\":\"Sancerre Cuvee Des Moulins Bales\",\"Grape\":\"sauvignon blanc\",\"Consumed In\":\"2013\",\"Score\":\"3\",\"Price\":\"12\"},{\"Color\":\"R\",\"Region\":\"Napa\",\"Country\":\"US\",\"Vintage\":\"2012\",\"Vinyard\":\"Belle Glos\",\"Name\":\"Meiomi\",\"Grape\":\"pinot noir\",\"Consumed In\":\"2013\",\"Score\":\"3\",\"Price\":\"13\"},{\"Color\":\"R\",\"Region\":\"France\",\"Country\":\"France\",\"Vintage\":\"2012\",\"Vinyard\":\"Puech-Haut\",\"Name\":\"Saint Drezery Prestige\",\"Grape\":\"\",\"Consumed In\":\"2013\",\"Score\":\"3\",\"Price\":\"13\"},{\"Color\":\"R\",\"Region\":\"France\",\"Country\":\"France\",\"Vintage\":\"2011\",\"Vinyard\":\"Puech-Haut\",\"Name\":\"Saint Drezery Prestige\",\"Grape\":\"\",\"Consumed In\":\"2013\",\"Score\":\"2\",\"Price\":\"14\"},{\"Color\":\"W\",\"Region\":\"Nappa\",\"Country\":\"US\",\"Vintage\":\"2012\",\"Vinyard\":\"Honig\",\"Name\":\"Sauvignon Blanc\",\"Grape\":\"sauvignon blanc\",\"Consumed In\":\"2014\",\"Score\":\"4\",\"Price\":\"14.5\"},{\"Color\":\"W\",\"Region\":\"Nappa\",\"Country\":\"US\",\"Vintage\":\"2012\",\"Vinyard\":\"Provenance\",\"Name\":\"Uppercut North Coast\",\"Grape\":\"sauvignon blanc\",\"Consumed In\":\"2014\",\"Score\":\"3\",\"Price\":\"11\"},{\"Color\":\"R\",\"Region\":\"Sicily\",\"Country\":\"Italy\",\"Vintage\":\"2011\",\"Vinyard\":\"Baglio Di Pianetto\",\"Name\":\"Nero d\\'Avola\",\"Grape\":\"\",\"Consumed In\":\"2014\",\"Score\":\"\",\"Price\":\"\"},{\"Color\":\"P\",\"Region\":\"Truro\",\"Country\":\"US\",\"Vintage\":\"2013\",\"Vinyard\":\"Truro Vineyards\",\"Name\":\"Cape Blush\",\"Grape\":\"\",\"Consumed In\":\"2014\",\"Score\":\"4\",\"Price\":\"10\"},{\"Color\":\"W\",\"Region\":\"Truro\",\"Country\":\"US\",\"Vintage\":\"2013\",\"Vinyard\":\"Truro Vineyards\",\"Name\":\"Pinot Grigio\",\"Grape\":\"pinot griogio\",\"Consumed In\":\"2014\",\"Score\":\"3\",\"Price\":\"10\"},{\"Color\":\"R\",\"Region\":\"Provence\",\"Country\":\"France\",\"Vintage\":\"2013\",\"Vinyard\":\"Chateau de la Clapiere\",\"Name\":\"Cru Classe\",\"Grape\":\"\",\"Consumed In\":\"2014\",\"Score\":\"3.5\",\"Price\":\"\"},{\"Color\":\"W\",\"Region\":\"Bordeaux\",\"Country\":\"France\",\"Vintage\":\"2013\",\"Vinyard\":\"Domaine du Claouset\",\"Name\":\"Domaine du Claouset\",\"Grape\":\"cabernet sauvignon\",\"Consumed In\":\"2015\",\"Score\":\"3\",\"Price\":\"\"},{\"Color\":\"W\",\"Region\":\"Napa\",\"Country\":\"\",\"Vintage\":\"2012\",\"Vinyard\":\"Two Angels\",\"Name\":\"Sauvignon Blanc\",\"Grape\":\"sauvignon blanc\",\"Consumed In\":\"2015\",\"Score\":\"3.5\",\"Price\":\"\"},{\"Color\":\"W\",\"Region\":\"Portugal\",\"Country\":\"Portugal\",\"Vintage\":\"2013\",\"Vinyard\":\"Mapreco\",\"Name\":\"Vinho Verde\",\"Grape\":\"\",\"Consumed In\":\"2015\",\"Score\":\"3.5\",\"Price\":\"\"},{\"Color\":\"R\",\"Region\":\"Sonoma\",\"Country\":\"US\",\"Vintage\":\"1973\",\"Vinyard\":\"\",\"Name\":\"My wonderful wine\",\"Grape\":\"\",\"Consumed In\":\"2015\",\"Score\":\"10\",\"Price\":\"200\"}]'"
      ]
     },
     "execution_count": 39,
     "metadata": {},
     "output_type": "execute_result"
    }
   ],
   "source": [
    "api_response.text"
   ]
  },
  {
   "cell_type": "code",
   "execution_count": 8,
   "metadata": {},
   "outputs": [],
   "source": [
    "response = json.loads(api_response.text)"
   ]
  },
  {
   "cell_type": "code",
   "execution_count": 9,
   "metadata": {},
   "outputs": [
    {
     "data": {
      "text/plain": [
       "list"
      ]
     },
     "execution_count": 9,
     "metadata": {},
     "output_type": "execute_result"
    }
   ],
   "source": [
    "type(response)"
   ]
  },
  {
   "cell_type": "code",
   "execution_count": 10,
   "metadata": {},
   "outputs": [
    {
     "data": {
      "text/plain": [
       "{'Color': 'W',\n",
       " 'Consumed In': '2015',\n",
       " 'Country': 'Portugal',\n",
       " 'Grape': '',\n",
       " 'Name': '',\n",
       " 'Price': '',\n",
       " 'Region': 'Portugal',\n",
       " 'Score': '4',\n",
       " 'Vintage': '2013',\n",
       " 'Vinyard': 'Vinho Verde'}"
      ]
     },
     "execution_count": 10,
     "metadata": {},
     "output_type": "execute_result"
    }
   ],
   "source": [
    "response[0]"
   ]
  },
  {
   "cell_type": "code",
   "execution_count": 11,
   "metadata": {},
   "outputs": [
    {
     "data": {
      "text/plain": [
       "200"
      ]
     },
     "execution_count": 11,
     "metadata": {},
     "output_type": "execute_result"
    }
   ],
   "source": [
    "api_response.status_code"
   ]
  },
  {
   "cell_type": "code",
   "execution_count": 12,
   "metadata": {},
   "outputs": [],
   "source": [
    "# 2. response code is 200"
   ]
  },
  {
   "cell_type": "code",
   "execution_count": 14,
   "metadata": {},
   "outputs": [
    {
     "ename": "NameError",
     "evalue": "name 'response' is not defined",
     "output_type": "error",
     "traceback": [
      "\u001b[0;31m-------------------------------------------------------------------\u001b[0m",
      "\u001b[0;31mNameError\u001b[0m                         Traceback (most recent call last)",
      "\u001b[0;32m<ipython-input-14-656b278619b2>\u001b[0m in \u001b[0;36m<module>\u001b[0;34m()\u001b[0m\n\u001b[0;32m----> 1\u001b[0;31m \u001b[0mwine_df\u001b[0m \u001b[0;34m=\u001b[0m \u001b[0mpd\u001b[0m\u001b[0;34m.\u001b[0m\u001b[0mDataFrame\u001b[0m\u001b[0;34m(\u001b[0m\u001b[0mresponse\u001b[0m\u001b[0;34m)\u001b[0m\u001b[0;34m\u001b[0m\u001b[0m\n\u001b[0m\u001b[1;32m      2\u001b[0m \u001b[0mwine_df\u001b[0m\u001b[0;34m.\u001b[0m\u001b[0mhead\u001b[0m\u001b[0;34m(\u001b[0m\u001b[0;34m)\u001b[0m\u001b[0;34m\u001b[0m\u001b[0m\n",
      "\u001b[0;31mNameError\u001b[0m: name 'response' is not defined"
     ]
    }
   ],
   "source": [
    "wine_df = pd.DataFrame(response)\n",
    "wine_df.head()"
   ]
  },
  {
   "cell_type": "code",
   "execution_count": 15,
   "metadata": {},
   "outputs": [
    {
     "data": {
      "text/html": [
       "<div>\n",
       "<style scoped>\n",
       "    .dataframe tbody tr th:only-of-type {\n",
       "        vertical-align: middle;\n",
       "    }\n",
       "\n",
       "    .dataframe tbody tr th {\n",
       "        vertical-align: top;\n",
       "    }\n",
       "\n",
       "    .dataframe thead th {\n",
       "        text-align: right;\n",
       "    }\n",
       "</style>\n",
       "<table border=\"1\" class=\"dataframe\">\n",
       "  <thead>\n",
       "    <tr style=\"text-align: right;\">\n",
       "      <th></th>\n",
       "      <th>Color</th>\n",
       "      <th>Consumed In</th>\n",
       "      <th>Country</th>\n",
       "      <th>Grape</th>\n",
       "      <th>Name</th>\n",
       "      <th>Price</th>\n",
       "      <th>Region</th>\n",
       "      <th>Score</th>\n",
       "      <th>Vintage</th>\n",
       "      <th>Vinyard</th>\n",
       "    </tr>\n",
       "  </thead>\n",
       "  <tbody>\n",
       "    <tr>\n",
       "      <th>0</th>\n",
       "      <td>W</td>\n",
       "      <td>2015</td>\n",
       "      <td>Portugal</td>\n",
       "      <td></td>\n",
       "      <td></td>\n",
       "      <td></td>\n",
       "      <td>Portugal</td>\n",
       "      <td>4</td>\n",
       "      <td>2013</td>\n",
       "      <td>Vinho Verde</td>\n",
       "    </tr>\n",
       "    <tr>\n",
       "      <th>1</th>\n",
       "      <td>W</td>\n",
       "      <td>2015</td>\n",
       "      <td>France</td>\n",
       "      <td></td>\n",
       "      <td></td>\n",
       "      <td>17.8</td>\n",
       "      <td>France</td>\n",
       "      <td>3</td>\n",
       "      <td>2013</td>\n",
       "      <td>Peyruchet</td>\n",
       "    </tr>\n",
       "    <tr>\n",
       "      <th>2</th>\n",
       "      <td>W</td>\n",
       "      <td>2015</td>\n",
       "      <td>Oregon</td>\n",
       "      <td></td>\n",
       "      <td></td>\n",
       "      <td>20</td>\n",
       "      <td>Oregon</td>\n",
       "      <td>3</td>\n",
       "      <td>2013</td>\n",
       "      <td>Abacela</td>\n",
       "    </tr>\n",
       "    <tr>\n",
       "      <th>3</th>\n",
       "      <td>W</td>\n",
       "      <td>2015</td>\n",
       "      <td>Spain</td>\n",
       "      <td>chardonay</td>\n",
       "      <td></td>\n",
       "      <td>7</td>\n",
       "      <td>Spain</td>\n",
       "      <td>2.5</td>\n",
       "      <td>2012</td>\n",
       "      <td>Ochoa</td>\n",
       "    </tr>\n",
       "    <tr>\n",
       "      <th>4</th>\n",
       "      <td>R</td>\n",
       "      <td>2015</td>\n",
       "      <td>US</td>\n",
       "      <td>chiraz, cab</td>\n",
       "      <td>Spice Trader</td>\n",
       "      <td>6</td>\n",
       "      <td></td>\n",
       "      <td>3</td>\n",
       "      <td>2012</td>\n",
       "      <td>Heartland</td>\n",
       "    </tr>\n",
       "    <tr>\n",
       "      <th>5</th>\n",
       "      <td>R</td>\n",
       "      <td>2015</td>\n",
       "      <td>US</td>\n",
       "      <td>cab</td>\n",
       "      <td></td>\n",
       "      <td>13</td>\n",
       "      <td>California</td>\n",
       "      <td>3.5</td>\n",
       "      <td>2012</td>\n",
       "      <td>Crow Canyon</td>\n",
       "    </tr>\n",
       "    <tr>\n",
       "      <th>6</th>\n",
       "      <td>R</td>\n",
       "      <td>2015</td>\n",
       "      <td>US</td>\n",
       "      <td></td>\n",
       "      <td>#14</td>\n",
       "      <td>21</td>\n",
       "      <td>Oregon</td>\n",
       "      <td>2.5</td>\n",
       "      <td>2013</td>\n",
       "      <td>Abacela</td>\n",
       "    </tr>\n",
       "    <tr>\n",
       "      <th>7</th>\n",
       "      <td>R</td>\n",
       "      <td>2015</td>\n",
       "      <td>France</td>\n",
       "      <td>merlot, cab</td>\n",
       "      <td></td>\n",
       "      <td>12</td>\n",
       "      <td>Bordeaux</td>\n",
       "      <td>3.5</td>\n",
       "      <td>2012</td>\n",
       "      <td>David Beaulieu</td>\n",
       "    </tr>\n",
       "    <tr>\n",
       "      <th>8</th>\n",
       "      <td>R</td>\n",
       "      <td>2015</td>\n",
       "      <td>France</td>\n",
       "      <td>merlot, cab</td>\n",
       "      <td></td>\n",
       "      <td>11.99</td>\n",
       "      <td>Medoc</td>\n",
       "      <td>3.5</td>\n",
       "      <td>2011</td>\n",
       "      <td>Chantemerle</td>\n",
       "    </tr>\n",
       "    <tr>\n",
       "      <th>9</th>\n",
       "      <td>R</td>\n",
       "      <td>2015</td>\n",
       "      <td>US</td>\n",
       "      <td>merlot</td>\n",
       "      <td></td>\n",
       "      <td>13</td>\n",
       "      <td>Washington</td>\n",
       "      <td>4</td>\n",
       "      <td>2011</td>\n",
       "      <td>Hyatt</td>\n",
       "    </tr>\n",
       "    <tr>\n",
       "      <th>10</th>\n",
       "      <td>R</td>\n",
       "      <td>2015</td>\n",
       "      <td>Italy</td>\n",
       "      <td>sangiovese</td>\n",
       "      <td>Rosso Dei Poggi</td>\n",
       "      <td>12</td>\n",
       "      <td>Tuscany</td>\n",
       "      <td>3</td>\n",
       "      <td>2012</td>\n",
       "      <td>Rosso Dei Poggi</td>\n",
       "    </tr>\n",
       "    <tr>\n",
       "      <th>11</th>\n",
       "      <td>R</td>\n",
       "      <td>2015</td>\n",
       "      <td></td>\n",
       "      <td></td>\n",
       "      <td>Montepulciano D'Abruzzo</td>\n",
       "      <td>22</td>\n",
       "      <td>Tuscany</td>\n",
       "      <td>4.5</td>\n",
       "      <td>2013</td>\n",
       "      <td>Orizzonti</td>\n",
       "    </tr>\n",
       "    <tr>\n",
       "      <th>12</th>\n",
       "      <td>R</td>\n",
       "      <td>2015</td>\n",
       "      <td>US</td>\n",
       "      <td>chiraz</td>\n",
       "      <td></td>\n",
       "      <td>7</td>\n",
       "      <td>Oregon</td>\n",
       "      <td>3.5</td>\n",
       "      <td>2010</td>\n",
       "      <td>Abacelo</td>\n",
       "    </tr>\n",
       "    <tr>\n",
       "      <th>13</th>\n",
       "      <td>R</td>\n",
       "      <td>2015</td>\n",
       "      <td>Italy</td>\n",
       "      <td>sangiovese</td>\n",
       "      <td>Rosso Di Montalcino</td>\n",
       "      <td>15</td>\n",
       "      <td>Tuscany</td>\n",
       "      <td>3.5</td>\n",
       "      <td>2012</td>\n",
       "      <td>Ridolfi</td>\n",
       "    </tr>\n",
       "    <tr>\n",
       "      <th>14</th>\n",
       "      <td>W</td>\n",
       "      <td>2013</td>\n",
       "      <td>France</td>\n",
       "      <td>sauvignon blanc</td>\n",
       "      <td>Sancerre Cuvee Des Moulins Bales</td>\n",
       "      <td>12</td>\n",
       "      <td>Loire</td>\n",
       "      <td>3</td>\n",
       "      <td>2012</td>\n",
       "      <td>Celestin Blobdeau</td>\n",
       "    </tr>\n",
       "    <tr>\n",
       "      <th>15</th>\n",
       "      <td>R</td>\n",
       "      <td>2013</td>\n",
       "      <td>US</td>\n",
       "      <td>pinot noir</td>\n",
       "      <td>Meiomi</td>\n",
       "      <td>13</td>\n",
       "      <td>Napa</td>\n",
       "      <td>3</td>\n",
       "      <td>2012</td>\n",
       "      <td>Belle Glos</td>\n",
       "    </tr>\n",
       "    <tr>\n",
       "      <th>16</th>\n",
       "      <td>R</td>\n",
       "      <td>2013</td>\n",
       "      <td>France</td>\n",
       "      <td></td>\n",
       "      <td>Saint Drezery Prestige</td>\n",
       "      <td>13</td>\n",
       "      <td>France</td>\n",
       "      <td>3</td>\n",
       "      <td>2012</td>\n",
       "      <td>Puech-Haut</td>\n",
       "    </tr>\n",
       "    <tr>\n",
       "      <th>17</th>\n",
       "      <td>R</td>\n",
       "      <td>2013</td>\n",
       "      <td>France</td>\n",
       "      <td></td>\n",
       "      <td>Saint Drezery Prestige</td>\n",
       "      <td>14</td>\n",
       "      <td>France</td>\n",
       "      <td>2</td>\n",
       "      <td>2011</td>\n",
       "      <td>Puech-Haut</td>\n",
       "    </tr>\n",
       "    <tr>\n",
       "      <th>18</th>\n",
       "      <td>W</td>\n",
       "      <td>2014</td>\n",
       "      <td>US</td>\n",
       "      <td>sauvignon blanc</td>\n",
       "      <td>Sauvignon Blanc</td>\n",
       "      <td>14.5</td>\n",
       "      <td>Nappa</td>\n",
       "      <td>4</td>\n",
       "      <td>2012</td>\n",
       "      <td>Honig</td>\n",
       "    </tr>\n",
       "    <tr>\n",
       "      <th>19</th>\n",
       "      <td>W</td>\n",
       "      <td>2014</td>\n",
       "      <td>US</td>\n",
       "      <td>sauvignon blanc</td>\n",
       "      <td>Uppercut North Coast</td>\n",
       "      <td>11</td>\n",
       "      <td>Nappa</td>\n",
       "      <td>3</td>\n",
       "      <td>2012</td>\n",
       "      <td>Provenance</td>\n",
       "    </tr>\n",
       "    <tr>\n",
       "      <th>20</th>\n",
       "      <td>R</td>\n",
       "      <td>2014</td>\n",
       "      <td>Italy</td>\n",
       "      <td></td>\n",
       "      <td>Nero d'Avola</td>\n",
       "      <td></td>\n",
       "      <td>Sicily</td>\n",
       "      <td></td>\n",
       "      <td>2011</td>\n",
       "      <td>Baglio Di Pianetto</td>\n",
       "    </tr>\n",
       "    <tr>\n",
       "      <th>21</th>\n",
       "      <td>P</td>\n",
       "      <td>2014</td>\n",
       "      <td>US</td>\n",
       "      <td></td>\n",
       "      <td>Cape Blush</td>\n",
       "      <td>10</td>\n",
       "      <td>Truro</td>\n",
       "      <td>4</td>\n",
       "      <td>2013</td>\n",
       "      <td>Truro Vineyards</td>\n",
       "    </tr>\n",
       "    <tr>\n",
       "      <th>22</th>\n",
       "      <td>W</td>\n",
       "      <td>2014</td>\n",
       "      <td>US</td>\n",
       "      <td>pinot griogio</td>\n",
       "      <td>Pinot Grigio</td>\n",
       "      <td>10</td>\n",
       "      <td>Truro</td>\n",
       "      <td>3</td>\n",
       "      <td>2013</td>\n",
       "      <td>Truro Vineyards</td>\n",
       "    </tr>\n",
       "    <tr>\n",
       "      <th>23</th>\n",
       "      <td>R</td>\n",
       "      <td>2014</td>\n",
       "      <td>France</td>\n",
       "      <td></td>\n",
       "      <td>Cru Classe</td>\n",
       "      <td></td>\n",
       "      <td>Provence</td>\n",
       "      <td>3.5</td>\n",
       "      <td>2013</td>\n",
       "      <td>Chateau de la Clapiere</td>\n",
       "    </tr>\n",
       "    <tr>\n",
       "      <th>24</th>\n",
       "      <td>W</td>\n",
       "      <td>2015</td>\n",
       "      <td>France</td>\n",
       "      <td>cabernet sauvignon</td>\n",
       "      <td>Domaine du Claouset</td>\n",
       "      <td></td>\n",
       "      <td>Bordeaux</td>\n",
       "      <td>3</td>\n",
       "      <td>2013</td>\n",
       "      <td>Domaine du Claouset</td>\n",
       "    </tr>\n",
       "    <tr>\n",
       "      <th>25</th>\n",
       "      <td>W</td>\n",
       "      <td>2015</td>\n",
       "      <td></td>\n",
       "      <td>sauvignon blanc</td>\n",
       "      <td>Sauvignon Blanc</td>\n",
       "      <td></td>\n",
       "      <td>Napa</td>\n",
       "      <td>3.5</td>\n",
       "      <td>2012</td>\n",
       "      <td>Two Angels</td>\n",
       "    </tr>\n",
       "    <tr>\n",
       "      <th>26</th>\n",
       "      <td>W</td>\n",
       "      <td>2015</td>\n",
       "      <td>Portugal</td>\n",
       "      <td></td>\n",
       "      <td>Vinho Verde</td>\n",
       "      <td></td>\n",
       "      <td>Portugal</td>\n",
       "      <td>3.5</td>\n",
       "      <td>2013</td>\n",
       "      <td>Mapreco</td>\n",
       "    </tr>\n",
       "    <tr>\n",
       "      <th>27</th>\n",
       "      <td>R</td>\n",
       "      <td>2015</td>\n",
       "      <td>FR</td>\n",
       "      <td></td>\n",
       "      <td>Beaujolais</td>\n",
       "      <td>20</td>\n",
       "      <td>Sonoma</td>\n",
       "      <td>10</td>\n",
       "      <td>2017</td>\n",
       "      <td></td>\n",
       "    </tr>\n",
       "    <tr>\n",
       "      <th>28</th>\n",
       "      <td>W</td>\n",
       "      <td>2015</td>\n",
       "      <td>New Zealand</td>\n",
       "      <td>Sav Blanc</td>\n",
       "      <td>Matt's incredible wine</td>\n",
       "      <td>4545</td>\n",
       "      <td>Sonoma</td>\n",
       "      <td>1000</td>\n",
       "      <td>1973</td>\n",
       "      <td></td>\n",
       "    </tr>\n",
       "    <tr>\n",
       "      <th>29</th>\n",
       "      <td>R</td>\n",
       "      <td>2015</td>\n",
       "      <td>US</td>\n",
       "      <td></td>\n",
       "      <td>Matt's wine</td>\n",
       "      <td>200</td>\n",
       "      <td>Sonoma</td>\n",
       "      <td>10</td>\n",
       "      <td>1973</td>\n",
       "      <td></td>\n",
       "    </tr>\n",
       "    <tr>\n",
       "      <th>30</th>\n",
       "      <td>R</td>\n",
       "      <td>2015</td>\n",
       "      <td>US</td>\n",
       "      <td></td>\n",
       "      <td>My wonderful wine</td>\n",
       "      <td>200</td>\n",
       "      <td>Sonoma</td>\n",
       "      <td>10</td>\n",
       "      <td>1973</td>\n",
       "      <td></td>\n",
       "    </tr>\n",
       "    <tr>\n",
       "      <th>31</th>\n",
       "      <td>R</td>\n",
       "      <td>2015</td>\n",
       "      <td>US</td>\n",
       "      <td></td>\n",
       "      <td>Aymeric's wine</td>\n",
       "      <td>200</td>\n",
       "      <td>Sonoma</td>\n",
       "      <td>10</td>\n",
       "      <td>1973</td>\n",
       "      <td></td>\n",
       "    </tr>\n",
       "    <tr>\n",
       "      <th>32</th>\n",
       "      <td>R</td>\n",
       "      <td>2015</td>\n",
       "      <td>US</td>\n",
       "      <td></td>\n",
       "      <td>My wonderful wine</td>\n",
       "      <td>200</td>\n",
       "      <td>Sonoma</td>\n",
       "      <td>10</td>\n",
       "      <td>1973</td>\n",
       "      <td></td>\n",
       "    </tr>\n",
       "  </tbody>\n",
       "</table>\n",
       "</div>"
      ],
      "text/plain": [
       "   Color  Consumed In      Country               Grape  \\\n",
       "0      W         2015     Portugal                       \n",
       "1      W         2015       France                       \n",
       "2      W         2015       Oregon                       \n",
       "3      W         2015        Spain           chardonay   \n",
       "4      R         2015           US         chiraz, cab   \n",
       "5      R         2015           US                 cab   \n",
       "6      R         2015           US                       \n",
       "7      R         2015       France         merlot, cab   \n",
       "8      R         2015       France         merlot, cab   \n",
       "9      R         2015           US              merlot   \n",
       "10     R         2015        Italy          sangiovese   \n",
       "11     R         2015                                    \n",
       "12     R         2015           US              chiraz   \n",
       "13     R         2015        Italy          sangiovese   \n",
       "14     W         2013       France     sauvignon blanc   \n",
       "15     R         2013           US          pinot noir   \n",
       "16     R         2013       France                       \n",
       "17     R         2013       France                       \n",
       "18     W         2014           US     sauvignon blanc   \n",
       "19     W         2014           US     sauvignon blanc   \n",
       "20     R         2014        Italy                       \n",
       "21     P         2014           US                       \n",
       "22     W         2014           US       pinot griogio   \n",
       "23     R         2014       France                       \n",
       "24     W         2015       France  cabernet sauvignon   \n",
       "25     W         2015                  sauvignon blanc   \n",
       "26     W         2015     Portugal                       \n",
       "27     R         2015           FR                       \n",
       "28     W         2015  New Zealand           Sav Blanc   \n",
       "29     R         2015           US                       \n",
       "30     R         2015           US                       \n",
       "31     R         2015           US                       \n",
       "32     R         2015           US                       \n",
       "\n",
       "                                Name  Price      Region Score  Vintage  \\\n",
       "0                                              Portugal     4     2013   \n",
       "1                                      17.8      France     3     2013   \n",
       "2                                        20      Oregon     3     2013   \n",
       "3                                         7       Spain   2.5     2012   \n",
       "4                       Spice Trader      6                 3     2012   \n",
       "5                                        13  California   3.5     2012   \n",
       "6                                #14     21      Oregon   2.5     2013   \n",
       "7                                        12    Bordeaux   3.5     2012   \n",
       "8                                     11.99       Medoc   3.5     2011   \n",
       "9                                        13  Washington     4     2011   \n",
       "10                   Rosso Dei Poggi     12     Tuscany     3     2012   \n",
       "11           Montepulciano D'Abruzzo     22     Tuscany   4.5     2013   \n",
       "12                                        7      Oregon   3.5     2010   \n",
       "13               Rosso Di Montalcino     15     Tuscany   3.5     2012   \n",
       "14  Sancerre Cuvee Des Moulins Bales     12       Loire     3     2012   \n",
       "15                            Meiomi     13        Napa     3     2012   \n",
       "16            Saint Drezery Prestige     13      France     3     2012   \n",
       "17            Saint Drezery Prestige     14      France     2     2011   \n",
       "18                   Sauvignon Blanc   14.5       Nappa     4     2012   \n",
       "19              Uppercut North Coast     11       Nappa     3     2012   \n",
       "20                      Nero d'Avola             Sicily           2011   \n",
       "21                        Cape Blush     10       Truro     4     2013   \n",
       "22                      Pinot Grigio     10       Truro     3     2013   \n",
       "23                        Cru Classe           Provence   3.5     2013   \n",
       "24               Domaine du Claouset           Bordeaux     3     2013   \n",
       "25                   Sauvignon Blanc               Napa   3.5     2012   \n",
       "26                       Vinho Verde           Portugal   3.5     2013   \n",
       "27                        Beaujolais     20      Sonoma    10     2017   \n",
       "28            Matt's incredible wine   4545      Sonoma  1000     1973   \n",
       "29                       Matt's wine    200      Sonoma    10     1973   \n",
       "30                 My wonderful wine    200      Sonoma    10     1973   \n",
       "31                    Aymeric's wine    200      Sonoma    10     1973   \n",
       "32                 My wonderful wine    200      Sonoma    10     1973   \n",
       "\n",
       "                   Vinyard  \n",
       "0              Vinho Verde  \n",
       "1                Peyruchet  \n",
       "2                  Abacela  \n",
       "3                    Ochoa  \n",
       "4                Heartland  \n",
       "5              Crow Canyon  \n",
       "6                  Abacela  \n",
       "7           David Beaulieu  \n",
       "8              Chantemerle  \n",
       "9                    Hyatt  \n",
       "10         Rosso Dei Poggi  \n",
       "11               Orizzonti  \n",
       "12                 Abacelo  \n",
       "13                 Ridolfi  \n",
       "14       Celestin Blobdeau  \n",
       "15              Belle Glos  \n",
       "16              Puech-Haut  \n",
       "17              Puech-Haut  \n",
       "18                   Honig  \n",
       "19              Provenance  \n",
       "20      Baglio Di Pianetto  \n",
       "21         Truro Vineyards  \n",
       "22         Truro Vineyards  \n",
       "23  Chateau de la Clapiere  \n",
       "24     Domaine du Claouset  \n",
       "25              Two Angels  \n",
       "26                 Mapreco  \n",
       "27                          \n",
       "28                          \n",
       "29                          \n",
       "30                          \n",
       "31                          \n",
       "32                          "
      ]
     },
     "execution_count": 15,
     "metadata": {},
     "output_type": "execute_result"
    }
   ],
   "source": [
    "pd.read_json(api_base_url)"
   ]
  },
  {
   "cell_type": "code",
   "execution_count": 16,
   "metadata": {},
   "outputs": [
    {
     "data": {
      "text/html": [
       "<div>\n",
       "<style scoped>\n",
       "    .dataframe tbody tr th:only-of-type {\n",
       "        vertical-align: middle;\n",
       "    }\n",
       "\n",
       "    .dataframe tbody tr th {\n",
       "        vertical-align: top;\n",
       "    }\n",
       "\n",
       "    .dataframe thead th {\n",
       "        text-align: right;\n",
       "    }\n",
       "</style>\n",
       "<table border=\"1\" class=\"dataframe\">\n",
       "  <thead>\n",
       "    <tr style=\"text-align: right;\">\n",
       "      <th></th>\n",
       "      <th>Color</th>\n",
       "      <th>Consumed In</th>\n",
       "      <th>Country</th>\n",
       "      <th>Grape</th>\n",
       "      <th>Name</th>\n",
       "      <th>Price</th>\n",
       "      <th>Region</th>\n",
       "      <th>Score</th>\n",
       "      <th>Vintage</th>\n",
       "      <th>Vinyard</th>\n",
       "    </tr>\n",
       "  </thead>\n",
       "  <tbody>\n",
       "    <tr>\n",
       "      <th>0</th>\n",
       "      <td>W</td>\n",
       "      <td>2015</td>\n",
       "      <td>Portugal</td>\n",
       "      <td></td>\n",
       "      <td></td>\n",
       "      <td></td>\n",
       "      <td>Portugal</td>\n",
       "      <td>4</td>\n",
       "      <td>2013</td>\n",
       "      <td>Vinho Verde</td>\n",
       "    </tr>\n",
       "    <tr>\n",
       "      <th>1</th>\n",
       "      <td>W</td>\n",
       "      <td>2015</td>\n",
       "      <td>France</td>\n",
       "      <td></td>\n",
       "      <td></td>\n",
       "      <td>17.8</td>\n",
       "      <td>France</td>\n",
       "      <td>3</td>\n",
       "      <td>2013</td>\n",
       "      <td>Peyruchet</td>\n",
       "    </tr>\n",
       "  </tbody>\n",
       "</table>\n",
       "</div>"
      ],
      "text/plain": [
       "  Color  Consumed In   Country Grape Name Price    Region Score  Vintage  \\\n",
       "0     W         2015  Portugal                   Portugal     4     2013   \n",
       "1     W         2015    France             17.8    France     3     2013   \n",
       "\n",
       "       Vinyard  \n",
       "0  Vinho Verde  \n",
       "1    Peyruchet  "
      ]
     },
     "execution_count": 16,
     "metadata": {},
     "output_type": "execute_result"
    }
   ],
   "source": [
    "# alternatively:\n",
    "wine_df = pd.read_json(api_response.text)\n",
    "wine_df.head(2)"
   ]
  },
  {
   "cell_type": "code",
   "execution_count": 17,
   "metadata": {},
   "outputs": [
    {
     "data": {
      "text/plain": [
       "Color                     R\n",
       "Consumed In            2015\n",
       "Country                  US\n",
       "Grape           chiraz, cab\n",
       "Name           Spice Trader\n",
       "Price                     6\n",
       "Region                     \n",
       "Score                     3\n",
       "Vintage                2012\n",
       "Vinyard           Heartland\n",
       "Name: 4, dtype: object"
      ]
     },
     "execution_count": 17,
     "metadata": {},
     "output_type": "execute_result"
    }
   ],
   "source": [
    "wine_df.iloc[4, :]\n",
    "# the price is 6 for the 5th row."
   ]
  },
  {
   "cell_type": "markdown",
   "metadata": {},
   "source": [
    "## Exercise 2: post data to Sheetsu\n",
    "\n",
    "---\n",
    "\n",
    "We've learned how to read data, but it'd be great if we could also write data. For this we will need to use a _POST_ request.\n",
    "\n",
    "1. Use the post command to add the `post_data` to the spreadsheet.\n",
    "- What status did you get? How can you check that you actually added the data correctly?\n",
    "- In this exercise, your classmates are adding data to the same spreadsheet. What happens because of this? Is it a problem? How could you mitigate it?"
   ]
  },
  {
   "cell_type": "code",
   "execution_count": 18,
   "metadata": {},
   "outputs": [],
   "source": [
    "post_data = {\n",
    "'Grape' : ''\n",
    ", 'Name' : \"Aymeric's wine\"\n",
    ", 'Color' : 'R'\n",
    ", 'Country' : 'US'\n",
    ", 'Region' : 'Sonoma'\n",
    ", 'Vinyard' : ''\n",
    ", 'Score' : '10'\n",
    ", 'Consumed In' : '2015'\n",
    ", 'Vintage' : '1973'\n",
    ", 'Price' : '200'\n",
    "}"
   ]
  },
  {
   "cell_type": "code",
   "execution_count": 10,
   "metadata": {},
   "outputs": [
    {
     "data": {
      "text/plain": [
       "<Response [201]>"
      ]
     },
     "execution_count": 10,
     "metadata": {},
     "output_type": "execute_result"
    }
   ],
   "source": [
    "requests.post(api_base_url, data=post_data)"
   ]
  },
  {
   "cell_type": "code",
   "execution_count": 19,
   "metadata": {},
   "outputs": [],
   "source": [
    "# 2. To check we could send a get request and check the last line."
   ]
  },
  {
   "cell_type": "code",
   "execution_count": 20,
   "metadata": {},
   "outputs": [],
   "source": [
    "# 3. There will be many duplicate lines on the spreadsheet. One way to mitigate \n",
    "# this would be through permission, another would be to insert at a \n",
    "# specific position, so that the line is overwritten at each time."
   ]
  },
  {
   "cell_type": "markdown",
   "metadata": {},
   "source": [
    "## Exercise 3: IMDB TV Shows\n",
    "\n",
    "---\n",
    "\n",
    "Sometimes an API doesn't provide all the information we would like to get and we need to be creative.\n",
    "\n",
    "Here we will use a combination of scraping and API calls to find the ratings and networks of famous television shows."
   ]
  },
  {
   "cell_type": "markdown",
   "metadata": {
    "collapsed": true
   },
   "source": [
    "### 3.A Get the top TV Shows\n",
    "\n",
    "The Internet Movie Database contains data about movies and TV shows. Unfortunately it does not have a public API.\n",
    "\n",
    "The page http://www.imdb.com/chart/toptv/?ref_=nv_tp_tv250_2 contains the list of the top 250 tv shows of all time. Retrieve the page using the requests library and then parse the html to obtain a list of the `movie_ids` for these movies. You can parse it with regular expression or using a library like `BeautifulSoup`.\n",
    "\n",
    "> **Hint:** movie_ids look like this: `tt2582802`\n",
    "> _Everything after \"/title/\" and before \"/?\"_"
   ]
  },
  {
   "cell_type": "code",
   "execution_count": 19,
   "metadata": {},
   "outputs": [],
   "source": [
    "def get_top_250():\n",
    "    response = requests.get('http://www.imdb.com/chart/toptv/?ref_=nv_tp_tv250_2')\n",
    "    html = response.text\n",
    "    entries = re.findall(\"<a href.*?/title/(.*?)/\", html) \n",
    "\n",
    "\n",
    "    entries = re.findall(\"<a href.*?/title/(.*?)/\", html) \n",
    "    # create a list of the top 250 results\n",
    "    return list(set(entries))"
   ]
  },
  {
   "cell_type": "code",
   "execution_count": 20,
   "metadata": {},
   "outputs": [],
   "source": [
    "entries = get_top_250()"
   ]
  },
  {
   "cell_type": "code",
   "execution_count": 21,
   "metadata": {},
   "outputs": [
    {
     "data": {
      "text/plain": [
       "251"
      ]
     },
     "execution_count": 21,
     "metadata": {},
     "output_type": "execute_result"
    }
   ],
   "source": [
    "len(entries)"
   ]
  },
  {
   "cell_type": "code",
   "execution_count": 22,
   "metadata": {},
   "outputs": [
    {
     "data": {
      "text/plain": [
       "'tt2017109'"
      ]
     },
     "execution_count": 22,
     "metadata": {},
     "output_type": "execute_result"
    }
   ],
   "source": [
    "entries[0]"
   ]
  },
  {
   "cell_type": "markdown",
   "metadata": {},
   "source": [
    "### 3.B Get data on the top shows\n",
    "\n",
    "Although the Internet Movie Database does not have a public API, an open API exists at http://www.tvmaze.com/api.\n",
    "\n",
    "Use this API to retrieve information about each of the 250 TV shows you have extracted in the previous step.\n",
    "1. Check the documentation of tvmaze's api to learn how to request show data by id.\n",
    "- Define a function that returns a python object with select information for a given id.\n",
    "    - Show name\n",
    "    - Rating (avg)\n",
    "    - Genre(s)\n",
    "    - Network name\n",
    "    - Premiere date\n",
    "    - Status\n",
    "> Tip: the json object can easily be converted into a python dictionary.\n",
    "\n",
    "- Store the gathered information in a Pandas Dataframe.\n",
    "\n",
    "\n",
    "As the target information is in json format you will need `json.loads(res.text)` in order to gather it."
   ]
  },
  {
   "cell_type": "markdown",
   "metadata": {},
   "source": [
    "Heres and example of the information and how we can interact with it."
   ]
  },
  {
   "cell_type": "code",
   "execution_count": 23,
   "metadata": {},
   "outputs": [
    {
     "name": "stdout",
     "output_type": "stream",
     "text": [
      "200\n"
     ]
    }
   ],
   "source": [
    "# example url\n",
    "res=requests.get('http://api.tvmaze.com/lookup/shows?imdb=tt0944947')\n",
    "\n",
    "# status code\n",
    "print(res.status_code)"
   ]
  },
  {
   "cell_type": "code",
   "execution_count": 24,
   "metadata": {},
   "outputs": [
    {
     "data": {
      "text/plain": [
       "'Game of Thrones'"
      ]
     },
     "execution_count": 24,
     "metadata": {},
     "output_type": "execute_result"
    }
   ],
   "source": [
    "# just the contents of the name element\n",
    "# print json.loads(res.text).get('name')\n",
    "res.json()['name']\n",
    "\n",
    "# entire contents\n",
    "# print json.loads(res.text)"
   ]
  },
  {
   "cell_type": "code",
   "execution_count": 25,
   "metadata": {},
   "outputs": [
    {
     "data": {
      "text/plain": [
       "'[1,2,3]+[4,5,6]test'"
      ]
     },
     "execution_count": 25,
     "metadata": {},
     "output_type": "execute_result"
    }
   ],
   "source": [
    "\"[1,2,3]+[4,5,6]\"+\"test\""
   ]
  },
  {
   "cell_type": "code",
   "execution_count": 26,
   "metadata": {},
   "outputs": [],
   "source": [
    "def get_entry(entries):\n",
    "    shows_df = pd.DataFrame(\n",
    "        columns=['show_name', 'rating_avg', 'genres', 'network', 'premiere_date', 'status'])\n",
    "    for entry in entries:\n",
    "        res = requests.get('http://api.tvmaze.com/lookup/shows?imdb=' + entry)\n",
    "        jsont = json.loads(res.text)\n",
    "        if res.status_code == 200:\n",
    "            try:\n",
    "                status = jsont.get('status')\n",
    "            except AttributeError:\n",
    "                status = 'NA'\n",
    "            try:\n",
    "                rating = jsont.get('rating').get('average')\n",
    "            except AttributeError:\n",
    "                rating = 'NA'\n",
    "\n",
    "            try:\n",
    "                network = jsont.get('network').get('name')\n",
    "            except AttributeError:\n",
    "                network = 'NA'\n",
    "\n",
    "            try:\n",
    "                title = jsont.get('name')\n",
    "            except AttributeError:\n",
    "                title = 'NA'\n",
    "\n",
    "            try:\n",
    "                premier = jsont.get('premiered')\n",
    "            except AttributeError:\n",
    "                premier = 'NA'\n",
    "\n",
    "            try:\n",
    "                genres = jsont.get('genres')\n",
    "            except AttributeError:\n",
    "                genres = 'NA'\n",
    "            shows_df.loc[len(shows_df)] = [title, rating,\n",
    "                                           genres, network, premier, status]\n",
    "    return shows_df"
   ]
  },
  {
   "cell_type": "code",
   "execution_count": 27,
   "metadata": {},
   "outputs": [],
   "source": [
    "#  function to pull information from API converting Json into a python dictionary element\n",
    "def get_entry(entries):\n",
    "    shows_df= pd.DataFrame( columns = ['show_name', 'rating_avg', 'genres', 'network', 'premiere_date', 'status'])\n",
    "    for entry in entries:\n",
    "        res=requests.get('http://api.tvmaze.com/lookup/shows?imdb='+entry)\n",
    "        if res.status_code == 200:\n",
    "            results = json.loads(res.text)\n",
    "\n",
    "            try:    \n",
    "                status = results['status']\n",
    "            except TypeError:\n",
    "                status = 'NA'   \n",
    "            try:\n",
    "                rating = results['rating']['average']\n",
    "            except TypeError:\n",
    "                rating = 'NA'\n",
    "            try:\n",
    "                network = results['network']['name']\n",
    "            except TypeError:\n",
    "                network = 'NA'\n",
    "            try:   \n",
    "                title = results['name']\n",
    "            except TypeError:\n",
    "                title = 'NA'\n",
    "            try:   \n",
    "                genres = results['genres']\n",
    "            except TypeError:\n",
    "                genres = 'NA'\n",
    "            try:   \n",
    "                premier = results['premiered']\n",
    "            except TypeError:\n",
    "                premier = 'NA'\n",
    "            shows_df.loc[len(shows_df)] = [title, rating, genres, network, premier, status]\n",
    "    return shows_df"
   ]
  },
  {
   "cell_type": "code",
   "execution_count": 30,
   "metadata": {},
   "outputs": [],
   "source": [
    "# in both functions we are looking for specific elements.  If an element is missing an error will return thus the need\n",
    "# for try and except statements."
   ]
  },
  {
   "cell_type": "code",
   "execution_count": 31,
   "metadata": {},
   "outputs": [],
   "source": [
    "shows_df = get_entry(entries)"
   ]
  },
  {
   "cell_type": "code",
   "execution_count": 32,
   "metadata": {},
   "outputs": [
    {
     "data": {
      "text/html": [
       "<div>\n",
       "<style scoped>\n",
       "    .dataframe tbody tr th:only-of-type {\n",
       "        vertical-align: middle;\n",
       "    }\n",
       "\n",
       "    .dataframe tbody tr th {\n",
       "        vertical-align: top;\n",
       "    }\n",
       "\n",
       "    .dataframe thead th {\n",
       "        text-align: right;\n",
       "    }\n",
       "</style>\n",
       "<table border=\"1\" class=\"dataframe\">\n",
       "  <thead>\n",
       "    <tr style=\"text-align: right;\">\n",
       "      <th></th>\n",
       "      <th>show_name</th>\n",
       "      <th>rating_avg</th>\n",
       "      <th>genres</th>\n",
       "      <th>network</th>\n",
       "      <th>premiere_date</th>\n",
       "      <th>status</th>\n",
       "    </tr>\n",
       "  </thead>\n",
       "  <tbody>\n",
       "    <tr>\n",
       "      <th>0</th>\n",
       "      <td>Chef's Table</td>\n",
       "      <td>8.8</td>\n",
       "      <td>[Food]</td>\n",
       "      <td>NA</td>\n",
       "      <td>2015-04-26</td>\n",
       "      <td>Running</td>\n",
       "    </tr>\n",
       "    <tr>\n",
       "      <th>1</th>\n",
       "      <td>Samurai Champloo</td>\n",
       "      <td>8.0</td>\n",
       "      <td>[Comedy, Action, Adventure, Anime]</td>\n",
       "      <td>Fuji TV</td>\n",
       "      <td>2004-05-20</td>\n",
       "      <td>Ended</td>\n",
       "    </tr>\n",
       "    <tr>\n",
       "      <th>2</th>\n",
       "      <td>South Park</td>\n",
       "      <td>8.7</td>\n",
       "      <td>[Comedy]</td>\n",
       "      <td>Comedy Central</td>\n",
       "      <td>1997-08-13</td>\n",
       "      <td>Running</td>\n",
       "    </tr>\n",
       "    <tr>\n",
       "      <th>3</th>\n",
       "      <td>Better Call Saul</td>\n",
       "      <td>8.7</td>\n",
       "      <td>[Drama, Crime, Legal]</td>\n",
       "      <td>AMC</td>\n",
       "      <td>2015-02-08</td>\n",
       "      <td>Running</td>\n",
       "    </tr>\n",
       "    <tr>\n",
       "      <th>4</th>\n",
       "      <td>Westworld</td>\n",
       "      <td>8.8</td>\n",
       "      <td>[Drama, Science-Fiction, Western]</td>\n",
       "      <td>HBO</td>\n",
       "      <td>2016-10-02</td>\n",
       "      <td>Running</td>\n",
       "    </tr>\n",
       "  </tbody>\n",
       "</table>\n",
       "</div>"
      ],
      "text/plain": [
       "          show_name  rating_avg                              genres  \\\n",
       "0      Chef's Table         8.8                              [Food]   \n",
       "1  Samurai Champloo         8.0  [Comedy, Action, Adventure, Anime]   \n",
       "2        South Park         8.7                            [Comedy]   \n",
       "3  Better Call Saul         8.7               [Drama, Crime, Legal]   \n",
       "4         Westworld         8.8   [Drama, Science-Fiction, Western]   \n",
       "\n",
       "          network premiere_date   status  \n",
       "0              NA    2015-04-26  Running  \n",
       "1         Fuji TV    2004-05-20    Ended  \n",
       "2  Comedy Central    1997-08-13  Running  \n",
       "3             AMC    2015-02-08  Running  \n",
       "4             HBO    2016-10-02  Running  "
      ]
     },
     "execution_count": 32,
     "metadata": {},
     "output_type": "execute_result"
    }
   ],
   "source": [
    "shows_df.head()"
   ]
  },
  {
   "cell_type": "code",
   "execution_count": 33,
   "metadata": {},
   "outputs": [
    {
     "name": "stdout",
     "output_type": "stream",
     "text": [
      "<class 'pandas.core.frame.DataFrame'>\n",
      "Int64Index: 150 entries, 0 to 149\n",
      "Data columns (total 6 columns):\n",
      "show_name        150 non-null object\n",
      "rating_avg       139 non-null float64\n",
      "genres           150 non-null object\n",
      "network          150 non-null object\n",
      "premiere_date    150 non-null object\n",
      "status           150 non-null object\n",
      "dtypes: float64(1), object(5)\n",
      "memory usage: 8.2+ KB\n"
     ]
    }
   ],
   "source": [
    "shows_df.info()"
   ]
  },
  {
   "cell_type": "code",
   "execution_count": null,
   "metadata": {},
   "outputs": [],
   "source": []
  }
 ],
 "metadata": {
  "kernelspec": {
   "display_name": "Python 3",
   "language": "python",
   "name": "python3"
  },
  "language_info": {
   "codemirror_mode": {
    "name": "ipython",
    "version": 3
   },
   "file_extension": ".py",
   "mimetype": "text/x-python",
   "name": "python",
   "nbconvert_exporter": "python",
   "pygments_lexer": "ipython3",
   "version": "3.6.4"
  },
  "toc": {
   "nav_menu": {},
   "number_sections": false,
   "sideBar": true,
   "skip_h1_title": false,
   "title_cell": "Table of Contents",
   "title_sidebar": "Contents",
   "toc_cell": false,
   "toc_position": {},
   "toc_section_display": true,
   "toc_window_display": false
  },
  "varInspector": {
   "cols": {
    "lenName": 16,
    "lenType": 16,
    "lenVar": 40
   },
   "kernels_config": {
    "python": {
     "delete_cmd_postfix": "",
     "delete_cmd_prefix": "del ",
     "library": "var_list.py",
     "varRefreshCmd": "print(var_dic_list())"
    },
    "r": {
     "delete_cmd_postfix": ") ",
     "delete_cmd_prefix": "rm(",
     "library": "var_list.r",
     "varRefreshCmd": "cat(var_dic_list()) "
    }
   },
   "types_to_exclude": [
    "module",
    "function",
    "builtin_function_or_method",
    "instance",
    "_Feature"
   ],
   "window_display": false
  }
 },
 "nbformat": 4,
 "nbformat_minor": 1
}
