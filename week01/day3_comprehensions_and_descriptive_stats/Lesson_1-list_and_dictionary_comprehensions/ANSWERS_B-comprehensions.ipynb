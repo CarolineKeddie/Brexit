{
 "cells": [
  {
   "cell_type": "markdown",
   "metadata": {},
   "source": [
    "<img src=\"http://imgur.com/1ZcRyrc.png\" style=\"float: left; margin: 20px; height: 55px\">\n",
    "\n",
    "## List Comprehensions Independent Practice\n",
    "\n",
    "---\n",
    "\n",
    "Each problem below should be completed with a standard for-loop pattern as well as a single list (or dictionary) comprehension. This will give you a feel for the differences and similarities between the two.\n",
    "\n",
    "Questions increase in difficulty as you go down the problem set.\n",
    "\n",
    "---\n",
    "\n",
    "### Load useful packages:"
   ]
  },
  {
   "cell_type": "code",
   "execution_count": 1,
   "metadata": {},
   "outputs": [],
   "source": [
    "import string\n",
    "import numpy as np"
   ]
  },
  {
   "cell_type": "markdown",
   "metadata": {},
   "source": [
    "---\n",
    "\n",
    "### 1. Convert each string from lowercase to uppercase\n",
    "\n",
    "Python strings can be turned to uppercase by appending: **`.upper()`**. The inverse - conversion to lowercase -  can be accomplished with **`.lower()`**.\n",
    "\n",
    "```python\n",
    "'yellow'.upper()\n",
    "'YELLOW'\n",
    "'GREEN'.lower()\n",
    "'green'\n",
    "```\n",
    "\n",
    "#### 1.1 With a for-loop"
   ]
  },
  {
   "cell_type": "code",
   "execution_count": 2,
   "metadata": {},
   "outputs": [],
   "source": [
    "strings = ['black','Yellow','ReD','GreeN','BLUe']"
   ]
  },
  {
   "cell_type": "code",
   "execution_count": 3,
   "metadata": {},
   "outputs": [
    {
     "data": {
      "text/plain": [
       "['BLACK', 'YELLOW', 'RED', 'GREEN', 'BLUE']"
      ]
     },
     "execution_count": 3,
     "metadata": {},
     "output_type": "execute_result"
    }
   ],
   "source": [
    "upperstrings=[]\n",
    "for string in strings:\n",
    "    upperstrings.append(string.upper())\n",
    "upperstrings"
   ]
  },
  {
   "cell_type": "markdown",
   "metadata": {},
   "source": [
    "#### 1.2 With a list comprehension"
   ]
  },
  {
   "cell_type": "code",
   "execution_count": 4,
   "metadata": {},
   "outputs": [
    {
     "data": {
      "text/plain": [
       "['BLACK', 'YELLOW', 'RED', 'GREEN', 'BLUE']"
      ]
     },
     "execution_count": 4,
     "metadata": {},
     "output_type": "execute_result"
    }
   ],
   "source": [
    "strings = ['black','Yellow','ReD','GreeN','BLUe']\n",
    "upperstrings=[string.upper() for string in strings]\n",
    "upperstrings"
   ]
  },
  {
   "cell_type": "markdown",
   "metadata": {},
   "source": [
    "---\n",
    "\n",
    "### 2. Take the numbers in the list and keep only the even numbers\n",
    "\n",
    "Recall that the modulo operator **%** can be used to calculate the remainder. This is useful for finding even and odd numbers.\n",
    "\n",
    "```python\n",
    "print 5 % 2\n",
    "1\n",
    "print 4 % 2\n",
    "0\n",
    "```\n",
    "\n",
    "#### 2.1 With a for-loop"
   ]
  },
  {
   "cell_type": "code",
   "execution_count": 5,
   "metadata": {},
   "outputs": [],
   "source": [
    "numbers = [1,2,3,4,5,6,7,8,9,10]"
   ]
  },
  {
   "cell_type": "code",
   "execution_count": 6,
   "metadata": {},
   "outputs": [
    {
     "data": {
      "text/plain": [
       "[2, 4, 6, 8, 10]"
      ]
     },
     "execution_count": 6,
     "metadata": {},
     "output_type": "execute_result"
    }
   ],
   "source": [
    "even_numbers=[]\n",
    "for n in numbers:\n",
    "    if n%2==0: even_numbers.append(n)\n",
    "even_numbers"
   ]
  },
  {
   "cell_type": "markdown",
   "metadata": {},
   "source": [
    "#### 2.2 With a list comprehension"
   ]
  },
  {
   "cell_type": "code",
   "execution_count": 7,
   "metadata": {},
   "outputs": [
    {
     "data": {
      "text/plain": [
       "[2, 4, 6, 8, 10]"
      ]
     },
     "execution_count": 7,
     "metadata": {},
     "output_type": "execute_result"
    }
   ],
   "source": [
    "numbers = [1,2,3,4,5,6,7,8,9,10]\n",
    "even_numbers=[n for n in numbers if n%2==0]\n",
    "even_numbers"
   ]
  },
  {
   "cell_type": "markdown",
   "metadata": {},
   "source": [
    "---\n",
    "\n",
    "### 3. Convert to 'v' if a character is a vowel and 'c' if a consonant, otherwise convert to '?'\n",
    "\n",
    "I've defined the vowels and lowercase alphabet below. The characters to convert appear in the `characters` list."
   ]
  },
  {
   "cell_type": "code",
   "execution_count": 9,
   "metadata": {},
   "outputs": [
    {
     "name": "stdout",
     "output_type": "stream",
     "text": [
      "['a', 'b', 'c', 'd', 'e', 'f', 'g', 'h', 'i', 'j', 'k', 'l', 'm', 'n', 'o', 'p', 'q', 'r', 's', 't', 'u', 'v', 'w', 'x', 'y', 'z']\n",
      "['a', 'e', 'i', 'o', 'u']\n"
     ]
    }
   ],
   "source": [
    "import string\n",
    "alphabet = list(string.ascii_lowercase)\n",
    "vowels = list('aeiou')\n",
    "print(alphabet)\n",
    "print(vowels)\n",
    "\n",
    "characters = ['a','f',None,'k','l','1',12,'e','e',-1,'i','b','p']"
   ]
  },
  {
   "cell_type": "markdown",
   "metadata": {},
   "source": [
    "#### 3.1 With a for-loop"
   ]
  },
  {
   "cell_type": "code",
   "execution_count": 10,
   "metadata": {},
   "outputs": [
    {
     "data": {
      "text/plain": [
       "['v', 'c', '?', 'c', 'c', '?', '?', 'v', 'v', '?', 'v', 'c', 'c']"
      ]
     },
     "execution_count": 10,
     "metadata": {},
     "output_type": "execute_result"
    }
   ],
   "source": [
    "converted=[]\n",
    "for c in characters:\n",
    "    if c in vowels: converted.append('v')\n",
    "    elif c in alphabet: converted.append('c')\n",
    "    else: converted.append('?')\n",
    "converted"
   ]
  },
  {
   "cell_type": "markdown",
   "metadata": {},
   "source": [
    "#### 3.2 With a list comprehension"
   ]
  },
  {
   "cell_type": "code",
   "execution_count": 11,
   "metadata": {},
   "outputs": [
    {
     "data": {
      "text/plain": [
       "['v', 'c', '?', 'c', 'c', '?', '?', 'v', 'v', '?', 'v', 'c', 'c']"
      ]
     },
     "execution_count": 11,
     "metadata": {},
     "output_type": "execute_result"
    }
   ],
   "source": [
    "characters = ['a','f',None,'k','l','1',12,'e','e',-1,'i','b','p']\n",
    "convertedcharacters=['v' if c in vowels else 'c' if c in alphabet else '?' for c in characters]\n",
    "convertedcharacters"
   ]
  },
  {
   "cell_type": "markdown",
   "metadata": {},
   "source": [
    "---\n",
    "\n",
    "### 4. Calculate the means of the numbers in each list that lie between 0 and 100 (inclusive)\n",
    "\n",
    "In other words, for each list inside of the `number_sets` list, calculate the mean of the numbers in the list that lie between 0 and 100.\n",
    "\n",
    "For example:\n",
    "\n",
    "```python\n",
    "a_list = [100, 1000, 99, 2, 0, -1]\n",
    "# before computing the mean, restrict to numbers in range [0, 100]\n",
    "a_list_restricted = [100, 99, 2, 0]\n",
    "# then compute the mean for that list\n",
    "a_list_mean = np.mean(a_list_restricted)\n",
    "```"
   ]
  },
  {
   "cell_type": "code",
   "execution_count": 14,
   "metadata": {},
   "outputs": [],
   "source": [
    "number_sets = [[1,50,-40,20,90], [1004,1002,101,-90,40,34], [-1,-2,34,55,77,109]]"
   ]
  },
  {
   "cell_type": "markdown",
   "metadata": {},
   "source": [
    "#### 4.1 With a for-loop"
   ]
  },
  {
   "cell_type": "code",
   "execution_count": 15,
   "metadata": {},
   "outputs": [
    {
     "data": {
      "text/plain": [
       "[40.25, 37.0, 55.333333333333336]"
      ]
     },
     "execution_count": 15,
     "metadata": {},
     "output_type": "execute_result"
    }
   ],
   "source": [
    "means=[]\n",
    "for num_set in number_sets:\n",
    "    restricted=[]\n",
    "    for num in num_set:\n",
    "        if 0<=num<=100: restricted.append(num)\n",
    "    means.append(np.mean(restricted))\n",
    "means"
   ]
  },
  {
   "cell_type": "markdown",
   "metadata": {},
   "source": [
    "#### 4.2 With a list comprehension"
   ]
  },
  {
   "cell_type": "code",
   "execution_count": 17,
   "metadata": {},
   "outputs": [
    {
     "data": {
      "text/plain": [
       "[40.25, 37.0, 55.333333333333336]"
      ]
     },
     "execution_count": 17,
     "metadata": {},
     "output_type": "execute_result"
    }
   ],
   "source": [
    "means = [np.mean([num for num in num_set if 0<=num<=100]) for num_set in number_sets]\n",
    "means"
   ]
  },
  {
   "cell_type": "markdown",
   "metadata": {},
   "source": [
    "---\n",
    "\n",
    "### 5. Iterate through lists at the same time, concatenating strings from each\n",
    "\n",
    "**Complete the following while iterating through both lists simultaneously:**\n",
    "\n",
    "1. If the current index of the lists is even, join the string elements like: 'item1 item2'. \n",
    "2. If the current index of the lists is odd, join the string elements like: 'item2 item1'. \n",
    "3. Output a single list with the concatenated strings as elements.\n",
    "\n",
    "**item1** refers to the string at a particular index from the first list, and **item2** refers to the string from that index in the second list.\n",
    "\n",
    "You can use the handy **`zip(list1, list2)`** function to iterate through lists at the same time. For example:\n",
    "\n",
    "```python\n",
    "list1 = [1,2,3,4]\n",
    "list2 = ['A','B','C','D']\n",
    "zipped = zip(list1, list2)\n",
    "print zipped\n",
    "[(1, 'A'), (2, 'B'), (3, 'C'), (4, 'D')]\n",
    "```\n",
    "\n",
    "The **`enumerate()`** function will also come in handy!"
   ]
  },
  {
   "cell_type": "code",
   "execution_count": 18,
   "metadata": {},
   "outputs": [],
   "source": [
    "strings1 = ['alpha','bravo','charlie','delta']\n",
    "strings2 = ['echo','foxtrot','golf','hotel']"
   ]
  },
  {
   "cell_type": "markdown",
   "metadata": {},
   "source": [
    "#### 5.1 With a for-loop"
   ]
  },
  {
   "cell_type": "code",
   "execution_count": 26,
   "metadata": {},
   "outputs": [
    {
     "data": {
      "text/plain": [
       "[(0, ('alpha', 'echo')),\n",
       " (1, ('bravo', 'foxtrot')),\n",
       " (2, ('charlie', 'golf')),\n",
       " (3, ('delta', 'hotel'))]"
      ]
     },
     "execution_count": 26,
     "metadata": {},
     "output_type": "execute_result"
    }
   ],
   "source": [
    "zipped=zip(strings1,strings2)\n",
    "list(enumerate(zipped))"
   ]
  },
  {
   "cell_type": "code",
   "execution_count": 37,
   "metadata": {},
   "outputs": [
    {
     "data": {
      "text/plain": [
       "['alpha echo', 'foxtrot bravo', 'charlie golf', 'hotel delta']"
      ]
     },
     "execution_count": 37,
     "metadata": {},
     "output_type": "execute_result"
    }
   ],
   "source": [
    "new_zipped=[]\n",
    "for i,(first,second) in enumerate(zip(strings1,strings2)):\n",
    "    if i%2==0: new_zipped.append(first+' '+second)\n",
    "    else: new_zipped.append(second+' '+first)\n",
    "new_zipped\n",
    "\n",
    "    "
   ]
  },
  {
   "cell_type": "markdown",
   "metadata": {},
   "source": [
    "#### 5.2 With a list comprehension"
   ]
  },
  {
   "cell_type": "code",
   "execution_count": 38,
   "metadata": {},
   "outputs": [
    {
     "data": {
      "text/plain": [
       "['alpha echo', 'foxtrot bravo', 'charlie golf', 'hotel delta']"
      ]
     },
     "execution_count": 38,
     "metadata": {},
     "output_type": "execute_result"
    }
   ],
   "source": [
    "strings1 = ['alpha','bravo','charlie','delta']\n",
    "strings2 = ['echo','foxtrot','golf','hotel']\n",
    "\n",
    "new_zipped=[first+' '+second if i%2==0 else second+' '+first for i,(first,second) in enumerate(zip(strings1,strings2))]\n",
    "new_zipped"
   ]
  },
  {
   "cell_type": "markdown",
   "metadata": {},
   "source": [
    "---\n",
    "\n",
    "### 6. Dictionary comprehensions: create data dictionary from lists\n",
    "\n",
    "1. The dictionary keys will be the items in the `columns` list.\n",
    "2. The dictionary values will be the product of the values from the `multiples` list and the key.  We will use the `values` list as a numeric representation of the keys.\n",
    "\n",
    "For example, if I had columns `'two'` and `'three'`, the output would be:\n",
    "\n",
    "```python\n",
    "columns = ['two','three']\n",
    "values = [2, 3]\n",
    "multiples = [1,2,3,4,5]\n",
    "# ...code to generate output below...\n",
    "{\n",
    " 'two':[2,4,6,8,10],\n",
    " 'three':[3,6,9,12,15]\n",
    "}\n",
    "\n",
    "```"
   ]
  },
  {
   "cell_type": "code",
   "execution_count": 39,
   "metadata": {},
   "outputs": [],
   "source": [
    "columns = ['five','seven','twelve']\n",
    "values = [5, 7, 12]\n",
    "multiples = [1, 2, 3, 4, 5]"
   ]
  },
  {
   "cell_type": "markdown",
   "metadata": {},
   "source": [
    "#### 6.1 With a for-loop"
   ]
  },
  {
   "cell_type": "code",
   "execution_count": 40,
   "metadata": {},
   "outputs": [
    {
     "data": {
      "text/plain": [
       "{'five': [5, 10, 15, 20, 25],\n",
       " 'seven': [7, 14, 21, 28, 35],\n",
       " 'twelve': [12, 24, 36, 48, 60]}"
      ]
     },
     "execution_count": 40,
     "metadata": {},
     "output_type": "execute_result"
    }
   ],
   "source": [
    "multiplications={}\n",
    "for number,n in zip(columns,values):\n",
    "    multiplication=[]\n",
    "    for multiple in multiples:\n",
    "        multiplication.append(multiple*n)\n",
    "    multiplications[number]=multiplication\n",
    "multiplications\n",
    "    "
   ]
  },
  {
   "cell_type": "markdown",
   "metadata": {},
   "source": [
    "#### 6.2 With a dictionary comprehension"
   ]
  },
  {
   "cell_type": "code",
   "execution_count": 43,
   "metadata": {},
   "outputs": [
    {
     "data": {
      "text/plain": [
       "{'five': [5, 10, 15, 20, 25],\n",
       " 'seven': [7, 14, 21, 28, 35],\n",
       " 'twelve': [12, 24, 36, 48, 60]}"
      ]
     },
     "execution_count": 43,
     "metadata": {},
     "output_type": "execute_result"
    }
   ],
   "source": [
    "timestables={number:[multiple*n for multiple in multiples] for number,n in zip(columns,values)}\n",
    "timestables"
   ]
  },
  {
   "cell_type": "markdown",
   "metadata": {},
   "source": [
    "---\n",
    "\n",
    "### 7. [Challenge] Manually calculate the median of the first `n` numbers (provided by list \"N\") for list \"X\"\n",
    "\n",
    "You will:\n",
    "\n",
    "1. Iterate through the values in list \"N\".\n",
    "2. For the current value in \"N\", calculate the median of the values in \"X\" up to the length specified by the value in \"N\".\n",
    "3. Return a list (same length as \"N\") with the calculated medians.\n",
    "\n",
    "So, if the current value in \"N\" was 10, you would take the first 10 elements from \"X\" and calculate the median of those elements.\n",
    "\n",
    "**NOTE: the median is calculated differently for even and odd numbered lists!**\n",
    "\n",
    "1. For **odd-length** lists, the median is the value in the middle.\n",
    "> ex: median of `[1,2,3,4,5]` is `3`\n",
    " \n",
    "2. For **even-length** lists, the median is the average of the two middle-most values:\n",
    "> ex: median of `[1,2,3,10,11,12]` is `6.5`, `(3+10)/2.`"
   ]
  },
  {
   "cell_type": "code",
   "execution_count": 44,
   "metadata": {},
   "outputs": [],
   "source": [
    "N = [12, 5, 6, 8, 10]\n",
    "X = [1, 2, 3, 4, 5, 6, 7, 8, 9, 10, 11, 12, 13, 14, 15]"
   ]
  },
  {
   "cell_type": "markdown",
   "metadata": {},
   "source": [
    "#### 7.1 Using loops"
   ]
  },
  {
   "cell_type": "code",
   "execution_count": 46,
   "metadata": {},
   "outputs": [
    {
     "data": {
      "text/plain": [
       "[6.5, 3, 3.5, 4.5, 5.5]"
      ]
     },
     "execution_count": 46,
     "metadata": {},
     "output_type": "execute_result"
    }
   ],
   "source": [
    "medianlist = []\n",
    "for n in N:\n",
    "    if n%2!=0:\n",
    "        medianposition = int((n+1)/2 - 1)\n",
    "        median = X[medianposition]\n",
    "        medianlist.append(median)\n",
    "    else:\n",
    "        firstposition = int((n/2) - 1)\n",
    "        secondposition = firstposition+1\n",
    "        median = (X[firstposition]+X[secondposition])/2\n",
    "        medianlist.append(median)\n",
    "medianlist\n",
    "        "
   ]
  },
  {
   "cell_type": "markdown",
   "metadata": {},
   "source": [
    "#### 7.2 Using list comprehensions"
   ]
  },
  {
   "cell_type": "code",
   "execution_count": 47,
   "metadata": {},
   "outputs": [
    {
     "data": {
      "text/plain": [
       "[6.5, 3, 3.5, 4.5, 5.5]"
      ]
     },
     "execution_count": 47,
     "metadata": {},
     "output_type": "execute_result"
    }
   ],
   "source": [
    "medianlist = [X[int((n+1)/2 - 1)] if n%2!=0 \n",
    "              else (X[int((n/2)-1)]+X[int(n/2)])/2 \n",
    "              for n in N]\n",
    "medianlist"
   ]
  },
  {
   "cell_type": "markdown",
   "metadata": {},
   "source": [
    "---\n",
    "\n",
    "### 8. [Challenge] Combine into a flat list.\n",
    "\n",
    "1. Iterate through the elements of the first list, `a`\n",
    "2. Multiply them by the elements in the second list `b`\n",
    "3. Then subtract the elements in a third list `c`\n",
    "\n",
    "e.g:\n",
    "\n",
    "```python\n",
    "a = [1,2]\n",
    "b = [0,1]\n",
    "c = [1,2]\n",
    "output = [-1, -2, 0, -1, -1, -2, 1, 0]\n",
    "```"
   ]
  },
  {
   "cell_type": "code",
   "execution_count": 48,
   "metadata": {},
   "outputs": [],
   "source": [
    "a = [9,7,5]\n",
    "b = [10,5,1]\n",
    "c = [1,2,3]"
   ]
  },
  {
   "cell_type": "markdown",
   "metadata": {},
   "source": [
    "#### 8.1 With loops"
   ]
  },
  {
   "cell_type": "code",
   "execution_count": 51,
   "metadata": {},
   "outputs": [
    {
     "name": "stdout",
     "output_type": "stream",
     "text": [
      "[89, 88, 87, 44, 43, 42, 8, 7, 6, 69, 68, 67, 34, 33, 32, 6, 5, 4, 49, 48, 47, 24, 23, 22, 4, 3, 2]\n"
     ]
    }
   ],
   "source": [
    "output = []\n",
    "for A in a:\n",
    "    for B in b:\n",
    "        for C in c:\n",
    "            output.append(A*B - C)\n",
    "print(output)"
   ]
  },
  {
   "cell_type": "markdown",
   "metadata": {},
   "source": [
    "#### 8.2 With list comprehensions"
   ]
  },
  {
   "cell_type": "code",
   "execution_count": 54,
   "metadata": {},
   "outputs": [
    {
     "name": "stdout",
     "output_type": "stream",
     "text": [
      "[89, 88, 87, 44, 43, 42, 8, 7, 6, 69, 68, 67, 34, 33, 32, 6, 5, 4, 49, 48, 47, 24, 23, 22, 4, 3, 2]\n"
     ]
    }
   ],
   "source": [
    "output = [A*B-C for A in a for B in b for C in c]\n",
    "print(output)"
   ]
  },
  {
   "cell_type": "code",
   "execution_count": null,
   "metadata": {
    "collapsed": true
   },
   "outputs": [],
   "source": []
  }
 ],
 "metadata": {
  "kernelspec": {
   "display_name": "Python 3",
   "language": "python",
   "name": "python3"
  },
  "language_info": {
   "codemirror_mode": {
    "name": "ipython",
    "version": 3
   },
   "file_extension": ".py",
   "mimetype": "text/x-python",
   "name": "python",
   "nbconvert_exporter": "python",
   "pygments_lexer": "ipython3",
   "version": "3.6.4"
  },
  "toc": {
   "nav_menu": {},
   "number_sections": true,
   "sideBar": true,
   "skip_h1_title": false,
   "title_cell": "Table of Contents",
   "title_sidebar": "Contents",
   "toc_cell": false,
   "toc_position": {},
   "toc_section_display": "block",
   "toc_window_display": false
  },
  "varInspector": {
   "cols": {
    "lenName": 16,
    "lenType": 16,
    "lenVar": 40
   },
   "kernels_config": {
    "python": {
     "delete_cmd_postfix": "",
     "delete_cmd_prefix": "del ",
     "library": "var_list.py",
     "varRefreshCmd": "print(var_dic_list())"
    },
    "r": {
     "delete_cmd_postfix": ") ",
     "delete_cmd_prefix": "rm(",
     "library": "var_list.r",
     "varRefreshCmd": "cat(var_dic_list()) "
    }
   },
   "types_to_exclude": [
    "module",
    "function",
    "builtin_function_or_method",
    "instance",
    "_Feature"
   ],
   "window_display": false
  }
 },
 "nbformat": 4,
 "nbformat_minor": 1
}
