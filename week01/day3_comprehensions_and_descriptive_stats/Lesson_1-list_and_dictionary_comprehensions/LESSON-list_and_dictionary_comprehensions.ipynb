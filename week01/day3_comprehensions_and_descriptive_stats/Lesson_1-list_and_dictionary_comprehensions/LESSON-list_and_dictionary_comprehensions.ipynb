{
 "cells": [
  {
   "cell_type": "markdown",
   "metadata": {
    "slideshow": {
     "slide_type": "slide"
    }
   },
   "source": [
    "<img src=\"http://imgur.com/1ZcRyrc.png\" style=\"float: left; margin: 20px; height: 55px\">\n",
    "\n",
    "# Python List & Dictionary Comprehensions\n",
    "\n",
    "---\n",
    "\n",
    "### Learning Objectives\n",
    "*After this lesson, you will be able to:*\n",
    "- Create list comprehensions \n",
    "- Create dictionary comprehensions \n",
    "- Use conditional logic (`if`/`else`) within list & dictionary comprehensions\n",
    "- Use `zip()` and `enumerate()` within list & dictionary comprehensions\n",
    "- Use nested list & dictionary comprehensions "
   ]
  },
  {
   "cell_type": "markdown",
   "metadata": {},
   "source": [
    "---\n",
    "\n",
    "### Lesson Guide\n",
    "\n",
    "- [Warm-Up on Python Basics](#warm-up)\n",
    "- [Basic List Comprehensions](#list_comprehensions)\n",
    "- [Basic Dictionary Comprehensions](#dictionary_comprehensions)\n",
    "- [Conditional Logic within Comprehensions](#conditional_comprehensions)\n",
    "- [Zip and Enumerate within Comprehensions](#zip_enumerate)\n",
    "- [Nested Comprehensions](#nested_comprehensions)"
   ]
  },
  {
   "cell_type": "markdown",
   "metadata": {},
   "source": [
    "<a id='warm-up'></a>\n",
    "\n",
    "### Warm-Up on  Python Basics\n",
    "\n",
    "---\n",
    "\n",
    "In the next 10-15min try to write the code for the questions below on the Python basics that you reviewed yesterday."
   ]
  },
  {
   "cell_type": "markdown",
   "metadata": {},
   "source": [
    "#### Warm-Up A:  Remove the last element in `lstA` below, then sort it, insert the number `22` into the 5th position, and take a slice of the 7th through the 10th elements (inclusive). "
   ]
  },
  {
   "cell_type": "markdown",
   "metadata": {},
   "source": [
    "**Hint:** You can use the function `dir()` to find out which attributes and methods are available for any python object."
   ]
  },
  {
   "cell_type": "code",
   "execution_count": 7,
   "metadata": {
    "slideshow": {
     "slide_type": "subslide"
    }
   },
   "outputs": [],
   "source": [
    "lstA = [13,15,-4,8,23,25,17,44,-7,-10,0,1,5,0,2,8,45]"
   ]
  },
  {
   "cell_type": "code",
   "execution_count": null,
   "metadata": {},
   "outputs": [],
   "source": []
  },
  {
   "cell_type": "markdown",
   "metadata": {},
   "source": [
    "#### Warm-Up B:  Remove Diesel from `dictB` below.  Add Teddy to the dictionary with a value of 5. Get a list of the key, value tuples now in the dictionary."
   ]
  },
  {
   "cell_type": "code",
   "execution_count": 22,
   "metadata": {},
   "outputs": [],
   "source": [
    "dictB = {'Mabel':10,\n",
    "         'Wilbur':12,\n",
    "         'Diesel':4,\n",
    "         'Schatzie':9}"
   ]
  },
  {
   "cell_type": "code",
   "execution_count": null,
   "metadata": {},
   "outputs": [],
   "source": []
  },
  {
   "cell_type": "markdown",
   "metadata": {},
   "source": [
    "#### Warm-Up C:  For the string below, first strip the whitespace on both sides, then replace the '&' with 'and', then get rid of the exclamation marks, then convert it all to lowercase letters, and finally split the string into a list of individual words."
   ]
  },
  {
   "cell_type": "code",
   "execution_count": 27,
   "metadata": {},
   "outputs": [],
   "source": [
    "#FIRST: strip the whitespace on both sides\n",
    "#SECOND: replace the '&' with 'and'\n",
    "#THIRD: get rid of the exclamation marks\n",
    "#FOURTH: convert the whole string to lowercase letters\n",
    "#FIFTH: split the string into a list of individual words\n",
    "\n",
    "stringC = ' Pizzas & BURRITOS!!! are indisputably the BEST foods!   '"
   ]
  },
  {
   "cell_type": "code",
   "execution_count": null,
   "metadata": {},
   "outputs": [],
   "source": []
  },
  {
   "cell_type": "markdown",
   "metadata": {},
   "source": [
    "#### Warm-Up D:  Write a for-loop that iterates through `exam_scores`. Create a new dictionary that keeps each student's name, but records the exam scores as letter grades. Each entry should look like `'Bradley': ['B','A','B','C']`  "
   ]
  },
  {
   "cell_type": "code",
   "execution_count": 34,
   "metadata": {},
   "outputs": [],
   "source": [
    "#Use the following grade boundaries:\n",
    "# A : 70 or above\n",
    "# B : between 30 and 69\n",
    "# C : between 10 and 29\n",
    "# D : anything less than 10\n",
    "# if one of the grades is missing, simply skip over it\n",
    "\n",
    "exam_scores = {'Emily':[72,52,48,63],\n",
    "               'Demi':[78,65,55,75],\n",
    "               'Kush':[25,12,20,8],\n",
    "               'Fortune':[45,58,62,73],\n",
    "               'Sarah':[43,'?',38,52]}"
   ]
  },
  {
   "cell_type": "code",
   "execution_count": null,
   "metadata": {},
   "outputs": [],
   "source": []
  },
  {
   "cell_type": "markdown",
   "metadata": {},
   "source": [
    "Solution (double click):\n",
    "\n",
    "<p style=\"color:white\">\n",
    "\n",
    "def grade_converter(g):\n",
    "    if isinstance(g, int):\n",
    "        if g < 10:\n",
    "            return 'D'\n",
    "        elif  (10 <= g ) & (g <= 29):\n",
    "            return 'C'\n",
    "        elif (30 <= g ) & (g <= 69):\n",
    "            return 'B'\n",
    "        else: \n",
    "            return 'A'\n",
    "    else:\n",
    "        return None\n",
    "    \n",
    "from collections import defaultdict\n",
    "\n",
    "d=defaultdict(list)\n",
    "\n",
    "for k in exam_scores.keys():\n",
    "    l_ = []\n",
    "    for s in exam_scores[k]:\n",
    "        l_.append(grade_converter(s))\n",
    "    d[k] = l_\n",
    "</p>"
   ]
  },
  {
   "cell_type": "markdown",
   "metadata": {},
   "source": [
    "<a id='list_comprehensions'></a>\n",
    "\n",
    "### Basic List Comprehensions\n",
    "\n",
    "---\n",
    "\n",
    "List comprehensions are a simple and powerful syntax that allow for fast, efficient, and intuitive manipulation of array-like data types.\n",
    "\n",
    "They are very useful replacements for iteration control statements!"
   ]
  },
  {
   "cell_type": "code",
   "execution_count": null,
   "metadata": {},
   "outputs": [],
   "source": [
    "#Let's write a for-loop to take the list below and return a list where each element has been squared:\n",
    "numbers_A = [1,2,3,4,5,6,10,12]\n"
   ]
  },
  {
   "cell_type": "code",
   "execution_count": null,
   "metadata": {},
   "outputs": [],
   "source": [
    "#Now, let's do the same thing with a list comprehension:\n",
    "numbers_B = [1,3,5,7,9,11,15]\n"
   ]
  },
  {
   "cell_type": "markdown",
   "metadata": {
    "slideshow": {
     "slide_type": "slide"
    }
   },
   "source": [
    "- Within the brackets these elements are similar to a for loop:\n",
    "  1. The **operation per element** or **expression for the outcome** comes first: `n**2`\n",
    "  2. Next is the **for loop variable assignment**: `for n`\n",
    "  3. Last comes the **list of elements to iterate over**: `in numbers_B`"
   ]
  },
  {
   "cell_type": "markdown",
   "metadata": {},
   "source": [
    "#### Quick Practice: Try these basic list comprehensions!"
   ]
  },
  {
   "cell_type": "code",
   "execution_count": null,
   "metadata": {},
   "outputs": [],
   "source": [
    "#Multiply every element in this list by 10, and then subtract 4:\n",
    "numbers = [6,10,8,5,3]\n"
   ]
  },
  {
   "cell_type": "code",
   "execution_count": null,
   "metadata": {},
   "outputs": [],
   "source": [
    "#Use .capitalize() to get a list of the names with the first letters capitalized:\n",
    "names = ['alex','TOM','kate','Emily','hilde']\n"
   ]
  },
  {
   "cell_type": "code",
   "execution_count": 51,
   "metadata": {},
   "outputs": [],
   "source": [
    "#Create a list of just the first two characters from the strings in the list below:\n",
    "strings = ['SK1908','RK1905','SB1001','GM1406','EL3005']\n"
   ]
  },
  {
   "cell_type": "markdown",
   "metadata": {},
   "source": [
    "<a id='dictionary_comprehensions'></a>\n",
    "\n",
    "### Basic Dictionary Comprehensions\n",
    "\n",
    "---\n",
    "\n",
    "You can also use comprehensions to create dictionaries instead of lists!\n",
    "You'll need to use `{}` instead of `[]`, and you'll need to determine what you want the key:value pair to look like!"
   ]
  },
  {
   "cell_type": "code",
   "execution_count": 61,
   "metadata": {},
   "outputs": [],
   "source": [
    "#let's write a for-loop to create a dictionary that stores how many 'e's there are in the words below:\n",
    "words_A = ['exasperated','angry','elated','incredulous']\n"
   ]
  },
  {
   "cell_type": "code",
   "execution_count": 69,
   "metadata": {},
   "outputs": [],
   "source": [
    "#now let's do the same thing with a dictionary comprehension:\n",
    "words_B = ['embarrassed','exhausted','overjoyed','embittered']\n"
   ]
  },
  {
   "cell_type": "code",
   "execution_count": null,
   "metadata": {},
   "outputs": [],
   "source": [
    "#now let's do the same thing again, but this time, let's count both the 'e's and the 'a's:\n",
    "words_B = ['embarrassed','exhausted','overjoyed','embittered']\n"
   ]
  },
  {
   "cell_type": "markdown",
   "metadata": {},
   "source": [
    "#### Quick Practice: Try these basic dictionary comprehensions!"
   ]
  },
  {
   "cell_type": "code",
   "execution_count": null,
   "metadata": {},
   "outputs": [],
   "source": [
    "#Create a dictionary storing the length of each word in the list below:\n",
    "words = ['bus','train','airplane','tram','helicopter']\n"
   ]
  },
  {
   "cell_type": "code",
   "execution_count": 56,
   "metadata": {},
   "outputs": [],
   "source": [
    "#Create a dictionary that stores the length of each of the surnames in the list below, but with the names capitalized:\n",
    "#ie: GRANT: 5, etc\n",
    "surnames = ['grant','Sketchley','REUSTLE','huse','Mellgard']\n"
   ]
  },
  {
   "cell_type": "code",
   "execution_count": 60,
   "metadata": {},
   "outputs": [],
   "source": [
    "#Create a dictionary that stores the square and the cube of each of the numbers below:\n",
    "numbers = [1,2,3,4,5]\n"
   ]
  },
  {
   "cell_type": "markdown",
   "metadata": {},
   "source": [
    "<a id='conditional_comprehensions'></a>\n",
    "\n",
    "### Conditional Logic within Comprehensions\n",
    "\n",
    "---\n",
    "\n",
    "You can use if/else statements within comprehensions, just the same way that you can in a for loop! \n",
    "\n",
    "A rule of thumb is:\n",
    "- If the 'if' is related to **changing the outcome** you actually have, then it goes at **the beginning of your comprehension** after the expression for the outcome\n",
    "- If the 'if' is **filtering out some of the values** (for example, you ONLY want to find the square roots of the positive numbers in a list, and skip all the negatives), then it goes right **at the end of your comprehension**"
   ]
  },
  {
   "cell_type": "code",
   "execution_count": 77,
   "metadata": {
    "slideshow": {
     "slide_type": "subslide"
    }
   },
   "outputs": [],
   "source": [
    "#Let's write a for-loop to binarize the list of numbers below depending on whether they are above or below 10\n",
    "#(If the number is below 10, we replace it with 0; if it's above 10, we replace it with 1)\n",
    "numbers_A = [5,7,8,19,30]\n"
   ]
  },
  {
   "cell_type": "code",
   "execution_count": null,
   "metadata": {},
   "outputs": [],
   "source": [
    "#Now let's do the same thing with a list comprehension:\n",
    "numbers_B = [34,2,8,13,20]\n"
   ]
  },
  {
   "cell_type": "code",
   "execution_count": 85,
   "metadata": {},
   "outputs": [],
   "source": [
    "#Let's write a dictionary comprehension to store whether each word is 'short' or 'long' in the list below\n",
    "#If the length of the word is over six letters, then we'll say it's 'long'; otherwise it's 'short'\n",
    "#We want to skip over any items that aren't words\n",
    "lst_A = ['ostentatious','house','industrial', None,'dog',8,'eat']\n"
   ]
  },
  {
   "cell_type": "code",
   "execution_count": 86,
   "metadata": {},
   "outputs": [],
   "source": [
    "#Now let's try the same thing as above, but this time, if the word is between 4 and 6 letters, classify it as 'medium'\n",
    "lst_A = ['ostentatious','house','industrial',None,'dog',8,'eat']\n"
   ]
  },
  {
   "cell_type": "markdown",
   "metadata": {},
   "source": [
    "#### Quick Practice: Try these comprehensions with conditionals!"
   ]
  },
  {
   "cell_type": "code",
   "execution_count": null,
   "metadata": {},
   "outputs": [],
   "source": [
    "#Write a dictionary comprehension to store the length of each of the words in the list below, \n",
    "#but only for the words that end in 't'!\n",
    "words = ['cat','dog','elephant','rabbit','lizard']\n"
   ]
  },
  {
   "cell_type": "code",
   "execution_count": 100,
   "metadata": {},
   "outputs": [],
   "source": [
    "#Write a list comprehension to multiply all the even numbers by 2 and all the odd numbers by 3\n",
    "#BUT only do this for the positive numbers!\n",
    "#(remember, you can use % to find the remainder after division for two numbers, \n",
    "#so 10%5 would be 0 because 5 fits into 10 evenly with no remainder)\n",
    "numbers = [4,5,3,10,-6,7]\n"
   ]
  },
  {
   "cell_type": "markdown",
   "metadata": {},
   "source": [
    "<a id='zip_enumerate'></a>\n",
    "\n",
    "### Zip and Enumerate within Comprehensions\n",
    "\n",
    "---\n",
    "\n",
    "The functions `zip()` and `enumerate()` can be really helpful for list and dictionary comprehensions!\n",
    "\n",
    "`zip()` is great for pairing together items from two different lists.\n",
    "\n",
    "`enumerate()` is helpful when you want to use both the items and also the position of the item in the list"
   ]
  },
  {
   "cell_type": "code",
   "execution_count": 102,
   "metadata": {},
   "outputs": [],
   "source": [
    "#Let's write a for-loop to create a dictionary that stores the populations of the cities below:\n",
    "cities_A = ['Tokyo','Shanghai','Jakarta','Delhi','Seoul']\n",
    "populations_A = [37.8,34.9,31.7,26.5,25.5]\n"
   ]
  },
  {
   "cell_type": "code",
   "execution_count": 103,
   "metadata": {},
   "outputs": [],
   "source": [
    "#Let's write a dictionary comprehension to store the population of the cities below to the nearest million, \n",
    "#but ONLY if they're more than 22 million\n",
    "cities_B = ['Karachi','Guangzhou','Beijing','Shenzhen','Mexico City']\n",
    "populations_B = [25.1,25.0,24.9,23.3,21.5]\n"
   ]
  },
  {
   "cell_type": "code",
   "execution_count": 105,
   "metadata": {},
   "outputs": [],
   "source": [
    "#Let's combine the two lists of cities together and then write a list comprehension to get a list of strings \n",
    "#that looks like ['1 Tokyo','2 Shanghai',...]\n"
   ]
  },
  {
   "cell_type": "code",
   "execution_count": 109,
   "metadata": {},
   "outputs": [],
   "source": [
    "#Let's create a dictionary that holds each city as the key, \n",
    "#and a tuple containing the ranking of the city and its population as the value\n",
    "#but ONLY for the top 8 cities\n",
    "#each entry should look like:  'Delhi': (4, 26.5)"
   ]
  },
  {
   "cell_type": "markdown",
   "metadata": {},
   "source": [
    "#### Quick Practice: Try these comprehensions with zip and enumerate!"
   ]
  },
  {
   "cell_type": "code",
   "execution_count": null,
   "metadata": {},
   "outputs": [],
   "source": [
    "#create a dictionary that stores each person's name with the total number of hours they worked last week\n",
    "#each entry should look like:   'Ollie': 25 \n",
    "employees = ['Faye','Ollie','Roberto']\n",
    "hours = [(5,8,10,10,8),(4,0,6,10,5),(8,8,7,9,10)]\n"
   ]
  },
  {
   "cell_type": "code",
   "execution_count": 121,
   "metadata": {},
   "outputs": [],
   "source": [
    "#A player rolls two dice and add their results together to get a total number of points\n",
    "#EXCEPT if either of the dice is a 1, in which case the player gets no points at all\n",
    "#OR if both of the dice are the same number (other than 1), in which case the player gets 20 points\n",
    "#create a dictionary of scores for the player with the rolls below\n",
    "die_1 = [3,4,2,5,6,4]\n",
    "die_2 = [2,1,2,6,4,4]\n"
   ]
  },
  {
   "cell_type": "markdown",
   "metadata": {},
   "source": [
    "Solution:\n",
    "\n",
    "<p style=\"color:white\">{i:0 if t[0]==1 or t[1]==1 else 20 if t[0]==t[1] else sum(t) for i, t in enumerate(zip(die_1,die_2))}"
   ]
  },
  {
   "cell_type": "code",
   "execution_count": 122,
   "metadata": {},
   "outputs": [],
   "source": [
    "#the following is a list of 20 students in order of how well they did on an exam\n",
    "#the top three students and the bottom three students will change sets\n",
    "#create a list of only the top three students and the bottom three students, with their ranking\n",
    "#each entry should look like:   ('Matt', 1)\n",
    "students = ['Matt','Keri','Raushaun','CJ','Sean',\n",
    "            'Abdullah','Chris','Mabel','Anna','Liza',\n",
    "            'Sam','Alfie','Emma','Michael','Boris',\n",
    "            'Fred','Demi','Renata','Kush','Precious']\n"
   ]
  },
  {
   "cell_type": "code",
   "execution_count": 132,
   "metadata": {},
   "outputs": [],
   "source": [
    "#what if you want to use the same students as above, \n",
    "#but you want to examine the papers of the best student, the 5th best, the 10th best, and the 16th best?\n",
    "#you also want to combine the names of the student with their actual score from the list below\n",
    "#make a dictionary with each entry looking like:  'Matt': ('#1 out of 20', 94)\n",
    "scores = [94,92,88,80,75,73,70,65,64,63,58,55,54,52,50,48,47,38,35,30]"
   ]
  },
  {
   "cell_type": "markdown",
   "metadata": {},
   "source": [
    "Solution:\n",
    "\n",
    "<p style='color:white'>\n",
    "{t[0][1]: (f\"#{t[0][0]+1} out of 20\", t[1]) for t in zip(enumerate(students),scores)}"
   ]
  },
  {
   "cell_type": "markdown",
   "metadata": {},
   "source": [
    "<a id='nested_comprehensions'></a>\n",
    "\n",
    "### Nested List & Dictionary Comprehensions\n",
    "\n",
    "---\n",
    "\n",
    "Sometimes you might have more than one 'for element in list' phrase within a single comprehension!  This will happen whenever you're iterating through more than one thing.\n",
    "\n",
    "It may be helpful to remember that the nested comprehension for loops are in the same order as they would be in standard nested for loops, except the retrieved element comes first."
   ]
  },
  {
   "cell_type": "code",
   "execution_count": 134,
   "metadata": {},
   "outputs": [],
   "source": [
    "#Using a for loop, let's create all the combinations possible for choosing a number plus a letter from the lists below:\n",
    "numbers = [1,2,3,4]\n",
    "letters = ['A','B','C']\n"
   ]
  },
  {
   "cell_type": "code",
   "execution_count": 138,
   "metadata": {},
   "outputs": [],
   "source": [
    "#Now let's do the same thing with a list comprehension:\n",
    "numbers = [5,6,7,8,9]\n",
    "letters = ['A','B']"
   ]
  },
  {
   "cell_type": "code",
   "execution_count": 144,
   "metadata": {},
   "outputs": [
    {
     "data": {
      "text/plain": [
       "array([[51, 92, 14],\n",
       "       [71, 60, 20],\n",
       "       [82, 86, 74]])"
      ]
     },
     "execution_count": 144,
     "metadata": {},
     "output_type": "execute_result"
    }
   ],
   "source": [
    "#Let's create a matrix to work with:\n",
    "import numpy as np\n",
    "#instantiate numpy pseudorandom number generator (so that we all have the same matrix)\n",
    "np.random.seed(42)\n",
    "matrix = np.random.randint(100,size=(3,3))\n",
    "matrix"
   ]
  },
  {
   "cell_type": "code",
   "execution_count": 149,
   "metadata": {},
   "outputs": [],
   "source": [
    "#Let's create a flat list of these numbers using a for loop:\n"
   ]
  },
  {
   "cell_type": "code",
   "execution_count": 146,
   "metadata": {},
   "outputs": [],
   "source": [
    "#Now let's do the same thing with a list comprehension, but only for those numbers larger than 20:\n"
   ]
  },
  {
   "cell_type": "code",
   "execution_count": null,
   "metadata": {},
   "outputs": [],
   "source": [
    "#Using a comprehension, let's create a dictionary recording the distances \n",
    "#that each runner completed during their weekly runs\n",
    "#These are all in miles though, so let's convert those to kilometers first using 5 miles : 8 kilometers\n",
    "#Let's ONLY keep the distances that are over 2 miles, though\n",
    "runners = ['Katie','Aaron','Sheila','Edward']\n",
    "distances_list = [[1.3,3.5,2.9,3.5,4.0],[6.3,7.0,7.5,5.8],[4.5,4.5,5.1,4.3,4.5],[2.6,2.5,2.9]]"
   ]
  },
  {
   "cell_type": "markdown",
   "metadata": {},
   "source": [
    "#### Quick Practice: Try these nested comprehensions!"
   ]
  },
  {
   "cell_type": "code",
   "execution_count": 165,
   "metadata": {},
   "outputs": [],
   "source": [
    "#Find all the different combinations of \n",
    "#a number from the first list, divided by a number from the second list, minus a number from the third list\n",
    "#your answer should be a single flat list\n",
    "first = [24,64,120]\n",
    "second = [8,2,4]\n",
    "third = [1,5]\n"
   ]
  },
  {
   "cell_type": "code",
   "execution_count": 168,
   "metadata": {},
   "outputs": [],
   "source": [
    "#Create a list of the square, cube, and fourth power of each of the numbers below\n",
    "#Your answer should be a dictionary of lists, where the last element is 10: [100,1000,10000]\n",
    "numbers = [1,2,3,4,5,6,10]\n",
    "exponents = [2,3,4]\n"
   ]
  },
  {
   "cell_type": "markdown",
   "metadata": {},
   "source": [
    "<a id='with_pandas'></a>\n",
    "\n",
    "### Application of Comprehensions with Pandas\n",
    "\n",
    "---\n",
    "\n",
    "It's very easy to create a dataframe using a dictionary, so dictionary comprehensions in particular may come in handy!\n",
    "\n",
    "Here's an example below:"
   ]
  },
  {
   "cell_type": "code",
   "execution_count": 182,
   "metadata": {},
   "outputs": [],
   "source": [
    "import pandas as pd\n",
    "\n",
    "column_names = ['height','weight','age']\n",
    "values = [[62, 54, 60, 50], [180, 120, 200, 100], [33, 40, 25, 28]]"
   ]
  },
  {
   "cell_type": "code",
   "execution_count": 183,
   "metadata": {},
   "outputs": [
    {
     "data": {
      "text/plain": [
       "{'age': [33, 40, 25, 28],\n",
       " 'height': [62, 54, 60, 50],\n",
       " 'weight': [180, 120, 200, 100]}"
      ]
     },
     "execution_count": 183,
     "metadata": {},
     "output_type": "execute_result"
    }
   ],
   "source": [
    "{col:vals for col, vals in zip(column_names, values)}"
   ]
  },
  {
   "cell_type": "code",
   "execution_count": 184,
   "metadata": {},
   "outputs": [
    {
     "data": {
      "text/html": [
       "<div>\n",
       "<style scoped>\n",
       "    .dataframe tbody tr th:only-of-type {\n",
       "        vertical-align: middle;\n",
       "    }\n",
       "\n",
       "    .dataframe tbody tr th {\n",
       "        vertical-align: top;\n",
       "    }\n",
       "\n",
       "    .dataframe thead th {\n",
       "        text-align: right;\n",
       "    }\n",
       "</style>\n",
       "<table border=\"1\" class=\"dataframe\">\n",
       "  <thead>\n",
       "    <tr style=\"text-align: right;\">\n",
       "      <th></th>\n",
       "      <th>age</th>\n",
       "      <th>height</th>\n",
       "      <th>weight</th>\n",
       "    </tr>\n",
       "  </thead>\n",
       "  <tbody>\n",
       "    <tr>\n",
       "      <th>0</th>\n",
       "      <td>33</td>\n",
       "      <td>62</td>\n",
       "      <td>180</td>\n",
       "    </tr>\n",
       "    <tr>\n",
       "      <th>1</th>\n",
       "      <td>40</td>\n",
       "      <td>54</td>\n",
       "      <td>120</td>\n",
       "    </tr>\n",
       "    <tr>\n",
       "      <th>2</th>\n",
       "      <td>25</td>\n",
       "      <td>60</td>\n",
       "      <td>200</td>\n",
       "    </tr>\n",
       "    <tr>\n",
       "      <th>3</th>\n",
       "      <td>28</td>\n",
       "      <td>50</td>\n",
       "      <td>100</td>\n",
       "    </tr>\n",
       "  </tbody>\n",
       "</table>\n",
       "</div>"
      ],
      "text/plain": [
       "   age  height  weight\n",
       "0   33      62     180\n",
       "1   40      54     120\n",
       "2   25      60     200\n",
       "3   28      50     100"
      ]
     },
     "execution_count": 184,
     "metadata": {},
     "output_type": "execute_result"
    }
   ],
   "source": [
    "records = pd.DataFrame({col:vals for col, vals in zip(column_names, values)})\n",
    "records"
   ]
  }
 ],
 "metadata": {
  "kernelspec": {
   "display_name": "Python 3",
   "language": "python",
   "name": "python3"
  },
  "language_info": {
   "codemirror_mode": {
    "name": "ipython",
    "version": 3
   },
   "file_extension": ".py",
   "mimetype": "text/x-python",
   "name": "python",
   "nbconvert_exporter": "python",
   "pygments_lexer": "ipython3",
   "version": "3.6.4"
  },
  "toc": {
   "nav_menu": {},
   "number_sections": false,
   "sideBar": true,
   "skip_h1_title": false,
   "title_cell": "Table of Contents",
   "title_sidebar": "Contents",
   "toc_cell": false,
   "toc_position": {},
   "toc_section_display": "block",
   "toc_window_display": false
  },
  "varInspector": {
   "cols": {
    "lenName": 16,
    "lenType": 16,
    "lenVar": 40
   },
   "kernels_config": {
    "python": {
     "delete_cmd_postfix": "",
     "delete_cmd_prefix": "del ",
     "library": "var_list.py",
     "varRefreshCmd": "print(var_dic_list())"
    },
    "r": {
     "delete_cmd_postfix": ") ",
     "delete_cmd_prefix": "rm(",
     "library": "var_list.r",
     "varRefreshCmd": "cat(var_dic_list()) "
    }
   },
   "types_to_exclude": [
    "module",
    "function",
    "builtin_function_or_method",
    "instance",
    "_Feature"
   ],
   "window_display": false
  }
 },
 "nbformat": 4,
 "nbformat_minor": 2
}
