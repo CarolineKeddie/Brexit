{
 "cells": [
  {
   "cell_type": "markdown",
   "metadata": {},
   "source": [
    "<img src=\"http://imgur.com/1ZcRyrc.png\" style=\"float: left; margin: 20px; height: 55px\">\n",
    "\n",
    "## Measures of Central Tendency: Independent Practice\n",
    "\n",
    "---\n",
    "\n",
    "Complete the questions using the distribution defined with the **`dist`** variable in the next cell."
   ]
  },
  {
   "cell_type": "code",
   "execution_count": 1,
   "metadata": {},
   "outputs": [],
   "source": [
    "import numpy as np\n",
    "from scipy.stats import mode\n",
    "\n",
    "dist = [33.3, 8.0, 2.7, 7.0, 11.3, 10.2, 38.4, 14.7, 46.9, 6.6, 38.6, 41.1, 20.4, 19.5,\n",
    "        102.6, 111.5, 21.8, 27.0, 30.3, 9.3, 19.6, 31.1, 48.8, 8.9, 11.4, 0.6, 23.5,\n",
    "        8.0, 27.5, 69.7, 11.5, 15.5, 1.4, 7.0, 4.6, 6.0, 16.0, 17.2, 6.3, 26.2, 23.9,\n",
    "        45.9, 55.4, 100.8, 22.9, 75.5, 115.5, 58.9, 10.5, 92.6, 12.4, 102.7, 10.2, 167.6,\n",
    "        143.6, 132.3, 134.2, 39.4, 49.7, 12.0, 27.0, 1.3, 4.7, 5.0, 24.1, 21.5, 33.1,\n",
    "        45.6, 46.3, 15.8, 30.7, 15.7, 6.8, 64.6, 39.1, 2.9, 8.0, 5.4, 33.4, 40.0, 22.7,\n",
    "        24.2, 25.7, 85.0, 26.2, 3.3, 20.7, 117.4, 66.8, 44.3, 37.9, 71.8, 161.4, 45.9,\n",
    "        4.6, 6.6, 12.6, 24.4, 21.4, 33.6, 33.7, 18.8, 7.6, 36.3, 1.8, 83.2, 75.1, 71.3,\n",
    "        32.9, 30.6, 16.0, 6.9, 11.0, 9.4, 11.7, 13.8, 39.4, 4.3, 38.1, 60.1, 78.2, 49.6,\n",
    "        14.3, 8.0, 19.3, 30.8, 32.5, 29.6, 28.3, 32.4, 35.7, 36.7, 10.0, 8.5, 12.2, 22.6,\n",
    "        32.1, 25.7, 14.1, 20.9, 23.8, 29.5, 2.9, 42.3, 19.9, 47.5, 15.9, 6.0, 19.3, 38.2,\n",
    "        23.5, 2.7, 27.0, 49.9, 43.5, 31.7, 39.1, 15.1, 18.0, 33.8, 32.1, 50.7, 28.8, 11.6,\n",
    "        74.8, 16.2, 8.3, 36.3, 44.0, 15.6, 48.9, 7.3, 8.2, 29.8, 38.7, 3.9, 7.2, 5.1, 23.7,\n",
    "        48.4, 92.0, 64.3, 97.4, 99.1, 18.0, 7.1, 14.7, 47.1, 41.3, 44.2, 6.6, 44.4, 9.7,\n",
    "        15.5, 23.7, 34.5, 19.9, 58.6, 35.0, 66.1, 74.5, 45.2]"
   ]
  },
  {
   "cell_type": "markdown",
   "metadata": {},
   "source": [
    "##### Q1: Calculate the mean of `dist`."
   ]
  },
  {
   "cell_type": "code",
   "execution_count": 2,
   "metadata": {},
   "outputs": [
    {
     "data": {
      "text/plain": [
       "33.99554455445545"
      ]
     },
     "execution_count": 2,
     "metadata": {},
     "output_type": "execute_result"
    }
   ],
   "source": [
    "np.mean(dist)"
   ]
  },
  {
   "cell_type": "markdown",
   "metadata": {},
   "source": [
    "##### Q2: Calculate the median of `dist`."
   ]
  },
  {
   "cell_type": "code",
   "execution_count": 3,
   "metadata": {},
   "outputs": [
    {
     "data": {
      "text/plain": [
       "25.95"
      ]
     },
     "execution_count": 3,
     "metadata": {},
     "output_type": "execute_result"
    }
   ],
   "source": [
    "np.median(dist)"
   ]
  },
  {
   "cell_type": "markdown",
   "metadata": {},
   "source": [
    "##### Q3: Round the numbers of `dist`, then calculate the mode."
   ]
  },
  {
   "cell_type": "code",
   "execution_count": 4,
   "metadata": {},
   "outputs": [
    {
     "data": {
      "text/plain": [
       "ModeResult(mode=array([7.]), count=array([10]))"
      ]
     },
     "execution_count": 4,
     "metadata": {},
     "output_type": "execute_result"
    }
   ],
   "source": [
    "mode(np.round(dist))"
   ]
  },
  {
   "cell_type": "code",
   "execution_count": 5,
   "metadata": {},
   "outputs": [
    {
     "data": {
      "text/plain": [
       "7.0"
      ]
     },
     "execution_count": 5,
     "metadata": {},
     "output_type": "execute_result"
    }
   ],
   "source": [
    "mode(np.round(dist))[0][0]"
   ]
  },
  {
   "cell_type": "markdown",
   "metadata": {},
   "source": [
    "##### Q4: Determine if `dist` is skewed. If so, which way? How can you tell?"
   ]
  },
  {
   "cell_type": "code",
   "execution_count": 6,
   "metadata": {},
   "outputs": [
    {
     "name": "stdout",
     "output_type": "stream",
     "text": [
      "mean: 33.99554455445545\n",
      "median: 25.95\n",
      "mode: 7.0\n"
     ]
    }
   ],
   "source": [
    "print('mean:',np.mean(dist))\n",
    "print('median:',np.median(dist))\n",
    "print('mode:',mode(np.round(dist))[0][0])"
   ]
  },
  {
   "cell_type": "markdown",
   "metadata": {},
   "source": [
    "The mean is larger than the median, which is larger than the mode; this indicates that the distribution is positively skewed. "
   ]
  },
  {
   "cell_type": "markdown",
   "metadata": {},
   "source": [
    "##### Q5: Calculate the range of `dist`."
   ]
  },
  {
   "cell_type": "code",
   "execution_count": 7,
   "metadata": {},
   "outputs": [
    {
     "data": {
      "text/plain": [
       "167.0"
      ]
     },
     "execution_count": 7,
     "metadata": {},
     "output_type": "execute_result"
    }
   ],
   "source": [
    "np.max(dist) - np.min(dist)"
   ]
  },
  {
   "cell_type": "code",
   "execution_count": 8,
   "metadata": {},
   "outputs": [
    {
     "data": {
      "text/plain": [
       "167.0"
      ]
     },
     "execution_count": 8,
     "metadata": {},
     "output_type": "execute_result"
    }
   ],
   "source": [
    "#or:\n",
    "np.ptp(dist)"
   ]
  },
  {
   "cell_type": "markdown",
   "metadata": {},
   "source": [
    "##### Q6: Calculate the variance of `dist`."
   ]
  },
  {
   "cell_type": "code",
   "execution_count": 9,
   "metadata": {},
   "outputs": [
    {
     "data": {
      "text/plain": [
       "957.8005247034604"
      ]
     },
     "execution_count": 9,
     "metadata": {},
     "output_type": "execute_result"
    }
   ],
   "source": [
    "np.var(dist)"
   ]
  },
  {
   "cell_type": "markdown",
   "metadata": {},
   "source": [
    "##### Q7: Calculate the standard deviation of `dist`. What does this tell you about the distribution of numbers? How does the standard deviation relate to the variance?"
   ]
  },
  {
   "cell_type": "code",
   "execution_count": 10,
   "metadata": {},
   "outputs": [
    {
     "data": {
      "text/plain": [
       "30.94835253617647"
      ]
     },
     "execution_count": 10,
     "metadata": {},
     "output_type": "execute_result"
    }
   ],
   "source": [
    "np.std(dist)"
   ]
  },
  {
   "cell_type": "markdown",
   "metadata": {},
   "source": [
    "The standard deviation tells us approximately how far away, on average, the numbers lie from the mean. \n",
    "The standard deviation is the square root of the variance. "
   ]
  },
  {
   "cell_type": "markdown",
   "metadata": {},
   "source": [
    "##### Challenge: Round the numbers of `dist`, and then calculate the mode of dist without using `scipy`!"
   ]
  },
  {
   "cell_type": "code",
   "execution_count": 11,
   "metadata": {},
   "outputs": [],
   "source": [
    "# There are, as you might imagine, many ways to do this. One way to do this with the tools\n",
    "# we have learned so far is with dictionaries.\n",
    "\n",
    "# [Note: This only works for unimodal distributions!]"
   ]
  },
  {
   "cell_type": "code",
   "execution_count": 14,
   "metadata": {},
   "outputs": [],
   "source": [
    "rounded = np.round(dist)\n",
    "rounded = list(rounded)"
   ]
  },
  {
   "cell_type": "code",
   "execution_count": 15,
   "metadata": {},
   "outputs": [
    {
     "data": {
      "text/plain": [
       "{1.0: 3,\n",
       " 2.0: 1,\n",
       " 3.0: 5,\n",
       " 4.0: 2,\n",
       " 5.0: 6,\n",
       " 6.0: 3,\n",
       " 7.0: 10,\n",
       " 8.0: 8,\n",
       " 9.0: 3,\n",
       " 10.0: 5,\n",
       " 11.0: 3,\n",
       " 12.0: 6,\n",
       " 13.0: 1,\n",
       " 14.0: 3,\n",
       " 15.0: 3,\n",
       " 16.0: 9,\n",
       " 17.0: 1,\n",
       " 18.0: 2,\n",
       " 19.0: 3,\n",
       " 20.0: 5,\n",
       " 21.0: 3,\n",
       " 22.0: 2,\n",
       " 23.0: 3,\n",
       " 24.0: 9,\n",
       " 26.0: 4,\n",
       " 27.0: 3,\n",
       " 28.0: 2,\n",
       " 29.0: 1,\n",
       " 30.0: 4,\n",
       " 31.0: 4,\n",
       " 32.0: 5,\n",
       " 33.0: 4,\n",
       " 34.0: 4,\n",
       " 35.0: 1,\n",
       " 36.0: 3,\n",
       " 37.0: 1,\n",
       " 38.0: 4,\n",
       " 39.0: 6,\n",
       " 40.0: 1,\n",
       " 41.0: 2,\n",
       " 42.0: 1,\n",
       " 44.0: 5,\n",
       " 45.0: 1,\n",
       " 46.0: 4,\n",
       " 47.0: 2,\n",
       " 48.0: 2,\n",
       " 49.0: 2,\n",
       " 50.0: 3,\n",
       " 51.0: 1,\n",
       " 55.0: 1,\n",
       " 59.0: 2,\n",
       " 60.0: 1,\n",
       " 64.0: 1,\n",
       " 65.0: 1,\n",
       " 66.0: 1,\n",
       " 67.0: 1,\n",
       " 70.0: 1,\n",
       " 71.0: 1,\n",
       " 72.0: 1,\n",
       " 74.0: 1,\n",
       " 75.0: 2,\n",
       " 76.0: 1,\n",
       " 78.0: 1,\n",
       " 83.0: 1,\n",
       " 85.0: 1,\n",
       " 92.0: 1,\n",
       " 93.0: 1,\n",
       " 97.0: 1,\n",
       " 99.0: 1,\n",
       " 101.0: 1,\n",
       " 103.0: 2,\n",
       " 112.0: 1,\n",
       " 116.0: 1,\n",
       " 117.0: 1,\n",
       " 132.0: 1,\n",
       " 134.0: 1,\n",
       " 144.0: 1,\n",
       " 161.0: 1,\n",
       " 168.0: 1}"
      ]
     },
     "execution_count": 15,
     "metadata": {},
     "output_type": "execute_result"
    }
   ],
   "source": [
    "frequency_dict = {number:rounded.count(number) for number in rounded}\n",
    "frequency_dict"
   ]
  },
  {
   "cell_type": "code",
   "execution_count": 49,
   "metadata": {},
   "outputs": [
    {
     "name": "stdout",
     "output_type": "stream",
     "text": [
      "{33: 4, 8: 8, 3: 5, 7: 10, 11: 3, 10: 5, 38: 4, 15: 3, 47: 2, 39: 6, 41: 2, 20: 5, 103: 2, 112: 1, 22: 2, 27: 3, 30: 4, 9: 3, 31: 4, 49: 2, 1: 3, 24: 9, 28: 2, 70: 1, 12: 6, 16: 9, 5: 6, 6: 3, 17: 1, 26: 4, 46: 4, 55: 1, 101: 1, 23: 3, 76: 1, 116: 1, 59: 2, 93: 1, 168: 1, 144: 1, 132: 1, 134: 1, 50: 3, 65: 1, 40: 1, 85: 1, 21: 3, 117: 1, 67: 1, 44: 5, 72: 1, 161: 1, 13: 1, 34: 4, 19: 3, 36: 3, 2: 1, 83: 1, 75: 2, 71: 1, 14: 3, 4: 2, 60: 1, 78: 1, 32: 5, 37: 1, 42: 1, 48: 2, 18: 2, 51: 1, 29: 1, 92: 1, 64: 1, 97: 1, 99: 1, 35: 1, 66: 1, 74: 1, 45: 1}\n"
     ]
    }
   ],
   "source": [
    "frequency_dict = {}\n",
    "for num in rounded:\n",
    "    num = int(num)\n",
    "    if num not in frequency_dict:\n",
    "        frequency_dict[num]=1\n",
    "    else:\n",
    "        frequency_dict[num]+=1\n",
    "print(frequency_dict)§"
   ]
  },
  {
   "cell_type": "code",
   "execution_count": 50,
   "metadata": {},
   "outputs": [
    {
     "name": "stdout",
     "output_type": "stream",
     "text": [
      "The mode is: 7\n",
      "The mode had a frequency of: 10\n"
     ]
    }
   ],
   "source": [
    "mode = None\n",
    "max_freq = 0\n",
    "\n",
    "for k,v in frequency_dict.items():\n",
    "    if v > max_freq:\n",
    "        mode = k\n",
    "        max_freq = v\n",
    "\n",
    "print('The mode is:',mode)\n",
    "print('The mode had a frequency of:',max_freq)"
   ]
  },
  {
   "cell_type": "markdown",
   "metadata": {},
   "source": [
    "##### Extension: Rounding in Python does not always behave as you might expect!  Use the built-in function round( ) as well as np.round( ) to investigate rounding to integers and to different decimal places. "
   ]
  },
  {
   "cell_type": "code",
   "execution_count": 64,
   "metadata": {},
   "outputs": [
    {
     "name": "stdout",
     "output_type": "stream",
     "text": [
      "4\n",
      "6\n",
      "4.0\n",
      "6.0\n"
     ]
    }
   ],
   "source": [
    "#rounding to integers:\n",
    "print(round(4.5))\n",
    "print(round(5.5))\n",
    "print(np.round(4.5))\n",
    "print(np.round(5.5))"
   ]
  },
  {
   "cell_type": "code",
   "execution_count": 72,
   "metadata": {},
   "outputs": [
    {
     "name": "stdout",
     "output_type": "stream",
     "text": [
      "3.467\n",
      "3.469\n"
     ]
    }
   ],
   "source": [
    "#rounding to decimal places:\n",
    "print(round(3.4675,3))\n",
    "print(round(3.4685,3))"
   ]
  },
  {
   "cell_type": "code",
   "execution_count": 71,
   "metadata": {},
   "outputs": [
    {
     "name": "stdout",
     "output_type": "stream",
     "text": [
      "3.468\n",
      "3.468\n"
     ]
    }
   ],
   "source": [
    "#rounding to decimal places with numpy:\n",
    "print(np.round(3.4675,3))\n",
    "print(np.round(3.4685,3))"
   ]
  }
 ],
 "metadata": {
  "kernelspec": {
   "display_name": "Python 3",
   "language": "python",
   "name": "python3"
  },
  "language_info": {
   "codemirror_mode": {
    "name": "ipython",
    "version": 3
   },
   "file_extension": ".py",
   "mimetype": "text/x-python",
   "name": "python",
   "nbconvert_exporter": "python",
   "pygments_lexer": "ipython3",
   "version": "3.6.4"
  },
  "toc": {
   "nav_menu": {},
   "number_sections": false,
   "sideBar": true,
   "skip_h1_title": false,
   "toc_cell": false,
   "toc_position": {},
   "toc_section_display": "block",
   "toc_window_display": false
  }
 },
 "nbformat": 4,
 "nbformat_minor": 1
}
