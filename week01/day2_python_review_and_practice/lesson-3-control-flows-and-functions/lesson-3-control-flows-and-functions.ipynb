{
 "cells": [
  {
   "cell_type": "code",
   "execution_count": null,
   "metadata": {},
   "outputs": [],
   "source": [
    "# hello"
   ]
  },
  {
   "cell_type": "markdown",
   "metadata": {},
   "source": [
    "<img src=\"http://imgur.com/1ZcRyrc.png\" style=\"float: left; margin: 20px; height: 55px\">\n",
    "\n",
    "# Review python control flows and functions\n",
    "\n",
    "Week 1 | Day 2 | Lesson 3\n",
    "\n",
    "---"
   ]
  },
  {
   "cell_type": "markdown",
   "metadata": {},
   "source": [
    "### LEARNING OBJECTIVES\n",
    "\n",
    "- Formulate if/else and if/elif/else statements\n",
    "- Define functions"
   ]
  },
  {
   "cell_type": "markdown",
   "metadata": {},
   "source": [
    "## Lesson Guide\n",
    "\n",
    "- [Introduction: if/elif/else statements](#Control Flow)\n",
    "- [Demo/Guided Practice: if](#demo if)\n",
    "- [Demo/Guided Practice: if/else](#demo if/else)\n",
    "- [Demo/Guided Practice: if/elif/else](#demo if/elif/else)\n",
    "- [Independent Practice: control flow](#ind-practice control flow)\n",
    "- [Demo/Guided Practice: functions](#demo functions)\n",
    "- [Independent Practice: functions](#ind-practice functions)\n",
    "- [Conclusion](#conclusion)\n",
    "- [Additional resources](#resources)"
   ]
  },
  {
   "cell_type": "markdown",
   "metadata": {},
   "source": [
    "<a name=\"Control Flow\"></a>\n",
    "## Introduction: if/elif/else statements\n",
    "\n",
    "When we are writing a program, we do that often with the aim to have an automatic reaction to some input obtained for example from interacting with an external data source. According to what is found in the data source, we might want our programme to take certain actions. We have  to formulate under which conditions what kind of actions are to be taken and in which sequence. These actions are controlled with a number of **if** and **elif** (i.e. else if) statements, all other cases are provided for by an **else** statement. Controlling the program execution sequence is commonly known as control flow."
   ]
  },
  {
   "cell_type": "markdown",
   "metadata": {},
   "source": [
    "<a name=\"demo if\"></a>\n",
    "## Demo / Guided Practice: if\n",
    "The general Python syntax for a simple if statement is:\n",
    "```python\n",
    "        if condition:\n",
    "            indentedStatementBlock\n",
    "```\n",
    "\n",
    "If the condition is true, then execute the indented statements. If the condition\n",
    "is not true, then skip the indented statements.\n",
    "\n",
    "An example is given below. Try values which lead to different results in the if-statement."
   ]
  },
  {
   "cell_type": "code",
   "execution_count": null,
   "metadata": {},
   "outputs": [],
   "source": [
    "weight = eval(input('How many kilograms does your suitcase weigh? '))\n",
    "if weight > 23:\n",
    "    print('There is a £25 charge for luggage that heavy.')\n",
    "print('Thank you for this service.')"
   ]
  },
  {
   "cell_type": "code",
   "execution_count": null,
   "metadata": {},
   "outputs": [],
   "source": [
    "# check returned data type if not using eval\n",
    "type(input('How many kilograms does your suitcase weigh? '))"
   ]
  },
  {
   "cell_type": "code",
   "execution_count": null,
   "metadata": {},
   "outputs": [],
   "source": [
    "# check returned data type if using eval\n",
    "type(eval(input('How many kilograms does your suitcase weigh? ')))"
   ]
  },
  {
   "cell_type": "code",
   "execution_count": null,
   "metadata": {},
   "outputs": [],
   "source": [
    "# another example for using eval\n",
    "x = 2\n",
    "y = 3\n",
    "eval('x+3*y')"
   ]
  },
  {
   "cell_type": "markdown",
   "metadata": {},
   "source": [
    "<a name=\"demo if/else\"></a>\n",
    "## Demo / Guided Practice: if/else\n",
    "\n",
    "Sometimes we want a certain statement to be executed when a given condition is met, and another statement to be executed if the condition is not met. That can be obtained with **if-else** statements.\n",
    "\n",
    "The general Python if-else syntax is\n",
    "\n",
    "```python\n",
    "        if condition:\n",
    "            indentedStatementBlockForTrueCondition\n",
    "        else:\n",
    "            indentedStatementBlockForFalseCondition\n",
    "```\n",
    "\n",
    "These statement blocks can have any number of statements, and can include\n",
    "about any kind of statement.\n",
    "\n",
    "Another example:"
   ]
  },
  {
   "cell_type": "code",
   "execution_count": null,
   "metadata": {},
   "outputs": [],
   "source": [
    "weight = eval(input('How many kilograms does your suitcase weigh?'))\n",
    "if weight > 23:\n",
    "    print('There is a £25 charge for luggage that heavy.')\n",
    "    print('But it is only a little bit more!')\n",
    "else:\n",
    "    print('That is ok.')\n",
    "    print('Thank you for this service.')"
   ]
  },
  {
   "cell_type": "markdown",
   "metadata": {},
   "source": [
    "Note that now there are two indented blocks. If the if-condition is met, the else part is never executed. If the if condition is not met, the else condition will automatically be executed.\n",
    "In an if-else statement exactly one of two possible indented blocks is executed."
   ]
  },
  {
   "cell_type": "markdown",
   "metadata": {},
   "source": [
    "<a name=\"demo if/elif/else\"></a>\n",
    "## Demo / Guided Practice: if/elif/else \n",
    "\n",
    "Sometimes we want to distinguish more than two cases. This can be done with **if/elif/else** statements. \n",
    "The syntax for an if-elif-else statement is indicated in general below:\n",
    "\n",
    "```python\n",
    "        if condition1:\n",
    "            indentedStatementBlockForFirstTrueCondition1\n",
    "        elif condition2:\n",
    "            indentedStatementBlockForFirstTrueCondition2\n",
    "        elif condition3:\n",
    "            indentedStatementBlockForFirstTrueCondition3\n",
    "        elif condition4:\n",
    "            indentedStatementBlockForFirstTrueCondition4\n",
    "        else:\n",
    "            indentedStatementBlockForEachConditionFalse\n",
    "```\n",
    "\n",
    "The first condition is checked with an if-statement, all following conditions are checked by an elif statement, if none of the previous conditions has been met, the else statement is executed. \n",
    "\n",
    "Note that the conditions are checked in the given order. Once a condition is met, the later ones will not be verified. For this reason it is important that the different conditions do not overlap. If you think condition 3 is met, but you notice that the block from condition 2 is executed, the reason is probably that both conditions 2 and 3 are met. \n",
    "\n",
    "Elif and else statements are optional, but the first statement has to be an if-statement.\n",
    "The if, each elif, and the final else line are all aligned. There can be any number\n",
    "of elif lines, each followed by an indented block. If all three are present, exactly\n",
    "one of the indented blocks is executed. It is the one corresponding to the first\n",
    "True condition.\n",
    "\n",
    "Let's do an example:"
   ]
  },
  {
   "cell_type": "code",
   "execution_count": null,
   "metadata": {},
   "outputs": [],
   "source": [
    "weight = eval(input('How many kilograms does your suitcase weigh? '))\n",
    "if weight > 23:\n",
    "    print('There is a £25 charge for luggage that heavy.')\n",
    "    print('But it is only a little bit more!')\n",
    "elif weight < 23:\n",
    "    print('That is ok.')\n",
    "    print('Thank you for this service.')\n",
    "else:\n",
    "    print('That is just on the edge.')\n",
    "    print('I love precision.')"
   ]
  },
  {
   "cell_type": "markdown",
   "metadata": {},
   "source": [
    "<a name=\"ind-practice control flow\"></a>\n",
    "## Independent practice: control flow\n",
    "\n",
    "Exercises on control flow in the [starter code](starter-code/Exercises_if_else_functions-startercode.ipynb). "
   ]
  },
  {
   "cell_type": "markdown",
   "metadata": {},
   "source": [
    "<a name=\"demo functions\"></a>\n",
    "## Demo / Guided Practice: functions \n",
    "\n",
    "\n",
    "Having learned about iterations and control flow, we are basically able to write all the programs that we could desire. However, if you write more and longer programs, often you will meet situations where you will write the same code again and again for variables with different values. \n",
    "\n",
    "For example:"
   ]
  },
  {
   "cell_type": "code",
   "execution_count": null,
   "metadata": {},
   "outputs": [],
   "source": [
    "a = 2\n",
    "a = 2*a\n",
    "b = 3\n",
    "b = 2*b\n",
    "c = 4\n",
    "c = 2*c\n",
    "print(a)\n",
    "print(b)\n",
    "print(c)"
   ]
  },
  {
   "cell_type": "markdown",
   "metadata": {},
   "source": [
    "This code you could probably simplify using a function. \n",
    "\n",
    "In Python, functions can be constructed along the following rules.\n",
    "\n",
    "\n",
    "* Function blocks begin with a single line including in that order\n",
    "    * the keyword **`def`**  \n",
    "    * the function name \n",
    "    * parentheses ( `( )` ) which may or may not include parameters; parameters can be assigned inside these parentheses, too\n",
    "    * and a colon (`:`)\n",
    "* The following lines of the function block include what the function is supposed to do. All these lines have to be indented.\n",
    "* The first statement of a function can be an optional statement - the documentation string of the function or **docstring**. It can be called with `?functionname` or `help(functionname)`.\n",
    "* The statement `return [expression]` exits a function, optionally passing back an expression to the caller. A return statement with no arguments is the same as `return None`.\n",
    "\n",
    "The general syntax for a function is indicated below:\n",
    "\n",
    "```python\n",
    "def functionname( parameters ):\n",
    "    \"function_docstring\"\n",
    "    function_suite\n",
    "    return expression\n",
    "```\n",
    "\n",
    "Let's rewrite the code from above using a function:"
   ]
  },
  {
   "cell_type": "code",
   "execution_count": null,
   "metadata": {},
   "outputs": [],
   "source": [
    "def times_two(x):\n",
    "    \"\"\"Multiplies the \n",
    "    argument by two.\"\"\"\n",
    "    return 2*x\n",
    "\n",
    "a = 2\n",
    "b = 3\n",
    "c = 4\n",
    "print(times_two(a))\n",
    "print(times_two(b))\n",
    "print(times_two(c))"
   ]
  },
  {
   "cell_type": "code",
   "execution_count": null,
   "metadata": {},
   "outputs": [],
   "source": [
    "my_var = times_two(2)"
   ]
  },
  {
   "cell_type": "code",
   "execution_count": null,
   "metadata": {},
   "outputs": [],
   "source": [
    "my_var"
   ]
  },
  {
   "cell_type": "markdown",
   "metadata": {},
   "source": [
    "The function can also handle non-numerical values:"
   ]
  },
  {
   "cell_type": "code",
   "execution_count": null,
   "metadata": {},
   "outputs": [],
   "source": [
    "print(times_two('a'))"
   ]
  },
  {
   "cell_type": "code",
   "execution_count": null,
   "metadata": {},
   "outputs": [],
   "source": [
    "print(times_two([1,3]))"
   ]
  },
  {
   "cell_type": "markdown",
   "metadata": {},
   "source": [
    "Let's get the documentation for this function:"
   ]
  },
  {
   "cell_type": "code",
   "execution_count": null,
   "metadata": {},
   "outputs": [],
   "source": [
    "help(times_two)"
   ]
  },
  {
   "cell_type": "code",
   "execution_count": null,
   "metadata": {},
   "outputs": [],
   "source": [
    "help(len)"
   ]
  },
  {
   "cell_type": "code",
   "execution_count": null,
   "metadata": {},
   "outputs": [],
   "source": [
    "?times_two"
   ]
  },
  {
   "cell_type": "markdown",
   "metadata": {},
   "source": [
    "Functions are not only useful for mathematical operations.\n",
    "As an example, let's create a function called **printme**."
   ]
  },
  {
   "cell_type": "code",
   "execution_count": null,
   "metadata": {},
   "outputs": [],
   "source": [
    "def printme(my_string):\n",
    "    \"This prints a passed string into this function\"\n",
    "    print(my_string)\n",
    "    return my_string"
   ]
  },
  {
   "cell_type": "markdown",
   "metadata": {},
   "source": [
    "Now, let's call the function:"
   ]
  },
  {
   "cell_type": "code",
   "execution_count": null,
   "metadata": {},
   "outputs": [],
   "source": [
    "printme(\"M25 traffic makes my head hurt.\")\n",
    "printme(\"It looks like a car parks out there!\")"
   ]
  },
  {
   "cell_type": "code",
   "execution_count": null,
   "metadata": {},
   "outputs": [],
   "source": [
    "a = printme(\"M25 traffic makes my head hurt.\")"
   ]
  },
  {
   "cell_type": "code",
   "execution_count": null,
   "metadata": {},
   "outputs": [],
   "source": [
    "a"
   ]
  },
  {
   "cell_type": "markdown",
   "metadata": {},
   "source": [
    "<a name=\"ind-practice functions\"></a>\n",
    "## Independent Practice: functions\n",
    "\n",
    "- Exercises on functions in the [starter code](starter-code/Exercises_if_else_functions-startercode.ipynb). "
   ]
  },
  {
   "cell_type": "markdown",
   "metadata": {},
   "source": [
    "<a name=\"conclusion\"></a>\n",
    "## Conclusion\n",
    "In this lesson, we learned about control flow with if/else and if/elif/else statements,  and functions. Together with for and while loops, in principle you are now able to address any kind of numerical problem."
   ]
  },
  {
   "cell_type": "markdown",
   "metadata": {},
   "source": [
    "<a name=\"resources\"></a>\n",
    "## Additional resources\n",
    "\n",
    "- [control flow at codeproject](http://www.codeproject.com/Articles/663666/Python-Basics-Understanding-The-Flow-Control-State)\n",
    "- [control flow statements at python hands-on](http://anh.cs.luc.edu/python/hands-on/3.1/handsonHtml/ifstatements.html)\n",
    "- [defining a function at tutorialspoint](http://www.tutorialspoint.com/python/python_functions.htm)"
   ]
  }
 ],
 "metadata": {
  "anaconda-cloud": {},
  "kernelspec": {
   "display_name": "Python 3",
   "language": "python",
   "name": "python3"
  },
  "language_info": {
   "codemirror_mode": {
    "name": "ipython",
    "version": 3
   },
   "file_extension": ".py",
   "mimetype": "text/x-python",
   "name": "python",
   "nbconvert_exporter": "python",
   "pygments_lexer": "ipython3",
   "version": "3.6.4"
  },
  "toc": {
   "nav_menu": {},
   "number_sections": false,
   "sideBar": true,
   "skip_h1_title": true,
   "title_cell": "Table of Contents",
   "title_sidebar": "Contents",
   "toc_cell": false,
   "toc_position": {},
   "toc_section_display": "block",
   "toc_window_display": false
  },
  "varInspector": {
   "cols": {
    "lenName": 16,
    "lenType": 16,
    "lenVar": 40
   },
   "kernels_config": {
    "python": {
     "delete_cmd_postfix": "",
     "delete_cmd_prefix": "del ",
     "library": "var_list.py",
     "varRefreshCmd": "print(var_dic_list())"
    },
    "r": {
     "delete_cmd_postfix": ") ",
     "delete_cmd_prefix": "rm(",
     "library": "var_list.r",
     "varRefreshCmd": "cat(var_dic_list()) "
    }
   },
   "types_to_exclude": [
    "module",
    "function",
    "builtin_function_or_method",
    "instance",
    "_Feature"
   ],
   "window_display": false
  }
 },
 "nbformat": 4,
 "nbformat_minor": 1
}
