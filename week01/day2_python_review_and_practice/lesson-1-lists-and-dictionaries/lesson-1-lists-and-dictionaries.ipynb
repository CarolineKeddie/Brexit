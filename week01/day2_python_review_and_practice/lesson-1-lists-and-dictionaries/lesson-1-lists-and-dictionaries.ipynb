{
 "cells": [
  {
   "cell_type": "markdown",
   "metadata": {},
   "source": [
    "<img src=\"http://imgur.com/1ZcRyrc.png\" style=\"float: left; margin: 20px; height: 55px\">\n",
    "\n",
    "# Intro to Python: Lists & Dictionaries\n",
    "Week 1 | Day 2 | Lesson 1\n",
    "\n",
    "---\n",
    "\n",
    "### LEARNING OBJECTIVES\n",
    "\n",
    "- Create lists and operate on them\n",
    "- Create dictionaries and operate on them"
   ]
  },
  {
   "cell_type": "markdown",
   "metadata": {},
   "source": [
    "### Lesson Guide\n",
    "\n",
    "- [Python](#python)\n",
    "- [Lists](#lists)    \n",
    "- [Dictionaries](#dictionaries)\n",
    "- [Pair exercise](#pair exercise)\n",
    "- [Demo / Guided Practice lists](#demo lists)\n",
    "- [Creating and using lists](#creating lists)\n",
    "- [Modifying lists](#modifying lists)\n",
    "- [Independent Practice: lists](#ind-practice lists)\n",
    "- [Demo / Guided Practice dictionaries](#demo dictionaries)\n",
    "- [Creating and using dictionaries](#creating dictionaries)\n",
    "- [Modifying dictionaries](#modifying dictionaries)\n",
    "- [Independent Practice: dictionaries](#ind-practice dictionaries)\n",
    "- [Conclusion](#conclusion)"
   ]
  },
  {
   "cell_type": "markdown",
   "metadata": {},
   "source": [
    "## Python\n",
    "<a id=\"python\"></a>\n",
    "\n",
    "<img src=\"https://upload.wikimedia.org/wikipedia/commons/6/66/Guido_van_Rossum_OSCON_2006.jpg\" style=\"width:150px;height:200px;\">\n",
    "\n",
    "- was created by Guido van Rossum and first released in 1991\n",
    "- became soon popular and many packages have been added which are useful for data science\n",
    "- appealing aesthetics and code uniformity by requiring white space identation to delimit code blocks\n",
    "- concise syntax allows to write very compact code\n",
    "- dynamic type checking\n",
    "- comes with very flexible data types like lists and dictionaries"
   ]
  },
  {
   "cell_type": "markdown",
   "metadata": {},
   "source": [
    "## Lists\n",
    "<a id=\"lists\"></a>\n",
    "\n",
    "- are collections of multiple items of arbitrary python type\n",
    "- two items are separated by a comma\n",
    "- the items are  enclosed by square brackets: **`[ ]`**\n",
    "- the individual elements can be accessed by their index indicating their position within the list and starting at 0\n",
    "- are \"mutable\", meaning they can be modified such as appended to\n",
    "- can contain any python type\n",
    "- can contain a mixture of types\n",
    "\n",
    "Examples:\n",
    "\n",
    "```python\n",
    "empty = []\n",
    "integers = [1, 2, 3, 4, 5]\n",
    "floats = [1., 2., 3.14, 4.75, 5.9]\n",
    "letters = ['a','b','c','d']\n",
    "mixture = ['hi',12.13,1,['a','b','c'],integers]\n",
    "```"
   ]
  },
  {
   "cell_type": "markdown",
   "metadata": {},
   "source": [
    "<a id=\"dictionaries\"></a>\n",
    "## Dictionaries\n",
    "\n",
    "**Dictionaries** contain multiple items, like lists, but are organized in `key:value` pairs\n",
    "\n",
    "**Dictionaries**\n",
    "\n",
    "- are enclosed by curly brackets: **`{ }`**\n",
    "- follow the pattern: `{key1:value1, key2:value2, ...}`\n",
    "- are indexed by their keys rather than their numeric index\n",
    "- are mutable\n",
    "- can contain mixtures of key and value types\n",
    "\n",
    "Examples:\n",
    "\n",
    "```python\n",
    "empty = {}\n",
    "english_italian = {'apple':'mela','orange':'arancio','blueberries':'mirtilli'}\n",
    "telephone_nums = {'john':5103315523, 'andrew':4156678890}\n",
    "lists = {0:[1,2,3], 1:[4,5,6]}\n",
    "mixture = {'animals':['dog','cat'], 1:2, empty_dicts:{'a':{}, 'b':{}}}\n",
    "```\n",
    "\n",
    "[Lists and Dictionaries](http://sthurlow.com/python/lesson06/)"
   ]
  },
  {
   "cell_type": "markdown",
   "metadata": {},
   "source": [
    "<a id=\"pair exercise\"></a>\n",
    "## Pair exercise\n",
    "- Partner up and explain what a list and a dictionary are to your partners.\n",
    "- What are the differences between a list and a dictionary?\n",
    "- What are the two things you need for a dictionary?\n",
    "- When would you use which?"
   ]
  },
  {
   "cell_type": "markdown",
   "metadata": {},
   "source": [
    "<a name=\"demo lists\"></a>\n",
    "## Demo / Guided Practice: Lists\n",
    "\n",
    "\n",
    "Let's practice creating and modifying python lists.\n",
    "\n",
    "---"
   ]
  },
  {
   "cell_type": "markdown",
   "metadata": {},
   "source": [
    "<a id=\"creating lists\"></a>\n",
    "### Creating and using lists\n",
    "\n",
    "Say you have 5 friends called *Curly, Moe, Larry, Harry, Sue*. Create a list named `friends` with the 5 friends.\n",
    "\n",
    "Lists can be assigned to variables. Make the list of friends and assign it to a variable named `friends`\n",
    "* L-1: make a list with the 5 friends"
   ]
  },
  {
   "cell_type": "code",
   "execution_count": null,
   "metadata": {},
   "outputs": [],
   "source": []
  },
  {
   "cell_type": "markdown",
   "metadata": {},
   "source": [
    "Recall that lists are indexed with integers.\n",
    "\n",
    "* L-2: print the 3rd item of the friends list"
   ]
  },
  {
   "cell_type": "code",
   "execution_count": null,
   "metadata": {},
   "outputs": [],
   "source": []
  },
  {
   "cell_type": "markdown",
   "metadata": {},
   "source": [
    "You can use two indices separated by a colon to access a range of elements within a list. For example: **`my_list[0:5]`** would print out the first 5 elements of my_list.\n",
    "\n",
    "L-3: print the 3rd through 5th elements of the friends list"
   ]
  },
  {
   "cell_type": "code",
   "execution_count": null,
   "metadata": {},
   "outputs": [],
   "source": []
  },
  {
   "cell_type": "markdown",
   "metadata": {},
   "source": [
    "---\n",
    "\n",
    "<a id=\"modifying lists\"></a>\n",
    "### Modifying lists\n",
    "\n",
    "Lists have pre-defined functions which are very useful for manipulating them. The built in functions of list work _in place_, meaning that you do not have to assign the result to a new variable.\n",
    "\n",
    "The **`.append()`** function will add an element to the end of a list. Use the function like: **`[...].append(item)`**\n",
    "\n",
    "L-4: add 'Sam' to the end of the friends list using `.append()`"
   ]
  },
  {
   "cell_type": "code",
   "execution_count": null,
   "metadata": {},
   "outputs": [],
   "source": []
  },
  {
   "cell_type": "markdown",
   "metadata": {},
   "source": [
    "You can also combine lists by simply adding them together with the **`+`** operator.\n",
    "\n",
    "L-5: add the list `['Bob', 'Joe']` to the friends list"
   ]
  },
  {
   "cell_type": "code",
   "execution_count": null,
   "metadata": {},
   "outputs": [],
   "source": []
  },
  {
   "cell_type": "markdown",
   "metadata": {},
   "source": [
    "The **`.remove()`** function can remove a specific element of a list, and the **`del`** command will remove the item of a list at a specific index. For example, **`del my_list[2]`** removes the 3rd element of my_list.\n",
    "\n",
    "L-6: remove 'Sam' from the list with the `.remove()` function"
   ]
  },
  {
   "cell_type": "code",
   "execution_count": null,
   "metadata": {},
   "outputs": [],
   "source": []
  },
  {
   "cell_type": "markdown",
   "metadata": {},
   "source": [
    "L-7: remove the first element of friends using `del`"
   ]
  },
  {
   "cell_type": "code",
   "execution_count": null,
   "metadata": {},
   "outputs": [],
   "source": []
  },
  {
   "cell_type": "markdown",
   "metadata": {},
   "source": [
    "Python provides a datatype very similar to lists called tuples. Tuples can be constructed in the same way as lists simply by replacing angular brackets with round brackets. What distinguishes tuples from lists is that they are **immutable**. \n",
    "\n",
    "You can test what that implies by initialising friends as a tuple and repeating the same steps. Some will work as above, but some will fail and produce an error message. \n",
    "\n",
    "- Can you guess which ones before trying out? \n",
    "- Can you imagine situations where tuples will be prefarable to lists?"
   ]
  },
  {
   "cell_type": "markdown",
   "metadata": {},
   "source": [
    "[More information about lists](http://sthurlow.com/python/lesson06/)\n",
    "\n",
    "\n",
    "<a name=\"ind-practice lists\"></a>\n",
    "## Independent Practice: Lists\n",
    "Explore the built in functions of lists:\n",
    "\n",
    "- use **`.append(item)`** to add item to a list\n",
    "- use **`.extend([item1, item2])`** to join another list to the end of the list\n",
    "- use **`.insert(index, item)`** to add an item to a list at an index\n",
    "- use **`.remove(item)`** to remove an item from a list\n",
    "- use **`.sort()`** to sort a list\n",
    "- use **`.count(item)`** to count the number of times an item appears in a list\n",
    "- use **`.index(item)`** to find the index of an element in a list\n",
    "- use **`.pop()`** to extract (and remove) the last element of a list\n",
    "- use **`.reverse()`** to reverse a list\n",
    "- use **`del my_list[index]`** to remove an item at the index position from a list\n",
    "\n",
    "Use the [starter-code](starter-code/list-practice-starter.ipynb) provided."
   ]
  },
  {
   "cell_type": "markdown",
   "metadata": {},
   "source": [
    "<a name=\"demo dictionaries\"></a>\n",
    "## Demo / Guided Practice: Dictionaries \n",
    "\n",
    "Dictionaries are useful when you want to associate items with a specific reference, or **key**. An example of this would be storing phone numbers of your friends with the key values as your friends' names.\n",
    "\n",
    "Remember that dictionaries are created with curly brackets, using **{key1:value1, key2:value2}** syntax.\n",
    "\n",
    "One potentially confusing aspect of dictionaries is that although \n",
    "- they are created with the curly brackets **`{ }`**\n",
    "- accessing a value with a key is done using square brackets **`[ ]`**\n",
    "- for example: **`my_dict[key]`** returns the value for `key` in `my_dict`."
   ]
  },
  {
   "cell_type": "markdown",
   "metadata": {},
   "source": [
    "---\n",
    "<a id=\"creating dictionaries\"></a>\n",
    "### Creating and using dictionaries\n",
    "\n",
    "Dictionaries are created the same way as lists, with assignment to a variable. Create a dictionary called `zipcodes` with the following `district:zip` code pairs:\n",
    "\n",
    "    'sunset':94122\n",
    "    'presidio':94129\n",
    "    'soma':94105\n",
    "    'marina':94123"
   ]
  },
  {
   "cell_type": "markdown",
   "metadata": {},
   "source": [
    "D-1: Create the SF district dictionary"
   ]
  },
  {
   "cell_type": "code",
   "execution_count": 1,
   "metadata": {},
   "outputs": [],
   "source": [
    "SF = {'sunset':94122,'presidio':94129,'soma':94105,'marina':94123}"
   ]
  },
  {
   "cell_type": "markdown",
   "metadata": {},
   "source": [
    "As you can see, when you print the dictionary, the key:value pairs are not guaranteed to be ordered the way you entered them like a list.\n",
    "\n",
    "Values for a key can be accessed using the square bracket **`[ ]`** syntax or with the **`.get()`** method.\n",
    "\n",
    "D-2: access the zip code for `soma` and assign it to a variable"
   ]
  },
  {
   "cell_type": "code",
   "execution_count": null,
   "metadata": {},
   "outputs": [],
   "source": []
  },
  {
   "cell_type": "markdown",
   "metadata": {},
   "source": [
    "You can list the current keys in a dictionary with the **`.keys()`** function. The keys will be returned in a list.\n",
    "\n",
    "D-3: print out a list of the keys in `zipcodes` using `.keys()`"
   ]
  },
  {
   "cell_type": "code",
   "execution_count": null,
   "metadata": {},
   "outputs": [],
   "source": []
  },
  {
   "cell_type": "markdown",
   "metadata": {},
   "source": [
    "The **`.items()`** function will create a list of tuples, where each of the tuples in the list is a `key:value` pair in the dictionary.\n",
    "\n",
    "D-4: print out a list of the `key:value` pairs in zipcodes using `.items()`"
   ]
  },
  {
   "cell_type": "code",
   "execution_count": null,
   "metadata": {},
   "outputs": [],
   "source": []
  },
  {
   "cell_type": "markdown",
   "metadata": {},
   "source": [
    "---\n",
    "\n",
    "<a id=\"modifying dictionaries\"></a>\n",
    "### Modifying dictionaries\n",
    "\n",
    "Adding new `key:value` pairs to a dictionary is similar to how you access an existing entry. The syntax for adding a new entry is: **`my_dict['new_key'] = new_value`**.\n",
    "\n",
    "D-5: add `'castro':94114` to the `zipcodes` dictionary"
   ]
  },
  {
   "cell_type": "code",
   "execution_count": null,
   "metadata": {},
   "outputs": [],
   "source": []
  },
  {
   "cell_type": "markdown",
   "metadata": {},
   "source": [
    "Removing a dictionary `key:value` pair can be done with the **`del`** command, like with a list, or with the **`.pop()`** function which will remove a key from the dictionary and return the value for that key.\n",
    "\n",
    "D-6: remove the sunset `zipcode` with `.pop()` and assign it to a variable"
   ]
  },
  {
   "cell_type": "code",
   "execution_count": null,
   "metadata": {},
   "outputs": [],
   "source": []
  },
  {
   "cell_type": "markdown",
   "metadata": {},
   "source": [
    "<a name=\"ind-practice dictionaries\"></a>\n",
    "## Independent Practice: Dictionaries \n",
    "\n",
    "Build your own dictionary with `key:value` pairs of your choice.\n",
    "\n",
    "Explore some of the built in functions for dictionaries:\n",
    "\n",
    "- use **`.pop(key)`** to remove a `key:value` pair from the dictionary and return the value\n",
    "- use **`.get(key)`** to get the value for a `key`\n",
    "- use **`my_key in my_dictionary`** to check if a key `my_key` is in the dictionary `my_dictionary`\n",
    "- use **`.keys()`** to get a list of the keys in the dictionary\n",
    "- use **`.items()`** to get a list of the `key:value` pairs in the dictionary\n",
    "- use **`.update(other_dictionary)`** to merge a second dictionary into the current dictionary\n",
    "- use **`.clear()`** to remove all `key:value` pairs from the dictionary\n",
    "- use **`del my_dict[key]`** to remove a key-value pair from the dictionary\n",
    "\n",
    "Use the [starter-code](starter-code/dictionary-practice-starter.ipynb) provided."
   ]
  },
  {
   "cell_type": "markdown",
   "metadata": {},
   "source": [
    "<a name=\"conclusion\"></a>\n",
    "## Conclusion \n",
    "\n",
    "Lists and dictionaries are useful containers for various types of data. After this lesson\n",
    "you should be able to create lists and dictionaries and to operate on them. You will need to do this a lot during the course once we start interacting with external data sources.\n"
   ]
  }
 ],
 "metadata": {
  "anaconda-cloud": {},
  "kernelspec": {
   "display_name": "Python [conda env:anaconda3]",
   "language": "python",
   "name": "conda-env-anaconda3-py"
  },
  "language_info": {
   "codemirror_mode": {
    "name": "ipython",
    "version": 3
   },
   "file_extension": ".py",
   "mimetype": "text/x-python",
   "name": "python",
   "nbconvert_exporter": "python",
   "pygments_lexer": "ipython3",
   "version": "3.6.4"
  },
  "toc": {
   "nav_menu": {
    "height": "56px",
    "width": "231px"
   },
   "number_sections": false,
   "sideBar": true,
   "skip_h1_title": true,
   "title_cell": "Table of Contents",
   "title_sidebar": "Contents",
   "toc_cell": false,
   "toc_position": {},
   "toc_section_display": "block",
   "toc_window_display": false
  }
 },
 "nbformat": 4,
 "nbformat_minor": 1
}
