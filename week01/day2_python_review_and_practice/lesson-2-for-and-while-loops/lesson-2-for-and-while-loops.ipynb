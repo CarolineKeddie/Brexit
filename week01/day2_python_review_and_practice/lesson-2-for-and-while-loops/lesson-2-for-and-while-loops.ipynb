{
 "cells": [
  {
   "cell_type": "markdown",
   "metadata": {},
   "source": [
    "<img src=\"http://imgur.com/1ZcRyrc.png\" style=\"float: left; margin: 20px; height: 55px\">\n",
    "\n",
    "#  Python Review Iterations - for and while loops\n",
    "Week 1 | Day 2 | Lesson 2\n",
    "\n",
    "---"
   ]
  },
  {
   "cell_type": "markdown",
   "metadata": {},
   "source": [
    "### LEARNING OBJECTIVES\n",
    "\n",
    "- Formulate for and while loops\n",
    "- Iterate using for loops\n",
    "- Iterate using while loops"
   ]
  },
  {
   "cell_type": "markdown",
   "metadata": {},
   "source": [
    "---\n",
    "\n",
    "## Lesson Guide\n",
    "\n",
    "- [Introduction: for and while loops](#for and while loops)\n",
    "- [Demo: for loops](#demo for)\n",
    "- [Independent practice: for loops](#ind-practice for)\n",
    "- [Demo: while loops](#demo while)\n",
    "- [Independent practice: while loops](#ind-practice while)\n",
    "- [Conclusions](#conclusion)\n",
    "- [Additional Resources](#resources)"
   ]
  },
  {
   "cell_type": "markdown",
   "metadata": {},
   "source": [
    "<a name=\"for and while loops\"></a>\n",
    "## Introduction: for and while loops \n",
    "\n",
    "The for statement is used to iterate over the elements of a sequence, that means any kind of iterable object like strings, lists, tuples, dictionaries and so on. It's\n",
    "used when you have a piece of code which you want to repeat a certain number of times.\n",
    "\n",
    "The while loop tells the computer to do something as long as a condition is met.\n",
    "A while loop consists of a block of code and a condition. The condition\n",
    "is evaluated, and if the condition is true, the code within the\n",
    "block is executed. This repeats until the condition becomes false.\n",
    "\n",
    "[for and while loops at python for beginners](http://www.pythonforbeginners.com/control-flow-2/python-for-and-while-loops)\n",
    "\n",
    "[for and while loops at cyberciti](http://www.cyberciti.biz/faq/python-for-loop-examples-statements/)"
   ]
  },
  {
   "cell_type": "markdown",
   "metadata": {},
   "source": [
    "<a name=\"demo for\"></a>\n",
    "## Demo: for loops\n",
    "\n",
    "The general syntax for a **for loop** is indicated below:\n",
    "\n",
    "```python\n",
    "    for iterator_name in iterating_sequence:\n",
    "        …statements…\n",
    "```\n",
    "\n",
    "A simple example:"
   ]
  },
  {
   "cell_type": "code",
   "execution_count": null,
   "metadata": {},
   "outputs": [],
   "source": [
    "for count in [1, 2, 3]:\n",
    "    print(count)\n",
    "    print('Yes' * count)"
   ]
  },
  {
   "cell_type": "markdown",
   "metadata": {},
   "source": [
    "This is a for loop. It has the heading starting with `for`, followed by a\n",
    "variable name (count in this case), the word `in`, some sequence, and a final colon.\n",
    "As with function definitions and other heading lines, the colon at the end of\n",
    "the line indicates that a consistently indented block of statements follows\n",
    "to complete the for loop.\n",
    "\n",
    "Let's try a simple repeat for loop. It serves to repeat the exact same action a specific number of times. In that case only the length of the sequence,\n",
    "not the individual elements are important."
   ]
  },
  {
   "cell_type": "code",
   "execution_count": null,
   "metadata": {},
   "outputs": [],
   "source": [
    "# simple repeat loop\n",
    "for i in range(10):\n",
    "    print('Hello',end=' ')"
   ]
  },
  {
   "cell_type": "markdown",
   "metadata": {},
   "source": [
    "Let's try a for loop through words.\n",
    "\n",
    "Using a for loop to go through the letters in a word"
   ]
  },
  {
   "cell_type": "code",
   "execution_count": null,
   "metadata": {},
   "outputs": [],
   "source": [
    "word = 'computer'\n",
    "for letter in word:\n",
    "    print(letter)"
   ]
  },
  {
   "cell_type": "markdown",
   "metadata": {},
   "source": [
    "Let's use a for loop to print out a list."
   ]
  },
  {
   "cell_type": "code",
   "execution_count": null,
   "metadata": {},
   "outputs": [],
   "source": [
    "teas = ['earl grey', 'darjeeling', 'english breakfast', 'lapsang souchong', \n",
    "        'oolong', 'kombucha', 'green tea']\n",
    "\n",
    "for tea in teas:\n",
    "    print(tea)"
   ]
  },
  {
   "cell_type": "markdown",
   "metadata": {},
   "source": [
    "[for loops at cyberciti](http://www.cyberciti.biz/faq/python-for-loop-examples-statements/)\n",
    "\n",
    "[for loops at python for beginners](http://www.pythonforbeginners.com/control-flow-2/python-for-and-while-loops)\n",
    "\n",
    "[for loops at python handson](http://anh.cs.luc.edu/python/hands-on/3.1/handsonHtml/loops.html)"
   ]
  },
  {
   "cell_type": "markdown",
   "metadata": {},
   "source": [
    "<a name=\"ind-practice for\"></a>\n",
    "## Independent Practice: for loops\n",
    "\n",
    "Now, try creating a few for loops on your own with the exercises in the [starter code](starter-code/Exercises_for_and_while_loops-startercode.ipynb)."
   ]
  },
  {
   "cell_type": "markdown",
   "metadata": {},
   "source": [
    "<a name=\"demo while\"></a>\n",
    "## Demo: while loops \n",
    "\n",
    "The general syntax for a **while loop** is indicated below:\n",
    "\n",
    "```python\n",
    "    while condition:\n",
    "        …statements…\n",
    "```\n",
    "\n",
    "The syntax includes the following parts:\n",
    "* in the first line\n",
    "    * the keyword **`while`** \n",
    "    * followed by a condition which evaluates to `true` or `false`\n",
    "    * followed by a colon\n",
    "* an indented code block including all statements to be executed if the condition evaluates to true\n",
    "\n",
    "Once the statements have been executed, the condition will be checked again, and if it still holds, the statements will be executed once more and so on. This means that if the condition is met initially but not modified by any of the statements it will simply keep running, so be careful.\n",
    "\n",
    "Let's create a simple counter using a while loop."
   ]
  },
  {
   "cell_type": "code",
   "execution_count": null,
   "metadata": {},
   "outputs": [],
   "source": [
    "count = 0\n",
    "while count < 5:\n",
    "    print(count)\n",
    "    count = count + 1"
   ]
  },
  {
   "cell_type": "markdown",
   "metadata": {},
   "source": [
    "Another counter using a while loop"
   ]
  },
  {
   "cell_type": "code",
   "execution_count": null,
   "metadata": {},
   "outputs": [],
   "source": [
    "a = 0\n",
    "while a < 10:\n",
    "    a += 1\n",
    "    print(a)"
   ]
  },
  {
   "cell_type": "markdown",
   "metadata": {},
   "source": [
    "And one more..."
   ]
  },
  {
   "cell_type": "code",
   "execution_count": null,
   "metadata": {},
   "outputs": [],
   "source": [
    "reply = None\n",
    "while reply != 'stop':\n",
    "    reply = input('Enter text, [type \"stop\" to quit]: ')\n",
    "    reply = reply.lower()\n",
    "    print(reply)"
   ]
  },
  {
   "cell_type": "markdown",
   "metadata": {},
   "source": [
    "This while loop will stop when the user types \"stop\".\n",
    "\n",
    "Remember, a while loop runs until the condition is False. The problem is,\n",
    "sometimes they don't stop. To avoid this, here are some rules to follow:\n",
    "\n",
    "* Make sure that you use while-loops sparingly. Usually a for-loop is better.\n",
    "* Review your while statements and make sure that the boolean test will\n",
    "   become False at some point.\n",
    "* When in doubt, print out your test variable at the top and bottom of the\n",
    "   while-loop to see what it's doing.\n",
    "   \n",
    "[while loops at learn python the hard way](http://learnpythonthehardway.org/book/ex33.html)"
   ]
  },
  {
   "cell_type": "markdown",
   "metadata": {},
   "source": [
    "<a name=\"ind-practice while\"></a>\n",
    "## Independent Practice: while loops\n",
    "\n",
    "- Now, create a few while loops on your own with the exercises in the [starter code](starter-code/Exercises_for_and_while_loops-startercode.ipynb).\n",
    "\n",
    "<a name=\"conclusion\"></a>\n",
    "## Conclusion\n",
    "\n",
    "After this lesson you should be able to describe \n",
    "- when a for loop or a while loop are useful\n",
    "- what are the differences between for and while loops\n",
    "- potential dangers with while loops and what you can do to avoid them\n",
    "\n",
    "<a name=\"resources\"></a>\n",
    "## Additional resources\n",
    "\n",
    "- [for and while loops at python for beginners](http://www.pythonforbeginners.com/control-flow-2/python-for-and-while-loops)\n",
    "- [for loops at cyberciti](http://www.cyberciti.biz/faq/python-for-loop-examples-statements/)\n",
    "- [for loops at python hands-on](http://anh.cs.luc.edu/python/hands-on/3.1/handsonHtml/loops.html)\n",
    "- [while loops at learn python the hard way](http://learnpythonthehardway.org/book/ex33.html)"
   ]
  }
 ],
 "metadata": {
  "anaconda-cloud": {},
  "kernelspec": {
   "display_name": "Python [conda env:anaconda3]",
   "language": "python",
   "name": "conda-env-anaconda3-py"
  },
  "language_info": {
   "codemirror_mode": {
    "name": "ipython",
    "version": 3
   },
   "file_extension": ".py",
   "mimetype": "text/x-python",
   "name": "python",
   "nbconvert_exporter": "python",
   "pygments_lexer": "ipython3",
   "version": "3.6.4"
  },
  "toc": {
   "nav_menu": {},
   "number_sections": false,
   "sideBar": true,
   "skip_h1_title": true,
   "title_cell": "Table of Contents",
   "title_sidebar": "Contents",
   "toc_cell": false,
   "toc_position": {},
   "toc_section_display": "block",
   "toc_window_display": false
  }
 },
 "nbformat": 4,
 "nbformat_minor": 1
}
