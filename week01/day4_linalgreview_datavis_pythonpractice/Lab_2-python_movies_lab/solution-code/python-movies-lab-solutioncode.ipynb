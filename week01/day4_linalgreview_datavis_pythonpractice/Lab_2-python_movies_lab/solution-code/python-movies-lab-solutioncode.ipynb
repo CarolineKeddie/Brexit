{
 "cells": [
  {
   "cell_type": "markdown",
   "metadata": {},
   "source": [
    "<img src=\"http://imgur.com/1ZcRyrc.png\" style=\"float: left; margin: 20px; height: 55px\">\n",
    "\n",
    "# Iteration practice with movies\n",
    "\n",
    "---"
   ]
  },
  {
   "cell_type": "markdown",
   "metadata": {},
   "source": [
    "In this lab you'll be using the provided imdb `movies` list below as your dataset. \n",
    "\n",
    "This lab is designed to practice iteration. The normal questions are more gentle, and the challenge questions are suitable for advanced/expert python or programming-experienced students. \n",
    "\n",
    "All the questions require writing functions and also use iteration to solve. You should print out a test of each function you write.\n",
    "\n",
    "---"
   ]
  },
  {
   "cell_type": "markdown",
   "metadata": {},
   "source": [
    "### 1. Load the provided list of movies dictionaries."
   ]
  },
  {
   "cell_type": "code",
   "execution_count": 1,
   "metadata": {},
   "outputs": [],
   "source": [
    "# List of movies dictionaries:\n",
    "\n",
    "movies = [\n",
    "{\n",
    "\"name\": \"Usual Suspects\", \n",
    "\"imdb\": 7.0,\n",
    "\"category\": \"Thriller\"\n",
    "},\n",
    "{\n",
    "\"name\": \"Hitman\",\n",
    "\"imdb\": 6.3,\n",
    "\"category\": \"Action\"\n",
    "},\n",
    "{\n",
    "\"name\": \"Dark Knight\",\n",
    "\"imdb\": 9.0,\n",
    "\"category\": \"Adventure\"\n",
    "},\n",
    "{\n",
    "\"name\": \"The Help\",\n",
    "\"imdb\": 8.0,\n",
    "\"category\": \"Drama\"\n",
    "},\n",
    "{\n",
    "\"name\": \"The Choice\",\n",
    "\"imdb\": 6.2,\n",
    "\"category\": \"Romance\"\n",
    "},\n",
    "{\n",
    "\"name\": \"Colonia\",\n",
    "\"imdb\": 7.4,\n",
    "\"category\": \"Romance\"\n",
    "},\n",
    "{\n",
    "\"name\": \"Love\",\n",
    "\"imdb\": 6.0,\n",
    "\"category\": \"Romance\"\n",
    "},\n",
    "{\n",
    "\"name\": \"Bride Wars\",\n",
    "\"imdb\": 5.4,\n",
    "\"category\": \"Romance\"\n",
    "},\n",
    "{\n",
    "\"name\": \"AlphaJet\",\n",
    "\"imdb\": 3.2,\n",
    "\"category\": \"War\"\n",
    "},\n",
    "{\n",
    "\"name\": \"Ringing Crime\",\n",
    "\"imdb\": 4.0,\n",
    "\"category\": \"Crime\"\n",
    "},\n",
    "{\n",
    "\"name\": \"Joking muck\",\n",
    "\"imdb\": 7.2,\n",
    "\"category\": \"Comedy\"\n",
    "},\n",
    "{\n",
    "\"name\": \"What is the name\",\n",
    "\"imdb\": 9.2,\n",
    "\"category\": \"Suspense\"\n",
    "},\n",
    "{\n",
    "\"name\": \"Detective\",\n",
    "\"imdb\": 7.0,\n",
    "\"category\": \"Suspense\"\n",
    "},\n",
    "{\n",
    "\"name\": \"Exam\",\n",
    "\"imdb\": 4.2,\n",
    "\"category\": \"Thriller\"\n",
    "},\n",
    "{\n",
    "\"name\": \"We Two\",\n",
    "\"imdb\": 7.2,\n",
    "\"category\": \"Romance\"\n",
    "}\n",
    "]"
   ]
  },
  {
   "cell_type": "markdown",
   "metadata": {},
   "source": [
    "---"
   ]
  },
  {
   "cell_type": "markdown",
   "metadata": {},
   "source": [
    "### 2. Filtering data by IMDB score"
   ]
  },
  {
   "cell_type": "markdown",
   "metadata": {},
   "source": [
    "#### 2.1 \n",
    "\n",
    "Write a function that:\n",
    "\n",
    "1. Accepts a single movie dictionary from the `movies` list as an argument.\n",
    "2. Returns True if the IMDB score is above 5.5."
   ]
  },
  {
   "cell_type": "code",
   "execution_count": 2,
   "metadata": {},
   "outputs": [
    {
     "name": "stdout",
     "output_type": "stream",
     "text": [
      "{'name': 'Usual Suspects', 'imdb': 7.0, 'category': 'Thriller'}\n",
      "True\n"
     ]
    }
   ],
   "source": [
    "# 2.1:\n",
    "\n",
    "def imdb_score_over_bad(movie):\n",
    "    \"\"\"Takes a single movie as an argument and returns True if its imdb is above 5.5, otherwise False.\"\"\"\n",
    "    if movie['imdb'] > 5.5:\n",
    "        return True\n",
    "    else:\n",
    "        return False\n",
    "\n",
    "print(movies[0])\n",
    "print(imdb_score_over_bad(movies[0]))"
   ]
  },
  {
   "cell_type": "markdown",
   "metadata": {},
   "source": [
    "#### 2.2 [Challenge] \n",
    "\n",
    "Write a function that:\n",
    "\n",
    "1. Accepts the movies list and a specified category.\n",
    "2. Returns True if the average score of the category is higher than the average score of all movies."
   ]
  },
  {
   "cell_type": "code",
   "execution_count": 3,
   "metadata": {},
   "outputs": [
    {
     "name": "stdout",
     "output_type": "stream",
     "text": [
      "False\n",
      "True\n"
     ]
    }
   ],
   "source": [
    "# 2.2\n",
    "\n",
    "def movies_category_over_avg(movies, category):\n",
    "    \"\"\" 1. Accepts the movies list and a specified category.\n",
    "        2. Returns True if the average score of the category is higher than the average score of all movies.\"\"\"\n",
    "    overall_average = [] # Initialize empty lists for overall average\n",
    "    category_average = [] # Initialize empty lists for category average\n",
    "    \n",
    "    # Loop through all movies\n",
    "    for movie in movies:\n",
    "        # Append imdb score of each movie to overall average\n",
    "        overall_average.append(movie['imdb'])\n",
    "        # If the movie category is equal to the desired category, append the imdb score to the category average\n",
    "        if movie['category'] == category:\n",
    "            category_average.append(movie['imdb'])\n",
    "    \n",
    "    # calculate the overall average \n",
    "    overall_average = sum(overall_average)/len(overall_average)\n",
    " \n",
    "    # if there was no movie of the desired category, return false\n",
    "    if len(category_average) == 0:\n",
    "        print('no movies in specified category:', category)\n",
    "        return False\n",
    "    \n",
    "    # otherwise return true if the category average is larger than the overall average\n",
    "    else:\n",
    "        category_average = sum(category_average)/len(category_average)\n",
    "        if category_average > overall_average:\n",
    "            return True\n",
    "        else:\n",
    "            return False\n",
    "\n",
    "print(movies_category_over_avg(movies, 'Thriller'))\n",
    "print(movies_category_over_avg(movies, 'Suspense'))"
   ]
  },
  {
   "cell_type": "markdown",
   "metadata": {},
   "source": [
    "---"
   ]
  },
  {
   "cell_type": "markdown",
   "metadata": {},
   "source": [
    "### 3. Creating subsets by numeric condition"
   ]
  },
  {
   "cell_type": "markdown",
   "metadata": {},
   "source": [
    "#### 3.1\n",
    "\n",
    "Write a function that:\n",
    "\n",
    "1. Accepts the list of movies and a specified imdb score.\n",
    "2. Returns the sublist of movies that have a score greater than the specified score."
   ]
  },
  {
   "cell_type": "code",
   "execution_count": 4,
   "metadata": {},
   "outputs": [
    {
     "name": "stdout",
     "output_type": "stream",
     "text": [
      "[{'name': 'Dark Knight', 'imdb': 9.0, 'category': 'Adventure'}, {'name': 'What is the name', 'imdb': 9.2, 'category': 'Suspense'}]\n"
     ]
    }
   ],
   "source": [
    "# 3.1\n",
    "\n",
    "def score_greater_subset(movies, score):\n",
    "    \"\"\" 1. Accepts the list of movies and a specified imdb score.\n",
    "        2. Returns the sublist of movies that have a score greater than the specified score.\"\"\"\n",
    "    subset = [] # initialize the subset list\n",
    "    \n",
    "    # loop over the movies and check if the imdb score is above the given score\n",
    "    for movie in movies:\n",
    "        if movie['imdb'] > score:\n",
    "            subset.append(movie)\n",
    "            \n",
    "    return subset\n",
    "\n",
    "print(score_greater_subset(movies, 8.5))"
   ]
  },
  {
   "cell_type": "markdown",
   "metadata": {},
   "source": [
    "#### 3.2 [Challenge] \n",
    "\n",
    "Write a function that:\n",
    "\n",
    "1. Accepts the movies list as an argument.\n",
    "2. Returns the movies list sorted first by category and then by movie according to average score and individual score, respectively."
   ]
  },
  {
   "cell_type": "code",
   "execution_count": 5,
   "metadata": {},
   "outputs": [
    {
     "data": {
      "text/plain": [
       "[{'category': 'Adventure', 'imdb': 9.0, 'name': 'Dark Knight'},\n",
       " {'category': 'Suspense', 'imdb': 9.2, 'name': 'What is the name'},\n",
       " {'category': 'Suspense', 'imdb': 7.0, 'name': 'Detective'},\n",
       " {'category': 'Drama', 'imdb': 8.0, 'name': 'The Help'},\n",
       " {'category': 'Comedy', 'imdb': 7.2, 'name': 'Joking muck'},\n",
       " {'category': 'Romance', 'imdb': 7.4, 'name': 'Colonia'},\n",
       " {'category': 'Romance', 'imdb': 7.2, 'name': 'We Two'},\n",
       " {'category': 'Romance', 'imdb': 6.2, 'name': 'The Choice'},\n",
       " {'category': 'Romance', 'imdb': 6.0, 'name': 'Love'},\n",
       " {'category': 'Romance', 'imdb': 5.4, 'name': 'Bride Wars'},\n",
       " {'category': 'Action', 'imdb': 6.3, 'name': 'Hitman'},\n",
       " {'category': 'Thriller', 'imdb': 7.0, 'name': 'Usual Suspects'},\n",
       " {'category': 'Thriller', 'imdb': 4.2, 'name': 'Exam'},\n",
       " {'category': 'Crime', 'imdb': 4.0, 'name': 'Ringing Crime'},\n",
       " {'category': 'War', 'imdb': 3.2, 'name': 'AlphaJet'}]"
      ]
     },
     "execution_count": 5,
     "metadata": {},
     "output_type": "execute_result"
    }
   ],
   "source": [
    "# 3.2\n",
    "# See here for another example and explanation of the lambda search:\n",
    "# http://stackoverflow.com/questions/3766633/how-to-sort-with-lambda-in-python\n",
    "# http://stackoverflow.com/questions/14299448/sorting-by-multiple-conditions-in-python\n",
    "\n",
    "def category_score_sorted(movies):\n",
    "    \"\"\" 1. Accepts the movies list as an argument.\n",
    "        2. Returns the movies list sorted first by category and then by movie according to average score and individual score, respectively.\"\"\"\n",
    "\n",
    "    category_scores = {} # Initialize dictionary for category scores\n",
    "    \n",
    "    # loop over all movies\n",
    "    for movie in movies:\n",
    "        # check if category is already contained in category score, add if not\n",
    "        if not movie['category'] in category_scores:\n",
    "            category_scores[movie['category']] = [movie['imdb']]\n",
    "        else:\n",
    "            category_scores[movie['category']].append(movie['imdb'])\n",
    "    \n",
    "    \n",
    "    category_averages = {} # Initialize dictionary for category averages\n",
    "    \n",
    "    # loop over key:value pairs in category score, calculate the average score for each category and append to category average dictionary\n",
    "    for cat, vals in list(category_scores.items()):\n",
    "        category_averages[cat] = sum(vals)/len(vals)\n",
    "#    print category_averages\n",
    "    \n",
    "    # Sort movies, key specifies that they should be ordered according to their category average, and then within each category according to their imdb score\n",
    "    movies_sorted = sorted(movies, key=lambda x: (category_averages[x['category']],\n",
    "                                                  x['imdb']), reverse=True)\n",
    "    \n",
    "    return movies_sorted\n",
    "\n",
    "category_score_sorted(movies)"
   ]
  },
  {
   "cell_type": "markdown",
   "metadata": {},
   "source": [
    "---"
   ]
  },
  {
   "cell_type": "markdown",
   "metadata": {},
   "source": [
    "### 4. Creating subsets by string condition"
   ]
  },
  {
   "cell_type": "markdown",
   "metadata": {},
   "source": [
    "#### 4.1\n",
    "\n",
    "Write a function that:\n",
    "\n",
    "1. Accepts the movies list and a category name.\n",
    "2. Returns the movie names within that category (case-insensitive!)\n",
    "3. If the category is not in the data, print a message that it does not exist and return None.\n",
    "\n",
    "Recall that to convert a string to lowercase, you can use:\n",
    "\n",
    "```python\n",
    "mystring = 'Dumb and Dumber'\n",
    "lowercase_mystring = mystring.lower()\n",
    "print lowercase_mystring\n",
    "'dumb and dumber'\n",
    "```"
   ]
  },
  {
   "cell_type": "code",
   "execution_count": 6,
   "metadata": {},
   "outputs": [
    {
     "name": "stdout",
     "output_type": "stream",
     "text": [
      "[{'name': 'What is the name', 'imdb': 9.2, 'category': 'Suspense'}, {'name': 'Detective', 'imdb': 7.0, 'category': 'Suspense'}]\n",
      "\n",
      "No movies in category: sci-fi\n",
      "None\n"
     ]
    }
   ],
   "source": [
    "# 4.1\n",
    "\n",
    "def category_subset(movies, category):\n",
    "    \"\"\" 1. Accepts the movies list and a category name.\n",
    "        2. Returns the movie names within that category (case-insensitive!)\n",
    "        3. If the category is not in the data, print a message that it does not exist and return None.\"\"\"\n",
    "    \n",
    "    category = category.lower() # convert given category to lower case\n",
    "    movies_subset = [] # initialize empty movie subset list\n",
    "    \n",
    "    # loop over all the movies and append to subset if the movie is in the desired category\n",
    "    for movie in movies:\n",
    "        movie_category = movie['category'].lower()\n",
    "        if movie_category == category:\n",
    "            movies_subset.append(movie)\n",
    "    \n",
    "    # Return movie subset if not empty\n",
    "    if len(movies_subset) == 0:\n",
    "        print('No movies in category:', category)\n",
    "        return None\n",
    "    else:\n",
    "        return movies_subset\n",
    "    \n",
    "print(category_subset(movies, 'suspense'))\n",
    "print()\n",
    "print(category_subset(movies, 'sci-fi'))"
   ]
  },
  {
   "cell_type": "markdown",
   "metadata": {},
   "source": [
    "#### 4.2 [Challenge]\n",
    "\n",
    "Write a function that:\n",
    "\n",
    "1. Accepts the movies list and a \"search string\".\n",
    "2. Returns a dictionary with keys `'category'` and `'title'` whose values are lists of categories that contain the search string and titles that contain the search string, respectively (case-insensitive!)"
   ]
  },
  {
   "cell_type": "code",
   "execution_count": 7,
   "metadata": {},
   "outputs": [
    {
     "name": "stdout",
     "output_type": "stream",
     "text": [
      "{'category': ['crime'], 'title': ['ringing crime']}\n"
     ]
    }
   ],
   "source": [
    "# 4.2\n",
    "\n",
    "def category_title_search(movies, search_string):\n",
    "    \"\"\" 1. Accepts the movies list and a \"search string\".\n",
    "        2. Returns a dictionary with keys `'category'` and `'title'` whose values are lists of categories that contain the search string and titles that contain the search string, respectively (case-insensitive!)\"\"\"\n",
    "    \n",
    "    search_string = search_string.lower() # transform search string to lower case\n",
    "    \n",
    "    results = {'category':[], 'title':[]} # initialize dictionary for search results\n",
    "   \n",
    "    # loop over all the movies and extract category and title for each\n",
    "    for movie in movies:\n",
    "        movie_category = movie['category'].lower()\n",
    "        movie_title = movie['name'].lower()\n",
    "        \n",
    "        # if the search string is contained in the movie category append the category to the results if it is not yet contained\n",
    "        if search_string in movie_category:\n",
    "            if not movie_category in results['category']:\n",
    "                results['category'].append(movie_category)\n",
    "          \n",
    "        # if the search string is contained in the movie title, append to the results (title should be unique, so no need to check if already included)\n",
    "        if search_string in movie_title:\n",
    "            results['title'].append(movie_title)\n",
    "            \n",
    "    return results\n",
    "\n",
    "print(category_title_search(movies, 'cr'))"
   ]
  },
  {
   "cell_type": "markdown",
   "metadata": {},
   "source": [
    "---"
   ]
  },
  {
   "cell_type": "markdown",
   "metadata": {},
   "source": [
    "### Multiple conditions"
   ]
  },
  {
   "cell_type": "markdown",
   "metadata": {},
   "source": [
    "#### 5.1\n",
    "\n",
    "Write a function that:\n",
    "\n",
    "1. Accepts the movies list and a \"search criteria\" variable.\n",
    "2. If the criteria variable is numeric, return a list of movie titles with a score greater than or equal to the criteria.\n",
    "3. If the criteria variable is a string, return a list of movie titles that match that category (case-insensitive!). If there is no match, return an empty list and print an informative message."
   ]
  },
  {
   "cell_type": "code",
   "execution_count": 8,
   "metadata": {},
   "outputs": [
    {
     "name": "stdout",
     "output_type": "stream",
     "text": [
      "['Usual Suspects', 'Dark Knight', 'The Help', 'Colonia', 'Joking muck', 'What is the name', 'Detective', 'We Two']\n",
      "['What is the name', 'Detective']\n",
      "no matches found\n",
      "[]\n",
      "criterion neither string nor numeric\n",
      "[]\n"
     ]
    }
   ],
   "source": [
    "# 5.1\n",
    "\n",
    "def general_search(movies, criterion):\n",
    "    \"\"\" 1. Accepts the movies list and a \"search criteria\" variable.\n",
    "        2. If the criteria variable is numeric, return a list of movie titles with a score greater than or equal to the criteria.\n",
    "        3. If the criteria variable is a string, return a list of movie titles that match that category (case-insensitive!). If there is no match, return an empty list and print an informative message.\"\"\"\n",
    "        \n",
    "    titles_matches = [] # initialize list for title matches\n",
    "    \n",
    "    # check if criterion is numeric or string and then search for either score or titles\n",
    "    if type(criterion) in [int, float]:\n",
    "        search_for = 'score'\n",
    "    elif type(criterion) == str:\n",
    "        search_for = 'titles'\n",
    "        criterion = criterion.lower()\n",
    "    else:\n",
    "        print('criterion neither string nor numeric')\n",
    "        return titles_matches\n",
    "    \n",
    "    # loop over all movies\n",
    "    for movie in movies:\n",
    "        \n",
    "        # if numeric criterion, filter imdb score\n",
    "        if search_for == 'score':\n",
    "            if movie['imdb'] > criterion:\n",
    "                titles_matches.append(movie['name'])\n",
    "        # if string criterion, filter category\n",
    "        else:\n",
    "            if movie['category'].lower() == criterion:\n",
    "                titles_matches.append(movie['name'])\n",
    "                \n",
    "    # return matches or inform that there are no matches            \n",
    "    if len(titles_matches) == 0:\n",
    "        print('no matches found')\n",
    "    \n",
    "    return titles_matches\n",
    "\n",
    "print(general_search(movies, 6.9))\n",
    "print(general_search(movies, 'suspense'))\n",
    "print(general_search(movies, 'horror'))\n",
    "print(general_search(movies, {'name':'the godfather'}))"
   ]
  },
  {
   "cell_type": "markdown",
   "metadata": {},
   "source": [
    "#### 5.2 [Expert]\n",
    "\n",
    "Write a function that:\n",
    "\n",
    "1. Accepts the movies list and a string search criteria variable.\n",
    "2. The search criteria variable can contain within it:\n",
    "  - Boolean operations: `'AND'`, `'OR'`, and `'NOT'` (can have/be lowercase as well, I just capitalized for clarity).\n",
    "  - Search criteria specified with syntax `score=...`, `category=...`, and/or `title=...`, where the `...` indicates what to look for.\n",
    "    - If `score` is present, it means scores greater than or equal to the value.\n",
    "    - For `category` and `title`, the string indicates that the category or title must _contain_ the search string (case-insensitive).\n",
    "    - Example: \n",
    "        ```'imdb=7.0 NOT category=suspense OR NOT title=love'```\n",
    "3. Return the matches for the search criteria specified."
   ]
  },
  {
   "cell_type": "code",
   "execution_count": 9,
   "metadata": {},
   "outputs": [],
   "source": [
    "# 5.2\n",
    "\n",
    "def movie_matches_subparser(movies, movie_key, value):\n",
    "    \"\"\" Take movies list, \n",
    "        a key specifying title, category or imdb\n",
    "        and a value according to which to filter\"\"\"\n",
    "    \n",
    "    # check if search criteria specified correctly\n",
    "    if movie_key == 'title':\n",
    "        movie_key = 'name'\n",
    "    elif movie_key not in ['category','imdb']:\n",
    "        print('movie lookup key', movie_key, 'incorrect')\n",
    "        return []\n",
    "    \n",
    "    # if criterion is imdb, try to convert value to float\n",
    "    if movie_key == 'imdb':\n",
    "        try:\n",
    "            value = float(value)\n",
    "        except:\n",
    "            print('imdb', value, 'cannot become float')\n",
    "            return []\n",
    "        \n",
    "    subset = [] # initialize the movie subset\n",
    "    \n",
    "    # loop through movie list\n",
    "    for movie_ind, movie in enumerate(movies):\n",
    "        # check value type, if numeric filter imdb scores, otherwise by title or category\n",
    "        if type(value) == float:\n",
    "            if movie[movie_key] >= value:\n",
    "                subset.append(movie_ind)\n",
    "        else:\n",
    "            if value in movie[movie_key].lower():\n",
    "                subset.append(movie_ind)\n",
    "    \n",
    "    return subset\n",
    "\n",
    "\n",
    "\n",
    "def meets_boolean_criteria(movies, criteria_info):\n",
    "    \"\"\"Take movies, filter according to criteria_info and return remaining movies\"\"\"\n",
    "    \n",
    "    movie_inds = list(range(len(movies))) # setup movie indices\n",
    "    \n",
    "    full_set = set(movie_inds) # transform to sets to be able to apply set operation\n",
    "    return_set = set(movie_inds)\n",
    "    \n",
    "    # loop over criteria info\n",
    "    for boolean, movie_subset in criteria_info:\n",
    "        \n",
    "        movie_subset = set(movie_subset) # remove duplicates from movie subset\n",
    "        \n",
    "        # apply set operation required by boolean search string\n",
    "        if boolean == 'and':\n",
    "            return_set = return_set & movie_subset\n",
    "        elif boolean == 'or':\n",
    "            return_set = return_set | movie_subset\n",
    "        elif boolean == 'not':\n",
    "            return_set = return_set - movie_subset\n",
    "        elif boolean == 'ornot':\n",
    "            return_set = return_set | (full_set - movie_subset)\n",
    "    \n",
    "    # Obtain list of movies remaining after boolean search\n",
    "    return_list = []\n",
    "    for ind in list(return_set):\n",
    "        return_list.append(movies[ind])\n",
    "        \n",
    "    return return_list  \n",
    "            \n",
    "                \n",
    "\n",
    "def boolean_search(movies, search):\n",
    "    \"\"\" 1. Accepts the movies list and a string search criteria variable.\n",
    "        2. The search criteria variable can contain within it:\n",
    "          - Boolean operations: `'AND'`, `'OR'`, and `'NOT'` (can have/be lowercase as well, I just capitalized for clarity).\n",
    "          - Search criteria specified with syntax `score=...`, `category=...`, and/or `title=...`, where the `...` indicates what to look for.\n",
    "            - If `score` is present, it means scores greater than or equal to the value.\n",
    "            - For `category` and `title`, the string indicates that the category or title must _contain_ the search string (case-insensitive).\n",
    "         - Example: \n",
    "            ```'imdb=7.0 NOT category=suspense OR NOT title=love'```\n",
    "        3. Return the matches for the search criteria specified.\"\"\"\n",
    "        \n",
    "    search = search.lower() # transform search string to lower case\n",
    "    search = search.split(' ') # split search string on spaces\n",
    "    \n",
    "    criteria_info = [] # list for criterion\n",
    "    current_boolean = 'and' # define default value for boolean\n",
    "    \n",
    "    # loop through search list as long as it contains elements\n",
    "    while len(search) > 0:\n",
    "        item = search.pop(0) # remove first item from search list\n",
    "        # check if item is boolean\n",
    "        if item in ['and','or','not']: \n",
    "            if (current_boolean == 'or') and (item == 'not'):\n",
    "                current_boolean = 'ornot'\n",
    "            else:\n",
    "                current_boolean = item\n",
    "            continue\n",
    "        # if item is not boolean, split on = , otherwise return error     \n",
    "        else:\n",
    "            if '=' in item:\n",
    "                item = item.split('=')\n",
    "            else:\n",
    "                print(item, 'syntax incorrect')\n",
    "                return []\n",
    "                        \n",
    "            # call to above function using extracted items    \n",
    "            movie_match_inds = movie_matches_subparser(movies, item[0], item[1])\n",
    "            # append result together with current boolean to criteria info\n",
    "            criteria_info.append([current_boolean, movie_match_inds])\n",
    "\n",
    "    # call above function with criteria info        \n",
    "    matches = meets_boolean_criteria(movies, criteria_info)\n",
    "    return matches"
   ]
  },
  {
   "cell_type": "code",
   "execution_count": 10,
   "metadata": {},
   "outputs": [
    {
     "name": "stdout",
     "output_type": "stream",
     "text": [
      "[{'name': 'Usual Suspects', 'imdb': 7.0, 'category': 'Thriller'}]\n",
      "\n",
      "[{'name': 'Dark Knight', 'imdb': 9.0, 'category': 'Adventure'}, {'name': 'What is the name', 'imdb': 9.2, 'category': 'Suspense'}]\n",
      "\n",
      "[{'name': 'The Choice', 'imdb': 6.2, 'category': 'Romance'}, {'name': 'Colonia', 'imdb': 7.4, 'category': 'Romance'}, {'name': 'Love', 'imdb': 6.0, 'category': 'Romance'}, {'name': 'Bride Wars', 'imdb': 5.4, 'category': 'Romance'}, {'name': 'Joking muck', 'imdb': 7.2, 'category': 'Comedy'}, {'name': 'We Two', 'imdb': 7.2, 'category': 'Romance'}]\n",
      "\n"
     ]
    }
   ],
   "source": [
    "# test of movie_matches_subparser\n",
    "\n",
    "results = movie_matches_subparser(movies,'title','sus')\n",
    "print([movies[i] for i in results])\n",
    "print() \n",
    "\n",
    "results = movie_matches_subparser(movies,'imdb','9')\n",
    "print([movies[i] for i in results])\n",
    "print() \n",
    "\n",
    "results = movie_matches_subparser(movies,'category','om')\n",
    "print([movies[i] for i in results])\n",
    "print()"
   ]
  },
  {
   "cell_type": "code",
   "execution_count": 11,
   "metadata": {},
   "outputs": [
    {
     "name": "stdout",
     "output_type": "stream",
     "text": [
      "{0, 1, 2, 3, 4, 5, 6, 7, 8, 9}\n",
      "{2, 3, 4, 5}\n",
      "{0, 1, 6, 7, 8, 9}\n",
      "{0, 1, 2, 3, 4, 5, 6, 7, 8, 9}\n",
      "{0, 1, 2, 3, 4, 5, 6, 7, 8, 9}\n"
     ]
    }
   ],
   "source": [
    "# Illustration of set operations\n",
    "set_1 = set(range(10))\n",
    "set_2 = set(range(2,6))\n",
    "\n",
    "print(set_1) \n",
    "print(set_1 & set_2)\n",
    "print(set_1 - set_2)\n",
    "print(set_1 | set_2)\n",
    "print(set_1 | set_1-set_2)"
   ]
  },
  {
   "cell_type": "markdown",
   "metadata": {},
   "source": [
    "#### Examples for applying the final function"
   ]
  },
  {
   "cell_type": "code",
   "execution_count": 12,
   "metadata": {},
   "outputs": [
    {
     "data": {
      "text/plain": [
       "[{'category': 'Thriller', 'imdb': 7.0, 'name': 'Usual Suspects'},\n",
       " {'category': 'Adventure', 'imdb': 9.0, 'name': 'Dark Knight'},\n",
       " {'category': 'Drama', 'imdb': 8.0, 'name': 'The Help'},\n",
       " {'category': 'Romance', 'imdb': 7.4, 'name': 'Colonia'},\n",
       " {'category': 'Comedy', 'imdb': 7.2, 'name': 'Joking muck'},\n",
       " {'category': 'Romance', 'imdb': 7.2, 'name': 'We Two'}]"
      ]
     },
     "execution_count": 12,
     "metadata": {},
     "output_type": "execute_result"
    }
   ],
   "source": [
    "boolean_search(movies, 'imdb=7.0 NOT category=suspense AND NOT title=love')"
   ]
  },
  {
   "cell_type": "code",
   "execution_count": 13,
   "metadata": {},
   "outputs": [
    {
     "data": {
      "text/plain": [
       "[{'category': 'Adventure', 'imdb': 9.0, 'name': 'Dark Knight'},\n",
       " {'category': 'Suspense', 'imdb': 9.2, 'name': 'What is the name'}]"
      ]
     },
     "execution_count": 13,
     "metadata": {},
     "output_type": "execute_result"
    }
   ],
   "source": [
    "boolean_search(movies, 'imdb=8.9')"
   ]
  },
  {
   "cell_type": "code",
   "execution_count": 14,
   "metadata": {},
   "outputs": [
    {
     "data": {
      "text/plain": [
       "[{'category': 'Action', 'imdb': 6.3, 'name': 'Hitman'},\n",
       " {'category': 'Drama', 'imdb': 8.0, 'name': 'The Help'},\n",
       " {'category': 'Romance', 'imdb': 6.2, 'name': 'The Choice'},\n",
       " {'category': 'Romance', 'imdb': 7.4, 'name': 'Colonia'},\n",
       " {'category': 'Romance', 'imdb': 6.0, 'name': 'Love'},\n",
       " {'category': 'Romance', 'imdb': 5.4, 'name': 'Bride Wars'},\n",
       " {'category': 'War', 'imdb': 3.2, 'name': 'AlphaJet'},\n",
       " {'category': 'Crime', 'imdb': 4.0, 'name': 'Ringing Crime'},\n",
       " {'category': 'Comedy', 'imdb': 7.2, 'name': 'Joking muck'},\n",
       " {'category': 'Romance', 'imdb': 7.2, 'name': 'We Two'}]"
      ]
     },
     "execution_count": 14,
     "metadata": {},
     "output_type": "execute_result"
    }
   ],
   "source": [
    "boolean_search(movies, 'NOT imdb=8.9 AND NOT category=suspense AND NOT category=thriller')"
   ]
  },
  {
   "cell_type": "code",
   "execution_count": 15,
   "metadata": {},
   "outputs": [
    {
     "name": "stdout",
     "output_type": "stream",
     "text": [
      "imdb notafloat cannot become float\n"
     ]
    },
    {
     "data": {
      "text/plain": [
       "[]"
      ]
     },
     "execution_count": 15,
     "metadata": {},
     "output_type": "execute_result"
    }
   ],
   "source": [
    "boolean_search(movies, 'imdb=notafloat')"
   ]
  },
  {
   "cell_type": "code",
   "execution_count": 16,
   "metadata": {},
   "outputs": [
    {
     "data": {
      "text/plain": [
       "[]"
      ]
     },
     "execution_count": 16,
     "metadata": {},
     "output_type": "execute_result"
    }
   ],
   "source": [
    "boolean_search(movies, 'category=1')"
   ]
  },
  {
   "cell_type": "code",
   "execution_count": 17,
   "metadata": {},
   "outputs": [
    {
     "data": {
      "text/plain": [
       "[{'category': 'Suspense', 'imdb': 9.2, 'name': 'What is the name'},\n",
       " {'category': 'Suspense', 'imdb': 7.0, 'name': 'Detective'}]"
      ]
     },
     "execution_count": 17,
     "metadata": {},
     "output_type": "execute_result"
    }
   ],
   "source": [
    "boolean_search(movies, 'category=suspense')"
   ]
  },
  {
   "cell_type": "code",
   "execution_count": 18,
   "metadata": {},
   "outputs": [
    {
     "name": "stdout",
     "output_type": "stream",
     "text": [
      "when syntax incorrect\n"
     ]
    },
    {
     "data": {
      "text/plain": [
       "[]"
      ]
     },
     "execution_count": 18,
     "metadata": {},
     "output_type": "execute_result"
    }
   ],
   "source": [
    "boolean_search(movies, 'category=suspense WHEN imdb=5.5')"
   ]
  },
  {
   "cell_type": "code",
   "execution_count": 19,
   "metadata": {},
   "outputs": [
    {
     "name": "stdout",
     "output_type": "stream",
     "text": [
      "movie lookup key review_count incorrect\n"
     ]
    },
    {
     "data": {
      "text/plain": [
       "[]"
      ]
     },
     "execution_count": 19,
     "metadata": {},
     "output_type": "execute_result"
    }
   ],
   "source": [
    "boolean_search(movies, 'review_count=100')"
   ]
  },
  {
   "cell_type": "code",
   "execution_count": null,
   "metadata": {},
   "outputs": [],
   "source": []
  }
 ],
 "metadata": {
  "anaconda-cloud": {},
  "kernelspec": {
   "display_name": "Python [conda env:anaconda3]",
   "language": "python",
   "name": "conda-env-anaconda3-py"
  },
  "language_info": {
   "codemirror_mode": {
    "name": "ipython",
    "version": 3
   },
   "file_extension": ".py",
   "mimetype": "text/x-python",
   "name": "python",
   "nbconvert_exporter": "python",
   "pygments_lexer": "ipython3",
   "version": "3.6.4"
  },
  "toc": {
   "nav_menu": {
    "height": "104px",
    "width": "226px"
   },
   "number_sections": false,
   "sideBar": true,
   "skip_h1_title": true,
   "title_cell": "Table of Contents",
   "title_sidebar": "Contents",
   "toc_cell": false,
   "toc_position": {},
   "toc_section_display": "block",
   "toc_window_display": false
  }
 },
 "nbformat": 4,
 "nbformat_minor": 1
}
