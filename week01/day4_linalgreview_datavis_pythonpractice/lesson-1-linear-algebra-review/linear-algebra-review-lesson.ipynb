{
 "cells": [
  {
   "cell_type": "markdown",
   "metadata": {
    "slideshow": {
     "slide_type": "slide"
    },
    "solution": "hidden"
   },
   "source": [
    "<img src=\"http://imgur.com/1ZcRyrc.png\" style=\"float: left; margin: 20px; height: 55px\">\n",
    "\n",
    "# Linear algebra: review of basic concepts with numpy\n",
    "---"
   ]
  },
  {
   "cell_type": "markdown",
   "metadata": {
    "slideshow": {
     "slide_type": "slide"
    }
   },
   "source": [
    "<a id=\"learning-objectives\"></a>\n",
    "## Learning Objectives\n",
    "\n",
    "### Core\n",
    "\n",
    "- Recognize scalars, vectors, and matrices\n",
    "- Know how to calculate additions and dot products of vectors and matrices\n",
    "- Implement basic linear algebra concepts in NumPy\n",
    " - create vectors and matrices (`np.array`)\n",
    " - vector addition/subtraction \n",
    " - vector norm (`np.linalg.norm`)\n",
    " - scalar product/matrix product (`np.dot`)\n",
    " - identity matrix (`np.eye`)\n",
    " - transposed matrix (`.T`)\n",
    " - inverse matrix (`np.linalg.inv`)\n",
    "\n",
    "### Target\n",
    "- Recognize uses of linear algebra in machine learning\n",
    " - distance between actual and predicted values\n",
    " - least squares\n",
    "- Check for equality of numpy arrays (`np.isclose` and `np.allclose`)\n",
    "\n",
    "\n",
    "### Stretch\n",
    "- Implement linear algebra operations through the use of lists"
   ]
  },
  {
   "cell_type": "markdown",
   "metadata": {
    "slideshow": {
     "slide_type": "slide"
    }
   },
   "source": [
    "### Lesson Guide"
   ]
  },
  {
   "cell_type": "markdown",
   "metadata": {
    "slideshow": {
     "slide_type": "fragment"
    }
   },
   "source": [
    "- [Introduction](#introduction)\n",
    "- [Scalars, vectors and matrices](#scalars-vectors-and-matrices)\n",
    "- [Types of vectors](#types-of-vectors)\n",
    "\t- [Vectors and Matrices are useful for multi-dimensional concepts](#vectors-and-matrices-are-useful-for-multi-dimensional-concepts)\n",
    "- [Basic matrix algebra](#basic-matrix-algebra)\n",
    "\t- [Addition and subtraction](#addition-and-substraction)\n",
    "\t- [Scalar multiplication](#scalar-multiplication)\n",
    "\t- [Vector norm](#vector-norm)\n",
    "\t- [Dot product](#dot-product)\n",
    "\t- [Matrix multiplication](#matrix-multiplication)\n",
    "\t- [The identity matrix](#the-identity-matrix)\n",
    "    - [The transposed matrix](#the-transposed-matrix)\n",
    "    - [The inverse matrix](#the-inverse-matrix)\n",
    "- [Applications to machine learning](#applications-to-machine-learning)\n",
    "\t- [Distance between actual values and predicted values](#distance-between-actual-values-and-predicted-values)\n",
    "\t- [Least squares](#least-squares)\n",
    "- [Independent practice](#independent-practice)\n",
    "- [Additional resources](#additional-resources)"
   ]
  },
  {
   "cell_type": "code",
   "execution_count": 1,
   "metadata": {
    "slideshow": {
     "slide_type": "skip"
    }
   },
   "outputs": [],
   "source": [
    "import numpy as np"
   ]
  },
  {
   "cell_type": "markdown",
   "metadata": {
    "slideshow": {
     "slide_type": "slide"
    }
   },
   "source": [
    "<a id=\"introduction\"></a>\n",
    "## Introduction\n",
    "---\n",
    "As data scientists we will often have to do with data contained in lists or tables. Often we will transform data to some numerical form so that we can handle it like vectors and matrices. Doing so enables us to use the machinery of linear algebra to understand our data and to make predictions and forecasts. For this reason, in this lesson we will review some of the basic concepts of linear algebra.\n",
    "\n",
    "As you learned in a previous lesson, lists and tuples in python are very flexible. They can contain elements of any python data type in any kind of mixture. Although that is a very attractive feature for many python applications, for the linear algebra tasks of a data scientist's everyday life, it is not. The high flexibility of python lists leads to considerable increase in computation time, and also indexing could work in a simpler way to resemble matrix operations.\n",
    "\n",
    "That is the main reason why numpy has been created. It created a new datatype, the numpy array, which is more restrictive than python lists. It allows only a single data type for its elements. Data types can be numeric or strings, but no mixtures. Using arrays leads to much better numerical performance and is crucial for doing any kind of more advanced numerical computations with python, not only related to linear algebra. "
   ]
  },
  {
   "cell_type": "markdown",
   "metadata": {
    "slideshow": {
     "slide_type": "slide"
    }
   },
   "source": [
    "<a id=\"scalars-vectors-and-matrices\"></a>\n",
    "## Scalars, vectors and matrices\n",
    "---\n",
    "\n",
    "A **scalar** is a single number like\n",
    "\n",
    "$$a = 3$$\n",
    "\n",
    "A **vector** is an ordered tuple or list of numbers like\n",
    "\n",
    "$$\\vec{u} = \\left( \\begin{array}{c}\n",
    "1&3&7\n",
    "\\end{array} \\right)$$"
   ]
  },
  {
   "cell_type": "markdown",
   "metadata": {
    "slideshow": {
     "slide_type": "slide"
    },
    "solution": "hidden"
   },
   "source": [
    "We can use numpy arrays to encode vectors."
   ]
  },
  {
   "cell_type": "code",
   "execution_count": 2,
   "metadata": {
    "slideshow": {
     "slide_type": "fragment"
    }
   },
   "outputs": [
    {
     "name": "stdout",
     "output_type": "stream",
     "text": [
      "<class 'numpy.ndarray'>\n"
     ]
    }
   ],
   "source": [
    "u = np.array([1, 3, 7])\n",
    "print(type(u))"
   ]
  },
  {
   "cell_type": "code",
   "execution_count": 3,
   "metadata": {},
   "outputs": [
    {
     "data": {
      "text/plain": [
       "(3,)"
      ]
     },
     "execution_count": 3,
     "metadata": {},
     "output_type": "execute_result"
    }
   ],
   "source": [
    "# illustrate shape\n",
    "np.array([1, 3, 7]).shape"
   ]
  },
  {
   "cell_type": "code",
   "execution_count": 4,
   "metadata": {},
   "outputs": [
    {
     "data": {
      "text/plain": [
       "(1, 3)"
      ]
     },
     "execution_count": 4,
     "metadata": {},
     "output_type": "execute_result"
    }
   ],
   "source": [
    "np.array([[1, 3, 7]]).shape"
   ]
  },
  {
   "cell_type": "code",
   "execution_count": 5,
   "metadata": {},
   "outputs": [
    {
     "data": {
      "text/plain": [
       "(3, 1)"
      ]
     },
     "execution_count": 5,
     "metadata": {},
     "output_type": "execute_result"
    }
   ],
   "source": [
    "np.array([[1], [3], [7]]).shape"
   ]
  },
  {
   "cell_type": "code",
   "execution_count": 6,
   "metadata": {
    "slideshow": {
     "slide_type": "fragment"
    }
   },
   "outputs": [
    {
     "data": {
      "text/plain": [
       "array([1, 3, 7])"
      ]
     },
     "execution_count": 6,
     "metadata": {},
     "output_type": "execute_result"
    }
   ],
   "source": [
    "# display the numpy array\n",
    "u"
   ]
  },
  {
   "cell_type": "code",
   "execution_count": 7,
   "metadata": {
    "slideshow": {
     "slide_type": "fragment"
    }
   },
   "outputs": [
    {
     "name": "stdout",
     "output_type": "stream",
     "text": [
      "[1 3 7]\n"
     ]
    }
   ],
   "source": [
    "# print the numpy array\n",
    "print(u)"
   ]
  },
  {
   "cell_type": "markdown",
   "metadata": {
    "slideshow": {
     "slide_type": "slide"
    }
   },
   "source": [
    "An $m \\times n$ **matrix** A (read $m$ times $n$ or $m$ by $n$) is a rectangular array of numbers with $m$ rows and $n$ columns. Each number in the matrix is an entry. Entries are conventionally denoted as $A_{mn}$.\n",
    "\n",
    "$$A= \\left( \\begin{array}{c}\n",
    "A_{11} & A_{12} & ... & A_{1n}  \\\\\n",
    "A_{21} & A_{22} & ... & A_{2n}  \\\\\n",
    "\\vdots & \\vdots & \\ddots & \\vdots \\\\\n",
    "A_{m1} & A_{m2} & ... & A_{mn}\n",
    "\\end{array} \\right)$$"
   ]
  },
  {
   "cell_type": "markdown",
   "metadata": {
    "slideshow": {
     "slide_type": "slide"
    },
    "solution": "hidden"
   },
   "source": [
    "A matrix can be encoded by forming a list of lists and putting it into numpy array format."
   ]
  },
  {
   "cell_type": "markdown",
   "metadata": {},
   "source": [
    "#### Pure python version"
   ]
  },
  {
   "cell_type": "code",
   "execution_count": 8,
   "metadata": {
    "slideshow": {
     "slide_type": "fragment"
    }
   },
   "outputs": [
    {
     "data": {
      "text/plain": [
       "[[1, 3, 7], [4, 6, 3], [2, 5, 6]]"
      ]
     },
     "execution_count": 8,
     "metadata": {},
     "output_type": "execute_result"
    }
   ],
   "source": [
    "[[1, 3, 7], [4, 6, 3], [2, 5, 6]]"
   ]
  },
  {
   "cell_type": "markdown",
   "metadata": {},
   "source": [
    "#### Numpy version"
   ]
  },
  {
   "cell_type": "code",
   "execution_count": 9,
   "metadata": {
    "slideshow": {
     "slide_type": "fragment"
    }
   },
   "outputs": [
    {
     "data": {
      "text/plain": [
       "array([[1, 3, 7],\n",
       "       [4, 6, 3],\n",
       "       [2, 5, 6]])"
      ]
     },
     "execution_count": 9,
     "metadata": {},
     "output_type": "execute_result"
    }
   ],
   "source": [
    "A = np.array([[1, 3, 7], [4, 6, 3], [2, 5, 6]])\n",
    "A"
   ]
  },
  {
   "cell_type": "markdown",
   "metadata": {},
   "source": [
    "Printing looks more like the maths way of writing matrices."
   ]
  },
  {
   "cell_type": "code",
   "execution_count": 10,
   "metadata": {},
   "outputs": [
    {
     "name": "stdout",
     "output_type": "stream",
     "text": [
      "[[1 3 7]\n",
      " [4 6 3]\n",
      " [2 5 6]]\n"
     ]
    }
   ],
   "source": [
    "print(A)"
   ]
  },
  {
   "cell_type": "markdown",
   "metadata": {
    "slideshow": {
     "slide_type": "slide"
    }
   },
   "source": [
    "We can check what is the shape of a given vector or matrix:"
   ]
  },
  {
   "cell_type": "code",
   "execution_count": 11,
   "metadata": {
    "slideshow": {
     "slide_type": "fragment"
    }
   },
   "outputs": [
    {
     "name": "stdout",
     "output_type": "stream",
     "text": [
      "(3,)\n",
      "(3, 3)\n"
     ]
    }
   ],
   "source": [
    "print(u.shape)\n",
    "print(A.shape)"
   ]
  },
  {
   "cell_type": "markdown",
   "metadata": {
    "slideshow": {
     "slide_type": "slide"
    }
   },
   "source": [
    "<a id=\"types-of-vectors\"></a>\n",
    "## Types of vectors\n",
    "---\n",
    "\n",
    "A (column) **vector** is a matrix with a single column. Its entries are called the components of the vector.\n",
    "\n",
    "$$\\vec{v} = \\left( \\begin{array}{c}\n",
    "1 \\\\\n",
    "3 \\\\\n",
    "7 \\\\\n",
    "\\end{array} \\right)$$\n",
    "\n",
    "Components are denoted $v_{i}$."
   ]
  },
  {
   "cell_type": "markdown",
   "metadata": {
    "slideshow": {
     "slide_type": "subslide"
    }
   },
   "source": [
    "Create the vector:"
   ]
  },
  {
   "cell_type": "code",
   "execution_count": 12,
   "metadata": {
    "slideshow": {
     "slide_type": "fragment"
    }
   },
   "outputs": [
    {
     "name": "stdout",
     "output_type": "stream",
     "text": [
      "[1 3 7]\n",
      "(3,)\n"
     ]
    }
   ],
   "source": [
    "v = np.array([1, 3, 7])\n",
    "print(v)\n",
    "print(v.shape)"
   ]
  },
  {
   "cell_type": "markdown",
   "metadata": {
    "slideshow": {
     "slide_type": "fragment"
    }
   },
   "source": [
    "Set the shape explicitly:"
   ]
  },
  {
   "cell_type": "code",
   "execution_count": 13,
   "metadata": {
    "slideshow": {
     "slide_type": "fragment"
    }
   },
   "outputs": [
    {
     "name": "stdout",
     "output_type": "stream",
     "text": [
      "(3, 1)\n",
      "[[1]\n",
      " [3]\n",
      " [7]]\n"
     ]
    }
   ],
   "source": [
    "v.shape = (3, 1)\n",
    "print(v.shape)\n",
    "print(v)"
   ]
  },
  {
   "cell_type": "markdown",
   "metadata": {
    "slideshow": {
     "slide_type": "subslide"
    }
   },
   "source": [
    "A matrix with a single row is a **row vector**.\n",
    "\n",
    "$$\\vec{u} = \\left( \\begin{array}{c}\n",
    "1&3&7\n",
    "\\end{array} \\right)$$"
   ]
  },
  {
   "cell_type": "code",
   "execution_count": 14,
   "metadata": {
    "slideshow": {
     "slide_type": "fragment"
    }
   },
   "outputs": [
    {
     "name": "stdout",
     "output_type": "stream",
     "text": [
      "(3,)\n",
      "[1 3 7]\n"
     ]
    }
   ],
   "source": [
    "u = np.array([1, 3, 7])\n",
    "print(u.shape)\n",
    "print(u)"
   ]
  },
  {
   "cell_type": "markdown",
   "metadata": {
    "slideshow": {
     "slide_type": "fragment"
    },
    "solution": "hidden"
   },
   "source": [
    "Set the shape explicitly:"
   ]
  },
  {
   "cell_type": "code",
   "execution_count": 15,
   "metadata": {
    "slideshow": {
     "slide_type": "fragment"
    }
   },
   "outputs": [
    {
     "name": "stdout",
     "output_type": "stream",
     "text": [
      "(1, 3)\n",
      "[[1 3 7]]\n"
     ]
    }
   ],
   "source": [
    "u.shape = (1, 3)\n",
    "print(u.shape)\n",
    "print(u)"
   ]
  },
  {
   "cell_type": "markdown",
   "metadata": {
    "slideshow": {
     "slide_type": "slide"
    }
   },
   "source": [
    "<a id=\"vectors-and-matrices-are-useful-for-multi-dimensional-concepts\"></a>\n",
    "### Vectors and Matrices are useful for multi-dimensional concepts\n",
    "\n",
    "<center><img src=\"./assets/images/r3_vectors.png\" style=\"width:500px;height:350px;\"></center>\n",
    "We can represent vectors as arrows in n-dimensional space, having magnitude and direction.\n",
    "\n",
    "(Image from: \n",
    "[Louis Scharf, Linear Algebra: Vectors. OpenStax CNX. Sep 17, 2009](http://cnx.org/contents/3d05d982-e21c-4f8a-ab5a-d3e94186f924@6).)"
   ]
  },
  {
   "cell_type": "markdown",
   "metadata": {
    "slideshow": {
     "slide_type": "slide"
    }
   },
   "source": [
    "<a id=\"basic-matrix-algebra\"></a>\n",
    "## Basic matrix algebra"
   ]
  },
  {
   "cell_type": "markdown",
   "metadata": {
    "slideshow": {
     "slide_type": "slide"
    },
    "solution": "hidden"
   },
   "source": [
    "<a id=\"addition-and-substraction\"></a>\n",
    "### Addition and subtraction\n",
    "Vector **addition** is straightforward, if the two vectors are of equal dimensions:\n",
    "\n",
    "$$\\vec{v} = \\left( \\begin{array}{c}\n",
    "1 \\\\\n",
    "3 \\\\\n",
    "7\n",
    "\\end{array} \\right), \\;\\; \\vec{w} = \\left( \\begin{array}{c}\n",
    "1 \\\\\n",
    "0 \\\\\n",
    "1\\end{array} \\right)$$"
   ]
  },
  {
   "cell_type": "code",
   "execution_count": 16,
   "metadata": {
    "slideshow": {
     "slide_type": "subslide"
    }
   },
   "outputs": [],
   "source": [
    "# using column vectors\n",
    "v = np.array([1, 3, 7])\n",
    "v.shape = (3, 1)\n",
    "w = np.array([1, 0, 1])\n",
    "w.shape = (3, 1)"
   ]
  },
  {
   "cell_type": "markdown",
   "metadata": {
    "slideshow": {
     "slide_type": "fragment"
    }
   },
   "source": [
    "$$\\vec{v} + \\vec{w} =\n",
    "\\left( \\begin{array}{c}\n",
    "1 \\\\\n",
    "3 \\\\\n",
    "7\n",
    "\\end{array} \\right) \n",
    "+ \\left( \\begin{array}{c}\n",
    "1 \\\\\n",
    "0 \\\\\n",
    "1\n",
    "\\end{array} \\right) = \n",
    "\\left( \\begin{array}{c}\n",
    "1+1 \\\\\n",
    "3+0 \\\\\n",
    "7+1\n",
    "\\end{array} \\right) = \n",
    "\\left( \\begin{array}{c}\n",
    "2 \\\\\n",
    "3 \\\\\n",
    "8\n",
    "\\end{array} \\right)\n",
    "$$"
   ]
  },
  {
   "cell_type": "code",
   "execution_count": 17,
   "metadata": {
    "slideshow": {
     "slide_type": "fragment"
    }
   },
   "outputs": [
    {
     "data": {
      "text/plain": [
       "array([[2],\n",
       "       [3],\n",
       "       [8]])"
      ]
     },
     "execution_count": 17,
     "metadata": {},
     "output_type": "execute_result"
    }
   ],
   "source": [
    "v + w"
   ]
  },
  {
   "cell_type": "markdown",
   "metadata": {
    "slideshow": {
     "slide_type": "slide"
    }
   },
   "source": [
    "Having the vectors be rows or columns will _not_ affect the operation, as long as both vectors are of the same shape."
   ]
  },
  {
   "cell_type": "code",
   "execution_count": 18,
   "metadata": {
    "slideshow": {
     "slide_type": "fragment"
    }
   },
   "outputs": [
    {
     "data": {
      "text/plain": [
       "array([2, 3, 8])"
      ]
     },
     "execution_count": 18,
     "metadata": {},
     "output_type": "execute_result"
    }
   ],
   "source": [
    "# using row vectors\n",
    "v = np.array([1, 3, 7])\n",
    "w = np.array([1, 0, 1])\n",
    "v + w"
   ]
  },
  {
   "cell_type": "markdown",
   "metadata": {
    "slideshow": {
     "slide_type": "slide"
    },
    "solution": "shown",
    "solution_first": true
   },
   "source": [
    "#### How would subtraction work?"
   ]
  },
  {
   "cell_type": "code",
   "execution_count": null,
   "metadata": {
    "solution": "shown"
   },
   "outputs": [],
   "source": []
  },
  {
   "cell_type": "markdown",
   "metadata": {
    "slideshow": {
     "slide_type": "slide"
    }
   },
   "source": [
    "### What if our vectors have different shapes?\n",
    "\n",
    "First, lets look at adding vectors with the same shape (row) but different sizes."
   ]
  },
  {
   "cell_type": "code",
   "execution_count": 19,
   "metadata": {
    "slideshow": {
     "slide_type": "fragment"
    }
   },
   "outputs": [
    {
     "data": {
      "text/plain": [
       "array([ 4,  5, 11])"
      ]
     },
     "execution_count": 19,
     "metadata": {},
     "output_type": "execute_result"
    }
   ],
   "source": [
    "v = np.array([2, 3, 9])\n",
    "w = np.array([2])\n",
    "v + w"
   ]
  },
  {
   "cell_type": "markdown",
   "metadata": {
    "slideshow": {
     "slide_type": "slide"
    }
   },
   "source": [
    "We can see that the single value in vector $w$ is added to all of the values in vetor $v$.\n",
    "\n",
    "\\begin{eqnarray}\\vec{v} + \\vec{w} \n",
    "&=&\n",
    "\\left( \\begin{array}{c}\n",
    "2&3&9\n",
    "\\end{array} \\right) + \\left( \\begin{array}{c}\n",
    "2 \n",
    "\\end{array} \\right) \\\\\n",
    "&=& \n",
    "\\left( \\begin{array}{c}\n",
    "2+2&3+2&9+2\n",
    "\\end{array} \\right) \\\\\n",
    "&=& \n",
    "\\left( \\begin{array}{c}\n",
    "4&5&11\n",
    "\\end{array} \\right)\n",
    "\\end{eqnarray}\n",
    "\n",
    "Lets see how this applies to vectors of different shapes."
   ]
  },
  {
   "cell_type": "code",
   "execution_count": 20,
   "metadata": {
    "slideshow": {
     "slide_type": "fragment"
    }
   },
   "outputs": [
    {
     "name": "stdout",
     "output_type": "stream",
     "text": [
      "(3,)\n",
      "(3, 1)\n",
      "[[ 4  5  6]\n",
      " [ 7  8  9]\n",
      " [10 11 12]]\n"
     ]
    }
   ],
   "source": [
    "v = np.array([1, 2, 3])\n",
    "print(v.shape)\n",
    "w = np.array([3, 6, 9])\n",
    "w.shape = (3, 1)\n",
    "print(w.shape)\n",
    "print(v + w)"
   ]
  },
  {
   "cell_type": "markdown",
   "metadata": {
    "slideshow": {
     "slide_type": "slide"
    }
   },
   "source": [
    "While we start with a vector of shape [1,3] and another one of shape [3,1], we end up with a matrix of shape [3,3].  How is this possible?\n",
    "\n",
    "Below we can see that the first value in vector $w$ is added to all of the values in vector $v$ to make the first row of the matrix.  This process is repeated with the second and third values of vector $w$ to create the respective second and third rows of the resulting matrix.\n",
    "\n",
    "\n",
    "\\begin{equation}\n",
    "\\vec{v} + \\vec{w} =\n",
    "\\left( \\begin{array}{c}\n",
    "1&2&3\n",
    "\\end{array} \\right)\n",
    "+ \\left( \\begin{array}{c}\n",
    "3 \\\\\n",
    "6 \\\\\n",
    "9\n",
    "\\end{array} \\right) = \n",
    "\\left( \\begin{array}{c}\n",
    "1+3&2+3&3+3 \\\\\n",
    "1+6&2+6&3+6 \\\\\n",
    "1+9&2+9&3+9\n",
    "\\end{array} \\right) = \n",
    "\\left( \\begin{array}{c}\n",
    "4&5&6 \\\\\n",
    "7&8&9 \\\\\n",
    "10&11&12\n",
    "\\end{array} \\right)\n",
    "\\end{equation}\n"
   ]
  },
  {
   "cell_type": "markdown",
   "metadata": {
    "slideshow": {
     "slide_type": "slide"
    }
   },
   "source": [
    "<a id=\"scalar-multiplication\"></a>\n",
    "### Scalar multiplication\n",
    "We scale a vector with **scalar multiplication**, multiplying a vector by a scalar (single number):\n",
    "\n",
    "$$ 2 \\left( \\begin{array}{c}\n",
    "1 \\\\\n",
    "3 \\\\\n",
    "7\n",
    "\\end{array} \\right) = \n",
    " \\left( \\begin{array}{c}\n",
    "2 \\cdot 1 \\\\\n",
    "2 \\cdot 3 \\\\\n",
    "2 \\cdot 7\n",
    "\\end{array} \\right) = \n",
    " \\left( \\begin{array}{c}\n",
    "2 \\\\\n",
    "6 \\\\\n",
    "14\n",
    "\\end{array} \\right)$$"
   ]
  },
  {
   "cell_type": "code",
   "execution_count": 21,
   "metadata": {
    "slideshow": {
     "slide_type": "fragment"
    }
   },
   "outputs": [
    {
     "data": {
      "text/plain": [
       "array([[ 2],\n",
       "       [ 6],\n",
       "       [14]])"
      ]
     },
     "execution_count": 21,
     "metadata": {},
     "output_type": "execute_result"
    }
   ],
   "source": [
    "sv = np.array([1, 3, 7])\n",
    "sv.shape = (3, 1)\n",
    "2 * sv"
   ]
  },
  {
   "cell_type": "markdown",
   "metadata": {
    "slideshow": {
     "slide_type": "slide"
    }
   },
   "source": [
    "If $\\vec{a} = \\left( \\begin{array}{c}\n",
    "2 \\\\\n",
    "1 \n",
    "\\end{array} \\right)$ and $b = 3$:\n",
    "\n",
    "$b\\cdot\\vec{a} = 3\\cdot\\left( \\begin{array}{c}\n",
    "2 \\\\\n",
    "1 \n",
    "\\end{array} \\right) \n",
    "= \\left( \\begin{array}{c}\n",
    "6 \\\\\n",
    "3 \n",
    "\\end{array} \\right)$\n",
    "\n",
    "<center>![](./assets/images/scalar_multiplication_3a.png)</center>"
   ]
  },
  {
   "cell_type": "markdown",
   "metadata": {
    "slideshow": {
     "slide_type": "slide"
    },
    "solution": "hidden"
   },
   "source": [
    "The nature of the operation remains the same for vectors with row shapes as well."
   ]
  },
  {
   "cell_type": "code",
   "execution_count": 22,
   "metadata": {
    "slideshow": {
     "slide_type": "fragment"
    },
    "solution": "hidden"
   },
   "outputs": [
    {
     "data": {
      "text/plain": [
       "array([[ 4, 10,  6]])"
      ]
     },
     "execution_count": 22,
     "metadata": {},
     "output_type": "execute_result"
    }
   ],
   "source": [
    "sv = np.array([[2, 5, 3]])\n",
    "2 * sv"
   ]
  },
  {
   "cell_type": "markdown",
   "metadata": {
    "slideshow": {
     "slide_type": "slide"
    }
   },
   "source": [
    "<a id=\"vector-norm\"></a>\n",
    "### Vector norm\n",
    "The **magnitude** of a vector with $n$ components is interpretable as its length in $n$-dimensional space, and is calculable via the Euclidean distance.\n",
    "\n",
    "For a vector\n",
    "\n",
    "$$\\vec{v} = \\left( \\begin{array}{c}\n",
    "v_{1} \\\\\n",
    "v_{2} \\\\\n",
    "\\vdots \\\\\n",
    "v_{n}\n",
    "\\end{array} \\right)$$\n",
    "\n",
    "its magnitude is given by \n",
    "\n",
    "$$\\| \\vec{v} \\| = \\sqrt{v_{1}^{2} + v_{2}^{2} + ... + v_{n}^{2}}$$"
   ]
  },
  {
   "cell_type": "markdown",
   "metadata": {
    "slideshow": {
     "slide_type": "subslide"
    }
   },
   "source": [
    "For example for the vector \n",
    "\n",
    "$$\\vec{v} = \n",
    "\\left( \\begin{array}{c}\n",
    "3 \\\\\n",
    "4\n",
    "\\end{array} \\right)$$ \n",
    "\n",
    "the magnitude is\n",
    "\n",
    "$$\\| \\vec{v} \\| = \\sqrt{3^{2} + 4^{2}} = 5$$\n",
    "\n",
    "This is also called the vector **norm**. You will see this often in machine learning in the context of _least squares_.\n",
    "\n",
    "To calculate the norm of a vector, we can use a function from numpy's linalg package."
   ]
  },
  {
   "cell_type": "code",
   "execution_count": 23,
   "metadata": {
    "slideshow": {
     "slide_type": "fragment"
    }
   },
   "outputs": [
    {
     "data": {
      "text/plain": [
       "5.0"
      ]
     },
     "execution_count": 23,
     "metadata": {},
     "output_type": "execute_result"
    }
   ],
   "source": [
    "np.linalg.norm(np.array([3, 4]))"
   ]
  },
  {
   "cell_type": "markdown",
   "metadata": {
    "slideshow": {
     "slide_type": "slide"
    }
   },
   "source": [
    "#### Independent practice  \n",
    "Use vectors $u$ and $v$ given below to calculate the following. First calculate by hand, then with numpy.  \n",
    "\n",
    "- Find the sum of vectors $u$ and $v$\n",
    "- Find the difference between $u$ and $v$\n",
    "- Find the scalar product of $u$ and `3`\n",
    "- Find the magnitude of vector $u$"
   ]
  },
  {
   "cell_type": "code",
   "execution_count": 24,
   "metadata": {},
   "outputs": [],
   "source": [
    "u = np.array([3.0, 4.0])\n",
    "v = np.array([2.0, 1.0])"
   ]
  },
  {
   "cell_type": "code",
   "execution_count": null,
   "metadata": {},
   "outputs": [],
   "source": []
  },
  {
   "cell_type": "markdown",
   "metadata": {
    "slideshow": {
     "slide_type": "subslide"
    }
   },
   "source": [
    "<a id=\"dot-product\"></a>\n",
    "### Dot product\n",
    "The **dot product**, also called **scalar product** of two $n$-dimensional vectors is:\n",
    "\n",
    "$$ \\vec{v} \\cdot \\vec{w} =\\sum _{i=1}^{n}v_{i}w_{i}=v_{1}w_{1}+v_{2}w_{2}+\\cdots +v_{n}w_{n} $$\n",
    "\n",
    "For two vectors\n",
    "\n",
    "$$\\vec{v} = \\left( \\begin{array}{c}\n",
    "1 \\\\\n",
    "3 \\\\\n",
    "7\n",
    "\\end{array} \\right), \\vec{w} \n",
    "= \\left( \\begin{array}{c}\n",
    "1 \\\\\n",
    "0 \\\\\n",
    "1\n",
    "\\end{array} \\right)$$\n",
    "\n",
    "the dot product gives \n",
    "\n",
    "$$ \\vec{v} \\cdot \\vec{w} = 1*1 + 3*0 + 7*1 = 8 $$\n",
    "\n",
    "In numpy, it is calculated in the following way:"
   ]
  },
  {
   "cell_type": "code",
   "execution_count": 25,
   "metadata": {
    "slideshow": {
     "slide_type": "fragment"
    },
    "solution": "hidden"
   },
   "outputs": [
    {
     "data": {
      "text/plain": [
       "8"
      ]
     },
     "execution_count": 25,
     "metadata": {},
     "output_type": "execute_result"
    }
   ],
   "source": [
    "v = np.array([1, 3, 7])\n",
    "w = np.array([1, 0, 1])\n",
    "v.dot(w)"
   ]
  },
  {
   "cell_type": "markdown",
   "metadata": {
    "slideshow": {
     "slide_type": "slide"
    }
   },
   "source": [
    "If the dot product between two vectors is equal to zero, they are said to be **orthogonal** to each other. Can you find vectors which are  orthogonal to each other?"
   ]
  },
  {
   "cell_type": "markdown",
   "metadata": {
    "slideshow": {
     "slide_type": "slide"
    }
   },
   "source": [
    "<a id=\"matrix-multiplication\"></a>\n",
    "### Matrix multiplication\n",
    "**Matrix multiplication**, $A_{mn} * B_{ij}$, is valid when the left matrix has the same number of columns as the right matrix has rows ($n = i$). Each entry is the dot product of corresponding row and column vectors.\n",
    "\n",
    "![](./assets/images/matrix-multiply-a.gif)\n",
    "(Image: mathisfun.com!)"
   ]
  },
  {
   "cell_type": "markdown",
   "metadata": {
    "slideshow": {
     "slide_type": "fragment"
    }
   },
   "source": [
    "$$\\left( \\begin{array}{c}\n",
    "1 & 2 & 3  \\\\\n",
    "4 & 5 & 6\n",
    "\\end{array} \\right)*\n",
    "\\left( \\begin{array}{c}\n",
    "7 & 8 \\\\\n",
    "9 & 10 \\\\\n",
    "11 & 12 \n",
    "\\end{array} \\right) = \n",
    "\\left( \\begin{array}{c}\n",
    "1*7 + 2*9 + 3*11 & ... \\\\\n",
    "... & ... \\\\\n",
    "\\end{array} \\right)\n",
    "= \n",
    "\\left( \\begin{array}{c}\n",
    "58 & 64 \\\\\n",
    "139 & 154 \\\\\n",
    "\\end{array} \\right)\n",
    "$$"
   ]
  },
  {
   "cell_type": "code",
   "execution_count": 26,
   "metadata": {
    "slideshow": {
     "slide_type": "fragment"
    }
   },
   "outputs": [
    {
     "data": {
      "text/plain": [
       "array([[ 58,  64],\n",
       "       [139, 154]])"
      ]
     },
     "execution_count": 26,
     "metadata": {},
     "output_type": "execute_result"
    }
   ],
   "source": [
    "A = np.array([[1, 2, 3], [4, 5, 6]])\n",
    "B = np.array([[7, 8], [9, 10], [11, 12]])\n",
    "A.dot(B)"
   ]
  },
  {
   "cell_type": "markdown",
   "metadata": {
    "slideshow": {
     "slide_type": "slide"
    }
   },
   "source": [
    "<a id=\"the-identity-matrix\"></a>\n",
    "### The identity matrix\n",
    "The **identity matrix** $\\mathbb{1}$ is the quadratic matrix where $\\mathbb{1} A = A$. This is like multiplying a number by 1 resulting in no change.\n",
    "\n",
    "$$ \\mathbb{1} \\cdot \\left( \\begin{array}{c}\n",
    "A_{11} & A_{12} \\\\\n",
    "A_{21} & A_{22} \n",
    "\\end{array} \\right)\n",
    "= \\left( \\begin{array}{c}\n",
    "A_{11} & A_{12} \\\\\n",
    "A_{21} & A_{22} \n",
    "\\end{array} \\right)$$\n",
    "\n",
    "E.g.:\n",
    "\n",
    "$$ \\left( \\begin{array}{c}\n",
    "1 & 0 \\\\\n",
    "0 & 1 \n",
    "\\end{array} \\right)\n",
    "\\cdot \\left( \\begin{array}{c}\n",
    "3 & 4 \\\\\n",
    "5 & 6 \n",
    "\\end{array} \\right)\n",
    "= \\left( \\begin{array}{c}\n",
    "(1 \\cdot 3 + 0 \\cdot 5) & (1 \\cdot 4 + 0 \\cdot 6) \\\\\n",
    "(0 \\cdot 3 + 1 \\cdot 5) & (0 \\cdot 4 + 1 \\cdot 6) \n",
    "\\end{array} \\right)\n",
    "=\n",
    "\\left( \\begin{array}{c}\n",
    "3 & 4 \\\\\n",
    "5 & 6 \n",
    "\\end{array} \\right)$$\n",
    "\n",
    "In numpy, the identity matrix of the required shape is obtained by (replace $n$ with the value you desire)"
   ]
  },
  {
   "cell_type": "code",
   "execution_count": 27,
   "metadata": {
    "slideshow": {
     "slide_type": "fragment"
    },
    "solution": "hidden"
   },
   "outputs": [
    {
     "data": {
      "text/plain": [
       "array([[1., 0., 0.],\n",
       "       [0., 1., 0.],\n",
       "       [0., 0., 1.]])"
      ]
     },
     "execution_count": 27,
     "metadata": {},
     "output_type": "execute_result"
    }
   ],
   "source": [
    "n = 3\n",
    "np.eye(n)"
   ]
  },
  {
   "cell_type": "markdown",
   "metadata": {
    "slideshow": {
     "slide_type": "slide"
    },
    "solution": "shown",
    "solution_first": true
   },
   "source": [
    "### Independent Practice\n",
    "Calculate the dot product of the below matrices by hand and then check your results using numpy.\n",
    "\n",
    "\n",
    "$$ \\left( \\begin{array}{c}\n",
    "1&2&3 \\\\\n",
    "4&5&6\n",
    "\\end{array} \\right) \\cdot \n",
    "\\left( \\begin{array}{c}\n",
    "1&2 \\\\\n",
    "3&4 \\\\\n",
    "5&6\n",
    "\\end{array} \\right)$$"
   ]
  },
  {
   "cell_type": "code",
   "execution_count": null,
   "metadata": {},
   "outputs": [],
   "source": []
  },
  {
   "cell_type": "markdown",
   "metadata": {
    "slideshow": {
     "slide_type": "slide"
    },
    "solution": "shown"
   },
   "source": [
    "<a id=\"the-transposed-matrix\"></a>\n",
    "\n",
    "### The transposed matrix\n",
    "\n",
    "Another useful matrix operation is transposition which transforms an $m\\times n$ matrix $A$ into an $n\\times m$-matrix $A^T$, its transpose.\n",
    "\n",
    "The transpose of the matrix $A$ is obtained by exchanging row and column indices of the original matrix. \n",
    "For example the transpose of \n",
    "\n",
    "$$\n",
    "A =\n",
    "\\left(\n",
    "\\begin{array}{ccc} \n",
    "2 & 1 & 0\\\\\n",
    "-2& 3 & 4\\\\\n",
    " 1& 0 & 2\n",
    "\\end{array}\n",
    "\\right)\n",
    "$$\n",
    "\n",
    "is\n",
    "\n",
    "$$\n",
    "A^T =\n",
    "\\left(\n",
    "\\begin{array}{ccc} \n",
    "2 & -2 & 1\\\\\n",
    "1 &  3 & 0\\\\\n",
    "0 &  4 & 2\n",
    "\\end{array}\n",
    "\\right)\n",
    "$$"
   ]
  },
  {
   "cell_type": "markdown",
   "metadata": {
    "slideshow": {
     "slide_type": "slide"
    }
   },
   "source": [
    "In numpy, the transpose is calculated easily:"
   ]
  },
  {
   "cell_type": "code",
   "execution_count": 28,
   "metadata": {
    "slideshow": {
     "slide_type": "fragment"
    },
    "solution": "hidden"
   },
   "outputs": [
    {
     "data": {
      "text/plain": [
       "array([[ 2, -2,  1],\n",
       "       [ 1,  3,  0],\n",
       "       [ 0,  4,  2]])"
      ]
     },
     "execution_count": 28,
     "metadata": {},
     "output_type": "execute_result"
    }
   ],
   "source": [
    "C = np.array([[2, 1, 0], [-2, 3, 4], [1, 0, 2]])\n",
    "C.T"
   ]
  },
  {
   "cell_type": "markdown",
   "metadata": {},
   "source": [
    "Transposing twice gives the original matrix:"
   ]
  },
  {
   "cell_type": "code",
   "execution_count": 29,
   "metadata": {
    "slideshow": {
     "slide_type": "fragment"
    }
   },
   "outputs": [
    {
     "data": {
      "text/plain": [
       "array([[ 2,  1,  0],\n",
       "       [-2,  3,  4],\n",
       "       [ 1,  0,  2]])"
      ]
     },
     "execution_count": 29,
     "metadata": {},
     "output_type": "execute_result"
    }
   ],
   "source": [
    "C.T.T"
   ]
  },
  {
   "cell_type": "markdown",
   "metadata": {
    "slideshow": {
     "slide_type": "slide"
    }
   },
   "source": [
    "<a id=\"the-inverse-matrix\"></a>\n",
    "### The inverse matrix\n",
    "\n",
    "The inverse of a matrix A denoted as $A^{-1}$ is the matrix whose matrix product with the original matrix gives the identity matrix,\n",
    "\n",
    "$$A^{-1}\\cdot A = {\\mathbb 1}\\ .$$\n",
    "\n",
    "It is obtained with `np.linalg.inv()`.\n",
    "\n",
    "**Note:** The inverse matrix can only exist for quadratic matrices, but it does not exist for all of them.\n",
    "\n",
    "If it exists, the inverse matrix can be calculated with the command below, otherwise an error is thrown."
   ]
  },
  {
   "cell_type": "code",
   "execution_count": 30,
   "metadata": {
    "slideshow": {
     "slide_type": "fragment"
    }
   },
   "outputs": [
    {
     "data": {
      "text/plain": [
       "array([[ 2,  1,  0],\n",
       "       [-2,  3,  4],\n",
       "       [ 1,  0,  2]])"
      ]
     },
     "execution_count": 30,
     "metadata": {},
     "output_type": "execute_result"
    }
   ],
   "source": [
    "C"
   ]
  },
  {
   "cell_type": "code",
   "execution_count": 31,
   "metadata": {
    "slideshow": {
     "slide_type": "fragment"
    }
   },
   "outputs": [
    {
     "data": {
      "text/plain": [
       "array([[ 0.3 , -0.1 ,  0.2 ],\n",
       "       [ 0.4 ,  0.2 , -0.4 ],\n",
       "       [-0.15,  0.05,  0.4 ]])"
      ]
     },
     "execution_count": 31,
     "metadata": {},
     "output_type": "execute_result"
    }
   ],
   "source": [
    "np.linalg.inv(C)"
   ]
  },
  {
   "cell_type": "markdown",
   "metadata": {
    "slideshow": {
     "slide_type": "slide"
    }
   },
   "source": [
    "Verify that this is the inverse:"
   ]
  },
  {
   "cell_type": "code",
   "execution_count": 32,
   "metadata": {
    "slideshow": {
     "slide_type": "fragment"
    }
   },
   "outputs": [
    {
     "data": {
      "text/plain": [
       "array([[ 1., -0.,  0.],\n",
       "       [ 0.,  1.,  0.],\n",
       "       [ 0.,  0.,  1.]])"
      ]
     },
     "execution_count": 32,
     "metadata": {},
     "output_type": "execute_result"
    }
   ],
   "source": [
    "np.round(np.linalg.inv(C).dot(C))"
   ]
  },
  {
   "cell_type": "markdown",
   "metadata": {
    "slideshow": {
     "slide_type": "fragment"
    }
   },
   "source": [
    "Asserting equality of two matrices to numerical precision can be verified with"
   ]
  },
  {
   "cell_type": "code",
   "execution_count": 33,
   "metadata": {
    "slideshow": {
     "slide_type": "fragment"
    }
   },
   "outputs": [
    {
     "data": {
      "text/plain": [
       "True"
      ]
     },
     "execution_count": 33,
     "metadata": {},
     "output_type": "execute_result"
    }
   ],
   "source": [
    "np.allclose(np.linalg.inv(C).dot(C), np.eye(3))"
   ]
  },
  {
   "cell_type": "markdown",
   "metadata": {
    "slideshow": {
     "slide_type": "slide"
    },
    "solution": "hidden"
   },
   "source": [
    "<a id=\"applications-to-machine-learning\"></a>\n",
    "## Applications to machine learning\n",
    "---\n",
    "\n",
    "<a id=\"distance-between-actual-values-and-predicted-values\"></a>\n",
    "\n",
    "### Distance between actual values and predicted values\n",
    "We often need to know the difference between predicted values and actual values.\n",
    "We calculate this as:\n",
    "\n",
    "$$\\| \\vec{\\rm actual} - \\vec{\\rm predicted} \\| =\\sqrt{({\\rm actual}_1 - {\\rm predicted}_1)^2 + ({\\rm actual}_2 - {\\rm predicted}_2)^2}$$\n",
    "\n",
    "<a id=\"least-squares\"></a>\n",
    "\n",
    "### Least squares\n",
    "Many machine learning models are composed in the following form:\n",
    "\n",
    "$$\\min \\| \\vec{y} - f(X) \\|$$\n",
    "\n",
    "The goal is to minimize the distance between model predictions and actual data."
   ]
  },
  {
   "cell_type": "markdown",
   "metadata": {
    "slideshow": {
     "slide_type": "slide"
    }
   },
   "source": [
    "<a id=\"independent-practice\"></a>\n",
    "## Independent practice\n",
    "---\n",
    "\n",
    "Review the numpy operations and try out their examples [here]( http://docs.scipy.org/doc/numpy/reference/routines.linalg.html)."
   ]
  },
  {
   "cell_type": "markdown",
   "metadata": {
    "slideshow": {
     "slide_type": "slide"
    },
    "solution": "hidden"
   },
   "source": [
    "<a id=\"additional-resources\"></a>\n",
    "## Additional resources\n",
    "---\n",
    "\n",
    "+ For a surprisingly comprehensive (yet dense!) review, be sure to check out [Linear algebra in four pages](http://www-bcf.usc.edu/~lototsky/MATH408/LinAlg1.pdf)\n",
    "+ This [deck](http://cseweb.ucsd.edu/classes/wi05/cse252a/linear_algebra_review.pdf) provides great insight into linear operations and advanced geometric topics\n",
    "+ Stanford's Review and Reference [26-page](http://cs229.stanford.edu/section/cs229-linalg.pdf) guide provides a nice review\n",
    "+ Spend some time on [Khan Academy](https://www.khanacademy.org/math/linear-algebra/matrix-transformations#concept-intro)!"
   ]
  }
 ],
 "metadata": {
  "kernelspec": {
   "display_name": "Python [conda env:anaconda3]",
   "language": "python",
   "name": "conda-env-anaconda3-py"
  },
  "language_info": {
   "codemirror_mode": {
    "name": "ipython",
    "version": 3
   },
   "file_extension": ".py",
   "mimetype": "text/x-python",
   "name": "python",
   "nbconvert_exporter": "python",
   "pygments_lexer": "ipython3",
   "version": "3.6.4"
  },
  "toc": {
   "nav_menu": {
    "height": "110px",
    "width": "168px"
   },
   "number_sections": false,
   "sideBar": true,
   "skip_h1_title": true,
   "title_cell": "Table of Contents",
   "title_sidebar": "Contents",
   "toc_cell": false,
   "toc_position": {
    "height": "422px",
    "left": "0px",
    "right": "886.8px",
    "top": "137px",
    "width": "100px"
   },
   "toc_section_display": "block",
   "toc_window_display": false
  }
 },
 "nbformat": 4,
 "nbformat_minor": 1
}
