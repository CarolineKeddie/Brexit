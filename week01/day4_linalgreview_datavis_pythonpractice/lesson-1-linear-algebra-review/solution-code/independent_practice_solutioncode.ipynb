{
 "cells": [
  {
   "cell_type": "markdown",
   "metadata": {},
   "source": [
    "<img src=\"http://imgur.com/1ZcRyrc.png\" style=\"float: left; margin: 20px; height: 55px\">\n",
    "\n",
    "# Independent practice solution\n",
    "\n",
    "---"
   ]
  },
  {
   "cell_type": "code",
   "execution_count": 1,
   "metadata": {},
   "outputs": [],
   "source": [
    "import numpy as np"
   ]
  },
  {
   "cell_type": "markdown",
   "metadata": {},
   "source": [
    "### Use vectors $u$ and $v$ given below to calculate the following. First calculate by hand, then with numpy.  \n",
    "\n",
    "- Find the sum of vectors $u$ and $v$\n",
    "- Find the difference between $u$ and $v$\n",
    "- Find the scalar product of $u$ and `3`\n",
    "- Find the magnitude of vector $u$"
   ]
  },
  {
   "cell_type": "code",
   "execution_count": 2,
   "metadata": {},
   "outputs": [],
   "source": [
    "u = np.array([3.0, 4.0])\n",
    "v = np.array([2.0, 1.0])"
   ]
  },
  {
   "cell_type": "code",
   "execution_count": 3,
   "metadata": {},
   "outputs": [
    {
     "name": "stdout",
     "output_type": "stream",
     "text": [
      "[5. 5.]\n",
      "[1. 3.]\n",
      "[ 9. 12.]\n"
     ]
    },
    {
     "data": {
      "text/plain": [
       "5.0"
      ]
     },
     "execution_count": 3,
     "metadata": {},
     "output_type": "execute_result"
    }
   ],
   "source": [
    "print(u + v)           # Find sum of vectors u and v\n",
    "print(u - v)           # Find vectors v subtracted from u\n",
    "print(u * 3)          # Find u multiplied times some scalar, e.g. 3\n",
    "np.linalg.norm(u)  # Find magnitude of vector u"
   ]
  },
  {
   "cell_type": "markdown",
   "metadata": {},
   "source": [
    "### Calculate the dot product of the below matrices by hand and then check your results using numpy.\n",
    "\n",
    "\n",
    "$$ \\left( \\begin{array}{c}\n",
    "1&2&3 \\\\\n",
    "4&5&6\n",
    "\\end{array} \\right) \\cdot \n",
    "\\left( \\begin{array}{c}\n",
    "1&2 \\\\\n",
    "3&4 \\\\\n",
    "5&6\n",
    "\\end{array} \\right)$$"
   ]
  },
  {
   "cell_type": "code",
   "execution_count": 4,
   "metadata": {},
   "outputs": [
    {
     "name": "stdout",
     "output_type": "stream",
     "text": [
      "[[22 28]\n",
      " [49 64]]\n"
     ]
    }
   ],
   "source": [
    "# Create 2 x 3 matrix A, of type array\n",
    "A = np.array([[1, 2, 3], [4, 5, 6]]) \n",
    "# Create 3 x 2 matrix B, of type array\n",
    "B = np.array([[1, 2], [3, 4], [5,6]]) \n",
    "\n",
    "print(np.dot(A,B)) # Calculate A x B"
   ]
  },
  {
   "cell_type": "code",
   "execution_count": 5,
   "metadata": {},
   "outputs": [
    {
     "name": "stdout",
     "output_type": "stream",
     "text": [
      "[[22 28]\n",
      " [49 64]]\n"
     ]
    }
   ],
   "source": [
    "A = np.arange(1,7).reshape(2,3) # Equivalently\n",
    "B = np.arange(1,7).reshape(3,2)\n",
    "print(np.dot(A,B))"
   ]
  },
  {
   "cell_type": "code",
   "execution_count": null,
   "metadata": {},
   "outputs": [],
   "source": []
  }
 ],
 "metadata": {
  "kernelspec": {
   "display_name": "Python [conda env:anaconda3]",
   "language": "python",
   "name": "conda-env-anaconda3-py"
  },
  "language_info": {
   "codemirror_mode": {
    "name": "ipython",
    "version": 3
   },
   "file_extension": ".py",
   "mimetype": "text/x-python",
   "name": "python",
   "nbconvert_exporter": "python",
   "pygments_lexer": "ipython3",
   "version": "3.6.4"
  },
  "toc": {
   "nav_menu": {},
   "number_sections": false,
   "sideBar": true,
   "skip_h1_title": true,
   "title_cell": "Table of Contents",
   "title_sidebar": "Contents",
   "toc_cell": false,
   "toc_position": {},
   "toc_section_display": "block",
   "toc_window_display": false
  }
 },
 "nbformat": 4,
 "nbformat_minor": 2
}
