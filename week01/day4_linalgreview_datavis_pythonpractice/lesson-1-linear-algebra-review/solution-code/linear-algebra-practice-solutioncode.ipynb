{
 "cells": [
  {
   "cell_type": "markdown",
   "metadata": {},
   "source": [
    "<img src=\"http://imgur.com/1ZcRyrc.png\" style=\"float: left; margin: 20px; height: 55px\">\n",
    "\n",
    "# Linear algebra practice\n",
    "\n",
    "---"
   ]
  },
  {
   "cell_type": "code",
   "execution_count": 1,
   "metadata": {},
   "outputs": [],
   "source": [
    "import numpy as np"
   ]
  },
  {
   "cell_type": "markdown",
   "metadata": {},
   "source": [
    "#### 1. Transform the following two vectors into numpy arrays."
   ]
  },
  {
   "cell_type": "code",
   "execution_count": 2,
   "metadata": {},
   "outputs": [],
   "source": [
    "vec_1 = [2, 4, 1]\n",
    "vec_2 = [1, 3, 0]"
   ]
  },
  {
   "cell_type": "code",
   "execution_count": 3,
   "metadata": {},
   "outputs": [],
   "source": [
    "vec_1 = np.array(vec_1)\n",
    "vec_2 = np.array(vec_2)"
   ]
  },
  {
   "cell_type": "markdown",
   "metadata": {},
   "source": [
    "#### 2. For the two vectors, calculate\n",
    "    \n",
    "- $3 \\cdot {\\rm vec}_1 + 2\\cdot {\\rm vec}_2$\n",
    "- $-0.5\\cdot {\\rm vec}_1 + 3\\cdot {\\rm vec}_2$ \n",
    "- the scalar product \n",
    "- the magnitude of each vector"
   ]
  },
  {
   "cell_type": "code",
   "execution_count": 4,
   "metadata": {},
   "outputs": [
    {
     "name": "stdout",
     "output_type": "stream",
     "text": [
      "[ 8 18  3]\n",
      "[ 2.   7.  -0.5]\n",
      "14\n",
      "4.58257569495584\n",
      "3.1622776601683795\n"
     ]
    }
   ],
   "source": [
    "print(3*vec_1+2*vec_2)\n",
    "print(-0.5*vec_1+3*vec_2)\n",
    "print(vec_1.dot(vec_2))\n",
    "print(np.linalg.norm(vec_1))\n",
    "print(np.linalg.norm(vec_2))"
   ]
  },
  {
   "cell_type": "markdown",
   "metadata": {},
   "source": [
    "#### 3. Transform the following lists into numpy matrices."
   ]
  },
  {
   "cell_type": "code",
   "execution_count": 5,
   "metadata": {},
   "outputs": [],
   "source": [
    "A = [[2,1],[-2,3]]\n",
    "B = [[1,3,4],[0,1,2],[1,0,0]]\n",
    "C = [[2,3,0],[0,1,4],[1,0,1]]"
   ]
  },
  {
   "cell_type": "code",
   "execution_count": 6,
   "metadata": {},
   "outputs": [],
   "source": [
    "A = np.array(A)\n",
    "B = np.array(B)\n",
    "C = np.array(C)"
   ]
  },
  {
   "cell_type": "markdown",
   "metadata": {},
   "source": [
    "#### 4. Extract the row and column vectors from A."
   ]
  },
  {
   "cell_type": "code",
   "execution_count": 7,
   "metadata": {},
   "outputs": [
    {
     "data": {
      "text/plain": [
       "(array([2, 1]), array([-2,  3]))"
      ]
     },
     "execution_count": 7,
     "metadata": {},
     "output_type": "execute_result"
    }
   ],
   "source": [
    "A[0,:], A[1,:]"
   ]
  },
  {
   "cell_type": "code",
   "execution_count": 8,
   "metadata": {},
   "outputs": [
    {
     "data": {
      "text/plain": [
       "(array([ 2, -2]), array([1, 3]))"
      ]
     },
     "execution_count": 8,
     "metadata": {},
     "output_type": "execute_result"
    }
   ],
   "source": [
    "A[:,0], A[:,1]"
   ]
  },
  {
   "cell_type": "code",
   "execution_count": 9,
   "metadata": {},
   "outputs": [
    {
     "data": {
      "text/plain": [
       "2"
      ]
     },
     "execution_count": 9,
     "metadata": {},
     "output_type": "execute_result"
    }
   ],
   "source": [
    "len(A)"
   ]
  },
  {
   "cell_type": "code",
   "execution_count": 10,
   "metadata": {},
   "outputs": [
    {
     "data": {
      "text/plain": [
       "[0, 1]"
      ]
     },
     "execution_count": 10,
     "metadata": {},
     "output_type": "execute_result"
    }
   ],
   "source": [
    "list(range(A.shape[1]))"
   ]
  },
  {
   "cell_type": "code",
   "execution_count": 11,
   "metadata": {},
   "outputs": [
    {
     "name": "stdout",
     "output_type": "stream",
     "text": [
      "[[ 2  1]\n",
      " [-2  3]]\n"
     ]
    }
   ],
   "source": [
    "print(A)"
   ]
  },
  {
   "cell_type": "code",
   "execution_count": 12,
   "metadata": {},
   "outputs": [
    {
     "data": {
      "text/plain": [
       "[array([ 2, -2]), array([1, 3])]"
      ]
     },
     "execution_count": 12,
     "metadata": {},
     "output_type": "execute_result"
    }
   ],
   "source": [
    "[A[:,i] for i in range(A.shape[1])]"
   ]
  },
  {
   "cell_type": "code",
   "execution_count": 13,
   "metadata": {},
   "outputs": [
    {
     "data": {
      "text/plain": [
       "[array([ 2, -2]), array([1, 3])]"
      ]
     },
     "execution_count": 13,
     "metadata": {},
     "output_type": "execute_result"
    }
   ],
   "source": [
    "list(A.T)"
   ]
  },
  {
   "cell_type": "markdown",
   "metadata": {},
   "source": [
    "#### 5. Form the matrix products $B\\cdot C$ and $C\\cdot B$. Compare!"
   ]
  },
  {
   "cell_type": "code",
   "execution_count": 14,
   "metadata": {},
   "outputs": [
    {
     "name": "stdout",
     "output_type": "stream",
     "text": [
      "[[ 6  6 16]\n",
      " [ 2  1  6]\n",
      " [ 2  3  0]]\n",
      "[[ 2  9 14]\n",
      " [ 4  1  2]\n",
      " [ 2  3  4]]\n"
     ]
    }
   ],
   "source": [
    "print(B.dot(C)) \n",
    "print(C.dot(B))"
   ]
  },
  {
   "cell_type": "markdown",
   "metadata": {},
   "source": [
    "#### 6. Form the dot products $B\\cdot {\\rm vec}_1$ and ${\\rm vec}_1\\cdot B$. Compare!"
   ]
  },
  {
   "cell_type": "code",
   "execution_count": 15,
   "metadata": {},
   "outputs": [
    {
     "name": "stdout",
     "output_type": "stream",
     "text": [
      "[18  6  2]\n",
      "[ 3 10 16]\n"
     ]
    }
   ],
   "source": [
    "print(B.dot(vec_1))\n",
    "print(vec_1.dot(B))"
   ]
  },
  {
   "cell_type": "markdown",
   "metadata": {},
   "source": [
    "#### 7. Obtain the transpose of the matrices $A$, $B$, $C$."
   ]
  },
  {
   "cell_type": "code",
   "execution_count": 16,
   "metadata": {},
   "outputs": [
    {
     "name": "stdout",
     "output_type": "stream",
     "text": [
      "[[ 2 -2]\n",
      " [ 1  3]]\n",
      "[[1 0 1]\n",
      " [3 1 0]\n",
      " [4 2 0]]\n",
      "[[2 0 1]\n",
      " [3 1 0]\n",
      " [0 4 1]]\n"
     ]
    }
   ],
   "source": [
    "print(A.T)\n",
    "print(B.T)\n",
    "print(C.T)"
   ]
  },
  {
   "cell_type": "markdown",
   "metadata": {},
   "source": [
    "#### 8. Form the matrix product $A^T \\cdot A$ and $A\\cdot A^T$. Compare! Repeat for the matrices $B$ and $C$. Do you notice anything special about the resulting matrices?"
   ]
  },
  {
   "cell_type": "code",
   "execution_count": 17,
   "metadata": {},
   "outputs": [
    {
     "name": "stdout",
     "output_type": "stream",
     "text": [
      "[[ 8 -4]\n",
      " [-4 10]]\n",
      "[[ 5 -1]\n",
      " [-1 13]]\n",
      "[[ 2  3  4]\n",
      " [ 3 10 14]\n",
      " [ 4 14 20]]\n",
      "[[26 11  1]\n",
      " [11  5  0]\n",
      " [ 1  0  1]]\n",
      "[[ 5  6  1]\n",
      " [ 6 10  4]\n",
      " [ 1  4 17]]\n",
      "[[13  3  2]\n",
      " [ 3 17  4]\n",
      " [ 2  4  2]]\n"
     ]
    }
   ],
   "source": [
    "print(A.T.dot(A))\n",
    "print(A.dot(A.T))\n",
    "print(B.T.dot(B))\n",
    "print(B.dot(B.T))\n",
    "print(C.T.dot(C))\n",
    "print(C.dot(C.T))"
   ]
  },
  {
   "cell_type": "markdown",
   "metadata": {},
   "source": [
    "#### 9. Calculate the inverse matrices of $A$, $B$ and $C$ if possible. Check that the found matrices are indeed the inverses by taking the matrix product with the original matrices."
   ]
  },
  {
   "cell_type": "code",
   "execution_count": 18,
   "metadata": {},
   "outputs": [
    {
     "name": "stdout",
     "output_type": "stream",
     "text": [
      "[[ 0.375 -0.125]\n",
      " [ 0.25   0.25 ]]\n",
      "[[ 0.00000000e+00  2.22044605e-16  1.00000000e+00]\n",
      " [ 1.00000000e+00 -2.00000000e+00 -1.00000000e+00]\n",
      " [-5.00000000e-01  1.50000000e+00  5.00000000e-01]]\n",
      "[[ 0.07142857 -0.21428571  0.85714286]\n",
      " [ 0.28571429  0.14285714 -0.57142857]\n",
      " [-0.07142857  0.21428571  0.14285714]]\n"
     ]
    }
   ],
   "source": [
    "print(np.linalg.inv(A))\n",
    "print(np.linalg.inv(B))\n",
    "print(np.linalg.inv(C))"
   ]
  },
  {
   "cell_type": "code",
   "execution_count": 19,
   "metadata": {},
   "outputs": [
    {
     "name": "stdout",
     "output_type": "stream",
     "text": [
      "[[1. 0.]\n",
      " [0. 1.]]\n",
      "[[1.00000000e+00 2.22044605e-16 4.44089210e-16]\n",
      " [0.00000000e+00 1.00000000e+00 4.44089210e-16]\n",
      " [0.00000000e+00 0.00000000e+00 1.00000000e+00]]\n",
      "[[ 1.00000000e+00 -1.66533454e-16  1.11022302e-16]\n",
      " [ 0.00000000e+00  1.00000000e+00 -1.11022302e-16]\n",
      " [ 0.00000000e+00  0.00000000e+00  1.00000000e+00]]\n"
     ]
    }
   ],
   "source": [
    "print(np.linalg.inv(A).dot(A))\n",
    "print(np.linalg.inv(B).dot(B))\n",
    "print(np.linalg.inv(C).dot(C))"
   ]
  },
  {
   "cell_type": "code",
   "execution_count": 20,
   "metadata": {},
   "outputs": [
    {
     "name": "stdout",
     "output_type": "stream",
     "text": [
      "True\n",
      "True\n",
      "True\n"
     ]
    }
   ],
   "source": [
    "print(np.allclose(np.linalg.inv(A).dot(A),np.eye(len(A))))\n",
    "print(np.allclose(np.linalg.inv(B).dot(B),np.eye(len(B))))\n",
    "print(np.allclose(np.linalg.inv(C).dot(C),np.eye(len(C))))"
   ]
  },
  {
   "cell_type": "markdown",
   "metadata": {},
   "source": [
    "#### 10. Solve the system of equations\n",
    "\n",
    "$$\n",
    "\\begin{eqnarray}\n",
    "2\\, x_1 + 1\\, x_2 &=& 3\\\\\n",
    "-2\\, x_1 + 3\\, x_2 &=& 1\n",
    "\\end{eqnarray}$$\n",
    "\n",
    "Note that this system of equations can be written as\n",
    "\n",
    "$$\n",
    "\\left(\n",
    "\\begin{array}{cc}\n",
    "2&1\\\\\n",
    "-2&3\n",
    "\\end{array}\n",
    "\\right)\n",
    "\\left(\n",
    "\\begin{array}{c}\n",
    "x_1\\\\\n",
    "x_2 \n",
    "\\end{array}\n",
    "\\right)\n",
    "=\n",
    "\\left(\n",
    "\\begin{array}{c}\n",
    "3\\\\\n",
    "1 \n",
    "\\end{array}\n",
    "\\right)\n",
    "$$\n",
    "\n",
    "Find out how to use the command `np.linalg.solve` to solve this system of equations."
   ]
  },
  {
   "cell_type": "code",
   "execution_count": 21,
   "metadata": {},
   "outputs": [
    {
     "data": {
      "text/plain": [
       "array([1., 1.])"
      ]
     },
     "execution_count": 21,
     "metadata": {},
     "output_type": "execute_result"
    }
   ],
   "source": [
    "b = np.array([3,1])\n",
    "np.linalg.solve(A,b)"
   ]
  },
  {
   "cell_type": "markdown",
   "metadata": {},
   "source": [
    "#### 11. Check that the same result can be obtained by calculating\n",
    "\n",
    "$$\n",
    "\\left(\n",
    "\\begin{array}{cc}\n",
    "2&1\\\\\n",
    "-2&3\n",
    "\\end{array}\n",
    "\\right)^{-1}\n",
    "\\left(\n",
    "\\begin{array}{c}\n",
    "3\\\\\n",
    "1 \n",
    "\\end{array}\n",
    "\\right)\n",
    "$$"
   ]
  },
  {
   "cell_type": "code",
   "execution_count": 22,
   "metadata": {},
   "outputs": [
    {
     "data": {
      "text/plain": [
       "array([1., 1.])"
      ]
     },
     "execution_count": 22,
     "metadata": {},
     "output_type": "execute_result"
    }
   ],
   "source": [
    "np.linalg.inv(A).dot(b)"
   ]
  },
  {
   "cell_type": "markdown",
   "metadata": {},
   "source": [
    "### In the following exercises, work purely with python lists to create your own functions which do the same as the numpy functions. Verify your results with the examples from above."
   ]
  },
  {
   "cell_type": "code",
   "execution_count": 23,
   "metadata": {},
   "outputs": [],
   "source": [
    "vec_1 = [2, 4, 1]\n",
    "vec_2 = [1, 3, 0]\n",
    "A = [[2,1],[-2,3]]\n",
    "B = [[1,3,4],[0,1,2],[1,0,0]]\n",
    "C = [[2,3,0],[0,1,4],[1,0,1]]"
   ]
  },
  {
   "cell_type": "markdown",
   "metadata": {},
   "source": [
    "#### 12. Write a function that adds two vectors to each other"
   ]
  },
  {
   "cell_type": "code",
   "execution_count": 24,
   "metadata": {},
   "outputs": [],
   "source": [
    "def vec_add(vec_1,vec_2):\n",
    "    vec_sum = [sum(comp) for comp in zip(vec_1,vec_2)]\n",
    "    return vec_sum"
   ]
  },
  {
   "cell_type": "code",
   "execution_count": 25,
   "metadata": {},
   "outputs": [
    {
     "data": {
      "text/plain": [
       "[3, 7, 1]"
      ]
     },
     "execution_count": 25,
     "metadata": {},
     "output_type": "execute_result"
    }
   ],
   "source": [
    "vec_add(vec_1,vec_2)"
   ]
  },
  {
   "cell_type": "markdown",
   "metadata": {},
   "source": [
    "#### 13. Write a function that subtracts two vectors from each other"
   ]
  },
  {
   "cell_type": "code",
   "execution_count": 26,
   "metadata": {},
   "outputs": [],
   "source": [
    "def vec_sub(vec_1,vec_2):\n",
    "    vec_sub = [(comp[0]-comp[1]) for comp in zip(vec_1,vec_2)]\n",
    "    return vec_sub"
   ]
  },
  {
   "cell_type": "code",
   "execution_count": 27,
   "metadata": {},
   "outputs": [
    {
     "data": {
      "text/plain": [
       "[1, 1, 1]"
      ]
     },
     "execution_count": 27,
     "metadata": {},
     "output_type": "execute_result"
    }
   ],
   "source": [
    "vec_sub(vec_1,vec_2)"
   ]
  },
  {
   "cell_type": "markdown",
   "metadata": {},
   "source": [
    "#### 14. Write a function that multiplies a vector by a number"
   ]
  },
  {
   "cell_type": "code",
   "execution_count": 28,
   "metadata": {},
   "outputs": [],
   "source": [
    "def vec_mult(vec,mult=1):\n",
    "    return [mult*v for v in vec]"
   ]
  },
  {
   "cell_type": "code",
   "execution_count": 29,
   "metadata": {},
   "outputs": [
    {
     "data": {
      "text/plain": [
       "[6, 12, 3]"
      ]
     },
     "execution_count": 29,
     "metadata": {},
     "output_type": "execute_result"
    }
   ],
   "source": [
    "vec_mult(vec_1,3)"
   ]
  },
  {
   "cell_type": "markdown",
   "metadata": {},
   "source": [
    "#### 15. Write a function that calculates the length of a vector"
   ]
  },
  {
   "cell_type": "code",
   "execution_count": 30,
   "metadata": {},
   "outputs": [],
   "source": [
    "def vec_len(vec):\n",
    "    vec_len = sum(comp**2 for comp in vec)**0.5\n",
    "    return vec_len"
   ]
  },
  {
   "cell_type": "code",
   "execution_count": 31,
   "metadata": {},
   "outputs": [
    {
     "data": {
      "text/plain": [
       "3.1622776601683795"
      ]
     },
     "execution_count": 31,
     "metadata": {},
     "output_type": "execute_result"
    }
   ],
   "source": [
    "vec_len(vec_2)"
   ]
  },
  {
   "cell_type": "markdown",
   "metadata": {},
   "source": [
    "#### 16. Write a function that calculates the scalar product of two vectors"
   ]
  },
  {
   "cell_type": "code",
   "execution_count": 32,
   "metadata": {},
   "outputs": [],
   "source": [
    "def vec_dot(vec_1,vec_2):\n",
    "    vec_dot = sum((comp[0]*comp[1]) for comp in zip(vec_1,vec_2))\n",
    "    return vec_dot"
   ]
  },
  {
   "cell_type": "code",
   "execution_count": 33,
   "metadata": {},
   "outputs": [
    {
     "data": {
      "text/plain": [
       "14"
      ]
     },
     "execution_count": 33,
     "metadata": {},
     "output_type": "execute_result"
    }
   ],
   "source": [
    "vec_dot(vec_1,vec_2)"
   ]
  },
  {
   "cell_type": "markdown",
   "metadata": {},
   "source": [
    "#### 17. Write a function that returns the rows of a matrix"
   ]
  },
  {
   "cell_type": "code",
   "execution_count": 34,
   "metadata": {},
   "outputs": [],
   "source": [
    "def matrix_rows(A):\n",
    "    rows = []\n",
    "    for k in range(len(A)):\n",
    "         rows.append([A[k][i] for i in range(len(A[0]))])\n",
    "    return rows"
   ]
  },
  {
   "cell_type": "code",
   "execution_count": 35,
   "metadata": {},
   "outputs": [
    {
     "data": {
      "text/plain": [
       "[[1, 3, 4], [0, 1, 2], [1, 0, 0]]"
      ]
     },
     "execution_count": 35,
     "metadata": {},
     "output_type": "execute_result"
    }
   ],
   "source": [
    "matrix_rows(B)"
   ]
  },
  {
   "cell_type": "markdown",
   "metadata": {},
   "source": [
    "#### 18. Write a function that returns the columns of a matrix"
   ]
  },
  {
   "cell_type": "code",
   "execution_count": 36,
   "metadata": {},
   "outputs": [],
   "source": [
    "def matrix_columns(A):\n",
    "    columns = []\n",
    "    for k in range(len(A[0])):\n",
    "         columns.append([A[i][k] for i in range(len(A))])\n",
    "    return columns"
   ]
  },
  {
   "cell_type": "code",
   "execution_count": 37,
   "metadata": {},
   "outputs": [
    {
     "data": {
      "text/plain": [
       "[[1, 0, 1], [3, 1, 0], [4, 2, 0]]"
      ]
     },
     "execution_count": 37,
     "metadata": {},
     "output_type": "execute_result"
    }
   ],
   "source": [
    "matrix_columns(B)"
   ]
  },
  {
   "cell_type": "markdown",
   "metadata": {},
   "source": [
    "#### 19. Write a function that multiplies a matrix with a vector"
   ]
  },
  {
   "cell_type": "code",
   "execution_count": 38,
   "metadata": {},
   "outputs": [],
   "source": [
    "def mat_vec_dot(A,vec):\n",
    "    vec_temp = [vec_dot(row,vec) for row in matrix_rows(A)]\n",
    "    return vec_temp"
   ]
  },
  {
   "cell_type": "code",
   "execution_count": 39,
   "metadata": {},
   "outputs": [
    {
     "data": {
      "text/plain": [
       "[18, 6, 2]"
      ]
     },
     "execution_count": 39,
     "metadata": {},
     "output_type": "execute_result"
    }
   ],
   "source": [
    "mat_vec_dot(B,vec_1)"
   ]
  },
  {
   "cell_type": "markdown",
   "metadata": {},
   "source": [
    "#### 20. Write a function that multiplies a matrix with a matrix "
   ]
  },
  {
   "cell_type": "code",
   "execution_count": 40,
   "metadata": {},
   "outputs": [],
   "source": [
    "def mat_mat_dot(A,B):\n",
    "    prod = [[vec_dot(row,column) for column in matrix_columns(B)] for row in matrix_rows(A)]\n",
    "    return prod"
   ]
  },
  {
   "cell_type": "code",
   "execution_count": 41,
   "metadata": {},
   "outputs": [
    {
     "data": {
      "text/plain": [
       "[[6, 6, 16], [2, 1, 6], [2, 3, 0]]"
      ]
     },
     "execution_count": 41,
     "metadata": {},
     "output_type": "execute_result"
    }
   ],
   "source": [
    "mat_mat_dot(B,C)"
   ]
  },
  {
   "cell_type": "markdown",
   "metadata": {},
   "source": [
    "#### 21. Write a function that returns the transpose of a given matrix"
   ]
  },
  {
   "cell_type": "code",
   "execution_count": 42,
   "metadata": {},
   "outputs": [],
   "source": [
    "def mat_transpose(A):\n",
    "    C = []\n",
    "    for i in range(len(A)):\n",
    "        vec_temp = []\n",
    "        for j in range(len(A)):\n",
    "            vec_temp.append(A[j][i])\n",
    "        C.append(vec_temp)\n",
    "    return C"
   ]
  },
  {
   "cell_type": "code",
   "execution_count": 43,
   "metadata": {},
   "outputs": [
    {
     "data": {
      "text/plain": [
       "[[1, 0, 1], [3, 1, 0], [4, 2, 0]]"
      ]
     },
     "execution_count": 43,
     "metadata": {},
     "output_type": "execute_result"
    }
   ],
   "source": [
    "mat_transpose(B)"
   ]
  },
  {
   "cell_type": "code",
   "execution_count": null,
   "metadata": {},
   "outputs": [],
   "source": []
  }
 ],
 "metadata": {
  "kernelspec": {
   "display_name": "Python [conda env:anaconda3]",
   "language": "python",
   "name": "conda-env-anaconda3-py"
  },
  "language_info": {
   "codemirror_mode": {
    "name": "ipython",
    "version": 3
   },
   "file_extension": ".py",
   "mimetype": "text/x-python",
   "name": "python",
   "nbconvert_exporter": "python",
   "pygments_lexer": "ipython3",
   "version": "3.6.4"
  },
  "toc": {
   "nav_menu": {
    "height": "98px",
    "width": "262px"
   },
   "number_sections": false,
   "sideBar": true,
   "skip_h1_title": true,
   "title_cell": "Table of Contents",
   "title_sidebar": "Contents",
   "toc_cell": false,
   "toc_position": {},
   "toc_section_display": "block",
   "toc_window_display": false
  }
 },
 "nbformat": 4,
 "nbformat_minor": 2
}
