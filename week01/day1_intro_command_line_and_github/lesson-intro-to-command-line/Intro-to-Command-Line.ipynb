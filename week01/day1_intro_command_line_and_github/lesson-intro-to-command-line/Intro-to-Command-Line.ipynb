{
 "cells": [
  {
   "cell_type": "markdown",
   "metadata": {
    "slideshow": {
     "slide_type": "slide"
    }
   },
   "source": [
    "<img src=\"http://imgur.com/1ZcRyrc.png\" style=\"float: left; margin: 20px; height: 55px\">\n",
    "\n",
    "# Using the Command Line\n",
    "\n",
    "\n",
    "*Instructor: Aymeric Flaisler*\n",
    "\n",
    "___\n",
    "\n",
    "\n",
    "### LEARNING OBJECTIVES\n",
    "*After this lesson, you will be able to:*\n",
    "- Create folders and files using the command line (**mkdir**, **touch**)\n",
    "- Change directories and list directory contents (**cd**, **ls**)\n",
    "- Check current working directly (**pwd**)\n",
    "- Remove files and directories (**rm**)\n",
    "- Create aliases and environment variables"
   ]
  },
  {
   "cell_type": "markdown",
   "metadata": {
    "slideshow": {
     "slide_type": "slide"
    }
   },
   "source": [
    "<a name=\"introduction\"></a>\n",
    "##  What is a GUI (pronounced gooey)?\n",
    "\n",
    "There was a point when computers didn't come with a **Graphical User Interface (GUI)**. Instead, everyone interacted with the computer using **text commands** in what we call a **Command Line Interface (CLI)**.\n",
    "\n",
    "Today, the command line still exists, even though you may have never seen it as a casual computer user. Knowing how to use the **CLI becomes essential as you program more**.\n",
    "\n"
   ]
  },
  {
   "cell_type": "markdown",
   "metadata": {
    "slideshow": {
     "slide_type": "slide"
    }
   },
   "source": [
    "#### What is a shell?\n",
    "\n",
    "A shell is simply a type of command line program. It contains a very simple, text-based user interface enabling you to access all of an operating system's services. It is essentially a text interpreter that translates your typed commands into functions that the operating system runs.\n",
    "\n",
    "*Taken from Just for fun: [Type like a hacker](http://hackertyper.com/)*"
   ]
  },
  {
   "cell_type": "markdown",
   "metadata": {
    "slideshow": {
     "slide_type": "slide"
    }
   },
   "source": [
    "## Forget Finder, get fast at using your laptop - Codealong\n",
    "\n",
    "##### Opening and closing the terminal\n",
    "\n",
    "Spotlight in OSX is the easiest and fastest way to open the terminal:\n",
    "\n",
    "- ⌘ (Command) + Space\n",
    "- \"Terminal\"\n",
    "- Enter\n",
    "\n",
    "Notice the autocompletes. Get used to taking shortcuts – don't type the whole word out if you don't have to and **avoid using your mouse** if you can open or use an app with just keyboard shortcuts. It may seem harder now, but when you get used to it, it will save you literally hours of cumulative time.\n"
   ]
  },
  {
   "cell_type": "markdown",
   "metadata": {
    "slideshow": {
     "slide_type": "slide"
    }
   },
   "source": [
    "## Now forget this terminal and let's get a proper one: iterm2 - Codealong\n",
    "\n",
    "##### First we need to download and install it:\n",
    "\n",
    "https://www.iterm2.com/downloads.html\n",
    "\n",
    "iterm2 is an *emulator* of the default terminal. This means that it will replicate all the things we can do with the mac terminal but will also add some nice new features. I recommend to **keep it in your dock** and start using it."
   ]
  },
  {
   "cell_type": "markdown",
   "metadata": {
    "slideshow": {
     "slide_type": "slide"
    }
   },
   "source": [
    "\n",
    "#### Getting comfortable in the CLI (with iterm2)\n",
    "\n",
    "1. You can also open multiple windows using **⌘+D** (vertical) or **⌘+shift+T** (horizontal).\n",
    "2. For many programs, you can open multiple tabs by pressing **⌘+T**.\n",
    "\n",
    "3. You can close the current tab or window with **⌘+W**. This goes for most applications on a Mac.\n",
    " \n",
    "4. If you have a process running, you can quit it by pressing **Ctrl+C**. Let's try that now.\n",
    "\n",
    "  - At the command line, type `ping 127.0.0.1`. This basically sends a message to your own computer (your localhost) asking if it's awake.\n",
    "  - Notice that it will keep pinging, even if you type something.\n",
    "  - To stop the currently-running script, press **Ctrl+C**.\n",
    "\n",
    "5. To quit the command line altogether, you can press **⌘+Q**.\n",
    "\n",
    "**Check** Try pinging your public ip. Why does it take longer than pinging '127.0.0.1' ?\n",
    "\n",
    "**Hint** You can get your ip by googling 'ip' or by running the following command in your cli:\n",
    "```\n",
    "dig +short myip.opendns.com @resolver1.opendns.com\n",
    "```\n",
    "**Explanation of the command 'dig'**: it requests the IP assigned to the given domain from the default DNS server. So e.g. dig google.de would request the IP assigned to the domain google.de. That would be 172.217.19.99.\n",
    "\n",
    "**So what this command does is**: it sends an request for the IP of the domain myip.opendns.com (which get the WAN-IP - or public ip - of your router) to the DNS server resolver1.opendns.com. This server is programmed that (if this special domain is requested) the IP the request comes from is send back.\n"
   ]
  },
  {
   "cell_type": "markdown",
   "metadata": {
    "slideshow": {
     "slide_type": "slide"
    }
   },
   "source": [
    "\n",
    "## Paths - Codealong\n",
    "\n",
    "Every file or folder in a file system can be read, written, and deleted by referencing its position inside the filesystem.\n",
    "\n",
    "When we talk about the position of a file or a folder in a file system, we refer to its \"path\". There are a couple of different kinds of paths we can use to refer to a file: the **absolute path** and the **relative path**.\n",
    "\n",
    "**Directory** is an important term that's used interchangeably with **folder**. Though they are not exactly the same thing, when we say \"navigate to your project directory\" think of this as \"navigate to your project folder\". Or even \"cd into your project folder\".  Here's a little more information:\n",
    "\n"
   ]
  },
  {
   "cell_type": "markdown",
   "metadata": {
    "slideshow": {
     "slide_type": "slide"
    }
   },
   "source": [
    "##### What is an absolute path?\n",
    "\n",
    "An absolute path is defined as the **specific location of a file or folder from the root directory**, typically shown as `/`. The root directory is the starting point from which all other folders are defined and is not normally the same as your **Home** directory, which is normally found at `/Users/[Your Username]`.\n"
   ]
  },
  {
   "cell_type": "markdown",
   "metadata": {
    "slideshow": {
     "slide_type": "slide"
    }
   },
   "source": [
    "\n",
    "\n",
    "##### Working with unix commands and file paths\n",
    "\n",
    "Typing `cd` - a command for \"change directory\" with no parameters takes us to our home directory.\n",
    "\n",
    "```bash\n",
    "cd\n",
    "```\n",
    "\n",
    "If we type in `pwd` - a command for \"print working directory\" from that folder, we can see where we are in relation to the root directory. The `pwd` command will always give you the absolute path of your current location.\n",
    "\n",
    "**An example of absolute path**:\n",
    "\n",
    "```bash\n",
    "open /Users/Lucy/desktop/a/b/c/file.txt\n",
    "```\n",
    "\n",
    "Notice, this path starts from `/` directory which is a root directory for every Linux/Unix machines.\n"
   ]
  },
  {
   "cell_type": "markdown",
   "metadata": {
    "slideshow": {
     "slide_type": "slide"
    }
   },
   "source": [
    "\n",
    "##### What is a relative path?\n",
    "\n",
    "A relative path is a reference to a file or folder **relative** to the current position, or the present working directory(pwd). If we are in the folder `/a/b/` and we want to open the file that has the absolute path `/a/b/c/file.txt`, we can just type:\n",
    "\n",
    "```bash\n",
    "open c/file.txt\n",
    "```\n",
    "\n",
    "or\n",
    "\n",
    "```bash\n",
    "open ./c/file.txt\n",
    "```\n",
    "\n",
    "At any time, we can also use the absolute path, by adding a slash to the beginning of the path. The absolute path is the same for a file or a folder regardless of the current working directory, but relative paths are different, depending on what directory we are in.  Directory structures are laid out like `directory/subdirectory/subsubdirectory`.\n",
    "\n",
    "**Check:**  When writing code would you use absolute path or relative path to reference another file?\n"
   ]
  },
  {
   "cell_type": "markdown",
   "metadata": {
    "slideshow": {
     "slide_type": "slide"
    }
   },
   "source": [
    "\n",
    "\n",
    "#### Navigating using the command prompt\n",
    "\n",
    "The tilde `~` character is an alias to your home directory. Use it to quickly return home.\n",
    "\n",
    "```bash\n",
    "cd ~/\n",
    "\n",
    "```\n",
    "\n",
    "Or even more simply, you can just type:\n",
    "\n",
    "```bash\n",
    "cd\n",
    "```\n",
    "\n",
    "The tilde `~` character is useful to shorten paths that would otherwise be\n",
    "absolute paths. For example, to navigate to your Desktop you can type:\n",
    "\n",
    "```bash\n",
    "cd ~/Desktop\n",
    "```\n",
    "\n",
    "The `ls` command lists files and directories in the current folder.\n",
    "```bash\n",
    "ls\n",
    "```\n",
    "\n",
    "It can also be used to list files located in any directory. For example to list\n",
    "your applications you can type:\n",
    "```bash\n",
    "ls /Applications\n",
    "```\n",
    "\n",
    "To make a new directory.\n",
    "```bash\n",
    "mkdir folder\n",
    "```\n",
    "\n",
    "To create a new file.\n",
    "```bash\n",
    "touch file1\n",
    "```\n",
    "\n",
    "To remove a file.\n",
    "```bash\n",
    "rm file1\n",
    "```\n",
    "\n",
    "To remove a directory/folder, we need to add a **flag** to the rm command.\n",
    "```bash\n",
    "rm -r folder/\n",
    "```\n",
    "\n",
    "What is the **-r** flag? It stands for \"recursive\". It's not important to get into the technicalities of this right now, but essentially it is telling the remove command to get rid of the folder and anything within the folder at any \"depth\". Even if a folder is empty, the OS requires the recursive flag for deleting it.\n",
    "\n",
    "##### Using wildcards in the command prompt\n",
    "\n",
    "The wildcard symbol `*` is useful for using commands to operate on multiple\n",
    "files. To give an example first create a folder on your Desktop and add some\n",
    "files.\n",
    "```bash\n",
    "mkdir ~/Desktop/example_folder\n",
    "cd ~/Desktop/example_folder\n",
    "touch cat.txt\n",
    "touch dog.txt\n",
    "touch bird.txt\n",
    "touch fish.txt\n",
    "```\n",
    "\n",
    "You can use the wildcard `*` to then operate on subsets of files. List any\n",
    "file with \"i\" in the filename, for example:\n",
    "```bash\n",
    "ls *i*\n",
    "```\n",
    "\n",
    "Or remove any file with \"d\":\n",
    "```bash\n",
    "rm *d*\n",
    "ls\n",
    "```\n",
    "\n",
    "**Check:**  What's a quick way to get back to your home directory?\n"
   ]
  },
  {
   "cell_type": "markdown",
   "metadata": {
    "slideshow": {
     "slide_type": "slide"
    }
   },
   "source": [
    "## Get Some Help, man!\n",
    "\n",
    "The **man pages** are a user manual that is by default built into most Linux distributions (i.e., versions) and most other Unix-like operating systems during installation.\n",
    "\n",
    "For command which are not specific to the mac command line, man will sometimes be empty. In those situations, you can usually get the help page by using the **'-h' argument**."
   ]
  },
  {
   "cell_type": "markdown",
   "metadata": {
    "slideshow": {
     "slide_type": "slide"
    }
   },
   "source": [
    "\n",
    "## Grep\n",
    "Grep is a command-line utility for searching plain-text data sets for lines matching a regular expression.\n",
    "\n",
    "grep searches files specified as arguments, or, if missing, the program's standard input. By default, it reports matching lines on standard output, but specific modes of operation may be chosen with command line options.\n",
    "\n",
    "For example:\n",
    "\n",
    "```bash\n",
    "$ grep \"student\" studentlist.txt\n",
    "```\n",
    "\n",
    "You can also specify multiple files at the same time using a wildcard *\n",
    "\n",
    "```bash\n",
    "$ grep \"student\" *.txt\n",
    "```\n",
    "\n",
    "Or,\n",
    "\n",
    "```bash\n",
    "$ grep \"student\" studentlist.*\n",
    "```\n",
    "\n",
    "Regular expressions can also be used to specify patterns to look out for.\n",
    "\n",
    "```bash\n",
    "$ grep \"^st.udent\" studentlist.txt\n",
    "```\n",
    "For more regular expression syntax, you can look into this [cheat sheet](http://www.rexegg.com/regex-quickstart.html)\n",
    "\n"
   ]
  },
  {
   "cell_type": "markdown",
   "metadata": {
    "slideshow": {
     "slide_type": "slide"
    }
   },
   "source": [
    "\n",
    "## mdfind\n",
    "\n",
    "The mdfind command finds files matching a given query. It is spotlight but in your cli.\n",
    "\n",
    "\n",
    "The following returns all the files that contains 'python' in their file names:\n",
    "\n",
    "```bash\n",
    "mdfind -name python\n",
    "```\n",
    "\n",
    "find -name [query]\n",
    "\n",
    "## A more complex search can be done using the command find:\n",
    "\n",
    "The find command-line utility **recursively descends the directory tree** for each path listed, evaluating an expression in terms of each file in the tree. It is similar to spotlight but in your cli.\n",
    "\n",
    "The following returns the csv files in the current directory:\n",
    "```bash\n",
    "find ./ -name \"*.csv\"\n",
    "```\n",
    "\n",
    "find [path] path -name [expression]\n",
    "\n",
    "*Print out a list of all the files whose names end in .csv\n",
    "\n",
    "**Note:** Type 'man find' to explore the different options and attributes."
   ]
  },
  {
   "cell_type": "markdown",
   "metadata": {
    "slideshow": {
     "slide_type": "slide"
    }
   },
   "source": [
    "## The .bash_profile\n",
    "\n",
    "There is a hidden file in your Mac’s user directory named .bash_profile. This file is loaded before Terminal loads your shell environment and **contains all the startup configuration** and preferences for your command line interface. Within it you can change your terminal prompt, change the colors of text, add aliases to functions you use all the time, and so much more.\n",
    "\n",
    "This file is often called a ‘dot file’ because the `.` at the beginning of it’s name makes it invisible in the Mac Finder. You can view all invisible files in the Terminal by typing ls -al in any directory."
   ]
  },
  {
   "cell_type": "markdown",
   "metadata": {
    "slideshow": {
     "slide_type": "slide"
    }
   },
   "source": [
    "\n",
    "<a name=\"conclusion\"></a>\n",
    "## Conclusion\n",
    "Today we learned about the CLI commands mkdir, touch, cd, pwd, and ls. We also about absolute and relative paths.\n",
    "Take a breather and then keep practicing. The more you practice the more comfortable you'll get!"
   ]
  },
  {
   "cell_type": "markdown",
   "metadata": {
    "slideshow": {
     "slide_type": "slide"
    }
   },
   "source": [
    "## Exercise (optional): The Command Line Murders\n",
    "\n",
    "Follow the instructions from the following repo: https://github.com/veltman/clmystery"
   ]
  }
 ],
 "metadata": {
  "kernelspec": {
   "display_name": "Python 3",
   "language": "python",
   "name": "python3"
  },
  "language_info": {
   "codemirror_mode": {
    "name": "ipython",
    "version": 3
   },
   "file_extension": ".py",
   "mimetype": "text/x-python",
   "name": "python",
   "nbconvert_exporter": "python",
   "pygments_lexer": "ipython3",
   "version": "3.6.4"
  },
  "toc": {
   "nav_menu": {},
   "number_sections": false,
   "sideBar": true,
   "skip_h1_title": false,
   "title_cell": "Table of Contents",
   "title_sidebar": "Contents",
   "toc_cell": false,
   "toc_position": {},
   "toc_section_display": true,
   "toc_window_display": false
  },
  "varInspector": {
   "cols": {
    "lenName": 16,
    "lenType": 16,
    "lenVar": 40
   },
   "kernels_config": {
    "python": {
     "delete_cmd_postfix": "",
     "delete_cmd_prefix": "del ",
     "library": "var_list.py",
     "varRefreshCmd": "print(var_dic_list())"
    },
    "r": {
     "delete_cmd_postfix": ") ",
     "delete_cmd_prefix": "rm(",
     "library": "var_list.r",
     "varRefreshCmd": "cat(var_dic_list()) "
    }
   },
   "types_to_exclude": [
    "module",
    "function",
    "builtin_function_or_method",
    "instance",
    "_Feature"
   ],
   "window_display": false
  }
 },
 "nbformat": 4,
 "nbformat_minor": 2
}
