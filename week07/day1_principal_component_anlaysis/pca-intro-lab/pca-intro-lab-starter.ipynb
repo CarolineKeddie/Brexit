{
 "cells": [
  {
   "cell_type": "markdown",
   "metadata": {},
   "source": [
    "<img src=\"http://imgur.com/1ZcRyrc.png\" style=\"float: left; margin: 20px; height: 55px\">\n",
    "\n",
    "# PCA Lab: Speed Dating\n",
    "\n",
    "---"
   ]
  },
  {
   "cell_type": "markdown",
   "metadata": {},
   "source": [
    "Let's practice PCA using a dataset from Kaggle! PCA is often used to simplify data, reduce noise, and find unmeasured \"latent variables\". So, it is important to spend the time to understand what's going on.\n",
    "\n",
    "**In this lab, we will:**\n",
    "- Explore how PCA is related to correlation.\n",
    "- Use PCA to perform dimensionality reduction.\n",
    "- Predict whether a speed dater likes reading, based on the dater's other likes.\n",
    "\n",
    "---"
   ]
  },
  {
   "cell_type": "markdown",
   "metadata": {},
   "source": [
    "### Dataset\n",
    "\n",
    "The dataset we are using for this lab is a subset of the [much more detailed speed dating dataset](https://www.kaggle.com/annavictoria/speed-dating-experiment). In particular, this contains no information on the actual speed dating itself (successes with or opinions of other individuals). It also contains no \"follow-up\" information where individuals are re-asked the same questions about themselves. All it contains are things that an individual enjoys doing, their ratings of themselves on how desirable they are, and how they think others rate them on desirability.\n",
    "\n",
    "Specifically, the columns in the data are outlined below:\n",
    "\n",
    "FieldName|Description\n",
    "---------|-----------\n",
    "    subject_id                   |   unique individual identifier\n",
    "    wave                         |   meetup id\n",
    "    like_sports                  |   enjoyment of participating in sports\n",
    "    like_tvsports                |   enjoyment of watching sports on tv\n",
    "    like_exercise                |   enjoyment of exercise\n",
    "    like_food                    |   enjoyment of food\n",
    "    like_museums                 |   enjoyment of museums\n",
    "    like_art                     |   enjoyment of art\n",
    "    like_hiking                  |   enjoyment of hiking\n",
    "    like_gaming                  |   enjoyment of playing games\n",
    "    like_clubbing                |   enjoyment of going clubbing/partying\n",
    "    like_reading                 |   enjoyment of reading\n",
    "    like_tv                      |   enjoyment of tv in general\n",
    "    like_theater                 |   enjoyment of the theater (plays, musicals, etc.)\n",
    "    like_movies                  |   enjoyment of movies\n",
    "    like_concerts                |   enjoyment of concerts\n",
    "    like_music                   |   enjoyment of music\n",
    "    like_shopping                |   enjoyment of shopping\n",
    "    like_yoga                    |   enjoyment of yoga\n",
    "    subjective_attractiveness    |   how attractive they rate themselves\n",
    "    subjective_sincerity         |   how sincere they rate themselves\n",
    "    subjective_intelligence      |   how intelligent they rate themselves\n",
    "    subjective_fun               |   how fun they rate themselves\n",
    "    subjective_ambition          |   how ambitious they rate themselves\n",
    "    objective_attractiveness     |   perceived rating others would give them on how attractive they are\n",
    "    objective_sincerity          |   perceived rating others would give them on how sincere they are\n",
    "    objective_intelligence       |   perceived rating others would give them on how intelligent they are\n",
    "    objective_fun                |   perceived rating others would give them on how fun they are\n",
    "    objective_ambition           |   perceived rating others would give them on how ambitious they are\n",
    "    \n",
    "There are 551 subjects total.\n",
    "\n",
    "---\n",
    "\n",
    "### 1. Load packages"
   ]
  },
  {
   "cell_type": "code",
   "execution_count": 1,
   "metadata": {},
   "outputs": [],
   "source": [
    "import matplotlib.pyplot as plt\n",
    "import numpy as np\n",
    "import pandas as pd\n",
    "import seaborn as sns\n",
    "\n",
    "plt.style.use('ggplot')\n",
    "\n",
    "%matplotlib inline\n",
    "%config InlineBackend.figure_format = 'retina'"
   ]
  },
  {
   "cell_type": "code",
   "execution_count": 2,
   "metadata": {},
   "outputs": [],
   "source": [
    "from sklearn.decomposition import PCA\n",
    "from sklearn.preprocessing import StandardScaler"
   ]
  },
  {
   "cell_type": "markdown",
   "metadata": {},
   "source": [
    "---\n",
    "\n",
    "### 2. Load and clean speed dating data\n",
    "\n",
    "- Remove columns with over 200 missing values.\n",
    "- Then, remove rows with missing values.\n",
    "- Verify no rows contain NaNs."
   ]
  },
  {
   "cell_type": "code",
   "execution_count": 3,
   "metadata": {},
   "outputs": [],
   "source": [
    "sd = pd.read_csv('../../../../resource-datasets/speed_dating/speed_dating_v1.csv')\n",
    "\n",
    "# A:"
   ]
  },
  {
   "cell_type": "code",
   "execution_count": 4,
   "metadata": {},
   "outputs": [],
   "source": [
    "# A:"
   ]
  },
  {
   "cell_type": "markdown",
   "metadata": {},
   "source": [
    "---\n",
    "\n",
    "### 3. EXAMPLE: Are the `subjective` columns correlated?\n",
    "\n",
    "Here, we will understand how the `subjective` columns are correlated.\n",
    "\n",
    "- Find the z-scores of each `subjective` column.\n",
    "- Visualize correlation using pair plots.\n",
    "- Visualize correlation using a heatmap."
   ]
  },
  {
   "cell_type": "markdown",
   "metadata": {},
   "source": [
    "#### 3.A. Find the z-scores of each column. This better allows the columns to be directly compared.\n",
    "\n",
    "Hint: Make use of the standard scaler."
   ]
  },
  {
   "cell_type": "code",
   "execution_count": 5,
   "metadata": {},
   "outputs": [],
   "source": [
    "subjective_cols = [col for col in sd.columns if col.startswith('subjective')]\n",
    "subjective = sd[subjective_cols]"
   ]
  },
  {
   "cell_type": "code",
   "execution_count": 6,
   "metadata": {
    "scrolled": true
   },
   "outputs": [],
   "source": [
    "# A:"
   ]
  },
  {
   "cell_type": "markdown",
   "metadata": {},
   "source": [
    "#### 3.B. Use a pair plot to visualize correlation"
   ]
  },
  {
   "cell_type": "code",
   "execution_count": 7,
   "metadata": {},
   "outputs": [],
   "source": [
    "# A:"
   ]
  },
  {
   "cell_type": "markdown",
   "metadata": {},
   "source": [
    "#### 3.C. Use a heatmap to visualize correlation"
   ]
  },
  {
   "cell_type": "code",
   "execution_count": 8,
   "metadata": {},
   "outputs": [],
   "source": [
    "# A:"
   ]
  },
  {
   "cell_type": "markdown",
   "metadata": {},
   "source": [
    "---\n",
    "\n",
    "**Important: Did you ensure the results make intuitive sense?** If not, look at the results again. You should **always** interpret your results and ensure they \"make sense\" intutitively. If they are different than you expect, investigate why -- often your analysis or data is wrong.\n",
    "\n",
    "> For example, the results show that believing you are attractive and fun are correlated. Would you expect believing you are intellectual and fun to have a higher or lower correlation? What do the results say?\n",
    "\n",
    "---\n",
    "\n",
    "\n",
    "### 4. Visualize some preference columns\n",
    "\n",
    "Next, we will understand how some preference ratings are correlated. You saw an example above -- now try it on the `preference_cols` below!\n",
    "\n",
    "- Find the z-scores of each column in `preference_cols`.\n",
    "- Visualize correlation using pair plots.\n",
    "- Visualize correlation using a heatmap.\n",
    "- Do these results make sense intuitively? "
   ]
  },
  {
   "cell_type": "code",
   "execution_count": 9,
   "metadata": {},
   "outputs": [],
   "source": [
    "preference_cols = ['like_tvsports', 'like_sports', 'like_museums', 'like_theater', 'like_shopping']\n",
    "sd_like = sd[preference_cols]"
   ]
  },
  {
   "cell_type": "markdown",
   "metadata": {
    "collapsed": true
   },
   "source": [
    "#### 4.A. Find the z-scores of each column in preference_cols"
   ]
  },
  {
   "cell_type": "code",
   "execution_count": 10,
   "metadata": {},
   "outputs": [],
   "source": [
    "# A:"
   ]
  },
  {
   "cell_type": "markdown",
   "metadata": {},
   "source": [
    "#### 4.B. Visualize correlation using pair plots"
   ]
  },
  {
   "cell_type": "code",
   "execution_count": 11,
   "metadata": {},
   "outputs": [],
   "source": [
    "# A:"
   ]
  },
  {
   "cell_type": "markdown",
   "metadata": {},
   "source": [
    "#### 4.C. Visualize correlation using a heatmap"
   ]
  },
  {
   "cell_type": "code",
   "execution_count": 12,
   "metadata": {},
   "outputs": [],
   "source": [
    "# A:"
   ]
  },
  {
   "cell_type": "markdown",
   "metadata": {},
   "source": [
    "---\n",
    "\n",
    "### 5. EXAMPLE: Fit PCA on the subjective ratings\n"
   ]
  },
  {
   "cell_type": "code",
   "execution_count": 13,
   "metadata": {},
   "outputs": [],
   "source": [
    "# subjective_pca = PCA(n_components=5)\n",
    "# subjective_pca.fit(subjective)"
   ]
  },
  {
   "cell_type": "markdown",
   "metadata": {},
   "source": [
    "---\n",
    "\n",
    "#### 5.A. Look at principal component weighting vectors (eigenvectors)\n",
    "\n",
    "The principal components, or eigenvectors, can be thought of as weightings on the original variables to transform them into the new feature space."
   ]
  },
  {
   "cell_type": "code",
   "execution_count": 14,
   "metadata": {},
   "outputs": [],
   "source": [
    "# A:\n",
    "# subjective_pca.components_"
   ]
  },
  {
   "cell_type": "markdown",
   "metadata": {},
   "source": [
    "---\n",
    "\n",
    "#### 5.B. Look at the eigenvalues (explained variance) and explained variance ratio\n",
    "\n",
    "The eigenvalues are ordered such that the first components have the largest eigenvalues. The values and their normalized equivalent in the explained variance ratio attribute tell you how much of the variance in the original data is encapsulated in the new component variables."
   ]
  },
  {
   "cell_type": "code",
   "execution_count": 15,
   "metadata": {},
   "outputs": [],
   "source": [
    "# A:\n",
    "# subjective_pca.explained_variance_\n",
    "# subjective_pca.explained_variance_ratio_"
   ]
  },
  {
   "cell_type": "markdown",
   "metadata": {},
   "source": [
    "---\n",
    "\n",
    "#### 5.C. Transform the subjective data into principal component space\n",
    "\n",
    "The transform function in the PCA will create your new component variable matrix."
   ]
  },
  {
   "cell_type": "code",
   "execution_count": 16,
   "metadata": {},
   "outputs": [],
   "source": [
    "# A:\n"
   ]
  },
  {
   "cell_type": "markdown",
   "metadata": {},
   "source": [
    "This transformed our 5-dimensional data into vectors along its 5 principal components (with zero loss).\n",
    "- Using these, we can now reduce the dimensionality of our data while minimizing loss.\n",
    "- For example, taking only the first three eigenvectors accounts for $0.431 + 0.178 + 0.147 = 75.6\\%$ of the variance."
   ]
  },
  {
   "cell_type": "code",
   "execution_count": 17,
   "metadata": {},
   "outputs": [],
   "source": [
    "# A:"
   ]
  },
  {
   "cell_type": "markdown",
   "metadata": {},
   "source": [
    "---\n",
    "\n",
    "#### 5.D. PCA transformed features are not correlated\n",
    "\n",
    "- Keep in mind that each column in the transformed data is no longer correlated!\n",
    "- Compare this to the exploration above, where many columns were correlated."
   ]
  },
  {
   "cell_type": "code",
   "execution_count": 18,
   "metadata": {},
   "outputs": [],
   "source": [
    "# A:"
   ]
  },
  {
   "cell_type": "markdown",
   "metadata": {},
   "source": [
    "---\n",
    "\n",
    "### 6.  OPTIONAL: How was the data transformed?\n",
    "\n",
    "To demonstrate how the the new principal component matrix is created from the original variable columns and the eigenvector weighting matrix, we'll create the first component PC1 manually.\n",
    "\n",
    "#### 6.A. Pull out the eigenvector for PC1"
   ]
  },
  {
   "cell_type": "code",
   "execution_count": 19,
   "metadata": {},
   "outputs": [],
   "source": [
    "# you got all the eigenvectors in 5.A\n",
    "# A:"
   ]
  },
  {
   "cell_type": "markdown",
   "metadata": {},
   "source": [
    "#### 6.B. Create a dataframe showing the original values for the subjective variables for person 1"
   ]
  },
  {
   "cell_type": "code",
   "execution_count": 20,
   "metadata": {},
   "outputs": [],
   "source": [
    "# A:"
   ]
  },
  {
   "cell_type": "markdown",
   "metadata": {},
   "source": [
    "#### 6.C. Add the eigenvector for PC1: the weights to multiply each original variable by\n",
    "\n",
    "Recall that each component is a linear combination of the original variables multiplied by a \"weight\" defined in the eigenvector of that component."
   ]
  },
  {
   "cell_type": "code",
   "execution_count": 21,
   "metadata": {},
   "outputs": [],
   "source": [
    "# A:"
   ]
  },
  {
   "cell_type": "markdown",
   "metadata": {},
   "source": [
    "#### 6.D. Multiply the original variable values by the eigenvector values\n",
    "\n",
    "These are the \"pieces\" of principal component 1 that will be added together to make the new value for that person."
   ]
  },
  {
   "cell_type": "code",
   "execution_count": 22,
   "metadata": {},
   "outputs": [],
   "source": [
    "# A:"
   ]
  },
  {
   "cell_type": "markdown",
   "metadata": {},
   "source": [
    "#### 6.E. Sum the original values multiplied by the eigenvector weights to get person 1's value for PC1"
   ]
  },
  {
   "cell_type": "code",
   "execution_count": 23,
   "metadata": {},
   "outputs": [],
   "source": [
    "# A:"
   ]
  },
  {
   "cell_type": "markdown",
   "metadata": {},
   "source": [
    "---\n",
    "\n",
    "### 7. Fit PCA on the preference data\n",
    "\n",
    "Now that you've seen how it's done, try it yourself!\n",
    "Use sklearn for the PCA transformation.\n",
    "\n",
    "- Find PCA eigenvalues and eigenvectors for the five `sd_like` columns\n",
    "- Transform the original `sd_like` columns into the principal component space\n",
    "- Verify these columns are uncorrelated"
   ]
  },
  {
   "cell_type": "code",
   "execution_count": 24,
   "metadata": {},
   "outputs": [
    {
     "data": {
      "text/plain": [
       "Index(['like_tvsports', 'like_sports', 'like_museums', 'like_theater',\n",
       "       'like_shopping'],\n",
       "      dtype='object')"
      ]
     },
     "execution_count": 24,
     "metadata": {},
     "output_type": "execute_result"
    }
   ],
   "source": [
    "sd_like.columns"
   ]
  },
  {
   "cell_type": "markdown",
   "metadata": {},
   "source": [
    "#### 7.A. Find PCA eigenvalues and eigenvectors for the five `sd_like` columns"
   ]
  },
  {
   "cell_type": "code",
   "execution_count": 25,
   "metadata": {},
   "outputs": [],
   "source": [
    "# A:\n",
    "# fit pca\n",
    "# use .components_ and .explained_variance_ratio_"
   ]
  },
  {
   "cell_type": "markdown",
   "metadata": {},
   "source": [
    "#### 7.B. Transform the original `sd_like` columns into the principal component space"
   ]
  },
  {
   "cell_type": "code",
   "execution_count": 26,
   "metadata": {},
   "outputs": [],
   "source": [
    "# A:\n",
    "# use .transform"
   ]
  },
  {
   "cell_type": "markdown",
   "metadata": {},
   "source": [
    "#### 7.C. Verify these columns are uncorrelated"
   ]
  },
  {
   "cell_type": "code",
   "execution_count": 27,
   "metadata": {},
   "outputs": [],
   "source": [
    "# A:"
   ]
  },
  {
   "cell_type": "markdown",
   "metadata": {},
   "source": [
    "---\n",
    "\n",
    "### 8. Use PCA for dimensionality reduction\n",
    "\n",
    "Using linear regression, let's predict whether a user likes reading!\n",
    "\n",
    "**The key question: ** Can we get the same prediction accuracy using only the first three principal components as features, versus using all five original values as features?\n",
    "\n",
    "- Do a train test split.\n",
    "- Do cross validation on the training set and get the mean score.\n",
    "- Evaluate on the test set."
   ]
  },
  {
   "cell_type": "code",
   "execution_count": 28,
   "metadata": {},
   "outputs": [],
   "source": [
    "from sklearn.linear_model import LinearRegression\n",
    "from sklearn.model_selection import cross_val_score, train_test_split\n",
    "\n",
    "reading = sd['like_reading']"
   ]
  },
  {
   "cell_type": "markdown",
   "metadata": {},
   "source": [
    "#### 8.A. Linear regression cross-validated on original variables (`sd_like`)\n",
    "\n",
    "- What is the mean cross val score?"
   ]
  },
  {
   "cell_type": "code",
   "execution_count": 29,
   "metadata": {},
   "outputs": [],
   "source": [
    "# A:\n",
    "# Do a train test split.\n",
    "# Do cross validation on the training set and get the mean score.\n",
    "# Evaluate on the test set."
   ]
  },
  {
   "cell_type": "markdown",
   "metadata": {},
   "source": [
    "#### 8.B. Linear regression on first principal component\n",
    "\n",
    "- What is the mean cross val score?"
   ]
  },
  {
   "cell_type": "code",
   "execution_count": 30,
   "metadata": {},
   "outputs": [],
   "source": [
    "# A:"
   ]
  },
  {
   "cell_type": "markdown",
   "metadata": {},
   "source": [
    "#### 8.C. Linear regression on first 3 principal components\n",
    "\n",
    "- What is the mean cross val score?"
   ]
  },
  {
   "cell_type": "code",
   "execution_count": 31,
   "metadata": {},
   "outputs": [],
   "source": [
    "# A:"
   ]
  },
  {
   "cell_type": "markdown",
   "metadata": {},
   "source": [
    "#### 8.D. Linear regression on first 5 principal components\n",
    "\n",
    "- What is the mean cross val score?"
   ]
  },
  {
   "cell_type": "code",
   "execution_count": 32,
   "metadata": {},
   "outputs": [],
   "source": [
    "# A:"
   ]
  },
  {
   "cell_type": "markdown",
   "metadata": {},
   "source": [
    "---\n",
    "\n",
    "**Check yourself**. Compare the different scores!"
   ]
  },
  {
   "cell_type": "code",
   "execution_count": 33,
   "metadata": {},
   "outputs": [],
   "source": [
    "# A:"
   ]
  }
 ],
 "metadata": {
  "anaconda-cloud": {},
  "kernelspec": {
   "display_name": "Python [conda env:anaconda3]",
   "language": "python",
   "name": "conda-env-anaconda3-py"
  },
  "language_info": {
   "codemirror_mode": {
    "name": "ipython",
    "version": 3
   },
   "file_extension": ".py",
   "mimetype": "text/x-python",
   "name": "python",
   "nbconvert_exporter": "python",
   "pygments_lexer": "ipython3",
   "version": "3.6.4"
  },
  "toc": {
   "nav_menu": {},
   "number_sections": false,
   "sideBar": true,
   "skip_h1_title": true,
   "title_cell": "Table of Contents",
   "title_sidebar": "Contents",
   "toc_cell": false,
   "toc_position": {},
   "toc_section_display": "block",
   "toc_window_display": false
  }
 },
 "nbformat": 4,
 "nbformat_minor": 1
}
