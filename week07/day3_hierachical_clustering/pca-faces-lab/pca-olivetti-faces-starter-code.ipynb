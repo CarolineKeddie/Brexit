{
 "cells": [
  {
   "cell_type": "markdown",
   "metadata": {},
   "source": [
    "<img src=\"http://imgur.com/1ZcRyrc.png\" style=\"float: left; margin: 20px; height: 55px\">\n",
    "\n",
    "# Image Compression Using PCA\n",
    "\n",
    "---"
   ]
  },
  {
   "cell_type": "markdown",
   "metadata": {},
   "source": [
    "In this lab we are going to read in the Olivetti faces dataset, a set of photographs of faces. \n",
    "\n",
    "- First we are going to process and depict the images.\n",
    "- Then we are going to use principal component analysis on the images to extract the most important parts.\n",
    "- We will compare the images with reduced amount of information with the original ones."
   ]
  },
  {
   "cell_type": "code",
   "execution_count": 1,
   "metadata": {},
   "outputs": [],
   "source": [
    "import pandas as pd\n",
    "import numpy as np\n",
    "import matplotlib.pyplot as plt\n",
    "import seaborn as sns\n",
    "from sklearn.preprocessing import MinMaxScaler, StandardScaler\n",
    "\n",
    " \n",
    "plt.style.use('ggplot')\n",
    "%config InlineBackend.figure_format = 'retina'\n",
    "%matplotlib inline\n",
    "\n",
    "np.set_printoptions(precision=4)"
   ]
  },
  {
   "cell_type": "markdown",
   "metadata": {},
   "source": [
    "## Faces Dataset\n",
    "---\n",
    "\n",
    "Let's load in the Olivetti faces dataset from sklearn."
   ]
  },
  {
   "cell_type": "code",
   "execution_count": 2,
   "metadata": {},
   "outputs": [
    {
     "name": "stdout",
     "output_type": "stream",
     "text": [
      "Modified Olivetti faces dataset.\n",
      "\n",
      "The original database was available from\n",
      "\n",
      "    http://www.cl.cam.ac.uk/research/dtg/attarchive/facedatabase.html\n",
      "\n",
      "The version retrieved here comes in MATLAB format from the personal\n",
      "web page of Sam Roweis:\n",
      "\n",
      "    http://www.cs.nyu.edu/~roweis/\n",
      "\n",
      "There are ten different images of each of 40 distinct subjects. For some\n",
      "subjects, the images were taken at different times, varying the lighting,\n",
      "facial expressions (open / closed eyes, smiling / not smiling) and facial\n",
      "details (glasses / no glasses). All the images were taken against a dark\n",
      "homogeneous background with the subjects in an upright, frontal position (with\n",
      "tolerance for some side movement).\n",
      "\n",
      "The original dataset consisted of 92 x 112, while the Roweis version\n",
      "consists of 64x64 images.\n",
      "\n"
     ]
    }
   ],
   "source": [
    "from sklearn.datasets import fetch_olivetti_faces\n",
    "dataset = fetch_olivetti_faces()\n",
    "print(dataset.DESCR)"
   ]
  },
  {
   "cell_type": "markdown",
   "metadata": {},
   "source": [
    "### Load the Dataset\n",
    "\n",
    "\n",
    "- There are 400 images of faces. (i.e. rows of data)\n",
    "- Each image is 64x64 pixels, i.e. a total of 4096 pixels (i.e. features)"
   ]
  },
  {
   "cell_type": "code",
   "execution_count": 3,
   "metadata": {},
   "outputs": [
    {
     "data": {
      "text/plain": [
       "(400, 4096)"
      ]
     },
     "execution_count": 3,
     "metadata": {},
     "output_type": "execute_result"
    }
   ],
   "source": [
    "dataset = fetch_olivetti_faces()\n",
    "faces = dataset.data\n",
    "faces.shape"
   ]
  },
  {
   "cell_type": "markdown",
   "metadata": {},
   "source": [
    "#### Let's look at a single observation"
   ]
  },
  {
   "cell_type": "code",
   "execution_count": 4,
   "metadata": {},
   "outputs": [
    {
     "name": "stdout",
     "output_type": "stream",
     "text": [
      "(4096,)\n",
      "[0.5413 0.5868 0.6405 ... 0.095  0.1116 0.1116]\n"
     ]
    }
   ],
   "source": [
    "face10 = faces[10]\n",
    "print((face10.shape))\n",
    "\n",
    "# This is a grayscale image, so each pixel is from 0 (black) to 1 (white)\n",
    "print(face10)"
   ]
  },
  {
   "cell_type": "markdown",
   "metadata": {},
   "source": [
    "#### Set up a couple of functions, one to process an image (reshape it to a 2D matrix) and the other to actually plot the image matrix."
   ]
  },
  {
   "cell_type": "code",
   "execution_count": 5,
   "metadata": {},
   "outputs": [],
   "source": [
    "def plot_image_matrix(face_image):\n",
    "    \"\"\" \n",
    "    Plots a grayscale 2-D ndarray `face_image`. \n",
    "        Pixel values can have any scale.\n",
    "    \"\"\"\n",
    "    fig, ax = plt.subplots(figsize=(5,5))\n",
    "    \n",
    "    # max value (in magnitude)\n",
    "    max_pixel_value = max(face_image.max(), -face_image.min())\n",
    "    \n",
    "    ax.imshow(face_image, cmap=plt.cm.gray,\n",
    "              interpolation='nearest', \n",
    "              vmin=-max_pixel_value,\n",
    "              vmax=max_pixel_value)\n",
    "    \n",
    "    ax.set_xticks(())\n",
    "    ax.set_yticks(())\n",
    "\n",
    "def process_image(image):\n",
    "    \"\"\" \n",
    "    Standardize a 1-D 4096-element ndarray `image` to end up with:\n",
    "      - A new 2-D 64x64-element ndarray, with\n",
    "      - Pixel values between (-0.5, 0.5).\n",
    "    \"\"\"\n",
    "\n",
    "    # Min-Max scaling to end up with values between (-0.5, 0.5)\n",
    "    image = image.reshape(-1,1)\n",
    "    scaler = MinMaxScaler(feature_range=(-0.5,0.5))\n",
    "    image = scaler.fit_transform(image)\n",
    "\n",
    "    \n",
    "    # Convert the 4096-element `image` to 64x64\n",
    "    image.shape = (64,64)\n",
    "    return image"
   ]
  },
  {
   "cell_type": "code",
   "execution_count": 6,
   "metadata": {},
   "outputs": [
    {
     "name": "stdout",
     "output_type": "stream",
     "text": [
      "(64, 64)\n",
      "[[ 0.0291  0.0825  0.1456 ...  0.034   0.0437  0.0485]\n",
      " [ 0.0437  0.1165  0.165  ...  0.068   0.0777  0.0728]\n",
      " [ 0.0728  0.1602  0.1893 ...  0.0631  0.1019  0.0971]\n",
      " ...\n",
      " [-0.4563 -0.4466 -0.4466 ... -0.5    -0.4709 -0.4806]\n",
      " [-0.4515 -0.4466 -0.4515 ... -0.4951 -0.4757 -0.4806]\n",
      " [-0.4466 -0.4515 -0.4466 ... -0.4951 -0.4757 -0.4757]]\n"
     ]
    }
   ],
   "source": [
    "face10 = process_image(faces[10])\n",
    "print((face10.shape))\n",
    "print(face10)"
   ]
  },
  {
   "cell_type": "markdown",
   "metadata": {},
   "source": [
    "Given the image below and the image matrix above:\n",
    "- The top rows are light colored.\n",
    "    - So, the first few rows of numbers are > 0.0\n",
    "- The final rows start dark and end dark. \n",
    "    - So, the last few rows of numbers start and end < 0.0\n",
    "- If you print out the full final row, what would you expect the middle numbers to look like?"
   ]
  },
  {
   "cell_type": "code",
   "execution_count": 7,
   "metadata": {},
   "outputs": [
    {
     "data": {
      "image/png": "[encoded data removed]",
      "text/plain": [
       "<matplotlib.figure.Figure at 0x1051a8ba8>"
      ]
     },
     "metadata": {
      "image/png": {
       "height": 289,
       "width": 289
      }
     },
     "output_type": "display_data"
    }
   ],
   "source": [
    "plot_image_matrix(process_image(face10))"
   ]
  },
  {
   "cell_type": "markdown",
   "metadata": {},
   "source": [
    "#### Another picture"
   ]
  },
  {
   "cell_type": "code",
   "execution_count": 8,
   "metadata": {},
   "outputs": [
    {
     "data": {
      "image/png": "[encoded data removed]",
      "text/plain": [
       "<matplotlib.figure.Figure at 0x110a794e0>"
      ]
     },
     "metadata": {
      "image/png": {
       "height": 289,
       "width": 289
      }
     },
     "output_type": "display_data"
    }
   ],
   "source": [
    "plot_image_matrix(process_image(faces[50]))"
   ]
  },
  {
   "cell_type": "markdown",
   "metadata": {},
   "source": [
    "## PCA on the image"
   ]
  },
  {
   "cell_type": "markdown",
   "metadata": {},
   "source": [
    "#### Take picture number 10 reshaped to 64 times 64 pixels"
   ]
  },
  {
   "cell_type": "code",
   "execution_count": null,
   "metadata": {},
   "outputs": [],
   "source": []
  },
  {
   "cell_type": "markdown",
   "metadata": {},
   "source": [
    "#### Transform to principal components\n",
    "\n",
    "Limit the number of components as you find suitable.\n",
    "\n",
    "- Instantiate PCA\n",
    "- Fit and transform the image\n",
    "- Extract the explained variance and the explained variance ratio"
   ]
  },
  {
   "cell_type": "code",
   "execution_count": 9,
   "metadata": {},
   "outputs": [],
   "source": [
    "from sklearn.decomposition import PCA"
   ]
  },
  {
   "cell_type": "code",
   "execution_count": null,
   "metadata": {},
   "outputs": [],
   "source": []
  },
  {
   "cell_type": "markdown",
   "metadata": {},
   "source": [
    "#### Produce a scree plot\n",
    "\n",
    "Plot the explained variance and the explained variance ratio versus the number of principal components."
   ]
  },
  {
   "cell_type": "code",
   "execution_count": null,
   "metadata": {},
   "outputs": [],
   "source": []
  },
  {
   "cell_type": "markdown",
   "metadata": {},
   "source": [
    "#### Plot the transformed image in the (reduced) principal component coordinates "
   ]
  },
  {
   "cell_type": "code",
   "execution_count": null,
   "metadata": {},
   "outputs": [],
   "source": []
  },
  {
   "cell_type": "markdown",
   "metadata": {},
   "source": [
    "#### Plot the matrix obtained with `pca.components` as an image"
   ]
  },
  {
   "cell_type": "code",
   "execution_count": null,
   "metadata": {},
   "outputs": [],
   "source": []
  },
  {
   "cell_type": "markdown",
   "metadata": {},
   "source": [
    "#### Apply the inverse transform to the transformed image. "
   ]
  },
  {
   "cell_type": "code",
   "execution_count": null,
   "metadata": {},
   "outputs": [],
   "source": []
  },
  {
   "cell_type": "markdown",
   "metadata": {},
   "source": [
    "#### Plot the image obtained after inverse transform. Compare to the original image."
   ]
  },
  {
   "cell_type": "code",
   "execution_count": null,
   "metadata": {},
   "outputs": [],
   "source": []
  },
  {
   "cell_type": "markdown",
   "metadata": {},
   "source": [
    "### Bonus: Apply clustering to the dataset with all images. Evaluate the assigned cluster labels against the true labels contained in `dataset.target`.\n",
    "\n",
    "Hints:\n",
    "- The original dataset contains faces of 40 different persons.\n",
    "- Have a look at the different available distance metrics, e.g. `cosine`."
   ]
  },
  {
   "cell_type": "code",
   "execution_count": 10,
   "metadata": {},
   "outputs": [],
   "source": [
    "from sklearn import metrics\n",
    "from sklearn.cluster import KMeans, AgglomerativeClustering, DBSCAN"
   ]
  },
  {
   "cell_type": "code",
   "execution_count": null,
   "metadata": {},
   "outputs": [],
   "source": []
  },
  {
   "cell_type": "markdown",
   "metadata": {},
   "source": [
    "### Bonus: PCA transform the whole dataset and fit a logistic regression model"
   ]
  },
  {
   "cell_type": "code",
   "execution_count": 11,
   "metadata": {},
   "outputs": [],
   "source": [
    "from sklearn.linear_model import LogisticRegression, LogisticRegressionCV"
   ]
  },
  {
   "cell_type": "code",
   "execution_count": null,
   "metadata": {},
   "outputs": [],
   "source": []
  }
 ],
 "metadata": {
  "kernelspec": {
   "display_name": "Python [conda root]",
   "language": "python",
   "name": "conda-root-py"
  },
  "language_info": {
   "codemirror_mode": {
    "name": "ipython",
    "version": 3
   },
   "file_extension": ".py",
   "mimetype": "text/x-python",
   "name": "python",
   "nbconvert_exporter": "python",
   "pygments_lexer": "ipython3",
   "version": "3.6.4"
  },
  "toc": {
   "nav_menu": {},
   "number_sections": false,
   "sideBar": true,
   "skip_h1_title": true,
   "title_cell": "Table of Contents",
   "title_sidebar": "Contents",
   "toc_cell": false,
   "toc_position": {
    "height": "293px",
    "left": "0px",
    "right": "637.295px",
    "top": "106px",
    "width": "94px"
   },
   "toc_section_display": "block",
   "toc_window_display": false
  }
 },
 "nbformat": 4,
 "nbformat_minor": 2
}
