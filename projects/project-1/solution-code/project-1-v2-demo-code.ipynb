{
 "cells": [
  {
   "cell_type": "markdown",
   "metadata": {},
   "source": [
    "<img src=\"http://imgur.com/1ZcRyrc.png\" style=\"float: left; margin: 15px; height: 80px\">\n",
    "\n",
    "# Project 1\n",
    "\n",
    "### Building \"Pokemon Stay\"\n",
    "\n",
    "---\n",
    "You are an analyst at a \"scrappy\" online gaming company that specializes in remakes of last year's fads.\n",
    "\n",
    "Your boss, who runs the product development team, is convinced that Pokemon Go's fatal flaw was that you had to actually move around outside. She has design mock-ups for a new game called Pokemon Stay: in this version players still need to move, but just from website to website. Pokemon gyms are now popular online destinations, and catching Pokemon in the \"wild\" simply requires browsing the internet for hours in the comfort of your home.\n",
    "\n",
    "She wants you to program a prototype version of the game, and analyze the planned content to help the team calibrate the design."
   ]
  },
  {
   "cell_type": "markdown",
   "metadata": {
    "toc": true
   },
   "source": [
    "<h1>Table of Contents<span class=\"tocSkip\"></span></h1>\n",
    "<div class=\"toc\"><ul class=\"toc-item\"><li><ul class=\"toc-item\"><li><span><a href=\"#Building-&quot;Pokemon-Stay&quot;\" data-toc-modified-id=\"Building-&quot;Pokemon-Stay&quot;-0.1\">Building \"Pokemon Stay\"</a></span><ul class=\"toc-item\"><li><span><a href=\"#Package-imports\" data-toc-modified-id=\"Package-imports-0.1.1\">Package imports</a></span></li></ul></li></ul></li><li><span><a href=\"#1.-Defining-a-player\" data-toc-modified-id=\"1.-Defining-a-player-1\">1. Defining a player</a></span></li><li><span><a href=\"#2.-Defining-&quot;gym&quot;-locations\" data-toc-modified-id=\"2.-Defining-&quot;gym&quot;-locations-2\">2. Defining \"gym\" locations</a></span></li><li><span><a href=\"#3.-Create-a-pokedex\" data-toc-modified-id=\"3.-Create-a-pokedex-3\">3. Create a pokedex</a></span></li><li><span><a href=\"#4.-Create-a-data-structure-for-players\" data-toc-modified-id=\"4.-Create-a-data-structure-for-players-4\">4. Create a data structure for players</a></span><ul class=\"toc-item\"><li><span><a href=\"#4.1\" data-toc-modified-id=\"4.1-4.1\">4.1</a></span></li><li><span><a href=\"#4.2\" data-toc-modified-id=\"4.2-4.2\">4.2</a></span></li></ul></li><li><span><a href=\"#5.-Add-captured-pokemon-for-each-player\" data-toc-modified-id=\"5.-Add-captured-pokemon-for-each-player-5\">5. Add captured pokemon for each player</a></span></li><li><span><a href=\"#6.-What-gyms-have-players-visited?\" data-toc-modified-id=\"6.-What-gyms-have-players-visited?-6\">6. What gyms have players visited?</a></span><ul class=\"toc-item\"><li><span><a href=\"#6.1\" data-toc-modified-id=\"6.1-6.1\">6.1</a></span></li><li><span><a href=\"#6.2\" data-toc-modified-id=\"6.2-6.2\">6.2</a></span></li></ul></li><li><span><a href=\"#7.-Calculate-player-&quot;power&quot;.\" data-toc-modified-id=\"7.-Calculate-player-&quot;power&quot;.-7\">7. Calculate player \"power\".</a></span></li><li><span><a href=\"#8.-Load-a-pokedex-file-containing-all-the-pokemon\" data-toc-modified-id=\"8.-Load-a-pokedex-file-containing-all-the-pokemon-8\">8. Load a pokedex file containing all the pokemon</a></span><ul class=\"toc-item\"><li><span><a href=\"#8.1\" data-toc-modified-id=\"8.1-8.1\">8.1</a></span></li><li><span><a href=\"#8.2-Parse-the-raw-pokedex-with-list-comprehensions\" data-toc-modified-id=\"8.2-Parse-the-raw-pokedex-with-list-comprehensions-8.2\">8.2 Parse the raw pokedex with list comprehensions</a></span></li></ul></li><li><span><a href=\"#9.-Write-a-function-to-generate-the-full-pokedex\" data-toc-modified-id=\"9.-Write-a-function-to-generate-the-full-pokedex-9\">9. Write a function to generate the full pokedex</a></span></li><li><span><a href=\"#10.-Write-a-function-to-generate-a-&quot;filtered&quot;-pokedex\" data-toc-modified-id=\"10.-Write-a-function-to-generate-a-&quot;filtered&quot;-pokedex-10\">10. Write a function to generate a \"filtered\" pokedex</a></span></li><li><span><a href=\"#11.-Descriptive-statistics-on-the-prototype-pokedex\" data-toc-modified-id=\"11.-Descriptive-statistics-on-the-prototype-pokedex-11\">11. Descriptive statistics on the prototype pokedex</a></span><ul class=\"toc-item\"><li><span><a href=\"#11.1\" data-toc-modified-id=\"11.1-11.1\">11.1</a></span></li><li><span><a href=\"#11.2\" data-toc-modified-id=\"11.2-11.2\">11.2</a></span></li></ul></li><li><span><a href=\"#12.-Calibrate-the-frequency-of-Pokemon\" data-toc-modified-id=\"12.-Calibrate-the-frequency-of-Pokemon-12\">12. Calibrate the frequency of Pokemon</a></span></li></ul></div>"
   ]
  },
  {
   "cell_type": "markdown",
   "metadata": {},
   "source": [
    "#### Package imports\n",
    "\n",
    "The pprint package below is the only package imported here, and it's not even strictly required to do any of the project. Printing python variables and objects with pprint can help to format them in a \"prettier\" way."
   ]
  },
  {
   "cell_type": "code",
   "execution_count": 1,
   "metadata": {},
   "outputs": [],
   "source": [
    "from pprint import pprint"
   ]
  },
  {
   "cell_type": "markdown",
   "metadata": {},
   "source": [
    "<img src=\"http://imgur.com/l5NasQj.png\" style=\"float: left; margin: 25px 15px 0px 0px; height: 25px\">\n",
    "\n",
    "## 1. Defining a player\n",
    "\n",
    "---\n",
    "\n",
    "The player variables are:\n",
    "\n",
    "    player_id : id code unique to each player (integer)\n",
    "    player_name : entered name of the player (string)\n",
    "    time_played : number of times played the game in minutes (float)\n",
    "    player_pokemon: the player's captured pokemon (dictionary)\n",
    "    gyms_visited: ids of the gyms that a player has visited (list)\n",
    "    \n",
    "Create the components for a player object by defining each of these variables. The dictionary and list variables should just be defined as empty; you can use any (correctly typed) values for the others."
   ]
  },
  {
   "cell_type": "code",
   "execution_count": 2,
   "metadata": {},
   "outputs": [],
   "source": [
    "# Player 1:\n",
    "player_id = 1\n",
    "player_name = 'Ash'\n",
    "time_played = 0.\n",
    "player_pokemon = {}\n",
    "gyms_visited = []"
   ]
  },
  {
   "cell_type": "markdown",
   "metadata": {},
   "source": [
    "<img src=\"http://imgur.com/l5NasQj.png\" style=\"float: left; margin: 25px 15px 0px 0px; height: 25px\">\n",
    "\n",
    "## 2. Defining \"gym\" locations\n",
    "\n",
    "---\n",
    "\n",
    "As the sole programmer, Pokemon Stay will have to start small. To begin, there will be 10 different gym location websites on the internet. The gym locations are:\n",
    "\n",
    "    1. 'reddit.com'\n",
    "    2. 'amazon.com'\n",
    "    3. 'twitter.com'\n",
    "    4. 'linkedin.com'\n",
    "    5. 'ebay.com'\n",
    "    6. 'netflix.com'\n",
    "    7. 'amazon.com'\n",
    "    8. 'stackoverflow.com'\n",
    "    9. 'github.com'\n",
    "    10. 'quora.com'\n",
    "\n",
    "1. Set up a list of all the gym locations. This will be a list of strings.\n",
    "2. Append two of these locations to your player's list of visited gyms.\n",
    "3. Print the list."
   ]
  },
  {
   "cell_type": "code",
   "execution_count": 3,
   "metadata": {},
   "outputs": [
    {
     "name": "stdout",
     "output_type": "stream",
     "text": [
      "['amazon.com', 'ebay.com']\n"
     ]
    }
   ],
   "source": [
    "pokemon_gyms = [\n",
    "    'reddit.com',\n",
    "    'amazon.com',\n",
    "    'twitter.com',\n",
    "    'linkedin.com',\n",
    "    'ebay.com',\n",
    "    'netflix.com',\n",
    "    'amazon.com',\n",
    "    'stackoverflow.com',\n",
    "    'github.com',\n",
    "    'quora.com'\n",
    "]\n",
    "\n",
    "gyms_visited.append(pokemon_gyms[1])\n",
    "gyms_visited.append(pokemon_gyms[4])\n",
    "\n",
    "print(gyms_visited)"
   ]
  },
  {
   "cell_type": "markdown",
   "metadata": {},
   "source": [
    "<img src=\"http://imgur.com/l5NasQj.png\" style=\"float: left; margin: 25px 15px 0px 0px; height: 25px\">\n",
    "\n",
    "## 3. Create a pokedex\n",
    "\n",
    "---\n",
    "\n",
    "We also need to create some pokemon to catch. Each pokemon will be defined by these variables:\n",
    "\n",
    "    pokemon_id : unique identifier for each pokemon (integer)\n",
    "    name : the name of the pokemon (string)\n",
    "    type : the category of pokemon (string)\n",
    "    hp : base hitpoints (integer)\n",
    "    attack : base attack (integer)\n",
    "    defense : base defense (integer)\n",
    "    special_attack : base special attack (integer)\n",
    "    special_defense : base sepecial defense (integer)\n",
    "    speed : base speed (integer)\n",
    "\n",
    "We are only going to create 3 different pokemon with these `pokemon_id` and `pokemon_name` values:\n",
    "\n",
    "    1 : 'charmander'\n",
    "    2 : 'squirtle'\n",
    "    3 : 'bulbasaur'\n",
    "\n",
    "Create a dictionary that will contain the pokemon. The keys of the dictionary will be the `pokemon_id` and the values will themselves be dictionaries that contain the other pokemon variables. The structure of the pokedex dictionary will start like so:\n",
    "     \n",
    "     {\n",
    "         1: {\n",
    "                 'name':'charmander',\n",
    "                 'type':'fire',\n",
    "                 ...\n",
    "                 \n",
    "The `type` of charmander, squirtle, and bulbasaur should be `'fire'`, `'water'`, and `'poison'` respectively. The other values are up to you, make them anything you like!\n",
    "\n",
    "Print (or pretty print) the pokedex dictionary with the 3 pokemon."
   ]
  },
  {
   "cell_type": "code",
   "execution_count": 4,
   "metadata": {},
   "outputs": [
    {
     "name": "stdout",
     "output_type": "stream",
     "text": [
      "{1: {'attack': 12,\n",
      "     'defense': 11,\n",
      "     'hp': 10,\n",
      "     'name': 'charmander',\n",
      "     'special_attack': 15,\n",
      "     'special_defense': 9,\n",
      "     'speed': 13,\n",
      "     'type': 'fire'},\n",
      " 2: {'attack': 13,\n",
      "     'defense': 10,\n",
      "     'hp': 9,\n",
      "     'name': 'squirtle',\n",
      "     'special_attack': 13,\n",
      "     'special_defense': 12,\n",
      "     'speed': 12,\n",
      "     'type': 'water'},\n",
      " 3: {'attack': 11,\n",
      "     'defense': 14,\n",
      "     'hp': 11,\n",
      "     'name': 'bulbasaur',\n",
      "     'special_attack': 12,\n",
      "     'special_defense': 14,\n",
      "     'speed': 11,\n",
      "     'type': 'poison'}}\n"
     ]
    }
   ],
   "source": [
    "pokedex = {\n",
    "    1:{\n",
    "        'name':'charmander',\n",
    "        'type':'fire',\n",
    "        'hp': 10,\n",
    "        'attack': 12,\n",
    "        'defense': 11,\n",
    "        'special_attack': 15,\n",
    "        'special_defense': 9,\n",
    "        'speed': 13\n",
    "    },\n",
    "    2:{\n",
    "        'name':'squirtle',\n",
    "        'type':'water',\n",
    "        'hp': 9,\n",
    "        'attack': 13,\n",
    "        'defense': 10,\n",
    "        'special_attack': 13,\n",
    "        'special_defense': 12,\n",
    "        'speed': 12\n",
    "    },\n",
    "    3:{\n",
    "        'name':'bulbasaur',\n",
    "        'type':'poison',\n",
    "        'hp': 11,\n",
    "        'attack': 11,\n",
    "        'defense': 14,\n",
    "        'special_attack': 12,\n",
    "        'special_defense': 14,\n",
    "        'speed': 11\n",
    "    },\n",
    "}\n",
    "\n",
    "pprint(pokedex)"
   ]
  },
  {
   "cell_type": "markdown",
   "metadata": {},
   "source": [
    "<img src=\"http://imgur.com/l5NasQj.png\" style=\"float: left; margin: 25px 15px 0px 0px; height: 25px\">\n",
    "\n",
    "## 4. Create a data structure for players\n",
    "\n",
    "---\n",
    "\n",
    "### 4.1 \n",
    "\n",
    "In order to maintain a database of multiple players, create a dictionary that keeps track of players indexed by `player_id`. \n",
    "\n",
    "The keys of the dictionary will be `player_id` and the values will be dictionaries containing each player's variables (from question 1). \n",
    "\n",
    "Construct the `players` dictionary and insert the player that you defined in question 1, then print `players`."
   ]
  },
  {
   "cell_type": "code",
   "execution_count": 5,
   "metadata": {},
   "outputs": [
    {
     "name": "stdout",
     "output_type": "stream",
     "text": [
      "{1: {'gyms_visited': ['amazon.com', 'ebay.com'],\n",
      "     'player_name': 'Ash',\n",
      "     'player_pokemon': {},\n",
      "     'time_played': 0.0}}\n"
     ]
    }
   ],
   "source": [
    "players = {\n",
    "    1:{\n",
    "        'player_name':player_name,\n",
    "        'time_played':time_played,\n",
    "        'player_pokemon':player_pokemon,\n",
    "        'gyms_visited':gyms_visited\n",
    "    }\n",
    "}\n",
    "\n",
    "pprint(players)"
   ]
  },
  {
   "cell_type": "markdown",
   "metadata": {},
   "source": [
    "---\n",
    "\n",
    "### 4.2\n",
    "\n",
    "Create a new player with `player_id = 2` in the `players` dictionary. Leave the `'player_pokemon'` dictionary empty. Append `'stackoverflow'` and `'github.com'` to the `'gyms_visited'` list for player 2.\n",
    "\n",
    "The `'player_name'` and `'time_played'` values are up to you, but must be a string and float, respectively.\n",
    "\n",
    "Remember, the player_id is the key for the player in the players dictionary.\n",
    "\n",
    "Print the `players` dictionary with the new player inserted."
   ]
  },
  {
   "cell_type": "code",
   "execution_count": 6,
   "metadata": {},
   "outputs": [
    {
     "name": "stdout",
     "output_type": "stream",
     "text": [
      "{1: {'gyms_visited': ['amazon.com', 'ebay.com'],\n",
      "     'player_name': 'Ash',\n",
      "     'player_pokemon': {},\n",
      "     'time_played': 0.0},\n",
      " 2: {'gyms_visited': ['stackoverflow.com', 'github.com'],\n",
      "     'player_name': 'Brock',\n",
      "     'player_pokemon': {},\n",
      "     'time_played': 10.0}}\n"
     ]
    }
   ],
   "source": [
    "players[2] = {\n",
    "    'player_name':'Brock',\n",
    "    'gyms_visited':['stackoverflow.com','github.com'],\n",
    "    'time_played':10.0,\n",
    "    'player_pokemon':{}\n",
    "}\n",
    "\n",
    "pprint(players)"
   ]
  },
  {
   "cell_type": "markdown",
   "metadata": {},
   "source": [
    "<img src=\"http://imgur.com/l5NasQj.png\" style=\"float: left; margin: 25px 15px 0px 0px; height: 25px\">\n",
    "\n",
    "## 5. Add captured pokemon for each player\n",
    "\n",
    "---\n",
    "\n",
    "The `'player_pokemon'` keyed dictionaries for each player keep track of which of the pokemon each player has.\n",
    "\n",
    "The keys of the `'player_pokemon'` dictionaries are the pokemon ids that correspond to the ids in the `pokedex` dictionary you created earlier. The values are integers specifying the stats for the pokemon.\n",
    "\n",
    "Give player 1 a squirtle. Give player 2 a charmander and a bulbasaur.\n",
    "\n",
    "Print the players dictionary after adding the pokemon for each player.\n"
   ]
  },
  {
   "cell_type": "code",
   "execution_count": 7,
   "metadata": {},
   "outputs": [
    {
     "name": "stdout",
     "output_type": "stream",
     "text": [
      "{1: {'gyms_visited': ['amazon.com', 'ebay.com'],\n",
      "     'player_name': 'Ash',\n",
      "     'player_pokemon': {2: {'attack': 13,\n",
      "                            'defense': 10,\n",
      "                            'hp': 9,\n",
      "                            'name': 'squirtle',\n",
      "                            'special_attack': 13,\n",
      "                            'special_defense': 12,\n",
      "                            'speed': 12,\n",
      "                            'type': 'water'}},\n",
      "     'time_played': 0.0},\n",
      " 2: {'gyms_visited': ['stackoverflow.com', 'github.com'],\n",
      "     'player_name': 'Brock',\n",
      "     'player_pokemon': {1: {'attack': 12,\n",
      "                            'defense': 11,\n",
      "                            'hp': 10,\n",
      "                            'name': 'charmander',\n",
      "                            'special_attack': 15,\n",
      "                            'special_defense': 9,\n",
      "                            'speed': 13,\n",
      "                            'type': 'fire'},\n",
      "                        3: {'attack': 11,\n",
      "                            'defense': 14,\n",
      "                            'hp': 11,\n",
      "                            'name': 'bulbasaur',\n",
      "                            'special_attack': 12,\n",
      "                            'special_defense': 14,\n",
      "                            'speed': 11,\n",
      "                            'type': 'poison'}},\n",
      "     'time_played': 10.0}}\n"
     ]
    }
   ],
   "source": [
    "players[1]['player_pokemon'][2] = pokedex[2]\n",
    "\n",
    "players[2]['player_pokemon'][1] = pokedex[1]\n",
    "players[2]['player_pokemon'][3] = pokedex[3]\n",
    "\n",
    "pprint(players)"
   ]
  },
  {
   "cell_type": "markdown",
   "metadata": {},
   "source": [
    "\n",
    "\n",
    "## 6. What gyms have players visited?\n",
    "\n",
    "---\n",
    "<img src=\"http://imgur.com/l5NasQj.png\" style=\"float: left; margin: 25px 15px 0px 0px; height: 25px\">\n",
    "### 6.1\n",
    "\n",
    "Write a for-loop that:\n",
    "\n",
    "1. Iterates through the `pokemon_gyms` list of gym locations you defined before.\n",
    "2. For each gym, iterate through each player in the `players` dictionary with a second, internal for-loop.\n",
    "3. If the player has visited the gym, print out \"[player] has visited [gym location].\", filling in [player] and [gym location] with the current player's name and current gym location."
   ]
  },
  {
   "cell_type": "code",
   "execution_count": 8,
   "metadata": {},
   "outputs": [
    {
     "name": "stdout",
     "output_type": "stream",
     "text": [
      "Ash has visited amazon.com.\n",
      "Ash has visited ebay.com.\n",
      "Ash has visited amazon.com.\n",
      "Brock has visited stackoverflow.com.\n",
      "Brock has visited github.com.\n"
     ]
    }
   ],
   "source": [
    "for gym in pokemon_gyms:\n",
    "    for player, player_dict in list(players.items()):\n",
    "        if gym in player_dict['gyms_visited']:\n",
    "            print(player_dict['player_name']+' has visited '+gym+'.')"
   ]
  },
  {
   "cell_type": "markdown",
   "metadata": {},
   "source": [
    "<img src=\"http://imgur.com/xDpSobf.png\" style=\"float: left; margin: 25px 15px 0px 0px; height: 25px\">\n",
    "### 6.2\n",
    "\n",
    "How many times did that loop run? If you have N gyms and also N players, how many times would it run as a function of N?\n",
    "\n",
    "Can you think of a more efficient way to accomplish the same thing? \n",
    "\n",
    "(You can write your answer as Markdown text.)"
   ]
  },
  {
   "cell_type": "code",
   "execution_count": 9,
   "metadata": {},
   "outputs": [
    {
     "name": "stdout",
     "output_type": "stream",
     "text": [
      "Ash has visited amazon.com.\n",
      "Ash has visited ebay.com.\n",
      "Brock has visited stackoverflow.com.\n",
      "Brock has visited github.com.\n"
     ]
    }
   ],
   "source": [
    "for player, player_dict in list(players.items()):\n",
    "    for gym in player_dict['gyms_visited']:\n",
    "        print(player_dict['player_name']+' has visited '+gym+'.')"
   ]
  },
  {
   "cell_type": "markdown",
   "metadata": {},
   "source": [
    "<img src=\"http://imgur.com/l5NasQj.png\" style=\"float: left; margin: 25px 15px 0px 0px; height: 25px\">\n",
    "\n",
    "## 7. Calculate player \"power\".\n",
    "\n",
    "---\n",
    "\n",
    "Define a function that will calculate a player's \"power\". Player power is defined as the sum of the base statistics all of their pokemon.\n",
    "\n",
    "Your function will:\n",
    "\n",
    "1. Accept the `players` dictionary, `pokedex` dictionary, and a player_id as arguments.\n",
    "2. For the specified player_id, look up that player's pokemon and their level(s).\n",
    "3. Find and aggregate the attack and defense values for each of the player's pokemon from the `pokedex` dictionary.\n",
    "4. Print \"[player name]'s power is [player power].\", where the player power is the sum of the base statistics for all of their pokemon.\n",
    "5. Return the player's power value.\n",
    "\n",
    "Print out the pokemon power for each of your players."
   ]
  },
  {
   "cell_type": "code",
   "execution_count": 10,
   "metadata": {},
   "outputs": [],
   "source": [
    "def calculate_player_power(players, pokedex, player_id):\n",
    "    player_dict = players[player_id]\n",
    "    player_name = player_dict['player_name']\n",
    "    \n",
    "    stats = []\n",
    "    for pokemon in list(player_dict['player_pokemon'].keys()):\n",
    "        attack = pokedex[pokemon]['attack']\n",
    "        defense = pokedex[pokemon]['defense']\n",
    "        hp = pokedex[pokemon]['hp']\n",
    "        special_attack = pokedex[pokemon]['special_attack']\n",
    "        special_defense = pokedex[pokemon]['special_defense']\n",
    "        \n",
    "        stats.extend([attack, defense, hp, special_attack, special_defense])\n",
    "        \n",
    "    power = sum(stats)\n",
    "    print(player_name+\"'s power is \"+str(power)+'.')\n",
    "    \n",
    "    return power"
   ]
  },
  {
   "cell_type": "code",
   "execution_count": 11,
   "metadata": {},
   "outputs": [
    {
     "name": "stdout",
     "output_type": "stream",
     "text": [
      "Ash's power is 57.\n",
      "57\n",
      "Brock's power is 119.\n",
      "119\n"
     ]
    }
   ],
   "source": [
    "print(calculate_player_power(players, pokedex, 1))\n",
    "print(calculate_player_power(players, pokedex, 2))"
   ]
  },
  {
   "cell_type": "markdown",
   "metadata": {
    "collapsed": true
   },
   "source": [
    "<img src=\"http://imgur.com/l5NasQj.png\" style=\"float: left; margin: 25px 15px 0px 0px; height: 25px\">\n",
    "\n",
    "## 8. Load a pokedex file containing all the pokemon\n",
    "\n",
    "---\n",
    "\n",
    "### 8.1\n",
    "\n",
    "While you were putting together the prototype code, your colleagues were preparing a dataset of Pokemon and their attributes. (This was a rush job, so they may have picked some crazy values for some...)\n",
    "\n",
    "The code below loads information from a comma separated value (csv) file. You need to parse this string into a more useable format. The format of the string is:\n",
    "\n",
    "- Rows are separated by newline characters: \\n\n",
    "- Columns are separated by commas: ,\n",
    "- All cells in the csv are double quoted. Ex: \"PokedexNumber\" is the first cell of the first row.\n",
    "\n",
    "\n",
    "Using for-loops, create a list of lists where each list within the overall list is a row of the csv/matrix, and each element in that list is a cell in that row. Additional criteria:\n",
    "\n",
    "1. Quotes are removed from each cell item.\n",
    "2. Numeric column values are converted to floats.\n",
    "3. There are some cells that are empty and have no information. For these cells put a -1 value in place.\n",
    "\n",
    "Your end result is effectively a matrix. Each list in the outer list is a row, and the *j*th elements of the list together form the *j*th column, which represents a data attribute. The first three lists in your pokedex list should look like this:\n",
    "\n",
    "    ['PokedexNumber', 'Name', 'Type', 'Total', 'HP', 'Attack', 'Defense', 'SpecialAttack', 'SpecialDefense', 'Speed']\n",
    "    [1.0, 'Bulbasaur', 'GrassPoison', 318.0, 45.0, 49.0, 49.0, 65.0, 65.0, 45.0]\n",
    "    [2.0, 'Ivysaur', 'GrassPoison', 405.0, 60.0, 62.0, 63.0, 80.0, 80.0, 60.0]"
   ]
  },
  {
   "cell_type": "code",
   "execution_count": 12,
   "metadata": {},
   "outputs": [],
   "source": [
    "# Code to read in pokedex info\n",
    "raw_pd = ''\n",
    "pokedex_file = '../pokedex_basic.csv'\n",
    "with open(pokedex_file, 'r') as f:\n",
    "    raw_pd = f.read()\n",
    "    \n",
    "# the pokedex string is assigned to the raw_pd variable"
   ]
  },
  {
   "cell_type": "code",
   "execution_count": 13,
   "metadata": {},
   "outputs": [],
   "source": [
    "pd = []\n",
    "string_column_indices = [1,2]\n",
    "\n",
    "for r, raw_row in enumerate(raw_pd.split('\\n')):\n",
    "    row = []\n",
    "    for i, cell in enumerate(raw_row.split(',')):\n",
    "        cell = cell.replace('\"','')\n",
    "        if cell == '':\n",
    "            cell = -1\n",
    "        if r > 0:\n",
    "            if not i in string_column_indices:\n",
    "                cell = float(cell)\n",
    "        row.append(cell)\n",
    "    pd.append(row)"
   ]
  },
  {
   "cell_type": "code",
   "execution_count": 14,
   "metadata": {},
   "outputs": [
    {
     "name": "stdout",
     "output_type": "stream",
     "text": [
      "['PokedexNumber', 'Name', 'Type', 'Total', 'HP', 'Attack', 'Defense', 'SpecialAttack', 'SpecialDefense', 'Speed']\n",
      "[1.0, 'Bulbasaur', 'GrassPoison', 318.0, 45.0, 49.0, 49.0, 65.0, 65.0, 45.0]\n",
      "[2.0, 'Ivysaur', 'GrassPoison', 405.0, 60.0, 62.0, 63.0, 80.0, 80.0, 60.0]\n"
     ]
    }
   ],
   "source": [
    "for p in pd[0:3]:\n",
    "    print(p)"
   ]
  },
  {
   "cell_type": "markdown",
   "metadata": {},
   "source": [
    "<img src=\"http://imgur.com/xDpSobf.png\" style=\"float: left; margin: 25px 15px 0px 0px; height: 25px\">\n",
    "\n",
    "### 8.2 Parse the raw pokedex with list comprehensions\n",
    "\n",
    "---\n",
    "\n",
    "Perform the same parsing as above, but **using only a single list comprehension** instead of for loops. You may have nested list comprehensions within the main list comprehension! The output should be exactly the same."
   ]
  },
  {
   "cell_type": "code",
   "execution_count": 15,
   "metadata": {},
   "outputs": [],
   "source": [
    "pd_lc = [\n",
    "    [-1 if len(c) == 0 \n",
    "     else float(c) if not i in string_column_indices \n",
    "     else c \n",
    "     for i, c in enumerate(cells)\n",
    "    ] if r > 0\n",
    "    else cells\n",
    "    for r, cells in enumerate([[cell.replace('\"','') for cell in raw_row.split(',')]\n",
    "                               for raw_row in raw_pd.split('\\n')])\n",
    "]\n"
   ]
  },
  {
   "cell_type": "code",
   "execution_count": 16,
   "metadata": {},
   "outputs": [
    {
     "data": {
      "text/plain": [
       "[['PokedexNumber',\n",
       "  'Name',\n",
       "  'Type',\n",
       "  'Total',\n",
       "  'HP',\n",
       "  'Attack',\n",
       "  'Defense',\n",
       "  'SpecialAttack',\n",
       "  'SpecialDefense',\n",
       "  'Speed'],\n",
       " [1.0, 'Bulbasaur', 'GrassPoison', 318.0, 45.0, 49.0, 49.0, 65.0, 65.0, 45.0],\n",
       " [2.0, 'Ivysaur', 'GrassPoison', 405.0, 60.0, 62.0, 63.0, 80.0, 80.0, 60.0]]"
      ]
     },
     "execution_count": 16,
     "metadata": {},
     "output_type": "execute_result"
    }
   ],
   "source": [
    "pd_lc[0:3]"
   ]
  },
  {
   "cell_type": "markdown",
   "metadata": {},
   "source": [
    "<img src=\"http://imgur.com/l5NasQj.png\" style=\"float: left; margin: 25px 15px 0px 0px; height: 25px\">\n",
    "\n",
    "## 9. Write a function to generate the full pokedex\n",
    "\n",
    "---\n",
    "\n",
    "Write a function that recreates the pokedex you made before, but with the data read in from the full pokemon file. \n",
    "Create a unique key value for each entry in the pokemon dictionary.\n",
    "\n",
    "Your function should:\n",
    "\n",
    "1. Take the parsed pokedex information you created above as an argument.\n",
    "2. Return a dictionary in the same format as your original pokedex you created before containing the information from the parsed full pokedex file.\n",
    "\n",
    "To test the function, print out the pokemon with id = 100."
   ]
  },
  {
   "cell_type": "code",
   "execution_count": 17,
   "metadata": {
    "scrolled": true
   },
   "outputs": [
    {
     "name": "stdout",
     "output_type": "stream",
     "text": [
      "{'Attack': 35.0,\n",
      " 'Defense': 30.0,\n",
      " 'HP': 30.0,\n",
      " 'Name': 'Gastly',\n",
      " 'SpecialAttack': 100.0,\n",
      " 'SpecialDefense': 35.0,\n",
      " 'Speed': 80.0,\n",
      " 'Total': 310.0,\n",
      " 'Type': 'GhostPoison'}\n"
     ]
    }
   ],
   "source": [
    "def generate_pokedex(pd):\n",
    "    \n",
    "    header = pd[0]\n",
    "    pokemon_data = pd[1:]\n",
    "    pokedex = {}\n",
    "    index = 1\n",
    "    \n",
    "    for pokemon_row in pokemon_data:\n",
    "        pokemon = {k:v for k, v in zip(header[1:], pokemon_row[1:])}\n",
    "        pokedex[index] = pokemon\n",
    "        index += 1\n",
    "        \n",
    "    return pokedex\n",
    "\n",
    "full_pokedex = generate_pokedex(pd)\n",
    "\n",
    "pprint(full_pokedex[100])"
   ]
  },
  {
   "cell_type": "code",
   "execution_count": 18,
   "metadata": {},
   "outputs": [
    {
     "data": {
      "text/plain": [
       "800"
      ]
     },
     "execution_count": 18,
     "metadata": {},
     "output_type": "execute_result"
    }
   ],
   "source": [
    "len(full_pokedex.keys())"
   ]
  },
  {
   "cell_type": "markdown",
   "metadata": {},
   "source": [
    "<img src=\"http://imgur.com/xDpSobf.png\" style=\"float: left; margin: 25px 15px 0px 0px; height: 25px\">\n",
    "\n",
    "## 10. Write a function to generate a \"filtered\" pokedex\n",
    "---\n",
    "Your function should:\n",
    "1. Take the parsed pokedex information you created above as an argument.\n",
    "1. Take a dictionary as a parameter with keys matching the features of the Pokedex, filtering by exact match for string type values, and/or filter continuous variables specified by a value that is greater than or equal to the value of the corresponding dictionary key parameter.\n",
    "1. Return multiple elements from the Pokedex\n",
    "\n",
    "Example:\n",
    "\n",
    "```python\n",
    "\n",
    "# Only filter based on parameters passed\n",
    "filter_options = {\n",
    "    'Attack':   25,\n",
    "    'Defense':  30,\n",
    "    'Type':     'Electric'\n",
    "}\n",
    "\n",
    "# Return records with attack >= 24, defense >= 30, and type == \"Electric\"\n",
    "# Also anticipate that other paramters can also be passed such as \"SpecialAttack\", \"Speed\", etc.\n",
    "filtered_pokedex(pokedex_data, filter=filter_options)\n",
    "\n",
    "# Example output:\n",
    "# [{'Attack': 30.0,\n",
    "#  'Defense': 50.0,\n",
    "#  'HP': 40.0,\n",
    "#  'Name': 'Voltorb',\n",
    "#  'SpecialAttack': 55.0,\n",
    "#  'SpecialDefense': 55.0,\n",
    "#  'Speed': 100.0,\n",
    "#  'Total': 330.0,\n",
    "#  'Type': 'Electric'},\n",
    "#  {'Attack': 30.0,\n",
    "#  'Defense': 33.0,\n",
    "#  'HP': 32.0,\n",
    "#  'Name': 'Pikachu',\n",
    "#  'SpecialAttack': 55.0,\n",
    "#  'SpecialDefense': 55.0,\n",
    "#  'Speed': 100.0,\n",
    "#  'Total': 330.0,\n",
    "#  'Type': 'Electric'},\n",
    "#  ... etc\n",
    "#  ]\n",
    "\n",
    "```\n",
    "\n"
   ]
  },
  {
   "cell_type": "code",
   "execution_count": 19,
   "metadata": {},
   "outputs": [
    {
     "data": {
      "text/plain": [
       "[{'Attack': 100.0,\n",
       "  'Defense': 72.0,\n",
       "  'HP': 74.0,\n",
       "  'Name': 'Carnivine',\n",
       "  'SpecialAttack': 90.0,\n",
       "  'SpecialDefense': 72.0,\n",
       "  'Speed': 46.0,\n",
       "  'Total': 454.0,\n",
       "  'Type': 'Grass'},\n",
       " {'Attack': 100.0,\n",
       "  'Defense': 125.0,\n",
       "  'HP': 100.0,\n",
       "  'Name': 'Tangrowth',\n",
       "  'SpecialAttack': 110.0,\n",
       "  'SpecialDefense': 50.0,\n",
       "  'Speed': 50.0,\n",
       "  'Total': 535.0,\n",
       "  'Type': 'Grass'},\n",
       " {'Attack': 110.0,\n",
       "  'Defense': 130.0,\n",
       "  'HP': 65.0,\n",
       "  'Name': 'Leafeon',\n",
       "  'SpecialAttack': 60.0,\n",
       "  'SpecialDefense': 65.0,\n",
       "  'Speed': 95.0,\n",
       "  'Total': 525.0,\n",
       "  'Type': 'Grass'},\n",
       " {'Attack': 100.0,\n",
       "  'Defense': 100.0,\n",
       "  'HP': 100.0,\n",
       "  'Name': 'ShayminLand Forme',\n",
       "  'SpecialAttack': 100.0,\n",
       "  'SpecialDefense': 100.0,\n",
       "  'Speed': 100.0,\n",
       "  'Total': 600.0,\n",
       "  'Type': 'Grass'},\n",
       " {'Attack': 100.0,\n",
       "  'Defense': 62.0,\n",
       "  'HP': 123.0,\n",
       "  'Name': 'Gogoat',\n",
       "  'SpecialAttack': 97.0,\n",
       "  'SpecialDefense': 81.0,\n",
       "  'Speed': 68.0,\n",
       "  'Total': 531.0,\n",
       "  'Type': 'Grass'}]"
      ]
     },
     "execution_count": 19,
     "metadata": {},
     "output_type": "execute_result"
    }
   ],
   "source": [
    "def filtered_pokedex(pd, filter_options=False):\n",
    "    \n",
    "    header = pd[0]\n",
    "    pokemon_data = pd[1:]\n",
    "    pokedex = []\n",
    "    \n",
    "    # Construct list of dictionaries\n",
    "    for pokemon_row in pokemon_data:\n",
    "        pokemon = {k:v for k, v in zip(header[1:], pokemon_row[1:])}\n",
    "        pokedex.append(pokemon)\n",
    "    \n",
    "    filtered_pokedex = []\n",
    "    \n",
    "    for pokemon in pokedex:\n",
    "        \n",
    "        conditions = []\n",
    "        \n",
    "        for key in filter_options.keys():\n",
    "            if not key in pokemon.keys():\n",
    "                continue\n",
    "            \n",
    "            if type(pokemon[key]) == str and filter_options[key] == pokemon[key]:\n",
    "                conditions.append(True)\n",
    "            elif type(pokemon[key]) in [float, int] and pokemon[key] >= filter_options[key]:\n",
    "                conditions.append(True)\n",
    "            else:\n",
    "                conditions.append(False)\n",
    "            \n",
    "        if all(conditions) and len(pokemon) > 0:\n",
    "            filtered_pokedex.append(pokemon)\n",
    "        \n",
    "    return filtered_pokedex\n",
    "\n",
    "# Add as many qualifiers to test this code out, as long as the keys match\n",
    "filter_options = {\n",
    "    'Attack':   100,\n",
    "    'Defense':  10,\n",
    "    'Type':     'Grass'\n",
    "}\n",
    "\n",
    "\n",
    "filtered_pokedex(pd, filter_options=filter_options)"
   ]
  },
  {
   "cell_type": "markdown",
   "metadata": {
    "collapsed": true
   },
   "source": [
    "\n",
    "## 11. Descriptive statistics on the prototype pokedex\n",
    "\n",
    "<img src=\"http://imgur.com/l5NasQj.png\" style=\"float: left; margin: 25px 15px 0px 0px; height: 25px\">\n",
    "### 11.1\n",
    "\n",
    "What is the population mean and standard deviation of the \"Total\" attribute for all characters in the Pokedex?\n",
    "\n"
   ]
  },
  {
   "cell_type": "code",
   "execution_count": 20,
   "metadata": {},
   "outputs": [
    {
     "name": "stdout",
     "output_type": "stream",
     "text": [
      "435.1275\n",
      "119.96202000529179\n"
     ]
    }
   ],
   "source": [
    "mean = sum([p[3] for p in pd[1:]]) / float(len(pd[1:]))\n",
    "print(mean)\n",
    "\n",
    "sd = (sum([(p[3] - mean)**2 for p in pd[1:]])/float(len(pd[1:])))**(1/2.0)\n",
    "print(sd)"
   ]
  },
  {
   "cell_type": "markdown",
   "metadata": {},
   "source": [
    "<img src=\"http://imgur.com/l5NasQj.png\" style=\"float: left; margin: 25px 15px 0px 0px; height: 25px\">\n",
    "### 11.2\n",
    "\n",
    "The game is no fun if the characters are wildly unbalanced! Are any characters \"overpowered\", which we'll define as having a \"Total\" more than three standard deviations from the population mean?"
   ]
  },
  {
   "cell_type": "code",
   "execution_count": 21,
   "metadata": {},
   "outputs": [
    {
     "data": {
      "text/plain": [
       "[[150.0,\n",
       "  'MewtwoMega Mewtwo X',\n",
       "  'PsychicFighting',\n",
       "  800.0,\n",
       "  126.0,\n",
       "  190.0,\n",
       "  100.0,\n",
       "  154.0,\n",
       "  100.0,\n",
       "  130.0]]"
      ]
     },
     "execution_count": 21,
     "metadata": {},
     "output_type": "execute_result"
    }
   ],
   "source": [
    "[p for p in pd[1:] if p[3] > (mean + 3*sd)]"
   ]
  },
  {
   "cell_type": "markdown",
   "metadata": {},
   "source": [
    "<img src=\"http://imgur.com/xDpSobf.png\" style=\"float: left; margin: 25px 15px 0px 0px; height: 25px\">\n",
    "\n",
    "## 12. Calibrate the frequency of Pokemon\n",
    "\n",
    "The design team wants you to make the powerful Pokemon rare, and the weaklings more common. How would you set the probability $p_i$ of finding Pokemon *i* each time a player visits a gym?\n",
    "\n",
    "Write a function that takes in a Pokedex number and returns a value $p_i$ for that character.\n",
    "\n",
    "Hint: there are many ways you could do this. What do _you_ think makes sense? Start with simplifying assumptions: for example, you could assume that the probabilities of encountering any two Pokemon on one visit to a gym are independent of each other."
   ]
  },
  {
   "cell_type": "markdown",
   "metadata": {},
   "source": [
    "**Possible answer**: let's assume independent probabilities of finding each Pokemon. (One implication: you can find multiple characters on one gym visit.) Now let's say every character should, based on its Total score, have the same \"expected value\" for a player. I.e., for all ( _i_ , _j_ ):\n",
    "\n",
    "$p_i * Total_i$ = $p_j * Total_j$.\n",
    "\n",
    "If we arbitrarily set this expected value to 1.0, how would it affect gameplay? We should check the probability of finding _any_ Pokemon on a gym visit:\n",
    "\n",
    "$1 - [(1 - p_i) * (1 - p_j) * (1 - ...)]$\n",
    "\n",
    "This is 1 minus the probability of not finding _i_, times the probability of not finding _j_, etc. Because we assumed Pokemon encounters are independent events, that product term gives the probability of not finding any of them.\n",
    "\n",
    "Each probability is simply 1.0 / Total, as this sets $p_i * Total_i$ to 1.\n",
    "\n",
    "The code below calculates this using a [\"functional programming\" approach](http://book.pythontips.com/en/latest/map_filter.html) and [lambda functions](http://stackoverflow.com/questions/890128/why-are-python-lambdas-useful). This is intermediate-level Python; you can **skip these concepts for now if you're still learning the basics**."
   ]
  },
  {
   "cell_type": "code",
   "execution_count": 22,
   "metadata": {},
   "outputs": [
    {
     "data": {
      "text/plain": [
       "0.86523565944278"
      ]
     },
     "execution_count": 22,
     "metadata": {},
     "output_type": "execute_result"
    }
   ],
   "source": [
    "from functools import reduce\n",
    "\n",
    "# \"Map\" the function (1 - 1.0/x) over a list of Total values, made via a list comprehension\n",
    "not_found_probs = map(lambda x: (1 - 1.0/x), [p[3] for p in pd[1:]])\n",
    "\n",
    "# \"Reduce\" the list we just made by multiplying each term by its subsequent term\n",
    "no_pokemon_prob = reduce((lambda x, y: x * y), not_found_probs)\n",
    "\n",
    "# We have prob(no_pokemon); prob(pokemon) and prob(no_pokemon) are collectively exhaustive\n",
    "# and mutually exclusive, so we can just subtract either from 1.0 to get the value of the other\n",
    "1 - no_pokemon_prob"
   ]
  },
  {
   "cell_type": "markdown",
   "metadata": {},
   "source": [
    "If we advise the design team to use this approach, players will encounter a Pokemon on almost 90% of visits. This sounds good: gotta keep people clicking!\n",
    "\n",
    "The actual answer to the question is a very simple function:"
   ]
  },
  {
   "cell_type": "code",
   "execution_count": 25,
   "metadata": {},
   "outputs": [
    {
     "data": {
      "text/plain": [
       "0.0028169014084507044"
      ]
     },
     "execution_count": 25,
     "metadata": {},
     "output_type": "execute_result"
    }
   ],
   "source": [
    "def pokemon_prob(pokemon_id):\n",
    "    \"\"\"Returns a probability p equal \n",
    "    to the inverse of the Pokemon's total stats.\"\"\"\n",
    "    return 1.0 / full_pokedex[pokemon_id]['Total']\n",
    "\n",
    "pokemon_prob(150)"
   ]
  },
  {
   "cell_type": "code",
   "execution_count": null,
   "metadata": {},
   "outputs": [],
   "source": []
  }
 ],
 "metadata": {
  "anaconda-cloud": {},
  "kernelspec": {
   "display_name": "Python [conda env:anaconda3]",
   "language": "python",
   "name": "conda-env-anaconda3-py"
  },
  "language_info": {
   "codemirror_mode": {
    "name": "ipython",
    "version": 3
   },
   "file_extension": ".py",
   "mimetype": "text/x-python",
   "name": "python",
   "nbconvert_exporter": "python",
   "pygments_lexer": "ipython3",
   "version": "3.6.4"
  },
  "toc": {
   "nav_menu": {
    "height": "142px",
    "width": "361px"
   },
   "number_sections": false,
   "sideBar": true,
   "skip_h1_title": true,
   "title_cell": "Table of Contents",
   "title_sidebar": "Contents",
   "toc_cell": true,
   "toc_position": {},
   "toc_section_display": false,
   "toc_window_display": false
  }
 },
 "nbformat": 4,
 "nbformat_minor": 1
}
