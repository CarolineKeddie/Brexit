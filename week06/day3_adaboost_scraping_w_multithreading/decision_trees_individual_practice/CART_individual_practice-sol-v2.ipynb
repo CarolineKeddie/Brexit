{
 "cells": [
  {
   "cell_type": "markdown",
   "metadata": {},
   "source": [
    "## Decision Trees (CART) Algorithm \n",
    "\n",
    "http://scikit-learn.org/stable/modules/tree.html#tree-algorithms-id3-c4-5-c5-0-and-cart\n",
    "\n",
    "Decision trees are a recursive divide and conquer algorithm. They are a non-linear, non-parametric discriminative supervised classification algorithm. There are a few names of decision tree algorithms you may have heard of (ID3, C4.5, CART, etc.) and each is a different specification of a decision tree model."
   ]
  },
  {
   "cell_type": "markdown",
   "metadata": {},
   "source": [
    "## Play Golf Dataset\n",
    "When implementing any ML algorithm for the first time, it is often easier to start with a trivially simple data set. You should always focus on one portion of the pipeline at a time: we do not want worry about cleaning data during feature selection just as we do not want to worry about feature engineering when writing our model building code. We will be using the canonical 'Play Golf' dataset when writing our algorithm.\n",
    "\n",
    "Look at the playgolf.csv is the folder. You will also see a dataset with just the categorial features and one with just the continuous features. Starting with just categorical features may be easier for implementation.\n",
    "\n",
    "### Pseudo-code\n",
    "Here's the pseudocode for the algorithm you will be implementing.:\n",
    "\n",
    "```\n",
    "function BuildTree:\n",
    "    If every item in the dataset is in the same class\n",
    "    or there is no feature left to split the data:\n",
    "        return a leaf node with the class label\n",
    "    Else:\n",
    "        find the best feature and value to split the data\n",
    "        split the dataset\n",
    "        create a node\n",
    "        for each split\n",
    "            call BuildTree and add the result as a child of the node\n",
    "        return node\n",
    "```"
   ]
  },
  {
   "cell_type": "markdown",
   "metadata": {},
   "source": [
    "## Implementation\n",
    "\n",
    "We are going to build the algorithm using OOP. Don't worry most of it has been pre-filled for you. Your job is to fill the methods we left aside.\n"
   ]
  },
  {
   "cell_type": "code",
   "execution_count": 3,
   "metadata": {},
   "outputs": [],
   "source": [
    "import pandas as pd\n",
    "import numpy as np\n",
    "import math\n",
    "from collections import Counter\n",
    "from treenode import TreeNode # pip install treenode"
   ]
  },
  {
   "cell_type": "code",
   "execution_count": 4,
   "metadata": {},
   "outputs": [],
   "source": [
    "df = pd.read_csv('./playgolf.csv')"
   ]
  },
  {
   "cell_type": "code",
   "execution_count": 5,
   "metadata": {},
   "outputs": [
    {
     "data": {
      "text/html": [
       "<div>\n",
       "<style scoped>\n",
       "    .dataframe tbody tr th:only-of-type {\n",
       "        vertical-align: middle;\n",
       "    }\n",
       "\n",
       "    .dataframe tbody tr th {\n",
       "        vertical-align: top;\n",
       "    }\n",
       "\n",
       "    .dataframe thead th {\n",
       "        text-align: right;\n",
       "    }\n",
       "</style>\n",
       "<table border=\"1\" class=\"dataframe\">\n",
       "  <thead>\n",
       "    <tr style=\"text-align: right;\">\n",
       "      <th></th>\n",
       "      <th>Outlook</th>\n",
       "      <th>Temperature</th>\n",
       "      <th>Humidity</th>\n",
       "      <th>Windy</th>\n",
       "      <th>Result</th>\n",
       "    </tr>\n",
       "  </thead>\n",
       "  <tbody>\n",
       "    <tr>\n",
       "      <th>0</th>\n",
       "      <td>sunny</td>\n",
       "      <td>85</td>\n",
       "      <td>85</td>\n",
       "      <td>False</td>\n",
       "      <td>Don't Play</td>\n",
       "    </tr>\n",
       "    <tr>\n",
       "      <th>1</th>\n",
       "      <td>sunny</td>\n",
       "      <td>80</td>\n",
       "      <td>90</td>\n",
       "      <td>True</td>\n",
       "      <td>Don't Play</td>\n",
       "    </tr>\n",
       "    <tr>\n",
       "      <th>2</th>\n",
       "      <td>overcast</td>\n",
       "      <td>83</td>\n",
       "      <td>78</td>\n",
       "      <td>False</td>\n",
       "      <td>Play</td>\n",
       "    </tr>\n",
       "    <tr>\n",
       "      <th>3</th>\n",
       "      <td>rain</td>\n",
       "      <td>70</td>\n",
       "      <td>96</td>\n",
       "      <td>False</td>\n",
       "      <td>Play</td>\n",
       "    </tr>\n",
       "    <tr>\n",
       "      <th>4</th>\n",
       "      <td>rain</td>\n",
       "      <td>68</td>\n",
       "      <td>80</td>\n",
       "      <td>False</td>\n",
       "      <td>Play</td>\n",
       "    </tr>\n",
       "  </tbody>\n",
       "</table>\n",
       "</div>"
      ],
      "text/plain": [
       "    Outlook  Temperature  Humidity  Windy      Result\n",
       "0     sunny           85        85  False  Don't Play\n",
       "1     sunny           80        90   True  Don't Play\n",
       "2  overcast           83        78  False        Play\n",
       "3      rain           70        96  False        Play\n",
       "4      rain           68        80  False        Play"
      ]
     },
     "execution_count": 5,
     "metadata": {},
     "output_type": "execute_result"
    }
   ],
   "source": [
    "df.head()"
   ]
  },
  {
   "cell_type": "markdown",
   "metadata": {},
   "source": [
    "## Steps to Implementing\n",
    "\n",
    "We will be implementing the CART algorithm. This means that every split will be binary. For categorical features, splits will be like: sunny or not sunny. For continuous features, splits will be like: ```<80 or >=80```."
   ]
  },
  {
   "attachments": {
    "image.png": {
     "image/png": "[encoded data removed]"
    }
   },
   "cell_type": "markdown",
   "metadata": {},
   "source": [
    "## Implement the _entropy method, \n",
    "\n",
    "It is given by the following equation. Entropy measures the amount of \"disorder\" in a set. Here there are m classes in the set and ci is the i-th class of our target y.\n",
    "\n",
    "![image.png](attachment:image.png)\n",
    "\n",
    "P(c) = (count of occurrences of class c) / size of y\n",
    "\n",
    "Note that to calculate entropy, you only need the labels (y values) and none of the feature values."
   ]
  },
  {
   "cell_type": "code",
   "execution_count": 6,
   "metadata": {},
   "outputs": [],
   "source": [
    "def _entropy(y):\n",
    "    '''\n",
    "    INPUT: - y: 1d numpy array\n",
    "    OUTPUT: - float\n",
    "    Return the entropy of the array y.\n",
    "    '''\n",
    "    n = y.shape[0]\n",
    "    summation = 0\n",
    "    for c_i in np.unique(y):\n",
    "        prob = sum(y == c_i) / float(n)\n",
    "        summation += prob * np.log2(prob)\n",
    "    return -summation"
   ]
  },
  {
   "cell_type": "code",
   "execution_count": 7,
   "metadata": {},
   "outputs": [],
   "source": [
    "from scipy.stats import entropy"
   ]
  },
  {
   "cell_type": "code",
   "execution_count": 8,
   "metadata": {},
   "outputs": [],
   "source": [
    "ybi = df.Result.map(lambda x: 1 if x == 'Play' else 0)"
   ]
  },
  {
   "cell_type": "code",
   "execution_count": 9,
   "metadata": {},
   "outputs": [
    {
     "data": {
      "text/plain": [
       "0.9402859586706311"
      ]
     },
     "execution_count": 9,
     "metadata": {},
     "output_type": "execute_result"
    }
   ],
   "source": [
    "p = sum(ybi)/float(len(ybi))\n",
    "entropy([p,(1-p)], base=2)"
   ]
  },
  {
   "cell_type": "code",
   "execution_count": 10,
   "metadata": {},
   "outputs": [
    {
     "data": {
      "text/plain": [
       "0.9402859586706311"
      ]
     },
     "execution_count": 10,
     "metadata": {},
     "output_type": "execute_result"
    }
   ],
   "source": [
    "_entropy(df.Result)"
   ]
  },
  {
   "attachments": {
    "image.png": {
     "image/png": "[encoded data removed]"
    }
   },
   "cell_type": "markdown",
   "metadata": {},
   "source": [
    "## Implement the _gini method. \n",
    "\n",
    "Your information gain method will be able to use either gini or entropy. Use the following formula to implement the Gini entropy.\n",
    "![image.png](attachment:image.png)"
   ]
  },
  {
   "cell_type": "code",
   "execution_count": 11,
   "metadata": {},
   "outputs": [],
   "source": [
    "def _gini(y):\n",
    "    '''\n",
    "    INPUT: - y: 1d numpy array\n",
    "    OUTPUT: - float\n",
    "    Return the gini impurity of the array y.\n",
    "    '''\n",
    "    n = y.shape[0]\n",
    "    summation = 0\n",
    "    for c_i in np.unique(y):\n",
    "        prob = sum(y == c_i) / float(n)\n",
    "        summation += prob**2\n",
    "    return 1 - summation\n"
   ]
  },
  {
   "cell_type": "code",
   "execution_count": 12,
   "metadata": {},
   "outputs": [
    {
     "data": {
      "text/plain": [
       "0.4591836734693877"
      ]
     },
     "execution_count": 12,
     "metadata": {},
     "output_type": "execute_result"
    }
   ],
   "source": [
    "_gini(df.Result)"
   ]
  },
  {
   "cell_type": "markdown",
   "metadata": {},
   "source": [
    "## Implement the _make_split method\n",
    "\n",
    "This should take the index of the feature and the value of the feature and make the split of the data into two subsets. Note that for categorical features this should split on weather it's equal to the value of not. For continuous, it should split on < or >=."
   ]
  },
  {
   "cell_type": "code",
   "execution_count": 13,
   "metadata": {},
   "outputs": [],
   "source": [
    "def _make_split( X, y, split_index, split_value):\n",
    "    '''\n",
    "    INPUT:\n",
    "        - X: 2d numpy array\n",
    "        - y: 1d numpy array\n",
    "        - split_index: int (index of feature)\n",
    "        - split_value: int/float/bool/str (value of feature)\n",
    "    OUTPUT:\n",
    "        - X1: 2d numpy array (feature matrix for subset 1)\n",
    "        - y1: 1d numpy array (labels for subset 1)\n",
    "        - X2: 2d numpy array (feature matrix for subset 2)\n",
    "        - y2: 1d numpy array (labels for subset 2)\n",
    "\n",
    "    Return the two subsets of the dataset achieved by the given feature and\n",
    "    value to split on.\n",
    "    '''\n",
    "    if is_categorical:\n",
    "        idx = X[:, split_index] == split_value\n",
    "    else:\n",
    "        idx = X[:, split_index] < split_value\n",
    "    return X[idx], y[idx], X[idx == False], y[idx == False]"
   ]
  },
  {
   "cell_type": "markdown",
   "metadata": {},
   "source": [
    "## Implement the _information_gain method \n",
    "\n",
    "This should take a split (the result of the _make_split method) and return the value of the information gain."
   ]
  },
  {
   "cell_type": "code",
   "execution_count": 14,
   "metadata": {},
   "outputs": [],
   "source": [
    "def _information_gain(y, y1, y2):\n",
    "    '''\n",
    "    INPUT:\n",
    "        - y: 1d numpy array\n",
    "        - y1: 1d numpy array (labels for subset 1)\n",
    "        - y2: 1d numpy array (labels for subset 2)\n",
    "    OUTPUT:\n",
    "        - float\n",
    "\n",
    "    Return the information gain of making the given split.\n",
    "\n",
    "    Use impurity_criterion(y) (as an argument) rather than calling _entropy or _gini\n",
    "    directly.\n",
    "    '''\n",
    "    n = y.shape[0]\n",
    "    child_inf = 0\n",
    "    for y_i in (y1, y2):\n",
    "        child_inf += impurity_criterion(y_i) * y_i.shape[0] / float(n)\n",
    "    return impurity_criterion(y) - child_inf"
   ]
  },
  {
   "cell_type": "markdown",
   "metadata": {},
   "source": [
    "\n",
    "## The TreeNode class is implemented. These are the instance variables:\n",
    "\n",
    "- column (int): index of feature to split on\n",
    "- split_value (object): value of the feature to split on\n",
    "- categorical (bool): whether or not node is split on a categorial feature (vs continuous)\n",
    "- name (string): name of the feature (or name of the class in the case of a list)\n",
    "- left (TreeNode): left child\n",
    "- right (Tree Node): right child\n",
    "- leaf (boolean): true or false depending on if the node is a leaf node.\n",
    "- classes (Counter): if a leaf, a count of all the list of all the classes of the data points - that terminate at this leaf. Can be used to assess how \"accurate\" an individual leaf is.\n",
    "\n",
    "The as_string and __str__ functions are designed to print out the decision tree (mostly for debugging).\n",
    "\n",
    "The __init__, fit, _build_tree and __str__ methods are already implemented for you. You will need to implement the other ones.\n",
    "\n",
    "### In the following class, replace the empty methods with the ones you just created (be carefull of adding the (self variable and calling the right class variable in your functions) :"
   ]
  },
  {
   "cell_type": "code",
   "execution_count": 15,
   "metadata": {},
   "outputs": [],
   "source": [
    "\n",
    "class DecisionTree(object):\n",
    "    '''\n",
    "    A decision tree class.\n",
    "    '''\n",
    "\n",
    "    def __init__(self, impurity_criterion='entropy'):\n",
    "        '''\n",
    "        Initialize an empty DecisionTree.\n",
    "        '''\n",
    "\n",
    "        self.root = None  # root Node\n",
    "        self.feature_names = None  # string names of features (for interpreting\n",
    "                                   # the tree)\n",
    "        self.categorical = None  # Boolean array of whether variable is\n",
    "                                 # categorical (or continuous)\n",
    "        self.impurity_criterion = self._entropy \\\n",
    "                                  if impurity_criterion == 'entropy' \\\n",
    "                                  else self._gini\n",
    "\n",
    "    def fit(self, X, y, feature_names=None):\n",
    "        '''\n",
    "        INPUT:\n",
    "            - X: 2d numpy array\n",
    "            - y: 1d numpy array\n",
    "            - feature_names: numpy array of strings\n",
    "        OUTPUT: None\n",
    "\n",
    "        Build the decision tree.\n",
    "        X is a 2 dimensional array with each column being a feature and each\n",
    "        row a data point.\n",
    "        y is a 1 dimensional array with each value being the corresponding\n",
    "        label.\n",
    "        feature_names is an optional list containing the names of each of the\n",
    "        features.\n",
    "        '''\n",
    "\n",
    "        if feature_names is None or len(feature_names) != X.shape[1]:\n",
    "            self.feature_names = np.arange(X.shape[1])\n",
    "        else:\n",
    "            self.feature_names = feature_names\n",
    "\n",
    "        # Create True/False array of whether the variable is categorical\n",
    "        is_categorical = lambda x: isinstance(x, str) or \\\n",
    "                                   isinstance(x, bool) or \\\n",
    "                                   isinstance(x, unicode)\n",
    "        self.categorical = np.vectorize(is_categorical)(X[0])\n",
    "\n",
    "        self.root = self._build_tree(X, y)\n",
    "\n",
    "    def _build_tree(self, X, y):\n",
    "        '''\n",
    "        INPUT:\n",
    "            - X: 2d numpy array\n",
    "            - y: 1d numpy array\n",
    "        OUTPUT:\n",
    "            - TreeNode\n",
    "\n",
    "        Recursively build the decision tree. Return the root node.\n",
    "        '''\n",
    "\n",
    "        node = TreeNode()\n",
    "        index, value, splits = self._choose_split_index(X, y)\n",
    "\n",
    "        if index is None or len(np.unique(y)) == 1:\n",
    "            node.leaf = True\n",
    "            node.classes = Counter(y)\n",
    "            node.name = node.classes.most_common(1)[0][0]\n",
    "        else:\n",
    "            X1, y1, X2, y2 = splits\n",
    "            node.column = index\n",
    "            node.name = self.feature_names[index]\n",
    "            node.value = value\n",
    "            node.categorical = self.categorical[index]\n",
    "            node.left = self._build_tree(X1, y1)\n",
    "            node.right = self._build_tree(X2, y2)\n",
    "        return node\n",
    "\n",
    "    def _entropy(self, y):\n",
    "        '''\n",
    "        INPUT:\n",
    "            - y: 1d numpy array\n",
    "        OUTPUT:\n",
    "            - float\n",
    "\n",
    "        Return the entropy of the array y.\n",
    "        '''\n",
    "        n = y.shape[0]\n",
    "        summation = 0\n",
    "        for c_i in np.unique(y):\n",
    "            prob = sum(y == c_i) / float(n)\n",
    "            summation += prob * np.log2(prob)\n",
    "        return -summation\n",
    "\n",
    "    def _gini(self, y):\n",
    "        '''\n",
    "        INPUT:\n",
    "            - y: 1d numpy array\n",
    "        OUTPUT:\n",
    "            - float\n",
    "\n",
    "        Return the gini impurity of the array y.\n",
    "        '''\n",
    "        n = y.shape[0]\n",
    "        summation = 0\n",
    "        for c_i in np.unique(y):\n",
    "            prob = sum(y == c_i) / float(n)\n",
    "            summation += prob**2\n",
    "        return 1 - summation\n",
    "\n",
    "    def _make_split(self, X, y, split_index, split_value):\n",
    "        '''\n",
    "        INPUT:\n",
    "            - X: 2d numpy array\n",
    "            - y: 1d numpy array\n",
    "            - split_index: int (index of feature)\n",
    "            - split_value: int/float/bool/str (value of feature)\n",
    "        OUTPUT:\n",
    "            - X1: 2d numpy array (feature matrix for subset 1)\n",
    "            - y1: 1d numpy array (labels for subset 1)\n",
    "            - X2: 2d numpy array (feature matrix for subset 2)\n",
    "            - y2: 1d numpy array (labels for subset 2)\n",
    "\n",
    "        Return the two subsets of the dataset achieved by the given feature and\n",
    "        value to split on.\n",
    "\n",
    "        Call the method like this:\n",
    "        >>> X1, y1, X2, y2 = self._make_split(X, y, split_index, split_value)\n",
    "\n",
    "        X1, y1 is a subset of the data.\n",
    "        X2, y2 is the other subset of the data.\n",
    "        '''\n",
    "        if self.categorical[split_index]:\n",
    "            idx = X[:, split_index] == split_value\n",
    "        else:\n",
    "            idx = X[:, split_index] < split_value\n",
    "        return X[idx], y[idx], X[idx == False], y[idx == False]\n",
    "\n",
    "    def _information_gain(self, y, y1, y2):\n",
    "        '''\n",
    "        INPUT:\n",
    "            - y: 1d numpy array\n",
    "            - y1: 1d numpy array (labels for subset 1)\n",
    "            - y2: 1d numpy array (labels for subset 2)\n",
    "        OUTPUT:\n",
    "            - float\n",
    "\n",
    "        Return the information gain of making the given split.\n",
    "\n",
    "        Use self.impurity_criterion(y) rather than calling _entropy or _gini\n",
    "        directly.\n",
    "        '''\n",
    "        n = y.shape[0]\n",
    "        child_inf = 0\n",
    "        for y_i in (y1, y2):\n",
    "            child_inf += self.impurity_criterion(y_i) * y_i.shape[0] / float(n)\n",
    "        return self.impurity_criterion(y) - child_inf\n",
    "\n",
    "    def _choose_split_index(self, X, y):\n",
    "        '''\n",
    "        INPUT:\n",
    "            - X: 2d numpy array\n",
    "            - y: 1d numpy array\n",
    "        OUTPUT:\n",
    "            - index: int (index of feature)\n",
    "            - value: int/float/bool/str (value of feature)\n",
    "            - splits: (2d array, 1d array, 2d array, 1d array)\n",
    "\n",
    "        Determine which feature and value to split on. Return the index and\n",
    "        value of the optimal split along with the split of the dataset.\n",
    "\n",
    "        Return None, None, None if there is no split which improves information\n",
    "        gain.\n",
    "\n",
    "        Call the method like this:\n",
    "        >>> index, value, splits = self._choose_split_index(X, y)\n",
    "        >>> X1, y1, X2, y2 = splits\n",
    "        '''\n",
    "        split_index, split_value, splits = None, None, None\n",
    "        gain = 0\n",
    "        for i in xrange(X.shape[1]):\n",
    "            values = np.unique(X[:, i])\n",
    "            if len(values) < 1:\n",
    "                continue\n",
    "            for value in values:\n",
    "                X1, y1, X2, y2 = self._make_split(X, y, i, value)\n",
    "                new_gain = self._information_gain(y, y1, y2)\n",
    "                if new_gain > gain:\n",
    "                    split_index = i\n",
    "                    split_value = value\n",
    "                    splits = (X1, y1, X2, y2)\n",
    "                    gain = new_gain\n",
    "        return split_index, split_value, splits\n",
    "\n",
    "    def predict(self, X):\n",
    "        '''\n",
    "        INPUT:\n",
    "            - X: 2d numpy array\n",
    "        OUTPUT:\n",
    "            - y: 1d numpy array\n",
    "\n",
    "        Return an array of predictions for the feature matrix X.\n",
    "        '''\n",
    "\n",
    "        return np.array([self.root.predict_one(row) for row in X])\n",
    "\n",
    "    def __str__(self):\n",
    "        '''\n",
    "        Return string representation of the Decision Tree.\n",
    "        '''\n",
    "        return str(self.root)\n"
   ]
  },
  {
   "cell_type": "code",
   "execution_count": null,
   "metadata": {},
   "outputs": [],
   "source": []
  }
 ],
 "metadata": {
  "kernelspec": {
   "display_name": "Python 3",
   "language": "python",
   "name": "python3"
  },
  "language_info": {
   "codemirror_mode": {
    "name": "ipython",
    "version": 3
   },
   "file_extension": ".py",
   "mimetype": "text/x-python",
   "name": "python",
   "nbconvert_exporter": "python",
   "pygments_lexer": "ipython3",
   "version": "3.6.4"
  },
  "varInspector": {
   "cols": {
    "lenName": 16,
    "lenType": 16,
    "lenVar": 40
   },
   "kernels_config": {
    "python": {
     "delete_cmd_postfix": "",
     "delete_cmd_prefix": "del ",
     "library": "var_list.py",
     "varRefreshCmd": "print(var_dic_list())"
    },
    "r": {
     "delete_cmd_postfix": ") ",
     "delete_cmd_prefix": "rm(",
     "library": "var_list.r",
     "varRefreshCmd": "cat(var_dic_list()) "
    }
   },
   "types_to_exclude": [
    "module",
    "function",
    "builtin_function_or_method",
    "instance",
    "_Feature"
   ],
   "window_display": false
  }
 },
 "nbformat": 4,
 "nbformat_minor": 2
}
