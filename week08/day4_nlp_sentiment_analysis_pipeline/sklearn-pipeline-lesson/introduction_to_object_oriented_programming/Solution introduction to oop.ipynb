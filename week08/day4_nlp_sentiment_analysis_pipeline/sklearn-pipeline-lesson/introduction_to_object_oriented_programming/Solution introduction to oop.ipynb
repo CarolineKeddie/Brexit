{
 "cells": [
  {
   "cell_type": "code",
   "execution_count": 1,
   "metadata": {},
   "outputs": [],
   "source": [
    "class User(object):\n",
    "    def __init__(self, name, balance, checking_account):\n",
    "        self.name = name\n",
    "        self.balance = balance\n",
    "        self.checking_account = checking_account\n",
    "\n",
    "    def withdraw(self, v):\n",
    "        if v > self.balance:\n",
    "            raise ValueError()\n",
    "        self.balance -= v\n",
    "        return \"{} has {}.\".format(self.name, int(self.balance))\n",
    "\n",
    "    def add_cash(self, v):\n",
    "        self.balance += v\n",
    "        return \"{} has {}.\".format(self.name, int(self.balance))\n",
    "\n",
    "    def check(self, other, v):\n",
    "        if not other.checking_account:\n",
    "            raise ValueError()\n",
    "        s1, s2 = other.withdraw(v), self.add_cash(v)[:-1]\n",
    "        return \"{} and {}\".format(s2, s1)\n",
    "\n",
    "    def __str__(self): return \"User({}, {}, {})\".format(\n",
    "        self.name, self.balance, self.checking_account)"
   ]
  },
  {
   "cell_type": "code",
   "execution_count": null,
   "metadata": {},
   "outputs": [],
   "source": []
  }
 ],
 "metadata": {
  "kernelspec": {
   "display_name": "Python 3",
   "language": "python",
   "name": "python3"
  },
  "language_info": {
   "codemirror_mode": {
    "name": "ipython",
    "version": 3
   },
   "file_extension": ".py",
   "mimetype": "text/x-python",
   "name": "python",
   "nbconvert_exporter": "python",
   "pygments_lexer": "ipython3",
   "version": "3.6.4"
  },
  "varInspector": {
   "cols": {
    "lenName": 16,
    "lenType": 16,
    "lenVar": 40
   },
   "kernels_config": {
    "python": {
     "delete_cmd_postfix": "",
     "delete_cmd_prefix": "del ",
     "library": "var_list.py",
     "varRefreshCmd": "print(var_dic_list())"
    },
    "r": {
     "delete_cmd_postfix": ") ",
     "delete_cmd_prefix": "rm(",
     "library": "var_list.r",
     "varRefreshCmd": "cat(var_dic_list()) "
    }
   },
   "types_to_exclude": [
    "module",
    "function",
    "builtin_function_or_method",
    "instance",
    "_Feature"
   ],
   "window_display": false
  }
 },
 "nbformat": 4,
 "nbformat_minor": 2
}
